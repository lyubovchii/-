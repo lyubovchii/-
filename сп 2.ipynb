{
 "cells": [
  {
   "cell_type": "markdown",
   "id": "98de8442-9628-42eb-8747-1a0165a7f046",
   "metadata": {},
   "source": [
    "# Сборный проект по анализу поведения пользователей мобильного приложения продуктов питания"
   ]
  },
  {
   "cell_type": "markdown",
   "id": "40cb2b50-9197-4cae-847f-6d49d30adbb7",
   "metadata": {},
   "source": [
    "Вы работаете в стартапе, который продаёт продукты питания. Нужно разобраться, как ведут себя пользователи вашего мобильного приложения. \n",
    "\n",
    "План работы включает в себя следующие этапы:\n",
    "- загрузка данных и изучение общей информации\n",
    "- предобработка данных\n",
    "- изучение и проверка данных\n",
    "- изучение воронки событий (какая доля пользователей проходит на следующий шаг воронки; на каком шаге теряется больше всего пользователей; какая доля пользователей доходит от первого события до оплаты)\n",
    "- изучение результатов эксперимента и проведение А/А/В-теста\n",
    "- подведение итогов"
   ]
  },
  {
   "cell_type": "markdown",
   "id": "e3e578f4-b003-4952-ae3c-342c71673b56",
   "metadata": {},
   "source": [
    "## Загрузка данных и изучение общей информации"
   ]
  },
  {
   "cell_type": "code",
   "execution_count": 1,
   "id": "a38a327c-9822-4b7e-b09d-65c9381f9fdd",
   "metadata": {},
   "outputs": [],
   "source": [
    "#импорт необходимых библиотек\n",
    "import pandas as pd\n",
    "import datetime as dt\n",
    "import numpy as np\n",
    "import matplotlib.pyplot as plt\n",
    "from scipy import stats as st\n",
    "import math as mth"
   ]
  },
  {
   "cell_type": "code",
   "execution_count": 2,
   "id": "0b4aa0b7-701f-4458-9492-d2b7402a1b4b",
   "metadata": {},
   "outputs": [
    {
     "name": "stdout",
     "output_type": "stream",
     "text": [
      "<class 'pandas.core.frame.DataFrame'>\n",
      "RangeIndex: 244126 entries, 0 to 244125\n",
      "Data columns (total 4 columns):\n",
      " #   Column          Non-Null Count   Dtype \n",
      "---  ------          --------------   ----- \n",
      " 0   EventName       244126 non-null  object\n",
      " 1   DeviceIDHash    244126 non-null  int64 \n",
      " 2   EventTimestamp  244126 non-null  int64 \n",
      " 3   ExpId           244126 non-null  int64 \n",
      "dtypes: int64(3), object(1)\n",
      "memory usage: 7.5+ MB\n"
     ]
    },
    {
     "data": {
      "text/html": [
       "<div>\n",
       "<style scoped>\n",
       "    .dataframe tbody tr th:only-of-type {\n",
       "        vertical-align: middle;\n",
       "    }\n",
       "\n",
       "    .dataframe tbody tr th {\n",
       "        vertical-align: top;\n",
       "    }\n",
       "\n",
       "    .dataframe thead th {\n",
       "        text-align: right;\n",
       "    }\n",
       "</style>\n",
       "<table border=\"1\" class=\"dataframe\">\n",
       "  <thead>\n",
       "    <tr style=\"text-align: right;\">\n",
       "      <th></th>\n",
       "      <th>EventName</th>\n",
       "      <th>DeviceIDHash</th>\n",
       "      <th>EventTimestamp</th>\n",
       "      <th>ExpId</th>\n",
       "    </tr>\n",
       "  </thead>\n",
       "  <tbody>\n",
       "    <tr>\n",
       "      <th>0</th>\n",
       "      <td>MainScreenAppear</td>\n",
       "      <td>4575588528974610257</td>\n",
       "      <td>1564029816</td>\n",
       "      <td>246</td>\n",
       "    </tr>\n",
       "    <tr>\n",
       "      <th>1</th>\n",
       "      <td>MainScreenAppear</td>\n",
       "      <td>7416695313311560658</td>\n",
       "      <td>1564053102</td>\n",
       "      <td>246</td>\n",
       "    </tr>\n",
       "    <tr>\n",
       "      <th>2</th>\n",
       "      <td>PaymentScreenSuccessful</td>\n",
       "      <td>3518123091307005509</td>\n",
       "      <td>1564054127</td>\n",
       "      <td>248</td>\n",
       "    </tr>\n",
       "    <tr>\n",
       "      <th>3</th>\n",
       "      <td>CartScreenAppear</td>\n",
       "      <td>3518123091307005509</td>\n",
       "      <td>1564054127</td>\n",
       "      <td>248</td>\n",
       "    </tr>\n",
       "    <tr>\n",
       "      <th>4</th>\n",
       "      <td>PaymentScreenSuccessful</td>\n",
       "      <td>6217807653094995999</td>\n",
       "      <td>1564055322</td>\n",
       "      <td>248</td>\n",
       "    </tr>\n",
       "    <tr>\n",
       "      <th>...</th>\n",
       "      <td>...</td>\n",
       "      <td>...</td>\n",
       "      <td>...</td>\n",
       "      <td>...</td>\n",
       "    </tr>\n",
       "    <tr>\n",
       "      <th>244121</th>\n",
       "      <td>MainScreenAppear</td>\n",
       "      <td>4599628364049201812</td>\n",
       "      <td>1565212345</td>\n",
       "      <td>247</td>\n",
       "    </tr>\n",
       "    <tr>\n",
       "      <th>244122</th>\n",
       "      <td>MainScreenAppear</td>\n",
       "      <td>5849806612437486590</td>\n",
       "      <td>1565212439</td>\n",
       "      <td>246</td>\n",
       "    </tr>\n",
       "    <tr>\n",
       "      <th>244123</th>\n",
       "      <td>MainScreenAppear</td>\n",
       "      <td>5746969938801999050</td>\n",
       "      <td>1565212483</td>\n",
       "      <td>246</td>\n",
       "    </tr>\n",
       "    <tr>\n",
       "      <th>244124</th>\n",
       "      <td>MainScreenAppear</td>\n",
       "      <td>5746969938801999050</td>\n",
       "      <td>1565212498</td>\n",
       "      <td>246</td>\n",
       "    </tr>\n",
       "    <tr>\n",
       "      <th>244125</th>\n",
       "      <td>OffersScreenAppear</td>\n",
       "      <td>5746969938801999050</td>\n",
       "      <td>1565212517</td>\n",
       "      <td>246</td>\n",
       "    </tr>\n",
       "  </tbody>\n",
       "</table>\n",
       "<p>244126 rows × 4 columns</p>\n",
       "</div>"
      ],
      "text/plain": [
       "                      EventName         DeviceIDHash  EventTimestamp  ExpId\n",
       "0              MainScreenAppear  4575588528974610257      1564029816    246\n",
       "1              MainScreenAppear  7416695313311560658      1564053102    246\n",
       "2       PaymentScreenSuccessful  3518123091307005509      1564054127    248\n",
       "3              CartScreenAppear  3518123091307005509      1564054127    248\n",
       "4       PaymentScreenSuccessful  6217807653094995999      1564055322    248\n",
       "...                         ...                  ...             ...    ...\n",
       "244121         MainScreenAppear  4599628364049201812      1565212345    247\n",
       "244122         MainScreenAppear  5849806612437486590      1565212439    246\n",
       "244123         MainScreenAppear  5746969938801999050      1565212483    246\n",
       "244124         MainScreenAppear  5746969938801999050      1565212498    246\n",
       "244125       OffersScreenAppear  5746969938801999050      1565212517    246\n",
       "\n",
       "[244126 rows x 4 columns]"
      ]
     },
     "execution_count": 2,
     "metadata": {},
     "output_type": "execute_result"
    }
   ],
   "source": [
    "#выгрузка данных\n",
    "try:\n",
    "    df = pd.read_csv(\"C:/Users/Любовь/Downloads/logs_exp.csv\", sep='\\t')\n",
    "except:\n",
    "    df = pd.read_csv(\"https://code.s3.yandex.net/datasets/logs_exp.csv\", sep='\\t')\n",
    "\n",
    "df.info()\n",
    "df"
   ]
  },
  {
   "cell_type": "code",
   "execution_count": 3,
   "id": "74f1006b-7e6c-401d-9de1-ea88e672d5d1",
   "metadata": {},
   "outputs": [
    {
     "data": {
      "text/plain": [
       "244126"
      ]
     },
     "execution_count": 3,
     "metadata": {},
     "output_type": "execute_result"
    }
   ],
   "source": [
    "part1 = df.shape[0]\n",
    "part1"
   ]
  },
  {
   "cell_type": "markdown",
   "id": "49796111-7eab-4246-bd2f-ff954adf90ee",
   "metadata": {},
   "source": [
    "**Промежуточные выводы:** в таблице с данными о событиях содержится 4 столбца и 244126 строк, пропусков не обнаружено. В данных есть недочеты, которые будут исправлены на следующем этапе."
   ]
  },
  {
   "cell_type": "markdown",
   "id": "125a71ba-984c-4cac-9be2-a84053bb5b60",
   "metadata": {},
   "source": [
    "## Предобработка данных"
   ]
  },
  {
   "cell_type": "code",
   "execution_count": 4,
   "id": "baef899f-c81d-4a26-9b6a-062c621f2de1",
   "metadata": {},
   "outputs": [],
   "source": [
    "#изменение названия столбцов\n",
    "df = df.rename(columns={'EventName':'event', 'DeviceIDHash':'user_id', 'EventTimestamp':'timestamp', 'ExpId':'exp_id'})"
   ]
  },
  {
   "cell_type": "code",
   "execution_count": 5,
   "id": "767c4678-bca0-415d-beae-10ac67c8d561",
   "metadata": {},
   "outputs": [
    {
     "name": "stdout",
     "output_type": "stream",
     "text": [
      "<class 'pandas.core.frame.DataFrame'>\n",
      "RangeIndex: 244126 entries, 0 to 244125\n",
      "Data columns (total 6 columns):\n",
      " #   Column     Non-Null Count   Dtype         \n",
      "---  ------     --------------   -----         \n",
      " 0   event      244126 non-null  object        \n",
      " 1   user_id    244126 non-null  int64         \n",
      " 2   timestamp  244126 non-null  int64         \n",
      " 3   exp_id     244126 non-null  int64         \n",
      " 4   datetime   244126 non-null  datetime64[ns]\n",
      " 5   date       244126 non-null  object        \n",
      "dtypes: datetime64[ns](1), int64(3), object(2)\n",
      "memory usage: 11.2+ MB\n"
     ]
    }
   ],
   "source": [
    "#добавление столбца даты и времени, а также отдельного столбца дат\n",
    "df['datetime'] = pd.to_datetime(df['timestamp'], unit='s')\n",
    "df['date'] = pd.to_datetime(df['datetime']).dt.date\n",
    "df.info()"
   ]
  },
  {
   "cell_type": "code",
   "execution_count": 6,
   "id": "85a80b5a-0ec0-4005-b3c2-cd294c02c5fe",
   "metadata": {},
   "outputs": [
    {
     "name": "stdout",
     "output_type": "stream",
     "text": [
      "Доля исключенных событий: 0.0017\n"
     ]
    }
   ],
   "source": [
    "df = df.drop_duplicates()\n",
    "part2 = df.shape[0]\n",
    "print('Доля исключенных событий:', round(1 - part2/part1, 4))"
   ]
  },
  {
   "cell_type": "code",
   "execution_count": 7,
   "id": "3a88733d",
   "metadata": {},
   "outputs": [
    {
     "data": {
      "text/plain": [
       "Series([], Name: exp_id, dtype: int64)"
      ]
     },
     "execution_count": 7,
     "metadata": {},
     "output_type": "execute_result"
    }
   ],
   "source": [
    "#проверяем, есть ли пользователи, попавшие в несколько групп сразу\n",
    "user_groups = df.groupby('user_id')['exp_id'].nunique()\n",
    "user_groups = user_groups[user_groups > 1]\n",
    "user_groups"
   ]
  },
  {
   "cell_type": "markdown",
   "id": "f7e028e2-9e43-4fc6-9f51-12614846b3ed",
   "metadata": {},
   "source": [
    "**Промежуточные выводы:** в датафрейм добавила столбцы с датой и временем и отдельно с датой, изменила их типы на необходимые. Названия стобцов переименовала на удобные и оформила в одном стиле. Пропусков в данных нет. Были выявлены дубликаты, которые занимали 0.17% от всех данных, поэтому их смело удалила. Пользователей, попавших сразу в несколько групп, нет. Можно приступать к следующему этапу."
   ]
  },
  {
   "cell_type": "markdown",
   "id": "156d9d0e-4b36-4b7b-a05a-246f9d4c6291",
   "metadata": {},
   "source": [
    "## Изучение и проверка данных"
   ]
  },
  {
   "cell_type": "code",
   "execution_count": 8,
   "id": "5963a7f0-d19c-4fba-8c3b-0576d46b8a69",
   "metadata": {},
   "outputs": [
    {
     "name": "stdout",
     "output_type": "stream",
     "text": [
      "Всего событий в логе: 243713\n",
      "Уникальных событий в логе 5 : ['MainScreenAppear' 'PaymentScreenSuccessful' 'CartScreenAppear'\n",
      " 'OffersScreenAppear' 'Tutorial']\n"
     ]
    }
   ],
   "source": [
    "events = df['event'].count()\n",
    "print('Всего событий в логе:', events)\n",
    "print('Уникальных событий в логе', df['event'].nunique(), ':', df['event'].unique())"
   ]
  },
  {
   "cell_type": "code",
   "execution_count": 9,
   "id": "cdd729bb-93f1-4bd3-9a7c-bdce481d10ef",
   "metadata": {},
   "outputs": [
    {
     "name": "stdout",
     "output_type": "stream",
     "text": [
      "Всего пользователей в логе: 243713\n",
      "Уникальных пользователей в логе: 7551\n"
     ]
    }
   ],
   "source": [
    "uniq_users = df['user_id'].nunique()\n",
    "print('Всего пользователей в логе:', df['user_id'].count())\n",
    "print('Уникальных пользователей в логе:', uniq_users)"
   ]
  },
  {
   "cell_type": "code",
   "execution_count": 10,
   "id": "72dc156a-bc28-487f-a8e3-c87947777dc9",
   "metadata": {},
   "outputs": [
    {
     "name": "stdout",
     "output_type": "stream",
     "text": [
      "Среднее количество событий на пользователя: 32.3\n"
     ]
    }
   ],
   "source": [
    "print('Среднее количество событий на пользователя:', round(events/uniq_users, 1))"
   ]
  },
  {
   "cell_type": "code",
   "execution_count": 11,
   "id": "d7f7a8a9-1ba3-4a31-bf03-2d07f62464b8",
   "metadata": {},
   "outputs": [
    {
     "name": "stdout",
     "output_type": "stream",
     "text": [
      "Данные, которыми мы располагаем, представлены за период с 2019-07-25 04:43:36 по 2019-08-07 21:15:17\n",
      "Всего дней: 13 days 16:31:41\n"
     ]
    }
   ],
   "source": [
    "min_data = df['datetime'].min()\n",
    "max_data = df['datetime'].max()\n",
    "print(f'Данные, которыми мы располагаем, представлены за период с {min_data} по {max_data}')\n",
    "print(f'Всего дней: {max_data - min_data}')"
   ]
  },
  {
   "cell_type": "code",
   "execution_count": 12,
   "id": "2af08cd1-4ff1-4c41-84ff-220cf28da6d0",
   "metadata": {},
   "outputs": [
    {
     "data": {
      "text/plain": [
       "<Figure size 864x576 with 0 Axes>"
      ]
     },
     "metadata": {},
     "output_type": "display_data"
    },
    {
     "data": {
      "image/png": "[encoded data removed]",
      "text/plain": [
       "<Figure size 432x288 with 1 Axes>"
      ]
     },
     "metadata": {
      "needs_background": "light"
     },
     "output_type": "display_data"
    }
   ],
   "source": [
    "#создадим переменную, в которой сгруппируем данные по дате и группе, посчитаем кол-во событий\n",
    "event_per_date = df.groupby(['date', 'exp_id'])['event'].count().reset_index()\n",
    "pivot_data = event_per_date.pivot_table(index='date', columns='exp_id', values='event')\n",
    "\n",
    "plt.figure(figsize=(12,8))\n",
    "pivot_data.plot(kind='bar')\n",
    "plt.xlabel('Дата')\n",
    "plt.ylabel('Кол-во событий')\n",
    "plt.title('Столбчатая диаграмма с количеством событий в зависимости от времени и группы')\n",
    "plt.show();"
   ]
  },
  {
   "cell_type": "code",
   "execution_count": 13,
   "id": "e7e5fb46-e8ea-4144-a261-1d4055b15533",
   "metadata": {},
   "outputs": [
    {
     "data": {
      "text/html": [
       "<div>\n",
       "<style scoped>\n",
       "    .dataframe tbody tr th:only-of-type {\n",
       "        vertical-align: middle;\n",
       "    }\n",
       "\n",
       "    .dataframe tbody tr th {\n",
       "        vertical-align: top;\n",
       "    }\n",
       "\n",
       "    .dataframe thead th {\n",
       "        text-align: right;\n",
       "    }\n",
       "</style>\n",
       "<table border=\"1\" class=\"dataframe\">\n",
       "  <thead>\n",
       "    <tr style=\"text-align: right;\">\n",
       "      <th></th>\n",
       "      <th>event</th>\n",
       "      <th>user_id</th>\n",
       "      <th>timestamp</th>\n",
       "      <th>exp_id</th>\n",
       "      <th>datetime</th>\n",
       "      <th>date</th>\n",
       "    </tr>\n",
       "  </thead>\n",
       "  <tbody>\n",
       "    <tr>\n",
       "      <th>2828</th>\n",
       "      <td>Tutorial</td>\n",
       "      <td>3737462046622621720</td>\n",
       "      <td>1564618048</td>\n",
       "      <td>246</td>\n",
       "      <td>2019-08-01 00:07:28</td>\n",
       "      <td>2019-08-01</td>\n",
       "    </tr>\n",
       "    <tr>\n",
       "      <th>2829</th>\n",
       "      <td>MainScreenAppear</td>\n",
       "      <td>3737462046622621720</td>\n",
       "      <td>1564618080</td>\n",
       "      <td>246</td>\n",
       "      <td>2019-08-01 00:08:00</td>\n",
       "      <td>2019-08-01</td>\n",
       "    </tr>\n",
       "    <tr>\n",
       "      <th>2830</th>\n",
       "      <td>MainScreenAppear</td>\n",
       "      <td>3737462046622621720</td>\n",
       "      <td>1564618135</td>\n",
       "      <td>246</td>\n",
       "      <td>2019-08-01 00:08:55</td>\n",
       "      <td>2019-08-01</td>\n",
       "    </tr>\n",
       "    <tr>\n",
       "      <th>2831</th>\n",
       "      <td>OffersScreenAppear</td>\n",
       "      <td>3737462046622621720</td>\n",
       "      <td>1564618138</td>\n",
       "      <td>246</td>\n",
       "      <td>2019-08-01 00:08:58</td>\n",
       "      <td>2019-08-01</td>\n",
       "    </tr>\n",
       "    <tr>\n",
       "      <th>2832</th>\n",
       "      <td>MainScreenAppear</td>\n",
       "      <td>1433840883824088890</td>\n",
       "      <td>1564618139</td>\n",
       "      <td>247</td>\n",
       "      <td>2019-08-01 00:08:59</td>\n",
       "      <td>2019-08-01</td>\n",
       "    </tr>\n",
       "    <tr>\n",
       "      <th>...</th>\n",
       "      <td>...</td>\n",
       "      <td>...</td>\n",
       "      <td>...</td>\n",
       "      <td>...</td>\n",
       "      <td>...</td>\n",
       "      <td>...</td>\n",
       "    </tr>\n",
       "    <tr>\n",
       "      <th>244121</th>\n",
       "      <td>MainScreenAppear</td>\n",
       "      <td>4599628364049201812</td>\n",
       "      <td>1565212345</td>\n",
       "      <td>247</td>\n",
       "      <td>2019-08-07 21:12:25</td>\n",
       "      <td>2019-08-07</td>\n",
       "    </tr>\n",
       "    <tr>\n",
       "      <th>244122</th>\n",
       "      <td>MainScreenAppear</td>\n",
       "      <td>5849806612437486590</td>\n",
       "      <td>1565212439</td>\n",
       "      <td>246</td>\n",
       "      <td>2019-08-07 21:13:59</td>\n",
       "      <td>2019-08-07</td>\n",
       "    </tr>\n",
       "    <tr>\n",
       "      <th>244123</th>\n",
       "      <td>MainScreenAppear</td>\n",
       "      <td>5746969938801999050</td>\n",
       "      <td>1565212483</td>\n",
       "      <td>246</td>\n",
       "      <td>2019-08-07 21:14:43</td>\n",
       "      <td>2019-08-07</td>\n",
       "    </tr>\n",
       "    <tr>\n",
       "      <th>244124</th>\n",
       "      <td>MainScreenAppear</td>\n",
       "      <td>5746969938801999050</td>\n",
       "      <td>1565212498</td>\n",
       "      <td>246</td>\n",
       "      <td>2019-08-07 21:14:58</td>\n",
       "      <td>2019-08-07</td>\n",
       "    </tr>\n",
       "    <tr>\n",
       "      <th>244125</th>\n",
       "      <td>OffersScreenAppear</td>\n",
       "      <td>5746969938801999050</td>\n",
       "      <td>1565212517</td>\n",
       "      <td>246</td>\n",
       "      <td>2019-08-07 21:15:17</td>\n",
       "      <td>2019-08-07</td>\n",
       "    </tr>\n",
       "  </tbody>\n",
       "</table>\n",
       "<p>240887 rows × 6 columns</p>\n",
       "</div>"
      ],
      "text/plain": [
       "                     event              user_id   timestamp  exp_id  \\\n",
       "2828              Tutorial  3737462046622621720  1564618048     246   \n",
       "2829      MainScreenAppear  3737462046622621720  1564618080     246   \n",
       "2830      MainScreenAppear  3737462046622621720  1564618135     246   \n",
       "2831    OffersScreenAppear  3737462046622621720  1564618138     246   \n",
       "2832      MainScreenAppear  1433840883824088890  1564618139     247   \n",
       "...                    ...                  ...         ...     ...   \n",
       "244121    MainScreenAppear  4599628364049201812  1565212345     247   \n",
       "244122    MainScreenAppear  5849806612437486590  1565212439     246   \n",
       "244123    MainScreenAppear  5746969938801999050  1565212483     246   \n",
       "244124    MainScreenAppear  5746969938801999050  1565212498     246   \n",
       "244125  OffersScreenAppear  5746969938801999050  1565212517     246   \n",
       "\n",
       "                  datetime        date  \n",
       "2828   2019-08-01 00:07:28  2019-08-01  \n",
       "2829   2019-08-01 00:08:00  2019-08-01  \n",
       "2830   2019-08-01 00:08:55  2019-08-01  \n",
       "2831   2019-08-01 00:08:58  2019-08-01  \n",
       "2832   2019-08-01 00:08:59  2019-08-01  \n",
       "...                    ...         ...  \n",
       "244121 2019-08-07 21:12:25  2019-08-07  \n",
       "244122 2019-08-07 21:13:59  2019-08-07  \n",
       "244123 2019-08-07 21:14:43  2019-08-07  \n",
       "244124 2019-08-07 21:14:58  2019-08-07  \n",
       "244125 2019-08-07 21:15:17  2019-08-07  \n",
       "\n",
       "[240887 rows x 6 columns]"
      ]
     },
     "execution_count": 13,
     "metadata": {},
     "output_type": "execute_result"
    }
   ],
   "source": [
    "df = df.loc[df['datetime'] >= '2019-08-01']\n",
    "df.sort_values(by='datetime')"
   ]
  },
  {
   "cell_type": "code",
   "execution_count": 14,
   "id": "987a3380-744f-4733-a8d4-75f814681512",
   "metadata": {},
   "outputs": [
    {
     "name": "stdout",
     "output_type": "stream",
     "text": [
      "Отбросив старые данные, было потеряно 1.16% событий и пользователей\n"
     ]
    }
   ],
   "source": [
    "part3 = df.shape[0]\n",
    "print(f'Отбросив старые данные, было потеряно {round(1-part3/part2, 4)*100}% событий и пользователей')"
   ]
  },
  {
   "cell_type": "code",
   "execution_count": 15,
   "id": "c8e97f83-aaa0-4e68-8010-fa3c94e5c733",
   "metadata": {},
   "outputs": [
    {
     "data": {
      "text/plain": [
       "248    84563\n",
       "246    79302\n",
       "247    77022\n",
       "Name: exp_id, dtype: int64"
      ]
     },
     "execution_count": 15,
     "metadata": {},
     "output_type": "execute_result"
    }
   ],
   "source": [
    "df['exp_id'].value_counts()"
   ]
  },
  {
   "cell_type": "code",
   "execution_count": 16,
   "id": "1038942f-e72b-4306-9c1a-1d45c519fae4",
   "metadata": {},
   "outputs": [
    {
     "data": {
      "text/plain": [
       "exp_id\n",
       "246    2484\n",
       "247    2513\n",
       "248    2537\n",
       "Name: user_id, dtype: int64"
      ]
     },
     "execution_count": 16,
     "metadata": {},
     "output_type": "execute_result"
    }
   ],
   "source": [
    "df.groupby('exp_id')['user_id'].nunique()"
   ]
  },
  {
   "cell_type": "markdown",
   "id": "b10dccea-77fc-4911-96ad-e53b03ce718c",
   "metadata": {},
   "source": [
    "**Промежуточные выводы:** всего в логе было представлено 243713 событий (5 уникальных) и пользователей (7551 уникальных). А среднее количество событий на пользователя составило 32.3. Изначально данные представлены за период с 2019-07-25 по 2019-08-07 (т.е. за 13 полных дней), однако после построения столбчатой дитаграммы стало видно, что полной информацией мы обладаем только с 2019-08-01 (т.е. за 7 дней). Отбросив старые данные, было потеряно 1.16% событий и пользователей, что является вполне приемлемым. Во всех трех экспериментальных гпуппах находится примерно равное количество пользователей - около 80 тысяч, а уникальных - около 2500 в каждой."
   ]
  },
  {
   "cell_type": "markdown",
   "id": "63860ae2-a28a-427b-bbae-2ff7b761b71c",
   "metadata": {},
   "source": [
    "## Изучение воронки событий"
   ]
  },
  {
   "cell_type": "code",
   "execution_count": 17,
   "id": "4f93c2e8-08dc-4552-95ec-1556705b55fe",
   "metadata": {},
   "outputs": [
    {
     "data": {
      "text/html": [
       "<div>\n",
       "<style scoped>\n",
       "    .dataframe tbody tr th:only-of-type {\n",
       "        vertical-align: middle;\n",
       "    }\n",
       "\n",
       "    .dataframe tbody tr th {\n",
       "        vertical-align: top;\n",
       "    }\n",
       "\n",
       "    .dataframe thead th {\n",
       "        text-align: right;\n",
       "    }\n",
       "</style>\n",
       "<table border=\"1\" class=\"dataframe\">\n",
       "  <thead>\n",
       "    <tr style=\"text-align: right;\">\n",
       "      <th></th>\n",
       "      <th>event</th>\n",
       "      <th>events</th>\n",
       "      <th>users</th>\n",
       "      <th>part</th>\n",
       "    </tr>\n",
       "  </thead>\n",
       "  <tbody>\n",
       "    <tr>\n",
       "      <th>0</th>\n",
       "      <td>MainScreenAppear</td>\n",
       "      <td>117328</td>\n",
       "      <td>7419</td>\n",
       "      <td>0.985</td>\n",
       "    </tr>\n",
       "    <tr>\n",
       "      <th>1</th>\n",
       "      <td>OffersScreenAppear</td>\n",
       "      <td>46333</td>\n",
       "      <td>4593</td>\n",
       "      <td>0.610</td>\n",
       "    </tr>\n",
       "    <tr>\n",
       "      <th>2</th>\n",
       "      <td>CartScreenAppear</td>\n",
       "      <td>42303</td>\n",
       "      <td>3734</td>\n",
       "      <td>0.496</td>\n",
       "    </tr>\n",
       "    <tr>\n",
       "      <th>3</th>\n",
       "      <td>PaymentScreenSuccessful</td>\n",
       "      <td>33918</td>\n",
       "      <td>3539</td>\n",
       "      <td>0.470</td>\n",
       "    </tr>\n",
       "    <tr>\n",
       "      <th>4</th>\n",
       "      <td>Tutorial</td>\n",
       "      <td>1005</td>\n",
       "      <td>840</td>\n",
       "      <td>0.111</td>\n",
       "    </tr>\n",
       "  </tbody>\n",
       "</table>\n",
       "</div>"
      ],
      "text/plain": [
       "                     event  events  users   part\n",
       "0         MainScreenAppear  117328   7419  0.985\n",
       "1       OffersScreenAppear   46333   4593  0.610\n",
       "2         CartScreenAppear   42303   3734  0.496\n",
       "3  PaymentScreenSuccessful   33918   3539  0.470\n",
       "4                 Tutorial    1005    840  0.111"
      ]
     },
     "execution_count": 17,
     "metadata": {},
     "output_type": "execute_result"
    }
   ],
   "source": [
    "#посчитаем пользователей, совершавших каждое из событий, и их долю\n",
    "funnel = df.groupby('event').agg({'event':'count', 'user_id':'nunique'}).sort_values(by='user_id', ascending=False)\n",
    "funnel.columns = ['events', 'users']\n",
    "funnel = funnel.reset_index()\n",
    "all_users = df['user_id'].nunique()\n",
    "funnel['part'] = round(funnel['users']/all_users, 3)\n",
    "funnel"
   ]
  },
  {
   "cell_type": "code",
   "execution_count": 18,
   "id": "c3dc30d1-9f4f-43e6-b425-54bc2c612e1a",
   "metadata": {},
   "outputs": [
    {
     "data": {
      "text/html": [
       "<div>\n",
       "<style scoped>\n",
       "    .dataframe tbody tr th:only-of-type {\n",
       "        vertical-align: middle;\n",
       "    }\n",
       "\n",
       "    .dataframe tbody tr th {\n",
       "        vertical-align: top;\n",
       "    }\n",
       "\n",
       "    .dataframe thead th {\n",
       "        text-align: right;\n",
       "    }\n",
       "</style>\n",
       "<table border=\"1\" class=\"dataframe\">\n",
       "  <thead>\n",
       "    <tr style=\"text-align: right;\">\n",
       "      <th></th>\n",
       "      <th>event</th>\n",
       "      <th>events</th>\n",
       "      <th>users</th>\n",
       "      <th>part</th>\n",
       "      <th>conversion_per_step</th>\n",
       "      <th>conversion</th>\n",
       "    </tr>\n",
       "  </thead>\n",
       "  <tbody>\n",
       "    <tr>\n",
       "      <th>0</th>\n",
       "      <td>MainScreenAppear</td>\n",
       "      <td>117328</td>\n",
       "      <td>7419</td>\n",
       "      <td>0.985</td>\n",
       "      <td>NaN</td>\n",
       "      <td>1.000</td>\n",
       "    </tr>\n",
       "    <tr>\n",
       "      <th>1</th>\n",
       "      <td>OffersScreenAppear</td>\n",
       "      <td>46333</td>\n",
       "      <td>4593</td>\n",
       "      <td>0.610</td>\n",
       "      <td>0.619</td>\n",
       "      <td>0.619</td>\n",
       "    </tr>\n",
       "    <tr>\n",
       "      <th>2</th>\n",
       "      <td>CartScreenAppear</td>\n",
       "      <td>42303</td>\n",
       "      <td>3734</td>\n",
       "      <td>0.496</td>\n",
       "      <td>0.813</td>\n",
       "      <td>0.503</td>\n",
       "    </tr>\n",
       "    <tr>\n",
       "      <th>3</th>\n",
       "      <td>PaymentScreenSuccessful</td>\n",
       "      <td>33918</td>\n",
       "      <td>3539</td>\n",
       "      <td>0.470</td>\n",
       "      <td>0.948</td>\n",
       "      <td>0.477</td>\n",
       "    </tr>\n",
       "    <tr>\n",
       "      <th>4</th>\n",
       "      <td>Tutorial</td>\n",
       "      <td>1005</td>\n",
       "      <td>840</td>\n",
       "      <td>0.111</td>\n",
       "      <td>0.237</td>\n",
       "      <td>0.113</td>\n",
       "    </tr>\n",
       "  </tbody>\n",
       "</table>\n",
       "</div>"
      ],
      "text/plain": [
       "                     event  events  users   part  conversion_per_step  \\\n",
       "0         MainScreenAppear  117328   7419  0.985                  NaN   \n",
       "1       OffersScreenAppear   46333   4593  0.610                0.619   \n",
       "2         CartScreenAppear   42303   3734  0.496                0.813   \n",
       "3  PaymentScreenSuccessful   33918   3539  0.470                0.948   \n",
       "4                 Tutorial    1005    840  0.111                0.237   \n",
       "\n",
       "   conversion  \n",
       "0       1.000  \n",
       "1       0.619  \n",
       "2       0.503  \n",
       "3       0.477  \n",
       "4       0.113  "
      ]
     },
     "execution_count": 18,
     "metadata": {},
     "output_type": "execute_result"
    }
   ],
   "source": [
    "#посчитаем долю пользователей, проходящих на каждый следующий этап воронки\n",
    "funnel['conversion_per_step'] = round(funnel['users']/funnel['users'].shift(1), 3)\n",
    "funnel['conversion'] = round(funnel['users']/funnel['users'].iloc[0], 3)\n",
    "funnel"
   ]
  },
  {
   "cell_type": "code",
   "execution_count": 19,
   "id": "2c042bc0-ffe9-4fc2-a1b3-2a476b5f2504",
   "metadata": {},
   "outputs": [
    {
     "data": {
      "image/png": "[encoded data removed]",
      "text/plain": [
       "<Figure size 432x288 with 1 Axes>"
      ]
     },
     "metadata": {
      "needs_background": "light"
     },
     "output_type": "display_data"
    }
   ],
   "source": [
    "plt.barh(funnel['event'], funnel['users'])\n",
    "plt.xlabel('Пользователи')\n",
    "plt.ylabel('События')\n",
    "plt.title('Воронка событий');"
   ]
  },
  {
   "cell_type": "markdown",
   "id": "a0260e2a-8db9-4fb8-92be-c734e818b106",
   "metadata": {},
   "source": [
    "**Промежуточные выводы:** всего в логе 5 событий, 4 из них выстраиваются в последовательную цепочку: главное меню-экран предложений-корзина-оплата. Так и выглядит воронка, ведь после каждого этапа часть пользователей \"отпадают\". По графику видно, что больше всего \"потерь\" случается при переходе с главного меню на экран предложений - там может быть какая-то потенциальная проблема. Зато почти половина пользователей (47,7%) доходят с первого этапа до оплаты. Событие tutorial не сильно связано со всеми остальными и к нему юзеры могут обратиться на любом этапе, а при анализе воронки событий оно не сильно играет роль, судя по показателям."
   ]
  },
  {
   "cell_type": "markdown",
   "id": "67804477-03ed-4124-b373-7b130cc6297a",
   "metadata": {},
   "source": [
    "## Изучение результатов эксперимента"
   ]
  },
  {
   "cell_type": "code",
   "execution_count": 20,
   "id": "d9da3dc8-4d96-4fb5-b2e5-264482a7c0ed",
   "metadata": {},
   "outputs": [
    {
     "data": {
      "text/plain": [
       "exp_id\n",
       "246        2484\n",
       "247        2513\n",
       "248        2537\n",
       "246+247    4997\n",
       "Name: user_id, dtype: int64"
      ]
     },
     "execution_count": 20,
     "metadata": {},
     "output_type": "execute_result"
    }
   ],
   "source": [
    "#посчитаем кол-во пользователей в каждой группе\n",
    "groups = df.groupby('exp_id')['user_id'].nunique()\n",
    "groups['246+247'] = groups[246] + groups[247]\n",
    "groups"
   ]
  },
  {
   "cell_type": "code",
   "execution_count": 21,
   "id": "053449a0-68d8-4f3f-85b1-c53ecb17c1f7",
   "metadata": {},
   "outputs": [
    {
     "data": {
      "text/html": [
       "<div>\n",
       "<style scoped>\n",
       "    .dataframe tbody tr th:only-of-type {\n",
       "        vertical-align: middle;\n",
       "    }\n",
       "\n",
       "    .dataframe tbody tr th {\n",
       "        vertical-align: top;\n",
       "    }\n",
       "\n",
       "    .dataframe thead th {\n",
       "        text-align: right;\n",
       "    }\n",
       "</style>\n",
       "<table border=\"1\" class=\"dataframe\">\n",
       "  <thead>\n",
       "    <tr style=\"text-align: right;\">\n",
       "      <th>exp_id</th>\n",
       "      <th>event</th>\n",
       "      <th>246</th>\n",
       "      <th>247</th>\n",
       "      <th>248</th>\n",
       "      <th>246+247</th>\n",
       "      <th>all</th>\n",
       "      <th>part_246</th>\n",
       "      <th>part_247</th>\n",
       "      <th>part_246+247</th>\n",
       "      <th>part_248</th>\n",
       "    </tr>\n",
       "  </thead>\n",
       "  <tbody>\n",
       "    <tr>\n",
       "      <th>0</th>\n",
       "      <td>MainScreenAppear</td>\n",
       "      <td>2450</td>\n",
       "      <td>2476</td>\n",
       "      <td>2493</td>\n",
       "      <td>4926</td>\n",
       "      <td>7419</td>\n",
       "      <td>0.986</td>\n",
       "      <td>0.985</td>\n",
       "      <td>0.986</td>\n",
       "      <td>0.983</td>\n",
       "    </tr>\n",
       "    <tr>\n",
       "      <th>1</th>\n",
       "      <td>OffersScreenAppear</td>\n",
       "      <td>1542</td>\n",
       "      <td>1520</td>\n",
       "      <td>1531</td>\n",
       "      <td>3062</td>\n",
       "      <td>4593</td>\n",
       "      <td>0.621</td>\n",
       "      <td>0.605</td>\n",
       "      <td>0.613</td>\n",
       "      <td>0.603</td>\n",
       "    </tr>\n",
       "    <tr>\n",
       "      <th>2</th>\n",
       "      <td>CartScreenAppear</td>\n",
       "      <td>1266</td>\n",
       "      <td>1238</td>\n",
       "      <td>1230</td>\n",
       "      <td>2504</td>\n",
       "      <td>3734</td>\n",
       "      <td>0.510</td>\n",
       "      <td>0.493</td>\n",
       "      <td>0.501</td>\n",
       "      <td>0.485</td>\n",
       "    </tr>\n",
       "    <tr>\n",
       "      <th>3</th>\n",
       "      <td>PaymentScreenSuccessful</td>\n",
       "      <td>1200</td>\n",
       "      <td>1158</td>\n",
       "      <td>1181</td>\n",
       "      <td>2358</td>\n",
       "      <td>3539</td>\n",
       "      <td>0.483</td>\n",
       "      <td>0.461</td>\n",
       "      <td>0.472</td>\n",
       "      <td>0.466</td>\n",
       "    </tr>\n",
       "  </tbody>\n",
       "</table>\n",
       "</div>"
      ],
      "text/plain": [
       "exp_id                    event   246   247   248  246+247   all  part_246  \\\n",
       "0              MainScreenAppear  2450  2476  2493     4926  7419     0.986   \n",
       "1            OffersScreenAppear  1542  1520  1531     3062  4593     0.621   \n",
       "2              CartScreenAppear  1266  1238  1230     2504  3734     0.510   \n",
       "3       PaymentScreenSuccessful  1200  1158  1181     2358  3539     0.483   \n",
       "\n",
       "exp_id  part_247  part_246+247  part_248  \n",
       "0          0.985         0.986     0.983  \n",
       "1          0.605         0.613     0.603  \n",
       "2          0.493         0.501     0.485  \n",
       "3          0.461         0.472     0.466  "
      ]
     },
     "execution_count": 21,
     "metadata": {},
     "output_type": "execute_result"
    }
   ],
   "source": [
    "#составим таблицу со всеми группами и долями по событиями (не учитывая tutorial)\n",
    "test = df.groupby(['event', 'exp_id']).agg({'user_id':'nunique'}).reset_index()\n",
    "test_pivot = test[test['event']!='Tutorial'].pivot_table(index='event', columns='exp_id', values='user_id').sort_values(by=246, ascending=False)\n",
    "test_pivot = test_pivot.reset_index()\n",
    "\n",
    "test_pivot['246+247'] = test_pivot[246] + test_pivot[247]\n",
    "test_pivot['all'] = test_pivot['246+247'] + test_pivot[248]\n",
    "test_pivot['part_246'] = round(test_pivot[246]/groups[246],3)\n",
    "test_pivot['part_247'] = round(test_pivot[247]/groups[247],3)\n",
    "test_pivot['part_246+247'] = round(test_pivot['246+247']/groups['246+247'],3)\n",
    "test_pivot['part_248'] = round(test_pivot[248]/groups[248],3)\n",
    "\n",
    "test_pivot"
   ]
  },
  {
   "cell_type": "markdown",
   "id": "9720afd1-b421-4945-892c-60407bce95eb",
   "metadata": {},
   "source": [
    "Сформулируем гипотезы и проведем z-тест.\n",
    "\n",
    "Нулевая: разницы между выборками 246 и 247 нет.\n",
    "\n",
    "Альтернативная: статистически значимые различия в выборках есть.\n",
    "\n",
    "Выбранный уровень статистической значимости:  alpha = 0.01\n",
    "\n",
    "Так как я провожу 4 теста по одному набору данных, необходимо скорректировать уровень значимости поправкой Бонферрони: a corr = a/m = 0.01/4 = 0.0025 и вероятность накопительной ошибки FWER = 1 - (1-0.0025)^4 = 0.01."
   ]
  },
  {
   "cell_type": "code",
   "execution_count": 22,
   "id": "3de10a9c-37ca-4035-8bfa-9cf9e575c966",
   "metadata": {},
   "outputs": [
    {
     "name": "stdout",
     "output_type": "stream",
     "text": [
      "p-значение для MainScreenAppear: 0.7570597232046099\n",
      "Не получилось отвергнуть нулевую гипотезу, нет оснований считать доли разными\n",
      "p-значение для OffersScreenAppear: 0.2480954578522181\n",
      "Не получилось отвергнуть нулевую гипотезу, нет оснований считать доли разными\n",
      "p-значение для CartScreenAppear: 0.22883372237997213\n",
      "Не получилось отвергнуть нулевую гипотезу, нет оснований считать доли разными\n",
      "p-значение для PaymentScreenSuccessful: 0.11456679313141849\n",
      "Не получилось отвергнуть нулевую гипотезу, нет оснований считать доли разными\n"
     ]
    }
   ],
   "source": [
    "#создадим функцию для проведения тестов\n",
    "def z_test(group_1, group_2, alpha):\n",
    "    for i in test_pivot.index:\n",
    "        p1 = test_pivot[group_1][i] / groups[group_1]\n",
    "        p2 = test_pivot[group_2][i] / groups[group_2]\n",
    "        p = (test_pivot[group_1][i] + test_pivot[group_2][i]) / (groups[group_1] + groups[group_2])\n",
    "        difference = p1 - p2\n",
    "        z_value = difference / (mth.sqrt(p*(1 - p)*(1/groups[group_1] + 1/groups[group_2])))\n",
    "        distr = st.norm(0,1)\n",
    "        p_value = (1 - distr.cdf(abs(z_value))) * 2\n",
    "        print('p-значение для {}:'.format(test_pivot['event'][i]), p_value)\n",
    "        if (p_value < alpha):\n",
    "            print(\"Отвергаем нулевую гипотезу: между долями есть значимая разница\")\n",
    "        else:\n",
    "            print(\"Не получилось отвергнуть нулевую гипотезу, нет оснований считать доли разными\")\n",
    "\n",
    "z_test(246, 247, 0.0025)"
   ]
  },
  {
   "cell_type": "markdown",
   "id": "65655884",
   "metadata": {},
   "source": [
    "**А/А-тест был проведен для того, чтобы убедиться в качестве деления пользователей по группам - так как нулевую гипотезу отвергнуть не удалось, можно считать разделение успешным и переходить к А/В-тестированию.**"
   ]
  },
  {
   "cell_type": "markdown",
   "id": "8e2c566a-0073-434b-9f29-64f915212278",
   "metadata": {},
   "source": [
    "Нулевая: разницы между выборками 246 и 248 нет.\n",
    "\n",
    "Альтернативная: статистически значимые различия в выборках есть.\n",
    "\n",
    "Выбранный уровень статистической значимости: alpha = 0.0025"
   ]
  },
  {
   "cell_type": "code",
   "execution_count": 23,
   "id": "0ef993a8-d062-4fc5-899c-125a2fca0c64",
   "metadata": {},
   "outputs": [
    {
     "name": "stdout",
     "output_type": "stream",
     "text": [
      "p-значение для MainScreenAppear: 0.2949721933554552\n",
      "Не получилось отвергнуть нулевую гипотезу, нет оснований считать доли разными\n",
      "p-значение для OffersScreenAppear: 0.20836205402738917\n",
      "Не получилось отвергнуть нулевую гипотезу, нет оснований считать доли разными\n",
      "p-значение для CartScreenAppear: 0.07842923237520116\n",
      "Не получилось отвергнуть нулевую гипотезу, нет оснований считать доли разными\n",
      "p-значение для PaymentScreenSuccessful: 0.2122553275697796\n",
      "Не получилось отвергнуть нулевую гипотезу, нет оснований считать доли разными\n"
     ]
    }
   ],
   "source": [
    "z_test(246, 248, 0.0025)"
   ]
  },
  {
   "cell_type": "markdown",
   "id": "4643d159-f46a-4f39-9e87-c802cc6b7a2c",
   "metadata": {},
   "source": [
    "Нулевая: разницы между выборками 247 и 248 нет.\n",
    "\n",
    "Альтернативная: статистически значимые различия в выборках есть.\n",
    "\n",
    "Выбранный уровень статистической значимости: alpha = 0.0025"
   ]
  },
  {
   "cell_type": "code",
   "execution_count": 24,
   "id": "08031ef4-e5de-40ac-b1c9-5d5066794829",
   "metadata": {},
   "outputs": [
    {
     "name": "stdout",
     "output_type": "stream",
     "text": [
      "p-значение для MainScreenAppear: 0.4587053616621515\n",
      "Не получилось отвергнуть нулевую гипотезу, нет оснований считать доли разными\n",
      "p-значение для OffersScreenAppear: 0.9197817830592261\n",
      "Не получилось отвергнуть нулевую гипотезу, нет оснований считать доли разными\n",
      "p-значение для CartScreenAppear: 0.5786197879539783\n",
      "Не получилось отвергнуть нулевую гипотезу, нет оснований считать доли разными\n",
      "p-значение для PaymentScreenSuccessful: 0.7373415053803964\n",
      "Не получилось отвергнуть нулевую гипотезу, нет оснований считать доли разными\n"
     ]
    }
   ],
   "source": [
    "z_test(247, 248, 0.0025)"
   ]
  },
  {
   "cell_type": "markdown",
   "id": "756238f1-9c75-49fa-9826-ca1655ce0f9e",
   "metadata": {},
   "source": [
    "Нулевая: разницы между объединенными контрольными и экспериментальной группами нет.\n",
    "\n",
    "Альтернативная: статистически значимые различия в выборках есть.\n",
    "\n",
    "Выбранный уровень статистической значимости: alpha = 0.0025"
   ]
  },
  {
   "cell_type": "code",
   "execution_count": 25,
   "id": "a58e7141-83f8-4142-92c0-de24479b5fba",
   "metadata": {},
   "outputs": [
    {
     "name": "stdout",
     "output_type": "stream",
     "text": [
      "p-значение для MainScreenAppear: 0.29424526837179577\n",
      "Не получилось отвергнуть нулевую гипотезу, нет оснований считать доли разными\n",
      "p-значение для OffersScreenAppear: 0.43425549655188256\n",
      "Не получилось отвергнуть нулевую гипотезу, нет оснований считать доли разными\n",
      "p-значение для CartScreenAppear: 0.18175875284404386\n",
      "Не получилось отвергнуть нулевую гипотезу, нет оснований считать доли разными\n",
      "p-значение для PaymentScreenSuccessful: 0.6004294282308704\n",
      "Не получилось отвергнуть нулевую гипотезу, нет оснований считать доли разными\n"
     ]
    }
   ],
   "source": [
    "z_test('246+247', 248, 0.0025)"
   ]
  },
  {
   "cell_type": "markdown",
   "id": "924e1273-6483-4ed9-9759-ce4fb2b01fec",
   "metadata": {},
   "source": [
    "**Промежуточные выводы:** в каждой группе находится примерно равное количество пользователей - около 2500 человек. Самым популярным событием является открытие главного экрана. Для всех групп поситали долю пользователей, совершивших каждое из событий и проверили статистическую достоверность этого разбиения. При сравнении двух контрольных групп был выбран уровень значимости в 1%, так как тут требуется более жесткий подход. В остальных сравнениях был выбран стандартный alpha = 0.05. Ни в одном из сравнений не удалось отвергнуть нулевую гипотезу - не было оснований считать доли разными.  "
   ]
  },
  {
   "cell_type": "markdown",
   "id": "4323df87-8a0d-4b28-b544-88dad0c61869",
   "metadata": {},
   "source": [
    "## Общие выводы"
   ]
  },
  {
   "cell_type": "markdown",
   "id": "8498ae05-d6b5-4b40-bc0e-f09c2e1fd6c3",
   "metadata": {},
   "source": [
    "В процессе анализа данных были выполнены следующие этапы, а также сделаны выводы по ним:\n",
    "1. Загрузка данных и изучение общей информации\n",
    "   - в таблице с данными о событиях содержится 4 столбца и 244126 строк\n",
    "   - пропусков не обнаружено\n",
    "2. Предобработка данных\n",
    "   - добавлены столбцы с датой и временем и отдельно с датой\n",
    "   - изменен тип данных там, где это необходимо\n",
    "   - названия стобцов переименованы на удобные\n",
    "   - выявлены и удалены дубликаты, которые занимали 0.17% от всех данных\n",
    "   - пользователей, попавших сразу в несклько групп, не обнаружено\n",
    "3. Изучение и проверка данных\n",
    "   - всего в логе было представлено 243713 событий (5 уникальных) и пользователей (7551 уникальных)\n",
    "   - среднее количество событий на пользователя составило 32.3.\n",
    "   - данные представлены за период с 2019-07-25 по 2019-08-07 (т.е. за 13 полных дней)\n",
    "   - полная информация содержится только с 2019-08-01 (т.е. за 7 дней)\n",
    "   - были отброшены старые данные - 1.16% событий и пользователей\n",
    "   - во всех трех экспериментальных гпуппах находится примерно равное количество пользователей - около 80 тысяч, а уникальных - около 2500\n",
    "4. Изучение воронки событий\n",
    "   - всего в логе 5 событий, 4 из них выстраиваются в последовательную цепочку: главное меню-экран предложений-корзина-оплата. Это и есть воронка событий\n",
    "   - построен график, из которого видно, что больше всего \"потерь\" случается при переходе с главного меню на экран предложений - там может быть какая-то потенциальная проблема\n",
    "   - почти половина пользователей (47,7%) доходят с первого этапа до оплаты\n",
    "   - событие tutorial не сильно связано со всеми остальными и к нему юзеры могут обратиться на любом этапе, а при анализе воронки событий оно не сильно играет роль, судя по показателям\n",
    "5. Изучение результатов эксперимента\n",
    "   - проведен А/А-тест - разделение можно считать успешным, так как нулевую гипотезу отвергнуть не удалось\n",
    "   - в каждой группе находится примерно равное количество пользователей - около 2500 человек\n",
    "   - самым популярным событием является открытие главного экрана\n",
    "   - для всех групп посчитали долю пользователей, совершивших каждое из событий и проверили статистическую достоверность этого разбиения\n",
    "   - скорректирован уровень значимости поправкой Бонферрони, так как тест проводился 4 раза на одном наборе данных\n",
    "   - во всех 4 статистических проверках между группами (двумя контрольными, каждой контрольной и экспериментальной, объединенными контрольными и экспериментальной) не удалось отвергнуть нулевую гипотезу - не было оснований считать доли разными\n",
    "6. Вывод: статистически значимых отличий между группами нет, а значит изменения шрифта никак не повлияло на пользователей. Тест успешно завершен."
   ]
  }
 ],
 "metadata": {
  "ExecuteTimeLog": [
   {
    "duration": 1343,
    "start_time": "2025-02-13T02:39:33.881Z"
   },
   {
    "duration": 726,
    "start_time": "2025-02-13T02:39:35.226Z"
   },
   {
    "duration": 8,
    "start_time": "2025-02-13T02:39:35.955Z"
   },
   {
    "duration": 15,
    "start_time": "2025-02-13T02:39:35.965Z"
   },
   {
    "duration": 141,
    "start_time": "2025-02-13T02:39:35.982Z"
   },
   {
    "duration": 136,
    "start_time": "2025-02-13T02:39:36.126Z"
   },
   {
    "duration": 82,
    "start_time": "2025-02-13T02:39:36.265Z"
   },
   {
    "duration": 8,
    "start_time": "2025-02-13T02:39:36.348Z"
   },
   {
    "duration": 4,
    "start_time": "2025-02-13T02:39:36.357Z"
   },
   {
    "duration": 6,
    "start_time": "2025-02-13T02:39:36.365Z"
   },
   {
    "duration": 449,
    "start_time": "2025-02-13T02:39:36.373Z"
   },
   {
    "duration": 34,
    "start_time": "2025-02-13T02:39:36.824Z"
   },
   {
    "duration": 3,
    "start_time": "2025-02-13T02:39:36.860Z"
   },
   {
    "duration": 19,
    "start_time": "2025-02-13T02:39:36.865Z"
   },
   {
    "duration": 49,
    "start_time": "2025-02-13T02:39:36.885Z"
   },
   {
    "duration": 85,
    "start_time": "2025-02-13T02:39:36.936Z"
   },
   {
    "duration": 12,
    "start_time": "2025-02-13T02:39:37.023Z"
   },
   {
    "duration": 149,
    "start_time": "2025-02-13T02:39:37.037Z"
   },
   {
    "duration": 43,
    "start_time": "2025-02-13T02:39:37.188Z"
   },
   {
    "duration": 91,
    "start_time": "2025-02-13T02:39:37.233Z"
   },
   {
    "duration": 12,
    "start_time": "2025-02-13T02:39:37.326Z"
   },
   {
    "duration": 9,
    "start_time": "2025-02-13T02:39:37.339Z"
   },
   {
    "duration": 12,
    "start_time": "2025-02-13T02:39:37.350Z"
   },
   {
    "duration": 12,
    "start_time": "2025-02-13T02:39:37.364Z"
   },
   {
    "duration": 121,
    "start_time": "2025-02-13T08:08:41.030Z"
   },
   {
    "duration": 43,
    "start_time": "2025-02-13T08:14:37.311Z"
   },
   {
    "duration": 1306,
    "start_time": "2025-02-13T08:14:50.725Z"
   },
   {
    "duration": 650,
    "start_time": "2025-02-13T08:14:52.033Z"
   },
   {
    "duration": 4,
    "start_time": "2025-02-13T08:14:52.685Z"
   },
   {
    "duration": 17,
    "start_time": "2025-02-13T08:14:52.691Z"
   },
   {
    "duration": 128,
    "start_time": "2025-02-13T08:14:52.710Z"
   },
   {
    "duration": 111,
    "start_time": "2025-02-13T08:14:52.840Z"
   },
   {
    "duration": 133,
    "start_time": "2025-02-13T08:14:52.952Z"
   },
   {
    "duration": 0,
    "start_time": "2025-02-13T08:14:53.087Z"
   },
   {
    "duration": 0,
    "start_time": "2025-02-13T08:14:53.088Z"
   },
   {
    "duration": 0,
    "start_time": "2025-02-13T08:14:53.089Z"
   },
   {
    "duration": 0,
    "start_time": "2025-02-13T08:14:53.091Z"
   },
   {
    "duration": 0,
    "start_time": "2025-02-13T08:14:53.092Z"
   },
   {
    "duration": 0,
    "start_time": "2025-02-13T08:14:53.093Z"
   },
   {
    "duration": 0,
    "start_time": "2025-02-13T08:14:53.094Z"
   },
   {
    "duration": 0,
    "start_time": "2025-02-13T08:14:53.095Z"
   },
   {
    "duration": 0,
    "start_time": "2025-02-13T08:14:53.096Z"
   },
   {
    "duration": 0,
    "start_time": "2025-02-13T08:14:53.098Z"
   },
   {
    "duration": 0,
    "start_time": "2025-02-13T08:14:53.099Z"
   },
   {
    "duration": 0,
    "start_time": "2025-02-13T08:14:53.100Z"
   },
   {
    "duration": 0,
    "start_time": "2025-02-13T08:14:53.101Z"
   },
   {
    "duration": 0,
    "start_time": "2025-02-13T08:14:53.102Z"
   },
   {
    "duration": 0,
    "start_time": "2025-02-13T08:14:53.104Z"
   },
   {
    "duration": 0,
    "start_time": "2025-02-13T08:14:53.106Z"
   },
   {
    "duration": 0,
    "start_time": "2025-02-13T08:14:53.107Z"
   },
   {
    "duration": 0,
    "start_time": "2025-02-13T08:14:53.108Z"
   },
   {
    "duration": 35,
    "start_time": "2025-02-13T08:15:14.608Z"
   },
   {
    "duration": 36,
    "start_time": "2025-02-13T08:16:20.455Z"
   },
   {
    "duration": 57,
    "start_time": "2025-02-13T08:17:54.806Z"
   },
   {
    "duration": 1110,
    "start_time": "2025-02-13T08:19:14.908Z"
   },
   {
    "duration": 618,
    "start_time": "2025-02-13T08:19:16.020Z"
   },
   {
    "duration": 4,
    "start_time": "2025-02-13T08:19:16.639Z"
   },
   {
    "duration": 17,
    "start_time": "2025-02-13T08:19:16.644Z"
   },
   {
    "duration": 121,
    "start_time": "2025-02-13T08:19:16.663Z"
   },
   {
    "duration": 116,
    "start_time": "2025-02-13T08:19:16.786Z"
   },
   {
    "duration": 37,
    "start_time": "2025-02-13T08:19:16.904Z"
   },
   {
    "duration": 68,
    "start_time": "2025-02-13T08:19:16.943Z"
   },
   {
    "duration": 7,
    "start_time": "2025-02-13T08:19:17.013Z"
   },
   {
    "duration": 8,
    "start_time": "2025-02-13T08:19:17.021Z"
   },
   {
    "duration": 28,
    "start_time": "2025-02-13T08:19:17.030Z"
   },
   {
    "duration": 342,
    "start_time": "2025-02-13T08:19:17.060Z"
   },
   {
    "duration": 34,
    "start_time": "2025-02-13T08:19:17.403Z"
   },
   {
    "duration": 3,
    "start_time": "2025-02-13T08:19:17.440Z"
   },
   {
    "duration": 6,
    "start_time": "2025-02-13T08:19:17.459Z"
   },
   {
    "duration": 31,
    "start_time": "2025-02-13T08:19:17.467Z"
   },
   {
    "duration": 96,
    "start_time": "2025-02-13T08:19:17.499Z"
   },
   {
    "duration": 12,
    "start_time": "2025-02-13T08:19:17.596Z"
   },
   {
    "duration": 150,
    "start_time": "2025-02-13T08:19:17.609Z"
   },
   {
    "duration": 32,
    "start_time": "2025-02-13T08:19:17.761Z"
   },
   {
    "duration": 101,
    "start_time": "2025-02-13T08:19:17.795Z"
   },
   {
    "duration": 13,
    "start_time": "2025-02-13T08:19:17.898Z"
   },
   {
    "duration": 10,
    "start_time": "2025-02-13T08:19:17.912Z"
   },
   {
    "duration": 9,
    "start_time": "2025-02-13T08:19:17.923Z"
   },
   {
    "duration": 9,
    "start_time": "2025-02-13T08:19:17.957Z"
   },
   {
    "duration": 11,
    "start_time": "2025-02-13T08:23:40.457Z"
   },
   {
    "duration": 10,
    "start_time": "2025-02-13T10:23:55.112Z"
   },
   {
    "duration": 9,
    "start_time": "2025-02-13T10:24:55.093Z"
   },
   {
    "duration": 8,
    "start_time": "2025-02-13T10:25:08.186Z"
   },
   {
    "duration": 10,
    "start_time": "2025-02-13T10:25:21.096Z"
   },
   {
    "duration": 58,
    "start_time": "2025-02-13T10:25:51.194Z"
   },
   {
    "duration": 1135,
    "start_time": "2025-02-13T10:31:29.751Z"
   },
   {
    "duration": 580,
    "start_time": "2025-02-13T10:31:30.888Z"
   },
   {
    "duration": 5,
    "start_time": "2025-02-13T10:31:31.470Z"
   },
   {
    "duration": 17,
    "start_time": "2025-02-13T10:31:31.477Z"
   },
   {
    "duration": 149,
    "start_time": "2025-02-13T10:31:31.497Z"
   },
   {
    "duration": 119,
    "start_time": "2025-02-13T10:31:31.648Z"
   },
   {
    "duration": 36,
    "start_time": "2025-02-13T10:31:31.769Z"
   },
   {
    "duration": 67,
    "start_time": "2025-02-13T10:31:31.807Z"
   },
   {
    "duration": 8,
    "start_time": "2025-02-13T10:31:31.876Z"
   },
   {
    "duration": 4,
    "start_time": "2025-02-13T10:31:31.886Z"
   },
   {
    "duration": 11,
    "start_time": "2025-02-13T10:31:31.891Z"
   },
   {
    "duration": 362,
    "start_time": "2025-02-13T10:31:31.903Z"
   },
   {
    "duration": 36,
    "start_time": "2025-02-13T10:31:32.267Z"
   },
   {
    "duration": 4,
    "start_time": "2025-02-13T10:31:32.305Z"
   },
   {
    "duration": 17,
    "start_time": "2025-02-13T10:31:32.310Z"
   },
   {
    "duration": 48,
    "start_time": "2025-02-13T10:31:32.328Z"
   },
   {
    "duration": 90,
    "start_time": "2025-02-13T10:31:32.378Z"
   },
   {
    "duration": 17,
    "start_time": "2025-02-13T10:31:32.470Z"
   },
   {
    "duration": 153,
    "start_time": "2025-02-13T10:31:32.489Z"
   },
   {
    "duration": 41,
    "start_time": "2025-02-13T10:31:32.644Z"
   },
   {
    "duration": 95,
    "start_time": "2025-02-13T10:31:32.687Z"
   },
   {
    "duration": 12,
    "start_time": "2025-02-13T10:31:32.784Z"
   },
   {
    "duration": 7,
    "start_time": "2025-02-13T10:31:32.798Z"
   },
   {
    "duration": 21,
    "start_time": "2025-02-13T10:31:32.806Z"
   },
   {
    "duration": 10,
    "start_time": "2025-02-13T10:31:32.829Z"
   },
   {
    "duration": 1057,
    "start_time": "2025-02-13T15:42:04.899Z"
   },
   {
    "duration": 621,
    "start_time": "2025-02-13T15:42:05.958Z"
   },
   {
    "duration": 3,
    "start_time": "2025-02-13T15:42:06.581Z"
   },
   {
    "duration": 12,
    "start_time": "2025-02-13T15:42:06.586Z"
   },
   {
    "duration": 133,
    "start_time": "2025-02-13T15:42:06.599Z"
   },
   {
    "duration": 114,
    "start_time": "2025-02-13T15:42:06.734Z"
   },
   {
    "duration": 46,
    "start_time": "2025-02-13T15:42:06.850Z"
   },
   {
    "duration": 54,
    "start_time": "2025-02-13T15:42:06.898Z"
   },
   {
    "duration": 24,
    "start_time": "2025-02-13T15:42:06.953Z"
   },
   {
    "duration": 3,
    "start_time": "2025-02-13T15:42:06.980Z"
   },
   {
    "duration": 7,
    "start_time": "2025-02-13T15:42:06.984Z"
   },
   {
    "duration": 349,
    "start_time": "2025-02-13T15:42:06.992Z"
   },
   {
    "duration": 43,
    "start_time": "2025-02-13T15:42:07.343Z"
   },
   {
    "duration": 2,
    "start_time": "2025-02-13T15:42:07.388Z"
   },
   {
    "duration": 8,
    "start_time": "2025-02-13T15:42:07.392Z"
   },
   {
    "duration": 30,
    "start_time": "2025-02-13T15:42:07.401Z"
   },
   {
    "duration": 96,
    "start_time": "2025-02-13T15:42:07.433Z"
   },
   {
    "duration": 11,
    "start_time": "2025-02-13T15:42:07.531Z"
   },
   {
    "duration": 144,
    "start_time": "2025-02-13T15:42:07.543Z"
   },
   {
    "duration": 32,
    "start_time": "2025-02-13T15:42:07.689Z"
   },
   {
    "duration": 96,
    "start_time": "2025-02-13T15:42:07.723Z"
   },
   {
    "duration": 12,
    "start_time": "2025-02-13T15:42:07.820Z"
   },
   {
    "duration": 9,
    "start_time": "2025-02-13T15:42:07.834Z"
   },
   {
    "duration": 33,
    "start_time": "2025-02-13T15:42:07.845Z"
   },
   {
    "duration": 18,
    "start_time": "2025-02-13T15:42:07.880Z"
   },
   {
    "duration": 1107,
    "start_time": "2025-02-13T15:46:17.640Z"
   },
   {
    "duration": 652,
    "start_time": "2025-02-13T15:46:18.749Z"
   },
   {
    "duration": 4,
    "start_time": "2025-02-13T15:46:19.403Z"
   },
   {
    "duration": 10,
    "start_time": "2025-02-13T15:46:19.408Z"
   },
   {
    "duration": 134,
    "start_time": "2025-02-13T15:46:19.419Z"
   },
   {
    "duration": 108,
    "start_time": "2025-02-13T15:46:19.555Z"
   },
   {
    "duration": 44,
    "start_time": "2025-02-13T15:46:19.665Z"
   },
   {
    "duration": 66,
    "start_time": "2025-02-13T15:46:19.711Z"
   },
   {
    "duration": 7,
    "start_time": "2025-02-13T15:46:19.779Z"
   },
   {
    "duration": 8,
    "start_time": "2025-02-13T15:46:19.789Z"
   },
   {
    "duration": 6,
    "start_time": "2025-02-13T15:46:19.798Z"
   },
   {
    "duration": 350,
    "start_time": "2025-02-13T15:46:19.806Z"
   },
   {
    "duration": 47,
    "start_time": "2025-02-13T15:46:20.158Z"
   },
   {
    "duration": 3,
    "start_time": "2025-02-13T15:46:20.207Z"
   },
   {
    "duration": 10,
    "start_time": "2025-02-13T15:46:20.212Z"
   },
   {
    "duration": 31,
    "start_time": "2025-02-13T15:46:20.223Z"
   },
   {
    "duration": 91,
    "start_time": "2025-02-13T15:46:20.256Z"
   },
   {
    "duration": 11,
    "start_time": "2025-02-13T15:46:20.349Z"
   },
   {
    "duration": 141,
    "start_time": "2025-02-13T15:46:20.375Z"
   },
   {
    "duration": 36,
    "start_time": "2025-02-13T15:46:20.518Z"
   },
   {
    "duration": 92,
    "start_time": "2025-02-13T15:46:20.556Z"
   },
   {
    "duration": 28,
    "start_time": "2025-02-13T15:46:20.650Z"
   },
   {
    "duration": 19,
    "start_time": "2025-02-13T15:46:20.680Z"
   },
   {
    "duration": 10,
    "start_time": "2025-02-13T15:46:20.701Z"
   },
   {
    "duration": 27,
    "start_time": "2025-02-13T15:46:20.713Z"
   }
  ],
  "kernelspec": {
   "display_name": "Python 3 (ipykernel)",
   "language": "python",
   "name": "python3"
  },
  "language_info": {
   "codemirror_mode": {
    "name": "ipython",
    "version": 3
   },
   "file_extension": ".py",
   "mimetype": "text/x-python",
   "name": "python",
   "nbconvert_exporter": "python",
   "pygments_lexer": "ipython3",
   "version": "3.12.4"
  },
  "toc": {
   "base_numbering": 1,
   "nav_menu": {},
   "number_sections": true,
   "sideBar": true,
   "skip_h1_title": true,
   "title_cell": "Table of Contents",
   "title_sidebar": "Contents",
   "toc_cell": false,
   "toc_position": {},
   "toc_section_display": true,
   "toc_window_display": false
  }
 },
 "nbformat": 4,
 "nbformat_minor": 5
}
