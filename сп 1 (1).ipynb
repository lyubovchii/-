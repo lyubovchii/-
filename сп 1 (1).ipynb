{
 "cells": [
  {
   "cell_type": "markdown",
   "id": "81ff2611-633a-418b-8aeb-600ec49e6b11",
   "metadata": {},
   "source": [
    "# СБОРНЫЙ ПРОЕКТ ПО АНАЛИЗУ ДАННЫХ О ПРОДАЖАХ ИГР ИНТЕРНЕТ-МАГАЗИНА \"СТРИМЧИК\""
   ]
  },
  {
   "cell_type": "markdown",
   "id": "d2772b98-df70-46c8-b34f-882011eeb4df",
   "metadata": {},
   "source": [
    "Вы работаете в интернет-магазине «Стримчик», который продаёт по всему миру компьютерные игры. Из открытых источников доступны исторические данные о продажах игр, оценки пользователей и экспертов, жанры и платформы (например, Xbox или PlayStation). Вам нужно выявить определяющие успешность игры закономерности. Это позволит сделать ставку на потенциально популярный продукт и спланировать рекламные кампании.\n",
    "\n",
    "Данные, доступные для анализа, составлены до 2016 года (могут быть неполными). Цель работы заключается в прогнозировании результатов на 2017 год.\n",
    "\n",
    "\n",
    "План работы состоит из следующих пунктов:\n",
    "- загрузка данных и изучение общей информации о них\n",
    "- предобработка данных, где выявляются и устраняются явные и неявные дубликаты, пропуски, изменяются типы данных и подготавливаются к дальнейшему анализу\n",
    "- проведение исследовательского анализа данных, в котором стоит выяснить и визуализировать: сколько игр выпускалось в разные годы; как менялись продажи по платформам; какой актуальный период у данных; какие платформы лидируют по продажам за выбранный период; как влияют на продажи внутри популярных платформ отзывы пользователей и критиков и каково общее распределение игр по жанрам\n",
    "- составление общего портрета пользователя каждого региона, в котором определим топ-5 популярных платформ и жанров для жителей каждого региона, а также выясним, влияет ли рейтинг ESRB на продажи в отдельном регионе\n",
    "- проверка гипотез: средние пользовательские рейтинги платформ Xbox One и PC одинаковые; средние пользовательские рейтинги жанров Action и Sports разные\n",
    "- общие выводы по проекту"
   ]
  },
  {
   "cell_type": "markdown",
   "id": "a03c6f13-403e-46df-b668-443986a01920",
   "metadata": {},
   "source": [
    "### Загрузка данных и изучение общей информации"
   ]
  },
  {
   "cell_type": "code",
   "execution_count": 1,
   "id": "e784b664-6ce4-4f66-8d5c-e8d3002b6c5b",
   "metadata": {},
   "outputs": [],
   "source": [
    "#импортировала необходимые для дальнейшей работы библиотеки\n",
    "import pandas as pd\n",
    "import numpy as np\n",
    "import matplotlib.pyplot as plt\n",
    "from scipy import stats as st"
   ]
  },
  {
   "cell_type": "code",
   "execution_count": 2,
   "id": "58488587-593e-47d8-86aa-ae392c635a30",
   "metadata": {},
   "outputs": [
    {
     "data": {
      "text/html": [
       "<div>\n",
       "<style scoped>\n",
       "    .dataframe tbody tr th:only-of-type {\n",
       "        vertical-align: middle;\n",
       "    }\n",
       "\n",
       "    .dataframe tbody tr th {\n",
       "        vertical-align: top;\n",
       "    }\n",
       "\n",
       "    .dataframe thead th {\n",
       "        text-align: right;\n",
       "    }\n",
       "</style>\n",
       "<table border=\"1\" class=\"dataframe\">\n",
       "  <thead>\n",
       "    <tr style=\"text-align: right;\">\n",
       "      <th></th>\n",
       "      <th>Name</th>\n",
       "      <th>Platform</th>\n",
       "      <th>Year_of_Release</th>\n",
       "      <th>Genre</th>\n",
       "      <th>NA_sales</th>\n",
       "      <th>EU_sales</th>\n",
       "      <th>JP_sales</th>\n",
       "      <th>Other_sales</th>\n",
       "      <th>Critic_Score</th>\n",
       "      <th>User_Score</th>\n",
       "      <th>Rating</th>\n",
       "    </tr>\n",
       "  </thead>\n",
       "  <tbody>\n",
       "    <tr>\n",
       "      <th>0</th>\n",
       "      <td>Wii Sports</td>\n",
       "      <td>Wii</td>\n",
       "      <td>2006.0</td>\n",
       "      <td>Sports</td>\n",
       "      <td>41.36</td>\n",
       "      <td>28.96</td>\n",
       "      <td>3.77</td>\n",
       "      <td>8.45</td>\n",
       "      <td>76.0</td>\n",
       "      <td>8</td>\n",
       "      <td>E</td>\n",
       "    </tr>\n",
       "    <tr>\n",
       "      <th>1</th>\n",
       "      <td>Super Mario Bros.</td>\n",
       "      <td>NES</td>\n",
       "      <td>1985.0</td>\n",
       "      <td>Platform</td>\n",
       "      <td>29.08</td>\n",
       "      <td>3.58</td>\n",
       "      <td>6.81</td>\n",
       "      <td>0.77</td>\n",
       "      <td>NaN</td>\n",
       "      <td>NaN</td>\n",
       "      <td>NaN</td>\n",
       "    </tr>\n",
       "    <tr>\n",
       "      <th>2</th>\n",
       "      <td>Mario Kart Wii</td>\n",
       "      <td>Wii</td>\n",
       "      <td>2008.0</td>\n",
       "      <td>Racing</td>\n",
       "      <td>15.68</td>\n",
       "      <td>12.76</td>\n",
       "      <td>3.79</td>\n",
       "      <td>3.29</td>\n",
       "      <td>82.0</td>\n",
       "      <td>8.3</td>\n",
       "      <td>E</td>\n",
       "    </tr>\n",
       "    <tr>\n",
       "      <th>3</th>\n",
       "      <td>Wii Sports Resort</td>\n",
       "      <td>Wii</td>\n",
       "      <td>2009.0</td>\n",
       "      <td>Sports</td>\n",
       "      <td>15.61</td>\n",
       "      <td>10.93</td>\n",
       "      <td>3.28</td>\n",
       "      <td>2.95</td>\n",
       "      <td>80.0</td>\n",
       "      <td>8</td>\n",
       "      <td>E</td>\n",
       "    </tr>\n",
       "    <tr>\n",
       "      <th>4</th>\n",
       "      <td>Pokemon Red/Pokemon Blue</td>\n",
       "      <td>GB</td>\n",
       "      <td>1996.0</td>\n",
       "      <td>Role-Playing</td>\n",
       "      <td>11.27</td>\n",
       "      <td>8.89</td>\n",
       "      <td>10.22</td>\n",
       "      <td>1.00</td>\n",
       "      <td>NaN</td>\n",
       "      <td>NaN</td>\n",
       "      <td>NaN</td>\n",
       "    </tr>\n",
       "  </tbody>\n",
       "</table>\n",
       "</div>"
      ],
      "text/plain": [
       "                       Name Platform  Year_of_Release         Genre  NA_sales  \\\n",
       "0                Wii Sports      Wii           2006.0        Sports     41.36   \n",
       "1         Super Mario Bros.      NES           1985.0      Platform     29.08   \n",
       "2            Mario Kart Wii      Wii           2008.0        Racing     15.68   \n",
       "3         Wii Sports Resort      Wii           2009.0        Sports     15.61   \n",
       "4  Pokemon Red/Pokemon Blue       GB           1996.0  Role-Playing     11.27   \n",
       "\n",
       "   EU_sales  JP_sales  Other_sales  Critic_Score User_Score Rating  \n",
       "0     28.96      3.77         8.45          76.0          8      E  \n",
       "1      3.58      6.81         0.77           NaN        NaN    NaN  \n",
       "2     12.76      3.79         3.29          82.0        8.3      E  \n",
       "3     10.93      3.28         2.95          80.0          8      E  \n",
       "4      8.89     10.22         1.00           NaN        NaN    NaN  "
      ]
     },
     "execution_count": 2,
     "metadata": {},
     "output_type": "execute_result"
    }
   ],
   "source": [
    "#выгрузила данные\n",
    "try:\n",
    "    df = pd.read_csv('C:/Users/Любовь/Downloads/games.csv')\n",
    "except:\n",
    "    df = pd.read_csv('https://code.s3.yandex.net/datasets/games.csv')\n",
    "\n",
    "df.head() #вывела первые строки датафрейма"
   ]
  },
  {
   "cell_type": "code",
   "execution_count": 3,
   "id": "2131b87e-60fb-4951-8b8b-7097055c6af3",
   "metadata": {},
   "outputs": [
    {
     "name": "stdout",
     "output_type": "stream",
     "text": [
      "<class 'pandas.core.frame.DataFrame'>\n",
      "RangeIndex: 16715 entries, 0 to 16714\n",
      "Data columns (total 11 columns):\n",
      " #   Column           Non-Null Count  Dtype  \n",
      "---  ------           --------------  -----  \n",
      " 0   Name             16713 non-null  object \n",
      " 1   Platform         16715 non-null  object \n",
      " 2   Year_of_Release  16446 non-null  float64\n",
      " 3   Genre            16713 non-null  object \n",
      " 4   NA_sales         16715 non-null  float64\n",
      " 5   EU_sales         16715 non-null  float64\n",
      " 6   JP_sales         16715 non-null  float64\n",
      " 7   Other_sales      16715 non-null  float64\n",
      " 8   Critic_Score     8137 non-null   float64\n",
      " 9   User_Score       10014 non-null  object \n",
      " 10  Rating           9949 non-null   object \n",
      "dtypes: float64(6), object(5)\n",
      "memory usage: 1.4+ MB\n"
     ]
    }
   ],
   "source": [
    "df.info() #вывела общую информацию"
   ]
  },
  {
   "cell_type": "markdown",
   "id": "8c35984f-b42e-495d-a0a5-fd688a6319fa",
   "metadata": {},
   "source": [
    "**Вывод**: в результате изучения общей информации видим, что в датафрейме всего 11 столбцов и 16715 строк. Во многих столбцах присутствуют пропуски, названия прописаны не в одном стиле, имеются ошибки в определении типа данных. Это все предстоит исправить на следующем этапе - в предобработке данных."
   ]
  },
  {
   "cell_type": "markdown",
   "id": "ca597d00-de04-4a48-aa72-d62f812b474c",
   "metadata": {},
   "source": [
    "### Предобработка данных"
   ]
  },
  {
   "cell_type": "code",
   "execution_count": 4,
   "id": "2cf29890-488c-418c-8d40-5475245ef79c",
   "metadata": {},
   "outputs": [],
   "source": [
    "df.columns = df.columns.str.lower() #привела все названия столбцов к нижнему регистру"
   ]
  },
  {
   "cell_type": "code",
   "execution_count": 5,
   "id": "344c6abd-d1c3-4573-be2f-ac1dce970f0f",
   "metadata": {},
   "outputs": [
    {
     "data": {
      "text/plain": [
       "0"
      ]
     },
     "execution_count": 5,
     "metadata": {},
     "output_type": "execute_result"
    }
   ],
   "source": [
    "df.duplicated().sum() #проверила на наличие дубликатов"
   ]
  },
  {
   "cell_type": "code",
   "execution_count": 6,
   "id": "ebce9f7d-8a4a-4413-9311-77f437440ac0",
   "metadata": {},
   "outputs": [
    {
     "data": {
      "text/html": [
       "<div>\n",
       "<style scoped>\n",
       "    .dataframe tbody tr th:only-of-type {\n",
       "        vertical-align: middle;\n",
       "    }\n",
       "\n",
       "    .dataframe tbody tr th {\n",
       "        vertical-align: top;\n",
       "    }\n",
       "\n",
       "    .dataframe thead th {\n",
       "        text-align: right;\n",
       "    }\n",
       "</style>\n",
       "<table border=\"1\" class=\"dataframe\">\n",
       "  <thead>\n",
       "    <tr style=\"text-align: right;\">\n",
       "      <th></th>\n",
       "      <th>name</th>\n",
       "      <th>platform</th>\n",
       "      <th>year_of_release</th>\n",
       "      <th>genre</th>\n",
       "      <th>na_sales</th>\n",
       "      <th>eu_sales</th>\n",
       "      <th>jp_sales</th>\n",
       "      <th>other_sales</th>\n",
       "      <th>critic_score</th>\n",
       "      <th>user_score</th>\n",
       "      <th>rating</th>\n",
       "    </tr>\n",
       "  </thead>\n",
       "  <tbody>\n",
       "    <tr>\n",
       "      <th>16230</th>\n",
       "      <td>Madden NFL 13</td>\n",
       "      <td>PS3</td>\n",
       "      <td>2012.0</td>\n",
       "      <td>Sports</td>\n",
       "      <td>0.0</td>\n",
       "      <td>0.01</td>\n",
       "      <td>0.00</td>\n",
       "      <td>0.0</td>\n",
       "      <td>83.0</td>\n",
       "      <td>5.5</td>\n",
       "      <td>E</td>\n",
       "    </tr>\n",
       "    <tr>\n",
       "      <th>14244</th>\n",
       "      <td>NaN</td>\n",
       "      <td>GEN</td>\n",
       "      <td>1993.0</td>\n",
       "      <td>NaN</td>\n",
       "      <td>0.0</td>\n",
       "      <td>0.00</td>\n",
       "      <td>0.03</td>\n",
       "      <td>0.0</td>\n",
       "      <td>NaN</td>\n",
       "      <td>NaN</td>\n",
       "      <td>NaN</td>\n",
       "    </tr>\n",
       "  </tbody>\n",
       "</table>\n",
       "</div>"
      ],
      "text/plain": [
       "                name platform  year_of_release   genre  na_sales  eu_sales  \\\n",
       "16230  Madden NFL 13      PS3           2012.0  Sports       0.0      0.01   \n",
       "14244            NaN      GEN           1993.0     NaN       0.0      0.00   \n",
       "\n",
       "       jp_sales  other_sales  critic_score user_score rating  \n",
       "16230      0.00          0.0          83.0        5.5      E  \n",
       "14244      0.03          0.0           NaN        NaN    NaN  "
      ]
     },
     "execution_count": 6,
     "metadata": {},
     "output_type": "execute_result"
    }
   ],
   "source": [
    "df.loc[df.duplicated(subset=['name', 'platform', 'year_of_release'])].sort_values(by='name') #нашла неявные дубликаты по ключевым столбцам"
   ]
  },
  {
   "cell_type": "code",
   "execution_count": 7,
   "id": "36f28cfc-7e07-4c2b-b0d9-4393c89a6e9f",
   "metadata": {},
   "outputs": [],
   "source": [
    "df.drop([14244, 16230], inplace=True) #удалила неявные дубликаты и обновила индексы"
   ]
  },
  {
   "cell_type": "code",
   "execution_count": 9,
   "id": "96623719-d341-40d7-8cd4-e1d16db04d18",
   "metadata": {},
   "outputs": [
    {
     "data": {
      "text/plain": [
       "name                  1\n",
       "platform              0\n",
       "year_of_release     269\n",
       "genre                 1\n",
       "na_sales              0\n",
       "eu_sales              0\n",
       "jp_sales              0\n",
       "other_sales           0\n",
       "critic_score       8577\n",
       "user_score         6700\n",
       "rating             6765\n",
       "dtype: int64"
      ]
     },
     "execution_count": 9,
     "metadata": {},
     "output_type": "execute_result"
    }
   ],
   "source": [
    "df.isna().sum() #вывела количество пропусков в стобцах"
   ]
  },
  {
   "cell_type": "code",
   "execution_count": 10,
   "id": "718096b5-3fbb-4aed-82c1-5e08f1039cc3",
   "metadata": {},
   "outputs": [],
   "source": [
    "df.dropna(subset=['name', 'genre'], inplace=True) #удалила пропущенные значения, т.к. их мало"
   ]
  },
  {
   "cell_type": "code",
   "execution_count": 11,
   "id": "42e9f844-f390-45db-99be-be7b475fc86a",
   "metadata": {},
   "outputs": [],
   "source": [
    "df['user_score'] = pd.to_numeric(df['user_score'], errors='coerce') #перевела строковые значения в числа, ошибки изменила на NaN\n",
    "df['user_score'] = df['user_score'].astype(float) #изменила тип данных"
   ]
  },
  {
   "cell_type": "code",
   "execution_count": 12,
   "id": "3728b916-2284-4efb-b945-237d5ad05ee8",
   "metadata": {},
   "outputs": [],
   "source": [
    "df['year_of_release'] = df['year_of_release'].astype('Int64') #изменила тип данных"
   ]
  },
  {
   "cell_type": "code",
   "execution_count": 13,
   "id": "95f5849d-13d1-43dd-944e-c6a8990e3b14",
   "metadata": {},
   "outputs": [
    {
     "data": {
      "text/html": [
       "<div>\n",
       "<style scoped>\n",
       "    .dataframe tbody tr th:only-of-type {\n",
       "        vertical-align: middle;\n",
       "    }\n",
       "\n",
       "    .dataframe tbody tr th {\n",
       "        vertical-align: top;\n",
       "    }\n",
       "\n",
       "    .dataframe thead th {\n",
       "        text-align: right;\n",
       "    }\n",
       "</style>\n",
       "<table border=\"1\" class=\"dataframe\">\n",
       "  <thead>\n",
       "    <tr style=\"text-align: right;\">\n",
       "      <th></th>\n",
       "      <th>name</th>\n",
       "      <th>platform</th>\n",
       "      <th>year_of_release</th>\n",
       "      <th>genre</th>\n",
       "      <th>na_sales</th>\n",
       "      <th>eu_sales</th>\n",
       "      <th>jp_sales</th>\n",
       "      <th>other_sales</th>\n",
       "      <th>critic_score</th>\n",
       "      <th>user_score</th>\n",
       "      <th>rating</th>\n",
       "      <th>sum_sales</th>\n",
       "    </tr>\n",
       "  </thead>\n",
       "  <tbody>\n",
       "    <tr>\n",
       "      <th>0</th>\n",
       "      <td>Wii Sports</td>\n",
       "      <td>Wii</td>\n",
       "      <td>2006</td>\n",
       "      <td>Sports</td>\n",
       "      <td>41.36</td>\n",
       "      <td>28.96</td>\n",
       "      <td>3.77</td>\n",
       "      <td>8.45</td>\n",
       "      <td>76.0</td>\n",
       "      <td>8.0</td>\n",
       "      <td>E</td>\n",
       "      <td>82.54</td>\n",
       "    </tr>\n",
       "    <tr>\n",
       "      <th>1</th>\n",
       "      <td>Super Mario Bros.</td>\n",
       "      <td>NES</td>\n",
       "      <td>1985</td>\n",
       "      <td>Platform</td>\n",
       "      <td>29.08</td>\n",
       "      <td>3.58</td>\n",
       "      <td>6.81</td>\n",
       "      <td>0.77</td>\n",
       "      <td>NaN</td>\n",
       "      <td>NaN</td>\n",
       "      <td>NaN</td>\n",
       "      <td>40.24</td>\n",
       "    </tr>\n",
       "    <tr>\n",
       "      <th>2</th>\n",
       "      <td>Mario Kart Wii</td>\n",
       "      <td>Wii</td>\n",
       "      <td>2008</td>\n",
       "      <td>Racing</td>\n",
       "      <td>15.68</td>\n",
       "      <td>12.76</td>\n",
       "      <td>3.79</td>\n",
       "      <td>3.29</td>\n",
       "      <td>82.0</td>\n",
       "      <td>8.3</td>\n",
       "      <td>E</td>\n",
       "      <td>35.52</td>\n",
       "    </tr>\n",
       "    <tr>\n",
       "      <th>3</th>\n",
       "      <td>Wii Sports Resort</td>\n",
       "      <td>Wii</td>\n",
       "      <td>2009</td>\n",
       "      <td>Sports</td>\n",
       "      <td>15.61</td>\n",
       "      <td>10.93</td>\n",
       "      <td>3.28</td>\n",
       "      <td>2.95</td>\n",
       "      <td>80.0</td>\n",
       "      <td>8.0</td>\n",
       "      <td>E</td>\n",
       "      <td>32.77</td>\n",
       "    </tr>\n",
       "    <tr>\n",
       "      <th>4</th>\n",
       "      <td>Pokemon Red/Pokemon Blue</td>\n",
       "      <td>GB</td>\n",
       "      <td>1996</td>\n",
       "      <td>Role-Playing</td>\n",
       "      <td>11.27</td>\n",
       "      <td>8.89</td>\n",
       "      <td>10.22</td>\n",
       "      <td>1.00</td>\n",
       "      <td>NaN</td>\n",
       "      <td>NaN</td>\n",
       "      <td>NaN</td>\n",
       "      <td>31.38</td>\n",
       "    </tr>\n",
       "  </tbody>\n",
       "</table>\n",
       "</div>"
      ],
      "text/plain": [
       "                       name platform  year_of_release         genre  na_sales  \\\n",
       "0                Wii Sports      Wii             2006        Sports     41.36   \n",
       "1         Super Mario Bros.      NES             1985      Platform     29.08   \n",
       "2            Mario Kart Wii      Wii             2008        Racing     15.68   \n",
       "3         Wii Sports Resort      Wii             2009        Sports     15.61   \n",
       "4  Pokemon Red/Pokemon Blue       GB             1996  Role-Playing     11.27   \n",
       "\n",
       "   eu_sales  jp_sales  other_sales  critic_score  user_score rating  sum_sales  \n",
       "0     28.96      3.77         8.45          76.0         8.0      E      82.54  \n",
       "1      3.58      6.81         0.77           NaN         NaN    NaN      40.24  \n",
       "2     12.76      3.79         3.29          82.0         8.3      E      35.52  \n",
       "3     10.93      3.28         2.95          80.0         8.0      E      32.77  \n",
       "4      8.89     10.22         1.00           NaN         NaN    NaN      31.38  "
      ]
     },
     "execution_count": 13,
     "metadata": {},
     "output_type": "execute_result"
    }
   ],
   "source": [
    "df['sum_sales'] = df['na_sales'] + df['eu_sales'] + df['jp_sales'] + df['other_sales'] #добавила столбец с суммарными продажами\n",
    "df.head() #вывела первые строки обновленного датафрейма на экран"
   ]
  },
  {
   "cell_type": "code",
   "execution_count": 14,
   "id": "055ab99c-f765-421f-8256-401e4721a378",
   "metadata": {
    "scrolled": true
   },
   "outputs": [
    {
     "data": {
      "text/plain": [
       "array(['E', nan, 'M', 'T', 'E10+', 'K-A', 'AO', 'EC', 'RP'], dtype=object)"
      ]
     },
     "execution_count": 14,
     "metadata": {},
     "output_type": "execute_result"
    }
   ],
   "source": [
    "df['rating'].unique()"
   ]
  },
  {
   "cell_type": "code",
   "execution_count": 15,
   "id": "85548b65-e4af-467e-ad41-7964d54d69fc",
   "metadata": {},
   "outputs": [],
   "source": [
    "df['rating'] = df['rating'].fillna('RP') #заменила пропуски в рейтинги на категорию ожидания проверки"
   ]
  },
  {
   "cell_type": "code",
   "execution_count": 16,
   "id": "4dbfb941-917b-48df-add8-b5737d9b8347",
   "metadata": {},
   "outputs": [],
   "source": [
    "df = df.replace({'rating':{'K-A':'E'}}) #объединила категории в одну по смыслу\n",
    "df.drop(df.index[(df['rating'] == 'EC') & (df['rating'] == 'AO')], inplace=True) #удалила малочисленные категории"
   ]
  },
  {
   "cell_type": "code",
   "execution_count": 17,
   "id": "9b8b0777-249d-406b-b363-0e1b9f802b39",
   "metadata": {},
   "outputs": [
    {
     "name": "stdout",
     "output_type": "stream",
     "text": [
      "<class 'pandas.core.frame.DataFrame'>\n",
      "Int64Index: 16712 entries, 0 to 16714\n",
      "Data columns (total 12 columns):\n",
      " #   Column           Non-Null Count  Dtype  \n",
      "---  ------           --------------  -----  \n",
      " 0   name             16712 non-null  object \n",
      " 1   platform         16712 non-null  object \n",
      " 2   year_of_release  16443 non-null  Int64  \n",
      " 3   genre            16712 non-null  object \n",
      " 4   na_sales         16712 non-null  float64\n",
      " 5   eu_sales         16712 non-null  float64\n",
      " 6   jp_sales         16712 non-null  float64\n",
      " 7   other_sales      16712 non-null  float64\n",
      " 8   critic_score     8136 non-null   float64\n",
      " 9   user_score       7589 non-null   float64\n",
      " 10  rating           16712 non-null  object \n",
      " 11  sum_sales        16712 non-null  float64\n",
      "dtypes: Int64(1), float64(7), object(4)\n",
      "memory usage: 2.2+ MB\n"
     ]
    }
   ],
   "source": [
    "df.info() #вывела общую информацию"
   ]
  },
  {
   "cell_type": "code",
   "execution_count": 18,
   "id": "261c219f",
   "metadata": {},
   "outputs": [
    {
     "data": {
      "text/plain": [
       "RP      6767\n",
       "E       3992\n",
       "T       2961\n",
       "M       1563\n",
       "E10+    1420\n",
       "EC         8\n",
       "AO         1\n",
       "Name: rating, dtype: int64"
      ]
     },
     "execution_count": 18,
     "metadata": {},
     "output_type": "execute_result"
    }
   ],
   "source": [
    "# check\n",
    "df['rating'].value_counts()"
   ]
  },
  {
   "cell_type": "markdown",
   "id": "70070c7e-f6be-410d-b8b1-9a65190635fc",
   "metadata": {},
   "source": [
    "**Вывод:** на этапе предобработки данные были проверены на наличие дубликатов и пропусков. Явные дубликаты не были обнаружены, а неявные по ключевым столбцам были удалены. В стобцах с названием игры и жанром 1 пропуск - менять их на выдуманные названия нецелесообразно, поэтому просто удаляю эти данные в связи с их минимальным количесвтом. В столбце с годом выпуска 269 пропусков - медианное и среднее значения для них, на мой взгляд, также неуместны, поэтому я оставляю пропуски. В столбце с оценкой критиков больше половины пропущнных значений - я не трогала их, так как изменения могут сильно исказить картину, в реальной жизни лучше обговорить этот момент с заказчиком. Такая же ситуация и с данными оценок пользователей. А вот в рейтинге игры я посчитала уместным изменить пропуски на категорию \"ожидает оценки\", чтобы эти данные участвовали в дальнейшем анализе, а несколько подозрительно малочисленных категорий удалила из датафрейма. В столбце с оценкой пользователей также встречается значение 'tbd'(To Be Determined), что, по сути, и есть NaN. Поэтому я привела значения этого столбца к числовому типу, заменяя все всплывающие ошибки на NaN, а тип данных изменила на нецелочисленный."
   ]
  },
  {
   "cell_type": "markdown",
   "id": "90d71167-e9ad-4e0d-a5fa-0bfccf870777",
   "metadata": {},
   "source": [
    "### Исследовательский анализ"
   ]
  },
  {
   "cell_type": "markdown",
   "id": "17b5207b-8841-4fb0-ab69-1c4a303ed65f",
   "metadata": {},
   "source": [
    "#### Посмотрим, сколько игр выпускалось в разные годы"
   ]
  },
  {
   "cell_type": "code",
   "execution_count": 19,
   "id": "ae8a859f-8e3f-4681-ac89-66e53b75704d",
   "metadata": {},
   "outputs": [
    {
     "data": {
      "text/plain": [
       "count    16443.000000\n",
       "mean      2006.485921\n",
       "std          5.875546\n",
       "min       1980.000000\n",
       "25%       2003.000000\n",
       "50%       2007.000000\n",
       "75%       2010.000000\n",
       "max       2016.000000\n",
       "Name: year_of_release, dtype: float64"
      ]
     },
     "execution_count": 19,
     "metadata": {},
     "output_type": "execute_result"
    }
   ],
   "source": [
    "df['year_of_release'].describe()"
   ]
  },
  {
   "cell_type": "code",
   "execution_count": 20,
   "id": "769184f9-cdd4-4f71-88bf-d88c902975e1",
   "metadata": {},
   "outputs": [
    {
     "data": {
      "image/png": "[encoded data removed]",
      "text/plain": [
       "<Figure size 360x288 with 1 Axes>"
      ]
     },
     "metadata": {
      "needs_background": "light"
     },
     "output_type": "display_data"
    }
   ],
   "source": [
    "df.pivot_table(index='year_of_release', values='name', aggfunc='count').plot(style='o-', figsize=(5,4), grid=True)\n",
    "plt.title('Распределение количества выпущенных игр по годам')\n",
    "plt.xlabel('Год выпуска')\n",
    "plt.ylabel('Кол-во игр')\n",
    "plt.legend('');"
   ]
  },
  {
   "cell_type": "markdown",
   "id": "e941b48e-b330-4628-969f-8283bf09b2ec",
   "metadata": {},
   "source": [
    "**Вывод:** на мой взгляд, рассматривать данные за все периоды нет необходимости, а для наглядности удобнее построить график. Из него видно, что наибольшее количество выпущенных игр пришлось на период с 2005 по 2011 годы. "
   ]
  },
  {
   "cell_type": "markdown",
   "id": "8878da56-7a7f-4a5b-b698-8544b336bfc5",
   "metadata": {},
   "source": [
    "#### Посмотрим, как менялись продажи по платформам"
   ]
  },
  {
   "cell_type": "code",
   "execution_count": 24,
   "id": "8edb6870-d787-46eb-8146-da6f6e2d122b",
   "metadata": {},
   "outputs": [
    {
     "data": {
      "text/html": [
       "<div>\n",
       "<style scoped>\n",
       "    .dataframe tbody tr th:only-of-type {\n",
       "        vertical-align: middle;\n",
       "    }\n",
       "\n",
       "    .dataframe tbody tr th {\n",
       "        vertical-align: top;\n",
       "    }\n",
       "\n",
       "    .dataframe thead th {\n",
       "        text-align: right;\n",
       "    }\n",
       "</style>\n",
       "<table border=\"1\" class=\"dataframe\">\n",
       "  <thead>\n",
       "    <tr style=\"text-align: right;\">\n",
       "      <th></th>\n",
       "      <th>platform</th>\n",
       "      <th>sum_sales</th>\n",
       "    </tr>\n",
       "  </thead>\n",
       "  <tbody>\n",
       "    <tr>\n",
       "      <th>0</th>\n",
       "      <td>PS2</td>\n",
       "      <td>1255.77</td>\n",
       "    </tr>\n",
       "    <tr>\n",
       "      <th>1</th>\n",
       "      <td>X360</td>\n",
       "      <td>971.42</td>\n",
       "    </tr>\n",
       "    <tr>\n",
       "      <th>2</th>\n",
       "      <td>PS3</td>\n",
       "      <td>939.64</td>\n",
       "    </tr>\n",
       "    <tr>\n",
       "      <th>3</th>\n",
       "      <td>Wii</td>\n",
       "      <td>907.51</td>\n",
       "    </tr>\n",
       "    <tr>\n",
       "      <th>4</th>\n",
       "      <td>DS</td>\n",
       "      <td>806.12</td>\n",
       "    </tr>\n",
       "    <tr>\n",
       "      <th>5</th>\n",
       "      <td>PS</td>\n",
       "      <td>730.86</td>\n",
       "    </tr>\n",
       "    <tr>\n",
       "      <th>6</th>\n",
       "      <td>GBA</td>\n",
       "      <td>317.85</td>\n",
       "    </tr>\n",
       "    <tr>\n",
       "      <th>7</th>\n",
       "      <td>PS4</td>\n",
       "      <td>314.14</td>\n",
       "    </tr>\n",
       "    <tr>\n",
       "      <th>8</th>\n",
       "      <td>PSP</td>\n",
       "      <td>294.05</td>\n",
       "    </tr>\n",
       "    <tr>\n",
       "      <th>9</th>\n",
       "      <td>PC</td>\n",
       "      <td>259.52</td>\n",
       "    </tr>\n",
       "  </tbody>\n",
       "</table>\n",
       "</div>"
      ],
      "text/plain": [
       "  platform  sum_sales\n",
       "0      PS2    1255.77\n",
       "1     X360     971.42\n",
       "2      PS3     939.64\n",
       "3      Wii     907.51\n",
       "4       DS     806.12\n",
       "5       PS     730.86\n",
       "6      GBA     317.85\n",
       "7      PS4     314.14\n",
       "8      PSP     294.05\n",
       "9       PC     259.52"
      ]
     },
     "execution_count": 24,
     "metadata": {},
     "output_type": "execute_result"
    }
   ],
   "source": [
    "sale = df.pivot_table(index='platform', values='sum_sales', aggfunc='sum').sort_values(by='sum_sales', ascending=False)\n",
    "top_10 = sale.reset_index().iloc[:10]\n",
    "top = top_10['platform'].unique() #создала список лучших платформ\n",
    "top_10"
   ]
  },
  {
   "cell_type": "code",
   "execution_count": 25,
   "id": "a5daa644-1fc7-4792-9cfd-8005dd639986",
   "metadata": {},
   "outputs": [
    {
     "data": {
      "image/png": "[encoded data removed]",
      "text/plain": [
       "<Figure size 360x216 with 1 Axes>"
      ]
     },
     "metadata": {
      "needs_background": "light"
     },
     "output_type": "display_data"
    },
    {
     "data": {
      "image/png": "[encoded data removed]",
      "text/plain": [
       "<Figure size 360x216 with 1 Axes>"
      ]
     },
     "metadata": {
      "needs_background": "light"
     },
     "output_type": "display_data"
    },
    {
     "data": {
      "image/png": "[encoded data removed]",
      "text/plain": [
       "<Figure size 360x216 with 1 Axes>"
      ]
     },
     "metadata": {
      "needs_background": "light"
     },
     "output_type": "display_data"
    },
    {
     "data": {
      "image/png": "[encoded data removed]",
      "text/plain": [
       "<Figure size 360x216 with 1 Axes>"
      ]
     },
     "metadata": {
      "needs_background": "light"
     },
     "output_type": "display_data"
    },
    {
     "data": {
      "image/png": "[encoded data removed]",
      "text/plain": [
       "<Figure size 360x216 with 1 Axes>"
      ]
     },
     "metadata": {
      "needs_background": "light"
     },
     "output_type": "display_data"
    },
    {
     "data": {
      "image/png": "[encoded data removed]",
      "text/plain": [
       "<Figure size 360x216 with 1 Axes>"
      ]
     },
     "metadata": {
      "needs_background": "light"
     },
     "output_type": "display_data"
    },
    {
     "data": {
      "image/png": "[encoded data removed]",
      "text/plain": [
       "<Figure size 360x216 with 1 Axes>"
      ]
     },
     "metadata": {
      "needs_background": "light"
     },
     "output_type": "display_data"
    },
    {
     "data": {
      "image/png": "[encoded data removed]",
      "text/plain": [
       "<Figure size 360x216 with 1 Axes>"
      ]
     },
     "metadata": {
      "needs_background": "light"
     },
     "output_type": "display_data"
    },
    {
     "data": {
      "image/png": "[encoded data removed]",
      "text/plain": [
       "<Figure size 360x216 with 1 Axes>"
      ]
     },
     "metadata": {
      "needs_background": "light"
     },
     "output_type": "display_data"
    },
    {
     "data": {
      "image/png": "[encoded data removed]",
      "text/plain": [
       "<Figure size 360x216 with 1 Axes>"
      ]
     },
     "metadata": {
      "needs_background": "light"
     },
     "output_type": "display_data"
    }
   ],
   "source": [
    "for platform in top:\n",
    "    (\n",
    "        df[df['platform'] == platform]\n",
    "        .pivot_table(index='year_of_release', values='sum_sales', aggfunc='sum')\n",
    "        .plot(style='-', figsize=(5,3), grid=True)\n",
    "    )\n",
    "    plt.title(platform)\n",
    "    plt.xlabel('Годы жизни платформы')\n",
    "    plt.ylabel('Кол-во продаж');"
   ]
  },
  {
   "cell_type": "code",
   "execution_count": 26,
   "id": "212c5321-58b5-4daf-a2ed-22519975881a",
   "metadata": {},
   "outputs": [
    {
     "data": {
      "text/html": [
       "<div>\n",
       "<style scoped>\n",
       "    .dataframe tbody tr th:only-of-type {\n",
       "        vertical-align: middle;\n",
       "    }\n",
       "\n",
       "    .dataframe tbody tr th {\n",
       "        vertical-align: top;\n",
       "    }\n",
       "\n",
       "    .dataframe thead th {\n",
       "        text-align: right;\n",
       "    }\n",
       "</style>\n",
       "<table border=\"1\" class=\"dataframe\">\n",
       "  <thead>\n",
       "    <tr style=\"text-align: right;\">\n",
       "      <th></th>\n",
       "      <th>name</th>\n",
       "      <th>platform</th>\n",
       "      <th>year_of_release</th>\n",
       "      <th>genre</th>\n",
       "      <th>na_sales</th>\n",
       "      <th>eu_sales</th>\n",
       "      <th>jp_sales</th>\n",
       "      <th>other_sales</th>\n",
       "      <th>critic_score</th>\n",
       "      <th>user_score</th>\n",
       "      <th>rating</th>\n",
       "      <th>sum_sales</th>\n",
       "    </tr>\n",
       "  </thead>\n",
       "  <tbody>\n",
       "    <tr>\n",
       "      <th>15957</th>\n",
       "      <td>Strongest Tokyo University Shogi DS</td>\n",
       "      <td>DS</td>\n",
       "      <td>1985</td>\n",
       "      <td>Action</td>\n",
       "      <td>0.00</td>\n",
       "      <td>0.00</td>\n",
       "      <td>0.02</td>\n",
       "      <td>0.0</td>\n",
       "      <td>NaN</td>\n",
       "      <td>NaN</td>\n",
       "      <td>RP</td>\n",
       "      <td>0.02</td>\n",
       "    </tr>\n",
       "    <tr>\n",
       "      <th>13463</th>\n",
       "      <td>Cocoto Kart Racer</td>\n",
       "      <td>DS</td>\n",
       "      <td>2004</td>\n",
       "      <td>Racing</td>\n",
       "      <td>0.04</td>\n",
       "      <td>0.00</td>\n",
       "      <td>0.00</td>\n",
       "      <td>0.0</td>\n",
       "      <td>NaN</td>\n",
       "      <td>NaN</td>\n",
       "      <td>E</td>\n",
       "      <td>0.04</td>\n",
       "    </tr>\n",
       "    <tr>\n",
       "      <th>11517</th>\n",
       "      <td>Kenshuui Tendo Dokuta</td>\n",
       "      <td>DS</td>\n",
       "      <td>2004</td>\n",
       "      <td>Simulation</td>\n",
       "      <td>0.00</td>\n",
       "      <td>0.00</td>\n",
       "      <td>0.08</td>\n",
       "      <td>0.0</td>\n",
       "      <td>NaN</td>\n",
       "      <td>NaN</td>\n",
       "      <td>RP</td>\n",
       "      <td>0.08</td>\n",
       "    </tr>\n",
       "    <tr>\n",
       "      <th>4421</th>\n",
       "      <td>The Urbz: Sims in the City (all regions sales)</td>\n",
       "      <td>DS</td>\n",
       "      <td>2004</td>\n",
       "      <td>Simulation</td>\n",
       "      <td>0.40</td>\n",
       "      <td>0.01</td>\n",
       "      <td>0.02</td>\n",
       "      <td>0.0</td>\n",
       "      <td>NaN</td>\n",
       "      <td>NaN</td>\n",
       "      <td>RP</td>\n",
       "      <td>0.43</td>\n",
       "    </tr>\n",
       "    <tr>\n",
       "      <th>7902</th>\n",
       "      <td>Daigasso! Band Brothers</td>\n",
       "      <td>DS</td>\n",
       "      <td>2004</td>\n",
       "      <td>Misc</td>\n",
       "      <td>0.00</td>\n",
       "      <td>0.00</td>\n",
       "      <td>0.19</td>\n",
       "      <td>0.0</td>\n",
       "      <td>NaN</td>\n",
       "      <td>NaN</td>\n",
       "      <td>RP</td>\n",
       "      <td>0.19</td>\n",
       "    </tr>\n",
       "  </tbody>\n",
       "</table>\n",
       "</div>"
      ],
      "text/plain": [
       "                                                 name platform  \\\n",
       "15957             Strongest Tokyo University Shogi DS       DS   \n",
       "13463                               Cocoto Kart Racer       DS   \n",
       "11517                           Kenshuui Tendo Dokuta       DS   \n",
       "4421   The Urbz: Sims in the City (all regions sales)       DS   \n",
       "7902                          Daigasso! Band Brothers       DS   \n",
       "\n",
       "       year_of_release       genre  na_sales  eu_sales  jp_sales  other_sales  \\\n",
       "15957             1985      Action      0.00      0.00      0.02          0.0   \n",
       "13463             2004      Racing      0.04      0.00      0.00          0.0   \n",
       "11517             2004  Simulation      0.00      0.00      0.08          0.0   \n",
       "4421              2004  Simulation      0.40      0.01      0.02          0.0   \n",
       "7902              2004        Misc      0.00      0.00      0.19          0.0   \n",
       "\n",
       "       critic_score  user_score rating  sum_sales  \n",
       "15957           NaN         NaN     RP       0.02  \n",
       "13463           NaN         NaN      E       0.04  \n",
       "11517           NaN         NaN     RP       0.08  \n",
       "4421            NaN         NaN     RP       0.43  \n",
       "7902            NaN         NaN     RP       0.19  "
      ]
     },
     "execution_count": 26,
     "metadata": {},
     "output_type": "execute_result"
    }
   ],
   "source": [
    "df[df['platform'] == 'DS'].sort_values(by='year_of_release').head() #вывела данные о платформе"
   ]
  },
  {
   "cell_type": "code",
   "execution_count": 27,
   "id": "c01c6d64-9dc4-4228-96bb-d7beb82aaf40",
   "metadata": {},
   "outputs": [],
   "source": [
    "df.loc[df['name'] == 'Strongest Tokyo University Shogi DS', 'year_of_release'] = 2010"
   ]
  },
  {
   "cell_type": "code",
   "execution_count": 28,
   "id": "ae192cc2-54ac-4c2b-b1f1-f0e65f7d65c3",
   "metadata": {},
   "outputs": [
    {
     "data": {
      "image/png": "[encoded data removed]",
      "text/plain": [
       "<Figure size 360x216 with 1 Axes>"
      ]
     },
     "metadata": {
      "needs_background": "light"
     },
     "output_type": "display_data"
    }
   ],
   "source": [
    "(\n",
    "    df[df['platform'] == 'DS']\n",
    "    .pivot_table(index='year_of_release', values='sum_sales', aggfunc='sum')\n",
    "    .plot(style='-', figsize=(5,3), grid=True)\n",
    ")\n",
    "plt.title('DS')\n",
    "plt.xlabel('Годы жизни платформы')\n",
    "plt.ylabel('Кол-во продаж');"
   ]
  },
  {
   "cell_type": "markdown",
   "id": "6cc8183a-a1a2-4078-861c-b14cb39bb7d2",
   "metadata": {},
   "source": [
    "**Вывод:** построив графики распределения продаж по годам для наиболее прибыльных платформ можно заметить, что примерный \"срок службы\" платформы - около 10 лет. Также в графике платформы DS была аномалия в виде 1985 года (когда сама платформа существует с 2004), я изучила данные по ней и исправила дату релиза игры с 1985 на 2010, убрав тем самым аномалию. \n",
    "\n",
    "Актуальным периодом я считаю данные с 2014 года включительно, так как индустрия игр быстро развивается, смысла брать данные за больший период нет."
   ]
  },
  {
   "cell_type": "markdown",
   "id": "dfa5df74-3a0f-4ac9-bda2-38765badb858",
   "metadata": {},
   "source": [
    "#### Посмотрим, какие платформы лидируют по продажам за актуальный период"
   ]
  },
  {
   "cell_type": "code",
   "execution_count": 29,
   "id": "ce378fa3-bdbc-4d1c-9229-bcbe43cf69f2",
   "metadata": {},
   "outputs": [
    {
     "data": {
      "text/html": [
       "<div>\n",
       "<style scoped>\n",
       "    .dataframe tbody tr th:only-of-type {\n",
       "        vertical-align: middle;\n",
       "    }\n",
       "\n",
       "    .dataframe tbody tr th {\n",
       "        vertical-align: top;\n",
       "    }\n",
       "\n",
       "    .dataframe thead th {\n",
       "        text-align: right;\n",
       "    }\n",
       "</style>\n",
       "<table border=\"1\" class=\"dataframe\">\n",
       "  <thead>\n",
       "    <tr style=\"text-align: right;\">\n",
       "      <th></th>\n",
       "      <th>name</th>\n",
       "      <th>platform</th>\n",
       "      <th>year_of_release</th>\n",
       "      <th>genre</th>\n",
       "      <th>na_sales</th>\n",
       "      <th>eu_sales</th>\n",
       "      <th>jp_sales</th>\n",
       "      <th>other_sales</th>\n",
       "      <th>critic_score</th>\n",
       "      <th>user_score</th>\n",
       "      <th>rating</th>\n",
       "      <th>sum_sales</th>\n",
       "    </tr>\n",
       "  </thead>\n",
       "  <tbody>\n",
       "    <tr>\n",
       "      <th>31</th>\n",
       "      <td>Call of Duty: Black Ops 3</td>\n",
       "      <td>PS4</td>\n",
       "      <td>2015</td>\n",
       "      <td>Shooter</td>\n",
       "      <td>6.03</td>\n",
       "      <td>5.86</td>\n",
       "      <td>0.36</td>\n",
       "      <td>2.38</td>\n",
       "      <td>NaN</td>\n",
       "      <td>NaN</td>\n",
       "      <td>RP</td>\n",
       "      <td>14.63</td>\n",
       "    </tr>\n",
       "    <tr>\n",
       "      <th>42</th>\n",
       "      <td>Grand Theft Auto V</td>\n",
       "      <td>PS4</td>\n",
       "      <td>2014</td>\n",
       "      <td>Action</td>\n",
       "      <td>3.96</td>\n",
       "      <td>6.31</td>\n",
       "      <td>0.38</td>\n",
       "      <td>1.97</td>\n",
       "      <td>97.0</td>\n",
       "      <td>8.3</td>\n",
       "      <td>M</td>\n",
       "      <td>12.62</td>\n",
       "    </tr>\n",
       "    <tr>\n",
       "      <th>47</th>\n",
       "      <td>Pokemon Omega Ruby/Pokemon Alpha Sapphire</td>\n",
       "      <td>3DS</td>\n",
       "      <td>2014</td>\n",
       "      <td>Role-Playing</td>\n",
       "      <td>4.35</td>\n",
       "      <td>3.49</td>\n",
       "      <td>3.10</td>\n",
       "      <td>0.74</td>\n",
       "      <td>NaN</td>\n",
       "      <td>NaN</td>\n",
       "      <td>RP</td>\n",
       "      <td>11.68</td>\n",
       "    </tr>\n",
       "    <tr>\n",
       "      <th>77</th>\n",
       "      <td>FIFA 16</td>\n",
       "      <td>PS4</td>\n",
       "      <td>2015</td>\n",
       "      <td>Sports</td>\n",
       "      <td>1.12</td>\n",
       "      <td>6.12</td>\n",
       "      <td>0.06</td>\n",
       "      <td>1.28</td>\n",
       "      <td>82.0</td>\n",
       "      <td>4.3</td>\n",
       "      <td>E</td>\n",
       "      <td>8.58</td>\n",
       "    </tr>\n",
       "    <tr>\n",
       "      <th>87</th>\n",
       "      <td>Star Wars Battlefront (2015)</td>\n",
       "      <td>PS4</td>\n",
       "      <td>2015</td>\n",
       "      <td>Shooter</td>\n",
       "      <td>2.99</td>\n",
       "      <td>3.49</td>\n",
       "      <td>0.22</td>\n",
       "      <td>1.28</td>\n",
       "      <td>NaN</td>\n",
       "      <td>NaN</td>\n",
       "      <td>RP</td>\n",
       "      <td>7.98</td>\n",
       "    </tr>\n",
       "    <tr>\n",
       "      <th>...</th>\n",
       "      <td>...</td>\n",
       "      <td>...</td>\n",
       "      <td>...</td>\n",
       "      <td>...</td>\n",
       "      <td>...</td>\n",
       "      <td>...</td>\n",
       "      <td>...</td>\n",
       "      <td>...</td>\n",
       "      <td>...</td>\n",
       "      <td>...</td>\n",
       "      <td>...</td>\n",
       "      <td>...</td>\n",
       "    </tr>\n",
       "    <tr>\n",
       "      <th>16703</th>\n",
       "      <td>Strawberry Nauts</td>\n",
       "      <td>PSV</td>\n",
       "      <td>2016</td>\n",
       "      <td>Adventure</td>\n",
       "      <td>0.00</td>\n",
       "      <td>0.00</td>\n",
       "      <td>0.01</td>\n",
       "      <td>0.00</td>\n",
       "      <td>NaN</td>\n",
       "      <td>NaN</td>\n",
       "      <td>RP</td>\n",
       "      <td>0.01</td>\n",
       "    </tr>\n",
       "    <tr>\n",
       "      <th>16707</th>\n",
       "      <td>Aiyoku no Eustia</td>\n",
       "      <td>PSV</td>\n",
       "      <td>2014</td>\n",
       "      <td>Misc</td>\n",
       "      <td>0.00</td>\n",
       "      <td>0.00</td>\n",
       "      <td>0.01</td>\n",
       "      <td>0.00</td>\n",
       "      <td>NaN</td>\n",
       "      <td>NaN</td>\n",
       "      <td>RP</td>\n",
       "      <td>0.01</td>\n",
       "    </tr>\n",
       "    <tr>\n",
       "      <th>16710</th>\n",
       "      <td>Samurai Warriors: Sanada Maru</td>\n",
       "      <td>PS3</td>\n",
       "      <td>2016</td>\n",
       "      <td>Action</td>\n",
       "      <td>0.00</td>\n",
       "      <td>0.00</td>\n",
       "      <td>0.01</td>\n",
       "      <td>0.00</td>\n",
       "      <td>NaN</td>\n",
       "      <td>NaN</td>\n",
       "      <td>RP</td>\n",
       "      <td>0.01</td>\n",
       "    </tr>\n",
       "    <tr>\n",
       "      <th>16712</th>\n",
       "      <td>Haitaka no Psychedelica</td>\n",
       "      <td>PSV</td>\n",
       "      <td>2016</td>\n",
       "      <td>Adventure</td>\n",
       "      <td>0.00</td>\n",
       "      <td>0.00</td>\n",
       "      <td>0.01</td>\n",
       "      <td>0.00</td>\n",
       "      <td>NaN</td>\n",
       "      <td>NaN</td>\n",
       "      <td>RP</td>\n",
       "      <td>0.01</td>\n",
       "    </tr>\n",
       "    <tr>\n",
       "      <th>16714</th>\n",
       "      <td>Winning Post 8 2016</td>\n",
       "      <td>PSV</td>\n",
       "      <td>2016</td>\n",
       "      <td>Simulation</td>\n",
       "      <td>0.00</td>\n",
       "      <td>0.00</td>\n",
       "      <td>0.01</td>\n",
       "      <td>0.00</td>\n",
       "      <td>NaN</td>\n",
       "      <td>NaN</td>\n",
       "      <td>RP</td>\n",
       "      <td>0.01</td>\n",
       "    </tr>\n",
       "  </tbody>\n",
       "</table>\n",
       "<p>1689 rows × 12 columns</p>\n",
       "</div>"
      ],
      "text/plain": [
       "                                            name platform  year_of_release  \\\n",
       "31                     Call of Duty: Black Ops 3      PS4             2015   \n",
       "42                            Grand Theft Auto V      PS4             2014   \n",
       "47     Pokemon Omega Ruby/Pokemon Alpha Sapphire      3DS             2014   \n",
       "77                                       FIFA 16      PS4             2015   \n",
       "87                  Star Wars Battlefront (2015)      PS4             2015   \n",
       "...                                          ...      ...              ...   \n",
       "16703                           Strawberry Nauts      PSV             2016   \n",
       "16707                           Aiyoku no Eustia      PSV             2014   \n",
       "16710              Samurai Warriors: Sanada Maru      PS3             2016   \n",
       "16712                    Haitaka no Psychedelica      PSV             2016   \n",
       "16714                        Winning Post 8 2016      PSV             2016   \n",
       "\n",
       "              genre  na_sales  eu_sales  jp_sales  other_sales  critic_score  \\\n",
       "31          Shooter      6.03      5.86      0.36         2.38           NaN   \n",
       "42           Action      3.96      6.31      0.38         1.97          97.0   \n",
       "47     Role-Playing      4.35      3.49      3.10         0.74           NaN   \n",
       "77           Sports      1.12      6.12      0.06         1.28          82.0   \n",
       "87          Shooter      2.99      3.49      0.22         1.28           NaN   \n",
       "...             ...       ...       ...       ...          ...           ...   \n",
       "16703     Adventure      0.00      0.00      0.01         0.00           NaN   \n",
       "16707          Misc      0.00      0.00      0.01         0.00           NaN   \n",
       "16710        Action      0.00      0.00      0.01         0.00           NaN   \n",
       "16712     Adventure      0.00      0.00      0.01         0.00           NaN   \n",
       "16714    Simulation      0.00      0.00      0.01         0.00           NaN   \n",
       "\n",
       "       user_score rating  sum_sales  \n",
       "31            NaN     RP      14.63  \n",
       "42            8.3      M      12.62  \n",
       "47            NaN     RP      11.68  \n",
       "77            4.3      E       8.58  \n",
       "87            NaN     RP       7.98  \n",
       "...           ...    ...        ...  \n",
       "16703         NaN     RP       0.01  \n",
       "16707         NaN     RP       0.01  \n",
       "16710         NaN     RP       0.01  \n",
       "16712         NaN     RP       0.01  \n",
       "16714         NaN     RP       0.01  \n",
       "\n",
       "[1689 rows x 12 columns]"
      ]
     },
     "execution_count": 29,
     "metadata": {},
     "output_type": "execute_result"
    }
   ],
   "source": [
    "actual_period = df.query('year_of_release > 2013') #определила актуальный период и выделила его в отдельную переменную\n",
    "actual_period"
   ]
  },
  {
   "cell_type": "code",
   "execution_count": 30,
   "id": "c1c7492f-84c3-4631-9700-e48236637231",
   "metadata": {},
   "outputs": [
    {
     "data": {
      "image/png": "[encoded data removed]",
      "text/plain": [
       "<Figure size 720x360 with 1 Axes>"
      ]
     },
     "metadata": {
      "needs_background": "light"
     },
     "output_type": "display_data"
    }
   ],
   "source": [
    "actual_period.pivot_table(index='year_of_release', columns='platform', values='sum_sales', aggfunc='sum').plot(style='-', figsize=(10,5))\n",
    "plt.title('Распределение по продажам')    \n",
    "plt.xlabel('Платформы')\n",
    "plt.ylabel('Продажи')\n",
    "plt.xticks([2014, 2015, 2016]);"
   ]
  },
  {
   "cell_type": "markdown",
   "id": "9fd9e36b-eb90-4f75-863b-5440dcd0beb8",
   "metadata": {},
   "source": [
    "**Вывод**: по графику можно сделать вывод, что на 2016 год потенциальной является платформа PS4, вышедшая относительно недавно и еще не потерявшая популярность. Также стоит присмотреться к платформе XOne, набирающую неплохую популярность. Платформа 3DS начала терять популярность, однако, судя по данным, еще несколько лет она продержится на рынке с неплохими продажами. Так как данные за 2016 год неполные, не стоит делать вывод о падении платформ в этот период. Платформа PC хоть и не сильно приносит доход, зато стабильно и на протяжении долгого времени. PS3 и X360 только недавно стали терять популярность, но на 2016 год уже изжили себя, в то время как остальные платформы давно \"угасли\". "
   ]
  },
  {
   "cell_type": "code",
   "execution_count": 31,
   "id": "e240e5af-fd15-4631-bff5-de8d4f0af33b",
   "metadata": {},
   "outputs": [
    {
     "data": {
      "image/png": "[encoded data removed]",
      "text/plain": [
       "<Figure size 720x360 with 1 Axes>"
      ]
     },
     "metadata": {
      "needs_background": "light"
     },
     "output_type": "display_data"
    }
   ],
   "source": [
    "actual_period.pivot_table(index='name', columns='platform', values='sum_sales', aggfunc='sum').boxplot(figsize=(10,5))\n",
    "plt.title('Диаграмма размаха')\n",
    "plt.xlabel('Платформы')\n",
    "plt.ylabel('Продажи');"
   ]
  },
  {
   "cell_type": "code",
   "execution_count": 32,
   "id": "e2904920-33d0-42d4-971f-1c897650766e",
   "metadata": {},
   "outputs": [
    {
     "data": {
      "image/png": "[encoded data removed]",
      "text/plain": [
       "<Figure size 720x360 with 1 Axes>"
      ]
     },
     "metadata": {
      "needs_background": "light"
     },
     "output_type": "display_data"
    }
   ],
   "source": [
    "actual_period.pivot_table(index='name', columns='platform', values='sum_sales', aggfunc='sum').boxplot(figsize=(10,5))\n",
    "plt.title('Диаграмма размаха')\n",
    "plt.xlabel('Платформы')\n",
    "plt.ylabel('Продажи')\n",
    "plt.ylim(0,3);"
   ]
  },
  {
   "cell_type": "markdown",
   "id": "4795d7a0-0ce0-4452-9f7c-cdf14beefaa2",
   "metadata": {},
   "source": [
    "**Вывод:** лидерами по продажам за все время являются PS3, X360, PS4, 3DS. Из графика и диаграммы размаха можно сделать вывод, что на 2016 год перспективные платформы: PS4, XOne, PC и 3DS."
   ]
  },
  {
   "cell_type": "markdown",
   "id": "487c6e3a-2d81-4ecf-91b3-510818abf005",
   "metadata": {},
   "source": [
    "#### Посмотрим, как влияют на продажи внутри популярных платформ отзывы пользователей и критиков"
   ]
  },
  {
   "cell_type": "code",
   "execution_count": 33,
   "id": "c3214f92-bd17-4cb4-a2ee-9342fb8c643f",
   "metadata": {},
   "outputs": [
    {
     "data": {
      "image/png": "[encoded data removed]",
      "text/plain": [
       "<Figure size 432x288 with 1 Axes>"
      ]
     },
     "metadata": {
      "needs_background": "light"
     },
     "output_type": "display_data"
    }
   ],
   "source": [
    "actual_period.query('platform == \"PC\"').plot(x='user_score', y='sum_sales', kind='scatter')\n",
    "plt.title('Диаграмма рассеяния')\n",
    "plt.xlabel('Оценка пользователей')\n",
    "plt.ylabel('Продажи');"
   ]
  },
  {
   "cell_type": "code",
   "execution_count": 34,
   "id": "7111ac43-b6a7-4edd-8609-93c3e8a06b2d",
   "metadata": {},
   "outputs": [
    {
     "data": {
      "image/png": "[encoded data removed]",
      "text/plain": [
       "<Figure size 432x288 with 1 Axes>"
      ]
     },
     "metadata": {
      "needs_background": "light"
     },
     "output_type": "display_data"
    }
   ],
   "source": [
    "actual_period.query('platform == \"PC\"').plot(x='critic_score', y='sum_sales', kind='scatter')\n",
    "plt.title('Диаграмма рассеяния')\n",
    "plt.xlabel('Оценка критиков')\n",
    "plt.ylabel('Продажи');"
   ]
  },
  {
   "cell_type": "code",
   "execution_count": 35,
   "id": "8885b9d6-e19b-4df5-98a0-f5a830ef60ca",
   "metadata": {},
   "outputs": [
    {
     "data": {
      "text/html": [
       "<div>\n",
       "<style scoped>\n",
       "    .dataframe tbody tr th:only-of-type {\n",
       "        vertical-align: middle;\n",
       "    }\n",
       "\n",
       "    .dataframe tbody tr th {\n",
       "        vertical-align: top;\n",
       "    }\n",
       "\n",
       "    .dataframe thead th {\n",
       "        text-align: right;\n",
       "    }\n",
       "</style>\n",
       "<table border=\"1\" class=\"dataframe\">\n",
       "  <thead>\n",
       "    <tr style=\"text-align: right;\">\n",
       "      <th></th>\n",
       "      <th>user_score</th>\n",
       "      <th>critic_score</th>\n",
       "      <th>sum_sales</th>\n",
       "    </tr>\n",
       "  </thead>\n",
       "  <tbody>\n",
       "    <tr>\n",
       "      <th>user_score</th>\n",
       "      <td>1.00</td>\n",
       "      <td>0.47</td>\n",
       "      <td>-0.07</td>\n",
       "    </tr>\n",
       "    <tr>\n",
       "      <th>critic_score</th>\n",
       "      <td>0.47</td>\n",
       "      <td>1.00</td>\n",
       "      <td>0.17</td>\n",
       "    </tr>\n",
       "    <tr>\n",
       "      <th>sum_sales</th>\n",
       "      <td>-0.07</td>\n",
       "      <td>0.17</td>\n",
       "      <td>1.00</td>\n",
       "    </tr>\n",
       "  </tbody>\n",
       "</table>\n",
       "</div>"
      ],
      "text/plain": [
       "              user_score  critic_score  sum_sales\n",
       "user_score          1.00          0.47      -0.07\n",
       "critic_score        0.47          1.00       0.17\n",
       "sum_sales          -0.07          0.17       1.00"
      ]
     },
     "execution_count": 35,
     "metadata": {},
     "output_type": "execute_result"
    }
   ],
   "source": [
    "actual_period.query('platform == \"PC\"')[['user_score','critic_score', 'sum_sales']].corr().round(2)"
   ]
  },
  {
   "cell_type": "markdown",
   "id": "cc2b80a4-6a27-4c6b-83d1-80b9c4564be9",
   "metadata": {},
   "source": [
    "**Вывод:** для построения данных я выбрала наиболее стабильную платформу - PC. Из диаграммы рассеяния и таблицы можно скзатать, что игроки не сильно доверяют ни оценкам критиков, ни пользователей. Ведь даже при высоком рейтинге игры часто имеют невысокие продажи (и наоборот). Чтобы удостовериться в результатах, повторю те же действия с наиболее перспективной(PS4) и с наиболее прибыльной(X360) платформами."
   ]
  },
  {
   "cell_type": "code",
   "execution_count": 36,
   "id": "eeb49b16-36cd-4b82-8164-139e319e7daf",
   "metadata": {},
   "outputs": [
    {
     "data": {
      "text/html": [
       "<div>\n",
       "<style scoped>\n",
       "    .dataframe tbody tr th:only-of-type {\n",
       "        vertical-align: middle;\n",
       "    }\n",
       "\n",
       "    .dataframe tbody tr th {\n",
       "        vertical-align: top;\n",
       "    }\n",
       "\n",
       "    .dataframe thead th {\n",
       "        text-align: right;\n",
       "    }\n",
       "</style>\n",
       "<table border=\"1\" class=\"dataframe\">\n",
       "  <thead>\n",
       "    <tr style=\"text-align: right;\">\n",
       "      <th></th>\n",
       "      <th>user_score</th>\n",
       "      <th>critic_score</th>\n",
       "      <th>sum_sales</th>\n",
       "    </tr>\n",
       "  </thead>\n",
       "  <tbody>\n",
       "    <tr>\n",
       "      <th>user_score</th>\n",
       "      <td>1.00</td>\n",
       "      <td>0.55</td>\n",
       "      <td>-0.04</td>\n",
       "    </tr>\n",
       "    <tr>\n",
       "      <th>critic_score</th>\n",
       "      <td>0.55</td>\n",
       "      <td>1.00</td>\n",
       "      <td>0.40</td>\n",
       "    </tr>\n",
       "    <tr>\n",
       "      <th>sum_sales</th>\n",
       "      <td>-0.04</td>\n",
       "      <td>0.40</td>\n",
       "      <td>1.00</td>\n",
       "    </tr>\n",
       "  </tbody>\n",
       "</table>\n",
       "</div>"
      ],
      "text/plain": [
       "              user_score  critic_score  sum_sales\n",
       "user_score          1.00          0.55      -0.04\n",
       "critic_score        0.55          1.00       0.40\n",
       "sum_sales          -0.04          0.40       1.00"
      ]
     },
     "execution_count": 36,
     "metadata": {},
     "output_type": "execute_result"
    }
   ],
   "source": [
    "actual_period.query('platform == \"PS4\"')[['user_score','critic_score', 'sum_sales']].corr().round(2)"
   ]
  },
  {
   "cell_type": "code",
   "execution_count": 37,
   "id": "2775e075-6947-4a4c-8fd1-fa2150fb551b",
   "metadata": {},
   "outputs": [
    {
     "data": {
      "image/png": "[encoded data removed]",
      "text/plain": [
       "<Figure size 432x288 with 1 Axes>"
      ]
     },
     "metadata": {
      "needs_background": "light"
     },
     "output_type": "display_data"
    }
   ],
   "source": [
    "actual_period.query('platform == \"PS4\"').plot(x='critic_score', y='sum_sales', kind='scatter')\n",
    "plt.title('Диаграмма рассеяния')\n",
    "plt.xlabel('Оценка критиков')\n",
    "plt.ylabel('Продажи');"
   ]
  },
  {
   "cell_type": "code",
   "execution_count": 38,
   "id": "9c77af61-c96e-4b08-a046-8ffc14625a60",
   "metadata": {},
   "outputs": [
    {
     "data": {
      "text/html": [
       "<div>\n",
       "<style scoped>\n",
       "    .dataframe tbody tr th:only-of-type {\n",
       "        vertical-align: middle;\n",
       "    }\n",
       "\n",
       "    .dataframe tbody tr th {\n",
       "        vertical-align: top;\n",
       "    }\n",
       "\n",
       "    .dataframe thead th {\n",
       "        text-align: right;\n",
       "    }\n",
       "</style>\n",
       "<table border=\"1\" class=\"dataframe\">\n",
       "  <thead>\n",
       "    <tr style=\"text-align: right;\">\n",
       "      <th></th>\n",
       "      <th>user_score</th>\n",
       "      <th>critic_score</th>\n",
       "      <th>sum_sales</th>\n",
       "    </tr>\n",
       "  </thead>\n",
       "  <tbody>\n",
       "    <tr>\n",
       "      <th>user_score</th>\n",
       "      <td>1.00</td>\n",
       "      <td>0.63</td>\n",
       "      <td>-0.14</td>\n",
       "    </tr>\n",
       "    <tr>\n",
       "      <th>critic_score</th>\n",
       "      <td>0.63</td>\n",
       "      <td>1.00</td>\n",
       "      <td>0.53</td>\n",
       "    </tr>\n",
       "    <tr>\n",
       "      <th>sum_sales</th>\n",
       "      <td>-0.14</td>\n",
       "      <td>0.53</td>\n",
       "      <td>1.00</td>\n",
       "    </tr>\n",
       "  </tbody>\n",
       "</table>\n",
       "</div>"
      ],
      "text/plain": [
       "              user_score  critic_score  sum_sales\n",
       "user_score          1.00          0.63      -0.14\n",
       "critic_score        0.63          1.00       0.53\n",
       "sum_sales          -0.14          0.53       1.00"
      ]
     },
     "execution_count": 38,
     "metadata": {},
     "output_type": "execute_result"
    }
   ],
   "source": [
    "actual_period.query('platform == \"X360\"')[['user_score','critic_score', 'sum_sales']].corr().round(2)"
   ]
  },
  {
   "cell_type": "code",
   "execution_count": 39,
   "id": "686e3f07-a2ba-466a-8883-d8653d5d64d9",
   "metadata": {},
   "outputs": [
    {
     "data": {
      "image/png": "[encoded data removed]",
      "text/plain": [
       "<Figure size 432x288 with 1 Axes>"
      ]
     },
     "metadata": {
      "needs_background": "light"
     },
     "output_type": "display_data"
    }
   ],
   "source": [
    "actual_period.query('platform == \"X360\"').plot(x='user_score', y='sum_sales', kind='scatter')\n",
    "plt.title('Диаграмма рассеяния')\n",
    "plt.xlabel('Оценка пользователей')\n",
    "plt.ylabel('Продажи');"
   ]
  },
  {
   "cell_type": "markdown",
   "id": "ed050a16-45d6-4e24-850f-fff7251ff68b",
   "metadata": {},
   "source": [
    "**Вывод:** в целом, выводы из предыдущего пункта подтвердились и на данных исследованиях. Коэффициент корреляции и диаграммы рассеяния показали, что продажи не особо зависят от оценок критиков и пользователей."
   ]
  },
  {
   "cell_type": "markdown",
   "id": "055e7b39-ba82-44c4-a4f2-e806dd446248",
   "metadata": {},
   "source": [
    "#### Посмотрим на общее распределение игр по жанрам"
   ]
  },
  {
   "cell_type": "code",
   "execution_count": 40,
   "id": "7d1d8940-c792-4bdb-853f-9a072e6ec2ef",
   "metadata": {},
   "outputs": [
    {
     "data": {
      "image/png": "[encoded data removed]",
      "text/plain": [
       "<Figure size 432x288 with 1 Axes>"
      ]
     },
     "metadata": {
      "needs_background": "light"
     },
     "output_type": "display_data"
    }
   ],
   "source": [
    "actual_period.pivot_table(index='genre', values='sum_sales', aggfunc='sum').sort_values(by='sum_sales').plot(kind='barh')\n",
    "plt.title('Распределение игр по жанрам')\n",
    "plt.xlabel('Продажи')\n",
    "plt.ylabel('Жанры');"
   ]
  },
  {
   "cell_type": "code",
   "execution_count": 41,
   "id": "f38041f1-ed81-47b3-acac-9969e45d905d",
   "metadata": {},
   "outputs": [
    {
     "data": {
      "image/png": "[encoded data removed]",
      "text/plain": [
       "<Figure size 1080x360 with 1 Axes>"
      ]
     },
     "metadata": {
      "needs_background": "light"
     },
     "output_type": "display_data"
    }
   ],
   "source": [
    "actual = actual_period.pivot_table(index='name', columns='genre', values='sum_sales', aggfunc='sum')\n",
    "meds = actual.median().sort_values(ascending=False)\n",
    "actual = actual[meds.index].boxplot(figsize=(15,5))\n",
    "plt.title('Диаграмма размаха')\n",
    "plt.xlabel('Жанры')\n",
    "plt.ylabel('Продажи');"
   ]
  },
  {
   "cell_type": "code",
   "execution_count": 42,
   "id": "283c243f-d01a-47aa-9a3a-ebf2cc960d26",
   "metadata": {},
   "outputs": [
    {
     "data": {
      "image/png": "[encoded data removed]",
      "text/plain": [
       "<Figure size 1080x360 with 1 Axes>"
      ]
     },
     "metadata": {
      "needs_background": "light"
     },
     "output_type": "display_data"
    }
   ],
   "source": [
    "actual = actual_period.pivot_table(index='name', columns='genre', values='sum_sales', aggfunc='sum')\n",
    "meds = actual.median().sort_values(ascending=False)\n",
    "actual = actual[meds.index].boxplot(figsize=(15,5))\n",
    "plt.title('Диаграмма размаха')\n",
    "plt.xlabel('Жанры')\n",
    "plt.ylabel('Продажи')\n",
    "plt.ylim(0,0.75);"
   ]
  },
  {
   "cell_type": "markdown",
   "id": "dbc8bac0-f220-45c3-9231-89ed5c7bf85d",
   "metadata": {},
   "source": [
    "**Вывод:** в столбчатой диаграмме четко отслеживается лидер - жанр action. Для более углубленного анализа построила диаграммы размаха, отсортированные по медиане. У жанра shooter не только наибольшая медиана продаж, но и самые высокие выбросы (самая большая выручка). Также высокие медианные продажи у жанров Platform, Sports и Racing. Зато по выбросам после жанра shooter идет action - у него хоть и средние медианные проажи, зато преиодически выходят игр, набрающие высокую популярность. Видны неплохие показатели с достаточно длинными рядами успешно продающихся игр у жанров Fighting, Action, Role-Playing. "
   ]
  },
  {
   "cell_type": "markdown",
   "id": "2fe1126e-56cf-4f10-bac5-73425ed2e56a",
   "metadata": {},
   "source": [
    "### Составление портрета пользователя каждого региона"
   ]
  },
  {
   "cell_type": "markdown",
   "id": "a7bc599f-3424-4459-af29-45910cb0ff95",
   "metadata": {},
   "source": [
    "#### Определим, топ-5 популярных платформ для жителей каждого региона"
   ]
  },
  {
   "cell_type": "code",
   "execution_count": 45,
   "id": "0e624a31-62f3-4125-8cbd-7bdde5cfe986",
   "metadata": {},
   "outputs": [
    {
     "data": {
      "text/html": [
       "<div>\n",
       "<style scoped>\n",
       "    .dataframe tbody tr th:only-of-type {\n",
       "        vertical-align: middle;\n",
       "    }\n",
       "\n",
       "    .dataframe tbody tr th {\n",
       "        vertical-align: top;\n",
       "    }\n",
       "\n",
       "    .dataframe thead th {\n",
       "        text-align: right;\n",
       "    }\n",
       "</style>\n",
       "<table border=\"1\" class=\"dataframe\">\n",
       "  <thead>\n",
       "    <tr style=\"text-align: right;\">\n",
       "      <th></th>\n",
       "      <th>platform</th>\n",
       "      <th>na_sales</th>\n",
       "    </tr>\n",
       "  </thead>\n",
       "  <tbody>\n",
       "    <tr>\n",
       "      <th>0</th>\n",
       "      <td>PS4</td>\n",
       "      <td>98.61</td>\n",
       "    </tr>\n",
       "    <tr>\n",
       "      <th>1</th>\n",
       "      <td>XOne</td>\n",
       "      <td>81.27</td>\n",
       "    </tr>\n",
       "    <tr>\n",
       "      <th>2</th>\n",
       "      <td>X360</td>\n",
       "      <td>28.30</td>\n",
       "    </tr>\n",
       "    <tr>\n",
       "      <th>3</th>\n",
       "      <td>3DS</td>\n",
       "      <td>22.64</td>\n",
       "    </tr>\n",
       "    <tr>\n",
       "      <th>4</th>\n",
       "      <td>PS3</td>\n",
       "      <td>22.05</td>\n",
       "    </tr>\n",
       "    <tr>\n",
       "      <th>5</th>\n",
       "      <td>Other</td>\n",
       "      <td>31.19</td>\n",
       "    </tr>\n",
       "  </tbody>\n",
       "</table>\n",
       "</div>"
      ],
      "text/plain": [
       "  platform  na_sales\n",
       "0      PS4     98.61\n",
       "1     XOne     81.27\n",
       "2     X360     28.30\n",
       "3      3DS     22.64\n",
       "4      PS3     22.05\n",
       "5    Other     31.19"
      ]
     },
     "execution_count": 45,
     "metadata": {},
     "output_type": "execute_result"
    }
   ],
   "source": [
    "na = actual_period.groupby('platform').agg({'na_sales': 'sum'\n",
    "                                           }).sort_values(by='na_sales', ascending=False).iloc[:5].reset_index()\n",
    "other = actual_period['na_sales'].sum()-na['na_sales'].sum()\n",
    "new = {'platform':'Other', 'na_sales': other}\n",
    "na_other = pd.DataFrame(new, index=[0])\n",
    "others_na = pd.concat([na, na_other], ignore_index = True)\n",
    "others_na"
   ]
  },
  {
   "cell_type": "code",
   "execution_count": 46,
   "id": "90042a42-6145-41f5-ac48-755ee023f7ec",
   "metadata": {},
   "outputs": [
    {
     "data": {
      "text/html": [
       "<div>\n",
       "<style scoped>\n",
       "    .dataframe tbody tr th:only-of-type {\n",
       "        vertical-align: middle;\n",
       "    }\n",
       "\n",
       "    .dataframe tbody tr th {\n",
       "        vertical-align: top;\n",
       "    }\n",
       "\n",
       "    .dataframe thead th {\n",
       "        text-align: right;\n",
       "    }\n",
       "</style>\n",
       "<table border=\"1\" class=\"dataframe\">\n",
       "  <thead>\n",
       "    <tr style=\"text-align: right;\">\n",
       "      <th></th>\n",
       "      <th>platform</th>\n",
       "      <th>jp_sales</th>\n",
       "    </tr>\n",
       "  </thead>\n",
       "  <tbody>\n",
       "    <tr>\n",
       "      <th>0</th>\n",
       "      <td>3DS</td>\n",
       "      <td>44.24</td>\n",
       "    </tr>\n",
       "    <tr>\n",
       "      <th>1</th>\n",
       "      <td>PS4</td>\n",
       "      <td>15.02</td>\n",
       "    </tr>\n",
       "    <tr>\n",
       "      <th>2</th>\n",
       "      <td>PSV</td>\n",
       "      <td>14.54</td>\n",
       "    </tr>\n",
       "    <tr>\n",
       "      <th>3</th>\n",
       "      <td>PS3</td>\n",
       "      <td>11.22</td>\n",
       "    </tr>\n",
       "    <tr>\n",
       "      <th>4</th>\n",
       "      <td>WiiU</td>\n",
       "      <td>7.31</td>\n",
       "    </tr>\n",
       "    <tr>\n",
       "      <th>5</th>\n",
       "      <td>Other</td>\n",
       "      <td>0.76</td>\n",
       "    </tr>\n",
       "  </tbody>\n",
       "</table>\n",
       "</div>"
      ],
      "text/plain": [
       "  platform  jp_sales\n",
       "0      3DS     44.24\n",
       "1      PS4     15.02\n",
       "2      PSV     14.54\n",
       "3      PS3     11.22\n",
       "4     WiiU      7.31\n",
       "5    Other      0.76"
      ]
     },
     "execution_count": 46,
     "metadata": {},
     "output_type": "execute_result"
    }
   ],
   "source": [
    "jp = actual_period.groupby('platform').agg({'jp_sales': 'sum'\n",
    "                                           }).sort_values(by='jp_sales', ascending=False).iloc[:5].reset_index()\n",
    "other = actual_period['jp_sales'].sum()-jp['jp_sales'].sum()\n",
    "new = {'platform':'Other', 'jp_sales': other}\n",
    "jp_other = pd.DataFrame(new, index=[0])\n",
    "others_jp = pd.concat([jp, jp_other], ignore_index = True)\n",
    "others_jp"
   ]
  },
  {
   "cell_type": "code",
   "execution_count": 47,
   "id": "71fa3d02-e12b-4654-abfc-327d8d150a9f",
   "metadata": {},
   "outputs": [
    {
     "data": {
      "text/html": [
       "<div>\n",
       "<style scoped>\n",
       "    .dataframe tbody tr th:only-of-type {\n",
       "        vertical-align: middle;\n",
       "    }\n",
       "\n",
       "    .dataframe tbody tr th {\n",
       "        vertical-align: top;\n",
       "    }\n",
       "\n",
       "    .dataframe thead th {\n",
       "        text-align: right;\n",
       "    }\n",
       "</style>\n",
       "<table border=\"1\" class=\"dataframe\">\n",
       "  <thead>\n",
       "    <tr style=\"text-align: right;\">\n",
       "      <th></th>\n",
       "      <th>platform</th>\n",
       "      <th>eu_sales</th>\n",
       "    </tr>\n",
       "  </thead>\n",
       "  <tbody>\n",
       "    <tr>\n",
       "      <th>0</th>\n",
       "      <td>PS4</td>\n",
       "      <td>130.04</td>\n",
       "    </tr>\n",
       "    <tr>\n",
       "      <th>1</th>\n",
       "      <td>XOne</td>\n",
       "      <td>46.25</td>\n",
       "    </tr>\n",
       "    <tr>\n",
       "      <th>2</th>\n",
       "      <td>PS3</td>\n",
       "      <td>25.54</td>\n",
       "    </tr>\n",
       "    <tr>\n",
       "      <th>3</th>\n",
       "      <td>PC</td>\n",
       "      <td>17.97</td>\n",
       "    </tr>\n",
       "    <tr>\n",
       "      <th>4</th>\n",
       "      <td>3DS</td>\n",
       "      <td>16.12</td>\n",
       "    </tr>\n",
       "    <tr>\n",
       "      <th>5</th>\n",
       "      <td>Other</td>\n",
       "      <td>34.76</td>\n",
       "    </tr>\n",
       "  </tbody>\n",
       "</table>\n",
       "</div>"
      ],
      "text/plain": [
       "  platform  eu_sales\n",
       "0      PS4    130.04\n",
       "1     XOne     46.25\n",
       "2      PS3     25.54\n",
       "3       PC     17.97\n",
       "4      3DS     16.12\n",
       "5    Other     34.76"
      ]
     },
     "execution_count": 47,
     "metadata": {},
     "output_type": "execute_result"
    }
   ],
   "source": [
    "eu = actual_period.groupby('platform').agg({'eu_sales': 'sum'\n",
    "                                           }).sort_values(by='eu_sales', ascending=False).iloc[:5].reset_index()\n",
    "other = actual_period['eu_sales'].sum()-eu['eu_sales'].sum()\n",
    "new = {'platform':'Other', 'eu_sales': other}\n",
    "eu_other = pd.DataFrame(new, index=[0])\n",
    "others_eu = pd.concat([eu, eu_other], ignore_index = True)\n",
    "others_eu"
   ]
  },
  {
   "cell_type": "code",
   "execution_count": 48,
   "id": "94aa0322-c870-4cf7-b0a2-fcb239a23c0d",
   "metadata": {},
   "outputs": [
    {
     "data": {
      "image/png": "[encoded data removed]",
      "text/plain": [
       "<Figure size 1224x360 with 3 Axes>"
      ]
     },
     "metadata": {},
     "output_type": "display_data"
    }
   ],
   "source": [
    "f, ax = plt.subplots(1,3)\n",
    "f.set_size_inches(17,5)\n",
    "\n",
    "plt.subplot(1,3,1)\n",
    "distr = others_na['na_sales']\n",
    "plt.pie(distr, labels=['PS4', 'XOne', 'X360', '3DS', 'PS3', 'Other'], autopct='%1.1f%%')\n",
    "plt.title('Популярность платформ в Северной Америке');\n",
    "\n",
    "plt.subplot(1,3,2)\n",
    "distr = others_jp['jp_sales']\n",
    "plt.pie(distr, labels=['3DS', 'PS4', 'PSV', 'PS3', 'WiiU', 'Other'], autopct='%1.1f%%')\n",
    "plt.title('Популярность платформ в Японии');\n",
    "\n",
    "plt.subplot(1,3,3)\n",
    "distr = others_eu['eu_sales']\n",
    "plt.pie(distr, labels=['PS4', 'XOne', 'PS3', 'PC', '3DS', 'Other'], autopct='%1.1f%%')\n",
    "plt.title('Популярность платформ в Европе');\n",
    "\n",
    "f.suptitle('Обзор рынка платформ(портрет покупателя)', fontsize=14, fontweight='bold');"
   ]
  },
  {
   "cell_type": "markdown",
   "id": "29c1c6a0-1381-4089-9080-8c0c7f0feeb4",
   "metadata": {},
   "source": [
    "**Вывод:** во всех странах в топ-5 популярных платформ вошли PS4, PS3 и 3DS. В Северной Америке и  Европе лидирует PS4 с долей продаж в 34.7% и 48% соответственно. В Японии - 3DS, занимающая почти половину всего рынка. "
   ]
  },
  {
   "cell_type": "markdown",
   "id": "2bf5b18a",
   "metadata": {},
   "source": [
    "#### check"
   ]
  },
  {
   "cell_type": "code",
   "execution_count": 49,
   "id": "db4467ae",
   "metadata": {},
   "outputs": [
    {
     "data": {
      "text/html": [
       "<div>\n",
       "<style scoped>\n",
       "    .dataframe tbody tr th:only-of-type {\n",
       "        vertical-align: middle;\n",
       "    }\n",
       "\n",
       "    .dataframe tbody tr th {\n",
       "        vertical-align: top;\n",
       "    }\n",
       "\n",
       "    .dataframe thead th {\n",
       "        text-align: right;\n",
       "    }\n",
       "</style>\n",
       "<table border=\"1\" class=\"dataframe\">\n",
       "  <thead>\n",
       "    <tr style=\"text-align: right;\">\n",
       "      <th></th>\n",
       "      <th>na_sales</th>\n",
       "      <th>other_sales</th>\n",
       "    </tr>\n",
       "    <tr>\n",
       "      <th>platform</th>\n",
       "      <th></th>\n",
       "      <th></th>\n",
       "    </tr>\n",
       "  </thead>\n",
       "  <tbody>\n",
       "    <tr>\n",
       "      <th>PS4</th>\n",
       "      <td>98.61</td>\n",
       "      <td>44.48</td>\n",
       "    </tr>\n",
       "    <tr>\n",
       "      <th>XOne</th>\n",
       "      <td>81.27</td>\n",
       "      <td>12.52</td>\n",
       "    </tr>\n",
       "    <tr>\n",
       "      <th>X360</th>\n",
       "      <td>28.30</td>\n",
       "      <td>4.35</td>\n",
       "    </tr>\n",
       "    <tr>\n",
       "      <th>3DS</th>\n",
       "      <td>22.64</td>\n",
       "      <td>3.68</td>\n",
       "    </tr>\n",
       "    <tr>\n",
       "      <th>PS3</th>\n",
       "      <td>22.05</td>\n",
       "      <td>9.37</td>\n",
       "    </tr>\n",
       "  </tbody>\n",
       "</table>\n",
       "</div>"
      ],
      "text/plain": [
       "          na_sales  other_sales\n",
       "platform                       \n",
       "PS4          98.61        44.48\n",
       "XOne         81.27        12.52\n",
       "X360         28.30         4.35\n",
       "3DS          22.64         3.68\n",
       "PS3          22.05         9.37"
      ]
     },
     "execution_count": 49,
     "metadata": {},
     "output_type": "execute_result"
    }
   ],
   "source": [
    "actual_period.groupby('platform').agg({'na_sales':'sum', 'other_sales':'sum'\n",
    "                                      }).sort_values(by='na_sales', ascending=False).iloc[:5]"
   ]
  },
  {
   "cell_type": "code",
   "execution_count": 50,
   "id": "002ede32",
   "metadata": {},
   "outputs": [
    {
     "data": {
      "image/png": "[encoded data removed]",
      "text/plain": [
       "<Figure size 432x288 with 1 Axes>"
      ]
     },
     "metadata": {},
     "output_type": "display_data"
    }
   ],
   "source": [
    "distr = na['na_sales']\n",
    "plt.pie(distr, autopct='%1.1f%%');"
   ]
  },
  {
   "cell_type": "markdown",
   "id": "c1c286bf-ea09-4b19-86dc-2a3972ffe08e",
   "metadata": {},
   "source": [
    "#### Определим, топ-5 популярных жанров для жителей каждого региона"
   ]
  },
  {
   "cell_type": "code",
   "execution_count": 53,
   "id": "7a26f81b-16e4-4057-8bc5-539554df19ec",
   "metadata": {},
   "outputs": [
    {
     "data": {
      "image/png": "[encoded data removed]",
      "text/plain": [
       "<Figure size 432x288 with 1 Axes>"
      ]
     },
     "metadata": {},
     "output_type": "display_data"
    },
    {
     "data": {
      "image/png": "[encoded data removed]",
      "text/plain": [
       "<Figure size 432x288 with 1 Axes>"
      ]
     },
     "metadata": {},
     "output_type": "display_data"
    },
    {
     "data": {
      "image/png": "[encoded data removed]",
      "text/plain": [
       "<Figure size 432x288 with 1 Axes>"
      ]
     },
     "metadata": {},
     "output_type": "display_data"
    }
   ],
   "source": [
    "na_genre = (\n",
    "    actual_period\n",
    "    .pivot_table(index='genre', values='na_sales', aggfunc='sum')\n",
    "    .sort_values(by='na_sales', ascending=False)\n",
    "    .iloc[:5])\n",
    "\n",
    "na_genre.plot(y='na_sales', kind='pie', autopct='%1.1f%%')\n",
    "plt.title('Популярность жанров в Северной Америке')\n",
    "plt.ylabel('');\n",
    "\n",
    "jp_genre = (\n",
    "    actual_period\n",
    "    .pivot_table(index='genre', values='jp_sales', aggfunc='sum')\n",
    "    .sort_values(by='jp_sales', ascending=False)\n",
    "    .iloc[:5])\n",
    "\n",
    "jp_genre.plot(y='jp_sales', kind='pie', autopct='%1.1f%%')\n",
    "plt.title('Популярность жанров в Японии')\n",
    "plt.ylabel('');\n",
    "\n",
    "eu_genre = (\n",
    "    actual_period\n",
    "    .pivot_table(index='genre', values='eu_sales', aggfunc='sum')\n",
    "    .sort_values(by='eu_sales', ascending=False)\n",
    "    .iloc[:5])\n",
    "\n",
    "eu_genre.plot(y='eu_sales', kind='pie', autopct='%1.1f%%')\n",
    "plt.title('Популярность жанров в Европе')\n",
    "plt.ylabel('');"
   ]
  },
  {
   "cell_type": "markdown",
   "id": "76aeb4b4-b22b-4a56-947e-04c8888a7a17",
   "metadata": {},
   "source": [
    "**Вывод:** приоритеты в жанрах в разных странах расходятся, на мой взгляд, из-за разных культур. Везде есть общие предпочтения - жанр, который занимает значимую долю во всех странах - action (думаю, потому что это стандартный жанр, полюбившийся всем). В Северной Америке и Европе также большую часть занимают шутеры, в то время как в Японии сильно ценятся ролевые игры."
   ]
  },
  {
   "cell_type": "markdown",
   "id": "a1e739e7-5beb-4a0e-bca1-e8ab534a266b",
   "metadata": {},
   "source": [
    "#### Определим, влияет ли рейтинг ESRB на продажи в отдельном регионе"
   ]
  },
  {
   "cell_type": "code",
   "execution_count": 54,
   "id": "71eab035-8d6a-4a86-b87a-9b55363c8c27",
   "metadata": {},
   "outputs": [
    {
     "data": {
      "text/html": [
       "<div>\n",
       "<style scoped>\n",
       "    .dataframe tbody tr th:only-of-type {\n",
       "        vertical-align: middle;\n",
       "    }\n",
       "\n",
       "    .dataframe tbody tr th {\n",
       "        vertical-align: top;\n",
       "    }\n",
       "\n",
       "    .dataframe thead th {\n",
       "        text-align: right;\n",
       "    }\n",
       "</style>\n",
       "<table border=\"1\" class=\"dataframe\">\n",
       "  <thead>\n",
       "    <tr style=\"text-align: right;\">\n",
       "      <th></th>\n",
       "      <th>eu_sales</th>\n",
       "      <th>jp_sales</th>\n",
       "      <th>na_sales</th>\n",
       "    </tr>\n",
       "    <tr>\n",
       "      <th>rating</th>\n",
       "      <th></th>\n",
       "      <th></th>\n",
       "      <th></th>\n",
       "    </tr>\n",
       "  </thead>\n",
       "  <tbody>\n",
       "    <tr>\n",
       "      <th>E10+</th>\n",
       "      <td>26.16</td>\n",
       "      <td>4.46</td>\n",
       "      <td>33.23</td>\n",
       "    </tr>\n",
       "    <tr>\n",
       "      <th>T</th>\n",
       "      <td>34.07</td>\n",
       "      <td>14.78</td>\n",
       "      <td>38.95</td>\n",
       "    </tr>\n",
       "    <tr>\n",
       "      <th>E</th>\n",
       "      <td>58.06</td>\n",
       "      <td>8.94</td>\n",
       "      <td>50.74</td>\n",
       "    </tr>\n",
       "    <tr>\n",
       "      <th>RP</th>\n",
       "      <td>58.95</td>\n",
       "      <td>56.90</td>\n",
       "      <td>64.72</td>\n",
       "    </tr>\n",
       "    <tr>\n",
       "      <th>M</th>\n",
       "      <td>93.44</td>\n",
       "      <td>8.01</td>\n",
       "      <td>96.42</td>\n",
       "    </tr>\n",
       "  </tbody>\n",
       "</table>\n",
       "</div>"
      ],
      "text/plain": [
       "        eu_sales  jp_sales  na_sales\n",
       "rating                              \n",
       "E10+       26.16      4.46     33.23\n",
       "T          34.07     14.78     38.95\n",
       "E          58.06      8.94     50.74\n",
       "RP         58.95     56.90     64.72\n",
       "M          93.44      8.01     96.42"
      ]
     },
     "execution_count": 54,
     "metadata": {},
     "output_type": "execute_result"
    }
   ],
   "source": [
    "ESRB = actual_period.pivot_table(index='rating', values=['na_sales','jp_sales','eu_sales'], aggfunc='sum').sort_values(by=['na_sales','jp_sales','eu_sales'])\n",
    "ESRB"
   ]
  },
  {
   "cell_type": "markdown",
   "id": "c9a194ad-182a-46f9-baed-47882a4516da",
   "metadata": {},
   "source": [
    "**Вывод:** можно утверждать, что рейтинг влияет на продажи игр в реионах. Так, у Северной Америки и Европы выбор падает на игры с рейтингом М (от 17 лет). В Японии большинство игр только ждут оценки (RP), а из более продаваемых можно выделить категорию Т (от 13 лет), которая является отсающей в других странах."
   ]
  },
  {
   "cell_type": "markdown",
   "id": "eb312769-bb43-4481-a452-54bf3c9055cf",
   "metadata": {},
   "source": [
    "### Проверка гипотез"
   ]
  },
  {
   "cell_type": "markdown",
   "id": "2d9313b9-8d78-48d7-8332-cab7e27e7513",
   "metadata": {},
   "source": [
    "##### 1 гипотеза \n",
    "**Необходимо проверить**: средние пользовательские рейтинги платформ Xbox One и PC одинаковые.\n",
    "\n",
    "H0: Средний рейтинг платформы Xbox One равен среднему рейтингу PC\n",
    "\n",
    "H1: Средний рейтинг платформы Xbox One не равен среднему рейтингу PC"
   ]
  },
  {
   "cell_type": "code",
   "execution_count": 55,
   "id": "31283dc5-41c9-4ff4-9def-1b2f98feda0f",
   "metadata": {},
   "outputs": [
    {
     "name": "stdout",
     "output_type": "stream",
     "text": [
      "p-значение: 0.10450507919348415\n",
      "Не получилось отвергнуть нулевую гипотезу\n"
     ]
    }
   ],
   "source": [
    "XOne = actual_period.loc[(actual_period['platform'] == 'XOne') & (actual_period['user_score'].notna()), 'user_score']\n",
    "PC = actual_period.loc[(actual_period['platform'] == 'PC') & (actual_period['user_score'].notna()), 'user_score']\n",
    "\n",
    "alpha = 0.05\n",
    "\n",
    "results = st.ttest_ind(XOne, PC)\n",
    "\n",
    "print('p-значение:', results.pvalue)\n",
    "\n",
    "if results.pvalue < alpha:\n",
    "    print('Отвергаем нулевую гипотезу')\n",
    "else:\n",
    "    print('Не получилось отвергнуть нулевую гипотезу')"
   ]
  },
  {
   "cell_type": "code",
   "execution_count": 56,
   "id": "4a21f89c-99e8-41b8-b63a-3ff85d5f5867",
   "metadata": {},
   "outputs": [
    {
     "name": "stdout",
     "output_type": "stream",
     "text": [
      "Средний рейтинг платформы XOne 6.594545454545456\n",
      "Средний рейтинг платформы PC 6.298360655737705\n"
     ]
    }
   ],
   "source": [
    "print('Средний рейтинг платформы XOne', XOne.mean())\n",
    "print('Средний рейтинг платформы PC', PC.mean())"
   ]
  },
  {
   "cell_type": "markdown",
   "id": "439a939f-f422-4dc7-902d-39632aea0b02",
   "metadata": {},
   "source": [
    "**Вывод:** не получилось отвергнуть нулевую гипотезу, а значит можем предполагать, что средние пользовательсике рейтинги этих плтаформ примерно равны."
   ]
  },
  {
   "cell_type": "markdown",
   "id": "a4d23f1c-6dc9-4e8b-a5e2-59d851cd2e22",
   "metadata": {},
   "source": [
    "##### 2 гипотеза \n",
    "**Необходимо проверить**: Средние пользовательские рейтинги жанров Action  и Sports разные.\n",
    "\n",
    "H0: Средние пользовательские рейтинги жанров Action  и Sports равны\n",
    "\n",
    "H1: Средние пользовательские рейтинги жанров Action  и Sports разные"
   ]
  },
  {
   "cell_type": "code",
   "execution_count": 58,
   "id": "464ce3fc-1639-464e-bec5-6c93d1574f01",
   "metadata": {},
   "outputs": [
    {
     "name": "stdout",
     "output_type": "stream",
     "text": [
      "p-значение: 2.8711147985105864e-19\n",
      "Отвергаем нулевую гипотезу\n"
     ]
    }
   ],
   "source": [
    "Action = actual_period.loc[(actual_period['genre'] == 'Action') & (actual_period['user_score'].notna()), 'user_score']\n",
    "Sports = actual_period.loc[(actual_period['genre'] == 'Sports') & (actual_period['user_score'].notna()), 'user_score']\n",
    "\n",
    "alpha = 0.05\n",
    "\n",
    "results = st.ttest_ind(Action, Sports)\n",
    "\n",
    "print('p-значение:', results.pvalue)\n",
    "\n",
    "if results.pvalue < alpha:\n",
    "    print('Отвергаем нулевую гипотезу')\n",
    "else:\n",
    "    print('Не получилось отвергнуть нулевую гипотезу')"
   ]
  },
  {
   "cell_type": "code",
   "execution_count": 59,
   "id": "84e1fd73-66b0-481f-9028-62e2308a719a",
   "metadata": {},
   "outputs": [
    {
     "name": "stdout",
     "output_type": "stream",
     "text": [
      "Средний рейтинг жанра Action 6.760606060606061\n",
      "Средний рейтинг жанра Sports 5.2251968503937\n"
     ]
    }
   ],
   "source": [
    "print('Средний рейтинг жанра Action', Action.mean())\n",
    "print('Средний рейтинг жанра Sports', Sports.mean())"
   ]
  },
  {
   "cell_type": "markdown",
   "id": "e71518f2-09cc-4313-ad23-9e6010e70508",
   "metadata": {},
   "source": [
    "**Вывод:** отвергаем нулевую гипотезу, а значит средние пользовательские рейтинги по этим жанрам не равны. В большую или меньшую сторону - неизвестно, так как применялся двусторонний метод. \n",
    "\n",
    "Нулевую гипотезу я формулирую так, чтобы данные в ней были равны, альтернативная же идет от обратного. Метод для ttest был выбран ind, так как он подходит для сравнения двух независимых списков."
   ]
  },
  {
   "cell_type": "markdown",
   "id": "1018fcc0-ef1d-4c07-8532-e9bf66e30968",
   "metadata": {},
   "source": [
    "### Общие выводы"
   ]
  },
  {
   "cell_type": "markdown",
   "id": "7415b0ea-a2ec-4430-901f-da04bda227b6",
   "metadata": {},
   "source": [
    "В процессе анализа данных были выполнены следующие этапы, а также сделаны выводы по ним:\n",
    "1. Изучили общую информацию о данных\n",
    " - в датафрейме всего 11 столбцов и 16715 строк\n",
    " - во многих столбцах присутствуют пропуски, названия прописаны не в одном стиле, имеются ошибки в определении типа данных\n",
    "2. Осуществили предобработку данных\n",
    " - явные дубликаты не были обнаружены, а неявные по ключевым столбцам были удалены\n",
    " - в стобцах с названием игры и жанром 1 пропуск, которые были удалены из-за малого количества, в столбце с годом выпуска 269 пропусков, в столбце с оценкой критиков больше половины пропущнных значений - все они были не тронуты, так как изменения могут сильно исказить картину, в реальной жизни лучше обговорить этот момент с заказчиком. Такая же ситуация и с данными оценок пользователей\n",
    " - в рейтинге игры пропуски были изменены на категорию \"ожидает оценки\", чтобы эти данные тоже участвовали в анализе, а несколько малочисленный категорий удалены\n",
    " - в столбце с оценкой пользователей встречается значение 'tbd'(To Be Determined), что, по сути, и есть NaN - поэтому привели значения этого столбца к числовому формату, заменяя все всплывающие ошибки на NaN, а тип данных изменила на нецелочисленный\n",
    " - столбец 'year_of_release' сделала целочисленным\n",
    "3. Провели исследовательский анализ данных\n",
    " - наибольшее количество выпущенных игр пришлось на период с 2005 по 2011 годы\n",
    " - примерный \"срок службы\" платформы - около 10 лет\n",
    " - лидерами по продажам за все время являются PS3, X360, PS4, 3DS. На 2016 год перспективные платформы: PS4, XOne, PC и 3DS\n",
    " - игроки не сильно доверяют ни оценкам критиков, ни пользователей, ведь даже при высоком рейтинге игры часто имеют невысокие продажи (и наоборот)\n",
    " - у жанра shooter не только наибольшая медиана продаж, но и самые высокие выбросы (самая большая выручка). Также высокие медианные продажи у жанров Platform, Sports и Racing. Зато по выбросам после жанра shooter идет action - у него хоть и средние медианные проажи, зато преиодически выходят игр, набрающие высокую популярность. Видны неплохие показатели с достаточно длинными рядами успешно продающихся игр у жанров Fighting, Action, Role-Playing\n",
    "4. Составили портрет пользователя каждого региона\n",
    " - во всех странах в топ-5 популярных платформ вошли PS4, PS3 и 3DS. В Северной Америке и Европе лидирует PS4 с долей продаж в 34.7% и 48% соответственно. В Японии - 3DS, занимающая почти половину всего рынка\n",
    " - приоритеты в жанрах в разных странах расходятся, на мой взгляд, из-за разных культур. Везде есть общие предпочтения - жанры, которые вошли в топ всех стран - action, sports, misc (думаю, потому что это стандартные жанры, полюбившиеся всем). В Северной Америке и Европе также значимую часть занимают шутеры, в то время как в Японии сильно ценятся ролевые игры\n",
    " - можно утверждать, что рейтинг влияет на продажи игр в реионах. Так, у Северной Америки и Европы выбор падает на игры с рейтингом М (от 17 лет). В Японии большинство игр только ждут оценки (RP), а из более продаваемых можно выделить категорию Т (от 13 лет), которая является отсающей в других странах\n",
    "5. Проверили гипотезы\n",
    " - не получилось отвергнуть нулевую гипотезу, так как p-value=0.14 при a=0.05, а значит можем предполагать, что средние пользовательсике рейтинги этих плтаформ примерно равны\n",
    " - отвергаем нулевую гипотезу, так как p-value значительно меньше выбранного уровня статистической значимости, а значит средние пользовательские рейтинги по этим жанрам не равны. В большую или меньшую сторону - неизвестно, так как применялся двусторонний метод\n",
    " - нулеваягипотеза формулируется так, чтобы данные в ней были равны, альтернативная же идет от обратного. Метод для ttest был выбран ind, так как он подходит для сравнения двух независимых списков"
   ]
  }
 ],
 "metadata": {
  "ExecuteTimeLog": [
   {
    "duration": 1129,
    "start_time": "2024-10-19T11:41:24.667Z"
   },
   {
    "duration": 11,
    "start_time": "2024-10-19T11:41:25.798Z"
   },
   {
    "duration": 34,
    "start_time": "2024-10-19T11:41:25.811Z"
   },
   {
    "duration": 15,
    "start_time": "2024-10-19T11:41:25.847Z"
   },
   {
    "duration": 7,
    "start_time": "2024-10-19T11:41:25.863Z"
   },
   {
    "duration": 10,
    "start_time": "2024-10-19T11:41:25.872Z"
   },
   {
    "duration": 6,
    "start_time": "2024-10-19T11:41:25.885Z"
   },
   {
    "duration": 14,
    "start_time": "2024-10-19T11:41:25.892Z"
   },
   {
    "duration": 11,
    "start_time": "2024-10-19T11:41:25.907Z"
   },
   {
    "duration": 38,
    "start_time": "2024-10-19T11:41:25.921Z"
   },
   {
    "duration": 75,
    "start_time": "2024-10-19T11:41:25.961Z"
   },
   {
    "duration": 0,
    "start_time": "2024-10-19T11:41:26.037Z"
   },
   {
    "duration": 0,
    "start_time": "2024-10-19T11:41:26.038Z"
   },
   {
    "duration": 0,
    "start_time": "2024-10-19T11:41:26.039Z"
   },
   {
    "duration": 0,
    "start_time": "2024-10-19T11:41:26.041Z"
   },
   {
    "duration": 0,
    "start_time": "2024-10-19T11:41:26.042Z"
   },
   {
    "duration": 0,
    "start_time": "2024-10-19T11:41:26.043Z"
   },
   {
    "duration": 0,
    "start_time": "2024-10-19T11:41:26.044Z"
   },
   {
    "duration": 0,
    "start_time": "2024-10-19T11:41:26.045Z"
   },
   {
    "duration": 0,
    "start_time": "2024-10-19T11:41:26.046Z"
   },
   {
    "duration": 0,
    "start_time": "2024-10-19T11:41:26.047Z"
   },
   {
    "duration": 0,
    "start_time": "2024-10-19T11:41:26.049Z"
   },
   {
    "duration": 0,
    "start_time": "2024-10-19T11:41:26.050Z"
   },
   {
    "duration": 0,
    "start_time": "2024-10-19T11:41:26.050Z"
   },
   {
    "duration": 1,
    "start_time": "2024-10-19T11:41:26.051Z"
   },
   {
    "duration": 1,
    "start_time": "2024-10-19T11:41:26.052Z"
   },
   {
    "duration": 0,
    "start_time": "2024-10-19T11:41:26.053Z"
   },
   {
    "duration": 0,
    "start_time": "2024-10-19T11:41:26.054Z"
   },
   {
    "duration": 0,
    "start_time": "2024-10-19T11:41:26.056Z"
   },
   {
    "duration": 0,
    "start_time": "2024-10-19T11:41:26.057Z"
   },
   {
    "duration": 0,
    "start_time": "2024-10-19T11:41:26.058Z"
   },
   {
    "duration": 1132,
    "start_time": "2024-10-19T11:44:04.258Z"
   },
   {
    "duration": 12,
    "start_time": "2024-10-19T11:44:05.391Z"
   },
   {
    "duration": 13,
    "start_time": "2024-10-19T11:44:05.405Z"
   },
   {
    "duration": 28,
    "start_time": "2024-10-19T11:44:05.420Z"
   },
   {
    "duration": 7,
    "start_time": "2024-10-19T11:44:05.450Z"
   },
   {
    "duration": 12,
    "start_time": "2024-10-19T11:44:05.459Z"
   },
   {
    "duration": 26,
    "start_time": "2024-10-19T11:44:05.472Z"
   },
   {
    "duration": 20,
    "start_time": "2024-10-19T11:44:05.499Z"
   },
   {
    "duration": 11,
    "start_time": "2024-10-19T11:44:05.520Z"
   },
   {
    "duration": 18,
    "start_time": "2024-10-19T11:44:05.533Z"
   },
   {
    "duration": 152,
    "start_time": "2024-10-19T11:44:05.552Z"
   },
   {
    "duration": 3,
    "start_time": "2024-10-19T11:44:05.705Z"
   },
   {
    "duration": 681,
    "start_time": "2024-10-19T11:44:05.709Z"
   },
   {
    "duration": 0,
    "start_time": "2024-10-19T11:44:06.391Z"
   },
   {
    "duration": 0,
    "start_time": "2024-10-19T11:44:06.392Z"
   },
   {
    "duration": 0,
    "start_time": "2024-10-19T11:44:06.393Z"
   },
   {
    "duration": 0,
    "start_time": "2024-10-19T11:44:06.394Z"
   },
   {
    "duration": 0,
    "start_time": "2024-10-19T11:44:06.394Z"
   },
   {
    "duration": 0,
    "start_time": "2024-10-19T11:44:06.395Z"
   },
   {
    "duration": 0,
    "start_time": "2024-10-19T11:44:06.396Z"
   },
   {
    "duration": 0,
    "start_time": "2024-10-19T11:44:06.397Z"
   },
   {
    "duration": 0,
    "start_time": "2024-10-19T11:44:06.398Z"
   },
   {
    "duration": 0,
    "start_time": "2024-10-19T11:44:06.399Z"
   },
   {
    "duration": 0,
    "start_time": "2024-10-19T11:44:06.399Z"
   },
   {
    "duration": 0,
    "start_time": "2024-10-19T11:44:06.400Z"
   },
   {
    "duration": 0,
    "start_time": "2024-10-19T11:44:06.401Z"
   },
   {
    "duration": 0,
    "start_time": "2024-10-19T11:44:06.402Z"
   },
   {
    "duration": 0,
    "start_time": "2024-10-19T11:44:06.403Z"
   },
   {
    "duration": 0,
    "start_time": "2024-10-19T11:44:06.404Z"
   },
   {
    "duration": 0,
    "start_time": "2024-10-19T11:44:06.405Z"
   },
   {
    "duration": 0,
    "start_time": "2024-10-19T11:44:06.406Z"
   },
   {
    "duration": 358,
    "start_time": "2024-10-19T11:45:44.765Z"
   },
   {
    "duration": 298,
    "start_time": "2024-10-19T11:45:52.084Z"
   },
   {
    "duration": 2,
    "start_time": "2024-10-19T11:47:56.426Z"
   },
   {
    "duration": 2,
    "start_time": "2024-10-19T11:47:59.970Z"
   },
   {
    "duration": 1146,
    "start_time": "2024-10-19T11:48:12.240Z"
   },
   {
    "duration": 12,
    "start_time": "2024-10-19T11:48:13.387Z"
   },
   {
    "duration": 4,
    "start_time": "2024-10-19T11:48:13.401Z"
   },
   {
    "duration": 13,
    "start_time": "2024-10-19T11:48:13.407Z"
   },
   {
    "duration": 6,
    "start_time": "2024-10-19T11:48:13.422Z"
   },
   {
    "duration": 7,
    "start_time": "2024-10-19T11:48:13.430Z"
   },
   {
    "duration": 21,
    "start_time": "2024-10-19T11:48:13.438Z"
   },
   {
    "duration": 19,
    "start_time": "2024-10-19T11:48:13.460Z"
   },
   {
    "duration": 10,
    "start_time": "2024-10-19T11:48:13.480Z"
   },
   {
    "duration": 12,
    "start_time": "2024-10-19T11:48:13.492Z"
   },
   {
    "duration": 160,
    "start_time": "2024-10-19T11:48:13.505Z"
   },
   {
    "duration": 2,
    "start_time": "2024-10-19T11:48:13.667Z"
   },
   {
    "duration": 3,
    "start_time": "2024-10-19T11:48:13.671Z"
   },
   {
    "duration": 8,
    "start_time": "2024-10-19T11:48:13.675Z"
   },
   {
    "duration": 14,
    "start_time": "2024-10-19T11:48:13.685Z"
   },
   {
    "duration": 1140,
    "start_time": "2024-10-19T11:48:13.700Z"
   },
   {
    "duration": 27,
    "start_time": "2024-10-19T11:48:14.842Z"
   },
   {
    "duration": 277,
    "start_time": "2024-10-19T11:48:14.871Z"
   },
   {
    "duration": 250,
    "start_time": "2024-10-19T11:48:15.150Z"
   },
   {
    "duration": 190,
    "start_time": "2024-10-19T11:48:15.402Z"
   },
   {
    "duration": 10,
    "start_time": "2024-10-19T11:48:15.594Z"
   },
   {
    "duration": 8,
    "start_time": "2024-10-19T11:48:15.606Z"
   },
   {
    "duration": 9,
    "start_time": "2024-10-19T11:48:15.615Z"
   },
   {
    "duration": 173,
    "start_time": "2024-10-19T11:48:15.626Z"
   },
   {
    "duration": 435,
    "start_time": "2024-10-19T11:48:15.801Z"
   },
   {
    "duration": 459,
    "start_time": "2024-10-19T11:48:16.238Z"
   },
   {
    "duration": 15,
    "start_time": "2024-10-19T11:48:16.699Z"
   },
   {
    "duration": 10,
    "start_time": "2024-10-19T11:48:16.716Z"
   },
   {
    "duration": 26,
    "start_time": "2024-10-19T11:48:16.728Z"
   },
   {
    "duration": 9,
    "start_time": "2024-10-19T11:48:16.757Z"
   },
   {
    "duration": 3,
    "start_time": "2024-10-19T11:48:16.768Z"
   },
   {
    "duration": 6,
    "start_time": "2024-10-19T11:59:26.276Z"
   },
   {
    "duration": 1163,
    "start_time": "2024-10-19T12:02:25.252Z"
   },
   {
    "duration": 12,
    "start_time": "2024-10-19T12:02:26.416Z"
   },
   {
    "duration": 6,
    "start_time": "2024-10-19T12:02:26.429Z"
   },
   {
    "duration": 14,
    "start_time": "2024-10-19T12:02:26.436Z"
   },
   {
    "duration": 7,
    "start_time": "2024-10-19T12:02:26.452Z"
   },
   {
    "duration": 18,
    "start_time": "2024-10-19T12:02:26.460Z"
   },
   {
    "duration": 4,
    "start_time": "2024-10-19T12:02:26.479Z"
   },
   {
    "duration": 16,
    "start_time": "2024-10-19T12:02:26.484Z"
   },
   {
    "duration": 10,
    "start_time": "2024-10-19T12:02:26.501Z"
   },
   {
    "duration": 12,
    "start_time": "2024-10-19T12:02:26.513Z"
   },
   {
    "duration": 157,
    "start_time": "2024-10-19T12:02:26.526Z"
   },
   {
    "duration": 1,
    "start_time": "2024-10-19T12:02:26.685Z"
   },
   {
    "duration": 3,
    "start_time": "2024-10-19T12:02:26.688Z"
   },
   {
    "duration": 3,
    "start_time": "2024-10-19T12:02:26.693Z"
   },
   {
    "duration": 15,
    "start_time": "2024-10-19T12:02:26.697Z"
   },
   {
    "duration": 1129,
    "start_time": "2024-10-19T12:02:26.713Z"
   },
   {
    "duration": 26,
    "start_time": "2024-10-19T12:02:27.844Z"
   },
   {
    "duration": 264,
    "start_time": "2024-10-19T12:02:27.872Z"
   },
   {
    "duration": 252,
    "start_time": "2024-10-19T12:02:28.137Z"
   },
   {
    "duration": 183,
    "start_time": "2024-10-19T12:02:28.390Z"
   },
   {
    "duration": 9,
    "start_time": "2024-10-19T12:02:28.575Z"
   },
   {
    "duration": 8,
    "start_time": "2024-10-19T12:02:28.586Z"
   },
   {
    "duration": 14,
    "start_time": "2024-10-19T12:02:28.595Z"
   },
   {
    "duration": 160,
    "start_time": "2024-10-19T12:02:28.611Z"
   },
   {
    "duration": 442,
    "start_time": "2024-10-19T12:02:28.772Z"
   },
   {
    "duration": 421,
    "start_time": "2024-10-19T12:02:29.215Z"
   },
   {
    "duration": 13,
    "start_time": "2024-10-19T12:02:29.638Z"
   },
   {
    "duration": 9,
    "start_time": "2024-10-19T12:02:29.657Z"
   },
   {
    "duration": 4,
    "start_time": "2024-10-19T12:02:29.667Z"
   },
   {
    "duration": 9,
    "start_time": "2024-10-19T12:02:29.672Z"
   },
   {
    "duration": 4,
    "start_time": "2024-10-19T12:02:29.683Z"
   },
   {
    "duration": 1122,
    "start_time": "2024-10-19T12:03:48.421Z"
   },
   {
    "duration": 12,
    "start_time": "2024-10-19T12:03:49.545Z"
   },
   {
    "duration": 3,
    "start_time": "2024-10-19T12:03:49.558Z"
   },
   {
    "duration": 13,
    "start_time": "2024-10-19T12:03:49.562Z"
   },
   {
    "duration": 7,
    "start_time": "2024-10-19T12:03:49.577Z"
   },
   {
    "duration": 8,
    "start_time": "2024-10-19T12:03:49.585Z"
   },
   {
    "duration": 4,
    "start_time": "2024-10-19T12:03:49.595Z"
   },
   {
    "duration": 13,
    "start_time": "2024-10-19T12:03:49.600Z"
   },
   {
    "duration": 10,
    "start_time": "2024-10-19T12:03:49.614Z"
   },
   {
    "duration": 44,
    "start_time": "2024-10-19T12:03:49.625Z"
   },
   {
    "duration": 161,
    "start_time": "2024-10-19T12:03:49.671Z"
   },
   {
    "duration": 3,
    "start_time": "2024-10-19T12:03:49.833Z"
   },
   {
    "duration": 649,
    "start_time": "2024-10-19T12:03:49.837Z"
   },
   {
    "duration": 0,
    "start_time": "2024-10-19T12:03:50.487Z"
   },
   {
    "duration": 0,
    "start_time": "2024-10-19T12:03:50.488Z"
   },
   {
    "duration": 0,
    "start_time": "2024-10-19T12:03:50.489Z"
   },
   {
    "duration": 0,
    "start_time": "2024-10-19T12:03:50.490Z"
   },
   {
    "duration": 0,
    "start_time": "2024-10-19T12:03:50.491Z"
   },
   {
    "duration": 0,
    "start_time": "2024-10-19T12:03:50.492Z"
   },
   {
    "duration": 0,
    "start_time": "2024-10-19T12:03:50.493Z"
   },
   {
    "duration": 0,
    "start_time": "2024-10-19T12:03:50.494Z"
   },
   {
    "duration": 0,
    "start_time": "2024-10-19T12:03:50.495Z"
   },
   {
    "duration": 0,
    "start_time": "2024-10-19T12:03:50.495Z"
   },
   {
    "duration": 0,
    "start_time": "2024-10-19T12:03:50.496Z"
   },
   {
    "duration": 0,
    "start_time": "2024-10-19T12:03:50.497Z"
   },
   {
    "duration": 0,
    "start_time": "2024-10-19T12:03:50.498Z"
   },
   {
    "duration": 0,
    "start_time": "2024-10-19T12:03:50.499Z"
   },
   {
    "duration": 0,
    "start_time": "2024-10-19T12:03:50.499Z"
   },
   {
    "duration": 0,
    "start_time": "2024-10-19T12:03:50.500Z"
   },
   {
    "duration": 0,
    "start_time": "2024-10-19T12:03:50.501Z"
   },
   {
    "duration": 0,
    "start_time": "2024-10-19T12:03:50.502Z"
   },
   {
    "duration": 1089,
    "start_time": "2024-10-20T17:02:53.801Z"
   },
   {
    "duration": 156,
    "start_time": "2024-10-20T17:02:54.892Z"
   },
   {
    "duration": 14,
    "start_time": "2024-10-20T17:02:55.049Z"
   },
   {
    "duration": 19,
    "start_time": "2024-10-20T17:02:55.065Z"
   },
   {
    "duration": 16,
    "start_time": "2024-10-20T17:02:55.086Z"
   },
   {
    "duration": 17,
    "start_time": "2024-10-20T17:02:55.104Z"
   },
   {
    "duration": 5,
    "start_time": "2024-10-20T17:02:55.123Z"
   },
   {
    "duration": 8,
    "start_time": "2024-10-20T17:02:55.130Z"
   },
   {
    "duration": 8,
    "start_time": "2024-10-20T17:02:55.140Z"
   },
   {
    "duration": 16,
    "start_time": "2024-10-20T17:02:55.150Z"
   },
   {
    "duration": 9,
    "start_time": "2024-10-20T17:02:55.168Z"
   },
   {
    "duration": 17,
    "start_time": "2024-10-20T17:02:55.178Z"
   },
   {
    "duration": 25,
    "start_time": "2024-10-20T17:02:55.197Z"
   },
   {
    "duration": 5,
    "start_time": "2024-10-20T17:02:55.225Z"
   },
   {
    "duration": 14,
    "start_time": "2024-10-20T17:02:55.231Z"
   },
   {
    "duration": 31,
    "start_time": "2024-10-20T17:02:55.246Z"
   },
   {
    "duration": 19,
    "start_time": "2024-10-20T17:02:55.278Z"
   },
   {
    "duration": 170,
    "start_time": "2024-10-20T17:02:55.298Z"
   },
   {
    "duration": 4,
    "start_time": "2024-10-20T17:02:55.469Z"
   },
   {
    "duration": 485,
    "start_time": "2024-10-20T17:02:55.474Z"
   },
   {
    "duration": 0,
    "start_time": "2024-10-20T17:02:55.961Z"
   },
   {
    "duration": 0,
    "start_time": "2024-10-20T17:02:55.962Z"
   },
   {
    "duration": 0,
    "start_time": "2024-10-20T17:02:55.963Z"
   },
   {
    "duration": 0,
    "start_time": "2024-10-20T17:02:55.965Z"
   },
   {
    "duration": 0,
    "start_time": "2024-10-20T17:02:55.966Z"
   },
   {
    "duration": 0,
    "start_time": "2024-10-20T17:02:55.967Z"
   },
   {
    "duration": 0,
    "start_time": "2024-10-20T17:02:55.967Z"
   },
   {
    "duration": 0,
    "start_time": "2024-10-20T17:02:55.969Z"
   },
   {
    "duration": 0,
    "start_time": "2024-10-20T17:02:55.970Z"
   },
   {
    "duration": 0,
    "start_time": "2024-10-20T17:02:55.971Z"
   },
   {
    "duration": 0,
    "start_time": "2024-10-20T17:02:55.972Z"
   },
   {
    "duration": 0,
    "start_time": "2024-10-20T17:02:55.973Z"
   },
   {
    "duration": 0,
    "start_time": "2024-10-20T17:02:55.975Z"
   },
   {
    "duration": 0,
    "start_time": "2024-10-20T17:02:55.976Z"
   },
   {
    "duration": 0,
    "start_time": "2024-10-20T17:02:55.977Z"
   },
   {
    "duration": 0,
    "start_time": "2024-10-20T17:02:55.978Z"
   },
   {
    "duration": 0,
    "start_time": "2024-10-20T17:02:55.980Z"
   },
   {
    "duration": 0,
    "start_time": "2024-10-20T17:02:55.981Z"
   },
   {
    "duration": 0,
    "start_time": "2024-10-20T17:02:56.021Z"
   },
   {
    "duration": 0,
    "start_time": "2024-10-20T17:02:56.023Z"
   },
   {
    "duration": 0,
    "start_time": "2024-10-20T17:02:56.024Z"
   },
   {
    "duration": 0,
    "start_time": "2024-10-20T17:02:56.025Z"
   },
   {
    "duration": 0,
    "start_time": "2024-10-20T17:02:56.026Z"
   },
   {
    "duration": 0,
    "start_time": "2024-10-20T17:02:56.027Z"
   },
   {
    "duration": 0,
    "start_time": "2024-10-20T17:02:56.029Z"
   },
   {
    "duration": 0,
    "start_time": "2024-10-20T17:02:56.029Z"
   },
   {
    "duration": 0,
    "start_time": "2024-10-20T17:02:56.031Z"
   },
   {
    "duration": 0,
    "start_time": "2024-10-20T17:02:56.031Z"
   },
   {
    "duration": 9,
    "start_time": "2024-10-20T17:03:22.144Z"
   },
   {
    "duration": 8,
    "start_time": "2024-10-20T17:05:12.350Z"
   },
   {
    "duration": 2,
    "start_time": "2024-10-20T17:07:10.491Z"
   },
   {
    "duration": 3,
    "start_time": "2024-10-20T17:07:32.330Z"
   },
   {
    "duration": 1092,
    "start_time": "2024-10-20T17:07:58.887Z"
   },
   {
    "duration": 148,
    "start_time": "2024-10-20T17:07:59.981Z"
   },
   {
    "duration": 14,
    "start_time": "2024-10-20T17:08:00.131Z"
   },
   {
    "duration": 19,
    "start_time": "2024-10-20T17:08:00.146Z"
   },
   {
    "duration": 30,
    "start_time": "2024-10-20T17:08:00.167Z"
   },
   {
    "duration": 18,
    "start_time": "2024-10-20T17:08:00.199Z"
   },
   {
    "duration": 8,
    "start_time": "2024-10-20T17:08:00.218Z"
   },
   {
    "duration": 12,
    "start_time": "2024-10-20T17:08:00.228Z"
   },
   {
    "duration": 27,
    "start_time": "2024-10-20T17:08:00.241Z"
   },
   {
    "duration": 41,
    "start_time": "2024-10-20T17:08:00.269Z"
   },
   {
    "duration": 63,
    "start_time": "2024-10-20T17:08:00.312Z"
   },
   {
    "duration": 38,
    "start_time": "2024-10-20T17:08:00.376Z"
   },
   {
    "duration": 38,
    "start_time": "2024-10-20T17:08:00.415Z"
   },
   {
    "duration": 95,
    "start_time": "2024-10-20T17:08:00.456Z"
   },
   {
    "duration": 27,
    "start_time": "2024-10-20T17:08:00.552Z"
   },
   {
    "duration": 17,
    "start_time": "2024-10-20T17:08:00.580Z"
   },
   {
    "duration": 6,
    "start_time": "2024-10-20T17:08:00.598Z"
   },
   {
    "duration": 24,
    "start_time": "2024-10-20T17:08:00.605Z"
   },
   {
    "duration": 174,
    "start_time": "2024-10-20T17:08:00.630Z"
   },
   {
    "duration": 2,
    "start_time": "2024-10-20T17:08:00.806Z"
   },
   {
    "duration": 85,
    "start_time": "2024-10-20T17:08:00.820Z"
   },
   {
    "duration": 13,
    "start_time": "2024-10-20T17:08:00.907Z"
   },
   {
    "duration": 20,
    "start_time": "2024-10-20T17:08:00.921Z"
   },
   {
    "duration": 1458,
    "start_time": "2024-10-20T17:08:00.943Z"
   },
   {
    "duration": 27,
    "start_time": "2024-10-20T17:08:02.403Z"
   },
   {
    "duration": 62,
    "start_time": "2024-10-20T17:08:02.432Z"
   },
   {
    "duration": 211,
    "start_time": "2024-10-20T17:08:02.496Z"
   },
   {
    "duration": 28,
    "start_time": "2024-10-20T17:08:02.709Z"
   },
   {
    "duration": 353,
    "start_time": "2024-10-20T17:08:02.739Z"
   },
   {
    "duration": 328,
    "start_time": "2024-10-20T17:08:03.094Z"
   },
   {
    "duration": 244,
    "start_time": "2024-10-20T17:08:03.424Z"
   },
   {
    "duration": 151,
    "start_time": "2024-10-20T17:08:03.670Z"
   },
   {
    "duration": 142,
    "start_time": "2024-10-20T17:08:03.823Z"
   },
   {
    "duration": 13,
    "start_time": "2024-10-20T17:08:03.966Z"
   },
   {
    "duration": 72,
    "start_time": "2024-10-20T17:08:03.981Z"
   },
   {
    "duration": 141,
    "start_time": "2024-10-20T17:08:04.055Z"
   },
   {
    "duration": 11,
    "start_time": "2024-10-20T17:08:04.197Z"
   },
   {
    "duration": 157,
    "start_time": "2024-10-20T17:08:04.221Z"
   },
   {
    "duration": 185,
    "start_time": "2024-10-20T17:08:04.380Z"
   },
   {
    "duration": 279,
    "start_time": "2024-10-20T17:08:04.567Z"
   },
   {
    "duration": 353,
    "start_time": "2024-10-20T17:08:04.849Z"
   },
   {
    "duration": 17,
    "start_time": "2024-10-20T17:08:05.204Z"
   },
   {
    "duration": 277,
    "start_time": "2024-10-20T17:08:05.222Z"
   },
   {
    "duration": 557,
    "start_time": "2024-10-20T17:08:05.500Z"
   },
   {
    "duration": 17,
    "start_time": "2024-10-20T17:08:06.058Z"
   },
   {
    "duration": 15,
    "start_time": "2024-10-20T17:08:06.076Z"
   },
   {
    "duration": 17,
    "start_time": "2024-10-20T17:08:06.093Z"
   },
   {
    "duration": 35,
    "start_time": "2024-10-20T17:08:06.111Z"
   },
   {
    "duration": 17,
    "start_time": "2024-10-20T17:08:06.147Z"
   },
   {
    "duration": 11,
    "start_time": "2024-10-20T17:13:53.647Z"
   },
   {
    "duration": 12,
    "start_time": "2024-10-20T17:14:01.516Z"
   },
   {
    "duration": 12,
    "start_time": "2024-10-20T17:14:07.404Z"
   },
   {
    "duration": 13,
    "start_time": "2024-10-20T17:14:28.458Z"
   },
   {
    "duration": 79,
    "start_time": "2024-10-20T17:14:32.547Z"
   },
   {
    "duration": 66,
    "start_time": "2024-10-20T17:14:37.548Z"
   },
   {
    "duration": 14,
    "start_time": "2024-10-20T17:16:02.453Z"
   },
   {
    "duration": 6,
    "start_time": "2024-10-20T17:17:27.501Z"
   },
   {
    "duration": 18,
    "start_time": "2024-10-20T17:17:27.892Z"
   },
   {
    "duration": 10,
    "start_time": "2024-10-20T17:17:40.057Z"
   },
   {
    "duration": 9,
    "start_time": "2024-10-20T17:17:54.749Z"
   },
   {
    "duration": 1073,
    "start_time": "2024-10-20T17:20:01.215Z"
   },
   {
    "duration": 147,
    "start_time": "2024-10-20T17:20:02.289Z"
   },
   {
    "duration": 15,
    "start_time": "2024-10-20T17:20:02.438Z"
   },
   {
    "duration": 19,
    "start_time": "2024-10-20T17:20:02.455Z"
   },
   {
    "duration": 121,
    "start_time": "2024-10-20T17:20:02.475Z"
   },
   {
    "duration": 30,
    "start_time": "2024-10-20T17:20:02.597Z"
   },
   {
    "duration": 23,
    "start_time": "2024-10-20T17:20:02.629Z"
   },
   {
    "duration": 41,
    "start_time": "2024-10-20T17:20:02.654Z"
   },
   {
    "duration": 9,
    "start_time": "2024-10-20T17:20:02.696Z"
   },
   {
    "duration": 8,
    "start_time": "2024-10-20T17:20:02.708Z"
   },
   {
    "duration": 42,
    "start_time": "2024-10-20T17:20:02.718Z"
   },
   {
    "duration": 91,
    "start_time": "2024-10-20T17:20:02.762Z"
   },
   {
    "duration": 88,
    "start_time": "2024-10-20T17:20:02.855Z"
   },
   {
    "duration": 39,
    "start_time": "2024-10-20T17:20:02.944Z"
   },
   {
    "duration": 4,
    "start_time": "2024-10-20T17:20:02.985Z"
   },
   {
    "duration": 26,
    "start_time": "2024-10-20T17:20:02.990Z"
   },
   {
    "duration": 18,
    "start_time": "2024-10-20T17:20:03.018Z"
   },
   {
    "duration": 55,
    "start_time": "2024-10-20T17:20:03.038Z"
   },
   {
    "duration": 155,
    "start_time": "2024-10-20T17:20:03.095Z"
   },
   {
    "duration": 2,
    "start_time": "2024-10-20T17:20:03.252Z"
   },
   {
    "duration": 26,
    "start_time": "2024-10-20T17:20:03.255Z"
   },
   {
    "duration": 9,
    "start_time": "2024-10-20T17:20:03.282Z"
   },
   {
    "duration": 17,
    "start_time": "2024-10-20T17:20:03.292Z"
   },
   {
    "duration": 1352,
    "start_time": "2024-10-20T17:20:03.310Z"
   },
   {
    "duration": 16,
    "start_time": "2024-10-20T17:20:04.664Z"
   },
   {
    "duration": 25,
    "start_time": "2024-10-20T17:20:04.681Z"
   },
   {
    "duration": 184,
    "start_time": "2024-10-20T17:20:04.708Z"
   },
   {
    "duration": 26,
    "start_time": "2024-10-20T17:20:04.896Z"
   },
   {
    "duration": 288,
    "start_time": "2024-10-20T17:20:04.924Z"
   },
   {
    "duration": 301,
    "start_time": "2024-10-20T17:20:05.213Z"
   },
   {
    "duration": 238,
    "start_time": "2024-10-20T17:20:05.515Z"
   },
   {
    "duration": 140,
    "start_time": "2024-10-20T17:20:05.754Z"
   },
   {
    "duration": 135,
    "start_time": "2024-10-20T17:20:05.896Z"
   },
   {
    "duration": 11,
    "start_time": "2024-10-20T17:20:06.032Z"
   },
   {
    "duration": 57,
    "start_time": "2024-10-20T17:20:06.044Z"
   },
   {
    "duration": 158,
    "start_time": "2024-10-20T17:20:06.103Z"
   },
   {
    "duration": 12,
    "start_time": "2024-10-20T17:20:06.263Z"
   },
   {
    "duration": 161,
    "start_time": "2024-10-20T17:20:06.276Z"
   },
   {
    "duration": 188,
    "start_time": "2024-10-20T17:20:06.438Z"
   },
   {
    "duration": 272,
    "start_time": "2024-10-20T17:20:06.627Z"
   },
   {
    "duration": 376,
    "start_time": "2024-10-20T17:20:06.901Z"
   },
   {
    "duration": 51,
    "start_time": "2024-10-20T17:20:07.281Z"
   },
   {
    "duration": 353,
    "start_time": "2024-10-20T17:20:07.333Z"
   },
   {
    "duration": 12,
    "start_time": "2024-10-20T17:20:07.687Z"
   },
   {
    "duration": 86,
    "start_time": "2024-10-20T17:20:07.700Z"
   },
   {
    "duration": 34,
    "start_time": "2024-10-20T17:20:07.788Z"
   },
   {
    "duration": 17,
    "start_time": "2024-10-20T17:20:07.824Z"
   },
   {
    "duration": 601,
    "start_time": "2024-10-20T17:20:07.842Z"
   },
   {
    "duration": 16,
    "start_time": "2024-10-20T17:20:08.445Z"
   },
   {
    "duration": 7,
    "start_time": "2024-10-20T17:20:08.463Z"
   },
   {
    "duration": 110,
    "start_time": "2024-10-20T17:20:08.471Z"
   },
   {
    "duration": 8,
    "start_time": "2024-10-20T17:20:08.582Z"
   },
   {
    "duration": 5,
    "start_time": "2024-10-20T17:20:08.591Z"
   },
   {
    "duration": 3,
    "start_time": "2024-10-20T17:20:28.878Z"
   },
   {
    "duration": 1092,
    "start_time": "2024-10-23T15:57:19.501Z"
   },
   {
    "duration": 599,
    "start_time": "2024-10-23T15:57:20.595Z"
   },
   {
    "duration": 16,
    "start_time": "2024-10-23T15:57:21.196Z"
   },
   {
    "duration": 28,
    "start_time": "2024-10-23T15:57:21.215Z"
   },
   {
    "duration": 49,
    "start_time": "2024-10-23T15:57:21.246Z"
   },
   {
    "duration": 51,
    "start_time": "2024-10-23T15:57:21.297Z"
   },
   {
    "duration": 47,
    "start_time": "2024-10-23T15:57:21.350Z"
   },
   {
    "duration": 46,
    "start_time": "2024-10-23T15:57:21.399Z"
   },
   {
    "duration": 29,
    "start_time": "2024-10-23T15:57:21.446Z"
   },
   {
    "duration": 27,
    "start_time": "2024-10-23T15:57:21.476Z"
   },
   {
    "duration": 48,
    "start_time": "2024-10-23T15:57:21.505Z"
   },
   {
    "duration": 35,
    "start_time": "2024-10-23T15:57:21.554Z"
   },
   {
    "duration": 50,
    "start_time": "2024-10-23T15:57:21.590Z"
   },
   {
    "duration": 41,
    "start_time": "2024-10-23T15:57:21.644Z"
   },
   {
    "duration": 47,
    "start_time": "2024-10-23T15:57:21.687Z"
   },
   {
    "duration": 85,
    "start_time": "2024-10-23T15:57:21.736Z"
   },
   {
    "duration": 101,
    "start_time": "2024-10-23T15:57:21.823Z"
   },
   {
    "duration": 57,
    "start_time": "2024-10-23T15:57:21.926Z"
   },
   {
    "duration": 179,
    "start_time": "2024-10-23T15:57:21.984Z"
   },
   {
    "duration": 3,
    "start_time": "2024-10-23T15:57:22.164Z"
   },
   {
    "duration": 15,
    "start_time": "2024-10-23T15:57:22.168Z"
   },
   {
    "duration": 23,
    "start_time": "2024-10-23T15:57:22.185Z"
   },
   {
    "duration": 50,
    "start_time": "2024-10-23T15:57:22.210Z"
   },
   {
    "duration": 1517,
    "start_time": "2024-10-23T15:57:22.262Z"
   },
   {
    "duration": 18,
    "start_time": "2024-10-23T15:57:23.780Z"
   },
   {
    "duration": 110,
    "start_time": "2024-10-23T15:57:23.800Z"
   },
   {
    "duration": 141,
    "start_time": "2024-10-23T15:57:23.912Z"
   },
   {
    "duration": 24,
    "start_time": "2024-10-23T15:57:24.055Z"
   },
   {
    "duration": 342,
    "start_time": "2024-10-23T15:57:24.081Z"
   },
   {
    "duration": 327,
    "start_time": "2024-10-23T15:57:24.424Z"
   },
   {
    "duration": 243,
    "start_time": "2024-10-23T15:57:24.753Z"
   },
   {
    "duration": 152,
    "start_time": "2024-10-23T15:57:24.998Z"
   },
   {
    "duration": 137,
    "start_time": "2024-10-23T15:57:25.152Z"
   },
   {
    "duration": 13,
    "start_time": "2024-10-23T15:57:25.291Z"
   },
   {
    "duration": 15,
    "start_time": "2024-10-23T15:57:25.305Z"
   },
   {
    "duration": 164,
    "start_time": "2024-10-23T15:57:25.322Z"
   },
   {
    "duration": 13,
    "start_time": "2024-10-23T15:57:25.488Z"
   },
   {
    "duration": 154,
    "start_time": "2024-10-23T15:57:25.502Z"
   },
   {
    "duration": 197,
    "start_time": "2024-10-23T15:57:25.658Z"
   },
   {
    "duration": 301,
    "start_time": "2024-10-23T15:57:25.856Z"
   },
   {
    "duration": 349,
    "start_time": "2024-10-23T15:57:26.160Z"
   },
   {
    "duration": 3,
    "start_time": "2024-10-23T15:57:26.510Z"
   },
   {
    "duration": 6,
    "start_time": "2024-10-23T15:57:26.514Z"
   },
   {
    "duration": 30,
    "start_time": "2024-10-23T15:57:26.522Z"
   },
   {
    "duration": 78,
    "start_time": "2024-10-23T15:57:26.554Z"
   },
   {
    "duration": 18,
    "start_time": "2024-10-23T15:57:26.633Z"
   },
   {
    "duration": 340,
    "start_time": "2024-10-23T15:57:26.652Z"
   },
   {
    "duration": 11,
    "start_time": "2024-10-23T15:57:26.994Z"
   },
   {
    "duration": 95,
    "start_time": "2024-10-23T15:57:27.007Z"
   },
   {
    "duration": 2,
    "start_time": "2024-10-23T15:57:27.104Z"
   },
   {
    "duration": 14,
    "start_time": "2024-10-23T15:57:27.108Z"
   },
   {
    "duration": 587,
    "start_time": "2024-10-23T15:57:27.123Z"
   },
   {
    "duration": 17,
    "start_time": "2024-10-23T15:57:27.712Z"
   },
   {
    "duration": 87,
    "start_time": "2024-10-23T15:57:27.730Z"
   },
   {
    "duration": 113,
    "start_time": "2024-10-23T15:57:27.819Z"
   },
   {
    "duration": 15,
    "start_time": "2024-10-23T15:57:27.934Z"
   },
   {
    "duration": 20,
    "start_time": "2024-10-23T15:57:27.951Z"
   },
   {
    "duration": 8,
    "start_time": "2024-10-23T16:06:02.470Z"
   },
   {
    "duration": 97,
    "start_time": "2024-10-23T16:14:44.652Z"
   },
   {
    "duration": 19,
    "start_time": "2024-10-23T16:14:55.162Z"
   },
   {
    "duration": 3,
    "start_time": "2024-10-23T16:15:13.339Z"
   },
   {
    "duration": 7,
    "start_time": "2024-10-23T16:15:25.972Z"
   },
   {
    "duration": 3,
    "start_time": "2024-10-23T16:15:35.442Z"
   },
   {
    "duration": 7,
    "start_time": "2024-10-23T16:15:36.603Z"
   },
   {
    "duration": 15,
    "start_time": "2024-10-23T16:15:39.387Z"
   },
   {
    "duration": 3,
    "start_time": "2024-10-23T16:15:39.655Z"
   },
   {
    "duration": 7,
    "start_time": "2024-10-23T16:15:40.028Z"
   },
   {
    "duration": 15,
    "start_time": "2024-10-23T16:15:50.358Z"
   },
   {
    "duration": 3,
    "start_time": "2024-10-23T16:15:50.660Z"
   },
   {
    "duration": 8,
    "start_time": "2024-10-23T16:15:51.236Z"
   },
   {
    "duration": 14,
    "start_time": "2024-10-23T16:15:55.262Z"
   },
   {
    "duration": 5,
    "start_time": "2024-10-23T16:15:59.524Z"
   },
   {
    "duration": 8,
    "start_time": "2024-10-23T16:16:00.182Z"
   },
   {
    "duration": 12,
    "start_time": "2024-10-23T16:16:54.392Z"
   },
   {
    "duration": 5,
    "start_time": "2024-10-23T16:16:55.429Z"
   },
   {
    "duration": 8,
    "start_time": "2024-10-23T16:16:55.959Z"
   },
   {
    "duration": 13,
    "start_time": "2024-10-23T16:17:18.320Z"
   },
   {
    "duration": 13,
    "start_time": "2024-10-23T16:17:22.705Z"
   },
   {
    "duration": 11,
    "start_time": "2024-10-23T16:17:29.470Z"
   },
   {
    "duration": 6,
    "start_time": "2024-10-23T16:17:34.233Z"
   },
   {
    "duration": 9,
    "start_time": "2024-10-23T16:18:13.055Z"
   },
   {
    "duration": 9,
    "start_time": "2024-10-23T16:18:23.683Z"
   },
   {
    "duration": 6,
    "start_time": "2024-10-23T16:18:39.675Z"
   },
   {
    "duration": 9,
    "start_time": "2024-10-23T16:18:42.210Z"
   },
   {
    "duration": 6,
    "start_time": "2024-10-23T16:19:17.389Z"
   },
   {
    "duration": 12,
    "start_time": "2024-10-23T16:19:18.820Z"
   },
   {
    "duration": 7,
    "start_time": "2024-10-23T16:19:29.957Z"
   },
   {
    "duration": 9,
    "start_time": "2024-10-23T16:19:31.261Z"
   },
   {
    "duration": 13,
    "start_time": "2024-10-23T16:19:35.484Z"
   },
   {
    "duration": 16,
    "start_time": "2024-10-23T16:19:35.947Z"
   },
   {
    "duration": 7,
    "start_time": "2024-10-23T16:19:36.486Z"
   },
   {
    "duration": 6,
    "start_time": "2024-10-23T16:19:51.454Z"
   },
   {
    "duration": 7,
    "start_time": "2024-10-23T16:19:52.214Z"
   },
   {
    "duration": 13,
    "start_time": "2024-10-23T16:20:40.543Z"
   },
   {
    "duration": 10,
    "start_time": "2024-10-23T16:20:53.257Z"
   },
   {
    "duration": 16,
    "start_time": "2024-10-23T16:20:55.615Z"
   },
   {
    "duration": 10,
    "start_time": "2024-10-23T16:20:56.016Z"
   },
   {
    "duration": 6,
    "start_time": "2024-10-23T16:20:56.433Z"
   },
   {
    "duration": 10,
    "start_time": "2024-10-23T16:20:57.378Z"
   },
   {
    "duration": 12,
    "start_time": "2024-10-23T16:21:22.234Z"
   },
   {
    "duration": 8,
    "start_time": "2024-10-23T16:21:29.651Z"
   },
   {
    "duration": 5,
    "start_time": "2024-10-23T16:21:37.562Z"
   },
   {
    "duration": 10,
    "start_time": "2024-10-23T16:21:49.786Z"
   },
   {
    "duration": 4,
    "start_time": "2024-10-23T16:21:54.139Z"
   },
   {
    "duration": 5,
    "start_time": "2024-10-23T16:22:02.300Z"
   },
   {
    "duration": 11,
    "start_time": "2024-10-23T16:22:04.547Z"
   },
   {
    "duration": 9,
    "start_time": "2024-10-23T16:25:50.165Z"
   },
   {
    "duration": 322,
    "start_time": "2024-10-23T16:25:50.540Z"
   },
   {
    "duration": 2,
    "start_time": "2024-10-23T16:25:59.365Z"
   },
   {
    "duration": 7,
    "start_time": "2024-10-23T16:26:04.710Z"
   },
   {
    "duration": 2,
    "start_time": "2024-10-23T16:26:08.556Z"
   },
   {
    "duration": 3,
    "start_time": "2024-10-23T16:26:11.196Z"
   },
   {
    "duration": 70,
    "start_time": "2024-10-23T16:26:11.453Z"
   },
   {
    "duration": 3,
    "start_time": "2024-10-23T16:26:11.686Z"
   },
   {
    "duration": 9,
    "start_time": "2024-10-23T16:26:11.892Z"
   },
   {
    "duration": 6,
    "start_time": "2024-10-23T16:26:12.117Z"
   },
   {
    "duration": 4,
    "start_time": "2024-10-23T16:26:13.021Z"
   },
   {
    "duration": 9,
    "start_time": "2024-10-23T16:26:13.027Z"
   },
   {
    "duration": 2,
    "start_time": "2024-10-23T16:26:14.119Z"
   },
   {
    "duration": 3,
    "start_time": "2024-10-23T16:26:14.325Z"
   },
   {
    "duration": 3,
    "start_time": "2024-10-23T16:26:14.653Z"
   },
   {
    "duration": 2,
    "start_time": "2024-10-23T16:26:14.981Z"
   },
   {
    "duration": 8,
    "start_time": "2024-10-23T16:26:15.973Z"
   },
   {
    "duration": 287,
    "start_time": "2024-10-23T16:26:17.164Z"
   },
   {
    "duration": 8,
    "start_time": "2024-10-23T16:26:32.159Z"
   },
   {
    "duration": 691,
    "start_time": "2024-10-23T16:26:32.799Z"
   },
   {
    "duration": 587,
    "start_time": "2024-10-23T16:26:37.820Z"
   },
   {
    "duration": 615,
    "start_time": "2024-10-23T16:26:38.800Z"
   },
   {
    "duration": 655,
    "start_time": "2024-10-23T16:26:43.167Z"
   },
   {
    "duration": 1126,
    "start_time": "2024-10-23T16:28:56.460Z"
   },
   {
    "duration": 201,
    "start_time": "2024-10-23T16:28:57.588Z"
   },
   {
    "duration": 15,
    "start_time": "2024-10-23T16:28:57.791Z"
   },
   {
    "duration": 4,
    "start_time": "2024-10-23T16:28:57.808Z"
   },
   {
    "duration": 34,
    "start_time": "2024-10-23T16:28:57.813Z"
   },
   {
    "duration": 17,
    "start_time": "2024-10-23T16:28:57.849Z"
   },
   {
    "duration": 4,
    "start_time": "2024-10-23T16:28:57.868Z"
   },
   {
    "duration": 3,
    "start_time": "2024-10-23T16:28:57.873Z"
   },
   {
    "duration": 69,
    "start_time": "2024-10-23T16:28:57.877Z"
   },
   {
    "duration": 75,
    "start_time": "2024-10-23T16:28:57.948Z"
   },
   {
    "duration": 20,
    "start_time": "2024-10-23T16:28:58.024Z"
   },
   {
    "duration": 9,
    "start_time": "2024-10-23T16:28:58.046Z"
   },
   {
    "duration": 20,
    "start_time": "2024-10-23T16:28:58.057Z"
   },
   {
    "duration": 10,
    "start_time": "2024-10-23T16:28:58.078Z"
   },
   {
    "duration": 12,
    "start_time": "2024-10-23T16:28:58.090Z"
   },
   {
    "duration": 29,
    "start_time": "2024-10-23T16:28:58.103Z"
   },
   {
    "duration": 19,
    "start_time": "2024-10-23T16:28:58.134Z"
   },
   {
    "duration": 7,
    "start_time": "2024-10-23T16:28:58.154Z"
   },
   {
    "duration": 18,
    "start_time": "2024-10-23T16:28:58.162Z"
   },
   {
    "duration": 185,
    "start_time": "2024-10-23T16:28:58.181Z"
   },
   {
    "duration": 3,
    "start_time": "2024-10-23T16:28:58.367Z"
   },
   {
    "duration": 12,
    "start_time": "2024-10-23T16:28:58.372Z"
   },
   {
    "duration": 3,
    "start_time": "2024-10-23T16:28:58.386Z"
   },
   {
    "duration": 21,
    "start_time": "2024-10-23T16:28:58.391Z"
   },
   {
    "duration": 1442,
    "start_time": "2024-10-23T16:28:58.414Z"
   },
   {
    "duration": 26,
    "start_time": "2024-10-23T16:28:59.858Z"
   },
   {
    "duration": 80,
    "start_time": "2024-10-23T16:28:59.893Z"
   },
   {
    "duration": 225,
    "start_time": "2024-10-23T16:28:59.977Z"
   },
   {
    "duration": 23,
    "start_time": "2024-10-23T16:29:00.204Z"
   },
   {
    "duration": 735,
    "start_time": "2024-10-23T16:29:00.229Z"
   },
   {
    "duration": 634,
    "start_time": "2024-10-23T16:29:00.965Z"
   },
   {
    "duration": 235,
    "start_time": "2024-10-23T16:29:01.642Z"
   },
   {
    "duration": 146,
    "start_time": "2024-10-23T16:29:01.879Z"
   },
   {
    "duration": 148,
    "start_time": "2024-10-23T16:29:02.027Z"
   },
   {
    "duration": 12,
    "start_time": "2024-10-23T16:29:02.177Z"
   },
   {
    "duration": 17,
    "start_time": "2024-10-23T16:29:02.191Z"
   },
   {
    "duration": 276,
    "start_time": "2024-10-23T16:29:02.210Z"
   },
   {
    "duration": 14,
    "start_time": "2024-10-23T16:29:02.488Z"
   },
   {
    "duration": 148,
    "start_time": "2024-10-23T16:29:02.504Z"
   },
   {
    "duration": 192,
    "start_time": "2024-10-23T16:29:02.653Z"
   },
   {
    "duration": 264,
    "start_time": "2024-10-23T16:29:02.846Z"
   },
   {
    "duration": 362,
    "start_time": "2024-10-23T16:29:03.111Z"
   },
   {
    "duration": 2,
    "start_time": "2024-10-23T16:29:03.475Z"
   },
   {
    "duration": 19,
    "start_time": "2024-10-23T16:29:03.478Z"
   },
   {
    "duration": 15,
    "start_time": "2024-10-23T16:29:03.499Z"
   },
   {
    "duration": 38,
    "start_time": "2024-10-23T16:29:03.516Z"
   },
   {
    "duration": 14,
    "start_time": "2024-10-23T16:29:03.556Z"
   },
   {
    "duration": 365,
    "start_time": "2024-10-23T16:29:03.571Z"
   },
   {
    "duration": 16,
    "start_time": "2024-10-23T16:29:03.937Z"
   },
   {
    "duration": 158,
    "start_time": "2024-10-23T16:29:03.955Z"
   },
   {
    "duration": 3,
    "start_time": "2024-10-23T16:29:04.115Z"
   },
   {
    "duration": 25,
    "start_time": "2024-10-23T16:29:04.119Z"
   },
   {
    "duration": 552,
    "start_time": "2024-10-23T16:29:04.145Z"
   },
   {
    "duration": 17,
    "start_time": "2024-10-23T16:29:04.698Z"
   },
   {
    "duration": 18,
    "start_time": "2024-10-23T16:29:04.716Z"
   },
   {
    "duration": 15,
    "start_time": "2024-10-23T16:29:04.743Z"
   },
   {
    "duration": 21,
    "start_time": "2024-10-23T16:29:04.760Z"
   },
   {
    "duration": 26,
    "start_time": "2024-10-23T16:29:04.782Z"
   },
   {
    "duration": 28,
    "start_time": "2024-10-23T16:29:04.810Z"
   },
   {
    "duration": 17,
    "start_time": "2024-10-23T16:29:04.840Z"
   },
   {
    "duration": 80,
    "start_time": "2024-10-23T16:29:04.859Z"
   },
   {
    "duration": 3,
    "start_time": "2024-10-23T16:29:04.941Z"
   },
   {
    "duration": 35,
    "start_time": "2024-10-23T16:29:04.945Z"
   },
   {
    "duration": 19,
    "start_time": "2024-10-23T16:29:04.982Z"
   },
   {
    "duration": 5,
    "start_time": "2024-10-23T16:29:05.002Z"
   },
   {
    "duration": 8,
    "start_time": "2024-10-23T16:29:05.008Z"
   },
   {
    "duration": 8,
    "start_time": "2024-10-23T16:29:05.018Z"
   },
   {
    "duration": 610,
    "start_time": "2024-10-23T16:29:05.028Z"
   },
   {
    "duration": 607,
    "start_time": "2024-10-23T16:29:05.642Z"
   },
   {
    "duration": 766,
    "start_time": "2024-10-23T16:29:06.251Z"
   },
   {
    "duration": 9,
    "start_time": "2024-10-23T16:30:03.871Z"
   },
   {
    "duration": 588,
    "start_time": "2024-10-23T16:30:04.302Z"
   }
  ],
  "kernelspec": {
   "display_name": "Python 3 (ipykernel)",
   "language": "python",
   "name": "python3"
  },
  "language_info": {
   "codemirror_mode": {
    "name": "ipython",
    "version": 3
   },
   "file_extension": ".py",
   "mimetype": "text/x-python",
   "name": "python",
   "nbconvert_exporter": "python",
   "pygments_lexer": "ipython3",
   "version": "3.12.4"
  },
  "toc": {
   "base_numbering": 1,
   "nav_menu": {},
   "number_sections": true,
   "sideBar": true,
   "skip_h1_title": true,
   "title_cell": "Table of Contents",
   "title_sidebar": "Contents",
   "toc_cell": false,
   "toc_position": {
    "height": "calc(100% - 180px)",
    "left": "10px",
    "top": "150px",
    "width": "165px"
   },
   "toc_section_display": true,
   "toc_window_display": true
  }
 },
 "nbformat": 4,
 "nbformat_minor": 5
}
