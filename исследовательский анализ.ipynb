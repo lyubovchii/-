{
 "cells": [
  {
   "cell_type": "markdown",
   "id": "8ffbd8b1-12fc-477f-bbcd-6910d1d09998",
   "metadata": {},
   "source": [
    "# ИССЛЕДОВАТЕЛЬСКИЙ АНАЛИЗ ДАННЫХ"
   ]
  },
  {
   "cell_type": "markdown",
   "id": "f4d4f8c9-2bea-4b5e-be21-3c34cb3a23a6",
   "metadata": {},
   "source": [
    "В нашем распоряжении данные сервиса Яндекс Недвижимость — архив объявлений о продаже квартир в Санкт-Петербурге и соседних населённых пунктах за несколько лет. Нам нужно научиться определять рыночную стоимость объектов недвижимости. Для этого проведием исследовательский анализ данных и установим параметры, влияющие на цену объектов. Это позволит построить автоматизированную систему: она отследит аномалии и мошенническую деятельность. \n",
    "\n",
    "По каждой квартире на продажу доступны два вида данных. Первые вписаны пользователем, вторые — получены автоматически на основе картографических данных. Например, расстояние до центра, аэропорта и других объектов — эти данные автоматически получены из геосервисов. Количество парков и водоёмов также заполняется без участия пользователя."
   ]
  },
  {
   "cell_type": "markdown",
   "id": "74eeba12",
   "metadata": {},
   "source": [
    "План работы состоит из следующих пунктов:\n",
    "- изучение общей информации о данных\n",
    "- предобработка данных, где выявляются пропущенные значения, неисправные данные, ошибки в формате, аномалии, неправильный синтаксис\n",
    "- добавление новых столбцов в таблицу, которые пригодятся для дальнейшего анализа\n",
    "- проведение исследовательского анализа, который является основным этапом. Сравнение показателей, определение зависимостей между ними, изучение параметров, влияющих на цену объектов.\n",
    "- подведение резьтатов работы"
   ]
  },
  {
   "cell_type": "markdown",
   "id": "34893ba3-bfd4-431a-85b3-3d91c39ba248",
   "metadata": {},
   "source": [
    "### 1 Откроем файл с данными и изучим общую информацию"
   ]
  },
  {
   "cell_type": "code",
   "execution_count": 1,
   "id": "91ea8bb9-3421-46c2-9144-6ddcac2bc033",
   "metadata": {},
   "outputs": [
    {
     "data": {
      "text/html": [
       "<div>\n",
       "<style scoped>\n",
       "    .dataframe tbody tr th:only-of-type {\n",
       "        vertical-align: middle;\n",
       "    }\n",
       "\n",
       "    .dataframe tbody tr th {\n",
       "        vertical-align: top;\n",
       "    }\n",
       "\n",
       "    .dataframe thead th {\n",
       "        text-align: right;\n",
       "    }\n",
       "</style>\n",
       "<table border=\"1\" class=\"dataframe\">\n",
       "  <thead>\n",
       "    <tr style=\"text-align: right;\">\n",
       "      <th></th>\n",
       "      <th>total_images</th>\n",
       "      <th>last_price</th>\n",
       "      <th>total_area</th>\n",
       "      <th>first_day_exposition</th>\n",
       "      <th>rooms</th>\n",
       "      <th>ceiling_height</th>\n",
       "      <th>floors_total</th>\n",
       "      <th>living_area</th>\n",
       "      <th>floor</th>\n",
       "      <th>is_apartment</th>\n",
       "      <th>...</th>\n",
       "      <th>kitchen_area</th>\n",
       "      <th>balcony</th>\n",
       "      <th>locality_name</th>\n",
       "      <th>airports_nearest</th>\n",
       "      <th>cityCenters_nearest</th>\n",
       "      <th>parks_around3000</th>\n",
       "      <th>parks_nearest</th>\n",
       "      <th>ponds_around3000</th>\n",
       "      <th>ponds_nearest</th>\n",
       "      <th>days_exposition</th>\n",
       "    </tr>\n",
       "  </thead>\n",
       "  <tbody>\n",
       "    <tr>\n",
       "      <th>0</th>\n",
       "      <td>20</td>\n",
       "      <td>13000000.0</td>\n",
       "      <td>108.0</td>\n",
       "      <td>2019-03-07T00:00:00</td>\n",
       "      <td>3</td>\n",
       "      <td>2.70</td>\n",
       "      <td>16.0</td>\n",
       "      <td>51.0</td>\n",
       "      <td>8</td>\n",
       "      <td>NaN</td>\n",
       "      <td>...</td>\n",
       "      <td>25.0</td>\n",
       "      <td>NaN</td>\n",
       "      <td>Санкт-Петербург</td>\n",
       "      <td>18863.0</td>\n",
       "      <td>16028.0</td>\n",
       "      <td>1.0</td>\n",
       "      <td>482.0</td>\n",
       "      <td>2.0</td>\n",
       "      <td>755.0</td>\n",
       "      <td>NaN</td>\n",
       "    </tr>\n",
       "    <tr>\n",
       "      <th>1</th>\n",
       "      <td>7</td>\n",
       "      <td>3350000.0</td>\n",
       "      <td>40.4</td>\n",
       "      <td>2018-12-04T00:00:00</td>\n",
       "      <td>1</td>\n",
       "      <td>NaN</td>\n",
       "      <td>11.0</td>\n",
       "      <td>18.6</td>\n",
       "      <td>1</td>\n",
       "      <td>NaN</td>\n",
       "      <td>...</td>\n",
       "      <td>11.0</td>\n",
       "      <td>2.0</td>\n",
       "      <td>посёлок Шушары</td>\n",
       "      <td>12817.0</td>\n",
       "      <td>18603.0</td>\n",
       "      <td>0.0</td>\n",
       "      <td>NaN</td>\n",
       "      <td>0.0</td>\n",
       "      <td>NaN</td>\n",
       "      <td>81.0</td>\n",
       "    </tr>\n",
       "    <tr>\n",
       "      <th>2</th>\n",
       "      <td>10</td>\n",
       "      <td>5196000.0</td>\n",
       "      <td>56.0</td>\n",
       "      <td>2015-08-20T00:00:00</td>\n",
       "      <td>2</td>\n",
       "      <td>NaN</td>\n",
       "      <td>5.0</td>\n",
       "      <td>34.3</td>\n",
       "      <td>4</td>\n",
       "      <td>NaN</td>\n",
       "      <td>...</td>\n",
       "      <td>8.3</td>\n",
       "      <td>0.0</td>\n",
       "      <td>Санкт-Петербург</td>\n",
       "      <td>21741.0</td>\n",
       "      <td>13933.0</td>\n",
       "      <td>1.0</td>\n",
       "      <td>90.0</td>\n",
       "      <td>2.0</td>\n",
       "      <td>574.0</td>\n",
       "      <td>558.0</td>\n",
       "    </tr>\n",
       "    <tr>\n",
       "      <th>3</th>\n",
       "      <td>0</td>\n",
       "      <td>64900000.0</td>\n",
       "      <td>159.0</td>\n",
       "      <td>2015-07-24T00:00:00</td>\n",
       "      <td>3</td>\n",
       "      <td>NaN</td>\n",
       "      <td>14.0</td>\n",
       "      <td>NaN</td>\n",
       "      <td>9</td>\n",
       "      <td>NaN</td>\n",
       "      <td>...</td>\n",
       "      <td>NaN</td>\n",
       "      <td>0.0</td>\n",
       "      <td>Санкт-Петербург</td>\n",
       "      <td>28098.0</td>\n",
       "      <td>6800.0</td>\n",
       "      <td>2.0</td>\n",
       "      <td>84.0</td>\n",
       "      <td>3.0</td>\n",
       "      <td>234.0</td>\n",
       "      <td>424.0</td>\n",
       "    </tr>\n",
       "    <tr>\n",
       "      <th>4</th>\n",
       "      <td>2</td>\n",
       "      <td>10000000.0</td>\n",
       "      <td>100.0</td>\n",
       "      <td>2018-06-19T00:00:00</td>\n",
       "      <td>2</td>\n",
       "      <td>3.03</td>\n",
       "      <td>14.0</td>\n",
       "      <td>32.0</td>\n",
       "      <td>13</td>\n",
       "      <td>NaN</td>\n",
       "      <td>...</td>\n",
       "      <td>41.0</td>\n",
       "      <td>NaN</td>\n",
       "      <td>Санкт-Петербург</td>\n",
       "      <td>31856.0</td>\n",
       "      <td>8098.0</td>\n",
       "      <td>2.0</td>\n",
       "      <td>112.0</td>\n",
       "      <td>1.0</td>\n",
       "      <td>48.0</td>\n",
       "      <td>121.0</td>\n",
       "    </tr>\n",
       "  </tbody>\n",
       "</table>\n",
       "<p>5 rows × 22 columns</p>\n",
       "</div>"
      ],
      "text/plain": [
       "   total_images  last_price  total_area first_day_exposition  rooms  \\\n",
       "0            20  13000000.0       108.0  2019-03-07T00:00:00      3   \n",
       "1             7   3350000.0        40.4  2018-12-04T00:00:00      1   \n",
       "2            10   5196000.0        56.0  2015-08-20T00:00:00      2   \n",
       "3             0  64900000.0       159.0  2015-07-24T00:00:00      3   \n",
       "4             2  10000000.0       100.0  2018-06-19T00:00:00      2   \n",
       "\n",
       "   ceiling_height  floors_total  living_area  floor is_apartment  ...  \\\n",
       "0            2.70          16.0         51.0      8          NaN  ...   \n",
       "1             NaN          11.0         18.6      1          NaN  ...   \n",
       "2             NaN           5.0         34.3      4          NaN  ...   \n",
       "3             NaN          14.0          NaN      9          NaN  ...   \n",
       "4            3.03          14.0         32.0     13          NaN  ...   \n",
       "\n",
       "   kitchen_area  balcony    locality_name  airports_nearest  \\\n",
       "0          25.0      NaN  Санкт-Петербург           18863.0   \n",
       "1          11.0      2.0   посёлок Шушары           12817.0   \n",
       "2           8.3      0.0  Санкт-Петербург           21741.0   \n",
       "3           NaN      0.0  Санкт-Петербург           28098.0   \n",
       "4          41.0      NaN  Санкт-Петербург           31856.0   \n",
       "\n",
       "  cityCenters_nearest  parks_around3000  parks_nearest  ponds_around3000  \\\n",
       "0             16028.0               1.0          482.0               2.0   \n",
       "1             18603.0               0.0            NaN               0.0   \n",
       "2             13933.0               1.0           90.0               2.0   \n",
       "3              6800.0               2.0           84.0               3.0   \n",
       "4              8098.0               2.0          112.0               1.0   \n",
       "\n",
       "   ponds_nearest  days_exposition  \n",
       "0          755.0              NaN  \n",
       "1            NaN             81.0  \n",
       "2          574.0            558.0  \n",
       "3          234.0            424.0  \n",
       "4           48.0            121.0  \n",
       "\n",
       "[5 rows x 22 columns]"
      ]
     },
     "execution_count": 1,
     "metadata": {},
     "output_type": "execute_result"
    }
   ],
   "source": [
    "import pandas as pd\n",
    "\n",
    "try:\n",
    "    df = pd.read_csv(\"C:/Users/Любовь/Downloads/real_estate_data.csv\", sep = '\\t')\n",
    "except:\n",
    "    df = pd.read_csv('https://code.s3.yandex.net/datasets/real_estate_data.csv', sep = '\\t')\n",
    "df.head() #выводим первые 5 строк таблицы"
   ]
  },
  {
   "cell_type": "code",
   "execution_count": 2,
   "id": "6d9c829c-0983-4c2c-8035-f5411d720a10",
   "metadata": {},
   "outputs": [
    {
     "name": "stdout",
     "output_type": "stream",
     "text": [
      "<class 'pandas.core.frame.DataFrame'>\n",
      "RangeIndex: 23699 entries, 0 to 23698\n",
      "Data columns (total 22 columns):\n",
      " #   Column                Non-Null Count  Dtype  \n",
      "---  ------                --------------  -----  \n",
      " 0   total_images          23699 non-null  int64  \n",
      " 1   last_price            23699 non-null  float64\n",
      " 2   total_area            23699 non-null  float64\n",
      " 3   first_day_exposition  23699 non-null  object \n",
      " 4   rooms                 23699 non-null  int64  \n",
      " 5   ceiling_height        14504 non-null  float64\n",
      " 6   floors_total          23613 non-null  float64\n",
      " 7   living_area           21796 non-null  float64\n",
      " 8   floor                 23699 non-null  int64  \n",
      " 9   is_apartment          2775 non-null   object \n",
      " 10  studio                23699 non-null  bool   \n",
      " 11  open_plan             23699 non-null  bool   \n",
      " 12  kitchen_area          21421 non-null  float64\n",
      " 13  balcony               12180 non-null  float64\n",
      " 14  locality_name         23650 non-null  object \n",
      " 15  airports_nearest      18157 non-null  float64\n",
      " 16  cityCenters_nearest   18180 non-null  float64\n",
      " 17  parks_around3000      18181 non-null  float64\n",
      " 18  parks_nearest         8079 non-null   float64\n",
      " 19  ponds_around3000      18181 non-null  float64\n",
      " 20  ponds_nearest         9110 non-null   float64\n",
      " 21  days_exposition       20518 non-null  float64\n",
      "dtypes: bool(2), float64(14), int64(3), object(3)\n",
      "memory usage: 3.7+ MB\n"
     ]
    }
   ],
   "source": [
    "df.info() #выводим общую информацию на экран"
   ]
  },
  {
   "cell_type": "code",
   "execution_count": 3,
   "id": "35021fec",
   "metadata": {},
   "outputs": [
    {
     "data": {
      "text/plain": [
       "(23699, 22)"
      ]
     },
     "execution_count": 3,
     "metadata": {},
     "output_type": "execute_result"
    }
   ],
   "source": [
    "shape_1 = df.shape #посчитаем количество строк и стобцов до фильтрации\n",
    "shape_1"
   ]
  },
  {
   "cell_type": "markdown",
   "id": "1dddb90b-97be-424d-95c7-3adb7182ceb2",
   "metadata": {},
   "source": [
    "**Вывод**: из информации по датафрейму становится ясно, что во многих столбцах есть пропуски. Дальнейшая цель - разобраться с их природой и заменить значения."
   ]
  },
  {
   "cell_type": "code",
   "execution_count": 4,
   "id": "5e873dd0-8433-4875-b566-79f7538b532a",
   "metadata": {},
   "outputs": [
    {
     "data": {
      "text/plain": [
       "array([[<AxesSubplot:title={'center':'total_images'}>,\n",
       "        <AxesSubplot:title={'center':'last_price'}>,\n",
       "        <AxesSubplot:title={'center':'total_area'}>,\n",
       "        <AxesSubplot:title={'center':'rooms'}>],\n",
       "       [<AxesSubplot:title={'center':'ceiling_height'}>,\n",
       "        <AxesSubplot:title={'center':'floors_total'}>,\n",
       "        <AxesSubplot:title={'center':'living_area'}>,\n",
       "        <AxesSubplot:title={'center':'floor'}>],\n",
       "       [<AxesSubplot:title={'center':'kitchen_area'}>,\n",
       "        <AxesSubplot:title={'center':'balcony'}>,\n",
       "        <AxesSubplot:title={'center':'airports_nearest'}>,\n",
       "        <AxesSubplot:title={'center':'cityCenters_nearest'}>],\n",
       "       [<AxesSubplot:title={'center':'parks_around3000'}>,\n",
       "        <AxesSubplot:title={'center':'parks_nearest'}>,\n",
       "        <AxesSubplot:title={'center':'ponds_around3000'}>,\n",
       "        <AxesSubplot:title={'center':'ponds_nearest'}>],\n",
       "       [<AxesSubplot:title={'center':'days_exposition'}>, <AxesSubplot:>,\n",
       "        <AxesSubplot:>, <AxesSubplot:>]], dtype=object)"
      ]
     },
     "execution_count": 4,
     "metadata": {},
     "output_type": "execute_result"
    },
    {
     "data": {
      "image/png": "[encoded data removed]",
      "text/plain": [
       "<Figure size 1080x1440 with 20 Axes>"
      ]
     },
     "metadata": {
      "needs_background": "light"
     },
     "output_type": "display_data"
    }
   ],
   "source": [
    "df.hist(figsize=(15,20)) #выводим гистограммы всех числовых столбцов датафрейма"
   ]
  },
  {
   "cell_type": "markdown",
   "id": "616d4553-91e8-4abb-972d-613a27b7cd23",
   "metadata": {},
   "source": [
    "**Вывод**: судя по гистограммам в данных есть аномальные значения. Однако на данном этапе какие-то выводы делать рано, поэтому начинаем предобработку данных."
   ]
  },
  {
   "cell_type": "markdown",
   "id": "e4f0038a-bf4e-4b37-a911-54e0fa90a157",
   "metadata": {},
   "source": [
    "### 2 Выполним предобработку данных"
   ]
  },
  {
   "cell_type": "code",
   "execution_count": 5,
   "id": "4fae8e80-6704-4144-b960-b3a33bb5d836",
   "metadata": {},
   "outputs": [
    {
     "data": {
      "text/plain": [
       "total_images                0\n",
       "last_price                  0\n",
       "total_area                  0\n",
       "first_day_exposition        0\n",
       "rooms                       0\n",
       "ceiling_height           9195\n",
       "floors_total               86\n",
       "living_area              1903\n",
       "floor                       0\n",
       "is_apartment            20924\n",
       "studio                      0\n",
       "open_plan                   0\n",
       "kitchen_area             2278\n",
       "balcony                 11519\n",
       "locality_name              49\n",
       "airports_nearest         5542\n",
       "cityCenters_nearest      5519\n",
       "parks_around3000         5518\n",
       "parks_nearest           15620\n",
       "ponds_around3000         5518\n",
       "ponds_nearest           14589\n",
       "days_exposition          3181\n",
       "dtype: int64"
      ]
     },
     "execution_count": 5,
     "metadata": {},
     "output_type": "execute_result"
    }
   ],
   "source": [
    "df.isna().sum() #находим столбцы с пропущенными значениями и считаем их сумму"
   ]
  },
  {
   "cell_type": "code",
   "execution_count": 6,
   "id": "789ead62-ffac-4ae5-8823-63e91c3be257",
   "metadata": {},
   "outputs": [],
   "source": [
    "df = df.rename(columns = {'cityCenters_nearest':'city_centers_nearest'}) #переименовали название столбца в стиле змеиного регистра"
   ]
  },
  {
   "cell_type": "code",
   "execution_count": 7,
   "id": "f55fa646-d43b-4979-8daa-af03a275450c",
   "metadata": {},
   "outputs": [],
   "source": [
    "df['last_price'] = df['last_price'].astype('int') #поменяли тип данных на целочисленный"
   ]
  },
  {
   "cell_type": "code",
   "execution_count": 8,
   "id": "cce6cd54-75e7-4669-97b5-89e39cbf2f21",
   "metadata": {},
   "outputs": [],
   "source": [
    "df['first_day_exposition'] = pd.to_datetime(df['first_day_exposition'], format='%Y-%m-%dT%H:%M:%S') #преобразовали столбец во временной формат"
   ]
  },
  {
   "cell_type": "code",
   "execution_count": 9,
   "id": "83670e80-8295-4476-8893-e2a452f0c217",
   "metadata": {},
   "outputs": [
    {
     "data": {
      "text/plain": [
       "15061    14.00\n",
       "22309    10.30\n",
       "22869    10.00\n",
       "5863      8.30\n",
       "17442     8.00\n",
       "15743     8.00\n",
       "3474      8.00\n",
       "20264     6.00\n",
       "21227     5.80\n",
       "1388      5.60\n",
       "7578      5.50\n",
       "1026      5.30\n",
       "12628     5.30\n",
       "464       5.20\n",
       "1053      5.00\n",
       "21923     4.90\n",
       "2802      4.80\n",
       "19142     4.70\n",
       "1300      4.70\n",
       "12401     4.65\n",
       "6802      4.50\n",
       "14519     4.50\n",
       "13224     4.50\n",
       "10159     4.50\n",
       "2823      4.50\n",
       "9783      4.50\n",
       "3067      4.50\n",
       "8018      4.45\n",
       "7521      4.45\n",
       "6728      4.40\n",
       "11651     4.40\n",
       "7274      4.40\n",
       "4201      4.37\n",
       "10754     4.30\n",
       "17078     4.25\n",
       "Name: ceiling_height, dtype: float64"
      ]
     },
     "execution_count": 9,
     "metadata": {},
     "output_type": "execute_result"
    }
   ],
   "source": [
    "df['ceiling_height'] = df['ceiling_height'].fillna(df['ceiling_height'].median()) #заменили пропущенные значения в стобце на медианное значение\n",
    "df.loc[df['ceiling_height'] >= 20.0, 'ceiling_height'] = df['ceiling_height']/10\n",
    "df['ceiling_height'].sort_values(ascending=False).head(35)"
   ]
  },
  {
   "cell_type": "markdown",
   "id": "61f1bec3-2730-42e7-96a7-852109d25dfa",
   "metadata": {},
   "source": [
    "**Вывод**: в гистограмме по высоте потолков было видно, что присутствуют аномальные значения, поэтому вывели наибольшие значения в этой переменной на экран. Поскольку вряд ли в квартире будут потолки выше, чем 20 метров, можно предположить, что была пропущена точка в записи, поэтому разделим эти значения на 10. "
   ]
  },
  {
   "cell_type": "code",
   "execution_count": 10,
   "id": "8f81f160-fbea-41b5-8ff0-09769811014a",
   "metadata": {},
   "outputs": [],
   "source": [
    "df.dropna(subset=['floors_total'], inplace=True) #удалили пропущенные значения, т.к. их мало\n",
    "df['floors_total'] = df['floors_total'].astype('int')"
   ]
  },
  {
   "cell_type": "code",
   "execution_count": 11,
   "id": "53aa94f8-8df7-4d60-ac15-a3ce1364b356",
   "metadata": {},
   "outputs": [
    {
     "data": {
      "text/plain": [
       "0        51.0\n",
       "1        18.6\n",
       "2        34.3\n",
       "3         NaN\n",
       "4        32.0\n",
       "         ... \n",
       "23694    73.3\n",
       "23695    38.0\n",
       "23696    29.7\n",
       "23697     NaN\n",
       "23698    12.3\n",
       "Name: living_area, Length: 23613, dtype: float64"
      ]
     },
     "execution_count": 11,
     "metadata": {},
     "output_type": "execute_result"
    }
   ],
   "source": [
    "df['living_area'].round(2) #оставляем 2 знака после запятой"
   ]
  },
  {
   "cell_type": "markdown",
   "id": "14d22132-9ae6-4e89-87b3-9a6982499cef",
   "metadata": {},
   "source": [
    "**Вывод**: пропуски в этом стобце я не трогала, т.к. заполнение их медианным значением будет неверно и исказит картину."
   ]
  },
  {
   "cell_type": "code",
   "execution_count": 12,
   "id": "38920da4-a6c1-470a-8209-df85c3d0a806",
   "metadata": {},
   "outputs": [],
   "source": [
    "df['is_apartment'] = df['is_apartment'].fillna('False')\n",
    "df['is_apartment'] = df['is_apartment'].astype('bool') #изменили на булев тип данных"
   ]
  },
  {
   "cell_type": "markdown",
   "id": "53e45a53-5e63-4413-8e49-59bdf499ca4f",
   "metadata": {},
   "source": [
    "**Вывод**: пустые значения в апартаментах были заменены на False, т.к., скорее всего, при заполнении анкеты эту строку пропускали, когда квартира не являлась аппартаментами."
   ]
  },
  {
   "cell_type": "code",
   "execution_count": 13,
   "id": "9739090d-6cef-41f2-92a8-a3cd400481c8",
   "metadata": {},
   "outputs": [
    {
     "data": {
      "text/plain": [
       "0        25.00\n",
       "1        11.00\n",
       "2         8.30\n",
       "3        27.82\n",
       "4        41.00\n",
       "         ...  \n",
       "23694    13.83\n",
       "23695     8.50\n",
       "23696     9.92\n",
       "23697    23.30\n",
       "23698     9.00\n",
       "Name: kitchen_area, Length: 23613, dtype: float64"
      ]
     },
     "execution_count": 13,
     "metadata": {},
     "output_type": "execute_result"
    }
   ],
   "source": [
    "part = df['total_area'].median()/df['kitchen_area'].median() #в отдельную переменную записываем отношение медианного значения общей площади к кухне\n",
    "df['kitchen_area'] = df['kitchen_area'].fillna(df['total_area']/part) #заполняем пропсуки отношением общей площади к результату предыдущих действий\n",
    "df['kitchen_area'].round(2) #оставляем 2 знака после запятой"
   ]
  },
  {
   "cell_type": "code",
   "execution_count": 14,
   "id": "ce3bbc87-e0eb-4c21-a302-e56c2f2b9538",
   "metadata": {},
   "outputs": [],
   "source": [
    "df['balcony'] = df['balcony'].fillna(0) #заменили пропуски на ноль\n",
    "df['balcony'] = df['balcony'].astype('int') #количество балконов перевели в целочисленную переменную"
   ]
  },
  {
   "cell_type": "markdown",
   "id": "d0ad5b59-61b8-4597-9bc1-c7c13880c74d",
   "metadata": {},
   "source": [
    "**Вывод**: если продавец не указал число балконов, то, скорее всего, в его квартире их нет. Такие пропуски можно заменить на 0. "
   ]
  },
  {
   "cell_type": "code",
   "execution_count": 15,
   "id": "5062b164-994e-49ea-82c4-08137c3684b3",
   "metadata": {},
   "outputs": [
    {
     "data": {
      "text/plain": [
       "array(['санкт-петербург', ' шушары', '  янино-1', ' парголово', ' мурино',\n",
       "       'ломоносов', 'сертолово', 'петергоф', 'пушкин', ' кудрово',\n",
       "       'коммунар', 'колпино', '  красный бор', 'гатчина', ' федоровское',\n",
       "       'выборг', 'кронштадт', 'кировск', ' новое девяткино',\n",
       "       ' металлострой', '  лебяжье', '  сиверский', ' молодцово',\n",
       "       '  кузьмоловский', ' новая ропша', 'павловск', ' пикколово',\n",
       "       'всеволожск', 'волхов', 'кингисепп', 'приозерск', 'сестрорецк',\n",
       "       ' куттузи', ' аннино', '  ефимовский', ' плодовое', ' заклинье',\n",
       "       ' торковичи', ' первомайское', 'красное ', ' понтонный',\n",
       "       'сясьстрой', ' старая', ' лесколово', ' новый свет', 'сланцы',\n",
       "       ' путилово', 'ивангород', 'мурино', 'шлиссельбург', 'никольское',\n",
       "       'зеленогорск', 'сосновый бор', ' оржицы', ' кальтино', 'кудрово',\n",
       "       ' романовка', ' бугры', '  рощино', 'кириши', 'луга', 'волосово',\n",
       "       'отрадное', ' павлово', ' оредеж', ' копорье', ' молодежное',\n",
       "       'тихвин', ' победа', ' нурма', '  синявино', 'тосно', ' стрельна',\n",
       "       'бокситогорск', ' александровская', ' лопухинка', 'пикалево',\n",
       "       ' терволово', '  советский', 'подпорожье', ' петровское',\n",
       "       '  токсово', ' сельцо', '  вырица', ' кипень', ' келози',\n",
       "       ' вартемяги', ' тельмана', ' севастьяново', '  большая ижора', nan,\n",
       "       '  павлово', ' агалатово', ' новогорелово', '  лесогорский',\n",
       "       ' лаголово', ' цвелодубово', '  рахья', ' белогорка', ' заводской',\n",
       "       '  новоселье', ' большие колпаны', ' горбунки', ' батово',\n",
       "       ' заневка', ' иссад', 'приморск', '  федоровское', ' мистолово',\n",
       "       'новая ладога', ' зимитицы', ' барышево', ' разметелево',\n",
       "       '  имени свердлова', ' пеники', ' рябово', ' пудомяги',\n",
       "       '  корнево', ' низино', ' бегуницы', ' поляны', '  мга',\n",
       "       ' елизаветино', '  кузнечное', ' колтуши', ' запорожское',\n",
       "       ' гостилицы', ' малое карлино', ' мичуринское', '  имени морозова',\n",
       "       ' песочный', ' сосново', ' аро', ' ильичево', '  тайцы',\n",
       "       ' малое верево', ' извара', '  вещево', ' паша', ' калитино',\n",
       "       '  ульяновка', ' чудской бор', '  дубровка', ' мины',\n",
       "       ' войсковицы', ' коркино', ' ропша', '  приладожский', ' щеглово',\n",
       "       ' гаврилово', 'лодейное поле', ' рабитицы', '  никольский',\n",
       "       ' кузьмолово', ' малые колпаны', ' петро-славянка', '  назия',\n",
       "       ' репино', ' углово', ' старая малукса', ' рахья', ' меньково',\n",
       "       ' старые бегуницы', ' саперный', ' семрино', ' глажево',\n",
       "       ' кобринское', ' гарболово', ' юкки', '  приветнинское',\n",
       "       ' мануйлово', ' пчева', ' цвылево', ' мельниково', ' пудость',\n",
       "       ' усть-луга', 'светогорск', 'любань', ' селезнево', '  рябово',\n",
       "       'каменногорск', ' кривко', ' глебычево', ' парицы', ' жил',\n",
       "       ' войскорово', ' никольское', ' стеклянный', '  важины',\n",
       "       ' мыза-ивановка', ' русско-высоцкое', '  форносово',\n",
       "       ' старая ладога', ' житково', '  виллози', ' лампово',\n",
       "       ' шпаньково', ' лаврики', ' сумино', ' возрождение',\n",
       "       ' старосиверская', ' кикерино', ' старое хинколово',\n",
       "       ' пригородный', ' торфяное', '  будогощь', ' суходолье',\n",
       "       ' красная долина', ' хапо-ое', '  дружная горка', ' лисий нос',\n",
       "       ' яльгелево', ' рождествено', ' старополье', ' левашово',\n",
       "       ' сяськелево', ' камышовка', ' лесная поляна', ' хязельки',\n",
       "       ' жилгородок', ' ялгино', ' новый учхоз', ' гончарово', ' почап',\n",
       "       ' саперное', '  69-й километр', ' каложицы', ' фалилеево',\n",
       "       ' пельгора', ' торошковичи', ' белоостров', ' алексеевка',\n",
       "       ' серебрянский', ' лукаши', ' тарасово', ' кингисеппский',\n",
       "       '   вещево', ' ушаки', ' котлы', ' сижно', ' торосово',\n",
       "       ' форт красная горка', ' новолисино', '  громово', ' глинка',\n",
       "       ' старая пустошь', ' коммунары', ' починок', '  вознесенье',\n",
       "       ' разбегаево', ' гладкое', '   приветнинское', ' тесово-4', ' бор',\n",
       "       ' коробицыно', ' большая вруда', ' курковицы', ' кобралово',\n",
       "       ' суоранда', '  кондратьево', '  счастье', ' любань', ' реброво',\n",
       "       ' тойворово', ' семиозерье', ' лесное', ' совхозный', ' ленинское',\n",
       "       ' суйда', ' нижние осельки', '  свирь', ' перово', 'высоцк',\n",
       "       ' шум', ' котельский', '  лужайка', ' большая пустомержа',\n",
       "       ' красносельское', ' вахнова кара', ' пижма', '  кивеннапа север',\n",
       "       ' ромашки', ' каськово', ' куровицы', ' плоское', ' кирпичное',\n",
       "       ' ям-тесово', ' раздолье', ' терпилицы', ' шугозеро', ' ваганово',\n",
       "       ' пушное', ' садко', ' усть-ижора', ' выскатка', '  свирьстрой',\n",
       "       ' громово', ' кисельня', ' трубников бор', ' высокоключевой',\n",
       "       ' приладожский', '  зеленый бор', ' ненимяки', ' снегиревка',\n",
       "       ' рапполово', ' пустынка', ' большой сабск', ' русско',\n",
       "       ' лупполово', ' большое рейзино', ' малая романовка',\n",
       "       ' дружноселье', ' пчевжа', ' володарское', ' нижняя', '  лесное',\n",
       "       ' тихковицы', ' борисова грива', ' дзержинского'], dtype=object)"
      ]
     },
     "execution_count": 15,
     "metadata": {},
     "output_type": "execute_result"
    }
   ],
   "source": [
    "df['locality_name'] = (\n",
    "    df['locality_name']\n",
    "    .str.lower()\n",
    "    .str.replace('ё', 'е')\n",
    "    .replace(['поселок', 'городской поселок', 'деревня', 'поселок городского типа', 'садовое товарищество', 'село', 'городской', 'городского типа', 'садоводческое некоммерческое товарищество','станции', 'при железнодорожной станции', 'пансионат', 'платформа', 'при железнодорожной', 'коттеджный'], '', regex=True)\n",
    ") #привели все строки к нижнему регистру и оставили только названия населенных пунктов\n",
    "df['locality_name'].unique() #перезаписали и вывели уникальные значения на экран"
   ]
  },
  {
   "cell_type": "code",
   "execution_count": 16,
   "id": "5d2f615f-c499-46bd-8a4e-410741ad3726",
   "metadata": {},
   "outputs": [],
   "source": [
    "df.dropna(subset=['locality_name'], inplace=True) #удалили пропуски"
   ]
  },
  {
   "cell_type": "markdown",
   "id": "61efa06b-c025-438e-a526-cac5f670de6e",
   "metadata": {},
   "source": [
    "**Вывод**: пропуски в населенном пункте удаляем, т.к. таких значений мало. В переменных airports_nearest, city_centers_nearest, parks_nearest, ponds_nearest пропущенные значения возникли, вероятно, от того, что расстояние слишком большое. Такие пропуски я решила не изменять, чтобы в дальнейшем не возникало искажения результатов. В переменной days_exposition пропуски могут сигнализировать о том, что объявление еще актуально, поэтому данные также не меняла. Также не стала трогать переменные parks_around_3000, ponds_around_3000, т.к. в дальнейшем анализе они не участвуют."
   ]
  },
  {
   "cell_type": "code",
   "execution_count": 17,
   "id": "1c8a8e3a-4d4e-4fbc-bed3-f40fab368e97",
   "metadata": {},
   "outputs": [
    {
     "data": {
      "text/plain": [
       "total_images                0\n",
       "last_price                  0\n",
       "total_area                  0\n",
       "first_day_exposition        0\n",
       "rooms                       0\n",
       "ceiling_height              0\n",
       "floors_total                0\n",
       "living_area              1865\n",
       "floor                       0\n",
       "is_apartment                0\n",
       "studio                      0\n",
       "open_plan                   0\n",
       "kitchen_area                0\n",
       "balcony                     0\n",
       "locality_name               0\n",
       "airports_nearest         5524\n",
       "city_centers_nearest     5501\n",
       "parks_around3000         5500\n",
       "parks_nearest           15535\n",
       "ponds_around3000         5500\n",
       "ponds_nearest           14529\n",
       "days_exposition          3171\n",
       "dtype: int64"
      ]
     },
     "execution_count": 17,
     "metadata": {},
     "output_type": "execute_result"
    }
   ],
   "source": [
    "df.isna().sum() #проверяем результаты предобработки данных"
   ]
  },
  {
   "cell_type": "code",
   "execution_count": 18,
   "id": "e6beaf5f-1ce0-41b2-8f1f-764dbccf0755",
   "metadata": {},
   "outputs": [
    {
     "name": "stdout",
     "output_type": "stream",
     "text": [
      "<class 'pandas.core.frame.DataFrame'>\n",
      "Int64Index: 23565 entries, 0 to 23698\n",
      "Data columns (total 22 columns):\n",
      " #   Column                Non-Null Count  Dtype         \n",
      "---  ------                --------------  -----         \n",
      " 0   total_images          23565 non-null  int64         \n",
      " 1   last_price            23565 non-null  int64         \n",
      " 2   total_area            23565 non-null  float64       \n",
      " 3   first_day_exposition  23565 non-null  datetime64[ns]\n",
      " 4   rooms                 23565 non-null  int64         \n",
      " 5   ceiling_height        23565 non-null  float64       \n",
      " 6   floors_total          23565 non-null  int64         \n",
      " 7   living_area           21700 non-null  float64       \n",
      " 8   floor                 23565 non-null  int64         \n",
      " 9   is_apartment          23565 non-null  bool          \n",
      " 10  studio                23565 non-null  bool          \n",
      " 11  open_plan             23565 non-null  bool          \n",
      " 12  kitchen_area          23565 non-null  float64       \n",
      " 13  balcony               23565 non-null  int64         \n",
      " 14  locality_name         23565 non-null  object        \n",
      " 15  airports_nearest      18041 non-null  float64       \n",
      " 16  city_centers_nearest  18064 non-null  float64       \n",
      " 17  parks_around3000      18065 non-null  float64       \n",
      " 18  parks_nearest         8030 non-null   float64       \n",
      " 19  ponds_around3000      18065 non-null  float64       \n",
      " 20  ponds_nearest         9036 non-null   float64       \n",
      " 21  days_exposition       20394 non-null  float64       \n",
      "dtypes: bool(3), datetime64[ns](1), float64(11), int64(6), object(1)\n",
      "memory usage: 3.7+ MB\n"
     ]
    }
   ],
   "source": [
    "df.info()"
   ]
  },
  {
   "cell_type": "markdown",
   "id": "58014c1d-4f69-4c35-83a6-3d531384c9bc",
   "metadata": {},
   "source": [
    "**Вывод**: в результате предобработки данных было выполнено несколько важных моментов.\n",
    "1. Все стобцы стали иметь одинаковый стиль и прописаны в змеином регистре\n",
    "2. Была найдена природа пропущенных значений - где это возможно они были логически заменены\n",
    "3. Тип данных в стобцах был изменен на подходящий там, где это возможно\n",
    "4. Найдены и устранены неявные дубликаты в переменной с названиями населенных пунктов"
   ]
  },
  {
   "cell_type": "markdown",
   "id": "ad5cad21-0663-4a45-bbda-829bec1b024c",
   "metadata": {},
   "source": [
    "### 3 Добавим в таблицу новые столбцы"
   ]
  },
  {
   "cell_type": "code",
   "execution_count": 19,
   "id": "4de18aec-2e89-4a4f-8cbf-824ae8f51c32",
   "metadata": {},
   "outputs": [
    {
     "data": {
      "text/plain": [
       "0        120370.37\n",
       "1         82920.79\n",
       "2         92785.71\n",
       "3        408176.10\n",
       "4        100000.00\n",
       "           ...    \n",
       "23694     72490.85\n",
       "23695     52542.37\n",
       "23696     44091.71\n",
       "23697    149511.40\n",
       "23698     41795.67\n",
       "Name: price_per_square_meter, Length: 23565, dtype: float64"
      ]
     },
     "execution_count": 19,
     "metadata": {},
     "output_type": "execute_result"
    }
   ],
   "source": [
    "df['price_per_square_meter'] = df['last_price']/df['total_area']\n",
    "df['price_per_square_meter'].round(2)"
   ]
  },
  {
   "cell_type": "code",
   "execution_count": 20,
   "id": "1cb2291e-8b31-4f09-ba91-b4086c2feb75",
   "metadata": {},
   "outputs": [],
   "source": [
    "df['day_of_publication'] = df['first_day_exposition'].dt.weekday #добавили столбец с днем публикации"
   ]
  },
  {
   "cell_type": "code",
   "execution_count": 21,
   "id": "4aa0a94c-d5b7-4e53-a3b3-67bffab49fc1",
   "metadata": {},
   "outputs": [],
   "source": [
    "df['month_of_publication'] = df['first_day_exposition'].dt.month #добавили столбец с месяцем публикации"
   ]
  },
  {
   "cell_type": "code",
   "execution_count": 22,
   "id": "6d4ab0d5-7caf-41a4-98c7-dbfae453cd14",
   "metadata": {},
   "outputs": [],
   "source": [
    "df['year_of_publication'] = df['first_day_exposition'].dt.year #добавили столбец с годом публикации"
   ]
  },
  {
   "cell_type": "code",
   "execution_count": 23,
   "id": "fffbd200-b4ad-49a3-9c62-b19eb242ddd6",
   "metadata": {},
   "outputs": [],
   "source": [
    "#создали собственную функию для определения типа этажа\n",
    "def categorize_floor(row):\n",
    "    if row['floor'] == 1:\n",
    "        return 'первый'\n",
    "    if row['floor'] == row['floors_total']:\n",
    "        return 'последний'\n",
    "    return 'другой' "
   ]
  },
  {
   "cell_type": "code",
   "execution_count": 24,
   "id": "23dbf567-fb7b-4b17-89b8-f0e6c164e1b4",
   "metadata": {},
   "outputs": [],
   "source": [
    "df['type_floor'] = df.apply(categorize_floor, axis=1) #добавили столбец"
   ]
  },
  {
   "cell_type": "code",
   "execution_count": 25,
   "id": "75f85fec-0b76-4940-a018-aeda248fb71c",
   "metadata": {},
   "outputs": [],
   "source": [
    "df['city_centers_nearest_km'] = (df['city_centers_nearest']/1000).round(0) #создали новый столбец и округлили значения до ближайших целых чисел"
   ]
  },
  {
   "cell_type": "code",
   "execution_count": 26,
   "id": "5fb4b46e",
   "metadata": {},
   "outputs": [
    {
     "data": {
      "text/html": [
       "<div>\n",
       "<style scoped>\n",
       "    .dataframe tbody tr th:only-of-type {\n",
       "        vertical-align: middle;\n",
       "    }\n",
       "\n",
       "    .dataframe tbody tr th {\n",
       "        vertical-align: top;\n",
       "    }\n",
       "\n",
       "    .dataframe thead th {\n",
       "        text-align: right;\n",
       "    }\n",
       "</style>\n",
       "<table border=\"1\" class=\"dataframe\">\n",
       "  <thead>\n",
       "    <tr style=\"text-align: right;\">\n",
       "      <th></th>\n",
       "      <th>total_images</th>\n",
       "      <th>last_price</th>\n",
       "      <th>total_area</th>\n",
       "      <th>first_day_exposition</th>\n",
       "      <th>rooms</th>\n",
       "      <th>ceiling_height</th>\n",
       "      <th>floors_total</th>\n",
       "      <th>living_area</th>\n",
       "      <th>floor</th>\n",
       "      <th>is_apartment</th>\n",
       "      <th>...</th>\n",
       "      <th>parks_nearest</th>\n",
       "      <th>ponds_around3000</th>\n",
       "      <th>ponds_nearest</th>\n",
       "      <th>days_exposition</th>\n",
       "      <th>price_per_square_meter</th>\n",
       "      <th>day_of_publication</th>\n",
       "      <th>month_of_publication</th>\n",
       "      <th>year_of_publication</th>\n",
       "      <th>type_floor</th>\n",
       "      <th>city_centers_nearest_km</th>\n",
       "    </tr>\n",
       "  </thead>\n",
       "  <tbody>\n",
       "    <tr>\n",
       "      <th>0</th>\n",
       "      <td>20</td>\n",
       "      <td>13000000</td>\n",
       "      <td>108.0</td>\n",
       "      <td>2019-03-07</td>\n",
       "      <td>3</td>\n",
       "      <td>2.70</td>\n",
       "      <td>16</td>\n",
       "      <td>51.0</td>\n",
       "      <td>8</td>\n",
       "      <td>True</td>\n",
       "      <td>...</td>\n",
       "      <td>482.0</td>\n",
       "      <td>2.0</td>\n",
       "      <td>755.0</td>\n",
       "      <td>NaN</td>\n",
       "      <td>120370.370370</td>\n",
       "      <td>3</td>\n",
       "      <td>3</td>\n",
       "      <td>2019</td>\n",
       "      <td>другой</td>\n",
       "      <td>16.0</td>\n",
       "    </tr>\n",
       "    <tr>\n",
       "      <th>1</th>\n",
       "      <td>7</td>\n",
       "      <td>3350000</td>\n",
       "      <td>40.4</td>\n",
       "      <td>2018-12-04</td>\n",
       "      <td>1</td>\n",
       "      <td>2.65</td>\n",
       "      <td>11</td>\n",
       "      <td>18.6</td>\n",
       "      <td>1</td>\n",
       "      <td>True</td>\n",
       "      <td>...</td>\n",
       "      <td>NaN</td>\n",
       "      <td>0.0</td>\n",
       "      <td>NaN</td>\n",
       "      <td>81.0</td>\n",
       "      <td>82920.792079</td>\n",
       "      <td>1</td>\n",
       "      <td>12</td>\n",
       "      <td>2018</td>\n",
       "      <td>первый</td>\n",
       "      <td>19.0</td>\n",
       "    </tr>\n",
       "    <tr>\n",
       "      <th>2</th>\n",
       "      <td>10</td>\n",
       "      <td>5196000</td>\n",
       "      <td>56.0</td>\n",
       "      <td>2015-08-20</td>\n",
       "      <td>2</td>\n",
       "      <td>2.65</td>\n",
       "      <td>5</td>\n",
       "      <td>34.3</td>\n",
       "      <td>4</td>\n",
       "      <td>True</td>\n",
       "      <td>...</td>\n",
       "      <td>90.0</td>\n",
       "      <td>2.0</td>\n",
       "      <td>574.0</td>\n",
       "      <td>558.0</td>\n",
       "      <td>92785.714286</td>\n",
       "      <td>3</td>\n",
       "      <td>8</td>\n",
       "      <td>2015</td>\n",
       "      <td>другой</td>\n",
       "      <td>14.0</td>\n",
       "    </tr>\n",
       "    <tr>\n",
       "      <th>3</th>\n",
       "      <td>0</td>\n",
       "      <td>64900000</td>\n",
       "      <td>159.0</td>\n",
       "      <td>2015-07-24</td>\n",
       "      <td>3</td>\n",
       "      <td>2.65</td>\n",
       "      <td>14</td>\n",
       "      <td>NaN</td>\n",
       "      <td>9</td>\n",
       "      <td>True</td>\n",
       "      <td>...</td>\n",
       "      <td>84.0</td>\n",
       "      <td>3.0</td>\n",
       "      <td>234.0</td>\n",
       "      <td>424.0</td>\n",
       "      <td>408176.100629</td>\n",
       "      <td>4</td>\n",
       "      <td>7</td>\n",
       "      <td>2015</td>\n",
       "      <td>другой</td>\n",
       "      <td>7.0</td>\n",
       "    </tr>\n",
       "    <tr>\n",
       "      <th>4</th>\n",
       "      <td>2</td>\n",
       "      <td>10000000</td>\n",
       "      <td>100.0</td>\n",
       "      <td>2018-06-19</td>\n",
       "      <td>2</td>\n",
       "      <td>3.03</td>\n",
       "      <td>14</td>\n",
       "      <td>32.0</td>\n",
       "      <td>13</td>\n",
       "      <td>True</td>\n",
       "      <td>...</td>\n",
       "      <td>112.0</td>\n",
       "      <td>1.0</td>\n",
       "      <td>48.0</td>\n",
       "      <td>121.0</td>\n",
       "      <td>100000.000000</td>\n",
       "      <td>1</td>\n",
       "      <td>6</td>\n",
       "      <td>2018</td>\n",
       "      <td>другой</td>\n",
       "      <td>8.0</td>\n",
       "    </tr>\n",
       "  </tbody>\n",
       "</table>\n",
       "<p>5 rows × 28 columns</p>\n",
       "</div>"
      ],
      "text/plain": [
       "   total_images  last_price  total_area first_day_exposition  rooms  \\\n",
       "0            20    13000000       108.0           2019-03-07      3   \n",
       "1             7     3350000        40.4           2018-12-04      1   \n",
       "2            10     5196000        56.0           2015-08-20      2   \n",
       "3             0    64900000       159.0           2015-07-24      3   \n",
       "4             2    10000000       100.0           2018-06-19      2   \n",
       "\n",
       "   ceiling_height  floors_total  living_area  floor  is_apartment  ...  \\\n",
       "0            2.70            16         51.0      8          True  ...   \n",
       "1            2.65            11         18.6      1          True  ...   \n",
       "2            2.65             5         34.3      4          True  ...   \n",
       "3            2.65            14          NaN      9          True  ...   \n",
       "4            3.03            14         32.0     13          True  ...   \n",
       "\n",
       "   parks_nearest  ponds_around3000  ponds_nearest  days_exposition  \\\n",
       "0          482.0               2.0          755.0              NaN   \n",
       "1            NaN               0.0            NaN             81.0   \n",
       "2           90.0               2.0          574.0            558.0   \n",
       "3           84.0               3.0          234.0            424.0   \n",
       "4          112.0               1.0           48.0            121.0   \n",
       "\n",
       "  price_per_square_meter  day_of_publication  month_of_publication  \\\n",
       "0          120370.370370                   3                     3   \n",
       "1           82920.792079                   1                    12   \n",
       "2           92785.714286                   3                     8   \n",
       "3          408176.100629                   4                     7   \n",
       "4          100000.000000                   1                     6   \n",
       "\n",
       "   year_of_publication  type_floor  city_centers_nearest_km  \n",
       "0                 2019      другой                     16.0  \n",
       "1                 2018      первый                     19.0  \n",
       "2                 2015      другой                     14.0  \n",
       "3                 2015      другой                      7.0  \n",
       "4                 2018      другой                      8.0  \n",
       "\n",
       "[5 rows x 28 columns]"
      ]
     },
     "execution_count": 26,
     "metadata": {},
     "output_type": "execute_result"
    }
   ],
   "source": [
    "df.head() #выведем несколько строк измененного датасета"
   ]
  },
  {
   "cell_type": "markdown",
   "id": "226a3427-ea0f-44ec-90e9-adaba53ca63a",
   "metadata": {},
   "source": [
    "**Вывод**: были созданы необходимые дополнительные столбцы для дальнейшей работы."
   ]
  },
  {
   "cell_type": "markdown",
   "id": "0bdd8aa8-35fb-4888-a8e6-51eab745d3a6",
   "metadata": {},
   "source": [
    "### 4 Проведем исследовательский анализ данных"
   ]
  },
  {
   "cell_type": "markdown",
   "id": "d6bfb1b9-6f2d-4bec-8c91-8f6dacedc0fb",
   "metadata": {},
   "source": [
    "#### 1. Изучим некоторые параметры объектов и построим отдельные гистограммы для каждого из этих параметров"
   ]
  },
  {
   "cell_type": "code",
   "execution_count": 27,
   "id": "c6bfd68c-112f-4f81-86f0-e525814cab30",
   "metadata": {},
   "outputs": [
    {
     "data": {
      "text/plain": [
       "count    23565.000000\n",
       "mean        60.322824\n",
       "std         35.657060\n",
       "min         12.000000\n",
       "25%         40.000000\n",
       "50%         52.000000\n",
       "75%         69.700000\n",
       "max        900.000000\n",
       "Name: total_area, dtype: float64"
      ]
     },
     "execution_count": 27,
     "metadata": {},
     "output_type": "execute_result"
    }
   ],
   "source": [
    "df['total_area'].describe()"
   ]
  },
  {
   "cell_type": "code",
   "execution_count": 28,
   "id": "78ab8ec6-4e4c-4bf0-a2f8-76a41face7ee",
   "metadata": {},
   "outputs": [
    {
     "data": {
      "text/plain": [
       "<AxesSubplot:title={'center':'зависисмость количесвта квартир в продаже от площади'}, ylabel='Frequency'>"
      ]
     },
     "execution_count": 28,
     "metadata": {},
     "output_type": "execute_result"
    },
    {
     "data": {
      "image/png": "[encoded data removed]",
      "text/plain": [
       "<Figure size 432x288 with 1 Axes>"
      ]
     },
     "metadata": {
      "needs_background": "light"
     },
     "output_type": "display_data"
    }
   ],
   "source": [
    "df.plot(kind='hist', y='total_area', ylabel='Кол-во квартир', xlabel='Квадратные метры', title='зависисмость количесвта квартир в продаже от площади', bins=100, range=(15,150), grid=True)"
   ]
  },
  {
   "cell_type": "code",
   "execution_count": 29,
   "id": "25e4162e-7ac5-4ae9-9ebf-fe21e6bcb272",
   "metadata": {},
   "outputs": [],
   "source": [
    "df = df.query('15 <= total_area <= 500') #оставляем срез со значениями меньше 500 квадратных метров"
   ]
  },
  {
   "cell_type": "markdown",
   "id": "01275ab4-488d-48fd-8972-fcf0d04aaad0",
   "metadata": {},
   "source": [
    "**Вывод**: исследуя гистограмму, можно сказать, что наибольшее предложение составляют квартиры, площадь которых находится в диапазоне от 30 до 65 квадратных метров. При этом пик находится около 45 квадратных метров. Также были отсечены значения, площадь которых составляет меньше 15 и больше 500 квадратных метров, так как количество таких квартир достаточно мало и я сочла это за аномалии. "
   ]
  },
  {
   "cell_type": "code",
   "execution_count": 30,
   "id": "fe02b413-876a-47e7-a281-f79d41b2e9b3",
   "metadata": {},
   "outputs": [
    {
     "data": {
      "text/plain": [
       "count    21691.000000\n",
       "mean        34.373986\n",
       "std         21.439669\n",
       "min          2.000000\n",
       "25%         18.600000\n",
       "50%         30.000000\n",
       "75%         42.300000\n",
       "max        347.500000\n",
       "Name: living_area, dtype: float64"
      ]
     },
     "execution_count": 30,
     "metadata": {},
     "output_type": "execute_result"
    }
   ],
   "source": [
    "df['living_area'].describe()"
   ]
  },
  {
   "cell_type": "code",
   "execution_count": 31,
   "id": "46884fce-3154-4d1b-a112-4082469b3848",
   "metadata": {},
   "outputs": [
    {
     "data": {
      "text/plain": [
       "<AxesSubplot:title={'center':'зависисмость количесвта квартир в продаже от жилой площади'}, ylabel='Frequency'>"
      ]
     },
     "execution_count": 31,
     "metadata": {},
     "output_type": "execute_result"
    },
    {
     "data": {
      "image/png": "[encoded data removed]",
      "text/plain": [
       "<Figure size 432x288 with 1 Axes>"
      ]
     },
     "metadata": {
      "needs_background": "light"
     },
     "output_type": "display_data"
    }
   ],
   "source": [
    "df.plot(kind='hist', y='living_area', title='зависисмость количесвта квартир в продаже от жилой площади', ylabel='Кол-во квартир', xlabel='Квадратные метры', bins=50, range=(2, 60), grid=True)"
   ]
  },
  {
   "cell_type": "markdown",
   "id": "6a7a5956-bb14-47b0-9e7d-7ea0500beb14",
   "metadata": {},
   "source": [
    "**Вывод**: исследуя гистограмму, можно сказать, что квартиры с жилой площадью около 15 и 30 квадратных метров являются самыми популярными для продажи. "
   ]
  },
  {
   "cell_type": "code",
   "execution_count": 32,
   "id": "2ef8a29a-f50f-4429-a6d5-556883c89b02",
   "metadata": {},
   "outputs": [
    {
     "data": {
      "text/plain": [
       "count    23552.000000\n",
       "mean        10.486518\n",
       "std          5.946439\n",
       "min          1.300000\n",
       "25%          7.000000\n",
       "50%          9.000000\n",
       "75%         12.000000\n",
       "max        107.000000\n",
       "Name: kitchen_area, dtype: float64"
      ]
     },
     "execution_count": 32,
     "metadata": {},
     "output_type": "execute_result"
    }
   ],
   "source": [
    "df['kitchen_area'].describe()"
   ]
  },
  {
   "cell_type": "code",
   "execution_count": 33,
   "id": "0e47c2a3-82c0-45e2-bde7-b46219b7e03d",
   "metadata": {},
   "outputs": [
    {
     "data": {
      "text/plain": [
       "<AxesSubplot:title={'center':'зависисмость количесвта квартир в продаже от площади кухни'}, ylabel='Frequency'>"
      ]
     },
     "execution_count": 33,
     "metadata": {},
     "output_type": "execute_result"
    },
    {
     "data": {
      "image/png": "[encoded data removed]",
      "text/plain": [
       "<Figure size 432x288 with 1 Axes>"
      ]
     },
     "metadata": {
      "needs_background": "light"
     },
     "output_type": "display_data"
    }
   ],
   "source": [
    "df.plot(kind='hist', y='kitchen_area', title='зависисмость количесвта квартир в продаже от площади кухни', ylabel='Кол-во квартир', xlabel='Квадратные метры', bins=30, range=(1, 25), grid=True)"
   ]
  },
  {
   "cell_type": "code",
   "execution_count": 34,
   "id": "b1fd5f72-e396-4558-8550-7e4eece69c44",
   "metadata": {},
   "outputs": [],
   "source": [
    "df = df.query('3 < kitchen_area < 30') #оставляем срез со значениями от 3 до 30 квадратных метров"
   ]
  },
  {
   "cell_type": "markdown",
   "id": "21340133-52b0-4ac0-ac5d-ce3512981efc",
   "metadata": {},
   "source": [
    "**Вывод**: исследуя гистограмму, можно сказать, что наибольшее количество предложений встречается у квартир с площадью кухни в диапазоне от 5 до 11 квадратных метров, при этом имеются спады предложений около 6 и 9 квадратных метров. Также были отсечены значения с площадью кухни, меньшей 3 и большей 30 квадратных метров, так как количество таких квартир достаточно мало и я сочла это за аномалии."
   ]
  },
  {
   "cell_type": "code",
   "execution_count": 35,
   "id": "fa8cf16a-1a51-4f45-887f-6796ead77b87",
   "metadata": {},
   "outputs": [
    {
     "data": {
      "text/plain": [
       "count    2.311000e+04\n",
       "mean     5.996183e+06\n",
       "std      6.658979e+06\n",
       "min      4.300000e+05\n",
       "25%      3.400000e+06\n",
       "50%      4.600000e+06\n",
       "75%      6.600000e+06\n",
       "max      4.013000e+08\n",
       "Name: last_price, dtype: float64"
      ]
     },
     "execution_count": 35,
     "metadata": {},
     "output_type": "execute_result"
    }
   ],
   "source": [
    "df['last_price'].describe()"
   ]
  },
  {
   "cell_type": "code",
   "execution_count": 36,
   "id": "e646a642-b49e-4f09-8b71-f53217bc8747",
   "metadata": {},
   "outputs": [
    {
     "data": {
      "text/plain": [
       "<AxesSubplot:title={'center':'зависисмость количесвта квартир в продаже от цены'}, ylabel='Frequency'>"
      ]
     },
     "execution_count": 36,
     "metadata": {},
     "output_type": "execute_result"
    },
    {
     "data": {
      "image/png": "[encoded data removed]",
      "text/plain": [
       "<Figure size 432x288 with 1 Axes>"
      ]
     },
     "metadata": {
      "needs_background": "light"
     },
     "output_type": "display_data"
    }
   ],
   "source": [
    "df.plot(kind='hist', y='last_price', title='зависисмость количесвта квартир в продаже от цены', ylabel='Кол-во квартир', xlabel='Цена в млн', bins=80, range=(1000000, 9000000), grid=True)"
   ]
  },
  {
   "cell_type": "code",
   "execution_count": 37,
   "id": "742e06c0-6508-465b-bce3-3fcce1bd1182",
   "metadata": {},
   "outputs": [],
   "source": [
    "df = df.query('1000000 < last_price < 15000000') #оставляем срез со значениями от 1 до 15 млн руб"
   ]
  },
  {
   "cell_type": "markdown",
   "id": "3a128823-744d-4fa5-a19e-5e492790d3a9",
   "metadata": {},
   "source": [
    "**Вывод**: исследуя гистограмму, можно сказать, что наибольшее количество предложений составляют квартиры стоимостью от 3 до 5 миллионов рублей. Также были отсечены значения с ценой, меньшей 1 и большей 15 млн руб, так как количество таких квартир достаточно мало и я сочла это за аномалии."
   ]
  },
  {
   "cell_type": "code",
   "execution_count": 38,
   "id": "1dbc95e7-88ca-47dc-a9c1-4b4a5f3ed721",
   "metadata": {},
   "outputs": [
    {
     "data": {
      "text/plain": [
       "count    21927.000000\n",
       "mean         1.975282\n",
       "std          0.945438\n",
       "min          0.000000\n",
       "25%          1.000000\n",
       "50%          2.000000\n",
       "75%          3.000000\n",
       "max          7.000000\n",
       "Name: rooms, dtype: float64"
      ]
     },
     "execution_count": 38,
     "metadata": {},
     "output_type": "execute_result"
    }
   ],
   "source": [
    "df['rooms'].describe()"
   ]
  },
  {
   "cell_type": "code",
   "execution_count": 39,
   "id": "b4d6734c-d7d7-4eee-b2f2-69f66cb78694",
   "metadata": {},
   "outputs": [
    {
     "data": {
      "text/plain": [
       "<AxesSubplot:title={'center':'зависисмость количесвта квартир в продаже от количества комнат'}, ylabel='Frequency'>"
      ]
     },
     "execution_count": 39,
     "metadata": {},
     "output_type": "execute_result"
    },
    {
     "data": {
      "image/png": "[encoded data removed]",
      "text/plain": [
       "<Figure size 432x288 with 1 Axes>"
      ]
     },
     "metadata": {
      "needs_background": "light"
     },
     "output_type": "display_data"
    }
   ],
   "source": [
    "df.plot(kind='hist', y='rooms', title='зависисмость количесвта квартир в продаже от количества комнат', ylabel='Кол-во квартир', xlabel='Кол-во комнат', bins=4, range=(0, 5), grid=True)"
   ]
  },
  {
   "cell_type": "markdown",
   "id": "f859cce2-f992-407f-9aff-0a5e2ff75abc",
   "metadata": {},
   "source": [
    "**Вывод**: исследуя гистограмму, можно сказать, что наибольшее количество предложений составляют однокомнатные квартиры. Также видно, что чем больше комнат, тем меньше предложений. Квартиры с 0 комнат отсекать не стала, т.к. можно предположить, что это квартиры-студии."
   ]
  },
  {
   "cell_type": "code",
   "execution_count": 40,
   "id": "41493574-d210-483c-88e9-d9444bd81e31",
   "metadata": {},
   "outputs": [
    {
     "data": {
      "text/plain": [
       "count    21927.000000\n",
       "mean         2.681640\n",
       "std          0.225916\n",
       "min          1.000000\n",
       "25%          2.600000\n",
       "50%          2.650000\n",
       "75%          2.700000\n",
       "max         14.000000\n",
       "Name: ceiling_height, dtype: float64"
      ]
     },
     "execution_count": 40,
     "metadata": {},
     "output_type": "execute_result"
    }
   ],
   "source": [
    "df['ceiling_height'].describe()"
   ]
  },
  {
   "cell_type": "code",
   "execution_count": 41,
   "id": "01216083-2e9f-448c-a78f-dceded6909e6",
   "metadata": {},
   "outputs": [
    {
     "data": {
      "text/plain": [
       "<AxesSubplot:title={'center':'зависисмость количесвта квартир в продаже от высоты потолков'}, ylabel='Frequency'>"
      ]
     },
     "execution_count": 41,
     "metadata": {},
     "output_type": "execute_result"
    },
    {
     "data": {
      "image/png": "[encoded data removed]",
      "text/plain": [
       "<Figure size 432x288 with 1 Axes>"
      ]
     },
     "metadata": {
      "needs_background": "light"
     },
     "output_type": "display_data"
    }
   ],
   "source": [
    "df.plot(kind='hist', y='ceiling_height', title='зависисмость количесвта квартир в продаже от высоты потолков', ylabel='Кол-во квартир', xlabel='Высота потолков', bins=50, range=(2.3, 3.1), grid=True)"
   ]
  },
  {
   "cell_type": "markdown",
   "id": "1e895b58-b9c9-4a13-880d-00e23e1d63e3",
   "metadata": {},
   "source": [
    "**Вывод**: исследуя гистограмму, можно сказать, что наибольшее количество предложений составляют квартиры с высотой потолков около 2.65 метров. Аномальные значения были изменены ранее."
   ]
  },
  {
   "cell_type": "code",
   "execution_count": 42,
   "id": "65021ffe-4f88-449b-8d09-57914ad4acdf",
   "metadata": {},
   "outputs": [
    {
     "data": {
      "text/plain": [
       "<AxesSubplot:title={'center':'Распеределение предложений в зависимости от этажа'}>"
      ]
     },
     "execution_count": 42,
     "metadata": {},
     "output_type": "execute_result"
    },
    {
     "data": {
      "image/png": "[encoded data removed]",
      "text/plain": [
       "<Figure size 216x216 with 1 Axes>"
      ]
     },
     "metadata": {},
     "output_type": "display_data"
    }
   ],
   "source": [
    "df.pivot_table(index='type_floor', values='last_price', aggfunc='count').plot(kind='pie', title='Распеределение предложений в зависимости от этажа', y='last_price', ylabel = '', figsize=(3,3))"
   ]
  },
  {
   "cell_type": "markdown",
   "id": "dff40c31-6612-48e5-8334-62bc02337c94",
   "metadata": {},
   "source": [
    "**Вывод**: исследуя диаграмму, можно сказать, что количество предложений у квартир, располагающихся на первом и на последнем этажах примерно одинаково, а большую часть предложений составляют другие этажи."
   ]
  },
  {
   "cell_type": "code",
   "execution_count": 43,
   "id": "00781d36-c763-4e02-a525-27eb4dcd2334",
   "metadata": {},
   "outputs": [
    {
     "data": {
      "text/plain": [
       "count    21927.000000\n",
       "mean        10.840835\n",
       "std          6.635706\n",
       "min          1.000000\n",
       "25%          5.000000\n",
       "50%          9.000000\n",
       "75%         16.000000\n",
       "max         60.000000\n",
       "Name: floors_total, dtype: float64"
      ]
     },
     "execution_count": 43,
     "metadata": {},
     "output_type": "execute_result"
    }
   ],
   "source": [
    "df['floors_total'].describe()"
   ]
  },
  {
   "cell_type": "code",
   "execution_count": 44,
   "id": "dd35f5d4-2af4-4eca-8dcf-46d6b45fe33f",
   "metadata": {},
   "outputs": [
    {
     "data": {
      "text/plain": [
       "<AxesSubplot:title={'center':'Зависимость количества квартир в продаже от количества этажей в доме'}, ylabel='Frequency'>"
      ]
     },
     "execution_count": 44,
     "metadata": {},
     "output_type": "execute_result"
    },
    {
     "data": {
      "image/png": "[encoded data removed]",
      "text/plain": [
       "<Figure size 432x288 with 1 Axes>"
      ]
     },
     "metadata": {
      "needs_background": "light"
     },
     "output_type": "display_data"
    }
   ],
   "source": [
    "df.plot(kind='hist', y='floors_total', title='Зависимость количества квартир в продаже от количества этажей в доме', ylabel='Кол-во квартир', xlabel='Кол-во этажей', bins=50, range=(1,35), grid=True)"
   ]
  },
  {
   "cell_type": "code",
   "execution_count": 45,
   "id": "becd60e4-f288-4808-9e27-c05c263204af",
   "metadata": {},
   "outputs": [],
   "source": [
    "df = df.query('1 < floors_total < 35') #оставляем срез со значениями от 1 до 35 этажей"
   ]
  },
  {
   "cell_type": "markdown",
   "id": "d2f07327-6c45-486d-89fc-372709fc5b53",
   "metadata": {},
   "source": [
    "**Вывод**: исследуя гистограмму, можно сказать, что наибольшее количество предложений составляют квартиры в 5- и 9-этажных домах. Также были отсечены значения выше 35 этажей, так как количество таких квартир достаточно мало и я сочла это за аномалии."
   ]
  },
  {
   "cell_type": "code",
   "execution_count": 46,
   "id": "1cbc56c3-2772-4aa8-8bd9-052095d92758",
   "metadata": {},
   "outputs": [
    {
     "data": {
      "text/plain": [
       "count    16670.000000\n",
       "mean     14695.478224\n",
       "std       8555.617664\n",
       "min        208.000000\n",
       "25%      10240.000000\n",
       "50%      13390.000000\n",
       "75%      16527.000000\n",
       "max      65968.000000\n",
       "Name: city_centers_nearest, dtype: float64"
      ]
     },
     "execution_count": 46,
     "metadata": {},
     "output_type": "execute_result"
    }
   ],
   "source": [
    "df['city_centers_nearest'].describe()"
   ]
  },
  {
   "cell_type": "code",
   "execution_count": 47,
   "id": "31875460-5b91-4cb4-9b52-4d5effc90156",
   "metadata": {},
   "outputs": [
    {
     "data": {
      "text/plain": [
       "<AxesSubplot:title={'center':'Зависимость количества квартир в продаже от расстояния от центра'}, ylabel='Frequency'>"
      ]
     },
     "execution_count": 47,
     "metadata": {},
     "output_type": "execute_result"
    },
    {
     "data": {
      "image/png": "[encoded data removed]",
      "text/plain": [
       "<Figure size 432x288 with 1 Axes>"
      ]
     },
     "metadata": {
      "needs_background": "light"
     },
     "output_type": "display_data"
    }
   ],
   "source": [
    "df.plot(kind='hist', y='city_centers_nearest', title='Зависимость количества квартир в продаже от расстояния от центра', ylabel='Кол-во квартир', xlabel='Расстояние от центра в метрах', bins=100, range=(208,65968), grid=True)"
   ]
  },
  {
   "cell_type": "markdown",
   "id": "84f17ee5-0ed1-41c8-8bb7-e6e0b9897300",
   "metadata": {},
   "source": [
    "**Вывод**: из гистограммы видно, что наибольшее количество предложений наблюдается у квартир с удаленностью от центра около 10000-17000 метров. Также достаточно велико значение около 5000 метров. "
   ]
  },
  {
   "cell_type": "code",
   "execution_count": 48,
   "id": "5b48f0c2-f7ad-4170-9ad7-10aa54c0bca9",
   "metadata": {},
   "outputs": [
    {
     "data": {
      "text/plain": [
       "count    7097.000000\n",
       "mean      491.508525\n",
       "std       334.272666\n",
       "min         1.000000\n",
       "25%       292.000000\n",
       "50%       456.000000\n",
       "75%       614.000000\n",
       "max      3190.000000\n",
       "Name: parks_nearest, dtype: float64"
      ]
     },
     "execution_count": 48,
     "metadata": {},
     "output_type": "execute_result"
    }
   ],
   "source": [
    "df['parks_nearest'].describe()"
   ]
  },
  {
   "cell_type": "code",
   "execution_count": 49,
   "id": "d9b400e9-8432-4cd2-ad1f-01836d00a3eb",
   "metadata": {},
   "outputs": [
    {
     "data": {
      "text/plain": [
       "<AxesSubplot:title={'center':'Зависимость количества квартир в продаже от расстояния до парка'}, ylabel='Frequency'>"
      ]
     },
     "execution_count": 49,
     "metadata": {},
     "output_type": "execute_result"
    },
    {
     "data": {
      "image/png": "[encoded data removed]",
      "text/plain": [
       "<Figure size 432x288 with 1 Axes>"
      ]
     },
     "metadata": {
      "needs_background": "light"
     },
     "output_type": "display_data"
    }
   ],
   "source": [
    "df.plot(kind='hist', y='parks_nearest', title='Зависимость количества квартир в продаже от расстояния до парка', ylabel='Кол-во квартир', xlabel='Расстояние до ближайшего парка', bins=100, range=(1,1000), grid=True)"
   ]
  },
  {
   "cell_type": "markdown",
   "id": "1ac06932-52ec-464c-81c8-78340fa5576a",
   "metadata": {},
   "source": [
    "**Вывод**: из гистограммы видно, что удаленность от парка не сильно влияет на количество предложений квартир, однако среднее растояние квартиры до парка составляет 200-600 метров. Квартиры, находящиеся более, чем в километре от ближайшего парка, встречаются реже."
   ]
  },
  {
   "cell_type": "code",
   "execution_count": 50,
   "id": "5f7f38db",
   "metadata": {},
   "outputs": [
    {
     "data": {
      "text/plain": [
       "(21878, 28)"
      ]
     },
     "execution_count": 50,
     "metadata": {},
     "output_type": "execute_result"
    }
   ],
   "source": [
    "shape_2 = df.shape #посчитаем количество строк и стобцов после фильтрации\n",
    "shape_2"
   ]
  },
  {
   "cell_type": "code",
   "execution_count": 51,
   "id": "f15fcc6d",
   "metadata": {},
   "outputs": [
    {
     "data": {
      "text/plain": [
       "0.9231613148234102"
      ]
     },
     "execution_count": 51,
     "metadata": {},
     "output_type": "execute_result"
    }
   ],
   "source": [
    "share_after_filtering = shape_2[0] / shape_1[0] #создаем переменную с долей от изначального кол-ва данных\n",
    "share_after_filtering"
   ]
  },
  {
   "cell_type": "markdown",
   "id": "769fc174",
   "metadata": {},
   "source": [
    "**Вывод**: была получена доля от изначальных данных после фильтрации. Так как у нас осталось 92.5% от изначального числа данных, можно считать анализ актуальным."
   ]
  },
  {
   "attachments": {
    "%D0%A1%D0%BD%D0%B8%D0%BC%D0%BE%D0%BA%20%D1%8D%D0%BA%D1%80%D0%B0%D0%BD%D0%B0%202024-09-27%20%D0%B2%2020.58.01.png": {
     "image/png": "[encoded data removed]"
    }
   },
   "cell_type": "markdown",
   "id": "d28735d4",
   "metadata": {},
   "source": [
    "![%D0%A1%D0%BD%D0%B8%D0%BC%D0%BE%D0%BA%20%D1%8D%D0%BA%D1%80%D0%B0%D0%BD%D0%B0%202024-09-27%20%D0%B2%2020.58.01.png](attachment:%D0%A1%D0%BD%D0%B8%D0%BC%D0%BE%D0%BA%20%D1%8D%D0%BA%D1%80%D0%B0%D0%BD%D0%B0%202024-09-27%20%D0%B2%2020.58.01.png)"
   ]
  },
  {
   "cell_type": "markdown",
   "id": "c0893d43-779a-445a-a134-c697c790c26f",
   "metadata": {},
   "source": [
    "#### 2. Изучим, как быстро продавались квартиры"
   ]
  },
  {
   "cell_type": "code",
   "execution_count": 52,
   "id": "6ad9d9b9-dec1-47f2-90d7-0d08a5940473",
   "metadata": {},
   "outputs": [
    {
     "data": {
      "text/plain": [
       "count    19159.000000\n",
       "mean       175.917323\n",
       "std        214.817338\n",
       "min          1.000000\n",
       "25%         44.000000\n",
       "50%         92.000000\n",
       "75%        223.000000\n",
       "max       1580.000000\n",
       "Name: days_exposition, dtype: float64"
      ]
     },
     "execution_count": 52,
     "metadata": {},
     "output_type": "execute_result"
    }
   ],
   "source": [
    "df['days_exposition'].describe()"
   ]
  },
  {
   "cell_type": "code",
   "execution_count": 53,
   "id": "82e3c634-7feb-4583-afe5-3b7ffe6a6cf6",
   "metadata": {},
   "outputs": [
    {
     "data": {
      "text/plain": [
       "<AxesSubplot:title={'center':'Зависимость количества продаж квартир от времени'}, ylabel='Frequency'>"
      ]
     },
     "execution_count": 53,
     "metadata": {},
     "output_type": "execute_result"
    },
    {
     "data": {
      "image/png": "[encoded data removed]",
      "text/plain": [
       "<Figure size 432x288 with 1 Axes>"
      ]
     },
     "metadata": {
      "needs_background": "light"
     },
     "output_type": "display_data"
    }
   ],
   "source": [
    "df.plot(kind='hist', y='days_exposition', title='Зависимость количества продаж квартир от времени', ylabel='Кол-во объявлений о продаже', xlabel='Кол-во дней в продаже', range=(1,600), bins=100, grid=True)"
   ]
  },
  {
   "cell_type": "code",
   "execution_count": 54,
   "id": "77de603d",
   "metadata": {},
   "outputs": [
    {
     "data": {
      "text/plain": [
       "<AxesSubplot:>"
      ]
     },
     "execution_count": 54,
     "metadata": {},
     "output_type": "execute_result"
    },
    {
     "data": {
      "image/png": "[encoded data removed]",
      "text/plain": [
       "<Figure size 504x504 with 1 Axes>"
      ]
     },
     "metadata": {
      "needs_background": "light"
     },
     "output_type": "display_data"
    }
   ],
   "source": [
    "df.pivot_table(index='days_exposition', values='first_day_exposition', aggfunc='count').boxplot(grid=True, figsize=(7,7))"
   ]
  },
  {
   "cell_type": "code",
   "execution_count": 74,
   "id": "56bd0b72",
   "metadata": {},
   "outputs": [
    {
     "data": {
      "text/plain": [
       "<AxesSubplot:>"
      ]
     },
     "execution_count": 74,
     "metadata": {},
     "output_type": "execute_result"
    },
    {
     "data": {
      "image/png": "[encoded data removed]",
      "text/plain": [
       "<Figure size 432x288 with 1 Axes>"
      ]
     },
     "metadata": {
      "needs_background": "light"
     },
     "output_type": "display_data"
    }
   ],
   "source": [
    "# Код ревьюера\n",
    "df.boxplot(column = 'days_exposition')"
   ]
  },
  {
   "cell_type": "code",
   "execution_count": 75,
   "id": "22a2818a",
   "metadata": {},
   "outputs": [
    {
     "data": {
      "text/plain": [
       "count    19159.000000\n",
       "mean       175.917323\n",
       "std        214.817338\n",
       "min          1.000000\n",
       "25%         44.000000\n",
       "50%         92.000000\n",
       "75%        223.000000\n",
       "max       1580.000000\n",
       "Name: days_exposition, dtype: float64"
      ]
     },
     "execution_count": 75,
     "metadata": {},
     "output_type": "execute_result"
    }
   ],
   "source": [
    "# Код ревьюера\n",
    "df.days_exposition.describe()"
   ]
  },
  {
   "cell_type": "markdown",
   "id": "d2b1756b-dd43-45e3-8204-4acf1b4170a2",
   "metadata": {},
   "source": [
    "**Вывод**: среднее время продажи квартиры составляет 176 дней, а медианное - 93 дня. Для анализа лучше ориентироваться на медианное значение, т.к. оно устойчиво к различным выбросам. Также из гистограммы видно, что большинство квартир было продано спустя примерно 50 дней после публикации объявления - значения до этого можно считать быстрыми продажами. Куда реже встречаются квартиры, которые продаются дольше 200 дней - это можно считать долгими продажами.\n",
    "\n",
    "Из диаграммы размаха видно, что основные продажи происходят в диапазоне от 50 до 150 дней."
   ]
  },
  {
   "cell_type": "markdown",
   "id": "4302b74d-44dd-4f59-b108-bfe10ef676ea",
   "metadata": {},
   "source": [
    "#### 3. Определим факторы, которые больше всего влияют на общую (полную) стоимость объекта."
   ]
  },
  {
   "cell_type": "code",
   "execution_count": 56,
   "id": "d65aeeb8-d9f3-4af7-96b1-24631b6f6afc",
   "metadata": {},
   "outputs": [
    {
     "data": {
      "text/plain": [
       "<AxesSubplot:title={'center':'Зависимость цены от общей площади'}, xlabel='Общая площадь', ylabel='Цена'>"
      ]
     },
     "execution_count": 56,
     "metadata": {},
     "output_type": "execute_result"
    },
    {
     "data": {
      "image/png": "[encoded data removed]",
      "text/plain": [
       "<Figure size 360x360 with 1 Axes>"
      ]
     },
     "metadata": {
      "needs_background": "light"
     },
     "output_type": "display_data"
    }
   ],
   "source": [
    "df.pivot_table(index='total_area', values='last_price').plot(title='Зависимость цены от общей площади', ylabel='Цена', xlabel='Общая площадь', style='o', grid=True, figsize=(5,5))"
   ]
  },
  {
   "cell_type": "markdown",
   "id": "50e2453f-41ce-4131-8f91-09526c44b147",
   "metadata": {},
   "source": [
    "**Вывод**: судя по графику, можно увидеть, что между общей площадью и ценой за квартиру есть сильная линейная зависимость - чем больше площадь, тем выше цена."
   ]
  },
  {
   "cell_type": "code",
   "execution_count": 57,
   "id": "c0e16cc1-50db-4141-9890-123c833bf865",
   "metadata": {},
   "outputs": [
    {
     "data": {
      "text/plain": [
       "<AxesSubplot:title={'center':'Зависимость цены от жилой площади'}, xlabel='Жилая площадь', ylabel='Цена'>"
      ]
     },
     "execution_count": 57,
     "metadata": {},
     "output_type": "execute_result"
    },
    {
     "data": {
      "image/png": "[encoded data removed]",
      "text/plain": [
       "<Figure size 360x360 with 1 Axes>"
      ]
     },
     "metadata": {
      "needs_background": "light"
     },
     "output_type": "display_data"
    }
   ],
   "source": [
    "df.pivot_table(index='living_area', values='last_price').plot(title='Зависимость цены от жилой площади', ylabel='Цена', xlabel='Жилая площадь', style='o', grid=True, figsize=(5,5))"
   ]
  },
  {
   "cell_type": "markdown",
   "id": "9b59c330-065f-4431-9525-0c4dace5c390",
   "metadata": {},
   "source": [
    "**Вывод**: судя по графику, можно увидеть, что между жилой площадью и ценой за квартиру есть некоторая линейная зависимость - чем больше площадь, тем выше цена. Однако, зависимость не настолько сильная, как с общей площадью и есть выбивающиеся значения."
   ]
  },
  {
   "cell_type": "code",
   "execution_count": 58,
   "id": "2fb0e904-4425-4829-9427-bd9961eb8282",
   "metadata": {},
   "outputs": [
    {
     "data": {
      "text/plain": [
       "<AxesSubplot:title={'center':'Зависимость цены от площади кухни'}, xlabel='Площадь кухни', ylabel='Цена'>"
      ]
     },
     "execution_count": 58,
     "metadata": {},
     "output_type": "execute_result"
    },
    {
     "data": {
      "image/png": "[encoded data removed]",
      "text/plain": [
       "<Figure size 360x360 with 1 Axes>"
      ]
     },
     "metadata": {
      "needs_background": "light"
     },
     "output_type": "display_data"
    }
   ],
   "source": [
    "df.pivot_table(index='kitchen_area', values='last_price').plot(title='Зависимость цены от площади кухни', ylabel='Цена', xlabel='Площадь кухни', style='o', grid=True, figsize=(5,5))"
   ]
  },
  {
   "cell_type": "markdown",
   "id": "03ab40d7-881a-4bcb-80c6-5f64fc91203a",
   "metadata": {},
   "source": [
    "**Вывод**: из графика видно, что площадь кухни коррелируют с ценой за квартиру не так сильно, как предыдущие показатели. Однако прослеживается закономерность, что чаще цена квартиры выше при большей площади кухни. "
   ]
  },
  {
   "cell_type": "code",
   "execution_count": 59,
   "id": "2d1aa591-fc48-4d97-baa3-0ae9e3a61517",
   "metadata": {},
   "outputs": [
    {
     "data": {
      "text/plain": [
       "<AxesSubplot:title={'center':'Зависимость цены от количества комнат'}, xlabel='Кол-во комнат', ylabel='Цена'>"
      ]
     },
     "execution_count": 59,
     "metadata": {},
     "output_type": "execute_result"
    },
    {
     "data": {
      "image/png": "[encoded data removed]",
      "text/plain": [
       "<Figure size 360x360 with 1 Axes>"
      ]
     },
     "metadata": {
      "needs_background": "light"
     },
     "output_type": "display_data"
    }
   ],
   "source": [
    "df.pivot_table(index='rooms', values='last_price').plot(title='Зависимость цены от количества комнат', ylabel='Цена', xstyllabel='Кол-во комнат', e='o-', grid=True, figsize=(5,5))"
   ]
  },
  {
   "cell_type": "markdown",
   "id": "0d5760e8-ea6e-48be-9290-270fca7ae986",
   "metadata": {},
   "source": [
    "**Вывод**: зависимость между ценой и количеством комнат есть - чем больше в квартире комнат, тем выше она ценится."
   ]
  },
  {
   "cell_type": "code",
   "execution_count": 60,
   "id": "cbd78991-c54f-4c7f-b51f-ac4735fbbfd2",
   "metadata": {},
   "outputs": [
    {
     "data": {
      "text/plain": [
       "<AxesSubplot:title={'center':'Зависимость цены от этажа'}, xlabel='Этаж', ylabel='Цена'>"
      ]
     },
     "execution_count": 60,
     "metadata": {},
     "output_type": "execute_result"
    },
    {
     "data": {
      "image/png": "[encoded data removed]",
      "text/plain": [
       "<Figure size 360x360 with 1 Axes>"
      ]
     },
     "metadata": {
      "needs_background": "light"
     },
     "output_type": "display_data"
    }
   ],
   "source": [
    "df.pivot_table(index='type_floor', values='last_price').plot(title='Зависимость цены от этажа', ylabel='Цена', xlabel='Этаж', style='o-', grid=True, figsize=(5,5))"
   ]
  },
  {
   "cell_type": "markdown",
   "id": "7b39be2a-a815-4a3f-a2f7-8556d22870cd",
   "metadata": {},
   "source": [
    "**Вывод**: прямой зависимости между ценой и типом этажа не наблюдается. Понятно лишь то, что квартиры не на первом и не на последнем этажах ценятся выше."
   ]
  },
  {
   "cell_type": "code",
   "execution_count": 61,
   "id": "10458168-62bd-4e4f-90d6-92771b4fc200",
   "metadata": {},
   "outputs": [
    {
     "data": {
      "text/plain": [
       "<AxesSubplot:title={'center':'Зависимость цены от дня публикации'}, xlabel='День', ylabel='Цена в млн'>"
      ]
     },
     "execution_count": 61,
     "metadata": {},
     "output_type": "execute_result"
    },
    {
     "data": {
      "image/png": "[encoded data removed]",
      "text/plain": [
       "<Figure size 360x360 with 1 Axes>"
      ]
     },
     "metadata": {
      "needs_background": "light"
     },
     "output_type": "display_data"
    }
   ],
   "source": [
    "df.pivot_table(index='day_of_publication', values='last_price').plot(title='Зависимость цены от дня публикации', ylabel='Цена в млн', xlabel='День', style='o-', grid=True, figsize=(5,5))"
   ]
  },
  {
   "cell_type": "markdown",
   "id": "24752b3a-e287-4576-becf-dc2c4230154f",
   "metadata": {},
   "source": [
    "**Вывод**: судя по графику, зависимости между ценой и днем публикации нет, так как никакой общей закономерности не наблюдается."
   ]
  },
  {
   "cell_type": "code",
   "execution_count": 62,
   "id": "81a4114c-ac48-48f7-a5ba-ff289a17e5c2",
   "metadata": {},
   "outputs": [
    {
     "data": {
      "text/plain": [
       "<AxesSubplot:title={'center':'Зависимость цены от месяца публикации'}, xlabel='Месяц', ylabel='Цена в млн'>"
      ]
     },
     "execution_count": 62,
     "metadata": {},
     "output_type": "execute_result"
    },
    {
     "data": {
      "image/png": "[encoded data removed]",
      "text/plain": [
       "<Figure size 360x360 with 1 Axes>"
      ]
     },
     "metadata": {
      "needs_background": "light"
     },
     "output_type": "display_data"
    }
   ],
   "source": [
    "df.pivot_table(index='month_of_publication', values='last_price').plot(title='Зависимость цены от месяца публикации', ylabel='Цена в млн', xlabel='Месяц', style='o-', grid=True, figsize=(5,5))"
   ]
  },
  {
   "cell_type": "markdown",
   "id": "a1d1a01c-790d-4037-88b4-85506c9a778b",
   "metadata": {},
   "source": [
    "**Вывод**: опять же можно заметить, что прямой зависимости между ценой и месяцем публикации нет, так как никакой общей закономерности не наблюдается."
   ]
  },
  {
   "cell_type": "code",
   "execution_count": 63,
   "id": "b5da6eda-d783-4304-a19d-2d8768271c1c",
   "metadata": {},
   "outputs": [
    {
     "data": {
      "text/plain": [
       "<AxesSubplot:title={'center':'Зависимость цены от года публикации'}, xlabel='Год', ylabel='Цена в млн'>"
      ]
     },
     "execution_count": 63,
     "metadata": {},
     "output_type": "execute_result"
    },
    {
     "data": {
      "image/png": "[encoded data removed]",
      "text/plain": [
       "<Figure size 360x360 with 1 Axes>"
      ]
     },
     "metadata": {
      "needs_background": "light"
     },
     "output_type": "display_data"
    }
   ],
   "source": [
    "df.pivot_table(index='year_of_publication', values='last_price').plot(title='Зависимость цены от года публикации', ylabel='Цена в млн', xlabel='Год', style='o-', grid=True, figsize=(5,5))"
   ]
  },
  {
   "cell_type": "code",
   "execution_count": 64,
   "id": "791e77eb",
   "metadata": {},
   "outputs": [
    {
     "data": {
      "text/plain": [
       "<AxesSubplot:title={'center':'Зависимость цены от года публикации'}, xlabel='Год', ylabel='Общая площадь'>"
      ]
     },
     "execution_count": 64,
     "metadata": {},
     "output_type": "execute_result"
    },
    {
     "data": {
      "image/png": "[encoded data removed]",
      "text/plain": [
       "<Figure size 360x360 with 1 Axes>"
      ]
     },
     "metadata": {
      "needs_background": "light"
     },
     "output_type": "display_data"
    }
   ],
   "source": [
    "df.pivot_table(index='year_of_publication', values='total_area').plot(title='Зависимость цены от года публикации', ylabel='Общая площадь', xlabel='Год', style='o-', grid=True, figsize=(5,5))"
   ]
  },
  {
   "cell_type": "markdown",
   "id": "167b0897-b73a-4a2c-adc5-7a938b6df2b5",
   "metadata": {},
   "source": [
    "**Вывод**: по этому графикам нельзя отследить прямую зависимость между ценой и годом публикации, но можно заметить, что в 2016-2018 годах наблюдаются самые низкие показатели. На первый взгляд, можно подумать, что цена за квартиры понизилась, но из второго графика видно, что в эти годы просто чаще продавались квартиры с меньшей площадью, отсюда и цена ниже."
   ]
  },
  {
   "cell_type": "code",
   "execution_count": 65,
   "id": "afdd0700",
   "metadata": {},
   "outputs": [
    {
     "data": {
      "text/plain": [
       "last_price                1.000000\n",
       "total_area                0.742184\n",
       "living_area               0.639657\n",
       "price_per_square_meter    0.608519\n",
       "kitchen_area              0.556615\n",
       "Name: last_price, dtype: float64"
      ]
     },
     "execution_count": 65,
     "metadata": {},
     "output_type": "execute_result"
    }
   ],
   "source": [
    "df.corr().sort_values(by='last_price', ascending=False)['last_price'].head() #построили матрицу корреляции для всего столбца с ценой"
   ]
  },
  {
   "cell_type": "markdown",
   "id": "59cdaf92",
   "metadata": {},
   "source": [
    "**Вывод**: из полученных данных, можно сделать вывод, что стоимость линейно зависит от общей и жилой площади (сильнее всего), от цены за квадратный метр и от площади кухни (слабая зависимость)."
   ]
  },
  {
   "cell_type": "markdown",
   "id": "17145920-db8f-4a47-b054-0a284c614657",
   "metadata": {},
   "source": [
    "#### 4. Посчитаем среднюю цену одного квадратного метра в 10 населённых пунктах с наибольшим числом объявлений."
   ]
  },
  {
   "cell_type": "code",
   "execution_count": 66,
   "id": "1a69ecd2",
   "metadata": {},
   "outputs": [
    {
     "name": "stdout",
     "output_type": "stream",
     "text": [
      "<class 'pandas.core.frame.DataFrame'>\n",
      "Int64Index: 21878 entries, 0 to 23698\n",
      "Data columns (total 28 columns):\n",
      " #   Column                   Non-Null Count  Dtype         \n",
      "---  ------                   --------------  -----         \n",
      " 0   total_images             21878 non-null  int64         \n",
      " 1   last_price               21878 non-null  int64         \n",
      " 2   total_area               21878 non-null  float64       \n",
      " 3   first_day_exposition     21878 non-null  datetime64[ns]\n",
      " 4   rooms                    21878 non-null  int64         \n",
      " 5   ceiling_height           21878 non-null  float64       \n",
      " 6   floors_total             21878 non-null  int64         \n",
      " 7   living_area              20215 non-null  float64       \n",
      " 8   floor                    21878 non-null  int64         \n",
      " 9   is_apartment             21878 non-null  bool          \n",
      " 10  studio                   21878 non-null  bool          \n",
      " 11  open_plan                21878 non-null  bool          \n",
      " 12  kitchen_area             21878 non-null  float64       \n",
      " 13  balcony                  21878 non-null  int64         \n",
      " 14  locality_name            21878 non-null  object        \n",
      " 15  airports_nearest         16655 non-null  float64       \n",
      " 16  city_centers_nearest     16670 non-null  float64       \n",
      " 17  parks_around3000         16671 non-null  float64       \n",
      " 18  parks_nearest            7097 non-null   float64       \n",
      " 19  ponds_around3000         16671 non-null  float64       \n",
      " 20  ponds_nearest            8069 non-null   float64       \n",
      " 21  days_exposition          19159 non-null  float64       \n",
      " 22  price_per_square_meter   21878 non-null  float64       \n",
      " 23  day_of_publication       21878 non-null  int64         \n",
      " 24  month_of_publication     21878 non-null  int64         \n",
      " 25  year_of_publication      21878 non-null  int64         \n",
      " 26  type_floor               21878 non-null  object        \n",
      " 27  city_centers_nearest_km  16670 non-null  float64       \n",
      "dtypes: bool(3), datetime64[ns](1), float64(13), int64(9), object(2)\n",
      "memory usage: 4.4+ MB\n"
     ]
    }
   ],
   "source": [
    "df.info()"
   ]
  },
  {
   "cell_type": "code",
   "execution_count": 67,
   "id": "1e8fec1f",
   "metadata": {},
   "outputs": [
    {
     "data": {
      "text/html": [
       "<div>\n",
       "<style scoped>\n",
       "    .dataframe tbody tr th:only-of-type {\n",
       "        vertical-align: middle;\n",
       "    }\n",
       "\n",
       "    .dataframe tbody tr th {\n",
       "        vertical-align: top;\n",
       "    }\n",
       "\n",
       "    .dataframe thead th {\n",
       "        text-align: right;\n",
       "    }\n",
       "</style>\n",
       "<table border=\"1\" class=\"dataframe\">\n",
       "  <thead>\n",
       "    <tr style=\"text-align: right;\">\n",
       "      <th></th>\n",
       "      <th>count</th>\n",
       "      <th>mean</th>\n",
       "    </tr>\n",
       "    <tr>\n",
       "      <th>locality_name</th>\n",
       "      <th></th>\n",
       "      <th></th>\n",
       "    </tr>\n",
       "  </thead>\n",
       "  <tbody>\n",
       "    <tr>\n",
       "      <th>санкт-петербург</th>\n",
       "      <td>14299</td>\n",
       "      <td>106970.18</td>\n",
       "    </tr>\n",
       "    <tr>\n",
       "      <th>мурино</th>\n",
       "      <td>549</td>\n",
       "      <td>85554.40</td>\n",
       "    </tr>\n",
       "    <tr>\n",
       "      <th>шушары</th>\n",
       "      <td>436</td>\n",
       "      <td>78606.07</td>\n",
       "    </tr>\n",
       "    <tr>\n",
       "      <th>всеволожск</th>\n",
       "      <td>393</td>\n",
       "      <td>67154.04</td>\n",
       "    </tr>\n",
       "    <tr>\n",
       "      <th>пушкин</th>\n",
       "      <td>343</td>\n",
       "      <td>100793.63</td>\n",
       "    </tr>\n",
       "    <tr>\n",
       "      <th>колпино</th>\n",
       "      <td>337</td>\n",
       "      <td>75333.30</td>\n",
       "    </tr>\n",
       "    <tr>\n",
       "      <th>парголово</th>\n",
       "      <td>326</td>\n",
       "      <td>90332.26</td>\n",
       "    </tr>\n",
       "    <tr>\n",
       "      <th>гатчина</th>\n",
       "      <td>305</td>\n",
       "      <td>68865.90</td>\n",
       "    </tr>\n",
       "    <tr>\n",
       "      <th>кудрово</th>\n",
       "      <td>298</td>\n",
       "      <td>92542.25</td>\n",
       "    </tr>\n",
       "    <tr>\n",
       "      <th>выборг</th>\n",
       "      <td>230</td>\n",
       "      <td>58350.99</td>\n",
       "    </tr>\n",
       "  </tbody>\n",
       "</table>\n",
       "</div>"
      ],
      "text/plain": [
       "                 count       mean\n",
       "locality_name                    \n",
       "санкт-петербург  14299  106970.18\n",
       " мурино            549   85554.40\n",
       " шушары            436   78606.07\n",
       "всеволожск         393   67154.04\n",
       "пушкин             343  100793.63\n",
       "колпино            337   75333.30\n",
       " парголово         326   90332.26\n",
       "гатчина            305   68865.90\n",
       " кудрово           298   92542.25\n",
       "выборг             230   58350.99"
      ]
     },
     "execution_count": 67,
     "metadata": {},
     "output_type": "execute_result"
    }
   ],
   "source": [
    "mean_price = df.pivot_table(index='locality_name', values='price_per_square_meter', aggfunc=['count', 'mean'])\n",
    "mean_price.columns = ['count', 'mean']\n",
    "mean_price.sort_values(by='count', ascending=False).round(2).head(10)"
   ]
  },
  {
   "cell_type": "code",
   "execution_count": 68,
   "id": "90790fdc-5e85-4224-a975-11bb84ab2077",
   "metadata": {},
   "outputs": [
    {
     "name": "stdout",
     "output_type": "stream",
     "text": [
      "                 count       mean\n",
      "locality_name                    \n",
      "санкт-петербург  14299  106970.18\n",
      "зеленогорск         21  100897.25\n",
      "пушкин             343  100793.63\n",
      " лисий нос           3  100660.81\n",
      "сестрорецк         172  100608.64\n",
      "               count      mean\n",
      "locality_name                 \n",
      " житково           1  15648.29\n",
      "  никольский       3  19577.33\n",
      "бокситогорск       2  19600.14\n",
      " оредеж            1  19877.68\n",
      "  вещево           1  20366.97\n"
     ]
    }
   ],
   "source": [
    "print(mean_price.sort_values(by='mean', ascending=False).round(2).head())\n",
    "print(mean_price.sort_values(by='mean').round(2).head())"
   ]
  },
  {
   "cell_type": "markdown",
   "id": "ae105470-a171-4926-b329-60a2cb2524dc",
   "metadata": {},
   "source": [
    "**Вывод**: наибольшее число объявлений в Санкт-Петербурге, после него идут Мурино и Шушары, а завершает десятку лидеров Выборг с показателем в 230 объявлений. Также я распечатала по пятерке населенных пунктов - с самыми дорогими (лидер-Питер) и самыми дешевыми (лидер-Житково) ценами за квадратный метр."
   ]
  },
  {
   "cell_type": "code",
   "execution_count": 69,
   "id": "3b51be5b",
   "metadata": {},
   "outputs": [
    {
     "data": {
      "text/plain": [
       "total_images                        int64\n",
       "last_price                          int64\n",
       "total_area                        float64\n",
       "first_day_exposition       datetime64[ns]\n",
       "rooms                               int64\n",
       "ceiling_height                    float64\n",
       "floors_total                        int64\n",
       "living_area                       float64\n",
       "floor                               int64\n",
       "is_apartment                         bool\n",
       "studio                               bool\n",
       "open_plan                            bool\n",
       "kitchen_area                      float64\n",
       "balcony                             int64\n",
       "locality_name                      object\n",
       "airports_nearest                  float64\n",
       "city_centers_nearest              float64\n",
       "parks_around3000                  float64\n",
       "parks_nearest                     float64\n",
       "ponds_around3000                  float64\n",
       "ponds_nearest                     float64\n",
       "days_exposition                   float64\n",
       "price_per_square_meter            float64\n",
       "day_of_publication                  int64\n",
       "month_of_publication                int64\n",
       "year_of_publication                 int64\n",
       "type_floor                         object\n",
       "city_centers_nearest_km           float64\n",
       "dtype: object"
      ]
     },
     "execution_count": 69,
     "metadata": {},
     "output_type": "execute_result"
    }
   ],
   "source": [
    "df.dtypes"
   ]
  },
  {
   "cell_type": "code",
   "execution_count": 70,
   "id": "4f451a05-a76d-4c9a-a260-0cf67b0347ea",
   "metadata": {},
   "outputs": [
    {
     "data": {
      "text/plain": [
       "<AxesSubplot:title={'center':'Зависимость цены от удаленности от центра'}, xlabel='Удаленность в км', ylabel='Цена в млн'>"
      ]
     },
     "execution_count": 70,
     "metadata": {},
     "output_type": "execute_result"
    },
    {
     "data": {
      "image/png": "[encoded data removed]",
      "text/plain": [
       "<Figure size 1080x360 with 1 Axes>"
      ]
     },
     "metadata": {
      "needs_background": "light"
     },
     "output_type": "display_data"
    }
   ],
   "source": [
    "(\n",
    "    df.query('locality_name == \"санкт-петербург\"')\n",
    "    .pivot_table(index='city_centers_nearest_km', values='last_price')\n",
    "    .plot(title='Зависимость цены от удаленности от центра', ylabel='Цена в млн', xlabel='Удаленность в км', style='o-', grid=True, figsize=(15, 5))\n",
    ")"
   ]
  },
  {
   "cell_type": "markdown",
   "id": "ca0b8f6e-0a7e-4e45-b716-5a5e11efe55c",
   "metadata": {},
   "source": [
    "#### 5. Теперь вычислим среднюю стоимость квартир в Санкт-Петербурге на разном удалении от центра."
   ]
  },
  {
   "cell_type": "code",
   "execution_count": 71,
   "id": "274214e2-b0f6-4471-8726-0a6d815e1842",
   "metadata": {},
   "outputs": [
    {
     "data": {
      "text/html": [
       "<div>\n",
       "<style scoped>\n",
       "    .dataframe tbody tr th:only-of-type {\n",
       "        vertical-align: middle;\n",
       "    }\n",
       "\n",
       "    .dataframe tbody tr th {\n",
       "        vertical-align: top;\n",
       "    }\n",
       "\n",
       "    .dataframe thead th {\n",
       "        text-align: right;\n",
       "    }\n",
       "</style>\n",
       "<table border=\"1\" class=\"dataframe\">\n",
       "  <thead>\n",
       "    <tr style=\"text-align: right;\">\n",
       "      <th></th>\n",
       "      <th>last_price</th>\n",
       "    </tr>\n",
       "    <tr>\n",
       "      <th>city_centers_nearest_km</th>\n",
       "      <th></th>\n",
       "    </tr>\n",
       "  </thead>\n",
       "  <tbody>\n",
       "    <tr>\n",
       "      <th>0.0</th>\n",
       "      <td>9.606154e+06</td>\n",
       "    </tr>\n",
       "    <tr>\n",
       "      <th>1.0</th>\n",
       "      <td>9.263000e+06</td>\n",
       "    </tr>\n",
       "    <tr>\n",
       "      <th>2.0</th>\n",
       "      <td>9.000722e+06</td>\n",
       "    </tr>\n",
       "    <tr>\n",
       "      <th>3.0</th>\n",
       "      <td>8.212143e+06</td>\n",
       "    </tr>\n",
       "    <tr>\n",
       "      <th>4.0</th>\n",
       "      <td>8.489422e+06</td>\n",
       "    </tr>\n",
       "    <tr>\n",
       "      <th>5.0</th>\n",
       "      <td>8.463717e+06</td>\n",
       "    </tr>\n",
       "    <tr>\n",
       "      <th>6.0</th>\n",
       "      <td>7.823787e+06</td>\n",
       "    </tr>\n",
       "    <tr>\n",
       "      <th>7.0</th>\n",
       "      <td>7.116608e+06</td>\n",
       "    </tr>\n",
       "    <tr>\n",
       "      <th>8.0</th>\n",
       "      <td>7.086418e+06</td>\n",
       "    </tr>\n",
       "    <tr>\n",
       "      <th>9.0</th>\n",
       "      <td>5.992286e+06</td>\n",
       "    </tr>\n",
       "    <tr>\n",
       "      <th>10.0</th>\n",
       "      <td>5.766188e+06</td>\n",
       "    </tr>\n",
       "    <tr>\n",
       "      <th>11.0</th>\n",
       "      <td>5.597719e+06</td>\n",
       "    </tr>\n",
       "    <tr>\n",
       "      <th>12.0</th>\n",
       "      <td>5.499518e+06</td>\n",
       "    </tr>\n",
       "    <tr>\n",
       "      <th>13.0</th>\n",
       "      <td>5.788741e+06</td>\n",
       "    </tr>\n",
       "    <tr>\n",
       "      <th>14.0</th>\n",
       "      <td>5.449388e+06</td>\n",
       "    </tr>\n",
       "    <tr>\n",
       "      <th>15.0</th>\n",
       "      <td>5.458499e+06</td>\n",
       "    </tr>\n",
       "  </tbody>\n",
       "</table>\n",
       "</div>"
      ],
      "text/plain": [
       "                           last_price\n",
       "city_centers_nearest_km              \n",
       "0.0                      9.606154e+06\n",
       "1.0                      9.263000e+06\n",
       "2.0                      9.000722e+06\n",
       "3.0                      8.212143e+06\n",
       "4.0                      8.489422e+06\n",
       "5.0                      8.463717e+06\n",
       "6.0                      7.823787e+06\n",
       "7.0                      7.116608e+06\n",
       "8.0                      7.086418e+06\n",
       "9.0                      5.992286e+06\n",
       "10.0                     5.766188e+06\n",
       "11.0                     5.597719e+06\n",
       "12.0                     5.499518e+06\n",
       "13.0                     5.788741e+06\n",
       "14.0                     5.449388e+06\n",
       "15.0                     5.458499e+06"
      ]
     },
     "execution_count": 71,
     "metadata": {},
     "output_type": "execute_result"
    }
   ],
   "source": [
    "df.query('locality_name == \"санкт-петербург\" and city_centers_nearest_km <= 15').pivot_table(index='city_centers_nearest_km', values='last_price')"
   ]
  },
  {
   "cell_type": "markdown",
   "id": "4917527c-9670-41a9-95f2-22355cd67266",
   "metadata": {},
   "source": [
    "**Вывод**: из графика и таблицы можно сделать вывод, что чем ближе квартира находится к центру, тем она дороже стоит. Средняя цена квартир в в центре составляет 9606154 миллиона рублей, когда в 10 километрах цена уже 5766188 миллиона рублей. То есть, разница в 10 км может изменить цену больше, чем в 1.5 раза."
   ]
  },
  {
   "cell_type": "markdown",
   "id": "98e5ceb4-fcdc-4ec4-ab2e-4b488fde2e91",
   "metadata": {},
   "source": [
    "### Общие выводы по проекту"
   ]
  },
  {
   "cell_type": "markdown",
   "id": "8200d035-39f0-463d-8c31-ed1fc6d4218a",
   "metadata": {},
   "source": [
    "В процессе иследовательского анализа данных были выполнены следующие этапы, а также сделаны выводы по ним:\n",
    "\n",
    "1. Изучили общую информацию о данных\n",
    " - в данных 23699 строки, в некоторых столбцах имеются пропущенные значения, а также не всегда правильно определен тип данных\n",
    " - судя по гистограммам, встречаются аномальные значения, но в целом данные готовы для дальнейшего исследования\n",
    "2. Выполнили предобработку данных\n",
    " - исправили название столбцов, чтобы был стиль змеиного регистра\n",
    " - поменяли в некоторых стобцах тип данных на более подходящий\n",
    " - округлили значения\n",
    " - избавились от пропущенных значений, где это предоставлялось возможным - логически пришли к выводу, на что менять пропуск (неизвестное значение/ноль/медианное значение и т.д.)\n",
    " - избавились от аномалий в стобце ceiling_hight\n",
    "3. Добавили новые стобцы в таблицу\n",
    " - price_per_square_meter - цена одного квадратного метра\n",
    " - day_of_publication - день недели публикации объявления (0 — понедельник, 1 — вторник и так далее)\n",
    " - month_of_publication - месяц публикации объявленя \n",
    " - year_of_publication - год публикации объявления\n",
    " - type_floor - тип этажа квартиры (значения — «первый», «последний», «другой»)\n",
    " - city_centers_nearest_km - расстояние до центра города в километрах\n",
    "4. Провели исследовательский анализ данных\n",
    " * Изучены некоторые параметры объектов\n",
    "  - Чаще всего встречаются предложения квартир с общей площадью 45 квадратных метров с кухней в 6 квадратных метров, с одной или двумя комнатами, с высотой потолков 2.65м, не на первом и не на последнем этажах в 5- или 9-этажном доме в 5-15 км от центра города.\n",
    " * Изучили, как быстро продавались квартиры\n",
    "   -  среднее время продажи квартиры составляет 176 дней, а медианное - 93 дня. Для анализа лучше ориентироваться на медианное значение, т.к. оно устойчиво к различным выбросам.\n",
    "   -  большинство квартир было продано спустя примерно 50 дней после публикации объявления - значения до этого можно считать быстрыми продажами. Куда реже встречаются квартиры, которые продаются дольше 200 дней - это можно считать долгими продажами. В среднем квартиры продаются от 50 до 150 дней.\n",
    " * Определили факторы, которые больше всего влияют на общую (полную) стоимость объекта\n",
    "   - между общей площадью и ценой за квартиру есть сильная линейная зависимость - чем больше площадь, тем выше цена.\n",
    "   - между жилой площадью и ценой за квартиру есть некоторая линейная зависимость - чем больше площадь, тем выше цена. Однако, зависимость не настолько сильная, как с общей площадью и есть выбивающиеся значения.\n",
    "   - площадь кухни коррелируют с ценой за квартиру не так сильно, как предыдущие показатели. Однако прослеживается закономерность, что чаще цена квартиры выше при большей площади кухни.\n",
    "   - а также заметно, что чем больше комнат, тем выше ценится квартира.\n",
    " * Посчитали среднюю цену одного квадратного метра в 10 населённых пунктах с наибольшим числом объявлений\n",
    "   - наибольшее число объявлений в Санкт-Петербурге, после него идут Мурино и Шушары, а завершает десятку лидеров Выборг с показателем в 230 объявлений. Также были определены по пятерке населенных пунктов - с самыми дорогими (лидер-Питер) и самыми дешевыми (лидер-Житково) ценами за квадратный метр.\n",
    " * Вычислили среднюю стоимость квартир в Санкт-Петербурге на разном удалении от центра\n",
    "   - чем ближе квартира находится к центру, тем дороже она стоит. Средняя цена квартир в центре составляет 9606154 миллиона рублей, когда в 10 километрах цена уже 5766188 миллиона рублей. То есть, разница в 10 км может изменить цену больше, чем в 1.5 раза."
   ]
  }
 ],
 "metadata": {
  "ExecuteTimeLog": [
   {
    "duration": 452,
    "start_time": "2024-09-23T18:07:20.870Z"
   },
   {
    "duration": 0,
    "start_time": "2024-09-23T18:07:21.326Z"
   },
   {
    "duration": 0,
    "start_time": "2024-09-23T18:07:21.326Z"
   },
   {
    "duration": 0,
    "start_time": "2024-09-23T18:07:21.327Z"
   },
   {
    "duration": 0,
    "start_time": "2024-09-23T18:07:21.328Z"
   },
   {
    "duration": 0,
    "start_time": "2024-09-23T18:07:21.328Z"
   },
   {
    "duration": 0,
    "start_time": "2024-09-23T18:07:21.329Z"
   },
   {
    "duration": 0,
    "start_time": "2024-09-23T18:07:21.330Z"
   },
   {
    "duration": 0,
    "start_time": "2024-09-23T18:07:21.331Z"
   },
   {
    "duration": 0,
    "start_time": "2024-09-23T18:07:21.332Z"
   },
   {
    "duration": 0,
    "start_time": "2024-09-23T18:07:21.333Z"
   },
   {
    "duration": 0,
    "start_time": "2024-09-23T18:07:21.334Z"
   },
   {
    "duration": 0,
    "start_time": "2024-09-23T18:07:21.334Z"
   },
   {
    "duration": 0,
    "start_time": "2024-09-23T18:07:21.335Z"
   },
   {
    "duration": 0,
    "start_time": "2024-09-23T18:07:21.336Z"
   },
   {
    "duration": 0,
    "start_time": "2024-09-23T18:07:21.337Z"
   },
   {
    "duration": 0,
    "start_time": "2024-09-23T18:07:21.338Z"
   },
   {
    "duration": 0,
    "start_time": "2024-09-23T18:07:21.339Z"
   },
   {
    "duration": 0,
    "start_time": "2024-09-23T18:07:21.340Z"
   },
   {
    "duration": 0,
    "start_time": "2024-09-23T18:07:21.340Z"
   },
   {
    "duration": 0,
    "start_time": "2024-09-23T18:07:21.341Z"
   },
   {
    "duration": 0,
    "start_time": "2024-09-23T18:07:21.342Z"
   },
   {
    "duration": 0,
    "start_time": "2024-09-23T18:07:21.343Z"
   },
   {
    "duration": 0,
    "start_time": "2024-09-23T18:07:21.344Z"
   },
   {
    "duration": 0,
    "start_time": "2024-09-23T18:07:21.345Z"
   },
   {
    "duration": 0,
    "start_time": "2024-09-23T18:07:21.345Z"
   },
   {
    "duration": 0,
    "start_time": "2024-09-23T18:07:21.346Z"
   },
   {
    "duration": 0,
    "start_time": "2024-09-23T18:07:21.347Z"
   },
   {
    "duration": 0,
    "start_time": "2024-09-23T18:07:21.348Z"
   },
   {
    "duration": 0,
    "start_time": "2024-09-23T18:07:21.349Z"
   },
   {
    "duration": 0,
    "start_time": "2024-09-23T18:07:21.349Z"
   },
   {
    "duration": 1,
    "start_time": "2024-09-23T18:07:21.350Z"
   },
   {
    "duration": 0,
    "start_time": "2024-09-23T18:07:21.351Z"
   },
   {
    "duration": 0,
    "start_time": "2024-09-23T18:07:21.352Z"
   },
   {
    "duration": 0,
    "start_time": "2024-09-23T18:07:21.353Z"
   },
   {
    "duration": 0,
    "start_time": "2024-09-23T18:07:21.354Z"
   },
   {
    "duration": 0,
    "start_time": "2024-09-23T18:07:21.355Z"
   },
   {
    "duration": 0,
    "start_time": "2024-09-23T18:07:21.356Z"
   },
   {
    "duration": 0,
    "start_time": "2024-09-23T18:07:21.356Z"
   },
   {
    "duration": 0,
    "start_time": "2024-09-23T18:07:21.357Z"
   },
   {
    "duration": 0,
    "start_time": "2024-09-23T18:07:21.358Z"
   },
   {
    "duration": 0,
    "start_time": "2024-09-23T18:07:21.409Z"
   },
   {
    "duration": 0,
    "start_time": "2024-09-23T18:07:21.409Z"
   },
   {
    "duration": 0,
    "start_time": "2024-09-23T18:07:21.410Z"
   },
   {
    "duration": 0,
    "start_time": "2024-09-23T18:07:21.410Z"
   },
   {
    "duration": 0,
    "start_time": "2024-09-23T18:07:21.410Z"
   },
   {
    "duration": 0,
    "start_time": "2024-09-23T18:07:21.411Z"
   },
   {
    "duration": 0,
    "start_time": "2024-09-23T18:07:21.411Z"
   },
   {
    "duration": 0,
    "start_time": "2024-09-23T18:07:21.412Z"
   },
   {
    "duration": 0,
    "start_time": "2024-09-23T18:07:21.420Z"
   },
   {
    "duration": 0,
    "start_time": "2024-09-23T18:07:21.421Z"
   },
   {
    "duration": 0,
    "start_time": "2024-09-23T18:07:21.422Z"
   },
   {
    "duration": 0,
    "start_time": "2024-09-23T18:07:21.423Z"
   },
   {
    "duration": 0,
    "start_time": "2024-09-23T18:07:21.425Z"
   },
   {
    "duration": 0,
    "start_time": "2024-09-23T18:07:21.426Z"
   },
   {
    "duration": 0,
    "start_time": "2024-09-23T18:07:21.427Z"
   },
   {
    "duration": 0,
    "start_time": "2024-09-23T18:07:21.428Z"
   },
   {
    "duration": 0,
    "start_time": "2024-09-23T18:07:21.429Z"
   },
   {
    "duration": 0,
    "start_time": "2024-09-23T18:07:21.430Z"
   },
   {
    "duration": 0,
    "start_time": "2024-09-23T18:07:21.431Z"
   },
   {
    "duration": 0,
    "start_time": "2024-09-23T18:07:21.433Z"
   },
   {
    "duration": 0,
    "start_time": "2024-09-23T18:07:21.435Z"
   },
   {
    "duration": 0,
    "start_time": "2024-09-23T18:07:21.436Z"
   },
   {
    "duration": 0,
    "start_time": "2024-09-23T18:07:21.437Z"
   },
   {
    "duration": 0,
    "start_time": "2024-09-23T18:07:21.438Z"
   },
   {
    "duration": 602,
    "start_time": "2024-09-24T15:03:18.200Z"
   },
   {
    "duration": 221,
    "start_time": "2024-09-24T15:03:38.686Z"
   },
   {
    "duration": 62,
    "start_time": "2024-09-24T15:04:46.122Z"
   },
   {
    "duration": 80,
    "start_time": "2024-09-24T15:06:28.846Z"
   },
   {
    "duration": 792,
    "start_time": "2024-09-24T18:48:20.379Z"
   },
   {
    "duration": 20,
    "start_time": "2024-09-24T18:48:21.173Z"
   },
   {
    "duration": 2327,
    "start_time": "2024-09-24T18:48:21.195Z"
   },
   {
    "duration": 9,
    "start_time": "2024-09-24T18:48:23.524Z"
   },
   {
    "duration": 14,
    "start_time": "2024-09-24T18:48:23.535Z"
   },
   {
    "duration": 18,
    "start_time": "2024-09-24T18:48:23.551Z"
   },
   {
    "duration": 48,
    "start_time": "2024-09-24T18:48:23.570Z"
   },
   {
    "duration": 12,
    "start_time": "2024-09-24T18:48:23.620Z"
   },
   {
    "duration": 5,
    "start_time": "2024-09-24T18:48:23.633Z"
   },
   {
    "duration": 7,
    "start_time": "2024-09-24T18:48:23.641Z"
   },
   {
    "duration": 6,
    "start_time": "2024-09-24T18:48:23.649Z"
   },
   {
    "duration": 17,
    "start_time": "2024-09-24T18:48:23.656Z"
   },
   {
    "duration": 10,
    "start_time": "2024-09-24T18:48:23.676Z"
   },
   {
    "duration": 5,
    "start_time": "2024-09-24T18:48:23.688Z"
   },
   {
    "duration": 450,
    "start_time": "2024-09-24T18:48:23.694Z"
   },
   {
    "duration": 5,
    "start_time": "2024-09-24T18:48:24.146Z"
   },
   {
    "duration": 15,
    "start_time": "2024-09-24T18:48:24.153Z"
   },
   {
    "duration": 5,
    "start_time": "2024-09-24T18:48:24.170Z"
   },
   {
    "duration": 17,
    "start_time": "2024-09-24T18:48:24.176Z"
   },
   {
    "duration": 15,
    "start_time": "2024-09-24T18:48:24.195Z"
   },
   {
    "duration": 7,
    "start_time": "2024-09-24T18:48:24.212Z"
   },
   {
    "duration": 8,
    "start_time": "2024-09-24T18:48:24.221Z"
   },
   {
    "duration": 37,
    "start_time": "2024-09-24T18:48:24.231Z"
   },
   {
    "duration": 7,
    "start_time": "2024-09-24T18:48:24.270Z"
   },
   {
    "duration": 52,
    "start_time": "2024-09-24T18:48:24.279Z"
   },
   {
    "duration": 401,
    "start_time": "2024-09-24T18:48:24.333Z"
   },
   {
    "duration": 4,
    "start_time": "2024-09-24T18:48:24.736Z"
   },
   {
    "duration": 22,
    "start_time": "2024-09-24T18:48:24.743Z"
   },
   {
    "duration": 246,
    "start_time": "2024-09-24T18:48:24.766Z"
   },
   {
    "duration": 14,
    "start_time": "2024-09-24T18:48:25.013Z"
   },
   {
    "duration": 12,
    "start_time": "2024-09-24T18:48:25.029Z"
   },
   {
    "duration": 344,
    "start_time": "2024-09-24T18:48:25.043Z"
   },
   {
    "duration": 12,
    "start_time": "2024-09-24T18:48:25.390Z"
   },
   {
    "duration": 7,
    "start_time": "2024-09-24T18:48:25.404Z"
   },
   {
    "duration": 236,
    "start_time": "2024-09-24T18:48:25.413Z"
   },
   {
    "duration": 14,
    "start_time": "2024-09-24T18:48:25.651Z"
   },
   {
    "duration": 8,
    "start_time": "2024-09-24T18:48:25.667Z"
   },
   {
    "duration": 339,
    "start_time": "2024-09-24T18:48:25.677Z"
   },
   {
    "duration": 10,
    "start_time": "2024-09-24T18:48:26.017Z"
   },
   {
    "duration": 10,
    "start_time": "2024-09-24T18:48:26.029Z"
   },
   {
    "duration": 187,
    "start_time": "2024-09-24T18:48:26.042Z"
   },
   {
    "duration": 10,
    "start_time": "2024-09-24T18:48:26.231Z"
   },
   {
    "duration": 297,
    "start_time": "2024-09-24T18:48:26.242Z"
   },
   {
    "duration": 190,
    "start_time": "2024-09-24T18:48:26.542Z"
   },
   {
    "duration": 9,
    "start_time": "2024-09-24T18:48:26.735Z"
   },
   {
    "duration": 265,
    "start_time": "2024-09-24T18:48:26.745Z"
   },
   {
    "duration": 10,
    "start_time": "2024-09-24T18:48:27.012Z"
   },
   {
    "duration": 11,
    "start_time": "2024-09-24T18:48:27.024Z"
   },
   {
    "duration": 339,
    "start_time": "2024-09-24T18:48:27.037Z"
   },
   {
    "duration": 9,
    "start_time": "2024-09-24T18:48:27.378Z"
   },
   {
    "duration": 431,
    "start_time": "2024-09-24T18:48:27.388Z"
   },
   {
    "duration": 9,
    "start_time": "2024-09-24T18:48:27.822Z"
   },
   {
    "duration": 359,
    "start_time": "2024-09-24T18:48:27.833Z"
   },
   {
    "duration": 182,
    "start_time": "2024-09-24T18:48:28.194Z"
   },
   {
    "duration": 211,
    "start_time": "2024-09-24T18:48:28.380Z"
   },
   {
    "duration": 198,
    "start_time": "2024-09-24T18:48:28.593Z"
   },
   {
    "duration": 160,
    "start_time": "2024-09-24T18:48:28.793Z"
   },
   {
    "duration": 182,
    "start_time": "2024-09-24T18:48:28.954Z"
   },
   {
    "duration": 171,
    "start_time": "2024-09-24T18:48:29.138Z"
   },
   {
    "duration": 171,
    "start_time": "2024-09-24T18:48:29.311Z"
   },
   {
    "duration": 175,
    "start_time": "2024-09-24T18:48:29.485Z"
   },
   {
    "duration": 33,
    "start_time": "2024-09-24T18:48:29.665Z"
   },
   {
    "duration": 10,
    "start_time": "2024-09-24T18:48:29.699Z"
   },
   {
    "duration": 237,
    "start_time": "2024-09-24T18:48:29.711Z"
   },
   {
    "duration": 36,
    "start_time": "2024-09-24T18:48:29.950Z"
   },
   {
    "duration": 44,
    "start_time": "2024-09-25T11:50:24.395Z"
   },
   {
    "duration": 688,
    "start_time": "2024-09-25T11:50:32.809Z"
   },
   {
    "duration": 14,
    "start_time": "2024-09-25T11:50:33.498Z"
   },
   {
    "duration": 2184,
    "start_time": "2024-09-25T11:50:33.513Z"
   },
   {
    "duration": 11,
    "start_time": "2024-09-25T11:50:35.699Z"
   },
   {
    "duration": 41,
    "start_time": "2024-09-25T11:50:35.711Z"
   },
   {
    "duration": 56,
    "start_time": "2024-09-25T11:50:35.754Z"
   },
   {
    "duration": 36,
    "start_time": "2024-09-25T11:50:35.811Z"
   },
   {
    "duration": 16,
    "start_time": "2024-09-25T11:50:35.849Z"
   },
   {
    "duration": 24,
    "start_time": "2024-09-25T11:50:35.866Z"
   },
   {
    "duration": 14,
    "start_time": "2024-09-25T11:50:35.892Z"
   },
   {
    "duration": 57,
    "start_time": "2024-09-25T11:50:35.907Z"
   },
   {
    "duration": 35,
    "start_time": "2024-09-25T11:50:35.966Z"
   },
   {
    "duration": 11,
    "start_time": "2024-09-25T11:50:36.003Z"
   },
   {
    "duration": 31,
    "start_time": "2024-09-25T11:50:36.015Z"
   },
   {
    "duration": 22,
    "start_time": "2024-09-25T11:50:36.048Z"
   },
   {
    "duration": 315,
    "start_time": "2024-09-25T11:50:36.071Z"
   },
   {
    "duration": 4,
    "start_time": "2024-09-25T11:50:36.387Z"
   },
   {
    "duration": 20,
    "start_time": "2024-09-25T11:50:36.392Z"
   },
   {
    "duration": 9,
    "start_time": "2024-09-25T11:50:36.413Z"
   },
   {
    "duration": 18,
    "start_time": "2024-09-25T11:50:36.424Z"
   },
   {
    "duration": 12,
    "start_time": "2024-09-25T11:50:36.443Z"
   },
   {
    "duration": 14,
    "start_time": "2024-09-25T11:50:36.456Z"
   },
   {
    "duration": 21,
    "start_time": "2024-09-25T11:50:36.472Z"
   },
   {
    "duration": 4,
    "start_time": "2024-09-25T11:50:36.494Z"
   },
   {
    "duration": 10,
    "start_time": "2024-09-25T11:50:36.499Z"
   },
   {
    "duration": 4,
    "start_time": "2024-09-25T11:50:36.510Z"
   },
   {
    "duration": 310,
    "start_time": "2024-09-25T11:50:36.516Z"
   },
   {
    "duration": 3,
    "start_time": "2024-09-25T11:50:36.830Z"
   },
   {
    "duration": 11,
    "start_time": "2024-09-25T11:50:36.835Z"
   },
   {
    "duration": 196,
    "start_time": "2024-09-25T11:50:36.847Z"
   },
   {
    "duration": 62,
    "start_time": "2024-09-25T11:50:37.045Z"
   },
   {
    "duration": 8,
    "start_time": "2024-09-25T11:50:37.108Z"
   },
   {
    "duration": 219,
    "start_time": "2024-09-25T11:50:37.117Z"
   },
   {
    "duration": 8,
    "start_time": "2024-09-25T11:50:37.337Z"
   },
   {
    "duration": 10,
    "start_time": "2024-09-25T11:50:37.346Z"
   },
   {
    "duration": 229,
    "start_time": "2024-09-25T11:50:37.357Z"
   },
   {
    "duration": 8,
    "start_time": "2024-09-25T11:50:37.587Z"
   },
   {
    "duration": 120,
    "start_time": "2024-09-25T11:50:37.596Z"
   },
   {
    "duration": 234,
    "start_time": "2024-09-25T11:50:37.717Z"
   },
   {
    "duration": 8,
    "start_time": "2024-09-25T11:50:37.952Z"
   },
   {
    "duration": 38,
    "start_time": "2024-09-25T11:50:37.962Z"
   },
   {
    "duration": 143,
    "start_time": "2024-09-25T11:50:38.001Z"
   },
   {
    "duration": 8,
    "start_time": "2024-09-25T11:50:38.145Z"
   },
   {
    "duration": 219,
    "start_time": "2024-09-25T11:50:38.154Z"
   },
   {
    "duration": 128,
    "start_time": "2024-09-25T11:50:38.375Z"
   },
   {
    "duration": 6,
    "start_time": "2024-09-25T11:50:38.506Z"
   },
   {
    "duration": 194,
    "start_time": "2024-09-25T11:50:38.514Z"
   },
   {
    "duration": 8,
    "start_time": "2024-09-25T11:50:38.710Z"
   },
   {
    "duration": 52,
    "start_time": "2024-09-25T11:50:38.719Z"
   },
   {
    "duration": 301,
    "start_time": "2024-09-25T11:50:38.772Z"
   },
   {
    "duration": 8,
    "start_time": "2024-09-25T11:50:39.074Z"
   },
   {
    "duration": 264,
    "start_time": "2024-09-25T11:50:39.083Z"
   },
   {
    "duration": 8,
    "start_time": "2024-09-25T11:50:39.349Z"
   },
   {
    "duration": 245,
    "start_time": "2024-09-25T11:50:39.358Z"
   },
   {
    "duration": 149,
    "start_time": "2024-09-25T11:50:39.606Z"
   },
   {
    "duration": 141,
    "start_time": "2024-09-25T11:50:39.757Z"
   },
   {
    "duration": 158,
    "start_time": "2024-09-25T11:50:39.899Z"
   },
   {
    "duration": 133,
    "start_time": "2024-09-25T11:50:40.058Z"
   },
   {
    "duration": 141,
    "start_time": "2024-09-25T11:50:40.193Z"
   },
   {
    "duration": 134,
    "start_time": "2024-09-25T11:50:40.336Z"
   },
   {
    "duration": 138,
    "start_time": "2024-09-25T11:50:40.471Z"
   },
   {
    "duration": 132,
    "start_time": "2024-09-25T11:50:40.611Z"
   },
   {
    "duration": 22,
    "start_time": "2024-09-25T11:50:40.745Z"
   },
   {
    "duration": 8,
    "start_time": "2024-09-25T11:50:40.768Z"
   },
   {
    "duration": 271,
    "start_time": "2024-09-25T11:50:40.778Z"
   },
   {
    "duration": 16,
    "start_time": "2024-09-25T11:50:41.050Z"
   },
   {
    "duration": 9,
    "start_time": "2024-09-25T11:51:59.055Z"
   },
   {
    "duration": 8,
    "start_time": "2024-09-25T11:52:28.597Z"
   },
   {
    "duration": 2,
    "start_time": "2024-09-25T11:52:52.408Z"
   },
   {
    "duration": 7,
    "start_time": "2024-09-25T11:52:57.695Z"
   },
   {
    "duration": 9,
    "start_time": "2024-09-25T11:53:20.454Z"
   },
   {
    "duration": 659,
    "start_time": "2024-09-25T11:53:37.434Z"
   },
   {
    "duration": 15,
    "start_time": "2024-09-25T11:53:38.094Z"
   },
   {
    "duration": 1886,
    "start_time": "2024-09-25T11:53:38.111Z"
   },
   {
    "duration": 8,
    "start_time": "2024-09-25T11:53:39.999Z"
   },
   {
    "duration": 30,
    "start_time": "2024-09-25T11:53:40.009Z"
   },
   {
    "duration": 15,
    "start_time": "2024-09-25T11:53:40.041Z"
   },
   {
    "duration": 25,
    "start_time": "2024-09-25T11:53:40.057Z"
   },
   {
    "duration": 51,
    "start_time": "2024-09-25T11:53:40.083Z"
   },
   {
    "duration": 29,
    "start_time": "2024-09-25T11:53:40.136Z"
   },
   {
    "duration": 37,
    "start_time": "2024-09-25T11:53:40.168Z"
   },
   {
    "duration": 15,
    "start_time": "2024-09-25T11:53:40.207Z"
   },
   {
    "duration": 16,
    "start_time": "2024-09-25T11:53:40.223Z"
   },
   {
    "duration": 89,
    "start_time": "2024-09-25T11:53:40.241Z"
   },
   {
    "duration": 299,
    "start_time": "2024-09-25T11:53:40.331Z"
   },
   {
    "duration": 4,
    "start_time": "2024-09-25T11:53:40.632Z"
   },
   {
    "duration": 17,
    "start_time": "2024-09-25T11:53:40.638Z"
   },
   {
    "duration": 89,
    "start_time": "2024-09-25T11:53:40.656Z"
   },
   {
    "duration": 27,
    "start_time": "2024-09-25T11:53:40.747Z"
   },
   {
    "duration": 35,
    "start_time": "2024-09-25T11:53:40.776Z"
   },
   {
    "duration": 13,
    "start_time": "2024-09-25T11:53:40.813Z"
   },
   {
    "duration": 11,
    "start_time": "2024-09-25T11:53:40.827Z"
   },
   {
    "duration": 23,
    "start_time": "2024-09-25T11:53:40.839Z"
   },
   {
    "duration": 7,
    "start_time": "2024-09-25T11:53:40.863Z"
   },
   {
    "duration": 19,
    "start_time": "2024-09-25T11:53:40.871Z"
   },
   {
    "duration": 312,
    "start_time": "2024-09-25T11:53:40.892Z"
   },
   {
    "duration": 4,
    "start_time": "2024-09-25T11:53:41.207Z"
   },
   {
    "duration": 17,
    "start_time": "2024-09-25T11:53:41.212Z"
   },
   {
    "duration": 217,
    "start_time": "2024-09-25T11:53:41.233Z"
   },
   {
    "duration": 9,
    "start_time": "2024-09-25T11:53:41.452Z"
   },
   {
    "duration": 19,
    "start_time": "2024-09-25T11:53:41.462Z"
   },
   {
    "duration": 263,
    "start_time": "2024-09-25T11:53:41.482Z"
   },
   {
    "duration": 9,
    "start_time": "2024-09-25T11:53:41.746Z"
   },
   {
    "duration": 16,
    "start_time": "2024-09-25T11:53:41.756Z"
   },
   {
    "duration": 189,
    "start_time": "2024-09-25T11:53:41.773Z"
   },
   {
    "duration": 8,
    "start_time": "2024-09-25T11:53:41.964Z"
   },
   {
    "duration": 26,
    "start_time": "2024-09-25T11:53:41.973Z"
   },
   {
    "duration": 263,
    "start_time": "2024-09-25T11:53:42.000Z"
   },
   {
    "duration": 8,
    "start_time": "2024-09-25T11:53:42.265Z"
   },
   {
    "duration": 71,
    "start_time": "2024-09-25T11:53:42.274Z"
   },
   {
    "duration": 151,
    "start_time": "2024-09-25T11:53:42.346Z"
   },
   {
    "duration": 10,
    "start_time": "2024-09-25T11:53:42.498Z"
   },
   {
    "duration": 250,
    "start_time": "2024-09-25T11:53:42.509Z"
   },
   {
    "duration": 138,
    "start_time": "2024-09-25T11:53:42.761Z"
   },
   {
    "duration": 9,
    "start_time": "2024-09-25T11:53:42.900Z"
   },
   {
    "duration": 215,
    "start_time": "2024-09-25T11:53:42.911Z"
   },
   {
    "duration": 10,
    "start_time": "2024-09-25T11:53:43.129Z"
   },
   {
    "duration": 18,
    "start_time": "2024-09-25T11:53:43.141Z"
   },
   {
    "duration": 276,
    "start_time": "2024-09-25T11:53:43.161Z"
   },
   {
    "duration": 7,
    "start_time": "2024-09-25T11:53:43.439Z"
   },
   {
    "duration": 329,
    "start_time": "2024-09-25T11:53:43.447Z"
   },
   {
    "duration": 7,
    "start_time": "2024-09-25T11:53:43.778Z"
   },
   {
    "duration": 274,
    "start_time": "2024-09-25T11:53:43.787Z"
   },
   {
    "duration": 151,
    "start_time": "2024-09-25T11:53:44.062Z"
   },
   {
    "duration": 157,
    "start_time": "2024-09-25T11:53:44.215Z"
   },
   {
    "duration": 164,
    "start_time": "2024-09-25T11:53:44.374Z"
   },
   {
    "duration": 133,
    "start_time": "2024-09-25T11:53:44.539Z"
   },
   {
    "duration": 146,
    "start_time": "2024-09-25T11:53:44.674Z"
   },
   {
    "duration": 151,
    "start_time": "2024-09-25T11:53:44.822Z"
   },
   {
    "duration": 136,
    "start_time": "2024-09-25T11:53:44.974Z"
   },
   {
    "duration": 148,
    "start_time": "2024-09-25T11:53:45.111Z"
   },
   {
    "duration": 25,
    "start_time": "2024-09-25T11:53:45.260Z"
   },
   {
    "duration": 36,
    "start_time": "2024-09-25T11:53:45.287Z"
   },
   {
    "duration": 161,
    "start_time": "2024-09-25T11:53:45.325Z"
   },
   {
    "duration": 19,
    "start_time": "2024-09-25T11:53:45.488Z"
   },
   {
    "duration": 9,
    "start_time": "2024-09-25T11:54:14.524Z"
   },
   {
    "duration": 90,
    "start_time": "2024-09-25T11:56:36.691Z"
   },
   {
    "duration": 4,
    "start_time": "2024-09-25T11:59:53.872Z"
   },
   {
    "duration": 75,
    "start_time": "2024-09-25T12:01:08.246Z"
   },
   {
    "duration": 4,
    "start_time": "2024-09-25T12:05:13.801Z"
   },
   {
    "duration": 60,
    "start_time": "2024-09-25T12:07:23.526Z"
   },
   {
    "duration": 3,
    "start_time": "2024-09-25T12:08:15.882Z"
   },
   {
    "duration": 3,
    "start_time": "2024-09-25T12:08:42.742Z"
   },
   {
    "duration": 3,
    "start_time": "2024-09-25T12:08:53.642Z"
   },
   {
    "duration": 19,
    "start_time": "2024-09-25T12:13:30.691Z"
   },
   {
    "duration": 20,
    "start_time": "2024-09-25T12:14:15.374Z"
   },
   {
    "duration": 718,
    "start_time": "2024-09-25T12:16:59.201Z"
   },
   {
    "duration": 13,
    "start_time": "2024-09-25T12:16:59.920Z"
   },
   {
    "duration": 1846,
    "start_time": "2024-09-25T12:16:59.935Z"
   },
   {
    "duration": 9,
    "start_time": "2024-09-25T12:17:01.784Z"
   },
   {
    "duration": 63,
    "start_time": "2024-09-25T12:17:01.795Z"
   },
   {
    "duration": 33,
    "start_time": "2024-09-25T12:17:01.860Z"
   },
   {
    "duration": 43,
    "start_time": "2024-09-25T12:17:01.895Z"
   },
   {
    "duration": 68,
    "start_time": "2024-09-25T12:17:01.940Z"
   },
   {
    "duration": 22,
    "start_time": "2024-09-25T12:17:02.009Z"
   },
   {
    "duration": 16,
    "start_time": "2024-09-25T12:17:02.033Z"
   },
   {
    "duration": 16,
    "start_time": "2024-09-25T12:17:02.051Z"
   },
   {
    "duration": 27,
    "start_time": "2024-09-25T12:17:02.068Z"
   },
   {
    "duration": 11,
    "start_time": "2024-09-25T12:17:02.096Z"
   },
   {
    "duration": 325,
    "start_time": "2024-09-25T12:17:02.108Z"
   },
   {
    "duration": 4,
    "start_time": "2024-09-25T12:17:02.434Z"
   },
   {
    "duration": 115,
    "start_time": "2024-09-25T12:17:02.439Z"
   },
   {
    "duration": 0,
    "start_time": "2024-09-25T12:17:02.557Z"
   },
   {
    "duration": 0,
    "start_time": "2024-09-25T12:17:02.558Z"
   },
   {
    "duration": 0,
    "start_time": "2024-09-25T12:17:02.559Z"
   },
   {
    "duration": 0,
    "start_time": "2024-09-25T12:17:02.560Z"
   },
   {
    "duration": 0,
    "start_time": "2024-09-25T12:17:02.561Z"
   },
   {
    "duration": 0,
    "start_time": "2024-09-25T12:17:02.562Z"
   },
   {
    "duration": 0,
    "start_time": "2024-09-25T12:17:02.563Z"
   },
   {
    "duration": 0,
    "start_time": "2024-09-25T12:17:02.564Z"
   },
   {
    "duration": 0,
    "start_time": "2024-09-25T12:17:02.565Z"
   },
   {
    "duration": 0,
    "start_time": "2024-09-25T12:17:02.565Z"
   },
   {
    "duration": 0,
    "start_time": "2024-09-25T12:17:02.566Z"
   },
   {
    "duration": 0,
    "start_time": "2024-09-25T12:17:02.567Z"
   },
   {
    "duration": 0,
    "start_time": "2024-09-25T12:17:02.569Z"
   },
   {
    "duration": 0,
    "start_time": "2024-09-25T12:17:02.569Z"
   },
   {
    "duration": 0,
    "start_time": "2024-09-25T12:17:02.570Z"
   },
   {
    "duration": 0,
    "start_time": "2024-09-25T12:17:02.571Z"
   },
   {
    "duration": 0,
    "start_time": "2024-09-25T12:17:02.572Z"
   },
   {
    "duration": 0,
    "start_time": "2024-09-25T12:17:02.573Z"
   },
   {
    "duration": 0,
    "start_time": "2024-09-25T12:17:02.574Z"
   },
   {
    "duration": 0,
    "start_time": "2024-09-25T12:17:02.575Z"
   },
   {
    "duration": 0,
    "start_time": "2024-09-25T12:17:02.575Z"
   },
   {
    "duration": 0,
    "start_time": "2024-09-25T12:17:02.576Z"
   },
   {
    "duration": 0,
    "start_time": "2024-09-25T12:17:02.607Z"
   },
   {
    "duration": 0,
    "start_time": "2024-09-25T12:17:02.608Z"
   },
   {
    "duration": 0,
    "start_time": "2024-09-25T12:17:02.609Z"
   },
   {
    "duration": 1,
    "start_time": "2024-09-25T12:17:02.610Z"
   },
   {
    "duration": 0,
    "start_time": "2024-09-25T12:17:02.612Z"
   },
   {
    "duration": 0,
    "start_time": "2024-09-25T12:17:02.614Z"
   },
   {
    "duration": 0,
    "start_time": "2024-09-25T12:17:02.616Z"
   },
   {
    "duration": 0,
    "start_time": "2024-09-25T12:17:02.617Z"
   },
   {
    "duration": 0,
    "start_time": "2024-09-25T12:17:02.618Z"
   },
   {
    "duration": 0,
    "start_time": "2024-09-25T12:17:02.619Z"
   },
   {
    "duration": 0,
    "start_time": "2024-09-25T12:17:02.620Z"
   },
   {
    "duration": 0,
    "start_time": "2024-09-25T12:17:02.621Z"
   },
   {
    "duration": 0,
    "start_time": "2024-09-25T12:17:02.622Z"
   },
   {
    "duration": 0,
    "start_time": "2024-09-25T12:17:02.623Z"
   },
   {
    "duration": 0,
    "start_time": "2024-09-25T12:17:02.624Z"
   },
   {
    "duration": 0,
    "start_time": "2024-09-25T12:17:02.625Z"
   },
   {
    "duration": 0,
    "start_time": "2024-09-25T12:17:02.629Z"
   },
   {
    "duration": 0,
    "start_time": "2024-09-25T12:17:02.630Z"
   },
   {
    "duration": 0,
    "start_time": "2024-09-25T12:17:02.631Z"
   },
   {
    "duration": 0,
    "start_time": "2024-09-25T12:17:02.633Z"
   },
   {
    "duration": 0,
    "start_time": "2024-09-25T12:17:02.634Z"
   },
   {
    "duration": 0,
    "start_time": "2024-09-25T12:17:02.635Z"
   },
   {
    "duration": 0,
    "start_time": "2024-09-25T12:17:02.636Z"
   },
   {
    "duration": 0,
    "start_time": "2024-09-25T12:17:02.637Z"
   },
   {
    "duration": 0,
    "start_time": "2024-09-25T12:17:02.638Z"
   },
   {
    "duration": 0,
    "start_time": "2024-09-25T12:17:02.639Z"
   },
   {
    "duration": 0,
    "start_time": "2024-09-25T12:17:02.641Z"
   },
   {
    "duration": 582,
    "start_time": "2024-09-25T12:18:26.124Z"
   },
   {
    "duration": 13,
    "start_time": "2024-09-25T12:18:26.708Z"
   },
   {
    "duration": 1867,
    "start_time": "2024-09-25T12:18:26.722Z"
   },
   {
    "duration": 9,
    "start_time": "2024-09-25T12:18:28.591Z"
   },
   {
    "duration": 5,
    "start_time": "2024-09-25T12:18:28.601Z"
   },
   {
    "duration": 8,
    "start_time": "2024-09-25T12:18:28.607Z"
   },
   {
    "duration": 7,
    "start_time": "2024-09-25T12:18:28.616Z"
   },
   {
    "duration": 14,
    "start_time": "2024-09-25T12:18:28.625Z"
   },
   {
    "duration": 3,
    "start_time": "2024-09-25T12:18:28.641Z"
   },
   {
    "duration": 12,
    "start_time": "2024-09-25T12:18:28.646Z"
   },
   {
    "duration": 8,
    "start_time": "2024-09-25T12:18:28.659Z"
   },
   {
    "duration": 15,
    "start_time": "2024-09-25T12:18:28.668Z"
   },
   {
    "duration": 12,
    "start_time": "2024-09-25T12:18:28.685Z"
   },
   {
    "duration": 333,
    "start_time": "2024-09-25T12:18:28.698Z"
   },
   {
    "duration": 4,
    "start_time": "2024-09-25T12:18:29.033Z"
   },
   {
    "duration": 8,
    "start_time": "2024-09-25T12:18:29.039Z"
   },
   {
    "duration": 18,
    "start_time": "2024-09-25T12:18:29.049Z"
   },
   {
    "duration": 7,
    "start_time": "2024-09-25T12:18:29.068Z"
   },
   {
    "duration": 6,
    "start_time": "2024-09-25T12:18:29.076Z"
   },
   {
    "duration": 7,
    "start_time": "2024-09-25T12:18:29.083Z"
   },
   {
    "duration": 4,
    "start_time": "2024-09-25T12:18:29.106Z"
   },
   {
    "duration": 4,
    "start_time": "2024-09-25T12:18:29.111Z"
   },
   {
    "duration": 339,
    "start_time": "2024-09-25T12:18:29.116Z"
   },
   {
    "duration": 3,
    "start_time": "2024-09-25T12:18:29.456Z"
   },
   {
    "duration": 25,
    "start_time": "2024-09-25T12:18:29.461Z"
   },
   {
    "duration": 7,
    "start_time": "2024-09-25T12:18:29.488Z"
   },
   {
    "duration": 200,
    "start_time": "2024-09-25T12:18:29.496Z"
   },
   {
    "duration": 13,
    "start_time": "2024-09-25T12:18:29.700Z"
   },
   {
    "duration": 91,
    "start_time": "2024-09-25T12:18:29.714Z"
   },
   {
    "duration": 234,
    "start_time": "2024-09-25T12:18:29.806Z"
   },
   {
    "duration": 8,
    "start_time": "2024-09-25T12:18:30.041Z"
   },
   {
    "duration": 49,
    "start_time": "2024-09-25T12:18:30.050Z"
   },
   {
    "duration": 213,
    "start_time": "2024-09-25T12:18:30.100Z"
   },
   {
    "duration": 9,
    "start_time": "2024-09-25T12:18:30.314Z"
   },
   {
    "duration": 118,
    "start_time": "2024-09-25T12:18:30.325Z"
   },
   {
    "duration": 260,
    "start_time": "2024-09-25T12:18:30.444Z"
   },
   {
    "duration": 8,
    "start_time": "2024-09-25T12:18:30.707Z"
   },
   {
    "duration": 193,
    "start_time": "2024-09-25T12:18:30.716Z"
   },
   {
    "duration": 141,
    "start_time": "2024-09-25T12:18:30.911Z"
   },
   {
    "duration": 8,
    "start_time": "2024-09-25T12:18:31.053Z"
   },
   {
    "duration": 217,
    "start_time": "2024-09-25T12:18:31.062Z"
   },
   {
    "duration": 138,
    "start_time": "2024-09-25T12:18:31.281Z"
   },
   {
    "duration": 6,
    "start_time": "2024-09-25T12:18:31.421Z"
   },
   {
    "duration": 266,
    "start_time": "2024-09-25T12:18:31.429Z"
   },
   {
    "duration": 12,
    "start_time": "2024-09-25T12:18:31.696Z"
   },
   {
    "duration": 147,
    "start_time": "2024-09-25T12:18:31.709Z"
   },
   {
    "duration": 352,
    "start_time": "2024-09-25T12:18:31.857Z"
   },
   {
    "duration": 6,
    "start_time": "2024-09-25T12:18:32.210Z"
   },
   {
    "duration": 276,
    "start_time": "2024-09-25T12:18:32.218Z"
   },
   {
    "duration": 13,
    "start_time": "2024-09-25T12:18:32.496Z"
   },
   {
    "duration": 265,
    "start_time": "2024-09-25T12:18:32.510Z"
   },
   {
    "duration": 81,
    "start_time": "2024-09-25T12:18:32.776Z"
   },
   {
    "duration": 0,
    "start_time": "2024-09-25T12:18:32.858Z"
   },
   {
    "duration": 0,
    "start_time": "2024-09-25T12:18:32.859Z"
   },
   {
    "duration": 0,
    "start_time": "2024-09-25T12:18:32.860Z"
   },
   {
    "duration": 0,
    "start_time": "2024-09-25T12:18:32.861Z"
   },
   {
    "duration": 0,
    "start_time": "2024-09-25T12:18:32.862Z"
   },
   {
    "duration": 0,
    "start_time": "2024-09-25T12:18:32.862Z"
   },
   {
    "duration": 0,
    "start_time": "2024-09-25T12:18:32.863Z"
   },
   {
    "duration": 0,
    "start_time": "2024-09-25T12:18:32.864Z"
   },
   {
    "duration": 0,
    "start_time": "2024-09-25T12:18:32.865Z"
   },
   {
    "duration": 0,
    "start_time": "2024-09-25T12:18:32.865Z"
   },
   {
    "duration": 0,
    "start_time": "2024-09-25T12:18:32.866Z"
   },
   {
    "duration": 262,
    "start_time": "2024-09-25T12:25:38.286Z"
   },
   {
    "duration": 12,
    "start_time": "2024-09-25T12:25:38.550Z"
   },
   {
    "duration": 1661,
    "start_time": "2024-09-25T12:25:38.563Z"
   },
   {
    "duration": 8,
    "start_time": "2024-09-25T12:25:40.226Z"
   },
   {
    "duration": 7,
    "start_time": "2024-09-25T12:25:40.236Z"
   },
   {
    "duration": 6,
    "start_time": "2024-09-25T12:25:40.244Z"
   },
   {
    "duration": 8,
    "start_time": "2024-09-25T12:25:40.251Z"
   },
   {
    "duration": 10,
    "start_time": "2024-09-25T12:25:40.261Z"
   },
   {
    "duration": 3,
    "start_time": "2024-09-25T12:25:40.272Z"
   },
   {
    "duration": 16,
    "start_time": "2024-09-25T12:25:40.277Z"
   },
   {
    "duration": 17,
    "start_time": "2024-09-25T12:25:40.294Z"
   },
   {
    "duration": 10,
    "start_time": "2024-09-25T12:25:40.312Z"
   },
   {
    "duration": 5,
    "start_time": "2024-09-25T12:25:40.324Z"
   },
   {
    "duration": 428,
    "start_time": "2024-09-25T12:25:40.330Z"
   },
   {
    "duration": 4,
    "start_time": "2024-09-25T12:25:40.760Z"
   },
   {
    "duration": 11,
    "start_time": "2024-09-25T12:25:40.765Z"
   },
   {
    "duration": 21,
    "start_time": "2024-09-25T12:25:40.777Z"
   },
   {
    "duration": 10,
    "start_time": "2024-09-25T12:25:40.799Z"
   },
   {
    "duration": 5,
    "start_time": "2024-09-25T12:25:40.810Z"
   },
   {
    "duration": 7,
    "start_time": "2024-09-25T12:25:40.816Z"
   },
   {
    "duration": 4,
    "start_time": "2024-09-25T12:25:40.824Z"
   },
   {
    "duration": 53,
    "start_time": "2024-09-25T12:25:40.829Z"
   },
   {
    "duration": 391,
    "start_time": "2024-09-25T12:25:40.883Z"
   },
   {
    "duration": 4,
    "start_time": "2024-09-25T12:25:41.275Z"
   },
   {
    "duration": 37,
    "start_time": "2024-09-25T12:25:41.280Z"
   },
   {
    "duration": 8,
    "start_time": "2024-09-25T12:25:41.318Z"
   },
   {
    "duration": 191,
    "start_time": "2024-09-25T12:25:41.327Z"
   },
   {
    "duration": 8,
    "start_time": "2024-09-25T12:25:41.522Z"
   },
   {
    "duration": 10,
    "start_time": "2024-09-25T12:25:41.531Z"
   },
   {
    "duration": 199,
    "start_time": "2024-09-25T12:25:41.542Z"
   },
   {
    "duration": 8,
    "start_time": "2024-09-25T12:25:41.742Z"
   },
   {
    "duration": 84,
    "start_time": "2024-09-25T12:25:41.751Z"
   },
   {
    "duration": 174,
    "start_time": "2024-09-25T12:25:41.836Z"
   },
   {
    "duration": 8,
    "start_time": "2024-09-25T12:25:42.011Z"
   },
   {
    "duration": 10,
    "start_time": "2024-09-25T12:25:42.020Z"
   },
   {
    "duration": 241,
    "start_time": "2024-09-25T12:25:42.031Z"
   },
   {
    "duration": 8,
    "start_time": "2024-09-25T12:25:42.274Z"
   },
   {
    "duration": 131,
    "start_time": "2024-09-25T12:25:42.283Z"
   },
   {
    "duration": 262,
    "start_time": "2024-09-25T12:25:42.415Z"
   },
   {
    "duration": 7,
    "start_time": "2024-09-25T12:25:42.679Z"
   },
   {
    "duration": 226,
    "start_time": "2024-09-25T12:25:42.687Z"
   },
   {
    "duration": 128,
    "start_time": "2024-09-25T12:25:42.915Z"
   },
   {
    "duration": 7,
    "start_time": "2024-09-25T12:25:43.045Z"
   },
   {
    "duration": 202,
    "start_time": "2024-09-25T12:25:43.053Z"
   },
   {
    "duration": 8,
    "start_time": "2024-09-25T12:25:43.257Z"
   },
   {
    "duration": 9,
    "start_time": "2024-09-25T12:25:43.267Z"
   },
   {
    "duration": 259,
    "start_time": "2024-09-25T12:25:43.281Z"
   },
   {
    "duration": 7,
    "start_time": "2024-09-25T12:25:43.541Z"
   },
   {
    "duration": 244,
    "start_time": "2024-09-25T12:25:43.549Z"
   },
   {
    "duration": 6,
    "start_time": "2024-09-25T12:25:43.794Z"
   },
   {
    "duration": 252,
    "start_time": "2024-09-25T12:25:43.807Z"
   },
   {
    "duration": 14,
    "start_time": "2024-09-25T12:25:44.061Z"
   },
   {
    "duration": 0,
    "start_time": "2024-09-25T12:25:44.077Z"
   },
   {
    "duration": 0,
    "start_time": "2024-09-25T12:25:44.078Z"
   },
   {
    "duration": 0,
    "start_time": "2024-09-25T12:25:44.079Z"
   },
   {
    "duration": 0,
    "start_time": "2024-09-25T12:25:44.080Z"
   },
   {
    "duration": 0,
    "start_time": "2024-09-25T12:25:44.080Z"
   },
   {
    "duration": 0,
    "start_time": "2024-09-25T12:25:44.081Z"
   },
   {
    "duration": 0,
    "start_time": "2024-09-25T12:25:44.082Z"
   },
   {
    "duration": 0,
    "start_time": "2024-09-25T12:25:44.084Z"
   },
   {
    "duration": 0,
    "start_time": "2024-09-25T12:25:44.085Z"
   },
   {
    "duration": 0,
    "start_time": "2024-09-25T12:25:44.107Z"
   },
   {
    "duration": 0,
    "start_time": "2024-09-25T12:25:44.108Z"
   },
   {
    "duration": 172,
    "start_time": "2024-09-25T12:26:18.657Z"
   },
   {
    "duration": 172,
    "start_time": "2024-09-25T12:26:49.551Z"
   },
   {
    "duration": 652,
    "start_time": "2024-09-25T12:27:07.566Z"
   },
   {
    "duration": 12,
    "start_time": "2024-09-25T12:27:08.220Z"
   },
   {
    "duration": 1875,
    "start_time": "2024-09-25T12:27:08.234Z"
   },
   {
    "duration": 8,
    "start_time": "2024-09-25T12:27:10.111Z"
   },
   {
    "duration": 20,
    "start_time": "2024-09-25T12:27:10.120Z"
   },
   {
    "duration": 13,
    "start_time": "2024-09-25T12:27:10.141Z"
   },
   {
    "duration": 18,
    "start_time": "2024-09-25T12:27:10.155Z"
   },
   {
    "duration": 13,
    "start_time": "2024-09-25T12:27:10.175Z"
   },
   {
    "duration": 14,
    "start_time": "2024-09-25T12:27:10.189Z"
   },
   {
    "duration": 7,
    "start_time": "2024-09-25T12:27:10.205Z"
   },
   {
    "duration": 21,
    "start_time": "2024-09-25T12:27:10.213Z"
   },
   {
    "duration": 13,
    "start_time": "2024-09-25T12:27:10.235Z"
   },
   {
    "duration": 7,
    "start_time": "2024-09-25T12:27:10.249Z"
   },
   {
    "duration": 307,
    "start_time": "2024-09-25T12:27:10.257Z"
   },
   {
    "duration": 3,
    "start_time": "2024-09-25T12:27:10.566Z"
   },
   {
    "duration": 22,
    "start_time": "2024-09-25T12:27:10.571Z"
   },
   {
    "duration": 10,
    "start_time": "2024-09-25T12:27:10.595Z"
   },
   {
    "duration": 10,
    "start_time": "2024-09-25T12:27:10.606Z"
   },
   {
    "duration": 16,
    "start_time": "2024-09-25T12:27:10.617Z"
   },
   {
    "duration": 4,
    "start_time": "2024-09-25T12:27:10.634Z"
   },
   {
    "duration": 5,
    "start_time": "2024-09-25T12:27:10.639Z"
   },
   {
    "duration": 3,
    "start_time": "2024-09-25T12:27:10.645Z"
   },
   {
    "duration": 317,
    "start_time": "2024-09-25T12:27:10.650Z"
   },
   {
    "duration": 4,
    "start_time": "2024-09-25T12:27:10.969Z"
   },
   {
    "duration": 34,
    "start_time": "2024-09-25T12:27:10.974Z"
   },
   {
    "duration": 8,
    "start_time": "2024-09-25T12:27:11.009Z"
   },
   {
    "duration": 233,
    "start_time": "2024-09-25T12:27:11.018Z"
   },
   {
    "duration": 9,
    "start_time": "2024-09-25T12:27:11.256Z"
   },
   {
    "duration": 10,
    "start_time": "2024-09-25T12:27:11.266Z"
   },
   {
    "duration": 271,
    "start_time": "2024-09-25T12:27:11.277Z"
   },
   {
    "duration": 7,
    "start_time": "2024-09-25T12:27:11.549Z"
   },
   {
    "duration": 34,
    "start_time": "2024-09-25T12:27:11.557Z"
   },
   {
    "duration": 322,
    "start_time": "2024-09-25T12:27:11.593Z"
   },
   {
    "duration": 8,
    "start_time": "2024-09-25T12:27:11.916Z"
   },
   {
    "duration": 11,
    "start_time": "2024-09-25T12:27:11.925Z"
   },
   {
    "duration": 256,
    "start_time": "2024-09-25T12:27:11.937Z"
   },
   {
    "duration": 13,
    "start_time": "2024-09-25T12:27:12.194Z"
   },
   {
    "duration": 7,
    "start_time": "2024-09-25T12:27:12.208Z"
   },
   {
    "duration": 143,
    "start_time": "2024-09-25T12:27:12.216Z"
   },
   {
    "duration": 7,
    "start_time": "2024-09-25T12:27:12.360Z"
   },
   {
    "duration": 271,
    "start_time": "2024-09-25T12:27:12.368Z"
   },
   {
    "duration": 137,
    "start_time": "2024-09-25T12:27:12.640Z"
   },
   {
    "duration": 8,
    "start_time": "2024-09-25T12:27:12.778Z"
   },
   {
    "duration": 216,
    "start_time": "2024-09-25T12:27:12.787Z"
   },
   {
    "duration": 6,
    "start_time": "2024-09-25T12:27:13.005Z"
   },
   {
    "duration": 10,
    "start_time": "2024-09-25T12:27:13.012Z"
   },
   {
    "duration": 354,
    "start_time": "2024-09-25T12:27:13.023Z"
   },
   {
    "duration": 6,
    "start_time": "2024-09-25T12:27:13.379Z"
   },
   {
    "duration": 260,
    "start_time": "2024-09-25T12:27:13.386Z"
   },
   {
    "duration": 6,
    "start_time": "2024-09-25T12:27:13.647Z"
   },
   {
    "duration": 304,
    "start_time": "2024-09-25T12:27:13.655Z"
   },
   {
    "duration": 79,
    "start_time": "2024-09-25T12:27:13.961Z"
   },
   {
    "duration": 0,
    "start_time": "2024-09-25T12:27:14.041Z"
   },
   {
    "duration": 0,
    "start_time": "2024-09-25T12:27:14.042Z"
   },
   {
    "duration": 0,
    "start_time": "2024-09-25T12:27:14.043Z"
   },
   {
    "duration": 0,
    "start_time": "2024-09-25T12:27:14.044Z"
   },
   {
    "duration": 0,
    "start_time": "2024-09-25T12:27:14.045Z"
   },
   {
    "duration": 0,
    "start_time": "2024-09-25T12:27:14.046Z"
   },
   {
    "duration": 0,
    "start_time": "2024-09-25T12:27:14.046Z"
   },
   {
    "duration": 0,
    "start_time": "2024-09-25T12:27:14.047Z"
   },
   {
    "duration": 0,
    "start_time": "2024-09-25T12:27:14.048Z"
   },
   {
    "duration": 0,
    "start_time": "2024-09-25T12:27:14.049Z"
   },
   {
    "duration": 0,
    "start_time": "2024-09-25T12:27:14.049Z"
   },
   {
    "duration": 4,
    "start_time": "2024-09-25T12:44:17.642Z"
   },
   {
    "duration": 798,
    "start_time": "2024-09-25T12:44:52.305Z"
   },
   {
    "duration": 12,
    "start_time": "2024-09-25T12:44:53.104Z"
   },
   {
    "duration": 1844,
    "start_time": "2024-09-25T12:44:53.118Z"
   },
   {
    "duration": 8,
    "start_time": "2024-09-25T12:44:54.964Z"
   },
   {
    "duration": 103,
    "start_time": "2024-09-25T12:44:54.974Z"
   },
   {
    "duration": 27,
    "start_time": "2024-09-25T12:44:55.079Z"
   },
   {
    "duration": 8,
    "start_time": "2024-09-25T12:44:55.107Z"
   },
   {
    "duration": 18,
    "start_time": "2024-09-25T12:44:55.117Z"
   },
   {
    "duration": 84,
    "start_time": "2024-09-25T12:44:55.136Z"
   },
   {
    "duration": 0,
    "start_time": "2024-09-25T12:44:55.223Z"
   },
   {
    "duration": 0,
    "start_time": "2024-09-25T12:44:55.225Z"
   },
   {
    "duration": 0,
    "start_time": "2024-09-25T12:44:55.226Z"
   },
   {
    "duration": 0,
    "start_time": "2024-09-25T12:44:55.227Z"
   },
   {
    "duration": 0,
    "start_time": "2024-09-25T12:44:55.228Z"
   },
   {
    "duration": 0,
    "start_time": "2024-09-25T12:44:55.229Z"
   },
   {
    "duration": 0,
    "start_time": "2024-09-25T12:44:55.230Z"
   },
   {
    "duration": 0,
    "start_time": "2024-09-25T12:44:55.231Z"
   },
   {
    "duration": 0,
    "start_time": "2024-09-25T12:44:55.232Z"
   },
   {
    "duration": 0,
    "start_time": "2024-09-25T12:44:55.233Z"
   },
   {
    "duration": 0,
    "start_time": "2024-09-25T12:44:55.234Z"
   },
   {
    "duration": 0,
    "start_time": "2024-09-25T12:44:55.235Z"
   },
   {
    "duration": 0,
    "start_time": "2024-09-25T12:44:55.236Z"
   },
   {
    "duration": 0,
    "start_time": "2024-09-25T12:44:55.237Z"
   },
   {
    "duration": 0,
    "start_time": "2024-09-25T12:44:55.238Z"
   },
   {
    "duration": 0,
    "start_time": "2024-09-25T12:44:55.238Z"
   },
   {
    "duration": 0,
    "start_time": "2024-09-25T12:44:55.239Z"
   },
   {
    "duration": 0,
    "start_time": "2024-09-25T12:44:55.240Z"
   },
   {
    "duration": 0,
    "start_time": "2024-09-25T12:44:55.242Z"
   },
   {
    "duration": 0,
    "start_time": "2024-09-25T12:44:55.244Z"
   },
   {
    "duration": 0,
    "start_time": "2024-09-25T12:44:55.245Z"
   },
   {
    "duration": 0,
    "start_time": "2024-09-25T12:44:55.246Z"
   },
   {
    "duration": 0,
    "start_time": "2024-09-25T12:44:55.247Z"
   },
   {
    "duration": 0,
    "start_time": "2024-09-25T12:44:55.248Z"
   },
   {
    "duration": 0,
    "start_time": "2024-09-25T12:44:55.249Z"
   },
   {
    "duration": 0,
    "start_time": "2024-09-25T12:44:55.252Z"
   },
   {
    "duration": 0,
    "start_time": "2024-09-25T12:44:55.254Z"
   },
   {
    "duration": 0,
    "start_time": "2024-09-25T12:44:55.255Z"
   },
   {
    "duration": 0,
    "start_time": "2024-09-25T12:44:55.256Z"
   },
   {
    "duration": 0,
    "start_time": "2024-09-25T12:44:55.307Z"
   },
   {
    "duration": 0,
    "start_time": "2024-09-25T12:44:55.308Z"
   },
   {
    "duration": 0,
    "start_time": "2024-09-25T12:44:55.310Z"
   },
   {
    "duration": 0,
    "start_time": "2024-09-25T12:44:55.311Z"
   },
   {
    "duration": 0,
    "start_time": "2024-09-25T12:44:55.311Z"
   },
   {
    "duration": 0,
    "start_time": "2024-09-25T12:44:55.312Z"
   },
   {
    "duration": 0,
    "start_time": "2024-09-25T12:44:55.313Z"
   },
   {
    "duration": 0,
    "start_time": "2024-09-25T12:44:55.314Z"
   },
   {
    "duration": 0,
    "start_time": "2024-09-25T12:44:55.315Z"
   },
   {
    "duration": 0,
    "start_time": "2024-09-25T12:44:55.316Z"
   },
   {
    "duration": 0,
    "start_time": "2024-09-25T12:44:55.317Z"
   },
   {
    "duration": 0,
    "start_time": "2024-09-25T12:44:55.318Z"
   },
   {
    "duration": 0,
    "start_time": "2024-09-25T12:44:55.319Z"
   },
   {
    "duration": 0,
    "start_time": "2024-09-25T12:44:55.319Z"
   },
   {
    "duration": 0,
    "start_time": "2024-09-25T12:44:55.321Z"
   },
   {
    "duration": 0,
    "start_time": "2024-09-25T12:44:55.322Z"
   },
   {
    "duration": 0,
    "start_time": "2024-09-25T12:44:55.323Z"
   },
   {
    "duration": 0,
    "start_time": "2024-09-25T12:44:55.324Z"
   },
   {
    "duration": 0,
    "start_time": "2024-09-25T12:44:55.325Z"
   },
   {
    "duration": 0,
    "start_time": "2024-09-25T12:44:55.326Z"
   },
   {
    "duration": 0,
    "start_time": "2024-09-25T12:44:55.327Z"
   },
   {
    "duration": 0,
    "start_time": "2024-09-25T12:44:55.328Z"
   },
   {
    "duration": 0,
    "start_time": "2024-09-25T12:44:55.329Z"
   },
   {
    "duration": 0,
    "start_time": "2024-09-25T12:44:55.330Z"
   },
   {
    "duration": 0,
    "start_time": "2024-09-25T12:44:55.331Z"
   },
   {
    "duration": 11,
    "start_time": "2024-09-25T12:50:14.948Z"
   },
   {
    "duration": 6,
    "start_time": "2024-09-25T12:51:14.231Z"
   },
   {
    "duration": 7,
    "start_time": "2024-09-25T12:51:46.807Z"
   },
   {
    "duration": 7,
    "start_time": "2024-09-25T12:51:52.918Z"
   },
   {
    "duration": 7,
    "start_time": "2024-09-25T12:52:01.389Z"
   },
   {
    "duration": 9,
    "start_time": "2024-09-25T12:53:00.778Z"
   },
   {
    "duration": 12,
    "start_time": "2024-09-25T12:54:47.520Z"
   },
   {
    "duration": 60,
    "start_time": "2024-09-25T12:54:59.842Z"
   },
   {
    "duration": 10,
    "start_time": "2024-09-25T12:55:10.825Z"
   },
   {
    "duration": 90,
    "start_time": "2024-09-25T12:55:41.844Z"
   },
   {
    "duration": 682,
    "start_time": "2024-09-25T12:55:50.695Z"
   },
   {
    "duration": 13,
    "start_time": "2024-09-25T12:55:51.378Z"
   },
   {
    "duration": 1921,
    "start_time": "2024-09-25T12:55:51.392Z"
   },
   {
    "duration": 9,
    "start_time": "2024-09-25T12:55:53.315Z"
   },
   {
    "duration": 4,
    "start_time": "2024-09-25T12:55:53.325Z"
   },
   {
    "duration": 6,
    "start_time": "2024-09-25T12:55:53.330Z"
   },
   {
    "duration": 8,
    "start_time": "2024-09-25T12:55:53.337Z"
   },
   {
    "duration": 16,
    "start_time": "2024-09-25T12:55:53.346Z"
   },
   {
    "duration": 16,
    "start_time": "2024-09-25T12:55:53.363Z"
   },
   {
    "duration": 5,
    "start_time": "2024-09-25T12:55:53.382Z"
   },
   {
    "duration": 22,
    "start_time": "2024-09-25T12:55:53.388Z"
   },
   {
    "duration": 7,
    "start_time": "2024-09-25T12:55:53.412Z"
   },
   {
    "duration": 3,
    "start_time": "2024-09-25T12:55:53.421Z"
   },
   {
    "duration": 364,
    "start_time": "2024-09-25T12:55:53.425Z"
   },
   {
    "duration": 120,
    "start_time": "2024-09-25T12:55:53.790Z"
   },
   {
    "duration": 10,
    "start_time": "2024-09-25T12:55:53.911Z"
   },
   {
    "duration": 36,
    "start_time": "2024-09-25T12:55:53.922Z"
   },
   {
    "duration": 7,
    "start_time": "2024-09-25T12:55:53.960Z"
   },
   {
    "duration": 5,
    "start_time": "2024-09-25T12:55:53.969Z"
   },
   {
    "duration": 5,
    "start_time": "2024-09-25T12:55:53.975Z"
   },
   {
    "duration": 9,
    "start_time": "2024-09-25T12:55:53.982Z"
   },
   {
    "duration": 3,
    "start_time": "2024-09-25T12:55:53.992Z"
   },
   {
    "duration": 327,
    "start_time": "2024-09-25T12:55:54.007Z"
   },
   {
    "duration": 4,
    "start_time": "2024-09-25T12:55:54.336Z"
   },
   {
    "duration": 40,
    "start_time": "2024-09-25T12:55:54.341Z"
   },
   {
    "duration": 7,
    "start_time": "2024-09-25T12:55:54.382Z"
   },
   {
    "duration": 234,
    "start_time": "2024-09-25T12:55:54.390Z"
   },
   {
    "duration": 8,
    "start_time": "2024-09-25T12:55:54.628Z"
   },
   {
    "duration": 7,
    "start_time": "2024-09-25T12:55:54.638Z"
   },
   {
    "duration": 217,
    "start_time": "2024-09-25T12:55:54.647Z"
   },
   {
    "duration": 7,
    "start_time": "2024-09-25T12:55:54.866Z"
   },
   {
    "duration": 8,
    "start_time": "2024-09-25T12:55:54.875Z"
   },
   {
    "duration": 193,
    "start_time": "2024-09-25T12:55:54.885Z"
   },
   {
    "duration": 8,
    "start_time": "2024-09-25T12:55:55.080Z"
   },
   {
    "duration": 20,
    "start_time": "2024-09-25T12:55:55.089Z"
   },
   {
    "duration": 288,
    "start_time": "2024-09-25T12:55:55.110Z"
   },
   {
    "duration": 11,
    "start_time": "2024-09-25T12:55:55.400Z"
   },
   {
    "duration": 12,
    "start_time": "2024-09-25T12:55:55.413Z"
   },
   {
    "duration": 162,
    "start_time": "2024-09-25T12:55:55.427Z"
   },
   {
    "duration": 16,
    "start_time": "2024-09-25T12:55:55.591Z"
   },
   {
    "duration": 212,
    "start_time": "2024-09-25T12:55:55.609Z"
   },
   {
    "duration": 162,
    "start_time": "2024-09-25T12:55:55.822Z"
   },
   {
    "duration": 7,
    "start_time": "2024-09-25T12:55:55.985Z"
   },
   {
    "duration": 220,
    "start_time": "2024-09-25T12:55:55.993Z"
   },
   {
    "duration": 13,
    "start_time": "2024-09-25T12:55:56.215Z"
   },
   {
    "duration": 9,
    "start_time": "2024-09-25T12:55:56.230Z"
   },
   {
    "duration": 325,
    "start_time": "2024-09-25T12:55:56.240Z"
   },
   {
    "duration": 8,
    "start_time": "2024-09-25T12:55:56.566Z"
   },
   {
    "duration": 260,
    "start_time": "2024-09-25T12:55:56.576Z"
   },
   {
    "duration": 8,
    "start_time": "2024-09-25T12:55:56.838Z"
   },
   {
    "duration": 265,
    "start_time": "2024-09-25T12:55:56.848Z"
   },
   {
    "duration": 202,
    "start_time": "2024-09-25T12:55:57.114Z"
   },
   {
    "duration": 165,
    "start_time": "2024-09-25T12:55:57.318Z"
   },
   {
    "duration": 169,
    "start_time": "2024-09-25T12:55:57.485Z"
   },
   {
    "duration": 150,
    "start_time": "2024-09-25T12:55:57.655Z"
   },
   {
    "duration": 141,
    "start_time": "2024-09-25T12:55:57.806Z"
   },
   {
    "duration": 214,
    "start_time": "2024-09-25T12:55:57.949Z"
   },
   {
    "duration": 133,
    "start_time": "2024-09-25T12:55:58.165Z"
   },
   {
    "duration": 136,
    "start_time": "2024-09-25T12:55:58.299Z"
   },
   {
    "duration": 21,
    "start_time": "2024-09-25T12:55:58.436Z"
   },
   {
    "duration": 68,
    "start_time": "2024-09-25T12:55:58.459Z"
   },
   {
    "duration": 101,
    "start_time": "2024-09-25T12:55:58.528Z"
   },
   {
    "duration": 0,
    "start_time": "2024-09-25T12:55:58.631Z"
   },
   {
    "duration": 3,
    "start_time": "2024-09-25T13:08:45.010Z"
   },
   {
    "duration": 106,
    "start_time": "2024-09-25T13:09:01.260Z"
   },
   {
    "duration": 7,
    "start_time": "2024-09-25T13:09:13.781Z"
   },
   {
    "duration": 151,
    "start_time": "2024-09-25T13:09:35.784Z"
   },
   {
    "duration": 177,
    "start_time": "2024-09-25T13:09:49.838Z"
   },
   {
    "duration": 110,
    "start_time": "2024-09-25T13:14:05.418Z"
   },
   {
    "duration": 165,
    "start_time": "2024-09-25T13:15:20.664Z"
   },
   {
    "duration": 159,
    "start_time": "2024-09-25T13:15:59.033Z"
   },
   {
    "duration": 158,
    "start_time": "2024-09-25T13:16:09.915Z"
   },
   {
    "duration": 187,
    "start_time": "2024-09-25T13:16:36.960Z"
   },
   {
    "duration": 182,
    "start_time": "2024-09-25T13:17:33.479Z"
   },
   {
    "duration": 189,
    "start_time": "2024-09-25T13:17:50.924Z"
   },
   {
    "duration": 2,
    "start_time": "2024-09-25T13:23:38.606Z"
   },
   {
    "duration": 6,
    "start_time": "2024-09-25T13:23:45.906Z"
   },
   {
    "duration": 3,
    "start_time": "2024-09-25T13:23:52.205Z"
   },
   {
    "duration": 3,
    "start_time": "2024-09-25T13:26:03.974Z"
   },
   {
    "duration": 618,
    "start_time": "2024-09-25T13:30:53.039Z"
   },
   {
    "duration": 13,
    "start_time": "2024-09-25T13:30:53.659Z"
   },
   {
    "duration": 4,
    "start_time": "2024-09-25T13:30:53.673Z"
   },
   {
    "duration": 1923,
    "start_time": "2024-09-25T13:30:53.678Z"
   },
   {
    "duration": 8,
    "start_time": "2024-09-25T13:30:55.603Z"
   },
   {
    "duration": 12,
    "start_time": "2024-09-25T13:30:55.613Z"
   },
   {
    "duration": 11,
    "start_time": "2024-09-25T13:30:55.626Z"
   },
   {
    "duration": 24,
    "start_time": "2024-09-25T13:30:55.639Z"
   },
   {
    "duration": 17,
    "start_time": "2024-09-25T13:30:55.664Z"
   },
   {
    "duration": 18,
    "start_time": "2024-09-25T13:30:55.683Z"
   },
   {
    "duration": 20,
    "start_time": "2024-09-25T13:30:55.702Z"
   },
   {
    "duration": 20,
    "start_time": "2024-09-25T13:30:55.723Z"
   },
   {
    "duration": 11,
    "start_time": "2024-09-25T13:30:55.744Z"
   },
   {
    "duration": 4,
    "start_time": "2024-09-25T13:30:55.756Z"
   },
   {
    "duration": 313,
    "start_time": "2024-09-25T13:30:55.762Z"
   },
   {
    "duration": 106,
    "start_time": "2024-09-25T13:30:56.076Z"
   },
   {
    "duration": 7,
    "start_time": "2024-09-25T13:30:56.183Z"
   },
   {
    "duration": 71,
    "start_time": "2024-09-25T13:30:56.191Z"
   },
   {
    "duration": 83,
    "start_time": "2024-09-25T13:30:56.264Z"
   },
   {
    "duration": 13,
    "start_time": "2024-09-25T13:30:56.349Z"
   },
   {
    "duration": 15,
    "start_time": "2024-09-25T13:30:56.363Z"
   },
   {
    "duration": 8,
    "start_time": "2024-09-25T13:30:56.379Z"
   },
   {
    "duration": 9,
    "start_time": "2024-09-25T13:30:56.388Z"
   },
   {
    "duration": 309,
    "start_time": "2024-09-25T13:30:56.398Z"
   },
   {
    "duration": 4,
    "start_time": "2024-09-25T13:30:56.708Z"
   },
   {
    "duration": 26,
    "start_time": "2024-09-25T13:30:56.714Z"
   },
   {
    "duration": 7,
    "start_time": "2024-09-25T13:30:56.742Z"
   },
   {
    "duration": 259,
    "start_time": "2024-09-25T13:30:56.754Z"
   },
   {
    "duration": 9,
    "start_time": "2024-09-25T13:30:57.014Z"
   },
   {
    "duration": 12,
    "start_time": "2024-09-25T13:30:57.024Z"
   },
   {
    "duration": 209,
    "start_time": "2024-09-25T13:30:57.037Z"
   },
   {
    "duration": 10,
    "start_time": "2024-09-25T13:30:57.247Z"
   },
   {
    "duration": 13,
    "start_time": "2024-09-25T13:30:57.259Z"
   },
   {
    "duration": 248,
    "start_time": "2024-09-25T13:30:57.274Z"
   },
   {
    "duration": 8,
    "start_time": "2024-09-25T13:30:57.524Z"
   },
   {
    "duration": 14,
    "start_time": "2024-09-25T13:30:57.533Z"
   },
   {
    "duration": 244,
    "start_time": "2024-09-25T13:30:57.548Z"
   },
   {
    "duration": 16,
    "start_time": "2024-09-25T13:30:57.794Z"
   },
   {
    "duration": 107,
    "start_time": "2024-09-25T13:30:57.811Z"
   },
   {
    "duration": 146,
    "start_time": "2024-09-25T13:30:57.920Z"
   },
   {
    "duration": 8,
    "start_time": "2024-09-25T13:30:58.067Z"
   },
   {
    "duration": 210,
    "start_time": "2024-09-25T13:30:58.076Z"
   },
   {
    "duration": 131,
    "start_time": "2024-09-25T13:30:58.287Z"
   },
   {
    "duration": 7,
    "start_time": "2024-09-25T13:30:58.419Z"
   },
   {
    "duration": 198,
    "start_time": "2024-09-25T13:30:58.428Z"
   },
   {
    "duration": 8,
    "start_time": "2024-09-25T13:30:58.627Z"
   },
   {
    "duration": 21,
    "start_time": "2024-09-25T13:30:58.636Z"
   },
   {
    "duration": 317,
    "start_time": "2024-09-25T13:30:58.658Z"
   },
   {
    "duration": 8,
    "start_time": "2024-09-25T13:30:58.978Z"
   },
   {
    "duration": 258,
    "start_time": "2024-09-25T13:30:58.987Z"
   },
   {
    "duration": 8,
    "start_time": "2024-09-25T13:30:59.247Z"
   },
   {
    "duration": 252,
    "start_time": "2024-09-25T13:30:59.257Z"
   },
   {
    "duration": 168,
    "start_time": "2024-09-25T13:30:59.510Z"
   },
   {
    "duration": 145,
    "start_time": "2024-09-25T13:30:59.680Z"
   },
   {
    "duration": 161,
    "start_time": "2024-09-25T13:30:59.826Z"
   },
   {
    "duration": 135,
    "start_time": "2024-09-25T13:30:59.989Z"
   },
   {
    "duration": 137,
    "start_time": "2024-09-25T13:31:00.125Z"
   },
   {
    "duration": 211,
    "start_time": "2024-09-25T13:31:00.264Z"
   },
   {
    "duration": 131,
    "start_time": "2024-09-25T13:31:00.477Z"
   },
   {
    "duration": 152,
    "start_time": "2024-09-25T13:31:00.610Z"
   },
   {
    "duration": 21,
    "start_time": "2024-09-25T13:31:00.764Z"
   },
   {
    "duration": 29,
    "start_time": "2024-09-25T13:31:00.787Z"
   },
   {
    "duration": 93,
    "start_time": "2024-09-25T13:31:00.817Z"
   },
   {
    "duration": 0,
    "start_time": "2024-09-25T13:31:00.912Z"
   },
   {
    "duration": 3,
    "start_time": "2024-09-25T13:31:44.448Z"
   },
   {
    "duration": 6,
    "start_time": "2024-09-25T14:03:12.546Z"
   },
   {
    "duration": 6,
    "start_time": "2024-09-25T14:03:27.366Z"
   },
   {
    "duration": 2,
    "start_time": "2024-09-25T14:03:52.324Z"
   },
   {
    "duration": 4,
    "start_time": "2024-09-25T14:04:03.569Z"
   },
   {
    "duration": 170,
    "start_time": "2024-09-25T14:06:38.434Z"
   },
   {
    "duration": 223,
    "start_time": "2024-09-25T14:06:47.912Z"
   },
   {
    "duration": 240,
    "start_time": "2024-09-25T14:06:56.460Z"
   },
   {
    "duration": 236,
    "start_time": "2024-09-25T14:07:04.976Z"
   },
   {
    "duration": 7,
    "start_time": "2024-09-25T14:08:18.831Z"
   },
   {
    "duration": 653,
    "start_time": "2024-09-25T14:08:33.956Z"
   },
   {
    "duration": 13,
    "start_time": "2024-09-25T14:08:34.611Z"
   },
   {
    "duration": 117,
    "start_time": "2024-09-25T14:08:34.626Z"
   },
   {
    "duration": 1868,
    "start_time": "2024-09-25T14:08:34.745Z"
   },
   {
    "duration": 7,
    "start_time": "2024-09-25T14:08:36.615Z"
   },
   {
    "duration": 366,
    "start_time": "2024-09-25T14:08:36.624Z"
   },
   {
    "duration": 47,
    "start_time": "2024-09-25T14:08:36.992Z"
   },
   {
    "duration": 15,
    "start_time": "2024-09-25T14:08:37.040Z"
   },
   {
    "duration": 26,
    "start_time": "2024-09-25T14:08:37.056Z"
   },
   {
    "duration": 18,
    "start_time": "2024-09-25T14:08:37.084Z"
   },
   {
    "duration": 23,
    "start_time": "2024-09-25T14:08:37.103Z"
   },
   {
    "duration": 39,
    "start_time": "2024-09-25T14:08:37.127Z"
   },
   {
    "duration": 25,
    "start_time": "2024-09-25T14:08:37.168Z"
   },
   {
    "duration": 11,
    "start_time": "2024-09-25T14:08:37.195Z"
   },
   {
    "duration": 306,
    "start_time": "2024-09-25T14:08:37.207Z"
   },
   {
    "duration": 105,
    "start_time": "2024-09-25T14:08:37.514Z"
   },
   {
    "duration": 6,
    "start_time": "2024-09-25T14:08:37.620Z"
   },
   {
    "duration": 39,
    "start_time": "2024-09-25T14:08:37.627Z"
   },
   {
    "duration": 26,
    "start_time": "2024-09-25T14:08:37.668Z"
   },
   {
    "duration": 16,
    "start_time": "2024-09-25T14:08:37.696Z"
   },
   {
    "duration": 5,
    "start_time": "2024-09-25T14:08:37.713Z"
   },
   {
    "duration": 3,
    "start_time": "2024-09-25T14:08:37.720Z"
   },
   {
    "duration": 7,
    "start_time": "2024-09-25T14:08:37.724Z"
   },
   {
    "duration": 346,
    "start_time": "2024-09-25T14:08:37.732Z"
   },
   {
    "duration": 4,
    "start_time": "2024-09-25T14:08:38.079Z"
   },
   {
    "duration": 37,
    "start_time": "2024-09-25T14:08:38.084Z"
   },
   {
    "duration": 7,
    "start_time": "2024-09-25T14:08:38.122Z"
   },
   {
    "duration": 42,
    "start_time": "2024-09-25T14:08:38.132Z"
   },
   {
    "duration": 319,
    "start_time": "2024-09-25T14:08:38.175Z"
   },
   {
    "duration": 12,
    "start_time": "2024-09-25T14:08:38.495Z"
   },
   {
    "duration": 7,
    "start_time": "2024-09-25T14:08:38.508Z"
   },
   {
    "duration": 193,
    "start_time": "2024-09-25T14:08:38.516Z"
   },
   {
    "duration": 7,
    "start_time": "2024-09-25T14:08:38.711Z"
   },
   {
    "duration": 67,
    "start_time": "2024-09-25T14:08:38.719Z"
   },
   {
    "duration": 181,
    "start_time": "2024-09-25T14:08:38.787Z"
   },
   {
    "duration": 8,
    "start_time": "2024-09-25T14:08:38.969Z"
   },
   {
    "duration": 11,
    "start_time": "2024-09-25T14:08:38.978Z"
   },
   {
    "duration": 248,
    "start_time": "2024-09-25T14:08:38.990Z"
   },
   {
    "duration": 8,
    "start_time": "2024-09-25T14:08:39.240Z"
   },
   {
    "duration": 8,
    "start_time": "2024-09-25T14:08:39.249Z"
   },
   {
    "duration": 154,
    "start_time": "2024-09-25T14:08:39.259Z"
   },
   {
    "duration": 7,
    "start_time": "2024-09-25T14:08:39.415Z"
   },
   {
    "duration": 223,
    "start_time": "2024-09-25T14:08:39.423Z"
   },
   {
    "duration": 140,
    "start_time": "2024-09-25T14:08:39.648Z"
   },
   {
    "duration": 7,
    "start_time": "2024-09-25T14:08:39.790Z"
   },
   {
    "duration": 335,
    "start_time": "2024-09-25T14:08:39.806Z"
   },
   {
    "duration": 8,
    "start_time": "2024-09-25T14:08:40.142Z"
   },
   {
    "duration": 72,
    "start_time": "2024-09-25T14:08:40.151Z"
   },
   {
    "duration": 239,
    "start_time": "2024-09-25T14:08:40.225Z"
   },
   {
    "duration": 7,
    "start_time": "2024-09-25T14:08:40.466Z"
   },
   {
    "duration": 244,
    "start_time": "2024-09-25T14:08:40.475Z"
   },
   {
    "duration": 4,
    "start_time": "2024-09-25T14:08:40.721Z"
   },
   {
    "duration": 28,
    "start_time": "2024-09-25T14:08:40.727Z"
   },
   {
    "duration": 10,
    "start_time": "2024-09-25T14:08:40.757Z"
   },
   {
    "duration": 230,
    "start_time": "2024-09-25T14:08:40.769Z"
   },
   {
    "duration": 161,
    "start_time": "2024-09-25T14:08:41.006Z"
   },
   {
    "duration": 171,
    "start_time": "2024-09-25T14:08:41.169Z"
   },
   {
    "duration": 157,
    "start_time": "2024-09-25T14:08:41.342Z"
   },
   {
    "duration": 144,
    "start_time": "2024-09-25T14:08:41.500Z"
   },
   {
    "duration": 208,
    "start_time": "2024-09-25T14:08:41.646Z"
   },
   {
    "duration": 141,
    "start_time": "2024-09-25T14:08:41.855Z"
   },
   {
    "duration": 131,
    "start_time": "2024-09-25T14:08:41.997Z"
   },
   {
    "duration": 132,
    "start_time": "2024-09-25T14:08:42.130Z"
   },
   {
    "duration": 21,
    "start_time": "2024-09-25T14:08:42.263Z"
   },
   {
    "duration": 22,
    "start_time": "2024-09-25T14:08:42.285Z"
   },
   {
    "duration": 79,
    "start_time": "2024-09-25T14:08:42.308Z"
   },
   {
    "duration": 0,
    "start_time": "2024-09-25T14:08:42.389Z"
   },
   {
    "duration": 7,
    "start_time": "2024-09-25T14:09:38.455Z"
   },
   {
    "duration": 2,
    "start_time": "2024-09-25T14:10:03.197Z"
   },
   {
    "duration": 7,
    "start_time": "2024-09-25T14:10:07.322Z"
   },
   {
    "duration": 261,
    "start_time": "2024-09-25T14:10:17.586Z"
   },
   {
    "duration": 13,
    "start_time": "2024-09-25T14:10:17.849Z"
   },
   {
    "duration": 4,
    "start_time": "2024-09-25T14:10:17.863Z"
   },
   {
    "duration": 1690,
    "start_time": "2024-09-25T14:10:17.869Z"
   },
   {
    "duration": 8,
    "start_time": "2024-09-25T14:10:19.561Z"
   },
   {
    "duration": 70,
    "start_time": "2024-09-25T14:10:19.571Z"
   },
   {
    "duration": 11,
    "start_time": "2024-09-25T14:10:19.643Z"
   },
   {
    "duration": 8,
    "start_time": "2024-09-25T14:10:19.656Z"
   },
   {
    "duration": 10,
    "start_time": "2024-09-25T14:10:19.665Z"
   },
   {
    "duration": 21,
    "start_time": "2024-09-25T14:10:19.678Z"
   },
   {
    "duration": 22,
    "start_time": "2024-09-25T14:10:19.700Z"
   },
   {
    "duration": 8,
    "start_time": "2024-09-25T14:10:19.724Z"
   },
   {
    "duration": 36,
    "start_time": "2024-09-25T14:10:19.733Z"
   },
   {
    "duration": 5,
    "start_time": "2024-09-25T14:10:19.770Z"
   },
   {
    "duration": 312,
    "start_time": "2024-09-25T14:10:19.776Z"
   },
   {
    "duration": 103,
    "start_time": "2024-09-25T14:10:20.089Z"
   },
   {
    "duration": 6,
    "start_time": "2024-09-25T14:10:20.194Z"
   },
   {
    "duration": 13,
    "start_time": "2024-09-25T14:10:20.206Z"
   },
   {
    "duration": 6,
    "start_time": "2024-09-25T14:10:20.220Z"
   },
   {
    "duration": 12,
    "start_time": "2024-09-25T14:10:20.227Z"
   },
   {
    "duration": 11,
    "start_time": "2024-09-25T14:10:20.241Z"
   },
   {
    "duration": 31,
    "start_time": "2024-09-25T14:10:20.253Z"
   },
   {
    "duration": 14,
    "start_time": "2024-09-25T14:10:20.285Z"
   },
   {
    "duration": 325,
    "start_time": "2024-09-25T14:10:20.301Z"
   },
   {
    "duration": 3,
    "start_time": "2024-09-25T14:10:20.628Z"
   },
   {
    "duration": 35,
    "start_time": "2024-09-25T14:10:20.632Z"
   },
   {
    "duration": 7,
    "start_time": "2024-09-25T14:10:20.668Z"
   },
   {
    "duration": 97,
    "start_time": "2024-09-25T14:10:20.679Z"
   },
   {
    "duration": 293,
    "start_time": "2024-09-25T14:10:20.778Z"
   },
   {
    "duration": 2,
    "start_time": "2024-09-25T14:10:21.073Z"
   },
   {
    "duration": 31,
    "start_time": "2024-09-25T14:10:21.076Z"
   },
   {
    "duration": 196,
    "start_time": "2024-09-25T14:10:21.108Z"
   },
   {
    "duration": 9,
    "start_time": "2024-09-25T14:10:21.306Z"
   },
   {
    "duration": 13,
    "start_time": "2024-09-25T14:10:21.316Z"
   },
   {
    "duration": 197,
    "start_time": "2024-09-25T14:10:21.331Z"
   },
   {
    "duration": 10,
    "start_time": "2024-09-25T14:10:21.529Z"
   },
   {
    "duration": 10,
    "start_time": "2024-09-25T14:10:21.541Z"
   },
   {
    "duration": 264,
    "start_time": "2024-09-25T14:10:21.552Z"
   },
   {
    "duration": 8,
    "start_time": "2024-09-25T14:10:21.817Z"
   },
   {
    "duration": 12,
    "start_time": "2024-09-25T14:10:21.826Z"
   },
   {
    "duration": 267,
    "start_time": "2024-09-25T14:10:21.840Z"
   },
   {
    "duration": 7,
    "start_time": "2024-09-25T14:10:22.108Z"
   },
   {
    "duration": 211,
    "start_time": "2024-09-25T14:10:22.116Z"
   },
   {
    "duration": 135,
    "start_time": "2024-09-25T14:10:22.328Z"
   },
   {
    "duration": 7,
    "start_time": "2024-09-25T14:10:22.464Z"
   },
   {
    "duration": 223,
    "start_time": "2024-09-25T14:10:22.472Z"
   },
   {
    "duration": 11,
    "start_time": "2024-09-25T14:10:22.697Z"
   },
   {
    "duration": 62,
    "start_time": "2024-09-25T14:10:22.709Z"
   },
   {
    "duration": 254,
    "start_time": "2024-09-25T14:10:22.772Z"
   },
   {
    "duration": 8,
    "start_time": "2024-09-25T14:10:23.028Z"
   },
   {
    "duration": 275,
    "start_time": "2024-09-25T14:10:23.038Z"
   },
   {
    "duration": 4,
    "start_time": "2024-09-25T14:10:23.315Z"
   },
   {
    "duration": 7,
    "start_time": "2024-09-25T14:10:23.320Z"
   },
   {
    "duration": 47,
    "start_time": "2024-09-25T14:10:23.328Z"
   },
   {
    "duration": 270,
    "start_time": "2024-09-25T14:10:23.377Z"
   },
   {
    "duration": 150,
    "start_time": "2024-09-25T14:10:23.648Z"
   },
   {
    "duration": 150,
    "start_time": "2024-09-25T14:10:23.800Z"
   },
   {
    "duration": 159,
    "start_time": "2024-09-25T14:10:23.951Z"
   },
   {
    "duration": 135,
    "start_time": "2024-09-25T14:10:24.112Z"
   },
   {
    "duration": 141,
    "start_time": "2024-09-25T14:10:24.249Z"
   },
   {
    "duration": 138,
    "start_time": "2024-09-25T14:10:24.392Z"
   },
   {
    "duration": 130,
    "start_time": "2024-09-25T14:10:24.531Z"
   },
   {
    "duration": 140,
    "start_time": "2024-09-25T14:10:24.663Z"
   },
   {
    "duration": 22,
    "start_time": "2024-09-25T14:10:24.806Z"
   },
   {
    "duration": 10,
    "start_time": "2024-09-25T14:10:24.830Z"
   },
   {
    "duration": 17,
    "start_time": "2024-09-25T14:10:24.841Z"
   },
   {
    "duration": 0,
    "start_time": "2024-09-25T14:10:24.859Z"
   },
   {
    "duration": 6,
    "start_time": "2024-09-25T14:13:05.446Z"
   },
   {
    "duration": 664,
    "start_time": "2024-09-25T14:13:14.498Z"
   },
   {
    "duration": 18,
    "start_time": "2024-09-25T14:13:15.164Z"
   },
   {
    "duration": 7,
    "start_time": "2024-09-25T14:13:15.184Z"
   },
   {
    "duration": 1888,
    "start_time": "2024-09-25T14:13:15.193Z"
   },
   {
    "duration": 8,
    "start_time": "2024-09-25T14:13:17.083Z"
   },
   {
    "duration": 6,
    "start_time": "2024-09-25T14:13:17.092Z"
   },
   {
    "duration": 6,
    "start_time": "2024-09-25T14:13:17.099Z"
   },
   {
    "duration": 7,
    "start_time": "2024-09-25T14:13:17.106Z"
   },
   {
    "duration": 11,
    "start_time": "2024-09-25T14:13:17.115Z"
   },
   {
    "duration": 8,
    "start_time": "2024-09-25T14:13:17.129Z"
   },
   {
    "duration": 4,
    "start_time": "2024-09-25T14:13:17.138Z"
   },
   {
    "duration": 16,
    "start_time": "2024-09-25T14:13:17.144Z"
   },
   {
    "duration": 18,
    "start_time": "2024-09-25T14:13:17.161Z"
   },
   {
    "duration": 5,
    "start_time": "2024-09-25T14:13:17.181Z"
   },
   {
    "duration": 350,
    "start_time": "2024-09-25T14:13:17.187Z"
   },
   {
    "duration": 98,
    "start_time": "2024-09-25T14:13:17.539Z"
   },
   {
    "duration": 6,
    "start_time": "2024-09-25T14:13:17.639Z"
   },
   {
    "duration": 33,
    "start_time": "2024-09-25T14:13:17.646Z"
   },
   {
    "duration": 6,
    "start_time": "2024-09-25T14:13:17.681Z"
   },
   {
    "duration": 19,
    "start_time": "2024-09-25T14:13:17.688Z"
   },
   {
    "duration": 21,
    "start_time": "2024-09-25T14:13:17.708Z"
   },
   {
    "duration": 13,
    "start_time": "2024-09-25T14:13:17.731Z"
   },
   {
    "duration": 38,
    "start_time": "2024-09-25T14:13:17.746Z"
   },
   {
    "duration": 322,
    "start_time": "2024-09-25T14:13:17.785Z"
   },
   {
    "duration": 4,
    "start_time": "2024-09-25T14:13:18.108Z"
   },
   {
    "duration": 26,
    "start_time": "2024-09-25T14:13:18.113Z"
   },
   {
    "duration": 7,
    "start_time": "2024-09-25T14:13:18.140Z"
   },
   {
    "duration": 364,
    "start_time": "2024-09-25T14:13:18.151Z"
   },
   {
    "duration": 9,
    "start_time": "2024-09-25T14:13:18.516Z"
   },
   {
    "duration": 17,
    "start_time": "2024-09-25T14:13:18.526Z"
   },
   {
    "duration": 7,
    "start_time": "2024-09-25T14:13:18.544Z"
   },
   {
    "duration": 199,
    "start_time": "2024-09-25T14:13:18.553Z"
   },
   {
    "duration": 10,
    "start_time": "2024-09-25T14:13:18.753Z"
   },
   {
    "duration": 23,
    "start_time": "2024-09-25T14:13:18.765Z"
   },
   {
    "duration": 193,
    "start_time": "2024-09-25T14:13:18.789Z"
   },
   {
    "duration": 9,
    "start_time": "2024-09-25T14:13:18.984Z"
   },
   {
    "duration": 31,
    "start_time": "2024-09-25T14:13:18.994Z"
   },
   {
    "duration": 244,
    "start_time": "2024-09-25T14:13:19.026Z"
   },
   {
    "duration": 9,
    "start_time": "2024-09-25T14:13:19.271Z"
   },
   {
    "duration": 8,
    "start_time": "2024-09-25T14:13:19.282Z"
   },
   {
    "duration": 149,
    "start_time": "2024-09-25T14:13:19.292Z"
   },
   {
    "duration": 6,
    "start_time": "2024-09-25T14:13:19.443Z"
   },
   {
    "duration": 204,
    "start_time": "2024-09-25T14:13:19.451Z"
   },
   {
    "duration": 131,
    "start_time": "2024-09-25T14:13:19.657Z"
   },
   {
    "duration": 7,
    "start_time": "2024-09-25T14:13:19.789Z"
   },
   {
    "duration": 235,
    "start_time": "2024-09-25T14:13:19.806Z"
   },
   {
    "duration": 7,
    "start_time": "2024-09-25T14:13:20.042Z"
   },
   {
    "duration": 22,
    "start_time": "2024-09-25T14:13:20.050Z"
   },
   {
    "duration": 246,
    "start_time": "2024-09-25T14:13:20.073Z"
   },
   {
    "duration": 9,
    "start_time": "2024-09-25T14:13:20.320Z"
   },
   {
    "duration": 251,
    "start_time": "2024-09-25T14:13:20.331Z"
   },
   {
    "duration": 4,
    "start_time": "2024-09-25T14:13:20.584Z"
   },
   {
    "duration": 17,
    "start_time": "2024-09-25T14:13:20.589Z"
   },
   {
    "duration": 19,
    "start_time": "2024-09-25T14:13:20.608Z"
   },
   {
    "duration": 250,
    "start_time": "2024-09-25T14:13:20.628Z"
   },
   {
    "duration": 159,
    "start_time": "2024-09-25T14:13:20.879Z"
   },
   {
    "duration": 149,
    "start_time": "2024-09-25T14:13:21.040Z"
   },
   {
    "duration": 159,
    "start_time": "2024-09-25T14:13:21.191Z"
   },
   {
    "duration": 130,
    "start_time": "2024-09-25T14:13:21.351Z"
   },
   {
    "duration": 208,
    "start_time": "2024-09-25T14:13:21.483Z"
   },
   {
    "duration": 135,
    "start_time": "2024-09-25T14:13:21.693Z"
   },
   {
    "duration": 135,
    "start_time": "2024-09-25T14:13:21.830Z"
   },
   {
    "duration": 138,
    "start_time": "2024-09-25T14:13:21.966Z"
   },
   {
    "duration": 29,
    "start_time": "2024-09-25T14:13:22.106Z"
   },
   {
    "duration": 72,
    "start_time": "2024-09-25T14:13:22.137Z"
   },
   {
    "duration": 106,
    "start_time": "2024-09-25T14:13:22.210Z"
   },
   {
    "duration": 0,
    "start_time": "2024-09-25T14:13:22.318Z"
   },
   {
    "duration": 198,
    "start_time": "2024-09-25T14:14:31.733Z"
   },
   {
    "duration": 696,
    "start_time": "2024-09-25T14:14:40.028Z"
   },
   {
    "duration": 12,
    "start_time": "2024-09-25T14:14:40.726Z"
   },
   {
    "duration": 26,
    "start_time": "2024-09-25T14:14:40.740Z"
   },
   {
    "duration": 1862,
    "start_time": "2024-09-25T14:14:40.767Z"
   },
   {
    "duration": 11,
    "start_time": "2024-09-25T14:14:42.631Z"
   },
   {
    "duration": 12,
    "start_time": "2024-09-25T14:14:42.643Z"
   },
   {
    "duration": 5,
    "start_time": "2024-09-25T14:14:42.656Z"
   },
   {
    "duration": 7,
    "start_time": "2024-09-25T14:14:42.662Z"
   },
   {
    "duration": 12,
    "start_time": "2024-09-25T14:14:42.670Z"
   },
   {
    "duration": 88,
    "start_time": "2024-09-25T14:14:42.684Z"
   },
   {
    "duration": 5,
    "start_time": "2024-09-25T14:14:42.773Z"
   },
   {
    "duration": 17,
    "start_time": "2024-09-25T14:14:42.780Z"
   },
   {
    "duration": 23,
    "start_time": "2024-09-25T14:14:42.798Z"
   },
   {
    "duration": 3,
    "start_time": "2024-09-25T14:14:42.823Z"
   },
   {
    "duration": 301,
    "start_time": "2024-09-25T14:14:42.827Z"
   },
   {
    "duration": 106,
    "start_time": "2024-09-25T14:14:43.129Z"
   },
   {
    "duration": 7,
    "start_time": "2024-09-25T14:14:43.236Z"
   },
   {
    "duration": 20,
    "start_time": "2024-09-25T14:14:43.244Z"
   },
   {
    "duration": 6,
    "start_time": "2024-09-25T14:14:43.265Z"
   },
   {
    "duration": 5,
    "start_time": "2024-09-25T14:14:43.272Z"
   },
   {
    "duration": 4,
    "start_time": "2024-09-25T14:14:43.279Z"
   },
   {
    "duration": 23,
    "start_time": "2024-09-25T14:14:43.284Z"
   },
   {
    "duration": 6,
    "start_time": "2024-09-25T14:14:43.308Z"
   },
   {
    "duration": 323,
    "start_time": "2024-09-25T14:14:43.315Z"
   },
   {
    "duration": 4,
    "start_time": "2024-09-25T14:14:43.639Z"
   },
   {
    "duration": 54,
    "start_time": "2024-09-25T14:14:43.644Z"
   },
   {
    "duration": 7,
    "start_time": "2024-09-25T14:14:43.699Z"
   },
   {
    "duration": 326,
    "start_time": "2024-09-25T14:14:43.710Z"
   },
   {
    "duration": 11,
    "start_time": "2024-09-25T14:14:44.038Z"
   },
   {
    "duration": 75,
    "start_time": "2024-09-25T14:14:44.050Z"
   },
   {
    "duration": 200,
    "start_time": "2024-09-25T14:14:44.127Z"
   },
   {
    "duration": 8,
    "start_time": "2024-09-25T14:14:44.329Z"
   },
   {
    "duration": 173,
    "start_time": "2024-09-25T14:14:44.338Z"
   },
   {
    "duration": 8,
    "start_time": "2024-09-25T14:14:44.513Z"
   },
   {
    "duration": 27,
    "start_time": "2024-09-25T14:14:44.522Z"
   },
   {
    "duration": 250,
    "start_time": "2024-09-25T14:14:44.551Z"
   },
   {
    "duration": 8,
    "start_time": "2024-09-25T14:14:44.802Z"
   },
   {
    "duration": 17,
    "start_time": "2024-09-25T14:14:44.811Z"
   },
   {
    "duration": 144,
    "start_time": "2024-09-25T14:14:44.829Z"
   },
   {
    "duration": 7,
    "start_time": "2024-09-25T14:14:44.974Z"
   },
   {
    "duration": 216,
    "start_time": "2024-09-25T14:14:44.982Z"
   },
   {
    "duration": 140,
    "start_time": "2024-09-25T14:14:45.200Z"
   },
   {
    "duration": 7,
    "start_time": "2024-09-25T14:14:45.341Z"
   },
   {
    "duration": 268,
    "start_time": "2024-09-25T14:14:45.349Z"
   },
   {
    "duration": 7,
    "start_time": "2024-09-25T14:14:45.618Z"
   },
   {
    "duration": 62,
    "start_time": "2024-09-25T14:14:45.627Z"
   },
   {
    "duration": 274,
    "start_time": "2024-09-25T14:14:45.690Z"
   },
   {
    "duration": 7,
    "start_time": "2024-09-25T14:14:45.965Z"
   },
   {
    "duration": 347,
    "start_time": "2024-09-25T14:14:45.973Z"
   },
   {
    "duration": 3,
    "start_time": "2024-09-25T14:14:46.322Z"
   },
   {
    "duration": 6,
    "start_time": "2024-09-25T14:14:46.327Z"
   },
   {
    "duration": 20,
    "start_time": "2024-09-25T14:14:46.335Z"
   },
   {
    "duration": 251,
    "start_time": "2024-09-25T14:14:46.356Z"
   },
   {
    "duration": 154,
    "start_time": "2024-09-25T14:14:46.608Z"
   },
   {
    "duration": 149,
    "start_time": "2024-09-25T14:14:46.764Z"
   },
   {
    "duration": 158,
    "start_time": "2024-09-25T14:14:46.915Z"
   },
   {
    "duration": 149,
    "start_time": "2024-09-25T14:14:47.075Z"
   },
   {
    "duration": 213,
    "start_time": "2024-09-25T14:14:47.226Z"
   },
   {
    "duration": 150,
    "start_time": "2024-09-25T14:14:47.441Z"
   },
   {
    "duration": 135,
    "start_time": "2024-09-25T14:14:47.593Z"
   },
   {
    "duration": 141,
    "start_time": "2024-09-25T14:14:47.730Z"
   },
   {
    "duration": 22,
    "start_time": "2024-09-25T14:14:47.872Z"
   },
   {
    "duration": 16,
    "start_time": "2024-09-25T14:14:47.896Z"
   },
   {
    "duration": 79,
    "start_time": "2024-09-25T14:14:47.913Z"
   },
   {
    "duration": 0,
    "start_time": "2024-09-25T14:14:47.994Z"
   },
   {
    "duration": 188,
    "start_time": "2024-09-25T14:15:09.353Z"
   },
   {
    "duration": 186,
    "start_time": "2024-09-25T14:15:17.339Z"
   },
   {
    "duration": 219,
    "start_time": "2024-09-25T14:15:24.690Z"
   },
   {
    "duration": 47,
    "start_time": "2024-09-25T17:02:48.497Z"
   },
   {
    "duration": 773,
    "start_time": "2024-09-25T17:02:56.014Z"
   },
   {
    "duration": 15,
    "start_time": "2024-09-25T17:02:56.789Z"
   },
   {
    "duration": 20,
    "start_time": "2024-09-25T17:02:56.805Z"
   },
   {
    "duration": 2304,
    "start_time": "2024-09-25T17:02:56.827Z"
   },
   {
    "duration": 12,
    "start_time": "2024-09-25T17:02:59.133Z"
   },
   {
    "duration": 8,
    "start_time": "2024-09-25T17:02:59.146Z"
   },
   {
    "duration": 6,
    "start_time": "2024-09-25T17:02:59.156Z"
   },
   {
    "duration": 13,
    "start_time": "2024-09-25T17:02:59.164Z"
   },
   {
    "duration": 25,
    "start_time": "2024-09-25T17:02:59.179Z"
   },
   {
    "duration": 12,
    "start_time": "2024-09-25T17:02:59.207Z"
   },
   {
    "duration": 25,
    "start_time": "2024-09-25T17:02:59.222Z"
   },
   {
    "duration": 16,
    "start_time": "2024-09-25T17:02:59.248Z"
   },
   {
    "duration": 22,
    "start_time": "2024-09-25T17:02:59.265Z"
   },
   {
    "duration": 5,
    "start_time": "2024-09-25T17:02:59.288Z"
   },
   {
    "duration": 349,
    "start_time": "2024-09-25T17:02:59.295Z"
   },
   {
    "duration": 116,
    "start_time": "2024-09-25T17:02:59.645Z"
   },
   {
    "duration": 10,
    "start_time": "2024-09-25T17:02:59.762Z"
   },
   {
    "duration": 62,
    "start_time": "2024-09-25T17:02:59.773Z"
   },
   {
    "duration": 6,
    "start_time": "2024-09-25T17:02:59.837Z"
   },
   {
    "duration": 6,
    "start_time": "2024-09-25T17:02:59.844Z"
   },
   {
    "duration": 4,
    "start_time": "2024-09-25T17:02:59.852Z"
   },
   {
    "duration": 5,
    "start_time": "2024-09-25T17:02:59.858Z"
   },
   {
    "duration": 3,
    "start_time": "2024-09-25T17:02:59.864Z"
   },
   {
    "duration": 425,
    "start_time": "2024-09-25T17:02:59.869Z"
   },
   {
    "duration": 5,
    "start_time": "2024-09-25T17:03:00.296Z"
   },
   {
    "duration": 70,
    "start_time": "2024-09-25T17:03:00.302Z"
   },
   {
    "duration": 39,
    "start_time": "2024-09-25T17:03:00.374Z"
   },
   {
    "duration": 307,
    "start_time": "2024-09-25T17:03:00.417Z"
   },
   {
    "duration": 20,
    "start_time": "2024-09-25T17:03:00.726Z"
   },
   {
    "duration": 70,
    "start_time": "2024-09-25T17:03:00.747Z"
   },
   {
    "duration": 275,
    "start_time": "2024-09-25T17:03:00.819Z"
   },
   {
    "duration": 10,
    "start_time": "2024-09-25T17:03:01.096Z"
   },
   {
    "duration": 218,
    "start_time": "2024-09-25T17:03:01.108Z"
   },
   {
    "duration": 18,
    "start_time": "2024-09-25T17:03:01.327Z"
   },
   {
    "duration": 11,
    "start_time": "2024-09-25T17:03:01.346Z"
   },
   {
    "duration": 277,
    "start_time": "2024-09-25T17:03:01.359Z"
   },
   {
    "duration": 8,
    "start_time": "2024-09-25T17:03:01.638Z"
   },
   {
    "duration": 24,
    "start_time": "2024-09-25T17:03:01.647Z"
   },
   {
    "duration": 178,
    "start_time": "2024-09-25T17:03:01.673Z"
   },
   {
    "duration": 7,
    "start_time": "2024-09-25T17:03:01.853Z"
   },
   {
    "duration": 335,
    "start_time": "2024-09-25T17:03:01.862Z"
   },
   {
    "duration": 241,
    "start_time": "2024-09-25T17:03:02.198Z"
   },
   {
    "duration": 8,
    "start_time": "2024-09-25T17:03:02.442Z"
   },
   {
    "duration": 230,
    "start_time": "2024-09-25T17:03:02.452Z"
   },
   {
    "duration": 8,
    "start_time": "2024-09-25T17:03:02.683Z"
   },
   {
    "duration": 70,
    "start_time": "2024-09-25T17:03:02.692Z"
   },
   {
    "duration": 333,
    "start_time": "2024-09-25T17:03:02.763Z"
   },
   {
    "duration": 8,
    "start_time": "2024-09-25T17:03:03.098Z"
   },
   {
    "duration": 328,
    "start_time": "2024-09-25T17:03:03.108Z"
   },
   {
    "duration": 6,
    "start_time": "2024-09-25T17:03:03.438Z"
   },
   {
    "duration": 55,
    "start_time": "2024-09-25T17:03:03.445Z"
   },
   {
    "duration": 13,
    "start_time": "2024-09-25T17:03:03.502Z"
   },
   {
    "duration": 301,
    "start_time": "2024-09-25T17:03:03.517Z"
   },
   {
    "duration": 186,
    "start_time": "2024-09-25T17:03:03.820Z"
   },
   {
    "duration": 182,
    "start_time": "2024-09-25T17:03:04.009Z"
   },
   {
    "duration": 268,
    "start_time": "2024-09-25T17:03:04.193Z"
   },
   {
    "duration": 161,
    "start_time": "2024-09-25T17:03:04.463Z"
   },
   {
    "duration": 153,
    "start_time": "2024-09-25T17:03:04.626Z"
   },
   {
    "duration": 183,
    "start_time": "2024-09-25T17:03:04.780Z"
   },
   {
    "duration": 159,
    "start_time": "2024-09-25T17:03:04.965Z"
   },
   {
    "duration": 170,
    "start_time": "2024-09-25T17:03:05.126Z"
   },
   {
    "duration": 26,
    "start_time": "2024-09-25T17:03:05.298Z"
   },
   {
    "duration": 22,
    "start_time": "2024-09-25T17:03:05.325Z"
   },
   {
    "duration": 98,
    "start_time": "2024-09-25T17:03:05.348Z"
   },
   {
    "duration": 0,
    "start_time": "2024-09-25T17:03:05.448Z"
   },
   {
    "duration": 8,
    "start_time": "2024-09-25T17:04:24.050Z"
   },
   {
    "duration": 646,
    "start_time": "2024-09-25T17:04:42.486Z"
   },
   {
    "duration": 16,
    "start_time": "2024-09-25T17:04:43.133Z"
   },
   {
    "duration": 5,
    "start_time": "2024-09-25T17:04:43.151Z"
   },
   {
    "duration": 2145,
    "start_time": "2024-09-25T17:04:43.158Z"
   },
   {
    "duration": 10,
    "start_time": "2024-09-25T17:04:45.305Z"
   },
   {
    "duration": 9,
    "start_time": "2024-09-25T17:04:45.316Z"
   },
   {
    "duration": 20,
    "start_time": "2024-09-25T17:04:45.327Z"
   },
   {
    "duration": 10,
    "start_time": "2024-09-25T17:04:45.348Z"
   },
   {
    "duration": 15,
    "start_time": "2024-09-25T17:04:45.360Z"
   },
   {
    "duration": 9,
    "start_time": "2024-09-25T17:04:45.377Z"
   },
   {
    "duration": 15,
    "start_time": "2024-09-25T17:04:45.388Z"
   },
   {
    "duration": 104,
    "start_time": "2024-09-25T17:04:45.405Z"
   },
   {
    "duration": 14,
    "start_time": "2024-09-25T17:04:45.511Z"
   },
   {
    "duration": 7,
    "start_time": "2024-09-25T17:04:45.526Z"
   },
   {
    "duration": 331,
    "start_time": "2024-09-25T17:04:45.534Z"
   },
   {
    "duration": 102,
    "start_time": "2024-09-25T17:04:45.867Z"
   },
   {
    "duration": 8,
    "start_time": "2024-09-25T17:04:45.970Z"
   },
   {
    "duration": 12,
    "start_time": "2024-09-25T17:04:45.979Z"
   },
   {
    "duration": 7,
    "start_time": "2024-09-25T17:04:45.993Z"
   },
   {
    "duration": 6,
    "start_time": "2024-09-25T17:04:46.001Z"
   },
   {
    "duration": 34,
    "start_time": "2024-09-25T17:04:46.009Z"
   },
   {
    "duration": 5,
    "start_time": "2024-09-25T17:04:46.044Z"
   },
   {
    "duration": 3,
    "start_time": "2024-09-25T17:04:46.051Z"
   },
   {
    "duration": 323,
    "start_time": "2024-09-25T17:04:46.055Z"
   },
   {
    "duration": 4,
    "start_time": "2024-09-25T17:04:46.379Z"
   },
   {
    "duration": 26,
    "start_time": "2024-09-25T17:04:46.385Z"
   },
   {
    "duration": 9,
    "start_time": "2024-09-25T17:04:46.412Z"
   },
   {
    "duration": 9,
    "start_time": "2024-09-25T17:04:46.442Z"
   },
   {
    "duration": 374,
    "start_time": "2024-09-25T17:04:46.453Z"
   },
   {
    "duration": 18,
    "start_time": "2024-09-25T17:04:46.829Z"
   },
   {
    "duration": 9,
    "start_time": "2024-09-25T17:04:46.849Z"
   },
   {
    "duration": 257,
    "start_time": "2024-09-25T17:04:46.860Z"
   },
   {
    "duration": 10,
    "start_time": "2024-09-25T17:04:47.119Z"
   },
   {
    "duration": 197,
    "start_time": "2024-09-25T17:04:47.142Z"
   },
   {
    "duration": 10,
    "start_time": "2024-09-25T17:04:47.344Z"
   },
   {
    "duration": 12,
    "start_time": "2024-09-25T17:04:47.355Z"
   },
   {
    "duration": 288,
    "start_time": "2024-09-25T17:04:47.368Z"
   },
   {
    "duration": 8,
    "start_time": "2024-09-25T17:04:47.658Z"
   },
   {
    "duration": 17,
    "start_time": "2024-09-25T17:04:47.667Z"
   },
   {
    "duration": 168,
    "start_time": "2024-09-25T17:04:47.686Z"
   },
   {
    "duration": 9,
    "start_time": "2024-09-25T17:04:47.856Z"
   },
   {
    "duration": 250,
    "start_time": "2024-09-25T17:04:47.867Z"
   },
   {
    "duration": 156,
    "start_time": "2024-09-25T17:04:48.119Z"
   },
   {
    "duration": 9,
    "start_time": "2024-09-25T17:04:48.277Z"
   },
   {
    "duration": 319,
    "start_time": "2024-09-25T17:04:48.287Z"
   },
   {
    "duration": 7,
    "start_time": "2024-09-25T17:04:48.608Z"
   },
   {
    "duration": 11,
    "start_time": "2024-09-25T17:04:48.617Z"
   },
   {
    "duration": 318,
    "start_time": "2024-09-25T17:04:48.629Z"
   },
   {
    "duration": 8,
    "start_time": "2024-09-25T17:04:48.949Z"
   },
   {
    "duration": 301,
    "start_time": "2024-09-25T17:04:48.959Z"
   },
   {
    "duration": 4,
    "start_time": "2024-09-25T17:04:49.262Z"
   },
   {
    "duration": 10,
    "start_time": "2024-09-25T17:04:49.267Z"
   },
   {
    "duration": 9,
    "start_time": "2024-09-25T17:04:49.278Z"
   },
   {
    "duration": 301,
    "start_time": "2024-09-25T17:04:49.289Z"
   },
   {
    "duration": 175,
    "start_time": "2024-09-25T17:04:49.592Z"
   },
   {
    "duration": 190,
    "start_time": "2024-09-25T17:04:49.769Z"
   },
   {
    "duration": 206,
    "start_time": "2024-09-25T17:04:49.962Z"
   },
   {
    "duration": 167,
    "start_time": "2024-09-25T17:04:50.171Z"
   },
   {
    "duration": 249,
    "start_time": "2024-09-25T17:04:50.343Z"
   },
   {
    "duration": 161,
    "start_time": "2024-09-25T17:04:50.594Z"
   },
   {
    "duration": 157,
    "start_time": "2024-09-25T17:04:50.756Z"
   },
   {
    "duration": 166,
    "start_time": "2024-09-25T17:04:50.914Z"
   },
   {
    "duration": 25,
    "start_time": "2024-09-25T17:04:51.082Z"
   },
   {
    "duration": 27,
    "start_time": "2024-09-25T17:04:51.108Z"
   },
   {
    "duration": 111,
    "start_time": "2024-09-25T17:04:51.137Z"
   },
   {
    "duration": 0,
    "start_time": "2024-09-25T17:04:51.250Z"
   },
   {
    "duration": 7,
    "start_time": "2024-09-25T17:05:04.207Z"
   },
   {
    "duration": 293,
    "start_time": "2024-09-25T17:05:20.032Z"
   },
   {
    "duration": 7,
    "start_time": "2024-09-25T17:05:24.247Z"
   },
   {
    "duration": 210,
    "start_time": "2024-09-25T17:05:29.146Z"
   },
   {
    "duration": 14,
    "start_time": "2024-09-25T17:05:29.358Z"
   },
   {
    "duration": 17,
    "start_time": "2024-09-25T17:05:29.374Z"
   },
   {
    "duration": 2039,
    "start_time": "2024-09-25T17:05:29.393Z"
   },
   {
    "duration": 17,
    "start_time": "2024-09-25T17:05:31.435Z"
   },
   {
    "duration": 50,
    "start_time": "2024-09-25T17:05:31.454Z"
   },
   {
    "duration": 13,
    "start_time": "2024-09-25T17:05:31.507Z"
   },
   {
    "duration": 67,
    "start_time": "2024-09-25T17:05:31.522Z"
   },
   {
    "duration": 19,
    "start_time": "2024-09-25T17:05:31.591Z"
   },
   {
    "duration": 9,
    "start_time": "2024-09-25T17:05:31.612Z"
   },
   {
    "duration": 9,
    "start_time": "2024-09-25T17:05:31.623Z"
   },
   {
    "duration": 8,
    "start_time": "2024-09-25T17:05:31.633Z"
   },
   {
    "duration": 25,
    "start_time": "2024-09-25T17:05:31.643Z"
   },
   {
    "duration": 25,
    "start_time": "2024-09-25T17:05:31.670Z"
   },
   {
    "duration": 320,
    "start_time": "2024-09-25T17:05:31.697Z"
   },
   {
    "duration": 107,
    "start_time": "2024-09-25T17:05:32.019Z"
   },
   {
    "duration": 8,
    "start_time": "2024-09-25T17:05:32.127Z"
   },
   {
    "duration": 14,
    "start_time": "2024-09-25T17:05:32.142Z"
   },
   {
    "duration": 6,
    "start_time": "2024-09-25T17:05:32.158Z"
   },
   {
    "duration": 20,
    "start_time": "2024-09-25T17:05:32.165Z"
   },
   {
    "duration": 9,
    "start_time": "2024-09-25T17:05:32.187Z"
   },
   {
    "duration": 12,
    "start_time": "2024-09-25T17:05:32.197Z"
   },
   {
    "duration": 5,
    "start_time": "2024-09-25T17:05:32.211Z"
   },
   {
    "duration": 325,
    "start_time": "2024-09-25T17:05:32.217Z"
   },
   {
    "duration": 5,
    "start_time": "2024-09-25T17:05:32.544Z"
   },
   {
    "duration": 48,
    "start_time": "2024-09-25T17:05:32.551Z"
   },
   {
    "duration": 9,
    "start_time": "2024-09-25T17:05:32.602Z"
   },
   {
    "duration": 7,
    "start_time": "2024-09-25T17:05:32.616Z"
   },
   {
    "duration": 304,
    "start_time": "2024-09-25T17:05:32.625Z"
   },
   {
    "duration": 19,
    "start_time": "2024-09-25T17:05:32.930Z"
   },
   {
    "duration": 10,
    "start_time": "2024-09-25T17:05:32.951Z"
   },
   {
    "duration": 266,
    "start_time": "2024-09-25T17:05:32.963Z"
   },
   {
    "duration": 14,
    "start_time": "2024-09-25T17:05:33.230Z"
   },
   {
    "duration": 198,
    "start_time": "2024-09-25T17:05:33.245Z"
   },
   {
    "duration": 8,
    "start_time": "2024-09-25T17:05:33.444Z"
   },
   {
    "duration": 64,
    "start_time": "2024-09-25T17:05:33.453Z"
   },
   {
    "duration": 412,
    "start_time": "2024-09-25T17:05:33.519Z"
   },
   {
    "duration": 13,
    "start_time": "2024-09-25T17:05:33.933Z"
   },
   {
    "duration": 44,
    "start_time": "2024-09-25T17:05:33.948Z"
   },
   {
    "duration": 159,
    "start_time": "2024-09-25T17:05:33.994Z"
   },
   {
    "duration": 8,
    "start_time": "2024-09-25T17:05:34.155Z"
   },
   {
    "duration": 258,
    "start_time": "2024-09-25T17:05:34.165Z"
   },
   {
    "duration": 158,
    "start_time": "2024-09-25T17:05:34.425Z"
   },
   {
    "duration": 8,
    "start_time": "2024-09-25T17:05:34.584Z"
   },
   {
    "duration": 233,
    "start_time": "2024-09-25T17:05:34.594Z"
   },
   {
    "duration": 14,
    "start_time": "2024-09-25T17:05:34.829Z"
   },
   {
    "duration": 37,
    "start_time": "2024-09-25T17:05:34.844Z"
   },
   {
    "duration": 290,
    "start_time": "2024-09-25T17:05:34.883Z"
   },
   {
    "duration": 9,
    "start_time": "2024-09-25T17:05:35.175Z"
   },
   {
    "duration": 302,
    "start_time": "2024-09-25T17:05:35.186Z"
   },
   {
    "duration": 5,
    "start_time": "2024-09-25T17:05:35.489Z"
   },
   {
    "duration": 8,
    "start_time": "2024-09-25T17:05:35.495Z"
   },
   {
    "duration": 9,
    "start_time": "2024-09-25T17:05:35.505Z"
   },
   {
    "duration": 314,
    "start_time": "2024-09-25T17:05:35.516Z"
   },
   {
    "duration": 180,
    "start_time": "2024-09-25T17:05:35.832Z"
   },
   {
    "duration": 173,
    "start_time": "2024-09-25T17:05:36.014Z"
   },
   {
    "duration": 182,
    "start_time": "2024-09-25T17:05:36.189Z"
   },
   {
    "duration": 177,
    "start_time": "2024-09-25T17:05:36.372Z"
   },
   {
    "duration": 155,
    "start_time": "2024-09-25T17:05:36.551Z"
   },
   {
    "duration": 168,
    "start_time": "2024-09-25T17:05:36.708Z"
   },
   {
    "duration": 304,
    "start_time": "2024-09-25T17:05:36.878Z"
   },
   {
    "duration": 162,
    "start_time": "2024-09-25T17:05:37.184Z"
   },
   {
    "duration": 27,
    "start_time": "2024-09-25T17:05:37.348Z"
   },
   {
    "duration": 11,
    "start_time": "2024-09-25T17:05:37.377Z"
   },
   {
    "duration": 94,
    "start_time": "2024-09-25T17:05:37.389Z"
   },
   {
    "duration": 0,
    "start_time": "2024-09-25T17:05:37.485Z"
   },
   {
    "duration": 295,
    "start_time": "2024-09-25T17:06:03.998Z"
   },
   {
    "duration": 256,
    "start_time": "2024-09-25T17:07:00.013Z"
   },
   {
    "duration": 246,
    "start_time": "2024-09-25T17:07:15.694Z"
   },
   {
    "duration": 221,
    "start_time": "2024-09-25T17:07:26.537Z"
   },
   {
    "duration": 206,
    "start_time": "2024-09-25T17:09:20.023Z"
   },
   {
    "duration": 233,
    "start_time": "2024-09-25T17:09:37.512Z"
   },
   {
    "duration": 174,
    "start_time": "2024-09-25T17:09:46.162Z"
   },
   {
    "duration": 225,
    "start_time": "2024-09-25T17:09:52.256Z"
   },
   {
    "duration": 9,
    "start_time": "2024-09-25T17:15:02.521Z"
   },
   {
    "duration": 713,
    "start_time": "2024-09-25T17:15:14.728Z"
   },
   {
    "duration": 14,
    "start_time": "2024-09-25T17:15:15.443Z"
   },
   {
    "duration": 75,
    "start_time": "2024-09-25T17:15:15.458Z"
   },
   {
    "duration": 2150,
    "start_time": "2024-09-25T17:15:15.535Z"
   },
   {
    "duration": 10,
    "start_time": "2024-09-25T17:15:17.687Z"
   },
   {
    "duration": 6,
    "start_time": "2024-09-25T17:15:17.699Z"
   },
   {
    "duration": 15,
    "start_time": "2024-09-25T17:15:17.707Z"
   },
   {
    "duration": 9,
    "start_time": "2024-09-25T17:15:17.724Z"
   },
   {
    "duration": 28,
    "start_time": "2024-09-25T17:15:17.735Z"
   },
   {
    "duration": 10,
    "start_time": "2024-09-25T17:15:17.765Z"
   },
   {
    "duration": 5,
    "start_time": "2024-09-25T17:15:17.777Z"
   },
   {
    "duration": 12,
    "start_time": "2024-09-25T17:15:17.783Z"
   },
   {
    "duration": 12,
    "start_time": "2024-09-25T17:15:17.797Z"
   },
   {
    "duration": 4,
    "start_time": "2024-09-25T17:15:17.811Z"
   },
   {
    "duration": 460,
    "start_time": "2024-09-25T17:15:17.817Z"
   },
   {
    "duration": 108,
    "start_time": "2024-09-25T17:15:18.279Z"
   },
   {
    "duration": 8,
    "start_time": "2024-09-25T17:15:18.388Z"
   },
   {
    "duration": 32,
    "start_time": "2024-09-25T17:15:18.397Z"
   },
   {
    "duration": 7,
    "start_time": "2024-09-25T17:15:18.431Z"
   },
   {
    "duration": 8,
    "start_time": "2024-09-25T17:15:18.439Z"
   },
   {
    "duration": 9,
    "start_time": "2024-09-25T17:15:18.448Z"
   },
   {
    "duration": 12,
    "start_time": "2024-09-25T17:15:18.458Z"
   },
   {
    "duration": 3,
    "start_time": "2024-09-25T17:15:18.471Z"
   },
   {
    "duration": 332,
    "start_time": "2024-09-25T17:15:18.476Z"
   },
   {
    "duration": 4,
    "start_time": "2024-09-25T17:15:18.810Z"
   },
   {
    "duration": 39,
    "start_time": "2024-09-25T17:15:18.815Z"
   },
   {
    "duration": 9,
    "start_time": "2024-09-25T17:15:18.856Z"
   },
   {
    "duration": 6,
    "start_time": "2024-09-25T17:15:18.870Z"
   },
   {
    "duration": 375,
    "start_time": "2024-09-25T17:15:18.878Z"
   },
   {
    "duration": 11,
    "start_time": "2024-09-25T17:15:19.255Z"
   },
   {
    "duration": 14,
    "start_time": "2024-09-25T17:15:19.267Z"
   },
   {
    "duration": 241,
    "start_time": "2024-09-25T17:15:19.282Z"
   },
   {
    "duration": 18,
    "start_time": "2024-09-25T17:15:19.525Z"
   },
   {
    "duration": 184,
    "start_time": "2024-09-25T17:15:19.545Z"
   },
   {
    "duration": 16,
    "start_time": "2024-09-25T17:15:19.730Z"
   },
   {
    "duration": 8,
    "start_time": "2024-09-25T17:15:19.747Z"
   },
   {
    "duration": 307,
    "start_time": "2024-09-25T17:15:19.756Z"
   },
   {
    "duration": 8,
    "start_time": "2024-09-25T17:15:20.065Z"
   },
   {
    "duration": 7,
    "start_time": "2024-09-25T17:15:20.075Z"
   },
   {
    "duration": 183,
    "start_time": "2024-09-25T17:15:20.084Z"
   },
   {
    "duration": 10,
    "start_time": "2024-09-25T17:15:20.268Z"
   },
   {
    "duration": 265,
    "start_time": "2024-09-25T17:15:20.279Z"
   },
   {
    "duration": 146,
    "start_time": "2024-09-25T17:15:20.546Z"
   },
   {
    "duration": 7,
    "start_time": "2024-09-25T17:15:20.694Z"
   },
   {
    "duration": 321,
    "start_time": "2024-09-25T17:15:20.703Z"
   },
   {
    "duration": 7,
    "start_time": "2024-09-25T17:15:21.026Z"
   },
   {
    "duration": 9,
    "start_time": "2024-09-25T17:15:21.042Z"
   },
   {
    "duration": 298,
    "start_time": "2024-09-25T17:15:21.052Z"
   },
   {
    "duration": 9,
    "start_time": "2024-09-25T17:15:21.352Z"
   },
   {
    "duration": 300,
    "start_time": "2024-09-25T17:15:21.362Z"
   },
   {
    "duration": 4,
    "start_time": "2024-09-25T17:15:21.663Z"
   },
   {
    "duration": 5,
    "start_time": "2024-09-25T17:15:21.669Z"
   },
   {
    "duration": 9,
    "start_time": "2024-09-25T17:15:21.675Z"
   },
   {
    "duration": 309,
    "start_time": "2024-09-25T17:15:21.685Z"
   },
   {
    "duration": 174,
    "start_time": "2024-09-25T17:15:21.996Z"
   },
   {
    "duration": 162,
    "start_time": "2024-09-25T17:15:22.171Z"
   },
   {
    "duration": 181,
    "start_time": "2024-09-25T17:15:22.335Z"
   },
   {
    "duration": 161,
    "start_time": "2024-09-25T17:15:22.518Z"
   },
   {
    "duration": 262,
    "start_time": "2024-09-25T17:15:22.681Z"
   },
   {
    "duration": 185,
    "start_time": "2024-09-25T17:15:22.945Z"
   },
   {
    "duration": 167,
    "start_time": "2024-09-25T17:15:23.132Z"
   },
   {
    "duration": 158,
    "start_time": "2024-09-25T17:15:23.301Z"
   },
   {
    "duration": 24,
    "start_time": "2024-09-25T17:15:23.461Z"
   },
   {
    "duration": 68,
    "start_time": "2024-09-25T17:15:23.486Z"
   },
   {
    "duration": 88,
    "start_time": "2024-09-25T17:15:23.555Z"
   },
   {
    "duration": 0,
    "start_time": "2024-09-25T17:15:23.645Z"
   },
   {
    "duration": 226,
    "start_time": "2024-09-25T17:16:01.691Z"
   },
   {
    "duration": 206,
    "start_time": "2024-09-25T17:16:14.379Z"
   },
   {
    "duration": 186,
    "start_time": "2024-09-25T17:16:22.331Z"
   },
   {
    "duration": 192,
    "start_time": "2024-09-25T17:16:34.205Z"
   },
   {
    "duration": 3,
    "start_time": "2024-09-25T17:17:05.619Z"
   },
   {
    "duration": 8,
    "start_time": "2024-09-25T17:17:39.985Z"
   },
   {
    "duration": 670,
    "start_time": "2024-09-25T17:17:48.217Z"
   },
   {
    "duration": 16,
    "start_time": "2024-09-25T17:17:48.888Z"
   },
   {
    "duration": 4,
    "start_time": "2024-09-25T17:17:48.905Z"
   },
   {
    "duration": 2268,
    "start_time": "2024-09-25T17:17:48.911Z"
   },
   {
    "duration": 9,
    "start_time": "2024-09-25T17:17:51.180Z"
   },
   {
    "duration": 7,
    "start_time": "2024-09-25T17:17:51.191Z"
   },
   {
    "duration": 6,
    "start_time": "2024-09-25T17:17:51.199Z"
   },
   {
    "duration": 8,
    "start_time": "2024-09-25T17:17:51.206Z"
   },
   {
    "duration": 14,
    "start_time": "2024-09-25T17:17:51.215Z"
   },
   {
    "duration": 16,
    "start_time": "2024-09-25T17:17:51.232Z"
   },
   {
    "duration": 5,
    "start_time": "2024-09-25T17:17:51.250Z"
   },
   {
    "duration": 22,
    "start_time": "2024-09-25T17:17:51.257Z"
   },
   {
    "duration": 42,
    "start_time": "2024-09-25T17:17:51.281Z"
   },
   {
    "duration": 5,
    "start_time": "2024-09-25T17:17:51.324Z"
   },
   {
    "duration": 321,
    "start_time": "2024-09-25T17:17:51.330Z"
   },
   {
    "duration": 106,
    "start_time": "2024-09-25T17:17:51.653Z"
   },
   {
    "duration": 7,
    "start_time": "2024-09-25T17:17:51.761Z"
   },
   {
    "duration": 34,
    "start_time": "2024-09-25T17:17:51.769Z"
   },
   {
    "duration": 7,
    "start_time": "2024-09-25T17:17:51.804Z"
   },
   {
    "duration": 7,
    "start_time": "2024-09-25T17:17:51.812Z"
   },
   {
    "duration": 64,
    "start_time": "2024-09-25T17:17:51.821Z"
   },
   {
    "duration": 12,
    "start_time": "2024-09-25T17:17:51.887Z"
   },
   {
    "duration": 17,
    "start_time": "2024-09-25T17:17:51.900Z"
   },
   {
    "duration": 349,
    "start_time": "2024-09-25T17:17:51.919Z"
   },
   {
    "duration": 5,
    "start_time": "2024-09-25T17:17:52.270Z"
   },
   {
    "duration": 26,
    "start_time": "2024-09-25T17:17:52.276Z"
   },
   {
    "duration": 9,
    "start_time": "2024-09-25T17:17:52.303Z"
   },
   {
    "duration": 27,
    "start_time": "2024-09-25T17:17:52.317Z"
   },
   {
    "duration": 357,
    "start_time": "2024-09-25T17:17:52.346Z"
   },
   {
    "duration": 10,
    "start_time": "2024-09-25T17:17:52.704Z"
   },
   {
    "duration": 8,
    "start_time": "2024-09-25T17:17:52.715Z"
   },
   {
    "duration": 250,
    "start_time": "2024-09-25T17:17:52.725Z"
   },
   {
    "duration": 9,
    "start_time": "2024-09-25T17:17:52.976Z"
   },
   {
    "duration": 7,
    "start_time": "2024-09-25T17:17:52.986Z"
   },
   {
    "duration": 202,
    "start_time": "2024-09-25T17:17:52.995Z"
   },
   {
    "duration": 2,
    "start_time": "2024-09-25T17:17:53.199Z"
   },
   {
    "duration": 17,
    "start_time": "2024-09-25T17:17:53.203Z"
   },
   {
    "duration": 306,
    "start_time": "2024-09-25T17:17:53.221Z"
   },
   {
    "duration": 15,
    "start_time": "2024-09-25T17:17:53.528Z"
   },
   {
    "duration": 8,
    "start_time": "2024-09-25T17:17:53.544Z"
   },
   {
    "duration": 171,
    "start_time": "2024-09-25T17:17:53.554Z"
   },
   {
    "duration": 8,
    "start_time": "2024-09-25T17:17:53.726Z"
   },
   {
    "duration": 224,
    "start_time": "2024-09-25T17:17:53.743Z"
   },
   {
    "duration": 157,
    "start_time": "2024-09-25T17:17:53.969Z"
   },
   {
    "duration": 16,
    "start_time": "2024-09-25T17:17:54.128Z"
   },
   {
    "duration": 299,
    "start_time": "2024-09-25T17:17:54.146Z"
   },
   {
    "duration": 8,
    "start_time": "2024-09-25T17:17:54.446Z"
   },
   {
    "duration": 9,
    "start_time": "2024-09-25T17:17:54.455Z"
   },
   {
    "duration": 308,
    "start_time": "2024-09-25T17:17:54.466Z"
   },
   {
    "duration": 9,
    "start_time": "2024-09-25T17:17:54.775Z"
   },
   {
    "duration": 322,
    "start_time": "2024-09-25T17:17:54.786Z"
   },
   {
    "duration": 3,
    "start_time": "2024-09-25T17:17:55.110Z"
   },
   {
    "duration": 5,
    "start_time": "2024-09-25T17:17:55.115Z"
   },
   {
    "duration": 25,
    "start_time": "2024-09-25T17:17:55.121Z"
   },
   {
    "duration": 290,
    "start_time": "2024-09-25T17:17:55.148Z"
   },
   {
    "duration": 173,
    "start_time": "2024-09-25T17:17:55.442Z"
   },
   {
    "duration": 171,
    "start_time": "2024-09-25T17:17:55.616Z"
   },
   {
    "duration": 166,
    "start_time": "2024-09-25T17:17:55.789Z"
   },
   {
    "duration": 163,
    "start_time": "2024-09-25T17:17:55.957Z"
   },
   {
    "duration": 254,
    "start_time": "2024-09-25T17:17:56.121Z"
   },
   {
    "duration": 171,
    "start_time": "2024-09-25T17:17:56.377Z"
   },
   {
    "duration": 153,
    "start_time": "2024-09-25T17:17:56.550Z"
   },
   {
    "duration": 166,
    "start_time": "2024-09-25T17:17:56.705Z"
   },
   {
    "duration": 24,
    "start_time": "2024-09-25T17:17:56.873Z"
   },
   {
    "duration": 13,
    "start_time": "2024-09-25T17:17:56.899Z"
   },
   {
    "duration": 102,
    "start_time": "2024-09-25T17:17:56.914Z"
   },
   {
    "duration": 0,
    "start_time": "2024-09-25T17:17:57.018Z"
   },
   {
    "duration": 629,
    "start_time": "2024-09-25T17:18:34.855Z"
   },
   {
    "duration": 16,
    "start_time": "2024-09-25T17:18:35.485Z"
   },
   {
    "duration": 61,
    "start_time": "2024-09-25T17:18:35.502Z"
   },
   {
    "duration": 2134,
    "start_time": "2024-09-25T17:18:35.565Z"
   },
   {
    "duration": 16,
    "start_time": "2024-09-25T17:18:37.701Z"
   },
   {
    "duration": 8,
    "start_time": "2024-09-25T17:18:37.718Z"
   },
   {
    "duration": 16,
    "start_time": "2024-09-25T17:18:37.728Z"
   },
   {
    "duration": 20,
    "start_time": "2024-09-25T17:18:37.746Z"
   },
   {
    "duration": 36,
    "start_time": "2024-09-25T17:18:37.768Z"
   },
   {
    "duration": 10,
    "start_time": "2024-09-25T17:18:37.807Z"
   },
   {
    "duration": 15,
    "start_time": "2024-09-25T17:18:37.819Z"
   },
   {
    "duration": 69,
    "start_time": "2024-09-25T17:18:37.836Z"
   },
   {
    "duration": 10,
    "start_time": "2024-09-25T17:18:37.907Z"
   },
   {
    "duration": 10,
    "start_time": "2024-09-25T17:18:37.919Z"
   },
   {
    "duration": 398,
    "start_time": "2024-09-25T17:18:37.931Z"
   },
   {
    "duration": 102,
    "start_time": "2024-09-25T17:18:38.331Z"
   },
   {
    "duration": 8,
    "start_time": "2024-09-25T17:18:38.435Z"
   },
   {
    "duration": 20,
    "start_time": "2024-09-25T17:18:38.445Z"
   },
   {
    "duration": 7,
    "start_time": "2024-09-25T17:18:38.466Z"
   },
   {
    "duration": 12,
    "start_time": "2024-09-25T17:18:38.475Z"
   },
   {
    "duration": 5,
    "start_time": "2024-09-25T17:18:38.489Z"
   },
   {
    "duration": 16,
    "start_time": "2024-09-25T17:18:38.495Z"
   },
   {
    "duration": 4,
    "start_time": "2024-09-25T17:18:38.512Z"
   },
   {
    "duration": 356,
    "start_time": "2024-09-25T17:18:38.517Z"
   },
   {
    "duration": 4,
    "start_time": "2024-09-25T17:18:38.874Z"
   },
   {
    "duration": 65,
    "start_time": "2024-09-25T17:18:38.880Z"
   },
   {
    "duration": 25,
    "start_time": "2024-09-25T17:18:38.947Z"
   },
   {
    "duration": 17,
    "start_time": "2024-09-25T17:18:38.976Z"
   },
   {
    "duration": 371,
    "start_time": "2024-09-25T17:18:38.995Z"
   },
   {
    "duration": 10,
    "start_time": "2024-09-25T17:18:39.368Z"
   },
   {
    "duration": 9,
    "start_time": "2024-09-25T17:18:39.380Z"
   },
   {
    "duration": 248,
    "start_time": "2024-09-25T17:18:39.390Z"
   },
   {
    "duration": 8,
    "start_time": "2024-09-25T17:18:39.642Z"
   },
   {
    "duration": 6,
    "start_time": "2024-09-25T17:18:39.652Z"
   },
   {
    "duration": 204,
    "start_time": "2024-09-25T17:18:39.660Z"
   },
   {
    "duration": 3,
    "start_time": "2024-09-25T17:18:39.866Z"
   },
   {
    "duration": 42,
    "start_time": "2024-09-25T17:18:39.870Z"
   },
   {
    "duration": 286,
    "start_time": "2024-09-25T17:18:39.914Z"
   },
   {
    "duration": 8,
    "start_time": "2024-09-25T17:18:40.201Z"
   },
   {
    "duration": 8,
    "start_time": "2024-09-25T17:18:40.211Z"
   },
   {
    "duration": 178,
    "start_time": "2024-09-25T17:18:40.220Z"
   },
   {
    "duration": 9,
    "start_time": "2024-09-25T17:18:40.399Z"
   },
   {
    "duration": 253,
    "start_time": "2024-09-25T17:18:40.409Z"
   },
   {
    "duration": 165,
    "start_time": "2024-09-25T17:18:40.663Z"
   },
   {
    "duration": 13,
    "start_time": "2024-09-25T17:18:40.830Z"
   },
   {
    "duration": 292,
    "start_time": "2024-09-25T17:18:40.845Z"
   },
   {
    "duration": 9,
    "start_time": "2024-09-25T17:18:41.142Z"
   },
   {
    "duration": 20,
    "start_time": "2024-09-25T17:18:41.152Z"
   },
   {
    "duration": 285,
    "start_time": "2024-09-25T17:18:41.174Z"
   },
   {
    "duration": 9,
    "start_time": "2024-09-25T17:18:41.460Z"
   },
   {
    "duration": 345,
    "start_time": "2024-09-25T17:18:41.470Z"
   },
   {
    "duration": 4,
    "start_time": "2024-09-25T17:18:41.817Z"
   },
   {
    "duration": 105,
    "start_time": "2024-09-25T17:18:41.822Z"
   },
   {
    "duration": 89,
    "start_time": "2024-09-25T17:18:41.928Z"
   },
   {
    "duration": 304,
    "start_time": "2024-09-25T17:18:42.019Z"
   },
   {
    "duration": 177,
    "start_time": "2024-09-25T17:18:42.324Z"
   },
   {
    "duration": 173,
    "start_time": "2024-09-25T17:18:42.502Z"
   },
   {
    "duration": 171,
    "start_time": "2024-09-25T17:18:42.676Z"
   },
   {
    "duration": 163,
    "start_time": "2024-09-25T17:18:42.849Z"
   },
   {
    "duration": 255,
    "start_time": "2024-09-25T17:18:43.014Z"
   },
   {
    "duration": 157,
    "start_time": "2024-09-25T17:18:43.270Z"
   },
   {
    "duration": 149,
    "start_time": "2024-09-25T17:18:43.429Z"
   },
   {
    "duration": 169,
    "start_time": "2024-09-25T17:18:43.580Z"
   },
   {
    "duration": 26,
    "start_time": "2024-09-25T17:18:43.750Z"
   },
   {
    "duration": 11,
    "start_time": "2024-09-25T17:18:43.777Z"
   },
   {
    "duration": 100,
    "start_time": "2024-09-25T17:18:43.789Z"
   },
   {
    "duration": 0,
    "start_time": "2024-09-25T17:18:43.891Z"
   },
   {
    "duration": 8,
    "start_time": "2024-09-25T17:19:17.282Z"
   },
   {
    "duration": 9,
    "start_time": "2024-09-25T17:19:33.536Z"
   },
   {
    "duration": 651,
    "start_time": "2024-09-25T17:20:50.509Z"
   },
   {
    "duration": 17,
    "start_time": "2024-09-25T17:20:51.162Z"
   },
   {
    "duration": 5,
    "start_time": "2024-09-25T17:20:51.181Z"
   },
   {
    "duration": 2211,
    "start_time": "2024-09-25T17:20:51.188Z"
   },
   {
    "duration": 11,
    "start_time": "2024-09-25T17:20:53.401Z"
   },
   {
    "duration": 6,
    "start_time": "2024-09-25T17:20:53.414Z"
   },
   {
    "duration": 6,
    "start_time": "2024-09-25T17:20:53.421Z"
   },
   {
    "duration": 9,
    "start_time": "2024-09-25T17:20:53.429Z"
   },
   {
    "duration": 19,
    "start_time": "2024-09-25T17:20:53.439Z"
   },
   {
    "duration": 10,
    "start_time": "2024-09-25T17:20:53.462Z"
   },
   {
    "duration": 85,
    "start_time": "2024-09-25T17:20:53.474Z"
   },
   {
    "duration": 18,
    "start_time": "2024-09-25T17:20:53.560Z"
   },
   {
    "duration": 21,
    "start_time": "2024-09-25T17:20:53.579Z"
   },
   {
    "duration": 4,
    "start_time": "2024-09-25T17:20:53.602Z"
   },
   {
    "duration": 317,
    "start_time": "2024-09-25T17:20:53.608Z"
   },
   {
    "duration": 124,
    "start_time": "2024-09-25T17:20:53.926Z"
   },
   {
    "duration": 9,
    "start_time": "2024-09-25T17:20:54.051Z"
   },
   {
    "duration": 22,
    "start_time": "2024-09-25T17:20:54.062Z"
   },
   {
    "duration": 6,
    "start_time": "2024-09-25T17:20:54.086Z"
   },
   {
    "duration": 7,
    "start_time": "2024-09-25T17:20:54.094Z"
   },
   {
    "duration": 5,
    "start_time": "2024-09-25T17:20:54.103Z"
   },
   {
    "duration": 6,
    "start_time": "2024-09-25T17:20:54.110Z"
   },
   {
    "duration": 25,
    "start_time": "2024-09-25T17:20:54.118Z"
   },
   {
    "duration": 324,
    "start_time": "2024-09-25T17:20:54.144Z"
   },
   {
    "duration": 5,
    "start_time": "2024-09-25T17:20:54.470Z"
   },
   {
    "duration": 31,
    "start_time": "2024-09-25T17:20:54.477Z"
   },
   {
    "duration": 9,
    "start_time": "2024-09-25T17:20:54.510Z"
   },
   {
    "duration": 21,
    "start_time": "2024-09-25T17:20:54.524Z"
   },
   {
    "duration": 386,
    "start_time": "2024-09-25T17:20:54.547Z"
   },
   {
    "duration": 13,
    "start_time": "2024-09-25T17:20:54.935Z"
   },
   {
    "duration": 18,
    "start_time": "2024-09-25T17:20:54.950Z"
   },
   {
    "duration": 243,
    "start_time": "2024-09-25T17:20:54.970Z"
   },
   {
    "duration": 9,
    "start_time": "2024-09-25T17:20:55.214Z"
   },
   {
    "duration": 188,
    "start_time": "2024-09-25T17:20:55.224Z"
   },
   {
    "duration": 9,
    "start_time": "2024-09-25T17:20:55.414Z"
   },
   {
    "duration": 19,
    "start_time": "2024-09-25T17:20:55.424Z"
   },
   {
    "duration": 280,
    "start_time": "2024-09-25T17:20:55.445Z"
   },
   {
    "duration": 18,
    "start_time": "2024-09-25T17:20:55.726Z"
   },
   {
    "duration": 8,
    "start_time": "2024-09-25T17:20:55.745Z"
   },
   {
    "duration": 173,
    "start_time": "2024-09-25T17:20:55.755Z"
   },
   {
    "duration": 17,
    "start_time": "2024-09-25T17:20:55.930Z"
   },
   {
    "duration": 298,
    "start_time": "2024-09-25T17:20:55.948Z"
   },
   {
    "duration": 150,
    "start_time": "2024-09-25T17:20:56.248Z"
   },
   {
    "duration": 8,
    "start_time": "2024-09-25T17:20:56.399Z"
   },
   {
    "duration": 327,
    "start_time": "2024-09-25T17:20:56.409Z"
   },
   {
    "duration": 10,
    "start_time": "2024-09-25T17:20:56.737Z"
   },
   {
    "duration": 105,
    "start_time": "2024-09-25T17:20:56.748Z"
   },
   {
    "duration": 286,
    "start_time": "2024-09-25T17:20:56.854Z"
   },
   {
    "duration": 9,
    "start_time": "2024-09-25T17:20:57.142Z"
   },
   {
    "duration": 309,
    "start_time": "2024-09-25T17:20:57.153Z"
   },
   {
    "duration": 4,
    "start_time": "2024-09-25T17:20:57.464Z"
   },
   {
    "duration": 91,
    "start_time": "2024-09-25T17:20:57.469Z"
   },
   {
    "duration": 36,
    "start_time": "2024-09-25T17:20:57.562Z"
   },
   {
    "duration": 285,
    "start_time": "2024-09-25T17:20:57.600Z"
   },
   {
    "duration": 176,
    "start_time": "2024-09-25T17:20:57.887Z"
   },
   {
    "duration": 173,
    "start_time": "2024-09-25T17:20:58.065Z"
   },
   {
    "duration": 180,
    "start_time": "2024-09-25T17:20:58.239Z"
   },
   {
    "duration": 172,
    "start_time": "2024-09-25T17:20:58.421Z"
   },
   {
    "duration": 256,
    "start_time": "2024-09-25T17:20:58.594Z"
   },
   {
    "duration": 175,
    "start_time": "2024-09-25T17:20:58.852Z"
   },
   {
    "duration": 151,
    "start_time": "2024-09-25T17:20:59.028Z"
   },
   {
    "duration": 163,
    "start_time": "2024-09-25T17:20:59.181Z"
   },
   {
    "duration": 26,
    "start_time": "2024-09-25T17:20:59.346Z"
   },
   {
    "duration": 10,
    "start_time": "2024-09-25T17:20:59.374Z"
   },
   {
    "duration": 109,
    "start_time": "2024-09-25T17:20:59.385Z"
   },
   {
    "duration": 0,
    "start_time": "2024-09-25T17:20:59.495Z"
   },
   {
    "duration": 232,
    "start_time": "2024-09-25T17:21:19.318Z"
   },
   {
    "duration": 218,
    "start_time": "2024-09-25T17:21:29.413Z"
   },
   {
    "duration": 619,
    "start_time": "2024-09-25T17:24:26.255Z"
   },
   {
    "duration": 16,
    "start_time": "2024-09-25T17:24:26.876Z"
   },
   {
    "duration": 9,
    "start_time": "2024-09-25T17:24:26.894Z"
   },
   {
    "duration": 2118,
    "start_time": "2024-09-25T17:24:26.905Z"
   },
   {
    "duration": 10,
    "start_time": "2024-09-25T17:24:29.024Z"
   },
   {
    "duration": 28,
    "start_time": "2024-09-25T17:24:29.036Z"
   },
   {
    "duration": 24,
    "start_time": "2024-09-25T17:24:29.065Z"
   },
   {
    "duration": 30,
    "start_time": "2024-09-25T17:24:29.090Z"
   },
   {
    "duration": 29,
    "start_time": "2024-09-25T17:24:29.121Z"
   },
   {
    "duration": 21,
    "start_time": "2024-09-25T17:24:29.152Z"
   },
   {
    "duration": 24,
    "start_time": "2024-09-25T17:24:29.175Z"
   },
   {
    "duration": 31,
    "start_time": "2024-09-25T17:24:29.202Z"
   },
   {
    "duration": 24,
    "start_time": "2024-09-25T17:24:29.235Z"
   },
   {
    "duration": 18,
    "start_time": "2024-09-25T17:24:29.261Z"
   },
   {
    "duration": 350,
    "start_time": "2024-09-25T17:24:29.280Z"
   },
   {
    "duration": 105,
    "start_time": "2024-09-25T17:24:29.631Z"
   },
   {
    "duration": 9,
    "start_time": "2024-09-25T17:24:29.737Z"
   },
   {
    "duration": 12,
    "start_time": "2024-09-25T17:24:29.747Z"
   },
   {
    "duration": 7,
    "start_time": "2024-09-25T17:24:29.761Z"
   },
   {
    "duration": 15,
    "start_time": "2024-09-25T17:24:29.769Z"
   },
   {
    "duration": 10,
    "start_time": "2024-09-25T17:24:29.785Z"
   },
   {
    "duration": 5,
    "start_time": "2024-09-25T17:24:29.796Z"
   },
   {
    "duration": 6,
    "start_time": "2024-09-25T17:24:29.803Z"
   },
   {
    "duration": 378,
    "start_time": "2024-09-25T17:24:29.810Z"
   },
   {
    "duration": 4,
    "start_time": "2024-09-25T17:24:30.190Z"
   },
   {
    "duration": 44,
    "start_time": "2024-09-25T17:24:30.195Z"
   },
   {
    "duration": 9,
    "start_time": "2024-09-25T17:24:30.240Z"
   },
   {
    "duration": 17,
    "start_time": "2024-09-25T17:24:30.253Z"
   },
   {
    "duration": 386,
    "start_time": "2024-09-25T17:24:30.271Z"
   },
   {
    "duration": 11,
    "start_time": "2024-09-25T17:24:30.658Z"
   },
   {
    "duration": 33,
    "start_time": "2024-09-25T17:24:30.670Z"
   },
   {
    "duration": 261,
    "start_time": "2024-09-25T17:24:30.704Z"
   },
   {
    "duration": 8,
    "start_time": "2024-09-25T17:24:30.967Z"
   },
   {
    "duration": 199,
    "start_time": "2024-09-25T17:24:30.977Z"
   },
   {
    "duration": 9,
    "start_time": "2024-09-25T17:24:31.177Z"
   },
   {
    "duration": 16,
    "start_time": "2024-09-25T17:24:31.187Z"
   },
   {
    "duration": 281,
    "start_time": "2024-09-25T17:24:31.204Z"
   },
   {
    "duration": 8,
    "start_time": "2024-09-25T17:24:31.487Z"
   },
   {
    "duration": 106,
    "start_time": "2024-09-25T17:24:31.496Z"
   },
   {
    "duration": 155,
    "start_time": "2024-09-25T17:24:31.603Z"
   },
   {
    "duration": 11,
    "start_time": "2024-09-25T17:24:31.760Z"
   },
   {
    "duration": 244,
    "start_time": "2024-09-25T17:24:31.773Z"
   },
   {
    "duration": 158,
    "start_time": "2024-09-25T17:24:32.018Z"
   },
   {
    "duration": 8,
    "start_time": "2024-09-25T17:24:32.178Z"
   },
   {
    "duration": 318,
    "start_time": "2024-09-25T17:24:32.187Z"
   },
   {
    "duration": 9,
    "start_time": "2024-09-25T17:24:32.507Z"
   },
   {
    "duration": 29,
    "start_time": "2024-09-25T17:24:32.518Z"
   },
   {
    "duration": 289,
    "start_time": "2024-09-25T17:24:32.549Z"
   },
   {
    "duration": 11,
    "start_time": "2024-09-25T17:24:32.839Z"
   },
   {
    "duration": 321,
    "start_time": "2024-09-25T17:24:32.851Z"
   },
   {
    "duration": 4,
    "start_time": "2024-09-25T17:24:33.175Z"
   },
   {
    "duration": 18,
    "start_time": "2024-09-25T17:24:33.181Z"
   },
   {
    "duration": 10,
    "start_time": "2024-09-25T17:24:33.201Z"
   },
   {
    "duration": 308,
    "start_time": "2024-09-25T17:24:33.213Z"
   },
   {
    "duration": 198,
    "start_time": "2024-09-25T17:24:33.523Z"
   },
   {
    "duration": 161,
    "start_time": "2024-09-25T17:24:33.722Z"
   },
   {
    "duration": 170,
    "start_time": "2024-09-25T17:24:33.885Z"
   },
   {
    "duration": 175,
    "start_time": "2024-09-25T17:24:34.056Z"
   },
   {
    "duration": 252,
    "start_time": "2024-09-25T17:24:34.232Z"
   },
   {
    "duration": 154,
    "start_time": "2024-09-25T17:24:34.485Z"
   },
   {
    "duration": 156,
    "start_time": "2024-09-25T17:24:34.643Z"
   },
   {
    "duration": 162,
    "start_time": "2024-09-25T17:24:34.800Z"
   },
   {
    "duration": 25,
    "start_time": "2024-09-25T17:24:34.963Z"
   },
   {
    "duration": 27,
    "start_time": "2024-09-25T17:24:34.989Z"
   },
   {
    "duration": 112,
    "start_time": "2024-09-25T17:24:35.018Z"
   },
   {
    "duration": 0,
    "start_time": "2024-09-25T17:24:35.131Z"
   },
   {
    "duration": 8,
    "start_time": "2024-09-25T17:26:15.227Z"
   },
   {
    "duration": 260,
    "start_time": "2024-09-25T17:26:26.816Z"
   },
   {
    "duration": 282,
    "start_time": "2024-09-25T17:26:32.948Z"
   },
   {
    "duration": 9,
    "start_time": "2024-09-25T17:26:38.057Z"
   },
   {
    "duration": 9,
    "start_time": "2024-09-25T17:26:48.228Z"
   },
   {
    "duration": 9,
    "start_time": "2024-09-25T17:26:52.059Z"
   },
   {
    "duration": 711,
    "start_time": "2024-09-26T08:50:56.669Z"
   },
   {
    "duration": 15,
    "start_time": "2024-09-26T08:50:57.381Z"
   },
   {
    "duration": 12,
    "start_time": "2024-09-26T08:50:57.397Z"
   },
   {
    "duration": 2360,
    "start_time": "2024-09-26T08:50:57.411Z"
   },
   {
    "duration": 11,
    "start_time": "2024-09-26T08:50:59.774Z"
   },
   {
    "duration": 7,
    "start_time": "2024-09-26T08:50:59.786Z"
   },
   {
    "duration": 6,
    "start_time": "2024-09-26T08:50:59.794Z"
   },
   {
    "duration": 8,
    "start_time": "2024-09-26T08:50:59.801Z"
   },
   {
    "duration": 13,
    "start_time": "2024-09-26T08:50:59.811Z"
   },
   {
    "duration": 23,
    "start_time": "2024-09-26T08:50:59.825Z"
   },
   {
    "duration": 51,
    "start_time": "2024-09-26T08:50:59.850Z"
   },
   {
    "duration": 7,
    "start_time": "2024-09-26T08:50:59.902Z"
   },
   {
    "duration": 17,
    "start_time": "2024-09-26T08:50:59.911Z"
   },
   {
    "duration": 5,
    "start_time": "2024-09-26T08:50:59.933Z"
   },
   {
    "duration": 335,
    "start_time": "2024-09-26T08:50:59.940Z"
   },
   {
    "duration": 135,
    "start_time": "2024-09-26T08:51:00.276Z"
   },
   {
    "duration": 9,
    "start_time": "2024-09-26T08:51:00.412Z"
   },
   {
    "duration": 57,
    "start_time": "2024-09-26T08:51:00.422Z"
   },
   {
    "duration": 54,
    "start_time": "2024-09-26T08:51:00.480Z"
   },
   {
    "duration": 66,
    "start_time": "2024-09-26T08:51:00.536Z"
   },
   {
    "duration": 14,
    "start_time": "2024-09-26T08:51:00.604Z"
   },
   {
    "duration": 13,
    "start_time": "2024-09-26T08:51:00.619Z"
   },
   {
    "duration": 22,
    "start_time": "2024-09-26T08:51:00.633Z"
   },
   {
    "duration": 506,
    "start_time": "2024-09-26T08:51:00.656Z"
   },
   {
    "duration": 4,
    "start_time": "2024-09-26T08:51:01.164Z"
   },
   {
    "duration": 66,
    "start_time": "2024-09-26T08:51:01.169Z"
   },
   {
    "duration": 24,
    "start_time": "2024-09-26T08:51:01.236Z"
   },
   {
    "duration": 9,
    "start_time": "2024-09-26T08:51:01.261Z"
   },
   {
    "duration": 364,
    "start_time": "2024-09-26T08:51:01.271Z"
   },
   {
    "duration": 14,
    "start_time": "2024-09-26T08:51:01.637Z"
   },
   {
    "duration": 37,
    "start_time": "2024-09-26T08:51:01.653Z"
   },
   {
    "duration": 252,
    "start_time": "2024-09-26T08:51:01.691Z"
   },
   {
    "duration": 8,
    "start_time": "2024-09-26T08:51:01.944Z"
   },
   {
    "duration": 200,
    "start_time": "2024-09-26T08:51:01.953Z"
   },
   {
    "duration": 10,
    "start_time": "2024-09-26T08:51:02.155Z"
   },
   {
    "duration": 34,
    "start_time": "2024-09-26T08:51:02.166Z"
   },
   {
    "duration": 273,
    "start_time": "2024-09-26T08:51:02.202Z"
   },
   {
    "duration": 8,
    "start_time": "2024-09-26T08:51:02.477Z"
   },
   {
    "duration": 23,
    "start_time": "2024-09-26T08:51:02.487Z"
   },
   {
    "duration": 166,
    "start_time": "2024-09-26T08:51:02.512Z"
   },
   {
    "duration": 7,
    "start_time": "2024-09-26T08:51:02.682Z"
   },
   {
    "duration": 253,
    "start_time": "2024-09-26T08:51:02.691Z"
   },
   {
    "duration": 216,
    "start_time": "2024-09-26T08:51:02.945Z"
   },
   {
    "duration": 9,
    "start_time": "2024-09-26T08:51:03.162Z"
   },
   {
    "duration": 259,
    "start_time": "2024-09-26T08:51:03.173Z"
   },
   {
    "duration": 13,
    "start_time": "2024-09-26T08:51:03.434Z"
   },
   {
    "duration": 52,
    "start_time": "2024-09-26T08:51:03.448Z"
   },
   {
    "duration": 307,
    "start_time": "2024-09-26T08:51:03.502Z"
   },
   {
    "duration": 10,
    "start_time": "2024-09-26T08:51:03.811Z"
   },
   {
    "duration": 302,
    "start_time": "2024-09-26T08:51:03.822Z"
   },
   {
    "duration": 4,
    "start_time": "2024-09-26T08:51:04.126Z"
   },
   {
    "duration": 12,
    "start_time": "2024-09-26T08:51:04.131Z"
   },
   {
    "duration": 9,
    "start_time": "2024-09-26T08:51:04.145Z"
   },
   {
    "duration": 303,
    "start_time": "2024-09-26T08:51:04.155Z"
   },
   {
    "duration": 163,
    "start_time": "2024-09-26T08:51:04.460Z"
   },
   {
    "duration": 168,
    "start_time": "2024-09-26T08:51:04.625Z"
   },
   {
    "duration": 276,
    "start_time": "2024-09-26T08:51:04.794Z"
   },
   {
    "duration": 167,
    "start_time": "2024-09-26T08:51:05.072Z"
   },
   {
    "duration": 163,
    "start_time": "2024-09-26T08:51:05.240Z"
   },
   {
    "duration": 163,
    "start_time": "2024-09-26T08:51:05.404Z"
   },
   {
    "duration": 160,
    "start_time": "2024-09-26T08:51:05.569Z"
   },
   {
    "duration": 150,
    "start_time": "2024-09-26T08:51:05.730Z"
   },
   {
    "duration": 23,
    "start_time": "2024-09-26T08:51:05.881Z"
   },
   {
    "duration": 20,
    "start_time": "2024-09-26T08:51:05.906Z"
   },
   {
    "duration": 97,
    "start_time": "2024-09-26T08:51:05.927Z"
   },
   {
    "duration": 0,
    "start_time": "2024-09-26T08:51:06.026Z"
   },
   {
    "duration": 9,
    "start_time": "2024-09-26T08:54:25.385Z"
   },
   {
    "duration": 11,
    "start_time": "2024-09-26T08:54:29.542Z"
   },
   {
    "duration": 17,
    "start_time": "2024-09-26T08:54:29.554Z"
   },
   {
    "duration": 176,
    "start_time": "2024-09-26T08:54:29.572Z"
   },
   {
    "duration": 9,
    "start_time": "2024-09-26T08:54:29.750Z"
   },
   {
    "duration": 262,
    "start_time": "2024-09-26T08:54:29.760Z"
   },
   {
    "duration": 168,
    "start_time": "2024-09-26T08:54:30.024Z"
   },
   {
    "duration": 8,
    "start_time": "2024-09-26T08:54:30.193Z"
   },
   {
    "duration": 286,
    "start_time": "2024-09-26T08:54:30.202Z"
   },
   {
    "duration": 12,
    "start_time": "2024-09-26T08:54:30.490Z"
   },
   {
    "duration": 24,
    "start_time": "2024-09-26T08:54:30.505Z"
   },
   {
    "duration": 312,
    "start_time": "2024-09-26T08:54:30.531Z"
   },
   {
    "duration": 11,
    "start_time": "2024-09-26T08:54:30.844Z"
   },
   {
    "duration": 293,
    "start_time": "2024-09-26T08:54:30.857Z"
   },
   {
    "duration": 3,
    "start_time": "2024-09-26T08:54:31.152Z"
   },
   {
    "duration": 28,
    "start_time": "2024-09-26T08:54:31.156Z"
   },
   {
    "duration": 48,
    "start_time": "2024-09-26T08:54:31.185Z"
   },
   {
    "duration": 394,
    "start_time": "2024-09-26T08:54:31.234Z"
   },
   {
    "duration": 178,
    "start_time": "2024-09-26T08:54:31.629Z"
   },
   {
    "duration": 160,
    "start_time": "2024-09-26T08:54:31.808Z"
   },
   {
    "duration": 172,
    "start_time": "2024-09-26T08:54:31.969Z"
   },
   {
    "duration": 165,
    "start_time": "2024-09-26T08:54:32.142Z"
   },
   {
    "duration": 165,
    "start_time": "2024-09-26T08:54:32.308Z"
   },
   {
    "duration": 160,
    "start_time": "2024-09-26T08:54:32.475Z"
   },
   {
    "duration": 141,
    "start_time": "2024-09-26T08:54:32.642Z"
   },
   {
    "duration": 152,
    "start_time": "2024-09-26T08:54:32.785Z"
   },
   {
    "duration": 24,
    "start_time": "2024-09-26T08:54:32.939Z"
   },
   {
    "duration": 10,
    "start_time": "2024-09-26T08:54:32.964Z"
   },
   {
    "duration": 73,
    "start_time": "2024-09-26T08:54:32.977Z"
   },
   {
    "duration": 0,
    "start_time": "2024-09-26T08:54:33.051Z"
   },
   {
    "duration": 8,
    "start_time": "2024-09-26T08:54:55.877Z"
   },
   {
    "duration": 9,
    "start_time": "2024-09-26T08:54:58.344Z"
   },
   {
    "duration": 12,
    "start_time": "2024-09-26T08:55:04.982Z"
   },
   {
    "duration": 17,
    "start_time": "2024-09-26T08:55:04.996Z"
   },
   {
    "duration": 167,
    "start_time": "2024-09-26T08:55:05.015Z"
   },
   {
    "duration": 8,
    "start_time": "2024-09-26T08:55:05.184Z"
   },
   {
    "duration": 227,
    "start_time": "2024-09-26T08:55:05.193Z"
   },
   {
    "duration": 150,
    "start_time": "2024-09-26T08:55:05.421Z"
   },
   {
    "duration": 8,
    "start_time": "2024-09-26T08:55:05.572Z"
   },
   {
    "duration": 241,
    "start_time": "2024-09-26T08:55:05.581Z"
   },
   {
    "duration": 8,
    "start_time": "2024-09-26T08:55:05.824Z"
   },
   {
    "duration": 59,
    "start_time": "2024-09-26T08:55:05.842Z"
   },
   {
    "duration": 302,
    "start_time": "2024-09-26T08:55:05.902Z"
   },
   {
    "duration": 9,
    "start_time": "2024-09-26T08:55:06.205Z"
   },
   {
    "duration": 443,
    "start_time": "2024-09-26T08:55:06.215Z"
   },
   {
    "duration": 4,
    "start_time": "2024-09-26T08:55:06.659Z"
   },
   {
    "duration": 41,
    "start_time": "2024-09-26T08:55:06.664Z"
   },
   {
    "duration": 11,
    "start_time": "2024-09-26T08:55:06.706Z"
   },
   {
    "duration": 308,
    "start_time": "2024-09-26T08:55:06.718Z"
   },
   {
    "duration": 180,
    "start_time": "2024-09-26T08:55:07.028Z"
   },
   {
    "duration": 164,
    "start_time": "2024-09-26T08:55:07.209Z"
   },
   {
    "duration": 163,
    "start_time": "2024-09-26T08:55:07.374Z"
   },
   {
    "duration": 173,
    "start_time": "2024-09-26T08:55:07.538Z"
   },
   {
    "duration": 160,
    "start_time": "2024-09-26T08:55:07.713Z"
   },
   {
    "duration": 174,
    "start_time": "2024-09-26T08:55:07.874Z"
   },
   {
    "duration": 146,
    "start_time": "2024-09-26T08:55:08.049Z"
   },
   {
    "duration": 149,
    "start_time": "2024-09-26T08:55:08.196Z"
   },
   {
    "duration": 25,
    "start_time": "2024-09-26T08:55:08.346Z"
   },
   {
    "duration": 141,
    "start_time": "2024-09-26T08:55:08.373Z"
   },
   {
    "duration": 53,
    "start_time": "2024-09-26T08:55:08.516Z"
   },
   {
    "duration": 0,
    "start_time": "2024-09-26T08:55:08.570Z"
   },
   {
    "duration": 262,
    "start_time": "2024-09-26T08:55:31.955Z"
   },
   {
    "duration": 15,
    "start_time": "2024-09-26T08:55:32.219Z"
   },
   {
    "duration": 13,
    "start_time": "2024-09-26T08:55:32.242Z"
   },
   {
    "duration": 1953,
    "start_time": "2024-09-26T08:55:32.257Z"
   },
   {
    "duration": 9,
    "start_time": "2024-09-26T08:55:34.212Z"
   },
   {
    "duration": 34,
    "start_time": "2024-09-26T08:55:34.222Z"
   },
   {
    "duration": 39,
    "start_time": "2024-09-26T08:55:34.258Z"
   },
   {
    "duration": 13,
    "start_time": "2024-09-26T08:55:34.299Z"
   },
   {
    "duration": 39,
    "start_time": "2024-09-26T08:55:34.313Z"
   },
   {
    "duration": 10,
    "start_time": "2024-09-26T08:55:34.353Z"
   },
   {
    "duration": 81,
    "start_time": "2024-09-26T08:55:34.365Z"
   },
   {
    "duration": 43,
    "start_time": "2024-09-26T08:55:34.447Z"
   },
   {
    "duration": 11,
    "start_time": "2024-09-26T08:55:34.492Z"
   },
   {
    "duration": 4,
    "start_time": "2024-09-26T08:55:34.506Z"
   },
   {
    "duration": 363,
    "start_time": "2024-09-26T08:55:34.512Z"
   },
   {
    "duration": 112,
    "start_time": "2024-09-26T08:55:34.878Z"
   },
   {
    "duration": 8,
    "start_time": "2024-09-26T08:55:34.991Z"
   },
   {
    "duration": 34,
    "start_time": "2024-09-26T08:55:35.000Z"
   },
   {
    "duration": 26,
    "start_time": "2024-09-26T08:55:35.036Z"
   },
   {
    "duration": 43,
    "start_time": "2024-09-26T08:55:35.064Z"
   },
   {
    "duration": 6,
    "start_time": "2024-09-26T08:55:35.108Z"
   },
   {
    "duration": 12,
    "start_time": "2024-09-26T08:55:35.116Z"
   },
   {
    "duration": 12,
    "start_time": "2024-09-26T08:55:35.129Z"
   },
   {
    "duration": 337,
    "start_time": "2024-09-26T08:55:35.142Z"
   },
   {
    "duration": 4,
    "start_time": "2024-09-26T08:55:35.481Z"
   },
   {
    "duration": 77,
    "start_time": "2024-09-26T08:55:35.486Z"
   },
   {
    "duration": 9,
    "start_time": "2024-09-26T08:55:35.564Z"
   },
   {
    "duration": 18,
    "start_time": "2024-09-26T08:55:35.575Z"
   },
   {
    "duration": 305,
    "start_time": "2024-09-26T08:55:35.595Z"
   },
   {
    "duration": 10,
    "start_time": "2024-09-26T08:55:35.902Z"
   },
   {
    "duration": 78,
    "start_time": "2024-09-26T08:55:35.913Z"
   },
   {
    "duration": 223,
    "start_time": "2024-09-26T08:55:35.993Z"
   },
   {
    "duration": 8,
    "start_time": "2024-09-26T08:55:36.218Z"
   },
   {
    "duration": 198,
    "start_time": "2024-09-26T08:55:36.228Z"
   },
   {
    "duration": 17,
    "start_time": "2024-09-26T08:55:36.428Z"
   },
   {
    "duration": 36,
    "start_time": "2024-09-26T08:55:36.447Z"
   },
   {
    "duration": 304,
    "start_time": "2024-09-26T08:55:36.485Z"
   },
   {
    "duration": 10,
    "start_time": "2024-09-26T08:55:36.791Z"
   },
   {
    "duration": 21,
    "start_time": "2024-09-26T08:55:36.803Z"
   },
   {
    "duration": 173,
    "start_time": "2024-09-26T08:55:36.827Z"
   },
   {
    "duration": 9,
    "start_time": "2024-09-26T08:55:37.005Z"
   },
   {
    "duration": 236,
    "start_time": "2024-09-26T08:55:37.015Z"
   },
   {
    "duration": 141,
    "start_time": "2024-09-26T08:55:37.252Z"
   },
   {
    "duration": 7,
    "start_time": "2024-09-26T08:55:37.395Z"
   },
   {
    "duration": 227,
    "start_time": "2024-09-26T08:55:37.404Z"
   },
   {
    "duration": 14,
    "start_time": "2024-09-26T08:55:37.632Z"
   },
   {
    "duration": 18,
    "start_time": "2024-09-26T08:55:37.648Z"
   },
   {
    "duration": 521,
    "start_time": "2024-09-26T08:55:37.668Z"
   },
   {
    "duration": 9,
    "start_time": "2024-09-26T08:55:38.191Z"
   },
   {
    "duration": 305,
    "start_time": "2024-09-26T08:55:38.201Z"
   },
   {
    "duration": 4,
    "start_time": "2024-09-26T08:55:38.507Z"
   },
   {
    "duration": 26,
    "start_time": "2024-09-26T08:55:38.512Z"
   },
   {
    "duration": 14,
    "start_time": "2024-09-26T08:55:38.539Z"
   },
   {
    "duration": 302,
    "start_time": "2024-09-26T08:55:38.555Z"
   },
   {
    "duration": 164,
    "start_time": "2024-09-26T08:55:38.859Z"
   },
   {
    "duration": 178,
    "start_time": "2024-09-26T08:55:39.024Z"
   },
   {
    "duration": 174,
    "start_time": "2024-09-26T08:55:39.203Z"
   },
   {
    "duration": 176,
    "start_time": "2024-09-26T08:55:39.379Z"
   },
   {
    "duration": 168,
    "start_time": "2024-09-26T08:55:39.557Z"
   },
   {
    "duration": 174,
    "start_time": "2024-09-26T08:55:39.726Z"
   },
   {
    "duration": 183,
    "start_time": "2024-09-26T08:55:39.902Z"
   },
   {
    "duration": 169,
    "start_time": "2024-09-26T08:55:40.086Z"
   },
   {
    "duration": 24,
    "start_time": "2024-09-26T08:55:40.256Z"
   },
   {
    "duration": 10,
    "start_time": "2024-09-26T08:55:40.282Z"
   },
   {
    "duration": 30,
    "start_time": "2024-09-26T08:55:40.294Z"
   },
   {
    "duration": 0,
    "start_time": "2024-09-26T08:55:40.326Z"
   },
   {
    "duration": 147,
    "start_time": "2024-09-26T08:58:06.074Z"
   },
   {
    "duration": 11,
    "start_time": "2024-09-26T09:07:38.131Z"
   },
   {
    "duration": 142,
    "start_time": "2024-09-26T09:17:51.859Z"
   },
   {
    "duration": 153,
    "start_time": "2024-09-26T09:20:47.745Z"
   },
   {
    "duration": 167,
    "start_time": "2024-09-26T09:20:58.713Z"
   },
   {
    "duration": 4,
    "start_time": "2024-09-26T09:42:34.313Z"
   },
   {
    "duration": 161,
    "start_time": "2024-09-26T09:44:17.162Z"
   },
   {
    "duration": 1701,
    "start_time": "2024-09-26T09:45:58.481Z"
   },
   {
    "duration": 1171,
    "start_time": "2024-09-26T09:46:12.408Z"
   },
   {
    "duration": 161,
    "start_time": "2024-09-26T09:46:42.834Z"
   },
   {
    "duration": 121,
    "start_time": "2024-09-26T09:50:38.517Z"
   },
   {
    "duration": 110,
    "start_time": "2024-09-26T09:50:59.632Z"
   },
   {
    "duration": 91,
    "start_time": "2024-09-26T09:51:17.502Z"
   },
   {
    "duration": 112,
    "start_time": "2024-09-26T09:51:52.589Z"
   },
   {
    "duration": 66,
    "start_time": "2024-09-26T09:54:31.802Z"
   },
   {
    "duration": 121,
    "start_time": "2024-09-26T09:55:20.683Z"
   },
   {
    "duration": 70,
    "start_time": "2024-09-26T10:28:59.823Z"
   },
   {
    "duration": 12,
    "start_time": "2024-09-26T10:29:40.408Z"
   },
   {
    "duration": 7,
    "start_time": "2024-09-26T10:29:55.382Z"
   },
   {
    "duration": 51,
    "start_time": "2024-09-26T10:31:18.745Z"
   },
   {
    "duration": 41,
    "start_time": "2024-09-26T10:31:29.267Z"
   },
   {
    "duration": 40,
    "start_time": "2024-09-26T10:31:34.356Z"
   },
   {
    "duration": 40,
    "start_time": "2024-09-26T10:32:01.773Z"
   },
   {
    "duration": 300,
    "start_time": "2024-09-26T10:39:20.645Z"
   },
   {
    "duration": 15,
    "start_time": "2024-09-26T10:39:20.947Z"
   },
   {
    "duration": 6,
    "start_time": "2024-09-26T10:39:20.963Z"
   },
   {
    "duration": 2173,
    "start_time": "2024-09-26T10:39:20.971Z"
   },
   {
    "duration": 10,
    "start_time": "2024-09-26T10:39:23.146Z"
   },
   {
    "duration": 7,
    "start_time": "2024-09-26T10:39:23.158Z"
   },
   {
    "duration": 7,
    "start_time": "2024-09-26T10:39:23.167Z"
   },
   {
    "duration": 19,
    "start_time": "2024-09-26T10:39:23.175Z"
   },
   {
    "duration": 19,
    "start_time": "2024-09-26T10:39:23.196Z"
   },
   {
    "duration": 30,
    "start_time": "2024-09-26T10:39:23.217Z"
   },
   {
    "duration": 6,
    "start_time": "2024-09-26T10:39:23.249Z"
   },
   {
    "duration": 9,
    "start_time": "2024-09-26T10:39:23.257Z"
   },
   {
    "duration": 31,
    "start_time": "2024-09-26T10:39:23.267Z"
   },
   {
    "duration": 7,
    "start_time": "2024-09-26T10:39:23.300Z"
   },
   {
    "duration": 370,
    "start_time": "2024-09-26T10:39:23.309Z"
   },
   {
    "duration": 105,
    "start_time": "2024-09-26T10:39:23.681Z"
   },
   {
    "duration": 8,
    "start_time": "2024-09-26T10:39:23.787Z"
   },
   {
    "duration": 13,
    "start_time": "2024-09-26T10:39:23.797Z"
   },
   {
    "duration": 8,
    "start_time": "2024-09-26T10:39:23.811Z"
   },
   {
    "duration": 7,
    "start_time": "2024-09-26T10:39:23.843Z"
   },
   {
    "duration": 6,
    "start_time": "2024-09-26T10:39:23.851Z"
   },
   {
    "duration": 16,
    "start_time": "2024-09-26T10:39:23.858Z"
   },
   {
    "duration": 60,
    "start_time": "2024-09-26T10:39:23.876Z"
   },
   {
    "duration": 335,
    "start_time": "2024-09-26T10:39:23.938Z"
   },
   {
    "duration": 4,
    "start_time": "2024-09-26T10:39:24.274Z"
   },
   {
    "duration": 42,
    "start_time": "2024-09-26T10:39:24.280Z"
   },
   {
    "duration": 13,
    "start_time": "2024-09-26T10:39:24.324Z"
   },
   {
    "duration": 8,
    "start_time": "2024-09-26T10:39:24.340Z"
   },
   {
    "duration": 295,
    "start_time": "2024-09-26T10:39:24.350Z"
   },
   {
    "duration": 10,
    "start_time": "2024-09-26T10:39:24.648Z"
   },
   {
    "duration": 19,
    "start_time": "2024-09-26T10:39:24.660Z"
   },
   {
    "duration": 288,
    "start_time": "2024-09-26T10:39:24.680Z"
   },
   {
    "duration": 10,
    "start_time": "2024-09-26T10:39:24.969Z"
   },
   {
    "duration": 207,
    "start_time": "2024-09-26T10:39:24.980Z"
   },
   {
    "duration": 10,
    "start_time": "2024-09-26T10:39:25.189Z"
   },
   {
    "duration": 10,
    "start_time": "2024-09-26T10:39:25.201Z"
   },
   {
    "duration": 291,
    "start_time": "2024-09-26T10:39:25.213Z"
   },
   {
    "duration": 10,
    "start_time": "2024-09-26T10:39:25.505Z"
   },
   {
    "duration": 20,
    "start_time": "2024-09-26T10:39:25.517Z"
   },
   {
    "duration": 179,
    "start_time": "2024-09-26T10:39:25.543Z"
   },
   {
    "duration": 9,
    "start_time": "2024-09-26T10:39:25.723Z"
   },
   {
    "duration": 248,
    "start_time": "2024-09-26T10:39:25.733Z"
   },
   {
    "duration": 150,
    "start_time": "2024-09-26T10:39:25.983Z"
   },
   {
    "duration": 14,
    "start_time": "2024-09-26T10:39:26.136Z"
   },
   {
    "duration": 299,
    "start_time": "2024-09-26T10:39:26.152Z"
   },
   {
    "duration": 9,
    "start_time": "2024-09-26T10:39:26.453Z"
   },
   {
    "duration": 9,
    "start_time": "2024-09-26T10:39:26.464Z"
   },
   {
    "duration": 337,
    "start_time": "2024-09-26T10:39:26.475Z"
   },
   {
    "duration": 10,
    "start_time": "2024-09-26T10:39:26.814Z"
   },
   {
    "duration": 355,
    "start_time": "2024-09-26T10:39:26.825Z"
   },
   {
    "duration": 4,
    "start_time": "2024-09-26T10:39:27.181Z"
   },
   {
    "duration": 6,
    "start_time": "2024-09-26T10:39:27.187Z"
   },
   {
    "duration": 9,
    "start_time": "2024-09-26T10:39:27.195Z"
   },
   {
    "duration": 327,
    "start_time": "2024-09-26T10:39:27.205Z"
   },
   {
    "duration": 110,
    "start_time": "2024-09-26T10:39:27.534Z"
   },
   {
    "duration": 177,
    "start_time": "2024-09-26T10:39:27.647Z"
   },
   {
    "duration": 485,
    "start_time": "2024-09-26T10:39:27.826Z"
   },
   {
    "duration": 176,
    "start_time": "2024-09-26T10:39:28.312Z"
   },
   {
    "duration": 173,
    "start_time": "2024-09-26T10:39:28.489Z"
   },
   {
    "duration": 155,
    "start_time": "2024-09-26T10:39:28.663Z"
   },
   {
    "duration": 173,
    "start_time": "2024-09-26T10:39:28.820Z"
   },
   {
    "duration": 184,
    "start_time": "2024-09-26T10:39:28.995Z"
   },
   {
    "duration": 179,
    "start_time": "2024-09-26T10:39:29.181Z"
   },
   {
    "duration": 188,
    "start_time": "2024-09-26T10:39:29.362Z"
   },
   {
    "duration": 44,
    "start_time": "2024-09-26T10:39:29.552Z"
   },
   {
    "duration": 47,
    "start_time": "2024-09-26T10:39:29.598Z"
   },
   {
    "duration": 11,
    "start_time": "2024-09-26T10:39:29.647Z"
   },
   {
    "duration": 23,
    "start_time": "2024-09-26T10:39:29.659Z"
   },
   {
    "duration": 0,
    "start_time": "2024-09-26T10:39:29.684Z"
   },
   {
    "duration": 14,
    "start_time": "2024-09-26T10:48:12.926Z"
   },
   {
    "duration": 7,
    "start_time": "2024-09-26T10:50:53.409Z"
   },
   {
    "duration": 11,
    "start_time": "2024-09-26T10:50:55.600Z"
   },
   {
    "duration": 793,
    "start_time": "2024-09-26T10:51:05.472Z"
   },
   {
    "duration": 15,
    "start_time": "2024-09-26T10:51:06.267Z"
   },
   {
    "duration": 6,
    "start_time": "2024-09-26T10:51:06.283Z"
   },
   {
    "duration": 2464,
    "start_time": "2024-09-26T10:51:06.291Z"
   },
   {
    "duration": 17,
    "start_time": "2024-09-26T10:51:08.758Z"
   },
   {
    "duration": 6,
    "start_time": "2024-09-26T10:51:08.777Z"
   },
   {
    "duration": 6,
    "start_time": "2024-09-26T10:51:08.785Z"
   },
   {
    "duration": 20,
    "start_time": "2024-09-26T10:51:08.793Z"
   },
   {
    "duration": 39,
    "start_time": "2024-09-26T10:51:08.827Z"
   },
   {
    "duration": 64,
    "start_time": "2024-09-26T10:51:08.870Z"
   },
   {
    "duration": 30,
    "start_time": "2024-09-26T10:51:08.936Z"
   },
   {
    "duration": 8,
    "start_time": "2024-09-26T10:51:08.967Z"
   },
   {
    "duration": 11,
    "start_time": "2024-09-26T10:51:08.977Z"
   },
   {
    "duration": 7,
    "start_time": "2024-09-26T10:51:08.990Z"
   },
   {
    "duration": 391,
    "start_time": "2024-09-26T10:51:08.999Z"
   },
   {
    "duration": 115,
    "start_time": "2024-09-26T10:51:09.391Z"
   },
   {
    "duration": 9,
    "start_time": "2024-09-26T10:51:09.507Z"
   },
   {
    "duration": 32,
    "start_time": "2024-09-26T10:51:09.517Z"
   },
   {
    "duration": 13,
    "start_time": "2024-09-26T10:51:09.551Z"
   },
   {
    "duration": 7,
    "start_time": "2024-09-26T10:51:09.566Z"
   },
   {
    "duration": 6,
    "start_time": "2024-09-26T10:51:09.575Z"
   },
   {
    "duration": 15,
    "start_time": "2024-09-26T10:51:09.583Z"
   },
   {
    "duration": 4,
    "start_time": "2024-09-26T10:51:09.600Z"
   },
   {
    "duration": 415,
    "start_time": "2024-09-26T10:51:09.607Z"
   },
   {
    "duration": 6,
    "start_time": "2024-09-26T10:51:10.025Z"
   },
   {
    "duration": 47,
    "start_time": "2024-09-26T10:51:10.033Z"
   },
   {
    "duration": 24,
    "start_time": "2024-09-26T10:51:10.082Z"
   },
   {
    "duration": 7,
    "start_time": "2024-09-26T10:51:10.110Z"
   },
   {
    "duration": 408,
    "start_time": "2024-09-26T10:51:10.118Z"
   },
   {
    "duration": 16,
    "start_time": "2024-09-26T10:51:10.527Z"
   },
   {
    "duration": 12,
    "start_time": "2024-09-26T10:51:10.547Z"
   },
   {
    "duration": 269,
    "start_time": "2024-09-26T10:51:10.562Z"
   },
   {
    "duration": 23,
    "start_time": "2024-09-26T10:51:10.833Z"
   },
   {
    "duration": 295,
    "start_time": "2024-09-26T10:51:10.858Z"
   },
   {
    "duration": 11,
    "start_time": "2024-09-26T10:51:11.155Z"
   },
   {
    "duration": 11,
    "start_time": "2024-09-26T10:51:11.168Z"
   },
   {
    "duration": 344,
    "start_time": "2024-09-26T10:51:11.181Z"
   },
   {
    "duration": 27,
    "start_time": "2024-09-26T10:51:11.526Z"
   },
   {
    "duration": 19,
    "start_time": "2024-09-26T10:51:11.555Z"
   },
   {
    "duration": 180,
    "start_time": "2024-09-26T10:51:11.577Z"
   },
   {
    "duration": 12,
    "start_time": "2024-09-26T10:51:11.760Z"
   },
   {
    "duration": 302,
    "start_time": "2024-09-26T10:51:11.774Z"
   },
   {
    "duration": 153,
    "start_time": "2024-09-26T10:51:12.078Z"
   },
   {
    "duration": 14,
    "start_time": "2024-09-26T10:51:12.232Z"
   },
   {
    "duration": 362,
    "start_time": "2024-09-26T10:51:12.248Z"
   },
   {
    "duration": 8,
    "start_time": "2024-09-26T10:51:12.611Z"
   },
   {
    "duration": 24,
    "start_time": "2024-09-26T10:51:12.620Z"
   },
   {
    "duration": 402,
    "start_time": "2024-09-26T10:51:12.646Z"
   },
   {
    "duration": 12,
    "start_time": "2024-09-26T10:51:13.051Z"
   },
   {
    "duration": 11,
    "start_time": "2024-09-26T10:51:13.066Z"
   },
   {
    "duration": 355,
    "start_time": "2024-09-26T10:51:13.079Z"
   },
   {
    "duration": 8,
    "start_time": "2024-09-26T10:51:13.436Z"
   },
   {
    "duration": 6,
    "start_time": "2024-09-26T10:51:13.447Z"
   },
   {
    "duration": 13,
    "start_time": "2024-09-26T10:51:13.455Z"
   },
   {
    "duration": 364,
    "start_time": "2024-09-26T10:51:13.470Z"
   },
   {
    "duration": 144,
    "start_time": "2024-09-26T10:51:13.835Z"
   },
   {
    "duration": 182,
    "start_time": "2024-09-26T10:51:13.980Z"
   },
   {
    "duration": 210,
    "start_time": "2024-09-26T10:51:14.164Z"
   },
   {
    "duration": 199,
    "start_time": "2024-09-26T10:51:14.376Z"
   },
   {
    "duration": 339,
    "start_time": "2024-09-26T10:51:14.577Z"
   },
   {
    "duration": 190,
    "start_time": "2024-09-26T10:51:14.918Z"
   },
   {
    "duration": 182,
    "start_time": "2024-09-26T10:51:15.109Z"
   },
   {
    "duration": 180,
    "start_time": "2024-09-26T10:51:15.293Z"
   },
   {
    "duration": 159,
    "start_time": "2024-09-26T10:51:15.475Z"
   },
   {
    "duration": 194,
    "start_time": "2024-09-26T10:51:15.635Z"
   },
   {
    "duration": 61,
    "start_time": "2024-09-26T10:51:15.831Z"
   },
   {
    "duration": 38,
    "start_time": "2024-09-26T10:51:15.894Z"
   },
   {
    "duration": 63,
    "start_time": "2024-09-26T10:51:15.934Z"
   },
   {
    "duration": 119,
    "start_time": "2024-09-26T10:51:15.999Z"
   },
   {
    "duration": 0,
    "start_time": "2024-09-26T10:51:16.120Z"
   },
   {
    "duration": 314,
    "start_time": "2024-09-26T10:51:51.958Z"
   },
   {
    "duration": 9,
    "start_time": "2024-09-26T10:51:52.274Z"
   },
   {
    "duration": 320,
    "start_time": "2024-09-26T10:51:52.284Z"
   },
   {
    "duration": 3,
    "start_time": "2024-09-26T10:51:52.606Z"
   },
   {
    "duration": 18,
    "start_time": "2024-09-26T10:51:52.611Z"
   },
   {
    "duration": 102,
    "start_time": "2024-09-26T10:51:52.630Z"
   },
   {
    "duration": 317,
    "start_time": "2024-09-26T10:51:52.734Z"
   },
   {
    "duration": 122,
    "start_time": "2024-09-26T10:51:53.053Z"
   },
   {
    "duration": 174,
    "start_time": "2024-09-26T10:51:53.177Z"
   },
   {
    "duration": 177,
    "start_time": "2024-09-26T10:51:53.353Z"
   },
   {
    "duration": 305,
    "start_time": "2024-09-26T10:51:53.532Z"
   },
   {
    "duration": 164,
    "start_time": "2024-09-26T10:51:53.838Z"
   },
   {
    "duration": 170,
    "start_time": "2024-09-26T10:51:54.004Z"
   },
   {
    "duration": 172,
    "start_time": "2024-09-26T10:51:54.176Z"
   },
   {
    "duration": 170,
    "start_time": "2024-09-26T10:51:54.350Z"
   },
   {
    "duration": 159,
    "start_time": "2024-09-26T10:51:54.521Z"
   },
   {
    "duration": 223,
    "start_time": "2024-09-26T10:51:54.681Z"
   },
   {
    "duration": 48,
    "start_time": "2024-09-26T10:51:54.906Z"
   },
   {
    "duration": 25,
    "start_time": "2024-09-26T10:51:54.956Z"
   },
   {
    "duration": 23,
    "start_time": "2024-09-26T10:51:54.982Z"
   },
   {
    "duration": 21,
    "start_time": "2024-09-26T10:51:55.006Z"
   },
   {
    "duration": 0,
    "start_time": "2024-09-26T10:51:55.028Z"
   },
   {
    "duration": 884,
    "start_time": "2024-09-26T10:52:07.500Z"
   },
   {
    "duration": 16,
    "start_time": "2024-09-26T10:52:08.385Z"
   },
   {
    "duration": 4,
    "start_time": "2024-09-26T10:52:08.403Z"
   },
   {
    "duration": 2530,
    "start_time": "2024-09-26T10:52:08.409Z"
   },
   {
    "duration": 15,
    "start_time": "2024-09-26T10:52:10.941Z"
   },
   {
    "duration": 13,
    "start_time": "2024-09-26T10:52:10.958Z"
   },
   {
    "duration": 13,
    "start_time": "2024-09-26T10:52:10.973Z"
   },
   {
    "duration": 9,
    "start_time": "2024-09-26T10:52:10.987Z"
   },
   {
    "duration": 20,
    "start_time": "2024-09-26T10:52:10.997Z"
   },
   {
    "duration": 30,
    "start_time": "2024-09-26T10:52:11.021Z"
   },
   {
    "duration": 12,
    "start_time": "2024-09-26T10:52:11.053Z"
   },
   {
    "duration": 7,
    "start_time": "2024-09-26T10:52:11.067Z"
   },
   {
    "duration": 11,
    "start_time": "2024-09-26T10:52:11.075Z"
   },
   {
    "duration": 6,
    "start_time": "2024-09-26T10:52:11.087Z"
   },
   {
    "duration": 416,
    "start_time": "2024-09-26T10:52:11.094Z"
   },
   {
    "duration": 132,
    "start_time": "2024-09-26T10:52:11.511Z"
   },
   {
    "duration": 13,
    "start_time": "2024-09-26T10:52:11.645Z"
   },
   {
    "duration": 24,
    "start_time": "2024-09-26T10:52:11.662Z"
   },
   {
    "duration": 9,
    "start_time": "2024-09-26T10:52:11.687Z"
   },
   {
    "duration": 6,
    "start_time": "2024-09-26T10:52:11.697Z"
   },
   {
    "duration": 5,
    "start_time": "2024-09-26T10:52:11.705Z"
   },
   {
    "duration": 5,
    "start_time": "2024-09-26T10:52:11.712Z"
   },
   {
    "duration": 50,
    "start_time": "2024-09-26T10:52:11.744Z"
   },
   {
    "duration": 386,
    "start_time": "2024-09-26T10:52:11.795Z"
   },
   {
    "duration": 5,
    "start_time": "2024-09-26T10:52:12.182Z"
   },
   {
    "duration": 66,
    "start_time": "2024-09-26T10:52:12.189Z"
   },
   {
    "duration": 12,
    "start_time": "2024-09-26T10:52:12.257Z"
   },
   {
    "duration": 7,
    "start_time": "2024-09-26T10:52:12.273Z"
   },
   {
    "duration": 422,
    "start_time": "2024-09-26T10:52:12.281Z"
   },
   {
    "duration": 11,
    "start_time": "2024-09-26T10:52:12.705Z"
   },
   {
    "duration": 36,
    "start_time": "2024-09-26T10:52:12.718Z"
   },
   {
    "duration": 271,
    "start_time": "2024-09-26T10:52:12.756Z"
   },
   {
    "duration": 25,
    "start_time": "2024-09-26T10:52:13.029Z"
   },
   {
    "duration": 234,
    "start_time": "2024-09-26T10:52:13.057Z"
   },
   {
    "duration": 11,
    "start_time": "2024-09-26T10:52:13.293Z"
   },
   {
    "duration": 24,
    "start_time": "2024-09-26T10:52:13.305Z"
   },
   {
    "duration": 319,
    "start_time": "2024-09-26T10:52:13.331Z"
   },
   {
    "duration": 14,
    "start_time": "2024-09-26T10:52:13.652Z"
   },
   {
    "duration": 10,
    "start_time": "2024-09-26T10:52:13.668Z"
   },
   {
    "duration": 210,
    "start_time": "2024-09-26T10:52:13.680Z"
   },
   {
    "duration": 9,
    "start_time": "2024-09-26T10:52:13.892Z"
   },
   {
    "duration": 305,
    "start_time": "2024-09-26T10:52:13.902Z"
   },
   {
    "duration": 168,
    "start_time": "2024-09-26T10:52:14.208Z"
   },
   {
    "duration": 8,
    "start_time": "2024-09-26T10:52:14.378Z"
   },
   {
    "duration": 362,
    "start_time": "2024-09-26T10:52:14.388Z"
   },
   {
    "duration": 12,
    "start_time": "2024-09-26T10:52:14.752Z"
   },
   {
    "duration": 14,
    "start_time": "2024-09-26T10:52:14.767Z"
   },
   {
    "duration": 331,
    "start_time": "2024-09-26T10:52:14.783Z"
   },
   {
    "duration": 9,
    "start_time": "2024-09-26T10:52:15.116Z"
   },
   {
    "duration": 323,
    "start_time": "2024-09-26T10:52:15.126Z"
   },
   {
    "duration": 7,
    "start_time": "2024-09-26T10:52:15.451Z"
   },
   {
    "duration": 12,
    "start_time": "2024-09-26T10:52:15.459Z"
   },
   {
    "duration": 11,
    "start_time": "2024-09-26T10:52:15.472Z"
   },
   {
    "duration": 363,
    "start_time": "2024-09-26T10:52:15.484Z"
   },
   {
    "duration": 163,
    "start_time": "2024-09-26T10:52:15.849Z"
   },
   {
    "duration": 211,
    "start_time": "2024-09-26T10:52:16.015Z"
   },
   {
    "duration": 187,
    "start_time": "2024-09-26T10:52:16.228Z"
   },
   {
    "duration": 179,
    "start_time": "2024-09-26T10:52:16.417Z"
   },
   {
    "duration": 291,
    "start_time": "2024-09-26T10:52:16.598Z"
   },
   {
    "duration": 168,
    "start_time": "2024-09-26T10:52:16.891Z"
   },
   {
    "duration": 173,
    "start_time": "2024-09-26T10:52:17.060Z"
   },
   {
    "duration": 181,
    "start_time": "2024-09-26T10:52:17.235Z"
   },
   {
    "duration": 184,
    "start_time": "2024-09-26T10:52:17.418Z"
   },
   {
    "duration": 185,
    "start_time": "2024-09-26T10:52:17.604Z"
   },
   {
    "duration": 53,
    "start_time": "2024-09-26T10:52:17.791Z"
   },
   {
    "duration": 33,
    "start_time": "2024-09-26T10:52:17.846Z"
   },
   {
    "duration": 11,
    "start_time": "2024-09-26T10:52:17.880Z"
   },
   {
    "duration": 116,
    "start_time": "2024-09-26T10:52:17.893Z"
   },
   {
    "duration": 0,
    "start_time": "2024-09-26T10:52:18.010Z"
   },
   {
    "duration": 25,
    "start_time": "2024-09-26T10:55:13.476Z"
   },
   {
    "duration": 24,
    "start_time": "2024-09-26T10:55:56.256Z"
   },
   {
    "duration": 35,
    "start_time": "2024-09-26T11:01:27.472Z"
   },
   {
    "duration": 33,
    "start_time": "2024-09-26T11:01:34.256Z"
   },
   {
    "duration": 26,
    "start_time": "2024-09-26T11:01:47.699Z"
   },
   {
    "duration": 7,
    "start_time": "2024-09-26T11:05:11.975Z"
   },
   {
    "duration": 3,
    "start_time": "2024-09-26T11:09:39.444Z"
   },
   {
    "duration": 1458,
    "start_time": "2024-09-26T11:09:58.372Z"
   },
   {
    "duration": 14,
    "start_time": "2024-09-26T11:09:59.832Z"
   },
   {
    "duration": 31,
    "start_time": "2024-09-26T11:09:59.848Z"
   },
   {
    "duration": 2020,
    "start_time": "2024-09-26T11:09:59.881Z"
   },
   {
    "duration": 9,
    "start_time": "2024-09-26T11:10:01.903Z"
   },
   {
    "duration": 11,
    "start_time": "2024-09-26T11:10:01.914Z"
   },
   {
    "duration": 26,
    "start_time": "2024-09-26T11:10:01.927Z"
   },
   {
    "duration": 88,
    "start_time": "2024-09-26T11:10:01.954Z"
   },
   {
    "duration": 103,
    "start_time": "2024-09-26T11:10:02.044Z"
   },
   {
    "duration": 23,
    "start_time": "2024-09-26T11:10:02.149Z"
   },
   {
    "duration": 37,
    "start_time": "2024-09-26T11:10:02.173Z"
   },
   {
    "duration": 87,
    "start_time": "2024-09-26T11:10:02.212Z"
   },
   {
    "duration": 41,
    "start_time": "2024-09-26T11:10:02.301Z"
   },
   {
    "duration": 20,
    "start_time": "2024-09-26T11:10:02.344Z"
   },
   {
    "duration": 363,
    "start_time": "2024-09-26T11:10:02.366Z"
   },
   {
    "duration": 126,
    "start_time": "2024-09-26T11:10:02.731Z"
   },
   {
    "duration": 29,
    "start_time": "2024-09-26T11:10:02.858Z"
   },
   {
    "duration": 29,
    "start_time": "2024-09-26T11:10:02.889Z"
   },
   {
    "duration": 7,
    "start_time": "2024-09-26T11:10:02.920Z"
   },
   {
    "duration": 14,
    "start_time": "2024-09-26T11:10:02.929Z"
   },
   {
    "duration": 117,
    "start_time": "2024-09-26T11:10:02.944Z"
   },
   {
    "duration": 31,
    "start_time": "2024-09-26T11:10:03.062Z"
   },
   {
    "duration": 17,
    "start_time": "2024-09-26T11:10:03.095Z"
   },
   {
    "duration": 359,
    "start_time": "2024-09-26T11:10:03.114Z"
   },
   {
    "duration": 5,
    "start_time": "2024-09-26T11:10:03.474Z"
   },
   {
    "duration": 61,
    "start_time": "2024-09-26T11:10:03.481Z"
   },
   {
    "duration": 34,
    "start_time": "2024-09-26T11:10:03.545Z"
   },
   {
    "duration": 23,
    "start_time": "2024-09-26T11:10:03.583Z"
   },
   {
    "duration": 343,
    "start_time": "2024-09-26T11:10:03.607Z"
   },
   {
    "duration": 13,
    "start_time": "2024-09-26T11:10:03.952Z"
   },
   {
    "duration": 27,
    "start_time": "2024-09-26T11:10:03.968Z"
   },
   {
    "duration": 242,
    "start_time": "2024-09-26T11:10:03.997Z"
   },
   {
    "duration": 10,
    "start_time": "2024-09-26T11:10:04.240Z"
   },
   {
    "duration": 249,
    "start_time": "2024-09-26T11:10:04.251Z"
   },
   {
    "duration": 8,
    "start_time": "2024-09-26T11:10:04.502Z"
   },
   {
    "duration": 9,
    "start_time": "2024-09-26T11:10:04.512Z"
   },
   {
    "duration": 453,
    "start_time": "2024-09-26T11:10:04.522Z"
   },
   {
    "duration": 9,
    "start_time": "2024-09-26T11:10:04.976Z"
   },
   {
    "duration": 88,
    "start_time": "2024-09-26T11:10:04.986Z"
   },
   {
    "duration": 186,
    "start_time": "2024-09-26T11:10:05.076Z"
   },
   {
    "duration": 8,
    "start_time": "2024-09-26T11:10:05.264Z"
   },
   {
    "duration": 252,
    "start_time": "2024-09-26T11:10:05.274Z"
   },
   {
    "duration": 158,
    "start_time": "2024-09-26T11:10:05.528Z"
   },
   {
    "duration": 8,
    "start_time": "2024-09-26T11:10:05.687Z"
   },
   {
    "duration": 327,
    "start_time": "2024-09-26T11:10:05.696Z"
   },
   {
    "duration": 21,
    "start_time": "2024-09-26T11:10:06.025Z"
   },
   {
    "duration": 69,
    "start_time": "2024-09-26T11:10:06.047Z"
   },
   {
    "duration": 294,
    "start_time": "2024-09-26T11:10:06.118Z"
   },
   {
    "duration": 9,
    "start_time": "2024-09-26T11:10:06.413Z"
   },
   {
    "duration": 342,
    "start_time": "2024-09-26T11:10:06.424Z"
   },
   {
    "duration": 4,
    "start_time": "2024-09-26T11:10:06.769Z"
   },
   {
    "duration": 156,
    "start_time": "2024-09-26T11:10:06.775Z"
   },
   {
    "duration": 92,
    "start_time": "2024-09-26T11:10:06.933Z"
   },
   {
    "duration": 310,
    "start_time": "2024-09-26T11:10:07.026Z"
   },
   {
    "duration": 120,
    "start_time": "2024-09-26T11:10:07.338Z"
   },
   {
    "duration": 172,
    "start_time": "2024-09-26T11:10:07.460Z"
   },
   {
    "duration": 187,
    "start_time": "2024-09-26T11:10:07.633Z"
   },
   {
    "duration": 180,
    "start_time": "2024-09-26T11:10:07.822Z"
   },
   {
    "duration": 175,
    "start_time": "2024-09-26T11:10:08.004Z"
   },
   {
    "duration": 172,
    "start_time": "2024-09-26T11:10:08.181Z"
   },
   {
    "duration": 173,
    "start_time": "2024-09-26T11:10:08.357Z"
   },
   {
    "duration": 174,
    "start_time": "2024-09-26T11:10:08.532Z"
   },
   {
    "duration": 188,
    "start_time": "2024-09-26T11:10:08.707Z"
   },
   {
    "duration": 332,
    "start_time": "2024-09-26T11:10:08.897Z"
   },
   {
    "duration": 59,
    "start_time": "2024-09-26T11:10:09.231Z"
   },
   {
    "duration": 25,
    "start_time": "2024-09-26T11:10:09.292Z"
   },
   {
    "duration": 11,
    "start_time": "2024-09-26T11:10:09.318Z"
   },
   {
    "duration": 10,
    "start_time": "2024-09-26T11:10:09.343Z"
   },
   {
    "duration": 31,
    "start_time": "2024-09-26T11:10:09.355Z"
   },
   {
    "duration": 0,
    "start_time": "2024-09-26T11:10:09.388Z"
   },
   {
    "duration": 4,
    "start_time": "2024-09-26T11:11:06.703Z"
   },
   {
    "duration": 8,
    "start_time": "2024-09-26T11:13:25.523Z"
   },
   {
    "duration": 535,
    "start_time": "2024-09-26T11:13:33.631Z"
   },
   {
    "duration": 15,
    "start_time": "2024-09-26T11:13:34.168Z"
   },
   {
    "duration": 29,
    "start_time": "2024-09-26T11:13:34.185Z"
   },
   {
    "duration": 1819,
    "start_time": "2024-09-26T11:13:34.216Z"
   },
   {
    "duration": 10,
    "start_time": "2024-09-26T11:13:36.036Z"
   },
   {
    "duration": 70,
    "start_time": "2024-09-26T11:13:36.047Z"
   },
   {
    "duration": 37,
    "start_time": "2024-09-26T11:13:36.119Z"
   },
   {
    "duration": 42,
    "start_time": "2024-09-26T11:13:36.158Z"
   },
   {
    "duration": 54,
    "start_time": "2024-09-26T11:13:36.202Z"
   },
   {
    "duration": 98,
    "start_time": "2024-09-26T11:13:36.259Z"
   },
   {
    "duration": 32,
    "start_time": "2024-09-26T11:13:36.358Z"
   },
   {
    "duration": 28,
    "start_time": "2024-09-26T11:13:36.392Z"
   },
   {
    "duration": 45,
    "start_time": "2024-09-26T11:13:36.421Z"
   },
   {
    "duration": 33,
    "start_time": "2024-09-26T11:13:36.468Z"
   },
   {
    "duration": 354,
    "start_time": "2024-09-26T11:13:36.503Z"
   },
   {
    "duration": 103,
    "start_time": "2024-09-26T11:13:36.859Z"
   },
   {
    "duration": 8,
    "start_time": "2024-09-26T11:13:36.963Z"
   },
   {
    "duration": 101,
    "start_time": "2024-09-26T11:13:36.972Z"
   },
   {
    "duration": 46,
    "start_time": "2024-09-26T11:13:37.075Z"
   },
   {
    "duration": 31,
    "start_time": "2024-09-26T11:13:37.123Z"
   },
   {
    "duration": 46,
    "start_time": "2024-09-26T11:13:37.155Z"
   },
   {
    "duration": 35,
    "start_time": "2024-09-26T11:13:37.203Z"
   },
   {
    "duration": 13,
    "start_time": "2024-09-26T11:13:37.240Z"
   },
   {
    "duration": 358,
    "start_time": "2024-09-26T11:13:37.255Z"
   },
   {
    "duration": 6,
    "start_time": "2024-09-26T11:13:37.615Z"
   },
   {
    "duration": 41,
    "start_time": "2024-09-26T11:13:37.623Z"
   },
   {
    "duration": 28,
    "start_time": "2024-09-26T11:13:37.666Z"
   },
   {
    "duration": 21,
    "start_time": "2024-09-26T11:13:37.698Z"
   },
   {
    "duration": 509,
    "start_time": "2024-09-26T11:13:37.720Z"
   },
   {
    "duration": 15,
    "start_time": "2024-09-26T11:13:38.230Z"
   },
   {
    "duration": 92,
    "start_time": "2024-09-26T11:13:38.247Z"
   },
   {
    "duration": 250,
    "start_time": "2024-09-26T11:13:38.341Z"
   },
   {
    "duration": 9,
    "start_time": "2024-09-26T11:13:38.593Z"
   },
   {
    "duration": 203,
    "start_time": "2024-09-26T11:13:38.603Z"
   },
   {
    "duration": 9,
    "start_time": "2024-09-26T11:13:38.808Z"
   },
   {
    "duration": 59,
    "start_time": "2024-09-26T11:13:38.819Z"
   },
   {
    "duration": 300,
    "start_time": "2024-09-26T11:13:38.880Z"
   },
   {
    "duration": 8,
    "start_time": "2024-09-26T11:13:39.182Z"
   },
   {
    "duration": 37,
    "start_time": "2024-09-26T11:13:39.192Z"
   },
   {
    "duration": 169,
    "start_time": "2024-09-26T11:13:39.231Z"
   },
   {
    "duration": 8,
    "start_time": "2024-09-26T11:13:39.402Z"
   },
   {
    "duration": 246,
    "start_time": "2024-09-26T11:13:39.412Z"
   },
   {
    "duration": 149,
    "start_time": "2024-09-26T11:13:39.660Z"
   },
   {
    "duration": 8,
    "start_time": "2024-09-26T11:13:39.810Z"
   },
   {
    "duration": 323,
    "start_time": "2024-09-26T11:13:39.820Z"
   },
   {
    "duration": 10,
    "start_time": "2024-09-26T11:13:40.144Z"
   },
   {
    "duration": 36,
    "start_time": "2024-09-26T11:13:40.156Z"
   },
   {
    "duration": 320,
    "start_time": "2024-09-26T11:13:40.193Z"
   },
   {
    "duration": 11,
    "start_time": "2024-09-26T11:13:40.516Z"
   },
   {
    "duration": 338,
    "start_time": "2024-09-26T11:13:40.529Z"
   },
   {
    "duration": 4,
    "start_time": "2024-09-26T11:13:40.869Z"
   },
   {
    "duration": 28,
    "start_time": "2024-09-26T11:13:40.874Z"
   },
   {
    "duration": 26,
    "start_time": "2024-09-26T11:13:40.904Z"
   },
   {
    "duration": 298,
    "start_time": "2024-09-26T11:13:40.932Z"
   },
   {
    "duration": 105,
    "start_time": "2024-09-26T11:13:41.231Z"
   },
   {
    "duration": 169,
    "start_time": "2024-09-26T11:13:41.337Z"
   },
   {
    "duration": 175,
    "start_time": "2024-09-26T11:13:41.508Z"
   },
   {
    "duration": 169,
    "start_time": "2024-09-26T11:13:41.685Z"
   },
   {
    "duration": 165,
    "start_time": "2024-09-26T11:13:41.856Z"
   },
   {
    "duration": 160,
    "start_time": "2024-09-26T11:13:42.023Z"
   },
   {
    "duration": 170,
    "start_time": "2024-09-26T11:13:42.184Z"
   },
   {
    "duration": 170,
    "start_time": "2024-09-26T11:13:42.355Z"
   },
   {
    "duration": 166,
    "start_time": "2024-09-26T11:13:42.527Z"
   },
   {
    "duration": 180,
    "start_time": "2024-09-26T11:13:42.695Z"
   },
   {
    "duration": 43,
    "start_time": "2024-09-26T11:13:42.876Z"
   },
   {
    "duration": 38,
    "start_time": "2024-09-26T11:13:42.920Z"
   },
   {
    "duration": 10,
    "start_time": "2024-09-26T11:13:42.959Z"
   },
   {
    "duration": 95,
    "start_time": "2024-09-26T11:13:42.970Z"
   },
   {
    "duration": 44,
    "start_time": "2024-09-26T11:13:43.067Z"
   },
   {
    "duration": 0,
    "start_time": "2024-09-26T11:13:43.112Z"
   },
   {
    "duration": 714,
    "start_time": "2024-09-26T11:15:31.242Z"
   },
   {
    "duration": 20,
    "start_time": "2024-09-26T11:15:31.958Z"
   },
   {
    "duration": 17,
    "start_time": "2024-09-26T11:15:31.979Z"
   },
   {
    "duration": 2157,
    "start_time": "2024-09-26T11:15:31.998Z"
   },
   {
    "duration": 10,
    "start_time": "2024-09-26T11:15:34.157Z"
   },
   {
    "duration": 42,
    "start_time": "2024-09-26T11:15:34.168Z"
   },
   {
    "duration": 26,
    "start_time": "2024-09-26T11:15:34.212Z"
   },
   {
    "duration": 66,
    "start_time": "2024-09-26T11:15:34.239Z"
   },
   {
    "duration": 40,
    "start_time": "2024-09-26T11:15:34.307Z"
   },
   {
    "duration": 29,
    "start_time": "2024-09-26T11:15:34.350Z"
   },
   {
    "duration": 37,
    "start_time": "2024-09-26T11:15:34.381Z"
   },
   {
    "duration": 30,
    "start_time": "2024-09-26T11:15:34.420Z"
   },
   {
    "duration": 31,
    "start_time": "2024-09-26T11:15:34.452Z"
   },
   {
    "duration": 45,
    "start_time": "2024-09-26T11:15:34.484Z"
   },
   {
    "duration": 351,
    "start_time": "2024-09-26T11:15:34.530Z"
   },
   {
    "duration": 105,
    "start_time": "2024-09-26T11:15:34.882Z"
   },
   {
    "duration": 10,
    "start_time": "2024-09-26T11:15:34.988Z"
   },
   {
    "duration": 65,
    "start_time": "2024-09-26T11:15:34.999Z"
   },
   {
    "duration": 26,
    "start_time": "2024-09-26T11:15:35.066Z"
   },
   {
    "duration": 7,
    "start_time": "2024-09-26T11:15:35.093Z"
   },
   {
    "duration": 26,
    "start_time": "2024-09-26T11:15:35.102Z"
   },
   {
    "duration": 5,
    "start_time": "2024-09-26T11:15:35.130Z"
   },
   {
    "duration": 4,
    "start_time": "2024-09-26T11:15:35.136Z"
   },
   {
    "duration": 321,
    "start_time": "2024-09-26T11:15:35.141Z"
   },
   {
    "duration": 4,
    "start_time": "2024-09-26T11:15:35.464Z"
   },
   {
    "duration": 51,
    "start_time": "2024-09-26T11:15:35.469Z"
   },
   {
    "duration": 8,
    "start_time": "2024-09-26T11:15:35.522Z"
   },
   {
    "duration": 7,
    "start_time": "2024-09-26T11:15:35.533Z"
   },
   {
    "duration": 390,
    "start_time": "2024-09-26T11:15:35.542Z"
   },
   {
    "duration": 15,
    "start_time": "2024-09-26T11:15:35.934Z"
   },
   {
    "duration": 22,
    "start_time": "2024-09-26T11:15:35.950Z"
   },
   {
    "duration": 241,
    "start_time": "2024-09-26T11:15:35.974Z"
   },
   {
    "duration": 10,
    "start_time": "2024-09-26T11:15:36.217Z"
   },
   {
    "duration": 252,
    "start_time": "2024-09-26T11:15:36.228Z"
   },
   {
    "duration": 9,
    "start_time": "2024-09-26T11:15:36.481Z"
   },
   {
    "duration": 27,
    "start_time": "2024-09-26T11:15:36.492Z"
   },
   {
    "duration": 274,
    "start_time": "2024-09-26T11:15:36.520Z"
   },
   {
    "duration": 10,
    "start_time": "2024-09-26T11:15:36.796Z"
   },
   {
    "duration": 95,
    "start_time": "2024-09-26T11:15:36.807Z"
   },
   {
    "duration": 162,
    "start_time": "2024-09-26T11:15:36.903Z"
   },
   {
    "duration": 8,
    "start_time": "2024-09-26T11:15:37.066Z"
   },
   {
    "duration": 244,
    "start_time": "2024-09-26T11:15:37.076Z"
   },
   {
    "duration": 155,
    "start_time": "2024-09-26T11:15:37.322Z"
   },
   {
    "duration": 7,
    "start_time": "2024-09-26T11:15:37.479Z"
   },
   {
    "duration": 345,
    "start_time": "2024-09-26T11:15:37.489Z"
   },
   {
    "duration": 13,
    "start_time": "2024-09-26T11:15:37.836Z"
   },
   {
    "duration": 62,
    "start_time": "2024-09-26T11:15:37.851Z"
   },
   {
    "duration": 302,
    "start_time": "2024-09-26T11:15:37.914Z"
   },
   {
    "duration": 9,
    "start_time": "2024-09-26T11:15:38.218Z"
   },
   {
    "duration": 307,
    "start_time": "2024-09-26T11:15:38.229Z"
   },
   {
    "duration": 7,
    "start_time": "2024-09-26T11:15:38.537Z"
   },
   {
    "duration": 34,
    "start_time": "2024-09-26T11:15:38.545Z"
   },
   {
    "duration": 38,
    "start_time": "2024-09-26T11:15:38.581Z"
   },
   {
    "duration": 311,
    "start_time": "2024-09-26T11:15:38.620Z"
   },
   {
    "duration": 111,
    "start_time": "2024-09-26T11:15:38.932Z"
   },
   {
    "duration": 182,
    "start_time": "2024-09-26T11:15:39.044Z"
   },
   {
    "duration": 178,
    "start_time": "2024-09-26T11:15:39.228Z"
   },
   {
    "duration": 187,
    "start_time": "2024-09-26T11:15:39.407Z"
   },
   {
    "duration": 272,
    "start_time": "2024-09-26T11:15:39.596Z"
   },
   {
    "duration": 178,
    "start_time": "2024-09-26T11:15:39.870Z"
   },
   {
    "duration": 176,
    "start_time": "2024-09-26T11:15:40.050Z"
   },
   {
    "duration": 173,
    "start_time": "2024-09-26T11:15:40.228Z"
   },
   {
    "duration": 178,
    "start_time": "2024-09-26T11:15:40.403Z"
   },
   {
    "duration": 170,
    "start_time": "2024-09-26T11:15:40.583Z"
   },
   {
    "duration": 52,
    "start_time": "2024-09-26T11:15:40.758Z"
   },
   {
    "duration": 39,
    "start_time": "2024-09-26T11:15:40.812Z"
   },
   {
    "duration": 52,
    "start_time": "2024-09-26T11:15:40.852Z"
   },
   {
    "duration": 6,
    "start_time": "2024-09-26T11:15:40.907Z"
   },
   {
    "duration": 88,
    "start_time": "2024-09-26T11:15:40.915Z"
   },
   {
    "duration": 0,
    "start_time": "2024-09-26T11:15:41.005Z"
   },
   {
    "duration": 87,
    "start_time": "2024-09-26T11:16:57.192Z"
   },
   {
    "duration": 599,
    "start_time": "2024-09-27T13:41:05.459Z"
   },
   {
    "duration": 13,
    "start_time": "2024-09-27T13:41:06.060Z"
   },
   {
    "duration": 103,
    "start_time": "2024-09-27T13:41:06.074Z"
   },
   {
    "duration": 2054,
    "start_time": "2024-09-27T13:41:06.179Z"
   },
   {
    "duration": 9,
    "start_time": "2024-09-27T13:41:08.235Z"
   },
   {
    "duration": 76,
    "start_time": "2024-09-27T13:41:08.245Z"
   },
   {
    "duration": 87,
    "start_time": "2024-09-27T13:41:08.322Z"
   },
   {
    "duration": 29,
    "start_time": "2024-09-27T13:41:08.410Z"
   },
   {
    "duration": 43,
    "start_time": "2024-09-27T13:41:08.440Z"
   },
   {
    "duration": 10,
    "start_time": "2024-09-27T13:41:08.485Z"
   },
   {
    "duration": 14,
    "start_time": "2024-09-27T13:41:08.496Z"
   },
   {
    "duration": 49,
    "start_time": "2024-09-27T13:41:08.511Z"
   },
   {
    "duration": 64,
    "start_time": "2024-09-27T13:41:08.561Z"
   },
   {
    "duration": 16,
    "start_time": "2024-09-27T13:41:08.626Z"
   },
   {
    "duration": 334,
    "start_time": "2024-09-27T13:41:08.643Z"
   },
   {
    "duration": 101,
    "start_time": "2024-09-27T13:41:08.979Z"
   },
   {
    "duration": 7,
    "start_time": "2024-09-27T13:41:09.081Z"
   },
   {
    "duration": 151,
    "start_time": "2024-09-27T13:41:09.089Z"
   },
   {
    "duration": 6,
    "start_time": "2024-09-27T13:41:09.241Z"
   },
   {
    "duration": 4,
    "start_time": "2024-09-27T13:41:09.249Z"
   },
   {
    "duration": 8,
    "start_time": "2024-09-27T13:41:09.255Z"
   },
   {
    "duration": 8,
    "start_time": "2024-09-27T13:41:09.264Z"
   },
   {
    "duration": 16,
    "start_time": "2024-09-27T13:41:09.273Z"
   },
   {
    "duration": 359,
    "start_time": "2024-09-27T13:41:09.291Z"
   },
   {
    "duration": 4,
    "start_time": "2024-09-27T13:41:09.652Z"
   },
   {
    "duration": 85,
    "start_time": "2024-09-27T13:41:09.657Z"
   },
   {
    "duration": 8,
    "start_time": "2024-09-27T13:41:09.743Z"
   },
   {
    "duration": 22,
    "start_time": "2024-09-27T13:41:09.756Z"
   },
   {
    "duration": 239,
    "start_time": "2024-09-27T13:41:09.779Z"
   },
   {
    "duration": 9,
    "start_time": "2024-09-27T13:41:10.020Z"
   },
   {
    "duration": 25,
    "start_time": "2024-09-27T13:41:10.030Z"
   },
   {
    "duration": 206,
    "start_time": "2024-09-27T13:41:10.057Z"
   },
   {
    "duration": 8,
    "start_time": "2024-09-27T13:41:10.264Z"
   },
   {
    "duration": 196,
    "start_time": "2024-09-27T13:41:10.274Z"
   },
   {
    "duration": 9,
    "start_time": "2024-09-27T13:41:10.472Z"
   },
   {
    "duration": 11,
    "start_time": "2024-09-27T13:41:10.482Z"
   },
   {
    "duration": 266,
    "start_time": "2024-09-27T13:41:10.494Z"
   },
   {
    "duration": 8,
    "start_time": "2024-09-27T13:41:10.761Z"
   },
   {
    "duration": 25,
    "start_time": "2024-09-27T13:41:10.770Z"
   },
   {
    "duration": 150,
    "start_time": "2024-09-27T13:41:10.797Z"
   },
   {
    "duration": 7,
    "start_time": "2024-09-27T13:41:10.948Z"
   },
   {
    "duration": 217,
    "start_time": "2024-09-27T13:41:10.956Z"
   },
   {
    "duration": 200,
    "start_time": "2024-09-27T13:41:11.175Z"
   },
   {
    "duration": 8,
    "start_time": "2024-09-27T13:41:11.376Z"
   },
   {
    "duration": 215,
    "start_time": "2024-09-27T13:41:11.386Z"
   },
   {
    "duration": 10,
    "start_time": "2024-09-27T13:41:11.603Z"
   },
   {
    "duration": 13,
    "start_time": "2024-09-27T13:41:11.614Z"
   },
   {
    "duration": 259,
    "start_time": "2024-09-27T13:41:11.629Z"
   },
   {
    "duration": 8,
    "start_time": "2024-09-27T13:41:11.890Z"
   },
   {
    "duration": 254,
    "start_time": "2024-09-27T13:41:11.907Z"
   },
   {
    "duration": 3,
    "start_time": "2024-09-27T13:41:12.163Z"
   },
   {
    "duration": 41,
    "start_time": "2024-09-27T13:41:12.168Z"
   },
   {
    "duration": 24,
    "start_time": "2024-09-27T13:41:12.210Z"
   },
   {
    "duration": 260,
    "start_time": "2024-09-27T13:41:12.235Z"
   },
   {
    "duration": 113,
    "start_time": "2024-09-27T13:41:12.497Z"
   },
   {
    "duration": 154,
    "start_time": "2024-09-27T13:41:12.612Z"
   },
   {
    "duration": 227,
    "start_time": "2024-09-27T13:41:12.768Z"
   },
   {
    "duration": 153,
    "start_time": "2024-09-27T13:41:12.996Z"
   },
   {
    "duration": 145,
    "start_time": "2024-09-27T13:41:13.151Z"
   },
   {
    "duration": 138,
    "start_time": "2024-09-27T13:41:13.297Z"
   },
   {
    "duration": 152,
    "start_time": "2024-09-27T13:41:13.437Z"
   },
   {
    "duration": 145,
    "start_time": "2024-09-27T13:41:13.591Z"
   },
   {
    "duration": 144,
    "start_time": "2024-09-27T13:41:13.738Z"
   },
   {
    "duration": 146,
    "start_time": "2024-09-27T13:41:13.883Z"
   },
   {
    "duration": 48,
    "start_time": "2024-09-27T13:41:14.030Z"
   },
   {
    "duration": 37,
    "start_time": "2024-09-27T13:41:14.079Z"
   },
   {
    "duration": 9,
    "start_time": "2024-09-27T13:41:14.117Z"
   },
   {
    "duration": 9,
    "start_time": "2024-09-27T13:41:14.127Z"
   },
   {
    "duration": 106,
    "start_time": "2024-09-27T13:41:14.137Z"
   },
   {
    "duration": 0,
    "start_time": "2024-09-27T13:41:14.245Z"
   },
   {
    "duration": 98,
    "start_time": "2024-09-27T13:45:12.293Z"
   },
   {
    "duration": 7,
    "start_time": "2024-09-27T13:46:15.101Z"
   },
   {
    "duration": 9,
    "start_time": "2024-09-27T13:46:18.017Z"
   },
   {
    "duration": 4,
    "start_time": "2024-09-27T13:51:23.295Z"
   },
   {
    "duration": 13,
    "start_time": "2024-09-27T13:56:24.401Z"
   },
   {
    "duration": 10,
    "start_time": "2024-09-27T13:57:15.313Z"
   },
   {
    "duration": 4,
    "start_time": "2024-09-27T13:58:24.768Z"
   },
   {
    "duration": 7,
    "start_time": "2024-09-27T13:58:33.625Z"
   },
   {
    "duration": 7,
    "start_time": "2024-09-27T13:59:03.136Z"
   },
   {
    "duration": 8,
    "start_time": "2024-09-27T13:59:28.925Z"
   },
   {
    "duration": 23,
    "start_time": "2024-09-27T14:02:28.697Z"
   },
   {
    "duration": 149,
    "start_time": "2024-09-27T14:21:24.208Z"
   },
   {
    "duration": 159,
    "start_time": "2024-09-27T14:21:44.502Z"
   },
   {
    "duration": 135,
    "start_time": "2024-09-27T14:21:54.146Z"
   },
   {
    "duration": 143,
    "start_time": "2024-09-27T14:22:03.734Z"
   },
   {
    "duration": 123,
    "start_time": "2024-09-27T14:22:13.380Z"
   },
   {
    "duration": 17,
    "start_time": "2024-09-27T14:23:07.375Z"
   },
   {
    "duration": 21,
    "start_time": "2024-09-27T14:23:29.922Z"
   },
   {
    "duration": 17,
    "start_time": "2024-09-27T14:23:41.896Z"
   },
   {
    "duration": 22,
    "start_time": "2024-09-27T14:23:56.597Z"
   },
   {
    "duration": 32,
    "start_time": "2024-09-27T14:29:53.701Z"
   },
   {
    "duration": 2,
    "start_time": "2024-09-27T14:30:12.070Z"
   },
   {
    "duration": 20,
    "start_time": "2024-09-27T14:31:41.359Z"
   },
   {
    "duration": 16,
    "start_time": "2024-09-27T14:31:49.898Z"
   },
   {
    "duration": 15,
    "start_time": "2024-09-27T14:31:59.482Z"
   },
   {
    "duration": 29,
    "start_time": "2024-09-27T14:32:09.185Z"
   },
   {
    "duration": 7,
    "start_time": "2024-09-27T14:32:53.641Z"
   },
   {
    "duration": 362,
    "start_time": "2024-09-27T14:39:06.916Z"
   },
   {
    "duration": 12,
    "start_time": "2024-09-27T14:39:07.280Z"
   },
   {
    "duration": 75,
    "start_time": "2024-09-27T14:39:07.293Z"
   },
   {
    "duration": 1652,
    "start_time": "2024-09-27T14:39:07.370Z"
   },
   {
    "duration": 9,
    "start_time": "2024-09-27T14:39:09.024Z"
   },
   {
    "duration": 4,
    "start_time": "2024-09-27T14:39:09.035Z"
   },
   {
    "duration": 23,
    "start_time": "2024-09-27T14:39:09.040Z"
   },
   {
    "duration": 15,
    "start_time": "2024-09-27T14:39:09.065Z"
   },
   {
    "duration": 14,
    "start_time": "2024-09-27T14:39:09.081Z"
   },
   {
    "duration": 10,
    "start_time": "2024-09-27T14:39:09.098Z"
   },
   {
    "duration": 5,
    "start_time": "2024-09-27T14:39:09.109Z"
   },
   {
    "duration": 7,
    "start_time": "2024-09-27T14:39:09.116Z"
   },
   {
    "duration": 32,
    "start_time": "2024-09-27T14:39:09.124Z"
   },
   {
    "duration": 30,
    "start_time": "2024-09-27T14:39:09.158Z"
   },
   {
    "duration": 396,
    "start_time": "2024-09-27T14:39:09.190Z"
   },
   {
    "duration": 8,
    "start_time": "2024-09-27T14:39:09.587Z"
   },
   {
    "duration": 15,
    "start_time": "2024-09-27T14:39:09.596Z"
   },
   {
    "duration": 10,
    "start_time": "2024-09-27T14:39:09.613Z"
   },
   {
    "duration": 5,
    "start_time": "2024-09-27T14:39:09.625Z"
   },
   {
    "duration": 5,
    "start_time": "2024-09-27T14:39:09.632Z"
   },
   {
    "duration": 10,
    "start_time": "2024-09-27T14:39:09.638Z"
   },
   {
    "duration": 14,
    "start_time": "2024-09-27T14:39:09.649Z"
   },
   {
    "duration": 3,
    "start_time": "2024-09-27T14:39:09.664Z"
   },
   {
    "duration": 354,
    "start_time": "2024-09-27T14:39:09.668Z"
   },
   {
    "duration": 3,
    "start_time": "2024-09-27T14:39:10.024Z"
   },
   {
    "duration": 141,
    "start_time": "2024-09-27T14:39:10.029Z"
   },
   {
    "duration": 7,
    "start_time": "2024-09-27T14:39:10.172Z"
   },
   {
    "duration": 355,
    "start_time": "2024-09-27T14:39:10.182Z"
   },
   {
    "duration": 10,
    "start_time": "2024-09-27T14:39:10.538Z"
   },
   {
    "duration": 103,
    "start_time": "2024-09-27T14:39:10.549Z"
   },
   {
    "duration": 273,
    "start_time": "2024-09-27T14:39:10.654Z"
   },
   {
    "duration": 7,
    "start_time": "2024-09-27T14:39:10.929Z"
   },
   {
    "duration": 167,
    "start_time": "2024-09-27T14:39:10.937Z"
   },
   {
    "duration": 9,
    "start_time": "2024-09-27T14:39:11.107Z"
   },
   {
    "duration": 30,
    "start_time": "2024-09-27T14:39:11.117Z"
   },
   {
    "duration": 243,
    "start_time": "2024-09-27T14:39:11.149Z"
   },
   {
    "duration": 17,
    "start_time": "2024-09-27T14:39:11.394Z"
   },
   {
    "duration": 9,
    "start_time": "2024-09-27T14:39:11.413Z"
   },
   {
    "duration": 164,
    "start_time": "2024-09-27T14:39:11.424Z"
   },
   {
    "duration": 10,
    "start_time": "2024-09-27T14:39:11.589Z"
   },
   {
    "duration": 209,
    "start_time": "2024-09-27T14:39:11.606Z"
   },
   {
    "duration": 133,
    "start_time": "2024-09-27T14:39:11.816Z"
   },
   {
    "duration": 8,
    "start_time": "2024-09-27T14:39:11.951Z"
   },
   {
    "duration": 382,
    "start_time": "2024-09-27T14:39:11.961Z"
   },
   {
    "duration": 9,
    "start_time": "2024-09-27T14:39:12.344Z"
   },
   {
    "duration": 24,
    "start_time": "2024-09-27T14:39:12.355Z"
   },
   {
    "duration": 264,
    "start_time": "2024-09-27T14:39:12.380Z"
   },
   {
    "duration": 9,
    "start_time": "2024-09-27T14:39:12.645Z"
   },
   {
    "duration": 282,
    "start_time": "2024-09-27T14:39:12.655Z"
   },
   {
    "duration": 4,
    "start_time": "2024-09-27T14:39:12.938Z"
   },
   {
    "duration": 22,
    "start_time": "2024-09-27T14:39:12.944Z"
   },
   {
    "duration": 16,
    "start_time": "2024-09-27T14:39:12.968Z"
   },
   {
    "duration": 386,
    "start_time": "2024-09-27T14:39:12.986Z"
   },
   {
    "duration": 97,
    "start_time": "2024-09-27T14:39:13.374Z"
   },
   {
    "duration": 163,
    "start_time": "2024-09-27T14:39:13.473Z"
   },
   {
    "duration": 152,
    "start_time": "2024-09-27T14:39:13.637Z"
   },
   {
    "duration": 151,
    "start_time": "2024-09-27T14:39:13.791Z"
   },
   {
    "duration": 133,
    "start_time": "2024-09-27T14:39:13.943Z"
   },
   {
    "duration": 134,
    "start_time": "2024-09-27T14:39:14.078Z"
   },
   {
    "duration": 142,
    "start_time": "2024-09-27T14:39:14.214Z"
   },
   {
    "duration": 140,
    "start_time": "2024-09-27T14:39:14.357Z"
   },
   {
    "duration": 148,
    "start_time": "2024-09-27T14:39:14.499Z"
   },
   {
    "duration": 154,
    "start_time": "2024-09-27T14:39:14.649Z"
   },
   {
    "duration": 54,
    "start_time": "2024-09-27T14:39:14.806Z"
   },
   {
    "duration": 13,
    "start_time": "2024-09-27T14:39:14.861Z"
   },
   {
    "duration": 2,
    "start_time": "2024-09-27T14:39:14.875Z"
   },
   {
    "duration": 48,
    "start_time": "2024-09-27T14:39:14.879Z"
   },
   {
    "duration": 9,
    "start_time": "2024-09-27T14:39:14.928Z"
   },
   {
    "duration": 12,
    "start_time": "2024-09-27T14:39:14.938Z"
   },
   {
    "duration": 171,
    "start_time": "2024-09-27T14:39:14.951Z"
   },
   {
    "duration": 18,
    "start_time": "2024-09-27T14:39:15.123Z"
   },
   {
    "duration": 593,
    "start_time": "2024-09-27T14:48:45.845Z"
   },
   {
    "duration": 13,
    "start_time": "2024-09-27T14:48:46.439Z"
   },
   {
    "duration": 3,
    "start_time": "2024-09-27T14:48:46.453Z"
   },
   {
    "duration": 1859,
    "start_time": "2024-09-27T14:48:46.458Z"
   },
   {
    "duration": 10,
    "start_time": "2024-09-27T14:48:48.319Z"
   },
   {
    "duration": 7,
    "start_time": "2024-09-27T14:48:48.331Z"
   },
   {
    "duration": 12,
    "start_time": "2024-09-27T14:48:48.339Z"
   },
   {
    "duration": 14,
    "start_time": "2024-09-27T14:48:48.352Z"
   },
   {
    "duration": 13,
    "start_time": "2024-09-27T14:48:48.367Z"
   },
   {
    "duration": 8,
    "start_time": "2024-09-27T14:48:48.382Z"
   },
   {
    "duration": 4,
    "start_time": "2024-09-27T14:48:48.391Z"
   },
   {
    "duration": 11,
    "start_time": "2024-09-27T14:48:48.396Z"
   },
   {
    "duration": 11,
    "start_time": "2024-09-27T14:48:48.408Z"
   },
   {
    "duration": 4,
    "start_time": "2024-09-27T14:48:48.420Z"
   },
   {
    "duration": 314,
    "start_time": "2024-09-27T14:48:48.425Z"
   },
   {
    "duration": 8,
    "start_time": "2024-09-27T14:48:48.741Z"
   },
   {
    "duration": 8,
    "start_time": "2024-09-27T14:48:48.750Z"
   },
   {
    "duration": 18,
    "start_time": "2024-09-27T14:48:48.759Z"
   },
   {
    "duration": 26,
    "start_time": "2024-09-27T14:48:48.778Z"
   },
   {
    "duration": 13,
    "start_time": "2024-09-27T14:48:48.805Z"
   },
   {
    "duration": 11,
    "start_time": "2024-09-27T14:48:48.819Z"
   },
   {
    "duration": 5,
    "start_time": "2024-09-27T14:48:48.831Z"
   },
   {
    "duration": 5,
    "start_time": "2024-09-27T14:48:48.838Z"
   },
   {
    "duration": 313,
    "start_time": "2024-09-27T14:48:48.844Z"
   },
   {
    "duration": 4,
    "start_time": "2024-09-27T14:48:49.159Z"
   },
   {
    "duration": 28,
    "start_time": "2024-09-27T14:48:49.172Z"
   },
   {
    "duration": 9,
    "start_time": "2024-09-27T14:48:49.208Z"
   },
   {
    "duration": 280,
    "start_time": "2024-09-27T14:48:49.222Z"
   },
   {
    "duration": 12,
    "start_time": "2024-09-27T14:48:49.503Z"
   },
   {
    "duration": 27,
    "start_time": "2024-09-27T14:48:49.516Z"
   },
   {
    "duration": 261,
    "start_time": "2024-09-27T14:48:49.544Z"
   },
   {
    "duration": 8,
    "start_time": "2024-09-27T14:48:49.806Z"
   },
   {
    "duration": 170,
    "start_time": "2024-09-27T14:48:49.815Z"
   },
   {
    "duration": 7,
    "start_time": "2024-09-27T14:48:49.987Z"
   },
   {
    "duration": 17,
    "start_time": "2024-09-27T14:48:49.996Z"
   },
   {
    "duration": 250,
    "start_time": "2024-09-27T14:48:50.015Z"
   },
   {
    "duration": 9,
    "start_time": "2024-09-27T14:48:50.266Z"
   },
   {
    "duration": 31,
    "start_time": "2024-09-27T14:48:50.276Z"
   },
   {
    "duration": 155,
    "start_time": "2024-09-27T14:48:50.309Z"
   },
   {
    "duration": 7,
    "start_time": "2024-09-27T14:48:50.466Z"
   },
   {
    "duration": 210,
    "start_time": "2024-09-27T14:48:50.475Z"
   },
   {
    "duration": 147,
    "start_time": "2024-09-27T14:48:50.687Z"
   },
   {
    "duration": 9,
    "start_time": "2024-09-27T14:48:50.836Z"
   },
   {
    "duration": 216,
    "start_time": "2024-09-27T14:48:50.847Z"
   },
   {
    "duration": 8,
    "start_time": "2024-09-27T14:48:51.065Z"
   },
   {
    "duration": 18,
    "start_time": "2024-09-27T14:48:51.074Z"
   },
   {
    "duration": 336,
    "start_time": "2024-09-27T14:48:51.093Z"
   },
   {
    "duration": 8,
    "start_time": "2024-09-27T14:48:51.431Z"
   },
   {
    "duration": 258,
    "start_time": "2024-09-27T14:48:51.440Z"
   },
   {
    "duration": 7,
    "start_time": "2024-09-27T14:48:51.700Z"
   },
   {
    "duration": 93,
    "start_time": "2024-09-27T14:48:51.709Z"
   },
   {
    "duration": 29,
    "start_time": "2024-09-27T14:48:51.803Z"
   },
   {
    "duration": 243,
    "start_time": "2024-09-27T14:48:51.834Z"
   },
   {
    "duration": 96,
    "start_time": "2024-09-27T14:48:52.079Z"
   },
   {
    "duration": 168,
    "start_time": "2024-09-27T14:48:52.177Z"
   },
   {
    "duration": 155,
    "start_time": "2024-09-27T14:48:52.347Z"
   },
   {
    "duration": 166,
    "start_time": "2024-09-27T14:48:52.503Z"
   },
   {
    "duration": 148,
    "start_time": "2024-09-27T14:48:52.670Z"
   },
   {
    "duration": 133,
    "start_time": "2024-09-27T14:48:52.819Z"
   },
   {
    "duration": 150,
    "start_time": "2024-09-27T14:48:52.953Z"
   },
   {
    "duration": 140,
    "start_time": "2024-09-27T14:48:53.104Z"
   },
   {
    "duration": 228,
    "start_time": "2024-09-27T14:48:53.245Z"
   },
   {
    "duration": 146,
    "start_time": "2024-09-27T14:48:53.474Z"
   },
   {
    "duration": 45,
    "start_time": "2024-09-27T14:48:53.621Z"
   },
   {
    "duration": 12,
    "start_time": "2024-09-27T14:48:53.667Z"
   },
   {
    "duration": 41,
    "start_time": "2024-09-27T14:48:53.680Z"
   },
   {
    "duration": 8,
    "start_time": "2024-09-27T14:48:53.723Z"
   },
   {
    "duration": 53,
    "start_time": "2024-09-27T14:48:53.732Z"
   },
   {
    "duration": 161,
    "start_time": "2024-09-27T14:48:53.787Z"
   },
   {
    "duration": 17,
    "start_time": "2024-09-27T14:48:53.949Z"
   },
   {
    "duration": 97,
    "start_time": "2024-09-27T14:59:40.602Z"
   },
   {
    "duration": 60,
    "start_time": "2024-09-27T17:13:16.926Z"
   },
   {
    "duration": 632,
    "start_time": "2024-09-27T17:13:25.998Z"
   },
   {
    "duration": 23,
    "start_time": "2024-09-27T17:13:26.632Z"
   },
   {
    "duration": 4,
    "start_time": "2024-09-27T17:13:26.656Z"
   },
   {
    "duration": 2357,
    "start_time": "2024-09-27T17:13:26.662Z"
   },
   {
    "duration": 9,
    "start_time": "2024-09-27T17:13:29.021Z"
   },
   {
    "duration": 7,
    "start_time": "2024-09-27T17:13:29.031Z"
   },
   {
    "duration": 6,
    "start_time": "2024-09-27T17:13:29.039Z"
   },
   {
    "duration": 8,
    "start_time": "2024-09-27T17:13:29.047Z"
   },
   {
    "duration": 15,
    "start_time": "2024-09-27T17:13:29.057Z"
   },
   {
    "duration": 10,
    "start_time": "2024-09-27T17:13:29.075Z"
   },
   {
    "duration": 6,
    "start_time": "2024-09-27T17:13:29.087Z"
   },
   {
    "duration": 6,
    "start_time": "2024-09-27T17:13:29.095Z"
   },
   {
    "duration": 83,
    "start_time": "2024-09-27T17:13:29.103Z"
   },
   {
    "duration": 7,
    "start_time": "2024-09-27T17:13:29.189Z"
   },
   {
    "duration": 343,
    "start_time": "2024-09-27T17:13:29.198Z"
   },
   {
    "duration": 18,
    "start_time": "2024-09-27T17:13:29.543Z"
   },
   {
    "duration": 8,
    "start_time": "2024-09-27T17:13:29.563Z"
   },
   {
    "duration": 14,
    "start_time": "2024-09-27T17:13:29.572Z"
   },
   {
    "duration": 8,
    "start_time": "2024-09-27T17:13:29.587Z"
   },
   {
    "duration": 12,
    "start_time": "2024-09-27T17:13:29.597Z"
   },
   {
    "duration": 6,
    "start_time": "2024-09-27T17:13:29.611Z"
   },
   {
    "duration": 40,
    "start_time": "2024-09-27T17:13:29.618Z"
   },
   {
    "duration": 3,
    "start_time": "2024-09-27T17:13:29.660Z"
   },
   {
    "duration": 342,
    "start_time": "2024-09-27T17:13:29.664Z"
   },
   {
    "duration": 4,
    "start_time": "2024-09-27T17:13:30.008Z"
   },
   {
    "duration": 74,
    "start_time": "2024-09-27T17:13:30.013Z"
   },
   {
    "duration": 29,
    "start_time": "2024-09-27T17:13:30.088Z"
   },
   {
    "duration": 325,
    "start_time": "2024-09-27T17:13:30.120Z"
   },
   {
    "duration": 15,
    "start_time": "2024-09-27T17:13:30.447Z"
   },
   {
    "duration": 13,
    "start_time": "2024-09-27T17:13:30.464Z"
   },
   {
    "duration": 355,
    "start_time": "2024-09-27T17:13:30.479Z"
   },
   {
    "duration": 20,
    "start_time": "2024-09-27T17:13:30.835Z"
   },
   {
    "duration": 208,
    "start_time": "2024-09-27T17:13:30.857Z"
   },
   {
    "duration": 9,
    "start_time": "2024-09-27T17:13:31.067Z"
   },
   {
    "duration": 28,
    "start_time": "2024-09-27T17:13:31.077Z"
   },
   {
    "duration": 299,
    "start_time": "2024-09-27T17:13:31.107Z"
   },
   {
    "duration": 9,
    "start_time": "2024-09-27T17:13:31.408Z"
   },
   {
    "duration": 9,
    "start_time": "2024-09-27T17:13:31.419Z"
   },
   {
    "duration": 190,
    "start_time": "2024-09-27T17:13:31.430Z"
   },
   {
    "duration": 9,
    "start_time": "2024-09-27T17:13:31.622Z"
   },
   {
    "duration": 274,
    "start_time": "2024-09-27T17:13:31.633Z"
   },
   {
    "duration": 163,
    "start_time": "2024-09-27T17:13:31.908Z"
   },
   {
    "duration": 8,
    "start_time": "2024-09-27T17:13:32.073Z"
   },
   {
    "duration": 257,
    "start_time": "2024-09-27T17:13:32.083Z"
   },
   {
    "duration": 15,
    "start_time": "2024-09-27T17:13:32.343Z"
   },
   {
    "duration": 78,
    "start_time": "2024-09-27T17:13:32.360Z"
   },
   {
    "duration": 430,
    "start_time": "2024-09-27T17:13:32.440Z"
   },
   {
    "duration": 10,
    "start_time": "2024-09-27T17:13:32.872Z"
   },
   {
    "duration": 336,
    "start_time": "2024-09-27T17:13:32.884Z"
   },
   {
    "duration": 5,
    "start_time": "2024-09-27T17:13:33.222Z"
   },
   {
    "duration": 43,
    "start_time": "2024-09-27T17:13:33.229Z"
   },
   {
    "duration": 23,
    "start_time": "2024-09-27T17:13:33.274Z"
   },
   {
    "duration": 326,
    "start_time": "2024-09-27T17:13:33.299Z"
   },
   {
    "duration": 131,
    "start_time": "2024-09-27T17:13:33.626Z"
   },
   {
    "duration": 481,
    "start_time": "2024-09-27T17:13:33.758Z"
   },
   {
    "duration": 210,
    "start_time": "2024-09-27T17:13:34.240Z"
   },
   {
    "duration": 181,
    "start_time": "2024-09-27T17:13:34.453Z"
   },
   {
    "duration": 292,
    "start_time": "2024-09-27T17:13:34.636Z"
   },
   {
    "duration": 177,
    "start_time": "2024-09-27T17:13:34.930Z"
   },
   {
    "duration": 169,
    "start_time": "2024-09-27T17:13:35.109Z"
   },
   {
    "duration": 188,
    "start_time": "2024-09-27T17:13:35.280Z"
   },
   {
    "duration": 173,
    "start_time": "2024-09-27T17:13:35.470Z"
   },
   {
    "duration": 180,
    "start_time": "2024-09-27T17:13:35.645Z"
   },
   {
    "duration": 176,
    "start_time": "2024-09-27T17:13:35.826Z"
   },
   {
    "duration": 51,
    "start_time": "2024-09-27T17:13:36.003Z"
   },
   {
    "duration": 14,
    "start_time": "2024-09-27T17:13:36.055Z"
   },
   {
    "duration": 55,
    "start_time": "2024-09-27T17:13:36.071Z"
   },
   {
    "duration": 12,
    "start_time": "2024-09-27T17:13:36.128Z"
   },
   {
    "duration": 7,
    "start_time": "2024-09-27T17:13:36.141Z"
   },
   {
    "duration": 183,
    "start_time": "2024-09-27T17:13:36.150Z"
   },
   {
    "duration": 34,
    "start_time": "2024-09-27T17:13:36.335Z"
   },
   {
    "duration": 4,
    "start_time": "2024-09-27T17:21:23.459Z"
   },
   {
    "duration": 80,
    "start_time": "2024-09-27T17:21:27.368Z"
   },
   {
    "duration": 132,
    "start_time": "2024-09-27T17:25:50.408Z"
   },
   {
    "duration": 12,
    "start_time": "2024-09-27T17:26:18.947Z"
   }
  ],
  "kernelspec": {
   "display_name": "Python 3 (ipykernel)",
   "language": "python",
   "name": "python3"
  },
  "language_info": {
   "codemirror_mode": {
    "name": "ipython",
    "version": 3
   },
   "file_extension": ".py",
   "mimetype": "text/x-python",
   "name": "python",
   "nbconvert_exporter": "python",
   "pygments_lexer": "ipython3",
   "version": "3.12.4"
  },
  "toc": {
   "base_numbering": 1,
   "nav_menu": {},
   "number_sections": true,
   "sideBar": true,
   "skip_h1_title": true,
   "title_cell": "Table of Contents",
   "title_sidebar": "Contents",
   "toc_cell": false,
   "toc_position": {},
   "toc_section_display": true,
   "toc_window_display": false
  }
 },
 "nbformat": 4,
 "nbformat_minor": 5
}
