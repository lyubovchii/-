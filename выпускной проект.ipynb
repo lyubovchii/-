{
 "cells": [
  {
   "cell_type": "markdown",
   "metadata": {},
   "source": [
    "# Банки - анализ оттока клиентов"
   ]
  },
  {
   "cell_type": "markdown",
   "metadata": {},
   "source": [
    "Необходимо проанализировать клиентов регионального банка и выделить сегменты, которые склонны уходить из банка."
   ]
  },
  {
   "cell_type": "markdown",
   "metadata": {},
   "source": [
    "**Материалы**:\n",
    " * [Презентация](https://disk.yandex.ru/i/na_hUUDDO3gDJQ)"
   ]
  },
  {
   "cell_type": "markdown",
   "metadata": {},
   "source": [
    "**План работы:**\n",
    "1. [Загрузка и изучение данных](#загрузка) \n",
    "2. [Подготовка данных:](#подготовка)\n",
    "    * [Проверка на соответствие типам](#типы)\n",
    "    * [Поиск дубликатов](#дубликаты)\n",
    "    * [Проверка и анализ пропусков](#пропуски)\n",
    "3. [Исследовательский анализ данных (EDA):](#анализ)\n",
    "    * [Определение значимых признаков отточности](#отточность)\n",
    "    * [Сравнение портретов типичных клиентов, которые склонны и не склонны уходить из банка](#портреты)\n",
    "    * [Корреляционный анализ](#корреляция)\n",
    "4. [Формулировка и проверка статистических гипотез:](#гипотезы)\n",
    "    * [Первая гипотеза](#1)\n",
    "    * [Вторая гипотеза](#2)\n",
    "    * [Третья гипотеза](#3)\n",
    "5. [Подведение промежуточных итогов](#итоги)\n",
    "6. [Сегментация:](#сегментация)\n",
    "    * [Выделение сегментов](#сегменты)\n",
    "    * [Отбор лучших](#отбор)\n",
    "7. [Рекомендации](#рекомендации)\n",
    "8. [Общий вывод](#вывод)"
   ]
  },
  {
   "cell_type": "markdown",
   "metadata": {},
   "source": [
    "<a id=\"загрузка\"></a>\n",
    "## Загрузка и изучение данных"
   ]
  },
  {
   "cell_type": "code",
   "execution_count": 1,
   "metadata": {},
   "outputs": [
    {
     "name": "stdout",
     "output_type": "stream",
     "text": [
      "Requirement already satisfied: phik in /opt/conda/lib/python3.9/site-packages (0.12.4)\r\n",
      "Requirement already satisfied: pandas>=0.25.1 in /opt/conda/lib/python3.9/site-packages (from phik) (1.2.4)\r\n",
      "Requirement already satisfied: joblib>=0.14.1 in /opt/conda/lib/python3.9/site-packages (from phik) (1.1.0)\r\n",
      "Requirement already satisfied: scipy>=1.5.2 in /opt/conda/lib/python3.9/site-packages (from phik) (1.9.1)\r\n",
      "Requirement already satisfied: numpy>=1.18.0 in /opt/conda/lib/python3.9/site-packages (from phik) (1.21.1)\r\n",
      "Requirement already satisfied: matplotlib>=2.2.3 in /opt/conda/lib/python3.9/site-packages (from phik) (3.3.4)\r\n",
      "Requirement already satisfied: cycler>=0.10 in /opt/conda/lib/python3.9/site-packages (from matplotlib>=2.2.3->phik) (0.11.0)\r\n",
      "Requirement already satisfied: kiwisolver>=1.0.1 in /opt/conda/lib/python3.9/site-packages (from matplotlib>=2.2.3->phik) (1.4.4)\r\n",
      "Requirement already satisfied: python-dateutil>=2.1 in /opt/conda/lib/python3.9/site-packages (from matplotlib>=2.2.3->phik) (2.8.1)\r\n",
      "Requirement already satisfied: pillow>=6.2.0 in /opt/conda/lib/python3.9/site-packages (from matplotlib>=2.2.3->phik) (8.4.0)\r\n",
      "Requirement already satisfied: pyparsing!=2.0.4,!=2.1.2,!=2.1.6,>=2.0.3 in /opt/conda/lib/python3.9/site-packages (from matplotlib>=2.2.3->phik) (2.4.7)\r\n",
      "Requirement already satisfied: pytz>=2017.3 in /opt/conda/lib/python3.9/site-packages (from pandas>=0.25.1->phik) (2021.1)\r\n",
      "Requirement already satisfied: six>=1.5 in /opt/conda/lib/python3.9/site-packages (from python-dateutil>=2.1->matplotlib>=2.2.3->phik) (1.16.0)\r\n"
     ]
    }
   ],
   "source": [
    "!pip install phik"
   ]
  },
  {
   "cell_type": "code",
   "execution_count": 2,
   "metadata": {},
   "outputs": [],
   "source": [
    "#загружаем необходимые библиотеки\n",
    "import pandas as pd\n",
    "import phik\n",
    "from phik import phik_matrix\n",
    "import seaborn as sns\n",
    "import matplotlib.pyplot as plt\n",
    "from scipy import stats as st\n",
    "from scipy.stats import mannwhitneyu"
   ]
  },
  {
   "cell_type": "code",
   "execution_count": 3,
   "metadata": {},
   "outputs": [
    {
     "name": "stdout",
     "output_type": "stream",
     "text": [
      "<class 'pandas.core.frame.DataFrame'>\n",
      "RangeIndex: 10000 entries, 0 to 9999\n",
      "Data columns (total 12 columns):\n",
      " #   Column         Non-Null Count  Dtype  \n",
      "---  ------         --------------  -----  \n",
      " 0   USERID         10000 non-null  int64  \n",
      " 1   score          10000 non-null  float64\n",
      " 2   city           10000 non-null  object \n",
      " 3   gender         10000 non-null  object \n",
      " 4   age            9974 non-null   float64\n",
      " 5   equity         10000 non-null  int64  \n",
      " 6   balance        7705 non-null   float64\n",
      " 7   products       10000 non-null  int64  \n",
      " 8   credit_card    10000 non-null  int64  \n",
      " 9   last_activity  10000 non-null  int64  \n",
      " 10  EST_SALARY     10000 non-null  float64\n",
      " 11  churn          10000 non-null  int64  \n",
      "dtypes: float64(4), int64(6), object(2)\n",
      "memory usage: 937.6+ KB\n"
     ]
    },
    {
     "data": {
      "text/html": [
       "<div>\n",
       "<style scoped>\n",
       "    .dataframe tbody tr th:only-of-type {\n",
       "        vertical-align: middle;\n",
       "    }\n",
       "\n",
       "    .dataframe tbody tr th {\n",
       "        vertical-align: top;\n",
       "    }\n",
       "\n",
       "    .dataframe thead th {\n",
       "        text-align: right;\n",
       "    }\n",
       "</style>\n",
       "<table border=\"1\" class=\"dataframe\">\n",
       "  <thead>\n",
       "    <tr style=\"text-align: right;\">\n",
       "      <th></th>\n",
       "      <th>USERID</th>\n",
       "      <th>score</th>\n",
       "      <th>city</th>\n",
       "      <th>gender</th>\n",
       "      <th>age</th>\n",
       "      <th>equity</th>\n",
       "      <th>balance</th>\n",
       "      <th>products</th>\n",
       "      <th>credit_card</th>\n",
       "      <th>last_activity</th>\n",
       "      <th>EST_SALARY</th>\n",
       "      <th>churn</th>\n",
       "    </tr>\n",
       "  </thead>\n",
       "  <tbody>\n",
       "    <tr>\n",
       "      <th>0</th>\n",
       "      <td>183012</td>\n",
       "      <td>850.0</td>\n",
       "      <td>Рыбинск</td>\n",
       "      <td>Ж</td>\n",
       "      <td>25.0</td>\n",
       "      <td>1</td>\n",
       "      <td>59214.82</td>\n",
       "      <td>2</td>\n",
       "      <td>0</td>\n",
       "      <td>1</td>\n",
       "      <td>75719.14</td>\n",
       "      <td>1</td>\n",
       "    </tr>\n",
       "    <tr>\n",
       "      <th>1</th>\n",
       "      <td>146556</td>\n",
       "      <td>861.0</td>\n",
       "      <td>Рыбинск</td>\n",
       "      <td>Ж</td>\n",
       "      <td>37.0</td>\n",
       "      <td>5</td>\n",
       "      <td>850594.33</td>\n",
       "      <td>3</td>\n",
       "      <td>1</td>\n",
       "      <td>0</td>\n",
       "      <td>86621.77</td>\n",
       "      <td>0</td>\n",
       "    </tr>\n",
       "    <tr>\n",
       "      <th>2</th>\n",
       "      <td>120722</td>\n",
       "      <td>892.0</td>\n",
       "      <td>Рыбинск</td>\n",
       "      <td>Ж</td>\n",
       "      <td>30.0</td>\n",
       "      <td>0</td>\n",
       "      <td>NaN</td>\n",
       "      <td>1</td>\n",
       "      <td>1</td>\n",
       "      <td>1</td>\n",
       "      <td>107683.34</td>\n",
       "      <td>0</td>\n",
       "    </tr>\n",
       "    <tr>\n",
       "      <th>3</th>\n",
       "      <td>225363</td>\n",
       "      <td>866.0</td>\n",
       "      <td>Ярославль</td>\n",
       "      <td>Ж</td>\n",
       "      <td>51.0</td>\n",
       "      <td>5</td>\n",
       "      <td>1524746.26</td>\n",
       "      <td>2</td>\n",
       "      <td>0</td>\n",
       "      <td>1</td>\n",
       "      <td>174423.53</td>\n",
       "      <td>1</td>\n",
       "    </tr>\n",
       "    <tr>\n",
       "      <th>4</th>\n",
       "      <td>157978</td>\n",
       "      <td>730.0</td>\n",
       "      <td>Ярославль</td>\n",
       "      <td>М</td>\n",
       "      <td>34.0</td>\n",
       "      <td>5</td>\n",
       "      <td>174.00</td>\n",
       "      <td>1</td>\n",
       "      <td>1</td>\n",
       "      <td>0</td>\n",
       "      <td>67353.16</td>\n",
       "      <td>1</td>\n",
       "    </tr>\n",
       "  </tbody>\n",
       "</table>\n",
       "</div>"
      ],
      "text/plain": [
       "   USERID  score       city gender   age  equity     balance  products  \\\n",
       "0  183012  850.0    Рыбинск      Ж  25.0       1    59214.82         2   \n",
       "1  146556  861.0    Рыбинск      Ж  37.0       5   850594.33         3   \n",
       "2  120722  892.0    Рыбинск      Ж  30.0       0         NaN         1   \n",
       "3  225363  866.0  Ярославль      Ж  51.0       5  1524746.26         2   \n",
       "4  157978  730.0  Ярославль      М  34.0       5      174.00         1   \n",
       "\n",
       "   credit_card  last_activity  EST_SALARY  churn  \n",
       "0            0              1    75719.14      1  \n",
       "1            1              0    86621.77      0  \n",
       "2            1              1   107683.34      0  \n",
       "3            0              1   174423.53      1  \n",
       "4            1              0    67353.16      1  "
      ]
     },
     "execution_count": 3,
     "metadata": {},
     "output_type": "execute_result"
    }
   ],
   "source": [
    "#загружаем датасет и изучаем его\n",
    "try:\n",
    "    df = pd.read_csv('C:/Users/Любовь/Downloads/bank_scrooge.csv')\n",
    "except:\n",
    "    df = pd.read_csv('https://code.s3.yandex.net/datasets/bank_scrooge.csv')\n",
    "\n",
    "df.info()\n",
    "df.head()"
   ]
  },
  {
   "cell_type": "code",
   "execution_count": 4,
   "metadata": {},
   "outputs": [],
   "source": [
    "#переименовываем столбцы в наиболее читаемый вариант\n",
    "df = df.rename(columns={'USERID':'user_id', 'EST_SALARY':'est_salary'})"
   ]
  },
  {
   "cell_type": "markdown",
   "metadata": {},
   "source": [
    "**Выводы:** в данных содержится 12 столбцов и 10000 строк. Названия были изменены на наиболее читаемые. Пропуски наблюдаются в данных о возрасте и о балансе клиентов - выяснением их типа и природы, а также другими нюансами в данных займемся на следующем этапе."
   ]
  },
  {
   "cell_type": "markdown",
   "metadata": {},
   "source": [
    "<a id=\"подготовка\"></a>\n",
    "## Подготовка данных"
   ]
  },
  {
   "cell_type": "markdown",
   "metadata": {},
   "source": [
    "<a id=\"типы\"></a>\n",
    "### Проверка на соответствие типам"
   ]
  },
  {
   "cell_type": "code",
   "execution_count": 5,
   "metadata": {},
   "outputs": [
    {
     "name": "stdout",
     "output_type": "stream",
     "text": [
      "<class 'pandas.core.frame.DataFrame'>\n",
      "RangeIndex: 10000 entries, 0 to 9999\n",
      "Data columns (total 12 columns):\n",
      " #   Column         Non-Null Count  Dtype  \n",
      "---  ------         --------------  -----  \n",
      " 0   user_id        10000 non-null  int64  \n",
      " 1   score          10000 non-null  int64  \n",
      " 2   city           10000 non-null  object \n",
      " 3   gender         10000 non-null  object \n",
      " 4   age            9974 non-null   float64\n",
      " 5   equity         10000 non-null  int64  \n",
      " 6   balance        7705 non-null   float64\n",
      " 7   products       10000 non-null  int64  \n",
      " 8   credit_card    10000 non-null  bool   \n",
      " 9   last_activity  10000 non-null  bool   \n",
      " 10  est_salary     10000 non-null  float64\n",
      " 11  churn          10000 non-null  bool   \n",
      "dtypes: bool(3), float64(3), int64(4), object(2)\n",
      "memory usage: 732.5+ KB\n"
     ]
    }
   ],
   "source": [
    "#изменяем типы данных\n",
    "df['score'] = df['score'].astype('int')\n",
    "df['age'] = pd.to_numeric(df['age'], errors='coerce')\n",
    "df['credit_card'] = df['credit_card'].astype('bool')\n",
    "df['last_activity'] = df['last_activity'].astype('bool')\n",
    "df['churn'] = df['churn'].astype('bool')\n",
    "df.info()"
   ]
  },
  {
   "cell_type": "markdown",
   "metadata": {},
   "source": [
    "**Выводы:** для 5 столбцов из датафрейма был изменен тип на наиболее подходящий. Баллы и возраст задали целыми числами, а к булевому типу отнесли следующие критерии: наличие/отсутсивие кредитной карты, активность клиента и признак оттока."
   ]
  },
  {
   "cell_type": "markdown",
   "metadata": {},
   "source": [
    "<a id=\"дубликаты\"></a>\n",
    "### Поиск дубликатов"
   ]
  },
  {
   "cell_type": "code",
   "execution_count": 6,
   "metadata": {},
   "outputs": [
    {
     "name": "stdout",
     "output_type": "stream",
     "text": [
      "кол-во явных дубликатов: 0\n",
      "кол-во неявных дубликатов: 146\n"
     ]
    }
   ],
   "source": [
    "#проверяем наличие дубликатов\n",
    "print('кол-во явных дубликатов:', df.duplicated().sum())\n",
    "print('кол-во неявных дубликатов:', df['user_id'].duplicated(keep=False).sum())"
   ]
  },
  {
   "cell_type": "code",
   "execution_count": 7,
   "metadata": {},
   "outputs": [
    {
     "data": {
      "text/html": [
       "<div>\n",
       "<style scoped>\n",
       "    .dataframe tbody tr th:only-of-type {\n",
       "        vertical-align: middle;\n",
       "    }\n",
       "\n",
       "    .dataframe tbody tr th {\n",
       "        vertical-align: top;\n",
       "    }\n",
       "\n",
       "    .dataframe thead th {\n",
       "        text-align: right;\n",
       "    }\n",
       "</style>\n",
       "<table border=\"1\" class=\"dataframe\">\n",
       "  <thead>\n",
       "    <tr style=\"text-align: right;\">\n",
       "      <th></th>\n",
       "      <th>user_id</th>\n",
       "      <th>score</th>\n",
       "      <th>city</th>\n",
       "      <th>gender</th>\n",
       "      <th>age</th>\n",
       "      <th>equity</th>\n",
       "      <th>balance</th>\n",
       "      <th>products</th>\n",
       "      <th>credit_card</th>\n",
       "      <th>last_activity</th>\n",
       "      <th>est_salary</th>\n",
       "      <th>churn</th>\n",
       "    </tr>\n",
       "  </thead>\n",
       "  <tbody>\n",
       "    <tr>\n",
       "      <th>1893</th>\n",
       "      <td>116540</td>\n",
       "      <td>883</td>\n",
       "      <td>Рыбинск</td>\n",
       "      <td>Ж</td>\n",
       "      <td>55.0</td>\n",
       "      <td>1</td>\n",
       "      <td>362756.49</td>\n",
       "      <td>3</td>\n",
       "      <td>False</td>\n",
       "      <td>True</td>\n",
       "      <td>175920.48</td>\n",
       "      <td>True</td>\n",
       "    </tr>\n",
       "    <tr>\n",
       "      <th>7694</th>\n",
       "      <td>116540</td>\n",
       "      <td>887</td>\n",
       "      <td>Ярославль</td>\n",
       "      <td>Ж</td>\n",
       "      <td>38.0</td>\n",
       "      <td>0</td>\n",
       "      <td>NaN</td>\n",
       "      <td>1</td>\n",
       "      <td>False</td>\n",
       "      <td>True</td>\n",
       "      <td>119247.61</td>\n",
       "      <td>False</td>\n",
       "    </tr>\n",
       "    <tr>\n",
       "      <th>7542</th>\n",
       "      <td>117943</td>\n",
       "      <td>880</td>\n",
       "      <td>Ярославль</td>\n",
       "      <td>Ж</td>\n",
       "      <td>40.0</td>\n",
       "      <td>0</td>\n",
       "      <td>NaN</td>\n",
       "      <td>1</td>\n",
       "      <td>True</td>\n",
       "      <td>False</td>\n",
       "      <td>137718.93</td>\n",
       "      <td>False</td>\n",
       "    </tr>\n",
       "    <tr>\n",
       "      <th>4866</th>\n",
       "      <td>117943</td>\n",
       "      <td>855</td>\n",
       "      <td>Рыбинск</td>\n",
       "      <td>Ж</td>\n",
       "      <td>32.0</td>\n",
       "      <td>6</td>\n",
       "      <td>1036832.93</td>\n",
       "      <td>4</td>\n",
       "      <td>True</td>\n",
       "      <td>True</td>\n",
       "      <td>107792.71</td>\n",
       "      <td>True</td>\n",
       "    </tr>\n",
       "    <tr>\n",
       "      <th>5896</th>\n",
       "      <td>120258</td>\n",
       "      <td>905</td>\n",
       "      <td>Ярославль</td>\n",
       "      <td>М</td>\n",
       "      <td>30.0</td>\n",
       "      <td>0</td>\n",
       "      <td>NaN</td>\n",
       "      <td>1</td>\n",
       "      <td>True</td>\n",
       "      <td>True</td>\n",
       "      <td>146427.96</td>\n",
       "      <td>False</td>\n",
       "    </tr>\n",
       "    <tr>\n",
       "      <th>5863</th>\n",
       "      <td>120258</td>\n",
       "      <td>908</td>\n",
       "      <td>Рыбинск</td>\n",
       "      <td>Ж</td>\n",
       "      <td>38.0</td>\n",
       "      <td>4</td>\n",
       "      <td>2213581.63</td>\n",
       "      <td>2</td>\n",
       "      <td>False</td>\n",
       "      <td>True</td>\n",
       "      <td>160327.77</td>\n",
       "      <td>True</td>\n",
       "    </tr>\n",
       "    <tr>\n",
       "      <th>1411</th>\n",
       "      <td>123461</td>\n",
       "      <td>829</td>\n",
       "      <td>Ярославль</td>\n",
       "      <td>Ж</td>\n",
       "      <td>59.0</td>\n",
       "      <td>0</td>\n",
       "      <td>96222.44</td>\n",
       "      <td>2</td>\n",
       "      <td>False</td>\n",
       "      <td>True</td>\n",
       "      <td>102771.55</td>\n",
       "      <td>True</td>\n",
       "    </tr>\n",
       "    <tr>\n",
       "      <th>8638</th>\n",
       "      <td>123461</td>\n",
       "      <td>934</td>\n",
       "      <td>Рыбинск</td>\n",
       "      <td>М</td>\n",
       "      <td>34.0</td>\n",
       "      <td>0</td>\n",
       "      <td>NaN</td>\n",
       "      <td>2</td>\n",
       "      <td>True</td>\n",
       "      <td>False</td>\n",
       "      <td>291619.27</td>\n",
       "      <td>False</td>\n",
       "    </tr>\n",
       "    <tr>\n",
       "      <th>8164</th>\n",
       "      <td>124450</td>\n",
       "      <td>859</td>\n",
       "      <td>Ярославль</td>\n",
       "      <td>Ж</td>\n",
       "      <td>38.0</td>\n",
       "      <td>6</td>\n",
       "      <td>516811.20</td>\n",
       "      <td>1</td>\n",
       "      <td>True</td>\n",
       "      <td>True</td>\n",
       "      <td>95144.63</td>\n",
       "      <td>True</td>\n",
       "    </tr>\n",
       "    <tr>\n",
       "      <th>9775</th>\n",
       "      <td>124450</td>\n",
       "      <td>758</td>\n",
       "      <td>Рыбинск</td>\n",
       "      <td>Ж</td>\n",
       "      <td>36.0</td>\n",
       "      <td>0</td>\n",
       "      <td>73574.07</td>\n",
       "      <td>2</td>\n",
       "      <td>False</td>\n",
       "      <td>True</td>\n",
       "      <td>79963.59</td>\n",
       "      <td>False</td>\n",
       "    </tr>\n",
       "    <tr>\n",
       "      <th>4850</th>\n",
       "      <td>126368</td>\n",
       "      <td>909</td>\n",
       "      <td>Ярославль</td>\n",
       "      <td>Ж</td>\n",
       "      <td>30.0</td>\n",
       "      <td>4</td>\n",
       "      <td>1322623.29</td>\n",
       "      <td>2</td>\n",
       "      <td>False</td>\n",
       "      <td>True</td>\n",
       "      <td>140675.66</td>\n",
       "      <td>True</td>\n",
       "    </tr>\n",
       "    <tr>\n",
       "      <th>5420</th>\n",
       "      <td>126368</td>\n",
       "      <td>832</td>\n",
       "      <td>Рыбинск</td>\n",
       "      <td>Ж</td>\n",
       "      <td>33.0</td>\n",
       "      <td>0</td>\n",
       "      <td>NaN</td>\n",
       "      <td>1</td>\n",
       "      <td>False</td>\n",
       "      <td>False</td>\n",
       "      <td>118465.34</td>\n",
       "      <td>False</td>\n",
       "    </tr>\n",
       "    <tr>\n",
       "      <th>8785</th>\n",
       "      <td>127440</td>\n",
       "      <td>663</td>\n",
       "      <td>Ярославль</td>\n",
       "      <td>М</td>\n",
       "      <td>NaN</td>\n",
       "      <td>0</td>\n",
       "      <td>NaN</td>\n",
       "      <td>1</td>\n",
       "      <td>True</td>\n",
       "      <td>True</td>\n",
       "      <td>117197.56</td>\n",
       "      <td>False</td>\n",
       "    </tr>\n",
       "    <tr>\n",
       "      <th>4443</th>\n",
       "      <td>127440</td>\n",
       "      <td>846</td>\n",
       "      <td>Рыбинск</td>\n",
       "      <td>М</td>\n",
       "      <td>66.0</td>\n",
       "      <td>1</td>\n",
       "      <td>57405.67</td>\n",
       "      <td>2</td>\n",
       "      <td>False</td>\n",
       "      <td>True</td>\n",
       "      <td>17831.63</td>\n",
       "      <td>False</td>\n",
       "    </tr>\n",
       "    <tr>\n",
       "      <th>3988</th>\n",
       "      <td>129785</td>\n",
       "      <td>904</td>\n",
       "      <td>Рыбинск</td>\n",
       "      <td>М</td>\n",
       "      <td>33.0</td>\n",
       "      <td>5</td>\n",
       "      <td>2427737.60</td>\n",
       "      <td>3</td>\n",
       "      <td>False</td>\n",
       "      <td>True</td>\n",
       "      <td>188856.75</td>\n",
       "      <td>True</td>\n",
       "    </tr>\n",
       "    <tr>\n",
       "      <th>9504</th>\n",
       "      <td>129785</td>\n",
       "      <td>949</td>\n",
       "      <td>Ярославль</td>\n",
       "      <td>М</td>\n",
       "      <td>43.0</td>\n",
       "      <td>0</td>\n",
       "      <td>NaN</td>\n",
       "      <td>1</td>\n",
       "      <td>True</td>\n",
       "      <td>True</td>\n",
       "      <td>166845.37</td>\n",
       "      <td>False</td>\n",
       "    </tr>\n",
       "    <tr>\n",
       "      <th>904</th>\n",
       "      <td>131419</td>\n",
       "      <td>934</td>\n",
       "      <td>Ярославль</td>\n",
       "      <td>М</td>\n",
       "      <td>35.0</td>\n",
       "      <td>5</td>\n",
       "      <td>2348335.95</td>\n",
       "      <td>2</td>\n",
       "      <td>False</td>\n",
       "      <td>False</td>\n",
       "      <td>217105.13</td>\n",
       "      <td>True</td>\n",
       "    </tr>\n",
       "    <tr>\n",
       "      <th>2138</th>\n",
       "      <td>131419</td>\n",
       "      <td>739</td>\n",
       "      <td>Рыбинск</td>\n",
       "      <td>Ж</td>\n",
       "      <td>37.0</td>\n",
       "      <td>3</td>\n",
       "      <td>1307941.65</td>\n",
       "      <td>3</td>\n",
       "      <td>False</td>\n",
       "      <td>False</td>\n",
       "      <td>103867.47</td>\n",
       "      <td>False</td>\n",
       "    </tr>\n",
       "    <tr>\n",
       "      <th>7487</th>\n",
       "      <td>140377</td>\n",
       "      <td>930</td>\n",
       "      <td>Рыбинск</td>\n",
       "      <td>Ж</td>\n",
       "      <td>34.0</td>\n",
       "      <td>5</td>\n",
       "      <td>1123967.02</td>\n",
       "      <td>1</td>\n",
       "      <td>True</td>\n",
       "      <td>True</td>\n",
       "      <td>148336.26</td>\n",
       "      <td>False</td>\n",
       "    </tr>\n",
       "    <tr>\n",
       "      <th>1608</th>\n",
       "      <td>140377</td>\n",
       "      <td>802</td>\n",
       "      <td>Ярославль</td>\n",
       "      <td>М</td>\n",
       "      <td>26.0</td>\n",
       "      <td>3</td>\n",
       "      <td>539863.29</td>\n",
       "      <td>4</td>\n",
       "      <td>True</td>\n",
       "      <td>True</td>\n",
       "      <td>112167.83</td>\n",
       "      <td>True</td>\n",
       "    </tr>\n",
       "    <tr>\n",
       "      <th>9819</th>\n",
       "      <td>140934</td>\n",
       "      <td>832</td>\n",
       "      <td>Рыбинск</td>\n",
       "      <td>Ж</td>\n",
       "      <td>NaN</td>\n",
       "      <td>3</td>\n",
       "      <td>385763.16</td>\n",
       "      <td>2</td>\n",
       "      <td>False</td>\n",
       "      <td>True</td>\n",
       "      <td>59651.35</td>\n",
       "      <td>False</td>\n",
       "    </tr>\n",
       "    <tr>\n",
       "      <th>4212</th>\n",
       "      <td>140934</td>\n",
       "      <td>919</td>\n",
       "      <td>Ярославль</td>\n",
       "      <td>Ж</td>\n",
       "      <td>29.0</td>\n",
       "      <td>4</td>\n",
       "      <td>603946.18</td>\n",
       "      <td>3</td>\n",
       "      <td>False</td>\n",
       "      <td>True</td>\n",
       "      <td>158438.79</td>\n",
       "      <td>False</td>\n",
       "    </tr>\n",
       "    <tr>\n",
       "      <th>2276</th>\n",
       "      <td>141265</td>\n",
       "      <td>858</td>\n",
       "      <td>Ярославль</td>\n",
       "      <td>М</td>\n",
       "      <td>37.0</td>\n",
       "      <td>4</td>\n",
       "      <td>471599.16</td>\n",
       "      <td>2</td>\n",
       "      <td>True</td>\n",
       "      <td>True</td>\n",
       "      <td>148806.88</td>\n",
       "      <td>True</td>\n",
       "    </tr>\n",
       "    <tr>\n",
       "      <th>5569</th>\n",
       "      <td>141265</td>\n",
       "      <td>811</td>\n",
       "      <td>Рыбинск</td>\n",
       "      <td>Ж</td>\n",
       "      <td>33.0</td>\n",
       "      <td>3</td>\n",
       "      <td>1044316.88</td>\n",
       "      <td>2</td>\n",
       "      <td>True</td>\n",
       "      <td>False</td>\n",
       "      <td>46055.32</td>\n",
       "      <td>False</td>\n",
       "    </tr>\n",
       "    <tr>\n",
       "      <th>4343</th>\n",
       "      <td>141945</td>\n",
       "      <td>929</td>\n",
       "      <td>Рыбинск</td>\n",
       "      <td>М</td>\n",
       "      <td>33.0</td>\n",
       "      <td>0</td>\n",
       "      <td>NaN</td>\n",
       "      <td>1</td>\n",
       "      <td>True</td>\n",
       "      <td>False</td>\n",
       "      <td>381868.89</td>\n",
       "      <td>False</td>\n",
       "    </tr>\n",
       "    <tr>\n",
       "      <th>9457</th>\n",
       "      <td>141945</td>\n",
       "      <td>929</td>\n",
       "      <td>Ярославль</td>\n",
       "      <td>М</td>\n",
       "      <td>NaN</td>\n",
       "      <td>0</td>\n",
       "      <td>NaN</td>\n",
       "      <td>1</td>\n",
       "      <td>True</td>\n",
       "      <td>False</td>\n",
       "      <td>381868.89</td>\n",
       "      <td>False</td>\n",
       "    </tr>\n",
       "    <tr>\n",
       "      <th>5369</th>\n",
       "      <td>143592</td>\n",
       "      <td>885</td>\n",
       "      <td>Рыбинск</td>\n",
       "      <td>Ж</td>\n",
       "      <td>56.0</td>\n",
       "      <td>4</td>\n",
       "      <td>1201087.46</td>\n",
       "      <td>2</td>\n",
       "      <td>True</td>\n",
       "      <td>True</td>\n",
       "      <td>88223.89</td>\n",
       "      <td>True</td>\n",
       "    </tr>\n",
       "    <tr>\n",
       "      <th>5557</th>\n",
       "      <td>143592</td>\n",
       "      <td>764</td>\n",
       "      <td>Ярославль</td>\n",
       "      <td>Ж</td>\n",
       "      <td>68.0</td>\n",
       "      <td>3</td>\n",
       "      <td>508919.15</td>\n",
       "      <td>2</td>\n",
       "      <td>False</td>\n",
       "      <td>True</td>\n",
       "      <td>71211.66</td>\n",
       "      <td>False</td>\n",
       "    </tr>\n",
       "    <tr>\n",
       "      <th>8364</th>\n",
       "      <td>148826</td>\n",
       "      <td>909</td>\n",
       "      <td>Рыбинск</td>\n",
       "      <td>Ж</td>\n",
       "      <td>32.0</td>\n",
       "      <td>0</td>\n",
       "      <td>NaN</td>\n",
       "      <td>3</td>\n",
       "      <td>True</td>\n",
       "      <td>False</td>\n",
       "      <td>28843.54</td>\n",
       "      <td>False</td>\n",
       "    </tr>\n",
       "    <tr>\n",
       "      <th>5252</th>\n",
       "      <td>148826</td>\n",
       "      <td>895</td>\n",
       "      <td>Ярославль</td>\n",
       "      <td>М</td>\n",
       "      <td>32.0</td>\n",
       "      <td>5</td>\n",
       "      <td>1470273.14</td>\n",
       "      <td>2</td>\n",
       "      <td>False</td>\n",
       "      <td>False</td>\n",
       "      <td>118058.52</td>\n",
       "      <td>True</td>\n",
       "    </tr>\n",
       "    <tr>\n",
       "      <th>946</th>\n",
       "      <td>149365</td>\n",
       "      <td>877</td>\n",
       "      <td>Ярославль</td>\n",
       "      <td>М</td>\n",
       "      <td>41.0</td>\n",
       "      <td>5</td>\n",
       "      <td>819182.01</td>\n",
       "      <td>2</td>\n",
       "      <td>False</td>\n",
       "      <td>False</td>\n",
       "      <td>212316.47</td>\n",
       "      <td>True</td>\n",
       "    </tr>\n",
       "    <tr>\n",
       "      <th>8272</th>\n",
       "      <td>149365</td>\n",
       "      <td>793</td>\n",
       "      <td>Рыбинск</td>\n",
       "      <td>Ж</td>\n",
       "      <td>61.0</td>\n",
       "      <td>0</td>\n",
       "      <td>476496.99</td>\n",
       "      <td>2</td>\n",
       "      <td>True</td>\n",
       "      <td>True</td>\n",
       "      <td>46147.06</td>\n",
       "      <td>False</td>\n",
       "    </tr>\n",
       "    <tr>\n",
       "      <th>9267</th>\n",
       "      <td>150667</td>\n",
       "      <td>931</td>\n",
       "      <td>Ярославль</td>\n",
       "      <td>М</td>\n",
       "      <td>41.0</td>\n",
       "      <td>0</td>\n",
       "      <td>NaN</td>\n",
       "      <td>1</td>\n",
       "      <td>False</td>\n",
       "      <td>False</td>\n",
       "      <td>261904.44</td>\n",
       "      <td>False</td>\n",
       "    </tr>\n",
       "    <tr>\n",
       "      <th>2439</th>\n",
       "      <td>150667</td>\n",
       "      <td>813</td>\n",
       "      <td>Рыбинск</td>\n",
       "      <td>Ж</td>\n",
       "      <td>44.0</td>\n",
       "      <td>0</td>\n",
       "      <td>62504.47</td>\n",
       "      <td>4</td>\n",
       "      <td>True</td>\n",
       "      <td>False</td>\n",
       "      <td>152393.79</td>\n",
       "      <td>True</td>\n",
       "    </tr>\n",
       "    <tr>\n",
       "      <th>5495</th>\n",
       "      <td>151662</td>\n",
       "      <td>884</td>\n",
       "      <td>Рыбинск</td>\n",
       "      <td>Ж</td>\n",
       "      <td>NaN</td>\n",
       "      <td>0</td>\n",
       "      <td>NaN</td>\n",
       "      <td>1</td>\n",
       "      <td>True</td>\n",
       "      <td>True</td>\n",
       "      <td>137500.77</td>\n",
       "      <td>False</td>\n",
       "    </tr>\n",
       "    <tr>\n",
       "      <th>3683</th>\n",
       "      <td>151662</td>\n",
       "      <td>960</td>\n",
       "      <td>Ярославль</td>\n",
       "      <td>Ж</td>\n",
       "      <td>37.0</td>\n",
       "      <td>4</td>\n",
       "      <td>2527032.70</td>\n",
       "      <td>4</td>\n",
       "      <td>True</td>\n",
       "      <td>False</td>\n",
       "      <td>231648.50</td>\n",
       "      <td>False</td>\n",
       "    </tr>\n",
       "    <tr>\n",
       "      <th>690</th>\n",
       "      <td>152479</td>\n",
       "      <td>768</td>\n",
       "      <td>Рыбинск</td>\n",
       "      <td>Ж</td>\n",
       "      <td>42.0</td>\n",
       "      <td>0</td>\n",
       "      <td>126787.79</td>\n",
       "      <td>4</td>\n",
       "      <td>True</td>\n",
       "      <td>True</td>\n",
       "      <td>143233.23</td>\n",
       "      <td>True</td>\n",
       "    </tr>\n",
       "    <tr>\n",
       "      <th>5705</th>\n",
       "      <td>152479</td>\n",
       "      <td>723</td>\n",
       "      <td>Ярославль</td>\n",
       "      <td>Ж</td>\n",
       "      <td>22.0</td>\n",
       "      <td>0</td>\n",
       "      <td>NaN</td>\n",
       "      <td>1</td>\n",
       "      <td>True</td>\n",
       "      <td>False</td>\n",
       "      <td>83955.65</td>\n",
       "      <td>False</td>\n",
       "    </tr>\n",
       "    <tr>\n",
       "      <th>5197</th>\n",
       "      <td>155765</td>\n",
       "      <td>923</td>\n",
       "      <td>Рыбинск</td>\n",
       "      <td>М</td>\n",
       "      <td>30.0</td>\n",
       "      <td>0</td>\n",
       "      <td>NaN</td>\n",
       "      <td>1</td>\n",
       "      <td>True</td>\n",
       "      <td>True</td>\n",
       "      <td>120296.60</td>\n",
       "      <td>False</td>\n",
       "    </tr>\n",
       "    <tr>\n",
       "      <th>3274</th>\n",
       "      <td>155765</td>\n",
       "      <td>863</td>\n",
       "      <td>Ярославль</td>\n",
       "      <td>М</td>\n",
       "      <td>30.0</td>\n",
       "      <td>5</td>\n",
       "      <td>1036114.50</td>\n",
       "      <td>5</td>\n",
       "      <td>True</td>\n",
       "      <td>True</td>\n",
       "      <td>150744.50</td>\n",
       "      <td>True</td>\n",
       "    </tr>\n",
       "    <tr>\n",
       "      <th>9363</th>\n",
       "      <td>155872</td>\n",
       "      <td>714</td>\n",
       "      <td>Рыбинск</td>\n",
       "      <td>Ж</td>\n",
       "      <td>29.0</td>\n",
       "      <td>0</td>\n",
       "      <td>NaN</td>\n",
       "      <td>1</td>\n",
       "      <td>True</td>\n",
       "      <td>False</td>\n",
       "      <td>118052.84</td>\n",
       "      <td>False</td>\n",
       "    </tr>\n",
       "    <tr>\n",
       "      <th>1080</th>\n",
       "      <td>155872</td>\n",
       "      <td>896</td>\n",
       "      <td>Ярославль</td>\n",
       "      <td>М</td>\n",
       "      <td>36.0</td>\n",
       "      <td>3</td>\n",
       "      <td>1113656.92</td>\n",
       "      <td>3</td>\n",
       "      <td>False</td>\n",
       "      <td>True</td>\n",
       "      <td>291176.85</td>\n",
       "      <td>True</td>\n",
       "    </tr>\n",
       "    <tr>\n",
       "      <th>3936</th>\n",
       "      <td>160075</td>\n",
       "      <td>899</td>\n",
       "      <td>Ярославль</td>\n",
       "      <td>М</td>\n",
       "      <td>34.0</td>\n",
       "      <td>4</td>\n",
       "      <td>1647814.67</td>\n",
       "      <td>4</td>\n",
       "      <td>True</td>\n",
       "      <td>False</td>\n",
       "      <td>151888.42</td>\n",
       "      <td>True</td>\n",
       "    </tr>\n",
       "    <tr>\n",
       "      <th>9508</th>\n",
       "      <td>160075</td>\n",
       "      <td>824</td>\n",
       "      <td>Рыбинск</td>\n",
       "      <td>Ж</td>\n",
       "      <td>57.0</td>\n",
       "      <td>3</td>\n",
       "      <td>355047.33</td>\n",
       "      <td>2</td>\n",
       "      <td>False</td>\n",
       "      <td>False</td>\n",
       "      <td>64351.81</td>\n",
       "      <td>False</td>\n",
       "    </tr>\n",
       "    <tr>\n",
       "      <th>8733</th>\n",
       "      <td>162053</td>\n",
       "      <td>786</td>\n",
       "      <td>Ярославль</td>\n",
       "      <td>М</td>\n",
       "      <td>29.0</td>\n",
       "      <td>4</td>\n",
       "      <td>205824.97</td>\n",
       "      <td>3</td>\n",
       "      <td>True</td>\n",
       "      <td>False</td>\n",
       "      <td>121371.73</td>\n",
       "      <td>False</td>\n",
       "    </tr>\n",
       "    <tr>\n",
       "      <th>5629</th>\n",
       "      <td>162053</td>\n",
       "      <td>921</td>\n",
       "      <td>Рыбинск</td>\n",
       "      <td>М</td>\n",
       "      <td>33.0</td>\n",
       "      <td>3</td>\n",
       "      <td>857011.13</td>\n",
       "      <td>2</td>\n",
       "      <td>True</td>\n",
       "      <td>True</td>\n",
       "      <td>113512.57</td>\n",
       "      <td>True</td>\n",
       "    </tr>\n",
       "    <tr>\n",
       "      <th>6786</th>\n",
       "      <td>163207</td>\n",
       "      <td>838</td>\n",
       "      <td>Ярославль</td>\n",
       "      <td>Ж</td>\n",
       "      <td>42.0</td>\n",
       "      <td>4</td>\n",
       "      <td>652776.60</td>\n",
       "      <td>2</td>\n",
       "      <td>True</td>\n",
       "      <td>True</td>\n",
       "      <td>97545.36</td>\n",
       "      <td>False</td>\n",
       "    </tr>\n",
       "    <tr>\n",
       "      <th>3564</th>\n",
       "      <td>163207</td>\n",
       "      <td>853</td>\n",
       "      <td>Рыбинск</td>\n",
       "      <td>М</td>\n",
       "      <td>42.0</td>\n",
       "      <td>4</td>\n",
       "      <td>543839.62</td>\n",
       "      <td>1</td>\n",
       "      <td>True</td>\n",
       "      <td>True</td>\n",
       "      <td>105281.97</td>\n",
       "      <td>True</td>\n",
       "    </tr>\n",
       "    <tr>\n",
       "      <th>6670</th>\n",
       "      <td>163657</td>\n",
       "      <td>903</td>\n",
       "      <td>Рыбинск</td>\n",
       "      <td>М</td>\n",
       "      <td>45.0</td>\n",
       "      <td>4</td>\n",
       "      <td>1343339.70</td>\n",
       "      <td>4</td>\n",
       "      <td>False</td>\n",
       "      <td>True</td>\n",
       "      <td>83741.65</td>\n",
       "      <td>False</td>\n",
       "    </tr>\n",
       "    <tr>\n",
       "      <th>9667</th>\n",
       "      <td>163657</td>\n",
       "      <td>849</td>\n",
       "      <td>Ярославль</td>\n",
       "      <td>М</td>\n",
       "      <td>NaN</td>\n",
       "      <td>4</td>\n",
       "      <td>1254013.85</td>\n",
       "      <td>2</td>\n",
       "      <td>True</td>\n",
       "      <td>True</td>\n",
       "      <td>119106.67</td>\n",
       "      <td>False</td>\n",
       "    </tr>\n",
       "    <tr>\n",
       "      <th>58</th>\n",
       "      <td>164676</td>\n",
       "      <td>860</td>\n",
       "      <td>Ярославль</td>\n",
       "      <td>М</td>\n",
       "      <td>37.0</td>\n",
       "      <td>5</td>\n",
       "      <td>648594.03</td>\n",
       "      <td>2</td>\n",
       "      <td>True</td>\n",
       "      <td>True</td>\n",
       "      <td>213586.86</td>\n",
       "      <td>True</td>\n",
       "    </tr>\n",
       "    <tr>\n",
       "      <th>7271</th>\n",
       "      <td>164676</td>\n",
       "      <td>790</td>\n",
       "      <td>Рыбинск</td>\n",
       "      <td>Ж</td>\n",
       "      <td>77.0</td>\n",
       "      <td>1</td>\n",
       "      <td>111202.01</td>\n",
       "      <td>1</td>\n",
       "      <td>True</td>\n",
       "      <td>False</td>\n",
       "      <td>32835.45</td>\n",
       "      <td>False</td>\n",
       "    </tr>\n",
       "    <tr>\n",
       "      <th>5020</th>\n",
       "      <td>168998</td>\n",
       "      <td>886</td>\n",
       "      <td>Ярославль</td>\n",
       "      <td>Ж</td>\n",
       "      <td>35.0</td>\n",
       "      <td>4</td>\n",
       "      <td>394780.61</td>\n",
       "      <td>2</td>\n",
       "      <td>True</td>\n",
       "      <td>True</td>\n",
       "      <td>510577.10</td>\n",
       "      <td>True</td>\n",
       "    </tr>\n",
       "    <tr>\n",
       "      <th>9785</th>\n",
       "      <td>168998</td>\n",
       "      <td>895</td>\n",
       "      <td>Рыбинск</td>\n",
       "      <td>М</td>\n",
       "      <td>44.0</td>\n",
       "      <td>0</td>\n",
       "      <td>282653.53</td>\n",
       "      <td>3</td>\n",
       "      <td>False</td>\n",
       "      <td>False</td>\n",
       "      <td>255296.47</td>\n",
       "      <td>False</td>\n",
       "    </tr>\n",
       "    <tr>\n",
       "      <th>790</th>\n",
       "      <td>170312</td>\n",
       "      <td>901</td>\n",
       "      <td>Ярославль</td>\n",
       "      <td>М</td>\n",
       "      <td>33.0</td>\n",
       "      <td>4</td>\n",
       "      <td>3276783.93</td>\n",
       "      <td>3</td>\n",
       "      <td>False</td>\n",
       "      <td>True</td>\n",
       "      <td>358700.96</td>\n",
       "      <td>True</td>\n",
       "    </tr>\n",
       "    <tr>\n",
       "      <th>3039</th>\n",
       "      <td>170312</td>\n",
       "      <td>813</td>\n",
       "      <td>Рыбинск</td>\n",
       "      <td>Ж</td>\n",
       "      <td>47.0</td>\n",
       "      <td>3</td>\n",
       "      <td>370027.67</td>\n",
       "      <td>2</td>\n",
       "      <td>False</td>\n",
       "      <td>False</td>\n",
       "      <td>129835.56</td>\n",
       "      <td>False</td>\n",
       "    </tr>\n",
       "    <tr>\n",
       "      <th>9653</th>\n",
       "      <td>171751</td>\n",
       "      <td>862</td>\n",
       "      <td>Ярославль</td>\n",
       "      <td>М</td>\n",
       "      <td>42.0</td>\n",
       "      <td>4</td>\n",
       "      <td>481992.19</td>\n",
       "      <td>2</td>\n",
       "      <td>True</td>\n",
       "      <td>False</td>\n",
       "      <td>71816.86</td>\n",
       "      <td>False</td>\n",
       "    </tr>\n",
       "    <tr>\n",
       "      <th>4587</th>\n",
       "      <td>171751</td>\n",
       "      <td>874</td>\n",
       "      <td>Рыбинск</td>\n",
       "      <td>Ж</td>\n",
       "      <td>26.0</td>\n",
       "      <td>5</td>\n",
       "      <td>292054.42</td>\n",
       "      <td>2</td>\n",
       "      <td>False</td>\n",
       "      <td>True</td>\n",
       "      <td>20528.56</td>\n",
       "      <td>True</td>\n",
       "    </tr>\n",
       "    <tr>\n",
       "      <th>2941</th>\n",
       "      <td>172142</td>\n",
       "      <td>896</td>\n",
       "      <td>Ярославль</td>\n",
       "      <td>Ж</td>\n",
       "      <td>30.0</td>\n",
       "      <td>4</td>\n",
       "      <td>1009073.14</td>\n",
       "      <td>4</td>\n",
       "      <td>True</td>\n",
       "      <td>False</td>\n",
       "      <td>70866.29</td>\n",
       "      <td>True</td>\n",
       "    </tr>\n",
       "    <tr>\n",
       "      <th>6756</th>\n",
       "      <td>172142</td>\n",
       "      <td>751</td>\n",
       "      <td>Рыбинск</td>\n",
       "      <td>Ж</td>\n",
       "      <td>69.0</td>\n",
       "      <td>3</td>\n",
       "      <td>396568.03</td>\n",
       "      <td>2</td>\n",
       "      <td>False</td>\n",
       "      <td>True</td>\n",
       "      <td>45608.45</td>\n",
       "      <td>False</td>\n",
       "    </tr>\n",
       "    <tr>\n",
       "      <th>7753</th>\n",
       "      <td>175730</td>\n",
       "      <td>846</td>\n",
       "      <td>Ярославль</td>\n",
       "      <td>Ж</td>\n",
       "      <td>32.0</td>\n",
       "      <td>7</td>\n",
       "      <td>216764.74</td>\n",
       "      <td>4</td>\n",
       "      <td>True</td>\n",
       "      <td>True</td>\n",
       "      <td>77100.85</td>\n",
       "      <td>True</td>\n",
       "    </tr>\n",
       "    <tr>\n",
       "      <th>9970</th>\n",
       "      <td>175730</td>\n",
       "      <td>816</td>\n",
       "      <td>Рыбинск</td>\n",
       "      <td>М</td>\n",
       "      <td>36.0</td>\n",
       "      <td>4</td>\n",
       "      <td>477892.07</td>\n",
       "      <td>3</td>\n",
       "      <td>True</td>\n",
       "      <td>False</td>\n",
       "      <td>81100.60</td>\n",
       "      <td>False</td>\n",
       "    </tr>\n",
       "    <tr>\n",
       "      <th>8705</th>\n",
       "      <td>181526</td>\n",
       "      <td>895</td>\n",
       "      <td>Рыбинск</td>\n",
       "      <td>М</td>\n",
       "      <td>29.0</td>\n",
       "      <td>0</td>\n",
       "      <td>NaN</td>\n",
       "      <td>1</td>\n",
       "      <td>True</td>\n",
       "      <td>True</td>\n",
       "      <td>124786.53</td>\n",
       "      <td>False</td>\n",
       "    </tr>\n",
       "    <tr>\n",
       "      <th>2989</th>\n",
       "      <td>181526</td>\n",
       "      <td>918</td>\n",
       "      <td>Ярославль</td>\n",
       "      <td>Ж</td>\n",
       "      <td>37.0</td>\n",
       "      <td>5</td>\n",
       "      <td>1366382.35</td>\n",
       "      <td>4</td>\n",
       "      <td>True</td>\n",
       "      <td>True</td>\n",
       "      <td>97932.95</td>\n",
       "      <td>True</td>\n",
       "    </tr>\n",
       "    <tr>\n",
       "      <th>9146</th>\n",
       "      <td>183510</td>\n",
       "      <td>800</td>\n",
       "      <td>Рыбинск</td>\n",
       "      <td>Ж</td>\n",
       "      <td>42.0</td>\n",
       "      <td>7</td>\n",
       "      <td>473293.81</td>\n",
       "      <td>2</td>\n",
       "      <td>True</td>\n",
       "      <td>False</td>\n",
       "      <td>54049.88</td>\n",
       "      <td>False</td>\n",
       "    </tr>\n",
       "    <tr>\n",
       "      <th>8584</th>\n",
       "      <td>183510</td>\n",
       "      <td>922</td>\n",
       "      <td>Ярославль</td>\n",
       "      <td>М</td>\n",
       "      <td>26.0</td>\n",
       "      <td>5</td>\n",
       "      <td>448542.42</td>\n",
       "      <td>3</td>\n",
       "      <td>False</td>\n",
       "      <td>True</td>\n",
       "      <td>66063.13</td>\n",
       "      <td>True</td>\n",
       "    </tr>\n",
       "    <tr>\n",
       "      <th>150</th>\n",
       "      <td>185748</td>\n",
       "      <td>850</td>\n",
       "      <td>Рыбинск</td>\n",
       "      <td>М</td>\n",
       "      <td>36.0</td>\n",
       "      <td>5</td>\n",
       "      <td>1203376.67</td>\n",
       "      <td>2</td>\n",
       "      <td>False</td>\n",
       "      <td>True</td>\n",
       "      <td>89401.82</td>\n",
       "      <td>True</td>\n",
       "    </tr>\n",
       "    <tr>\n",
       "      <th>3106</th>\n",
       "      <td>185748</td>\n",
       "      <td>912</td>\n",
       "      <td>Ярославль</td>\n",
       "      <td>Ж</td>\n",
       "      <td>47.0</td>\n",
       "      <td>5</td>\n",
       "      <td>1598218.98</td>\n",
       "      <td>2</td>\n",
       "      <td>False</td>\n",
       "      <td>False</td>\n",
       "      <td>180256.98</td>\n",
       "      <td>False</td>\n",
       "    </tr>\n",
       "    <tr>\n",
       "      <th>9632</th>\n",
       "      <td>185829</td>\n",
       "      <td>927</td>\n",
       "      <td>Ярославль</td>\n",
       "      <td>М</td>\n",
       "      <td>NaN</td>\n",
       "      <td>0</td>\n",
       "      <td>NaN</td>\n",
       "      <td>1</td>\n",
       "      <td>True</td>\n",
       "      <td>False</td>\n",
       "      <td>231254.86</td>\n",
       "      <td>False</td>\n",
       "    </tr>\n",
       "    <tr>\n",
       "      <th>3668</th>\n",
       "      <td>185829</td>\n",
       "      <td>925</td>\n",
       "      <td>Рыбинск</td>\n",
       "      <td>М</td>\n",
       "      <td>40.0</td>\n",
       "      <td>0</td>\n",
       "      <td>NaN</td>\n",
       "      <td>1</td>\n",
       "      <td>True</td>\n",
       "      <td>False</td>\n",
       "      <td>228305.64</td>\n",
       "      <td>False</td>\n",
       "    </tr>\n",
       "    <tr>\n",
       "      <th>9380</th>\n",
       "      <td>187459</td>\n",
       "      <td>894</td>\n",
       "      <td>Рыбинск</td>\n",
       "      <td>М</td>\n",
       "      <td>NaN</td>\n",
       "      <td>0</td>\n",
       "      <td>NaN</td>\n",
       "      <td>1</td>\n",
       "      <td>True</td>\n",
       "      <td>False</td>\n",
       "      <td>178012.28</td>\n",
       "      <td>False</td>\n",
       "    </tr>\n",
       "    <tr>\n",
       "      <th>4720</th>\n",
       "      <td>187459</td>\n",
       "      <td>895</td>\n",
       "      <td>Ярославль</td>\n",
       "      <td>М</td>\n",
       "      <td>48.0</td>\n",
       "      <td>0</td>\n",
       "      <td>NaN</td>\n",
       "      <td>1</td>\n",
       "      <td>True</td>\n",
       "      <td>False</td>\n",
       "      <td>180887.50</td>\n",
       "      <td>False</td>\n",
       "    </tr>\n",
       "    <tr>\n",
       "      <th>2165</th>\n",
       "      <td>187635</td>\n",
       "      <td>692</td>\n",
       "      <td>Рыбинск</td>\n",
       "      <td>Ж</td>\n",
       "      <td>NaN</td>\n",
       "      <td>0</td>\n",
       "      <td>NaN</td>\n",
       "      <td>1</td>\n",
       "      <td>True</td>\n",
       "      <td>True</td>\n",
       "      <td>160368.82</td>\n",
       "      <td>False</td>\n",
       "    </tr>\n",
       "    <tr>\n",
       "      <th>918</th>\n",
       "      <td>187635</td>\n",
       "      <td>918</td>\n",
       "      <td>Ярославль</td>\n",
       "      <td>Ж</td>\n",
       "      <td>44.0</td>\n",
       "      <td>0</td>\n",
       "      <td>NaN</td>\n",
       "      <td>1</td>\n",
       "      <td>True</td>\n",
       "      <td>True</td>\n",
       "      <td>162497.52</td>\n",
       "      <td>False</td>\n",
       "    </tr>\n",
       "    <tr>\n",
       "      <th>5454</th>\n",
       "      <td>188957</td>\n",
       "      <td>853</td>\n",
       "      <td>Ярославль</td>\n",
       "      <td>М</td>\n",
       "      <td>35.0</td>\n",
       "      <td>1</td>\n",
       "      <td>374959.62</td>\n",
       "      <td>2</td>\n",
       "      <td>True</td>\n",
       "      <td>True</td>\n",
       "      <td>197600.97</td>\n",
       "      <td>True</td>\n",
       "    </tr>\n",
       "    <tr>\n",
       "      <th>6005</th>\n",
       "      <td>188957</td>\n",
       "      <td>882</td>\n",
       "      <td>Рыбинск</td>\n",
       "      <td>Ж</td>\n",
       "      <td>64.0</td>\n",
       "      <td>3</td>\n",
       "      <td>893392.91</td>\n",
       "      <td>3</td>\n",
       "      <td>True</td>\n",
       "      <td>False</td>\n",
       "      <td>69622.58</td>\n",
       "      <td>False</td>\n",
       "    </tr>\n",
       "    <tr>\n",
       "      <th>231</th>\n",
       "      <td>190253</td>\n",
       "      <td>823</td>\n",
       "      <td>Рыбинск</td>\n",
       "      <td>М</td>\n",
       "      <td>37.0</td>\n",
       "      <td>4</td>\n",
       "      <td>373348.39</td>\n",
       "      <td>2</td>\n",
       "      <td>False</td>\n",
       "      <td>True</td>\n",
       "      <td>131947.92</td>\n",
       "      <td>True</td>\n",
       "    </tr>\n",
       "    <tr>\n",
       "      <th>1583</th>\n",
       "      <td>190253</td>\n",
       "      <td>726</td>\n",
       "      <td>Ярославль</td>\n",
       "      <td>М</td>\n",
       "      <td>49.0</td>\n",
       "      <td>0</td>\n",
       "      <td>NaN</td>\n",
       "      <td>1</td>\n",
       "      <td>True</td>\n",
       "      <td>True</td>\n",
       "      <td>177700.78</td>\n",
       "      <td>False</td>\n",
       "    </tr>\n",
       "    <tr>\n",
       "      <th>7931</th>\n",
       "      <td>191520</td>\n",
       "      <td>767</td>\n",
       "      <td>Ярославль</td>\n",
       "      <td>М</td>\n",
       "      <td>45.0</td>\n",
       "      <td>0</td>\n",
       "      <td>NaN</td>\n",
       "      <td>1</td>\n",
       "      <td>True</td>\n",
       "      <td>True</td>\n",
       "      <td>880005.05</td>\n",
       "      <td>False</td>\n",
       "    </tr>\n",
       "    <tr>\n",
       "      <th>3859</th>\n",
       "      <td>191520</td>\n",
       "      <td>773</td>\n",
       "      <td>Рыбинск</td>\n",
       "      <td>М</td>\n",
       "      <td>36.0</td>\n",
       "      <td>3</td>\n",
       "      <td>1219918.08</td>\n",
       "      <td>4</td>\n",
       "      <td>True</td>\n",
       "      <td>True</td>\n",
       "      <td>119933.13</td>\n",
       "      <td>True</td>\n",
       "    </tr>\n",
       "    <tr>\n",
       "      <th>2226</th>\n",
       "      <td>195884</td>\n",
       "      <td>906</td>\n",
       "      <td>Ярославль</td>\n",
       "      <td>М</td>\n",
       "      <td>49.0</td>\n",
       "      <td>6</td>\n",
       "      <td>1354552.83</td>\n",
       "      <td>2</td>\n",
       "      <td>False</td>\n",
       "      <td>False</td>\n",
       "      <td>270678.42</td>\n",
       "      <td>True</td>\n",
       "    </tr>\n",
       "    <tr>\n",
       "      <th>9659</th>\n",
       "      <td>195884</td>\n",
       "      <td>767</td>\n",
       "      <td>Рыбинск</td>\n",
       "      <td>Ж</td>\n",
       "      <td>45.0</td>\n",
       "      <td>1</td>\n",
       "      <td>335652.56</td>\n",
       "      <td>3</td>\n",
       "      <td>True</td>\n",
       "      <td>True</td>\n",
       "      <td>100197.67</td>\n",
       "      <td>False</td>\n",
       "    </tr>\n",
       "    <tr>\n",
       "      <th>4870</th>\n",
       "      <td>197364</td>\n",
       "      <td>889</td>\n",
       "      <td>Ярославль</td>\n",
       "      <td>М</td>\n",
       "      <td>33.0</td>\n",
       "      <td>0</td>\n",
       "      <td>NaN</td>\n",
       "      <td>2</td>\n",
       "      <td>True</td>\n",
       "      <td>True</td>\n",
       "      <td>96173.48</td>\n",
       "      <td>False</td>\n",
       "    </tr>\n",
       "    <tr>\n",
       "      <th>161</th>\n",
       "      <td>197364</td>\n",
       "      <td>928</td>\n",
       "      <td>Рыбинск</td>\n",
       "      <td>Ж</td>\n",
       "      <td>53.0</td>\n",
       "      <td>6</td>\n",
       "      <td>1347183.86</td>\n",
       "      <td>2</td>\n",
       "      <td>False</td>\n",
       "      <td>True</td>\n",
       "      <td>168189.49</td>\n",
       "      <td>True</td>\n",
       "    </tr>\n",
       "    <tr>\n",
       "      <th>8015</th>\n",
       "      <td>198635</td>\n",
       "      <td>670</td>\n",
       "      <td>Ярославль</td>\n",
       "      <td>Ж</td>\n",
       "      <td>NaN</td>\n",
       "      <td>0</td>\n",
       "      <td>NaN</td>\n",
       "      <td>1</td>\n",
       "      <td>True</td>\n",
       "      <td>True</td>\n",
       "      <td>168699.33</td>\n",
       "      <td>False</td>\n",
       "    </tr>\n",
       "    <tr>\n",
       "      <th>1181</th>\n",
       "      <td>198635</td>\n",
       "      <td>896</td>\n",
       "      <td>Рыбинск</td>\n",
       "      <td>Ж</td>\n",
       "      <td>32.0</td>\n",
       "      <td>0</td>\n",
       "      <td>NaN</td>\n",
       "      <td>1</td>\n",
       "      <td>True</td>\n",
       "      <td>True</td>\n",
       "      <td>170866.01</td>\n",
       "      <td>False</td>\n",
       "    </tr>\n",
       "    <tr>\n",
       "      <th>8822</th>\n",
       "      <td>199312</td>\n",
       "      <td>911</td>\n",
       "      <td>Рыбинск</td>\n",
       "      <td>Ж</td>\n",
       "      <td>43.0</td>\n",
       "      <td>0</td>\n",
       "      <td>NaN</td>\n",
       "      <td>2</td>\n",
       "      <td>True</td>\n",
       "      <td>True</td>\n",
       "      <td>152189.72</td>\n",
       "      <td>False</td>\n",
       "    </tr>\n",
       "    <tr>\n",
       "      <th>2499</th>\n",
       "      <td>199312</td>\n",
       "      <td>948</td>\n",
       "      <td>Ярославль</td>\n",
       "      <td>М</td>\n",
       "      <td>41.0</td>\n",
       "      <td>5</td>\n",
       "      <td>3095721.85</td>\n",
       "      <td>4</td>\n",
       "      <td>True</td>\n",
       "      <td>True</td>\n",
       "      <td>307234.69</td>\n",
       "      <td>True</td>\n",
       "    </tr>\n",
       "    <tr>\n",
       "      <th>9035</th>\n",
       "      <td>200863</td>\n",
       "      <td>933</td>\n",
       "      <td>Рыбинск</td>\n",
       "      <td>М</td>\n",
       "      <td>29.0</td>\n",
       "      <td>7</td>\n",
       "      <td>766924.56</td>\n",
       "      <td>2</td>\n",
       "      <td>False</td>\n",
       "      <td>True</td>\n",
       "      <td>89323.33</td>\n",
       "      <td>True</td>\n",
       "    </tr>\n",
       "    <tr>\n",
       "      <th>9175</th>\n",
       "      <td>200863</td>\n",
       "      <td>832</td>\n",
       "      <td>Ярославль</td>\n",
       "      <td>М</td>\n",
       "      <td>42.0</td>\n",
       "      <td>5</td>\n",
       "      <td>620064.73</td>\n",
       "      <td>2</td>\n",
       "      <td>False</td>\n",
       "      <td>False</td>\n",
       "      <td>188054.46</td>\n",
       "      <td>False</td>\n",
       "    </tr>\n",
       "    <tr>\n",
       "      <th>9301</th>\n",
       "      <td>202983</td>\n",
       "      <td>942</td>\n",
       "      <td>Рыбинск</td>\n",
       "      <td>Ж</td>\n",
       "      <td>NaN</td>\n",
       "      <td>0</td>\n",
       "      <td>NaN</td>\n",
       "      <td>1</td>\n",
       "      <td>True</td>\n",
       "      <td>True</td>\n",
       "      <td>163804.73</td>\n",
       "      <td>False</td>\n",
       "    </tr>\n",
       "    <tr>\n",
       "      <th>8897</th>\n",
       "      <td>202983</td>\n",
       "      <td>941</td>\n",
       "      <td>Ярославль</td>\n",
       "      <td>Ж</td>\n",
       "      <td>39.0</td>\n",
       "      <td>0</td>\n",
       "      <td>NaN</td>\n",
       "      <td>1</td>\n",
       "      <td>False</td>\n",
       "      <td>True</td>\n",
       "      <td>159348.84</td>\n",
       "      <td>False</td>\n",
       "    </tr>\n",
       "    <tr>\n",
       "      <th>5889</th>\n",
       "      <td>206759</td>\n",
       "      <td>917</td>\n",
       "      <td>Ярославль</td>\n",
       "      <td>М</td>\n",
       "      <td>22.0</td>\n",
       "      <td>0</td>\n",
       "      <td>NaN</td>\n",
       "      <td>1</td>\n",
       "      <td>True</td>\n",
       "      <td>False</td>\n",
       "      <td>70617.52</td>\n",
       "      <td>False</td>\n",
       "    </tr>\n",
       "    <tr>\n",
       "      <th>8385</th>\n",
       "      <td>206759</td>\n",
       "      <td>915</td>\n",
       "      <td>Рыбинск</td>\n",
       "      <td>М</td>\n",
       "      <td>NaN</td>\n",
       "      <td>0</td>\n",
       "      <td>NaN</td>\n",
       "      <td>1</td>\n",
       "      <td>True</td>\n",
       "      <td>False</td>\n",
       "      <td>71179.53</td>\n",
       "      <td>False</td>\n",
       "    </tr>\n",
       "    <tr>\n",
       "      <th>1513</th>\n",
       "      <td>208081</td>\n",
       "      <td>873</td>\n",
       "      <td>Ярославль</td>\n",
       "      <td>М</td>\n",
       "      <td>31.0</td>\n",
       "      <td>2</td>\n",
       "      <td>232814.75</td>\n",
       "      <td>2</td>\n",
       "      <td>True</td>\n",
       "      <td>True</td>\n",
       "      <td>122505.86</td>\n",
       "      <td>True</td>\n",
       "    </tr>\n",
       "    <tr>\n",
       "      <th>2998</th>\n",
       "      <td>208081</td>\n",
       "      <td>821</td>\n",
       "      <td>Рыбинск</td>\n",
       "      <td>Ж</td>\n",
       "      <td>62.0</td>\n",
       "      <td>3</td>\n",
       "      <td>493608.26</td>\n",
       "      <td>2</td>\n",
       "      <td>True</td>\n",
       "      <td>True</td>\n",
       "      <td>33491.45</td>\n",
       "      <td>False</td>\n",
       "    </tr>\n",
       "    <tr>\n",
       "      <th>1580</th>\n",
       "      <td>208738</td>\n",
       "      <td>897</td>\n",
       "      <td>Рыбинск</td>\n",
       "      <td>Ж</td>\n",
       "      <td>45.0</td>\n",
       "      <td>5</td>\n",
       "      <td>859018.19</td>\n",
       "      <td>2</td>\n",
       "      <td>True</td>\n",
       "      <td>True</td>\n",
       "      <td>145510.08</td>\n",
       "      <td>True</td>\n",
       "    </tr>\n",
       "    <tr>\n",
       "      <th>5840</th>\n",
       "      <td>208738</td>\n",
       "      <td>839</td>\n",
       "      <td>Ярославль</td>\n",
       "      <td>М</td>\n",
       "      <td>60.0</td>\n",
       "      <td>5</td>\n",
       "      <td>1102438.37</td>\n",
       "      <td>2</td>\n",
       "      <td>False</td>\n",
       "      <td>True</td>\n",
       "      <td>116500.81</td>\n",
       "      <td>False</td>\n",
       "    </tr>\n",
       "    <tr>\n",
       "      <th>5570</th>\n",
       "      <td>208815</td>\n",
       "      <td>773</td>\n",
       "      <td>Ярославль</td>\n",
       "      <td>М</td>\n",
       "      <td>39.0</td>\n",
       "      <td>4</td>\n",
       "      <td>288110.09</td>\n",
       "      <td>2</td>\n",
       "      <td>True</td>\n",
       "      <td>False</td>\n",
       "      <td>56971.91</td>\n",
       "      <td>False</td>\n",
       "    </tr>\n",
       "    <tr>\n",
       "      <th>3350</th>\n",
       "      <td>208815</td>\n",
       "      <td>877</td>\n",
       "      <td>Рыбинск</td>\n",
       "      <td>М</td>\n",
       "      <td>25.0</td>\n",
       "      <td>4</td>\n",
       "      <td>239421.18</td>\n",
       "      <td>1</td>\n",
       "      <td>True</td>\n",
       "      <td>True</td>\n",
       "      <td>48638.00</td>\n",
       "      <td>True</td>\n",
       "    </tr>\n",
       "    <tr>\n",
       "      <th>3230</th>\n",
       "      <td>210135</td>\n",
       "      <td>974</td>\n",
       "      <td>Ярославль</td>\n",
       "      <td>Ж</td>\n",
       "      <td>50.0</td>\n",
       "      <td>5</td>\n",
       "      <td>5680148.93</td>\n",
       "      <td>4</td>\n",
       "      <td>True</td>\n",
       "      <td>True</td>\n",
       "      <td>338471.66</td>\n",
       "      <td>False</td>\n",
       "    </tr>\n",
       "    <tr>\n",
       "      <th>7236</th>\n",
       "      <td>210135</td>\n",
       "      <td>908</td>\n",
       "      <td>Рыбинск</td>\n",
       "      <td>Ж</td>\n",
       "      <td>NaN</td>\n",
       "      <td>4</td>\n",
       "      <td>1120340.31</td>\n",
       "      <td>3</td>\n",
       "      <td>True</td>\n",
       "      <td>True</td>\n",
       "      <td>85002.15</td>\n",
       "      <td>False</td>\n",
       "    </tr>\n",
       "    <tr>\n",
       "      <th>8521</th>\n",
       "      <td>210627</td>\n",
       "      <td>804</td>\n",
       "      <td>Рыбинск</td>\n",
       "      <td>М</td>\n",
       "      <td>30.0</td>\n",
       "      <td>2</td>\n",
       "      <td>347818.88</td>\n",
       "      <td>3</td>\n",
       "      <td>True</td>\n",
       "      <td>False</td>\n",
       "      <td>129015.25</td>\n",
       "      <td>False</td>\n",
       "    </tr>\n",
       "    <tr>\n",
       "      <th>7453</th>\n",
       "      <td>210627</td>\n",
       "      <td>864</td>\n",
       "      <td>Ярославль</td>\n",
       "      <td>Ж</td>\n",
       "      <td>38.0</td>\n",
       "      <td>4</td>\n",
       "      <td>1527225.32</td>\n",
       "      <td>4</td>\n",
       "      <td>True</td>\n",
       "      <td>True</td>\n",
       "      <td>162999.17</td>\n",
       "      <td>True</td>\n",
       "    </tr>\n",
       "    <tr>\n",
       "      <th>1837</th>\n",
       "      <td>210662</td>\n",
       "      <td>896</td>\n",
       "      <td>Рыбинск</td>\n",
       "      <td>Ж</td>\n",
       "      <td>37.0</td>\n",
       "      <td>0</td>\n",
       "      <td>NaN</td>\n",
       "      <td>2</td>\n",
       "      <td>False</td>\n",
       "      <td>False</td>\n",
       "      <td>90916.04</td>\n",
       "      <td>False</td>\n",
       "    </tr>\n",
       "    <tr>\n",
       "      <th>869</th>\n",
       "      <td>210662</td>\n",
       "      <td>962</td>\n",
       "      <td>Ярославль</td>\n",
       "      <td>Ж</td>\n",
       "      <td>54.0</td>\n",
       "      <td>5</td>\n",
       "      <td>5069231.39</td>\n",
       "      <td>1</td>\n",
       "      <td>True</td>\n",
       "      <td>True</td>\n",
       "      <td>955144.85</td>\n",
       "      <td>True</td>\n",
       "    </tr>\n",
       "    <tr>\n",
       "      <th>4986</th>\n",
       "      <td>210792</td>\n",
       "      <td>884</td>\n",
       "      <td>Рыбинск</td>\n",
       "      <td>М</td>\n",
       "      <td>48.0</td>\n",
       "      <td>4</td>\n",
       "      <td>2228037.20</td>\n",
       "      <td>2</td>\n",
       "      <td>False</td>\n",
       "      <td>True</td>\n",
       "      <td>207978.09</td>\n",
       "      <td>True</td>\n",
       "    </tr>\n",
       "    <tr>\n",
       "      <th>7814</th>\n",
       "      <td>210792</td>\n",
       "      <td>839</td>\n",
       "      <td>Ярославль</td>\n",
       "      <td>М</td>\n",
       "      <td>42.0</td>\n",
       "      <td>2</td>\n",
       "      <td>662646.97</td>\n",
       "      <td>1</td>\n",
       "      <td>True</td>\n",
       "      <td>False</td>\n",
       "      <td>138403.60</td>\n",
       "      <td>False</td>\n",
       "    </tr>\n",
       "    <tr>\n",
       "      <th>6685</th>\n",
       "      <td>210898</td>\n",
       "      <td>934</td>\n",
       "      <td>Рыбинск</td>\n",
       "      <td>Ж</td>\n",
       "      <td>35.0</td>\n",
       "      <td>0</td>\n",
       "      <td>NaN</td>\n",
       "      <td>1</td>\n",
       "      <td>False</td>\n",
       "      <td>True</td>\n",
       "      <td>912105.84</td>\n",
       "      <td>False</td>\n",
       "    </tr>\n",
       "    <tr>\n",
       "      <th>8449</th>\n",
       "      <td>210898</td>\n",
       "      <td>805</td>\n",
       "      <td>Ярославль</td>\n",
       "      <td>Ж</td>\n",
       "      <td>NaN</td>\n",
       "      <td>0</td>\n",
       "      <td>NaN</td>\n",
       "      <td>1</td>\n",
       "      <td>False</td>\n",
       "      <td>True</td>\n",
       "      <td>922080.25</td>\n",
       "      <td>False</td>\n",
       "    </tr>\n",
       "    <tr>\n",
       "      <th>1359</th>\n",
       "      <td>211130</td>\n",
       "      <td>833</td>\n",
       "      <td>Ярославль</td>\n",
       "      <td>М</td>\n",
       "      <td>55.0</td>\n",
       "      <td>3</td>\n",
       "      <td>1231184.90</td>\n",
       "      <td>4</td>\n",
       "      <td>False</td>\n",
       "      <td>True</td>\n",
       "      <td>187758.38</td>\n",
       "      <td>True</td>\n",
       "    </tr>\n",
       "    <tr>\n",
       "      <th>3817</th>\n",
       "      <td>211130</td>\n",
       "      <td>918</td>\n",
       "      <td>Рыбинск</td>\n",
       "      <td>Ж</td>\n",
       "      <td>55.0</td>\n",
       "      <td>0</td>\n",
       "      <td>NaN</td>\n",
       "      <td>2</td>\n",
       "      <td>True</td>\n",
       "      <td>True</td>\n",
       "      <td>244202.04</td>\n",
       "      <td>False</td>\n",
       "    </tr>\n",
       "    <tr>\n",
       "      <th>7409</th>\n",
       "      <td>214031</td>\n",
       "      <td>777</td>\n",
       "      <td>Ярославль</td>\n",
       "      <td>М</td>\n",
       "      <td>NaN</td>\n",
       "      <td>2</td>\n",
       "      <td>171510.23</td>\n",
       "      <td>1</td>\n",
       "      <td>True</td>\n",
       "      <td>True</td>\n",
       "      <td>75409.63</td>\n",
       "      <td>False</td>\n",
       "    </tr>\n",
       "    <tr>\n",
       "      <th>431</th>\n",
       "      <td>214031</td>\n",
       "      <td>856</td>\n",
       "      <td>Рыбинск</td>\n",
       "      <td>М</td>\n",
       "      <td>36.0</td>\n",
       "      <td>2</td>\n",
       "      <td>386426.67</td>\n",
       "      <td>4</td>\n",
       "      <td>True</td>\n",
       "      <td>True</td>\n",
       "      <td>72767.85</td>\n",
       "      <td>False</td>\n",
       "    </tr>\n",
       "    <tr>\n",
       "      <th>8293</th>\n",
       "      <td>216848</td>\n",
       "      <td>930</td>\n",
       "      <td>Ярославль</td>\n",
       "      <td>М</td>\n",
       "      <td>NaN</td>\n",
       "      <td>0</td>\n",
       "      <td>NaN</td>\n",
       "      <td>1</td>\n",
       "      <td>True</td>\n",
       "      <td>True</td>\n",
       "      <td>199542.51</td>\n",
       "      <td>False</td>\n",
       "    </tr>\n",
       "    <tr>\n",
       "      <th>4401</th>\n",
       "      <td>216848</td>\n",
       "      <td>929</td>\n",
       "      <td>Рыбинск</td>\n",
       "      <td>М</td>\n",
       "      <td>68.0</td>\n",
       "      <td>0</td>\n",
       "      <td>NaN</td>\n",
       "      <td>1</td>\n",
       "      <td>True</td>\n",
       "      <td>True</td>\n",
       "      <td>195902.59</td>\n",
       "      <td>False</td>\n",
       "    </tr>\n",
       "    <tr>\n",
       "      <th>9880</th>\n",
       "      <td>217412</td>\n",
       "      <td>886</td>\n",
       "      <td>Ярославль</td>\n",
       "      <td>Ж</td>\n",
       "      <td>35.0</td>\n",
       "      <td>3</td>\n",
       "      <td>1026172.14</td>\n",
       "      <td>2</td>\n",
       "      <td>True</td>\n",
       "      <td>False</td>\n",
       "      <td>53099.16</td>\n",
       "      <td>False</td>\n",
       "    </tr>\n",
       "    <tr>\n",
       "      <th>7055</th>\n",
       "      <td>217412</td>\n",
       "      <td>879</td>\n",
       "      <td>Рыбинск</td>\n",
       "      <td>М</td>\n",
       "      <td>42.0</td>\n",
       "      <td>5</td>\n",
       "      <td>568140.15</td>\n",
       "      <td>3</td>\n",
       "      <td>False</td>\n",
       "      <td>False</td>\n",
       "      <td>231658.67</td>\n",
       "      <td>True</td>\n",
       "    </tr>\n",
       "    <tr>\n",
       "      <th>4611</th>\n",
       "      <td>217619</td>\n",
       "      <td>903</td>\n",
       "      <td>Рыбинск</td>\n",
       "      <td>Ж</td>\n",
       "      <td>59.0</td>\n",
       "      <td>5</td>\n",
       "      <td>844055.83</td>\n",
       "      <td>2</td>\n",
       "      <td>False</td>\n",
       "      <td>True</td>\n",
       "      <td>133999.76</td>\n",
       "      <td>True</td>\n",
       "    </tr>\n",
       "    <tr>\n",
       "      <th>5807</th>\n",
       "      <td>217619</td>\n",
       "      <td>766</td>\n",
       "      <td>Ярославль</td>\n",
       "      <td>М</td>\n",
       "      <td>52.0</td>\n",
       "      <td>2</td>\n",
       "      <td>218199.47</td>\n",
       "      <td>1</td>\n",
       "      <td>True</td>\n",
       "      <td>False</td>\n",
       "      <td>120356.44</td>\n",
       "      <td>False</td>\n",
       "    </tr>\n",
       "    <tr>\n",
       "      <th>4186</th>\n",
       "      <td>217643</td>\n",
       "      <td>804</td>\n",
       "      <td>Рыбинск</td>\n",
       "      <td>Ж</td>\n",
       "      <td>40.0</td>\n",
       "      <td>2</td>\n",
       "      <td>301836.65</td>\n",
       "      <td>2</td>\n",
       "      <td>True</td>\n",
       "      <td>True</td>\n",
       "      <td>81137.22</td>\n",
       "      <td>False</td>\n",
       "    </tr>\n",
       "    <tr>\n",
       "      <th>1970</th>\n",
       "      <td>217643</td>\n",
       "      <td>845</td>\n",
       "      <td>Ярославль</td>\n",
       "      <td>М</td>\n",
       "      <td>29.0</td>\n",
       "      <td>5</td>\n",
       "      <td>733098.45</td>\n",
       "      <td>4</td>\n",
       "      <td>True</td>\n",
       "      <td>True</td>\n",
       "      <td>41443.01</td>\n",
       "      <td>True</td>\n",
       "    </tr>\n",
       "    <tr>\n",
       "      <th>4623</th>\n",
       "      <td>217826</td>\n",
       "      <td>842</td>\n",
       "      <td>Ярославль</td>\n",
       "      <td>М</td>\n",
       "      <td>39.0</td>\n",
       "      <td>4</td>\n",
       "      <td>439747.65</td>\n",
       "      <td>2</td>\n",
       "      <td>False</td>\n",
       "      <td>True</td>\n",
       "      <td>116736.75</td>\n",
       "      <td>True</td>\n",
       "    </tr>\n",
       "    <tr>\n",
       "      <th>9406</th>\n",
       "      <td>217826</td>\n",
       "      <td>790</td>\n",
       "      <td>Рыбинск</td>\n",
       "      <td>Ж</td>\n",
       "      <td>46.0</td>\n",
       "      <td>4</td>\n",
       "      <td>430414.80</td>\n",
       "      <td>2</td>\n",
       "      <td>True</td>\n",
       "      <td>True</td>\n",
       "      <td>49400.37</td>\n",
       "      <td>False</td>\n",
       "    </tr>\n",
       "    <tr>\n",
       "      <th>7</th>\n",
       "      <td>218868</td>\n",
       "      <td>825</td>\n",
       "      <td>Ярославль</td>\n",
       "      <td>Ж</td>\n",
       "      <td>38.0</td>\n",
       "      <td>4</td>\n",
       "      <td>458145.40</td>\n",
       "      <td>2</td>\n",
       "      <td>True</td>\n",
       "      <td>True</td>\n",
       "      <td>68085.48</td>\n",
       "      <td>False</td>\n",
       "    </tr>\n",
       "    <tr>\n",
       "      <th>5470</th>\n",
       "      <td>218868</td>\n",
       "      <td>827</td>\n",
       "      <td>Рыбинск</td>\n",
       "      <td>Ж</td>\n",
       "      <td>NaN</td>\n",
       "      <td>4</td>\n",
       "      <td>448959.07</td>\n",
       "      <td>2</td>\n",
       "      <td>True</td>\n",
       "      <td>True</td>\n",
       "      <td>67835.95</td>\n",
       "      <td>False</td>\n",
       "    </tr>\n",
       "    <tr>\n",
       "      <th>1010</th>\n",
       "      <td>219343</td>\n",
       "      <td>921</td>\n",
       "      <td>Ярославль</td>\n",
       "      <td>Ж</td>\n",
       "      <td>33.0</td>\n",
       "      <td>0</td>\n",
       "      <td>NaN</td>\n",
       "      <td>1</td>\n",
       "      <td>True</td>\n",
       "      <td>False</td>\n",
       "      <td>159475.61</td>\n",
       "      <td>False</td>\n",
       "    </tr>\n",
       "    <tr>\n",
       "      <th>7248</th>\n",
       "      <td>219343</td>\n",
       "      <td>920</td>\n",
       "      <td>Рыбинск</td>\n",
       "      <td>Ж</td>\n",
       "      <td>NaN</td>\n",
       "      <td>0</td>\n",
       "      <td>NaN</td>\n",
       "      <td>1</td>\n",
       "      <td>True</td>\n",
       "      <td>False</td>\n",
       "      <td>159248.67</td>\n",
       "      <td>False</td>\n",
       "    </tr>\n",
       "    <tr>\n",
       "      <th>1740</th>\n",
       "      <td>220816</td>\n",
       "      <td>840</td>\n",
       "      <td>Ярославль</td>\n",
       "      <td>Ж</td>\n",
       "      <td>41.0</td>\n",
       "      <td>3</td>\n",
       "      <td>1193287.13</td>\n",
       "      <td>2</td>\n",
       "      <td>True</td>\n",
       "      <td>True</td>\n",
       "      <td>76434.94</td>\n",
       "      <td>True</td>\n",
       "    </tr>\n",
       "    <tr>\n",
       "      <th>2302</th>\n",
       "      <td>220816</td>\n",
       "      <td>934</td>\n",
       "      <td>Рыбинск</td>\n",
       "      <td>Ж</td>\n",
       "      <td>74.0</td>\n",
       "      <td>5</td>\n",
       "      <td>1294285.39</td>\n",
       "      <td>3</td>\n",
       "      <td>True</td>\n",
       "      <td>False</td>\n",
       "      <td>95606.80</td>\n",
       "      <td>False</td>\n",
       "    </tr>\n",
       "    <tr>\n",
       "      <th>1389</th>\n",
       "      <td>221156</td>\n",
       "      <td>687</td>\n",
       "      <td>Рыбинск</td>\n",
       "      <td>М</td>\n",
       "      <td>61.0</td>\n",
       "      <td>0</td>\n",
       "      <td>NaN</td>\n",
       "      <td>1</td>\n",
       "      <td>True</td>\n",
       "      <td>True</td>\n",
       "      <td>136361.72</td>\n",
       "      <td>False</td>\n",
       "    </tr>\n",
       "    <tr>\n",
       "      <th>2444</th>\n",
       "      <td>221156</td>\n",
       "      <td>913</td>\n",
       "      <td>Ярославль</td>\n",
       "      <td>М</td>\n",
       "      <td>NaN</td>\n",
       "      <td>0</td>\n",
       "      <td>NaN</td>\n",
       "      <td>1</td>\n",
       "      <td>True</td>\n",
       "      <td>True</td>\n",
       "      <td>135693.24</td>\n",
       "      <td>False</td>\n",
       "    </tr>\n",
       "    <tr>\n",
       "      <th>440</th>\n",
       "      <td>221197</td>\n",
       "      <td>663</td>\n",
       "      <td>Рыбинск</td>\n",
       "      <td>М</td>\n",
       "      <td>27.0</td>\n",
       "      <td>0</td>\n",
       "      <td>NaN</td>\n",
       "      <td>1</td>\n",
       "      <td>True</td>\n",
       "      <td>True</td>\n",
       "      <td>172573.13</td>\n",
       "      <td>False</td>\n",
       "    </tr>\n",
       "    <tr>\n",
       "      <th>8632</th>\n",
       "      <td>221197</td>\n",
       "      <td>893</td>\n",
       "      <td>Ярославль</td>\n",
       "      <td>М</td>\n",
       "      <td>NaN</td>\n",
       "      <td>0</td>\n",
       "      <td>NaN</td>\n",
       "      <td>1</td>\n",
       "      <td>True</td>\n",
       "      <td>False</td>\n",
       "      <td>173929.92</td>\n",
       "      <td>False</td>\n",
       "    </tr>\n",
       "    <tr>\n",
       "      <th>9634</th>\n",
       "      <td>221809</td>\n",
       "      <td>917</td>\n",
       "      <td>Ярославль</td>\n",
       "      <td>М</td>\n",
       "      <td>NaN</td>\n",
       "      <td>0</td>\n",
       "      <td>NaN</td>\n",
       "      <td>1</td>\n",
       "      <td>True</td>\n",
       "      <td>True</td>\n",
       "      <td>192644.15</td>\n",
       "      <td>False</td>\n",
       "    </tr>\n",
       "    <tr>\n",
       "      <th>9322</th>\n",
       "      <td>221809</td>\n",
       "      <td>917</td>\n",
       "      <td>Рыбинск</td>\n",
       "      <td>М</td>\n",
       "      <td>45.0</td>\n",
       "      <td>0</td>\n",
       "      <td>NaN</td>\n",
       "      <td>1</td>\n",
       "      <td>True</td>\n",
       "      <td>True</td>\n",
       "      <td>199728.29</td>\n",
       "      <td>False</td>\n",
       "    </tr>\n",
       "    <tr>\n",
       "      <th>9104</th>\n",
       "      <td>222480</td>\n",
       "      <td>776</td>\n",
       "      <td>Рыбинск</td>\n",
       "      <td>Ж</td>\n",
       "      <td>NaN</td>\n",
       "      <td>5</td>\n",
       "      <td>796735.09</td>\n",
       "      <td>1</td>\n",
       "      <td>True</td>\n",
       "      <td>True</td>\n",
       "      <td>55073.63</td>\n",
       "      <td>False</td>\n",
       "    </tr>\n",
       "    <tr>\n",
       "      <th>6446</th>\n",
       "      <td>222480</td>\n",
       "      <td>776</td>\n",
       "      <td>Ярославль</td>\n",
       "      <td>Ж</td>\n",
       "      <td>38.0</td>\n",
       "      <td>5</td>\n",
       "      <td>823145.83</td>\n",
       "      <td>2</td>\n",
       "      <td>True</td>\n",
       "      <td>True</td>\n",
       "      <td>55777.44</td>\n",
       "      <td>False</td>\n",
       "    </tr>\n",
       "    <tr>\n",
       "      <th>8070</th>\n",
       "      <td>226550</td>\n",
       "      <td>940</td>\n",
       "      <td>Рыбинск</td>\n",
       "      <td>М</td>\n",
       "      <td>NaN</td>\n",
       "      <td>0</td>\n",
       "      <td>NaN</td>\n",
       "      <td>1</td>\n",
       "      <td>False</td>\n",
       "      <td>True</td>\n",
       "      <td>147696.95</td>\n",
       "      <td>False</td>\n",
       "    </tr>\n",
       "    <tr>\n",
       "      <th>6412</th>\n",
       "      <td>226550</td>\n",
       "      <td>939</td>\n",
       "      <td>Ярославль</td>\n",
       "      <td>М</td>\n",
       "      <td>34.0</td>\n",
       "      <td>0</td>\n",
       "      <td>NaN</td>\n",
       "      <td>1</td>\n",
       "      <td>True</td>\n",
       "      <td>True</td>\n",
       "      <td>145913.73</td>\n",
       "      <td>False</td>\n",
       "    </tr>\n",
       "    <tr>\n",
       "      <th>4216</th>\n",
       "      <td>226719</td>\n",
       "      <td>903</td>\n",
       "      <td>Рыбинск</td>\n",
       "      <td>Ж</td>\n",
       "      <td>63.0</td>\n",
       "      <td>0</td>\n",
       "      <td>NaN</td>\n",
       "      <td>1</td>\n",
       "      <td>True</td>\n",
       "      <td>False</td>\n",
       "      <td>138582.58</td>\n",
       "      <td>False</td>\n",
       "    </tr>\n",
       "    <tr>\n",
       "      <th>2597</th>\n",
       "      <td>226719</td>\n",
       "      <td>990</td>\n",
       "      <td>Ярославль</td>\n",
       "      <td>М</td>\n",
       "      <td>37.0</td>\n",
       "      <td>4</td>\n",
       "      <td>14648692.14</td>\n",
       "      <td>2</td>\n",
       "      <td>False</td>\n",
       "      <td>False</td>\n",
       "      <td>934412.61</td>\n",
       "      <td>True</td>\n",
       "    </tr>\n",
       "    <tr>\n",
       "      <th>8205</th>\n",
       "      <td>227795</td>\n",
       "      <td>840</td>\n",
       "      <td>Рыбинск</td>\n",
       "      <td>М</td>\n",
       "      <td>34.0</td>\n",
       "      <td>2</td>\n",
       "      <td>350768.03</td>\n",
       "      <td>1</td>\n",
       "      <td>True</td>\n",
       "      <td>False</td>\n",
       "      <td>102036.14</td>\n",
       "      <td>True</td>\n",
       "    </tr>\n",
       "    <tr>\n",
       "      <th>8497</th>\n",
       "      <td>227795</td>\n",
       "      <td>839</td>\n",
       "      <td>Ярославль</td>\n",
       "      <td>М</td>\n",
       "      <td>34.0</td>\n",
       "      <td>2</td>\n",
       "      <td>326593.14</td>\n",
       "      <td>2</td>\n",
       "      <td>True</td>\n",
       "      <td>False</td>\n",
       "      <td>103314.92</td>\n",
       "      <td>False</td>\n",
       "    </tr>\n",
       "    <tr>\n",
       "      <th>6457</th>\n",
       "      <td>228075</td>\n",
       "      <td>839</td>\n",
       "      <td>Рыбинск</td>\n",
       "      <td>М</td>\n",
       "      <td>39.0</td>\n",
       "      <td>5</td>\n",
       "      <td>507199.85</td>\n",
       "      <td>3</td>\n",
       "      <td>False</td>\n",
       "      <td>True</td>\n",
       "      <td>85195.80</td>\n",
       "      <td>False</td>\n",
       "    </tr>\n",
       "    <tr>\n",
       "      <th>1247</th>\n",
       "      <td>228075</td>\n",
       "      <td>932</td>\n",
       "      <td>Ярославль</td>\n",
       "      <td>М</td>\n",
       "      <td>NaN</td>\n",
       "      <td>5</td>\n",
       "      <td>7601719.20</td>\n",
       "      <td>2</td>\n",
       "      <td>True</td>\n",
       "      <td>True</td>\n",
       "      <td>408121.16</td>\n",
       "      <td>False</td>\n",
       "    </tr>\n",
       "  </tbody>\n",
       "</table>\n",
       "</div>"
      ],
      "text/plain": [
       "      user_id  score       city gender   age  equity      balance  products  \\\n",
       "1893   116540    883    Рыбинск      Ж  55.0       1    362756.49         3   \n",
       "7694   116540    887  Ярославль      Ж  38.0       0          NaN         1   \n",
       "7542   117943    880  Ярославль      Ж  40.0       0          NaN         1   \n",
       "4866   117943    855    Рыбинск      Ж  32.0       6   1036832.93         4   \n",
       "5896   120258    905  Ярославль      М  30.0       0          NaN         1   \n",
       "5863   120258    908    Рыбинск      Ж  38.0       4   2213581.63         2   \n",
       "1411   123461    829  Ярославль      Ж  59.0       0     96222.44         2   \n",
       "8638   123461    934    Рыбинск      М  34.0       0          NaN         2   \n",
       "8164   124450    859  Ярославль      Ж  38.0       6    516811.20         1   \n",
       "9775   124450    758    Рыбинск      Ж  36.0       0     73574.07         2   \n",
       "4850   126368    909  Ярославль      Ж  30.0       4   1322623.29         2   \n",
       "5420   126368    832    Рыбинск      Ж  33.0       0          NaN         1   \n",
       "8785   127440    663  Ярославль      М   NaN       0          NaN         1   \n",
       "4443   127440    846    Рыбинск      М  66.0       1     57405.67         2   \n",
       "3988   129785    904    Рыбинск      М  33.0       5   2427737.60         3   \n",
       "9504   129785    949  Ярославль      М  43.0       0          NaN         1   \n",
       "904    131419    934  Ярославль      М  35.0       5   2348335.95         2   \n",
       "2138   131419    739    Рыбинск      Ж  37.0       3   1307941.65         3   \n",
       "7487   140377    930    Рыбинск      Ж  34.0       5   1123967.02         1   \n",
       "1608   140377    802  Ярославль      М  26.0       3    539863.29         4   \n",
       "9819   140934    832    Рыбинск      Ж   NaN       3    385763.16         2   \n",
       "4212   140934    919  Ярославль      Ж  29.0       4    603946.18         3   \n",
       "2276   141265    858  Ярославль      М  37.0       4    471599.16         2   \n",
       "5569   141265    811    Рыбинск      Ж  33.0       3   1044316.88         2   \n",
       "4343   141945    929    Рыбинск      М  33.0       0          NaN         1   \n",
       "9457   141945    929  Ярославль      М   NaN       0          NaN         1   \n",
       "5369   143592    885    Рыбинск      Ж  56.0       4   1201087.46         2   \n",
       "5557   143592    764  Ярославль      Ж  68.0       3    508919.15         2   \n",
       "8364   148826    909    Рыбинск      Ж  32.0       0          NaN         3   \n",
       "5252   148826    895  Ярославль      М  32.0       5   1470273.14         2   \n",
       "946    149365    877  Ярославль      М  41.0       5    819182.01         2   \n",
       "8272   149365    793    Рыбинск      Ж  61.0       0    476496.99         2   \n",
       "9267   150667    931  Ярославль      М  41.0       0          NaN         1   \n",
       "2439   150667    813    Рыбинск      Ж  44.0       0     62504.47         4   \n",
       "5495   151662    884    Рыбинск      Ж   NaN       0          NaN         1   \n",
       "3683   151662    960  Ярославль      Ж  37.0       4   2527032.70         4   \n",
       "690    152479    768    Рыбинск      Ж  42.0       0    126787.79         4   \n",
       "5705   152479    723  Ярославль      Ж  22.0       0          NaN         1   \n",
       "5197   155765    923    Рыбинск      М  30.0       0          NaN         1   \n",
       "3274   155765    863  Ярославль      М  30.0       5   1036114.50         5   \n",
       "9363   155872    714    Рыбинск      Ж  29.0       0          NaN         1   \n",
       "1080   155872    896  Ярославль      М  36.0       3   1113656.92         3   \n",
       "3936   160075    899  Ярославль      М  34.0       4   1647814.67         4   \n",
       "9508   160075    824    Рыбинск      Ж  57.0       3    355047.33         2   \n",
       "8733   162053    786  Ярославль      М  29.0       4    205824.97         3   \n",
       "5629   162053    921    Рыбинск      М  33.0       3    857011.13         2   \n",
       "6786   163207    838  Ярославль      Ж  42.0       4    652776.60         2   \n",
       "3564   163207    853    Рыбинск      М  42.0       4    543839.62         1   \n",
       "6670   163657    903    Рыбинск      М  45.0       4   1343339.70         4   \n",
       "9667   163657    849  Ярославль      М   NaN       4   1254013.85         2   \n",
       "58     164676    860  Ярославль      М  37.0       5    648594.03         2   \n",
       "7271   164676    790    Рыбинск      Ж  77.0       1    111202.01         1   \n",
       "5020   168998    886  Ярославль      Ж  35.0       4    394780.61         2   \n",
       "9785   168998    895    Рыбинск      М  44.0       0    282653.53         3   \n",
       "790    170312    901  Ярославль      М  33.0       4   3276783.93         3   \n",
       "3039   170312    813    Рыбинск      Ж  47.0       3    370027.67         2   \n",
       "9653   171751    862  Ярославль      М  42.0       4    481992.19         2   \n",
       "4587   171751    874    Рыбинск      Ж  26.0       5    292054.42         2   \n",
       "2941   172142    896  Ярославль      Ж  30.0       4   1009073.14         4   \n",
       "6756   172142    751    Рыбинск      Ж  69.0       3    396568.03         2   \n",
       "7753   175730    846  Ярославль      Ж  32.0       7    216764.74         4   \n",
       "9970   175730    816    Рыбинск      М  36.0       4    477892.07         3   \n",
       "8705   181526    895    Рыбинск      М  29.0       0          NaN         1   \n",
       "2989   181526    918  Ярославль      Ж  37.0       5   1366382.35         4   \n",
       "9146   183510    800    Рыбинск      Ж  42.0       7    473293.81         2   \n",
       "8584   183510    922  Ярославль      М  26.0       5    448542.42         3   \n",
       "150    185748    850    Рыбинск      М  36.0       5   1203376.67         2   \n",
       "3106   185748    912  Ярославль      Ж  47.0       5   1598218.98         2   \n",
       "9632   185829    927  Ярославль      М   NaN       0          NaN         1   \n",
       "3668   185829    925    Рыбинск      М  40.0       0          NaN         1   \n",
       "9380   187459    894    Рыбинск      М   NaN       0          NaN         1   \n",
       "4720   187459    895  Ярославль      М  48.0       0          NaN         1   \n",
       "2165   187635    692    Рыбинск      Ж   NaN       0          NaN         1   \n",
       "918    187635    918  Ярославль      Ж  44.0       0          NaN         1   \n",
       "5454   188957    853  Ярославль      М  35.0       1    374959.62         2   \n",
       "6005   188957    882    Рыбинск      Ж  64.0       3    893392.91         3   \n",
       "231    190253    823    Рыбинск      М  37.0       4    373348.39         2   \n",
       "1583   190253    726  Ярославль      М  49.0       0          NaN         1   \n",
       "7931   191520    767  Ярославль      М  45.0       0          NaN         1   \n",
       "3859   191520    773    Рыбинск      М  36.0       3   1219918.08         4   \n",
       "2226   195884    906  Ярославль      М  49.0       6   1354552.83         2   \n",
       "9659   195884    767    Рыбинск      Ж  45.0       1    335652.56         3   \n",
       "4870   197364    889  Ярославль      М  33.0       0          NaN         2   \n",
       "161    197364    928    Рыбинск      Ж  53.0       6   1347183.86         2   \n",
       "8015   198635    670  Ярославль      Ж   NaN       0          NaN         1   \n",
       "1181   198635    896    Рыбинск      Ж  32.0       0          NaN         1   \n",
       "8822   199312    911    Рыбинск      Ж  43.0       0          NaN         2   \n",
       "2499   199312    948  Ярославль      М  41.0       5   3095721.85         4   \n",
       "9035   200863    933    Рыбинск      М  29.0       7    766924.56         2   \n",
       "9175   200863    832  Ярославль      М  42.0       5    620064.73         2   \n",
       "9301   202983    942    Рыбинск      Ж   NaN       0          NaN         1   \n",
       "8897   202983    941  Ярославль      Ж  39.0       0          NaN         1   \n",
       "5889   206759    917  Ярославль      М  22.0       0          NaN         1   \n",
       "8385   206759    915    Рыбинск      М   NaN       0          NaN         1   \n",
       "1513   208081    873  Ярославль      М  31.0       2    232814.75         2   \n",
       "2998   208081    821    Рыбинск      Ж  62.0       3    493608.26         2   \n",
       "1580   208738    897    Рыбинск      Ж  45.0       5    859018.19         2   \n",
       "5840   208738    839  Ярославль      М  60.0       5   1102438.37         2   \n",
       "5570   208815    773  Ярославль      М  39.0       4    288110.09         2   \n",
       "3350   208815    877    Рыбинск      М  25.0       4    239421.18         1   \n",
       "3230   210135    974  Ярославль      Ж  50.0       5   5680148.93         4   \n",
       "7236   210135    908    Рыбинск      Ж   NaN       4   1120340.31         3   \n",
       "8521   210627    804    Рыбинск      М  30.0       2    347818.88         3   \n",
       "7453   210627    864  Ярославль      Ж  38.0       4   1527225.32         4   \n",
       "1837   210662    896    Рыбинск      Ж  37.0       0          NaN         2   \n",
       "869    210662    962  Ярославль      Ж  54.0       5   5069231.39         1   \n",
       "4986   210792    884    Рыбинск      М  48.0       4   2228037.20         2   \n",
       "7814   210792    839  Ярославль      М  42.0       2    662646.97         1   \n",
       "6685   210898    934    Рыбинск      Ж  35.0       0          NaN         1   \n",
       "8449   210898    805  Ярославль      Ж   NaN       0          NaN         1   \n",
       "1359   211130    833  Ярославль      М  55.0       3   1231184.90         4   \n",
       "3817   211130    918    Рыбинск      Ж  55.0       0          NaN         2   \n",
       "7409   214031    777  Ярославль      М   NaN       2    171510.23         1   \n",
       "431    214031    856    Рыбинск      М  36.0       2    386426.67         4   \n",
       "8293   216848    930  Ярославль      М   NaN       0          NaN         1   \n",
       "4401   216848    929    Рыбинск      М  68.0       0          NaN         1   \n",
       "9880   217412    886  Ярославль      Ж  35.0       3   1026172.14         2   \n",
       "7055   217412    879    Рыбинск      М  42.0       5    568140.15         3   \n",
       "4611   217619    903    Рыбинск      Ж  59.0       5    844055.83         2   \n",
       "5807   217619    766  Ярославль      М  52.0       2    218199.47         1   \n",
       "4186   217643    804    Рыбинск      Ж  40.0       2    301836.65         2   \n",
       "1970   217643    845  Ярославль      М  29.0       5    733098.45         4   \n",
       "4623   217826    842  Ярославль      М  39.0       4    439747.65         2   \n",
       "9406   217826    790    Рыбинск      Ж  46.0       4    430414.80         2   \n",
       "7      218868    825  Ярославль      Ж  38.0       4    458145.40         2   \n",
       "5470   218868    827    Рыбинск      Ж   NaN       4    448959.07         2   \n",
       "1010   219343    921  Ярославль      Ж  33.0       0          NaN         1   \n",
       "7248   219343    920    Рыбинск      Ж   NaN       0          NaN         1   \n",
       "1740   220816    840  Ярославль      Ж  41.0       3   1193287.13         2   \n",
       "2302   220816    934    Рыбинск      Ж  74.0       5   1294285.39         3   \n",
       "1389   221156    687    Рыбинск      М  61.0       0          NaN         1   \n",
       "2444   221156    913  Ярославль      М   NaN       0          NaN         1   \n",
       "440    221197    663    Рыбинск      М  27.0       0          NaN         1   \n",
       "8632   221197    893  Ярославль      М   NaN       0          NaN         1   \n",
       "9634   221809    917  Ярославль      М   NaN       0          NaN         1   \n",
       "9322   221809    917    Рыбинск      М  45.0       0          NaN         1   \n",
       "9104   222480    776    Рыбинск      Ж   NaN       5    796735.09         1   \n",
       "6446   222480    776  Ярославль      Ж  38.0       5    823145.83         2   \n",
       "8070   226550    940    Рыбинск      М   NaN       0          NaN         1   \n",
       "6412   226550    939  Ярославль      М  34.0       0          NaN         1   \n",
       "4216   226719    903    Рыбинск      Ж  63.0       0          NaN         1   \n",
       "2597   226719    990  Ярославль      М  37.0       4  14648692.14         2   \n",
       "8205   227795    840    Рыбинск      М  34.0       2    350768.03         1   \n",
       "8497   227795    839  Ярославль      М  34.0       2    326593.14         2   \n",
       "6457   228075    839    Рыбинск      М  39.0       5    507199.85         3   \n",
       "1247   228075    932  Ярославль      М   NaN       5   7601719.20         2   \n",
       "\n",
       "      credit_card  last_activity  est_salary  churn  \n",
       "1893        False           True   175920.48   True  \n",
       "7694        False           True   119247.61  False  \n",
       "7542         True          False   137718.93  False  \n",
       "4866         True           True   107792.71   True  \n",
       "5896         True           True   146427.96  False  \n",
       "5863        False           True   160327.77   True  \n",
       "1411        False           True   102771.55   True  \n",
       "8638         True          False   291619.27  False  \n",
       "8164         True           True    95144.63   True  \n",
       "9775        False           True    79963.59  False  \n",
       "4850        False           True   140675.66   True  \n",
       "5420        False          False   118465.34  False  \n",
       "8785         True           True   117197.56  False  \n",
       "4443        False           True    17831.63  False  \n",
       "3988        False           True   188856.75   True  \n",
       "9504         True           True   166845.37  False  \n",
       "904         False          False   217105.13   True  \n",
       "2138        False          False   103867.47  False  \n",
       "7487         True           True   148336.26  False  \n",
       "1608         True           True   112167.83   True  \n",
       "9819        False           True    59651.35  False  \n",
       "4212        False           True   158438.79  False  \n",
       "2276         True           True   148806.88   True  \n",
       "5569         True          False    46055.32  False  \n",
       "4343         True          False   381868.89  False  \n",
       "9457         True          False   381868.89  False  \n",
       "5369         True           True    88223.89   True  \n",
       "5557        False           True    71211.66  False  \n",
       "8364         True          False    28843.54  False  \n",
       "5252        False          False   118058.52   True  \n",
       "946         False          False   212316.47   True  \n",
       "8272         True           True    46147.06  False  \n",
       "9267        False          False   261904.44  False  \n",
       "2439         True          False   152393.79   True  \n",
       "5495         True           True   137500.77  False  \n",
       "3683         True          False   231648.50  False  \n",
       "690          True           True   143233.23   True  \n",
       "5705         True          False    83955.65  False  \n",
       "5197         True           True   120296.60  False  \n",
       "3274         True           True   150744.50   True  \n",
       "9363         True          False   118052.84  False  \n",
       "1080        False           True   291176.85   True  \n",
       "3936         True          False   151888.42   True  \n",
       "9508        False          False    64351.81  False  \n",
       "8733         True          False   121371.73  False  \n",
       "5629         True           True   113512.57   True  \n",
       "6786         True           True    97545.36  False  \n",
       "3564         True           True   105281.97   True  \n",
       "6670        False           True    83741.65  False  \n",
       "9667         True           True   119106.67  False  \n",
       "58           True           True   213586.86   True  \n",
       "7271         True          False    32835.45  False  \n",
       "5020         True           True   510577.10   True  \n",
       "9785        False          False   255296.47  False  \n",
       "790         False           True   358700.96   True  \n",
       "3039        False          False   129835.56  False  \n",
       "9653         True          False    71816.86  False  \n",
       "4587        False           True    20528.56   True  \n",
       "2941         True          False    70866.29   True  \n",
       "6756        False           True    45608.45  False  \n",
       "7753         True           True    77100.85   True  \n",
       "9970         True          False    81100.60  False  \n",
       "8705         True           True   124786.53  False  \n",
       "2989         True           True    97932.95   True  \n",
       "9146         True          False    54049.88  False  \n",
       "8584        False           True    66063.13   True  \n",
       "150         False           True    89401.82   True  \n",
       "3106        False          False   180256.98  False  \n",
       "9632         True          False   231254.86  False  \n",
       "3668         True          False   228305.64  False  \n",
       "9380         True          False   178012.28  False  \n",
       "4720         True          False   180887.50  False  \n",
       "2165         True           True   160368.82  False  \n",
       "918          True           True   162497.52  False  \n",
       "5454         True           True   197600.97   True  \n",
       "6005         True          False    69622.58  False  \n",
       "231         False           True   131947.92   True  \n",
       "1583         True           True   177700.78  False  \n",
       "7931         True           True   880005.05  False  \n",
       "3859         True           True   119933.13   True  \n",
       "2226        False          False   270678.42   True  \n",
       "9659         True           True   100197.67  False  \n",
       "4870         True           True    96173.48  False  \n",
       "161         False           True   168189.49   True  \n",
       "8015         True           True   168699.33  False  \n",
       "1181         True           True   170866.01  False  \n",
       "8822         True           True   152189.72  False  \n",
       "2499         True           True   307234.69   True  \n",
       "9035        False           True    89323.33   True  \n",
       "9175        False          False   188054.46  False  \n",
       "9301         True           True   163804.73  False  \n",
       "8897        False           True   159348.84  False  \n",
       "5889         True          False    70617.52  False  \n",
       "8385         True          False    71179.53  False  \n",
       "1513         True           True   122505.86   True  \n",
       "2998         True           True    33491.45  False  \n",
       "1580         True           True   145510.08   True  \n",
       "5840        False           True   116500.81  False  \n",
       "5570         True          False    56971.91  False  \n",
       "3350         True           True    48638.00   True  \n",
       "3230         True           True   338471.66  False  \n",
       "7236         True           True    85002.15  False  \n",
       "8521         True          False   129015.25  False  \n",
       "7453         True           True   162999.17   True  \n",
       "1837        False          False    90916.04  False  \n",
       "869          True           True   955144.85   True  \n",
       "4986        False           True   207978.09   True  \n",
       "7814         True          False   138403.60  False  \n",
       "6685        False           True   912105.84  False  \n",
       "8449        False           True   922080.25  False  \n",
       "1359        False           True   187758.38   True  \n",
       "3817         True           True   244202.04  False  \n",
       "7409         True           True    75409.63  False  \n",
       "431          True           True    72767.85  False  \n",
       "8293         True           True   199542.51  False  \n",
       "4401         True           True   195902.59  False  \n",
       "9880         True          False    53099.16  False  \n",
       "7055        False          False   231658.67   True  \n",
       "4611        False           True   133999.76   True  \n",
       "5807         True          False   120356.44  False  \n",
       "4186         True           True    81137.22  False  \n",
       "1970         True           True    41443.01   True  \n",
       "4623        False           True   116736.75   True  \n",
       "9406         True           True    49400.37  False  \n",
       "7            True           True    68085.48  False  \n",
       "5470         True           True    67835.95  False  \n",
       "1010         True          False   159475.61  False  \n",
       "7248         True          False   159248.67  False  \n",
       "1740         True           True    76434.94   True  \n",
       "2302         True          False    95606.80  False  \n",
       "1389         True           True   136361.72  False  \n",
       "2444         True           True   135693.24  False  \n",
       "440          True           True   172573.13  False  \n",
       "8632         True          False   173929.92  False  \n",
       "9634         True           True   192644.15  False  \n",
       "9322         True           True   199728.29  False  \n",
       "9104         True           True    55073.63  False  \n",
       "6446         True           True    55777.44  False  \n",
       "8070        False           True   147696.95  False  \n",
       "6412         True           True   145913.73  False  \n",
       "4216         True          False   138582.58  False  \n",
       "2597        False          False   934412.61   True  \n",
       "8205         True          False   102036.14   True  \n",
       "8497         True          False   103314.92  False  \n",
       "6457        False           True    85195.80  False  \n",
       "1247         True           True   408121.16  False  "
      ]
     },
     "execution_count": 7,
     "metadata": {},
     "output_type": "execute_result"
    }
   ],
   "source": [
    "#изучаем неявные дубликаты\n",
    "mask = df['user_id'].duplicated(keep=False)\n",
    "duplicates = df[mask]\n",
    "pd.set_option('display.max_rows', None)\n",
    "duplicates.sort_values('user_id')"
   ]
  },
  {
   "cell_type": "code",
   "execution_count": 8,
   "metadata": {},
   "outputs": [
    {
     "data": {
      "text/plain": [
       "0"
      ]
     },
     "execution_count": 8,
     "metadata": {},
     "output_type": "execute_result"
    }
   ],
   "source": [
    "#проверяем наличие дубликатов по id и городу\n",
    "df.duplicated(subset=['user_id', 'city']).sum()"
   ]
  },
  {
   "cell_type": "markdown",
   "metadata": {},
   "source": [
    "**Выводы:** в целом, в данных не встречаются явные дубликаты, однако получилось обнаружить 146 повторяющихся строк по столбцу user_id. Изучив их подробнее, можно заметить, что повторы идут парами и связаны с тем, что эти пользователи находятся в разных городах. После проверки наличия дубликатов по id и городу, можно утвердится в правильности версии - ведь таковых нет. В  данном случае ничего удалять и корректировать не стоит."
   ]
  },
  {
   "cell_type": "markdown",
   "metadata": {},
   "source": [
    "<a id=\"пропуски\"></a>\n",
    "### Проверка и анализ пропусков"
   ]
  },
  {
   "cell_type": "code",
   "execution_count": 9,
   "metadata": {},
   "outputs": [],
   "source": [
    "#для столбца с балансом создаем признак пропусков\n",
    "df['sign'] = df['balance'].isnull().astype('int')"
   ]
  },
  {
   "cell_type": "code",
   "execution_count": 10,
   "metadata": {},
   "outputs": [],
   "source": [
    "#создаем переменную, включающую датасет без стоблца user_id и sign, и считаем матрицу корреляции\n",
    "corr_phik = df.loc[:,~df.columns.isin(['user_id', 'sign'])].phik_matrix(interval_cols=['score', 'age', 'balance', 'est_salary'])"
   ]
  },
  {
   "cell_type": "code",
   "execution_count": 11,
   "metadata": {},
   "outputs": [
    {
     "data": {
      "image/png": "[encoded data removed]",
      "text/plain": [
       "<Figure size 864x576 with 2 Axes>"
      ]
     },
     "metadata": {
      "needs_background": "light"
     },
     "output_type": "display_data"
    }
   ],
   "source": [
    "#создаем тепловую карту корреляции\n",
    "plt.figure(figsize=(12, 8))\n",
    "sns.heatmap(corr_phik, annot=True, fmt='.2f', cmap='binary')\n",
    "plt.title('Корреляция признаков')\n",
    "plt.show();"
   ]
  },
  {
   "cell_type": "markdown",
   "metadata": {},
   "source": [
    "**Вывод:** пропусков в столбце с возрастом меньше 1% от всех данных, поэтому их можно отнести к категории MAR и спокойно отбросить. А вот в столбце с балансом ситуация складывается иначе, поэтому была создана тепловая карта корреляции для анализа зависимости данных. По ней видно, что баланс имеет зависимость с доходом и баллами кредитного скоринга. Соответсвенно, эти пропуски можно отнести к типу MNAR и без дополнительных обоснований заменять или избавляться от них не стоит."
   ]
  },
  {
   "cell_type": "markdown",
   "metadata": {},
   "source": [
    "<a id=\"анализ\"></a>\n",
    "## Исследовательский анализ данных (EDA)"
   ]
  },
  {
   "cell_type": "markdown",
   "metadata": {},
   "source": [
    "<a id=\"отточность\"></a>\n",
    "### Определение значимых признаков отточности"
   ]
  },
  {
   "cell_type": "code",
   "execution_count": 12,
   "metadata": {},
   "outputs": [
    {
     "data": {
      "image/png": "[encoded data removed]",
      "text/plain": [
       "<Figure size 864x576 with 1 Axes>"
      ]
     },
     "metadata": {
      "needs_background": "light"
     },
     "output_type": "display_data"
    }
   ],
   "source": [
    "#отточность по баллам кредитного скоринга\n",
    "plt.figure(figsize=(12, 8))\n",
    "sns.histplot(data=df, x='score', hue='churn', stat='density', common_norm=False)\n",
    "plt.xlabel('Кол-во баллов')\n",
    "plt.ylabel('Плотность распределения')\n",
    "plt.title('Распределение по баллам кредитного скоринга')\n",
    "plt.show();"
   ]
  },
  {
   "cell_type": "markdown",
   "metadata": {},
   "source": [
    "**Промежуточные выводы:** по графику можно заметить, что чаще всего уходят клиенты с баллами от 820 до 900."
   ]
  },
  {
   "cell_type": "code",
   "execution_count": 13,
   "metadata": {},
   "outputs": [
    {
     "data": {
      "image/png": "[encoded data removed]",
      "text/plain": [
       "<Figure size 864x576 with 1 Axes>"
      ]
     },
     "metadata": {
      "needs_background": "light"
     },
     "output_type": "display_data"
    }
   ],
   "source": [
    "#отточность по городу\n",
    "plt.figure(figsize=(12, 8))\n",
    "sns.barplot(data=df, x='city', y='churn', color='#74b9ff', ci=None)\n",
    "plt.axhline(df['churn'].mean(), color='black', linestyle='--')\n",
    "plt.xlabel('')\n",
    "plt.ylabel('Плотность распределения')\n",
    "plt.title('Распределение по городу')\n",
    "plt.show();"
   ]
  },
  {
   "cell_type": "markdown",
   "metadata": {},
   "source": [
    "**Промежуточные выводы:** по графику можно заметить, что клиенты из ярославля и Ростова уходят чаще клиентов из Рыбинска."
   ]
  },
  {
   "cell_type": "code",
   "execution_count": 14,
   "metadata": {},
   "outputs": [
    {
     "data": {
      "image/png": "[encoded data removed]",
      "text/plain": [
       "<Figure size 864x576 with 1 Axes>"
      ]
     },
     "metadata": {
      "needs_background": "light"
     },
     "output_type": "display_data"
    }
   ],
   "source": [
    "#отточность по полу\n",
    "plt.figure(figsize=(12, 8))\n",
    "sns.barplot(data=df, x='gender', y='churn', color='#74b9ff', ci=None)\n",
    "plt.axhline(df['churn'].mean(), color='black', linestyle='--')\n",
    "plt.xlabel('')\n",
    "plt.ylabel('Плотность распределения')\n",
    "plt.title('Распределение по полу')\n",
    "plt.show();"
   ]
  },
  {
   "cell_type": "markdown",
   "metadata": {},
   "source": [
    "**Промежуточные выводы:** по графику можно заметить, что мужчины уходят чаще женщин."
   ]
  },
  {
   "cell_type": "code",
   "execution_count": 15,
   "metadata": {},
   "outputs": [
    {
     "data": {
      "image/png": "[encoded data removed]",
      "text/plain": [
       "<Figure size 864x576 with 1 Axes>"
      ]
     },
     "metadata": {
      "needs_background": "light"
     },
     "output_type": "display_data"
    }
   ],
   "source": [
    "#отточность по возрасту\n",
    "plt.figure(figsize=(12, 8))\n",
    "sns.histplot(data=df, x='age', hue='churn', bins=60, stat='density', common_norm=False)\n",
    "plt.xlabel('Возраст')\n",
    "plt.ylabel('Плотность распределения')\n",
    "plt.title('Распределение по возрасту')\n",
    "plt.show();"
   ]
  },
  {
   "cell_type": "markdown",
   "metadata": {},
   "source": [
    "**Промежуточные выводы:** по графику можно заметить, что уходу из банка больше подвержены люди в возрасте 25-35 и 50-60 лет."
   ]
  },
  {
   "cell_type": "code",
   "execution_count": 16,
   "metadata": {},
   "outputs": [
    {
     "data": {
      "image/png": "[encoded data removed]",
      "text/plain": [
       "<Figure size 864x576 with 1 Axes>"
      ]
     },
     "metadata": {
      "needs_background": "light"
     },
     "output_type": "display_data"
    }
   ],
   "source": [
    "#отточность по кол-ву баллов собственности\n",
    "plt.figure(figsize=(12, 8))\n",
    "sns.barplot(data=df, x='equity', y='churn', color='#74b9ff', ci=None)\n",
    "plt.axhline(df['churn'].mean(), color='black', linestyle='--')\n",
    "plt.xlabel('Баллы')\n",
    "plt.ylabel('Плотность распределения')\n",
    "plt.title('Распределение по кол-ву баллов собственности')\n",
    "plt.show();"
   ]
  },
  {
   "cell_type": "markdown",
   "metadata": {},
   "source": [
    "**Промежуточные выводы:** по графику можно заметить, что отточность увеличивается по мере роста количества собственности у клиентов, с небольшим провалом на 8-ом балле. "
   ]
  },
  {
   "cell_type": "code",
   "execution_count": 17,
   "metadata": {},
   "outputs": [
    {
     "data": {
      "image/png": "[encoded data removed]",
      "text/plain": [
       "<Figure size 864x576 with 1 Axes>"
      ]
     },
     "metadata": {
      "needs_background": "light"
     },
     "output_type": "display_data"
    }
   ],
   "source": [
    "#отточность по балансу на счете\n",
    "plt.figure(figsize=(12, 8))\n",
    "sns.histplot(data=df, x='balance', hue='churn', bins=1000, stat='density', common_norm=False)\n",
    "plt.xlim(0, 4000000)\n",
    "plt.xlabel('Баланс')\n",
    "plt.ylabel('Плотность распределения')\n",
    "plt.title('Распределение по балансу')\n",
    "plt.show();"
   ]
  },
  {
   "cell_type": "markdown",
   "metadata": {},
   "source": [
    "**Промежуточные выводы:** по графику можно заметить, что клиенты начинают уходить из банка с балансом выше 700 тысяч рублей."
   ]
  },
  {
   "cell_type": "code",
   "execution_count": 18,
   "metadata": {},
   "outputs": [
    {
     "data": {
      "text/plain": [
       "2    5126\n",
       "1    3341\n",
       "3    1039\n",
       "4     474\n",
       "5      19\n",
       "0       1\n",
       "Name: products, dtype: int64"
      ]
     },
     "execution_count": 18,
     "metadata": {},
     "output_type": "execute_result"
    }
   ],
   "source": [
    "#проверим количетсво клиентов в каждой группе\n",
    "df['products'].value_counts()"
   ]
  },
  {
   "cell_type": "code",
   "execution_count": 19,
   "metadata": {},
   "outputs": [],
   "source": [
    "#удалим клиента без продуктов банка\n",
    "df = df[df['products'] != 0]"
   ]
  },
  {
   "cell_type": "code",
   "execution_count": 20,
   "metadata": {},
   "outputs": [
    {
     "data": {
      "image/png": "[encoded data removed]",
      "text/plain": [
       "<Figure size 864x576 with 1 Axes>"
      ]
     },
     "metadata": {
      "needs_background": "light"
     },
     "output_type": "display_data"
    }
   ],
   "source": [
    "#отточность по кол-ву продуктов банка\n",
    "plt.figure(figsize=(12, 8))\n",
    "sns.barplot(data=df, x='products', y='churn', color='#74b9ff', ci=None)\n",
    "plt.axhline(df['churn'].mean(), color='black', linestyle='--')\n",
    "plt.xlabel('Кол-во продуктов')\n",
    "plt.ylabel('Плотность распределения')\n",
    "plt.title('Распределение по кол-ву продуктов банка')\n",
    "plt.show();"
   ]
  },
  {
   "cell_type": "markdown",
   "metadata": {},
   "source": [
    "**Промежуточные выводы:** по графику можно заметить, что самыми надежными оказываются клиенты с 1-2 продуктами. Клиент без продуктов банка всего 1, поэтому на графике возникает такая аномалия - его я решила удалить из датафрейма."
   ]
  },
  {
   "cell_type": "code",
   "execution_count": 21,
   "metadata": {},
   "outputs": [
    {
     "data": {
      "image/png": "[encoded data removed]",
      "text/plain": [
       "<Figure size 864x576 with 1 Axes>"
      ]
     },
     "metadata": {
      "needs_background": "light"
     },
     "output_type": "display_data"
    }
   ],
   "source": [
    "#отточность по наличию кредитной карты\n",
    "plt.figure(figsize=(12, 8))\n",
    "sns.barplot(data=df, x='credit_card', y='churn', color='#74b9ff', ci=None)\n",
    "plt.axhline(df['churn'].mean(), color='black', linestyle='--')\n",
    "plt.xlabel('Наличие кредитной карты')\n",
    "plt.ylabel('Плотность распределения')\n",
    "plt.title('Распределение по наличию кредитной карты')\n",
    "plt.show();"
   ]
  },
  {
   "cell_type": "markdown",
   "metadata": {},
   "source": [
    "**Промежуточные выводы:** по графику можно заметить, что клиенты без кредитной карты более склонны к оттоку. "
   ]
  },
  {
   "cell_type": "code",
   "execution_count": 22,
   "metadata": {},
   "outputs": [
    {
     "data": {
      "image/png": "[encoded data removed]",
      "text/plain": [
       "<Figure size 864x576 with 1 Axes>"
      ]
     },
     "metadata": {
      "needs_background": "light"
     },
     "output_type": "display_data"
    }
   ],
   "source": [
    "#отточность по активности клиента\n",
    "plt.figure(figsize=(12, 8))\n",
    "sns.barplot(data=df, x='last_activity', y='churn', color='#74b9ff', ci=None)\n",
    "plt.axhline(df['churn'].mean(), color='black', linestyle='--')\n",
    "plt.xlabel('Активен ли клиент')\n",
    "plt.ylabel('Плотность распределения')\n",
    "plt.title('Распределение по активности клиента')\n",
    "plt.show();"
   ]
  },
  {
   "cell_type": "markdown",
   "metadata": {},
   "source": [
    "**Промежуточные выводы:** по графику можно заметить, что активные клиенты чаще покидают банк."
   ]
  },
  {
   "cell_type": "code",
   "execution_count": 23,
   "metadata": {},
   "outputs": [
    {
     "data": {
      "image/png": "[encoded data removed]",
      "text/plain": [
       "<Figure size 864x576 with 1 Axes>"
      ]
     },
     "metadata": {
      "needs_background": "light"
     },
     "output_type": "display_data"
    }
   ],
   "source": [
    "#отточность по оценочному доходу\n",
    "plt.figure(figsize=(12, 8))\n",
    "sns.histplot(data=df, x='est_salary', hue='churn', bins=100, stat='density', common_norm=False)\n",
    "plt.xlim(0, 400000)\n",
    "plt.xlabel('Доход')\n",
    "plt.ylabel('Плотность распределения')\n",
    "plt.title('Распределение по оценочному доходу')\n",
    "plt.show();"
   ]
  },
  {
   "cell_type": "markdown",
   "metadata": {},
   "source": [
    "**Промежуточные выводы:** по графику можно заметить, что наибольший шанс отточности у клиентов с доходом в интервале 100-200 тысяч рублей."
   ]
  },
  {
   "cell_type": "markdown",
   "metadata": {},
   "source": [
    "<a id=\"портреты\"></a>\n",
    "### Сравнение портретов типичных клиентов, которые склонны и не склонны уходить из банка"
   ]
  },
  {
   "cell_type": "markdown",
   "metadata": {},
   "source": [
    "Из предыдущего пункта можно сформулировать типичные черты клиентов, склонных и не склонных уходить из банка:\n",
    "\n",
    "| Характеристика            | Лояльный клиент   | Нелояльный клиент      |\n",
    "|:--------------------------|:------------------|:-----------------------|\n",
    "| баллы кредитного скоринга | 650-800, 920, 950 | 820-900                |\n",
    "| город                     | Рыбинск           | Ярославль, Ростов      |\n",
    "| пол                       | женский           | мужской                |\n",
    "| возраст                   | 35-50, 60+        | 25-35, 50-60           |\n",
    "| баллы собственности       | 0-2               | 3-9                    |\n",
    "| баланс                    | до 600.000 рублей | >700.000 рублей        |\n",
    "| кол-во продуктов банка    | 1-2               | 3-5                    |\n",
    "| кредитная карта           | есть              | отсутствует            |\n",
    "| активность                | неактивные        | активные               |\n",
    "| доход                     | 0-100.000 рублей  | 100.000-200.000 рублей |"
   ]
  },
  {
   "cell_type": "markdown",
   "metadata": {},
   "source": [
    "<a id=\"корреляция\"></a>\n",
    "### Корреляционный анализ"
   ]
  },
  {
   "cell_type": "code",
   "execution_count": 24,
   "metadata": {},
   "outputs": [
    {
     "data": {
      "image/png": "[encoded data removed]",
      "text/plain": [
       "<Figure size 864x576 with 2 Axes>"
      ]
     },
     "metadata": {
      "needs_background": "light"
     },
     "output_type": "display_data"
    }
   ],
   "source": [
    "#дублируем тепловую карту корреляции\n",
    "plt.figure(figsize=(12, 8))\n",
    "sns.heatmap(corr_phik, annot=True, fmt='.2f', cmap='binary')\n",
    "plt.title('Корреляция признаков')\n",
    "plt.show();"
   ]
  },
  {
   "cell_type": "markdown",
   "metadata": {},
   "source": [
    "**Выводы:** для анализа карты я воспользовалась шкалой корреляции Чеддока. Итак, можно выделить следующие пункты:\n",
    "\n",
    " - баллы кредитного скоринга заметно коррелируют с количеством баллов собственности клиента; также наблюдается умеренная корреляция с количеством продуктов банка и с оценочным доходом.\n",
    " - город, пол и активность клиента со всеми признаками имеют слабую корреляцию.\n",
    " - умеренную корреляцию можно наблюдать между показателем возраста клиента и его оценочным доходом.\n",
    " - количество баллов собственности помимо баллов кредитного скоринга, умеренно коррелирует с показателем количества продуктов банка и с признаком оттока.\n",
    " - баланс на счете умеренно связан с оценочным уровнем дохода клиента.\n",
    " - количество продуктов банка, помимо вышесказанного, умеренно коррелирует с наличием кредитной карты и с признаком оттока.\n",
    " \n",
    "Поскольку в данной работе нас интересует отток клиентов, стоит обратить особое внимание на то, что признак оттока сильнее всего коррелирует с количеством продуктов банка в пользовании у клиента и количеством баллов собственности."
   ]
  },
  {
   "cell_type": "markdown",
   "metadata": {},
   "source": [
    "<a id=\"гипотезы\"></a>\n",
    "## Формулировка и проверка статистических гипотез"
   ]
  },
  {
   "cell_type": "markdown",
   "metadata": {},
   "source": [
    "1. Гипотеза различия дохода между теми клиентами, которые ушли и теми, которые остались.\n",
    "2. Гипотеза различия количетсва продуктов банка у клиентов, которые ушли и тех, которые остались.\n",
    "3. Гипотеза различия возраста клиентов, которые ушли и тех, которые остались."
   ]
  },
  {
   "cell_type": "markdown",
   "metadata": {},
   "source": [
    "Чтобы понять, можно ли применять t-тест, нужно проверить три условия:\n",
    "\n",
    "1. Генеральные совокупности не зависят друг от друга.\n",
    "2. Выборочные средние нормально распределены.\n",
    "3. Дисперсии рассматриваемых генеральных совокупностей равны."
   ]
  },
  {
   "cell_type": "code",
   "execution_count": 25,
   "metadata": {},
   "outputs": [
    {
     "name": "stdout",
     "output_type": "stream",
     "text": [
      "<class 'pandas.core.frame.DataFrame'>\n",
      "Int64Index: 8180 entries, 1 to 9999\n",
      "Data columns (total 13 columns):\n",
      " #   Column         Non-Null Count  Dtype  \n",
      "---  ------         --------------  -----  \n",
      " 0   user_id        8180 non-null   int64  \n",
      " 1   score          8180 non-null   int64  \n",
      " 2   city           8180 non-null   object \n",
      " 3   gender         8180 non-null   object \n",
      " 4   age            8155 non-null   float64\n",
      " 5   equity         8180 non-null   int64  \n",
      " 6   balance        5898 non-null   float64\n",
      " 7   products       8180 non-null   int64  \n",
      " 8   credit_card    8180 non-null   bool   \n",
      " 9   last_activity  8180 non-null   bool   \n",
      " 10  est_salary     8180 non-null   float64\n",
      " 11  churn          8180 non-null   bool   \n",
      " 12  sign           8180 non-null   int64  \n",
      "dtypes: bool(3), float64(3), int64(5), object(2)\n",
      "memory usage: 726.9+ KB\n"
     ]
    }
   ],
   "source": [
    "df_stay = df.query('churn == 0')\n",
    "df_stay.info()"
   ]
  },
  {
   "cell_type": "code",
   "execution_count": 26,
   "metadata": {},
   "outputs": [
    {
     "name": "stdout",
     "output_type": "stream",
     "text": [
      "<class 'pandas.core.frame.DataFrame'>\n",
      "Int64Index: 1819 entries, 0 to 9994\n",
      "Data columns (total 13 columns):\n",
      " #   Column         Non-Null Count  Dtype  \n",
      "---  ------         --------------  -----  \n",
      " 0   user_id        1819 non-null   int64  \n",
      " 1   score          1819 non-null   int64  \n",
      " 2   city           1819 non-null   object \n",
      " 3   gender         1819 non-null   object \n",
      " 4   age            1818 non-null   float64\n",
      " 5   equity         1819 non-null   int64  \n",
      " 6   balance        1807 non-null   float64\n",
      " 7   products       1819 non-null   int64  \n",
      " 8   credit_card    1819 non-null   bool   \n",
      " 9   last_activity  1819 non-null   bool   \n",
      " 10  est_salary     1819 non-null   float64\n",
      " 11  churn          1819 non-null   bool   \n",
      " 12  sign           1819 non-null   int64  \n",
      "dtypes: bool(3), float64(3), int64(5), object(2)\n",
      "memory usage: 161.6+ KB\n"
     ]
    }
   ],
   "source": [
    "df_away = df.query('churn == 1')\n",
    "df_away.info()"
   ]
  },
  {
   "cell_type": "markdown",
   "metadata": {},
   "source": [
    "**Вывод:** для первых двух выдвинутых гипотез можно использовать t-тест Стьюдента, но так как сравниваемые данные заметно отличаются по количеству (8180 и 1819), а диспресии совокупностей проверить не можем, параметру equal_var стоит задать значение False. Для третьей гипотезы стоит использовать тест Манна-Уитни, так как большой разброс данных."
   ]
  },
  {
   "cell_type": "markdown",
   "metadata": {},
   "source": [
    "<a id=\"1\"></a>\n",
    "### Первая гипотеза"
   ]
  },
  {
   "cell_type": "markdown",
   "metadata": {},
   "source": [
    "Гипотеза различия дохода между теми клиентами, которые ушли и теми, которые остались.\n",
    "\n",
    "**Нулевая гипотеза:** статистически значимых различий между доходами ушедших и оставшихся клиентов нет.\n",
    "\n",
    "**Альтернативная гипотеза:** доход между клиентами, которые ушли и теми, которые остались, отличается."
   ]
  },
  {
   "cell_type": "code",
   "execution_count": 27,
   "metadata": {},
   "outputs": [
    {
     "name": "stdout",
     "output_type": "stream",
     "text": [
      "p-value: 0.8724727072323815\n",
      "Не получилось отвергнуть нулевую гипотезу\n"
     ]
    }
   ],
   "source": [
    "alpha = 0.05\n",
    "\n",
    "results = st.ttest_ind(df_stay['est_salary'], df_away['est_salary'], equal_var=False, alternative='two-sided')\n",
    "\n",
    "print('p-value:', results.pvalue)\n",
    "\n",
    "if results.pvalue < alpha:\n",
    "    print('Отвергаем нулевую гипотезу')\n",
    "else:\n",
    "    print('Не получилось отвергнуть нулевую гипотезу') "
   ]
  },
  {
   "cell_type": "markdown",
   "metadata": {},
   "source": [
    "**Вывод:** вероятность случайно получить такое или большее различие между данными равна почти 89%. Это слишком большой процент, чтобы делать вывод о значимом различии между средними доходами, поэтому отвергнуть нулевую гипотезу нельзя."
   ]
  },
  {
   "cell_type": "markdown",
   "metadata": {},
   "source": [
    "<a id=\"2\"></a>\n",
    "### Вторая гипотеза"
   ]
  },
  {
   "cell_type": "markdown",
   "metadata": {},
   "source": [
    "Гипотеза различия количетсва продуктов банка у клиентов, которые ушли и тех, которые остались.\n",
    "\n",
    "**Нулевая гипотеза:** статистически значимых различий между количеством продуктов банка у ушедших и оставшихся клиентов нет.\n",
    "\n",
    "**Альтернативная гипотеза:** количество продуктов банка у клиентов, которые ушли и тех, которые остались, отличается."
   ]
  },
  {
   "cell_type": "code",
   "execution_count": 28,
   "metadata": {},
   "outputs": [
    {
     "name": "stdout",
     "output_type": "stream",
     "text": [
      "p-value: 3.241238337429691e-139\n",
      "Отвергаем нулевую гипотезу\n"
     ]
    }
   ],
   "source": [
    "alpha = 0.05\n",
    "\n",
    "results = st.ttest_ind(df_stay['products'], df_away['products'], equal_var=False, alternative='two-sided')\n",
    "\n",
    "print(f'p-value: {results.pvalue}')\n",
    "\n",
    "if results.pvalue < alpha:\n",
    "    print('Отвергаем нулевую гипотезу')\n",
    "else:\n",
    "    print('Не получилось отвергнуть нулевую гипотезу')"
   ]
  },
  {
   "cell_type": "markdown",
   "metadata": {},
   "source": [
    "**Вывод:** полученное значение p-value меньше заданного уровня значимости, поэтому можно отвергнуть нулевую гипотезу. Есть основания говорить, что количество продуктов банка у клиентов, которые ушли и тех, которые остались, отличается."
   ]
  },
  {
   "cell_type": "markdown",
   "metadata": {},
   "source": [
    "<a id=\"3\"></a>\n",
    "### Третья гипотеза"
   ]
  },
  {
   "cell_type": "markdown",
   "metadata": {},
   "source": [
    "Гипотеза различия возраста клиентов, которые ушли и тех, которые остались.\n",
    "\n",
    "**Нулевая гипотеза:** статистически значимых различий между возрастом ушедших и оставшихся клиентов нет.\n",
    "\n",
    "**Альтернативная гипотеза:** возраст клиентов, которые ушли и тех, которые остались, отличается."
   ]
  },
  {
   "cell_type": "code",
   "execution_count": 29,
   "metadata": {
    "scrolled": true
   },
   "outputs": [
    {
     "name": "stdout",
     "output_type": "stream",
     "text": [
      "p-value: 3.811912767980522e-06\n",
      "Отвергаем нулевую гипотезу\n"
     ]
    }
   ],
   "source": [
    "alpha = 0.05\n",
    "\n",
    "results = st.mannwhitneyu(df_stay['age'], df_away['age'], alternative='two-sided', nan_policy='omit')\n",
    "\n",
    "print(f'p-value: {results.pvalue}')\n",
    "\n",
    "if results.pvalue < alpha:\n",
    "    print('Отвергаем нулевую гипотезу')\n",
    "else:\n",
    "    print('Не получилось отвергнуть нулевую гипотезу') "
   ]
  },
  {
   "cell_type": "markdown",
   "metadata": {},
   "source": [
    "**Вывод:** полученное значение p-value меньше заданного уровня значимости, поэтому можно отвергнуть нулевую гипотезу. Есть основания говорить, что возраст клиентов, которые ушли и тех, которые остались, отличается."
   ]
  },
  {
   "cell_type": "markdown",
   "metadata": {},
   "source": [
    "<a id=\"итоги\"></a>\n",
    "## Подведение промежуточных итогов"
   ]
  },
  {
   "cell_type": "markdown",
   "metadata": {},
   "source": [
    "На данном этапе хотелось бы отметить некоторые признаки и выводы, полученные на этапе EDA, корреляции и гипотез.\n",
    "\n",
    "1. Признаки оттока, полученные на этапе исследовательского анализа:\n",
    " - 820-900 баллов кредитного скоринга;\n",
    " - города Ярославль и Ростов;\n",
    " - мужской пол;\n",
    " - возраст 25-35, 50-60;\n",
    " - 3-9 баллов собственности;\n",
    " - баланс на счете более 700 тыс.руб.;\n",
    " - 3-5 продуктов банка;\n",
    " - отсутствует кредитная карта;\n",
    " - активный клиент;\n",
    " - доход 100-200 тыс.руб.\n",
    "\n",
    "2. Признаки оттока по результатам корреляции:\n",
    " - количество продуктов банка и баллов собственности - умеренная зависмость;\n",
    " - активность, баллы скоринга, пол, наличие кредитки, возраст - слабая зависмость.\n",
    " \n",
    "3. Признаки оттока по результатам проверки гипотез:\n",
    " - количество продуктов и возраст ушедших и оставшихся клиентов имеют статистическии значимые различия.\n",
    " \n",
    "В итоге, для будущей сегментации я рассмотрю все признаки в нескольких комбинациях, чтобы определить наиболее отточных клиентов."
   ]
  },
  {
   "cell_type": "markdown",
   "metadata": {},
   "source": [
    "<a id=\"cегментация\"></a>\n",
    "## Сегментация"
   ]
  },
  {
   "cell_type": "markdown",
   "metadata": {},
   "source": [
    "<a id=\"сегменты\"></a>\n",
    "### Выделение сегментов"
   ]
  },
  {
   "cell_type": "markdown",
   "metadata": {},
   "source": [
    "Стоит отметить, что у выделенных признаков будут определены интервалы, включающие наибольший процент оттока клиентов.\n",
    "\n",
    "Я выделила 5 сегментов:\n",
    "\n",
    "**1 сегмент:**\n",
    "- products - количетсво продуктов банка (больше или равно 3);\n",
    "- credit_card - наличие кредитной карты (отсутсвует).\n",
    "\n",
    "**2 сегмент:**\n",
    "- equity - количество баллов собственности (больше или равно 3);\n",
    "- score - баллы скоринга (820-900).\n",
    "\n",
    "**3 сегмент:**\n",
    "- last_activity - активность клиента (активные);\n",
    "- age - возраст (25-35)\n",
    "- gender - пол (мужской).\n",
    "\n",
    "**4 сегмент:**\n",
    "- est_salary - оценочный доход (100-200 тыс.руб.);\n",
    "- city - город (Ярославль, Ростов).\n",
    "\n",
    "**5 сегмент:**\n",
    "- age - возраст (50-60);\n",
    "- balance - баланс на счете (>700 тыс.руб.);\n",
    "- credit_card - наличие кредитной карты (отсутствует)."
   ]
  },
  {
   "cell_type": "code",
   "execution_count": 30,
   "metadata": {
    "scrolled": true
   },
   "outputs": [
    {
     "name": "stdout",
     "output_type": "stream",
     "text": [
      "средний отток клиентов по банку: 18.2 %\n"
     ]
    }
   ],
   "source": [
    "print('средний отток клиентов по банку:', round(df['churn'].mean()*100, 1), '%')"
   ]
  },
  {
   "cell_type": "code",
   "execution_count": 31,
   "metadata": {},
   "outputs": [
    {
     "name": "stdout",
     "output_type": "stream",
     "text": [
      "количество клиентов в сегменте: 820\n",
      "количество отточных клиентов в сегменте: 265\n",
      "уровень оттока в сегменте: 32.32 %\n"
     ]
    }
   ],
   "source": [
    "#создаем и изучаем первый сегмент\n",
    "first_segment = df.loc[(df['products'] >= 3) & (df['credit_card'] == False), ['user_id', 'products', 'credit_card', 'churn']]\n",
    "users_1 = first_segment['user_id'].count()\n",
    "users_away_1 = first_segment.query('churn == 1')['user_id'].count()\n",
    "part_1 = round(users_away_1/users_1*100, 2)\n",
    "\n",
    "print('количество клиентов в сегменте:', users_1)\n",
    "print('количество отточных клиентов в сегменте:', users_away_1)\n",
    "print('уровень оттока в сегменте:', part_1, '%')"
   ]
  },
  {
   "cell_type": "code",
   "execution_count": 32,
   "metadata": {},
   "outputs": [
    {
     "name": "stdout",
     "output_type": "stream",
     "text": [
      "количество клиентов в сегменте: 2850\n",
      "количество отточных клиентов в сегменте: 865\n",
      "уровень оттока в сегменте: 30.35 %\n"
     ]
    }
   ],
   "source": [
    "#создаем и изучаем второй сегмент\n",
    "second_segment = df.query('equity >= 3 & score >= 820 & score <=900')[['user_id', 'equity', 'score', 'churn']]\n",
    "users_2 = second_segment['user_id'].count()\n",
    "users_away_2 = second_segment.query('churn == 1')['user_id'].count()\n",
    "part_2 = round(users_away_2/users_2*100, 2)\n",
    "\n",
    "print('количество клиентов в сегменте:', users_2)\n",
    "print('количество отточных клиентов в сегменте:', users_away_2)\n",
    "print('уровень оттока в сегменте:', part_2, '%')"
   ]
  },
  {
   "cell_type": "code",
   "execution_count": 33,
   "metadata": {},
   "outputs": [
    {
     "name": "stdout",
     "output_type": "stream",
     "text": [
      "количество клиентов в сегменте: 973\n",
      "количество отточных клиентов в сегменте: 335\n",
      "уровень оттока в сегменте: 34.43 %\n"
     ]
    }
   ],
   "source": [
    "#создаем и изучаем третий сегмент\n",
    "third_segment = (\n",
    "    df.query('last_activity == True & age >= 25 & age <=35 & gender == \"М\"')\n",
    "    [['user_id', 'last_activity', 'age', 'gender', 'churn']])\n",
    "users_3 = third_segment['user_id'].count()\n",
    "users_away_3 = third_segment.query('churn == 1')['user_id'].count()\n",
    "part_3 = round(users_away_3/users_3*100, 2)\n",
    "\n",
    "print('количество клиентов в сегменте:', users_3)\n",
    "print('количество отточных клиентов в сегменте:', users_away_3)\n",
    "print('уровень оттока в сегменте:', part_3, '%')"
   ]
  },
  {
   "cell_type": "code",
   "execution_count": 34,
   "metadata": {},
   "outputs": [
    {
     "name": "stdout",
     "output_type": "stream",
     "text": [
      "количество клиентов в сегменте: 3991\n",
      "количество отточных клиентов в сегменте: 802\n",
      "уровень оттока в сегменте: 20.1 %\n"
     ]
    }
   ],
   "source": [
    "#создаем и изучаем четвертый сегмент\n",
    "fourth_segment = (\n",
    "    df.query('est_salary >= 100000 & est_salary <= 200000 & city == \"Ярославль\" | city == \"Ростов\"')\n",
    "    [['user_id', 'est_salary', 'city', 'churn']])\n",
    "users_4 = fourth_segment['user_id'].count()\n",
    "users_away_4 = fourth_segment.query('churn == 1')['user_id'].count()\n",
    "part_4 = round(users_away_4/users_4*100, 2)\n",
    "\n",
    "print('количество клиентов в сегменте:', users_4)\n",
    "print('количество отточных клиентов в сегменте:', users_away_4)\n",
    "print('уровень оттока в сегменте:',part_4, '%')"
   ]
  },
  {
   "cell_type": "code",
   "execution_count": 35,
   "metadata": {},
   "outputs": [
    {
     "name": "stdout",
     "output_type": "stream",
     "text": [
      "количество клиентов в сегменте: 601\n",
      "количество отточных клиентов в сегменте: 249\n",
      "уровень оттока в сегменте: 41.43 %\n"
     ]
    }
   ],
   "source": [
    "#создаем и изучаем пятый сегмент\n",
    "fifth_segment = (\n",
    "    df.query('age >= 50 & age <= 60 & balance > 700.000 & credit_card == False')\n",
    "    [['user_id', 'age', 'credit_card', 'balance', 'churn']])\n",
    "users_5 = fifth_segment['user_id'].count()\n",
    "users_away_5 = fifth_segment.query('churn == 1')['user_id'].count()\n",
    "part_5 = round(users_away_5/users_5*100, 2)\n",
    "\n",
    "print('количество клиентов в сегменте:', users_5)\n",
    "print('количество отточных клиентов в сегменте:', users_away_5)\n",
    "print('уровень оттока в сегменте:', part_5, '%')"
   ]
  },
  {
   "cell_type": "markdown",
   "metadata": {},
   "source": [
    "**Вывод:** каждый сегмент состоит из 2-3 признаков, определенных на наиболее отточном интервале. Критерии были скомбинированы и подобраны так, чтобы в каждом сегменте находилось не менее 500 клиентов и уровень оттока был выше, чем средний по банку."
   ]
  },
  {
   "cell_type": "markdown",
   "metadata": {},
   "source": [
    "<a id=\"отбор\"></a>\n",
    "### Отбор лучших"
   ]
  },
  {
   "cell_type": "code",
   "execution_count": 36,
   "metadata": {
    "scrolled": true
   },
   "outputs": [
    {
     "data": {
      "text/html": [
       "<div>\n",
       "<style scoped>\n",
       "    .dataframe tbody tr th:only-of-type {\n",
       "        vertical-align: middle;\n",
       "    }\n",
       "\n",
       "    .dataframe tbody tr th {\n",
       "        vertical-align: top;\n",
       "    }\n",
       "\n",
       "    .dataframe thead th {\n",
       "        text-align: right;\n",
       "    }\n",
       "</style>\n",
       "<table border=\"1\" class=\"dataframe\">\n",
       "  <thead>\n",
       "    <tr style=\"text-align: right;\">\n",
       "      <th></th>\n",
       "      <th>users</th>\n",
       "      <th>users_away</th>\n",
       "      <th>part</th>\n",
       "    </tr>\n",
       "  </thead>\n",
       "  <tbody>\n",
       "    <tr>\n",
       "      <th>1</th>\n",
       "      <td>2850</td>\n",
       "      <td>865</td>\n",
       "      <td>30.35</td>\n",
       "    </tr>\n",
       "    <tr>\n",
       "      <th>3</th>\n",
       "      <td>3991</td>\n",
       "      <td>802</td>\n",
       "      <td>20.10</td>\n",
       "    </tr>\n",
       "    <tr>\n",
       "      <th>2</th>\n",
       "      <td>973</td>\n",
       "      <td>335</td>\n",
       "      <td>34.43</td>\n",
       "    </tr>\n",
       "    <tr>\n",
       "      <th>0</th>\n",
       "      <td>820</td>\n",
       "      <td>265</td>\n",
       "      <td>32.32</td>\n",
       "    </tr>\n",
       "    <tr>\n",
       "      <th>4</th>\n",
       "      <td>601</td>\n",
       "      <td>249</td>\n",
       "      <td>41.43</td>\n",
       "    </tr>\n",
       "  </tbody>\n",
       "</table>\n",
       "</div>"
      ],
      "text/plain": [
       "   users  users_away   part\n",
       "1   2850         865  30.35\n",
       "3   3991         802  20.10\n",
       "2    973         335  34.43\n",
       "0    820         265  32.32\n",
       "4    601         249  41.43"
      ]
     },
     "execution_count": 36,
     "metadata": {},
     "output_type": "execute_result"
    }
   ],
   "source": [
    "#создаем датафрейм с сегментами и отсортировываем их\n",
    "top = pd.DataFrame({\n",
    "    'users': [users_1, users_2, users_3, users_4, users_5],\n",
    "    'users_away': [users_away_1, users_away_2, users_away_3, users_away_4, users_away_5],\n",
    "    'part': [part_1, part_2, part_3, part_4, part_5]})\n",
    "top.sort_values(by='users_away', ascending=False)"
   ]
  },
  {
   "cell_type": "markdown",
   "metadata": {},
   "source": [
    "**Вывод:** на данном этапе сфомированные сегменты были приоритизированы по количеству отточных клиентов. Это позовлит отделу маркетинга понимать, на что стоит обратить внимание в первую очередь в случае, если ресурсов не хватит на охват всех выделенных сегментов."
   ]
  },
  {
   "cell_type": "markdown",
   "metadata": {},
   "source": [
    "<a id=\"рекомендации\"></a>\n",
    "## Рекомендации"
   ]
  },
  {
   "cell_type": "markdown",
   "metadata": {},
   "source": [
    "В ходе данной работы были выявлены признаки оттока клиентов, а также сформированы сегменты с процентом оттока выше, чем средний по банку. Проанализировав их и составив приоритет, также хотелось бы дать некоторые рекомендации отделу маркетинга:\n",
    "\n",
    "- В первую очередь стоить обратить внимание на клиентов с высоким уровнем доверия по кредиту (баллы скоринга) и с растущими показателями количества собственности. Можно сказать, что с повышением уровня жизни, клиенты решают уйти из банка, что стоит предотвратить. Можно предоставить им персональные предложения - например, выгодные условия по вкладу или ипотеке, так как они уже \"завоевали\" доверие банка и такое предложение им может быть акутально для сбережения средств или при покупке новой собственности.\n",
    "- В четвертом сегменте были затронуты клиенты из Ярославля и Ростова с доходом 100-200 тысяч рублей. Именно этот интервал был замечен, как самый убыточный по клиентам для банка. На мой взгляд, для таких клиентов можно разработать персонализированнные предложения по кэшбекам в местах их города, а также предложить льготы при выборе карты нашего банка, как основной для зарплаты.\n",
    "- В следующий немаловажный сегмент вошли активные юноши в возрасте 25-35 лет. Было выявлено, что чем чаще человек совершает покупки, тем чаще он уходит из банка - это может быть связано, например, с большими комиссиями при переводах или малой популярность банка. Можно устроить акции типа \"бонус за друга\" или \"бесплатные переводы между клиентами банка\". Также было замечено, что мужчины уходят из банка чаще женщин - стоит проработать стратегию персонализированных предложений для мужского пола - например, добавить в категории кэшбека магазины для рыбалки, мужские салоны, интрументы. \n",
    "- Отсутствие кредитной карты также сказывается на отток - клиентам можно предложить повышенный кредитный лимит, льготный период и разные кэшбеки, чтобы возникло желание воспользоваться продуктом именно этого банка.\n",
    "- Также была замечена закономерность, что наиболее \"надежные\" клиенты имеют 1-2 продуктов от банка, вероятно, это связано с \"навязанными\" менеджерами продуктами из-за которых клиенты решают уйти - можно порекомендовать исключить \"агрессивный маркетинг\".\n",
    "\n",
    "Также для всех клиентов можно провести опрос удовлетворенности разными продуктами и стратегиями банка."
   ]
  },
  {
   "cell_type": "markdown",
   "metadata": {},
   "source": [
    "<a id=\"вывод\"></a>\n",
    "## Общий вывод"
   ]
  },
  {
   "cell_type": "markdown",
   "metadata": {},
   "source": [
    "В процессе работы были выполнены следующие этапы, а также сделаны выводы по ним:\n",
    "\n",
    "1. Загрузка данных и изучение данных\n",
    " - в данных содержится 12 столбцов и 10000 строк \n",
    " - названия изменены на наиболее читаемые\n",
    " - обнаружены пропуски в данных о возрасте и о балансе клиентов\n",
    " \n",
    "2. Подготовка данных\n",
    " - для 5 столбцов из датафрейма изменен тип на наиболее подходящий\n",
    " - не обнаружено явных дубликатов, однако замечено 146 повторяющихся строк по столбцу user_id\n",
    " - определена природа неявных дубликатов и принято решение оставить их без изменений\n",
    " - пропуски в столбце с возрастом оставлены без изменений, так как они составляют менее 1% от всех данных\n",
    " - пропуски в столбце с балансом оставлены без изменений, так как они относятся к типу MNAR\n",
    " \n",
    "3. Исследовательский анализ (EDA)\n",
    " - определены основные признаки оттока и их интервалы\n",
    " - проведено сравнение лояльных и нелояльных клиентов на основе выделенных признаков\n",
    " - интерпретация тепловой карты корреляции проведена на основе шкалы Чеддока\n",
    " - изучены зависимости параметров и выделены 2 из них, наиболее коррелирующие с признаком оттока \n",
    "\n",
    "4. Формулировка и проверка статистических гипотез\n",
    " - выдвинут и обоснован метод проверки гипотез (t-тест Стьюдента со значением False для параметра equal_var и тест Манна-Уитни)\n",
    " - проверка первой гипотезы показала, что статистичеси значимых различий в среднем доходе клиентов нет\n",
    " - проверка второй гипотезы показала, что количество продуктов банка у клиентов, которые ушли и тех, которые остались, отличается\n",
    " - проверка третьей гипотезы показала, что возраст клиентов, которые ушли и тех, которые остались, отличается\n",
    " \n",
    "5. Подведение промежуточных итогов\n",
    " - обобщены выводы, полученные на этапе EDA, корреляции и гипотез\n",
    " - выдвинуты предложения о признаках, которые будут рассмотрены при сегментации\n",
    " \n",
    "6. Сегментация\n",
    " - выделены 5 сегментов из 2-3 признаков, определенных на наиболее отточном интервале\n",
    " - сегменты отсортированы по количеству отточных клиентов, что позволит определить приоритет действий\n",
    "\n",
    "7. Рекомендации\n",
    " - на основе всех пунктов выдвинуты предложения по удержанию клиентов для отдела маркетинга"
   ]
  }
 ],
 "metadata": {
  "ExecuteTimeLog": [
   {
    "duration": 444,
    "start_time": "2025-04-17T12:43:59.109Z"
   },
   {
    "duration": 192,
    "start_time": "2025-04-17T12:49:19.886Z"
   },
   {
    "duration": 15,
    "start_time": "2025-04-17T13:03:38.177Z"
   },
   {
    "duration": 161,
    "start_time": "2025-04-17T13:05:51.104Z"
   },
   {
    "duration": 3,
    "start_time": "2025-04-17T13:06:43.463Z"
   },
   {
    "duration": 4,
    "start_time": "2025-04-17T15:07:57.888Z"
   },
   {
    "duration": 15,
    "start_time": "2025-04-17T15:08:05.165Z"
   },
   {
    "duration": 79,
    "start_time": "2025-04-17T15:10:43.343Z"
   },
   {
    "duration": 16,
    "start_time": "2025-04-17T15:11:20.377Z"
   },
   {
    "duration": 18,
    "start_time": "2025-04-17T15:11:25.264Z"
   },
   {
    "duration": 51,
    "start_time": "2025-04-17T18:39:09.196Z"
   },
   {
    "duration": 450,
    "start_time": "2025-04-17T18:39:20.703Z"
   },
   {
    "duration": 253,
    "start_time": "2025-04-17T18:39:21.155Z"
   },
   {
    "duration": 3,
    "start_time": "2025-04-17T18:39:21.410Z"
   },
   {
    "duration": 27,
    "start_time": "2025-04-17T18:39:21.415Z"
   },
   {
    "duration": 73,
    "start_time": "2025-04-17T19:13:13.466Z"
   },
   {
    "duration": 12,
    "start_time": "2025-04-17T19:13:23.993Z"
   },
   {
    "duration": 9,
    "start_time": "2025-04-17T19:13:44.541Z"
   },
   {
    "duration": 5,
    "start_time": "2025-04-17T20:36:49.664Z"
   },
   {
    "duration": 7,
    "start_time": "2025-04-17T20:38:22.551Z"
   },
   {
    "duration": 4,
    "start_time": "2025-04-17T20:41:10.519Z"
   },
   {
    "duration": 14,
    "start_time": "2025-04-17T20:41:23.377Z"
   },
   {
    "duration": 11,
    "start_time": "2025-04-17T20:59:52.691Z"
   },
   {
    "duration": 7,
    "start_time": "2025-04-17T21:02:01.636Z"
   },
   {
    "duration": 23,
    "start_time": "2025-04-17T21:04:27.518Z"
   },
   {
    "duration": 5,
    "start_time": "2025-04-17T21:11:39.570Z"
   },
   {
    "duration": 69,
    "start_time": "2025-04-17T21:11:54.267Z"
   },
   {
    "duration": 69,
    "start_time": "2025-04-17T21:12:41.119Z"
   },
   {
    "duration": 53,
    "start_time": "2025-04-17T21:13:45.210Z"
   },
   {
    "duration": 422,
    "start_time": "2025-04-17T21:13:51.149Z"
   },
   {
    "duration": 214,
    "start_time": "2025-04-17T21:13:51.573Z"
   },
   {
    "duration": 4,
    "start_time": "2025-04-17T21:13:51.789Z"
   },
   {
    "duration": 63,
    "start_time": "2025-04-17T21:13:51.795Z"
   },
   {
    "duration": 19,
    "start_time": "2025-04-17T21:13:51.860Z"
   },
   {
    "duration": 86,
    "start_time": "2025-04-17T21:13:51.881Z"
   },
   {
    "duration": 5,
    "start_time": "2025-04-17T21:13:51.971Z"
   },
   {
    "duration": 12,
    "start_time": "2025-04-17T21:13:51.978Z"
   },
   {
    "duration": 24,
    "start_time": "2025-04-17T21:13:51.992Z"
   },
   {
    "duration": 63,
    "start_time": "2025-04-18T07:56:01.026Z"
   },
   {
    "duration": 460,
    "start_time": "2025-04-18T07:56:06.161Z"
   },
   {
    "duration": 141,
    "start_time": "2025-04-18T07:56:06.623Z"
   },
   {
    "duration": 4,
    "start_time": "2025-04-18T07:56:06.766Z"
   },
   {
    "duration": 20,
    "start_time": "2025-04-18T07:56:06.771Z"
   },
   {
    "duration": 11,
    "start_time": "2025-04-18T07:56:06.793Z"
   },
   {
    "duration": 102,
    "start_time": "2025-04-18T07:56:06.805Z"
   },
   {
    "duration": 102,
    "start_time": "2025-04-18T07:56:06.909Z"
   },
   {
    "duration": 4,
    "start_time": "2025-04-18T07:56:07.013Z"
   },
   {
    "duration": 36,
    "start_time": "2025-04-18T07:56:07.018Z"
   },
   {
    "duration": 13,
    "start_time": "2025-04-18T07:56:07.056Z"
   },
   {
    "duration": 9,
    "start_time": "2025-04-18T07:56:35.551Z"
   },
   {
    "duration": 71,
    "start_time": "2025-04-18T08:15:34.447Z"
   },
   {
    "duration": 7,
    "start_time": "2025-04-18T08:16:20.006Z"
   },
   {
    "duration": 3531,
    "start_time": "2025-04-18T08:16:36.070Z"
   },
   {
    "duration": 1101,
    "start_time": "2025-04-18T08:16:42.822Z"
   },
   {
    "duration": 3,
    "start_time": "2025-04-18T08:16:49.124Z"
   },
   {
    "duration": 2,
    "start_time": "2025-04-18T08:17:21.160Z"
   },
   {
    "duration": 489,
    "start_time": "2025-04-18T08:17:32.494Z"
   },
   {
    "duration": 59,
    "start_time": "2025-04-18T08:21:45.832Z"
   },
   {
    "duration": 3,
    "start_time": "2025-04-18T08:22:05.920Z"
   },
   {
    "duration": 1188,
    "start_time": "2025-04-18T08:22:09.678Z"
   },
   {
    "duration": 1145,
    "start_time": "2025-04-18T08:23:20.022Z"
   },
   {
    "duration": 1190,
    "start_time": "2025-04-18T08:24:43.801Z"
   },
   {
    "duration": 54,
    "start_time": "2025-04-18T13:12:23.618Z"
   },
   {
    "duration": 499,
    "start_time": "2025-04-18T13:12:29.170Z"
   },
   {
    "duration": 0,
    "start_time": "2025-04-18T13:12:29.671Z"
   },
   {
    "duration": 0,
    "start_time": "2025-04-18T13:12:29.672Z"
   },
   {
    "duration": 0,
    "start_time": "2025-04-18T13:12:29.673Z"
   },
   {
    "duration": 0,
    "start_time": "2025-04-18T13:12:29.674Z"
   },
   {
    "duration": 0,
    "start_time": "2025-04-18T13:12:29.675Z"
   },
   {
    "duration": 0,
    "start_time": "2025-04-18T13:12:29.677Z"
   },
   {
    "duration": 0,
    "start_time": "2025-04-18T13:12:29.678Z"
   },
   {
    "duration": 0,
    "start_time": "2025-04-18T13:12:29.678Z"
   },
   {
    "duration": 0,
    "start_time": "2025-04-18T13:12:29.680Z"
   },
   {
    "duration": 0,
    "start_time": "2025-04-18T13:12:29.681Z"
   },
   {
    "duration": 488,
    "start_time": "2025-04-18T13:13:11.784Z"
   },
   {
    "duration": 0,
    "start_time": "2025-04-18T13:13:12.274Z"
   },
   {
    "duration": 1,
    "start_time": "2025-04-18T13:13:12.275Z"
   },
   {
    "duration": 0,
    "start_time": "2025-04-18T13:13:12.277Z"
   },
   {
    "duration": 0,
    "start_time": "2025-04-18T13:13:12.278Z"
   },
   {
    "duration": 0,
    "start_time": "2025-04-18T13:13:12.279Z"
   },
   {
    "duration": 0,
    "start_time": "2025-04-18T13:13:12.280Z"
   },
   {
    "duration": 0,
    "start_time": "2025-04-18T13:13:12.282Z"
   },
   {
    "duration": 0,
    "start_time": "2025-04-18T13:13:12.283Z"
   },
   {
    "duration": 0,
    "start_time": "2025-04-18T13:13:12.284Z"
   },
   {
    "duration": 0,
    "start_time": "2025-04-18T13:13:12.285Z"
   },
   {
    "duration": 3728,
    "start_time": "2025-04-18T13:13:34.988Z"
   },
   {
    "duration": 2680,
    "start_time": "2025-04-18T13:13:46.997Z"
   },
   {
    "duration": 1525,
    "start_time": "2025-04-18T13:13:49.680Z"
   },
   {
    "duration": 167,
    "start_time": "2025-04-18T13:13:51.207Z"
   },
   {
    "duration": 28,
    "start_time": "2025-04-18T13:13:51.376Z"
   },
   {
    "duration": 44,
    "start_time": "2025-04-18T13:13:51.407Z"
   },
   {
    "duration": 33,
    "start_time": "2025-04-18T13:13:51.452Z"
   },
   {
    "duration": 86,
    "start_time": "2025-04-18T13:13:51.487Z"
   },
   {
    "duration": 8,
    "start_time": "2025-04-18T13:13:51.575Z"
   },
   {
    "duration": 50,
    "start_time": "2025-04-18T13:13:51.585Z"
   },
   {
    "duration": 20,
    "start_time": "2025-04-18T13:13:51.637Z"
   },
   {
    "duration": 509,
    "start_time": "2025-04-18T13:13:51.659Z"
   },
   {
    "duration": 1218,
    "start_time": "2025-04-18T13:13:52.169Z"
   },
   {
    "duration": 1162,
    "start_time": "2025-04-18T13:14:20.375Z"
   },
   {
    "duration": 1126,
    "start_time": "2025-04-18T13:14:42.184Z"
   },
   {
    "duration": 1224,
    "start_time": "2025-04-18T13:23:25.182Z"
   },
   {
    "duration": 54,
    "start_time": "2025-04-18T19:24:26.461Z"
   },
   {
    "duration": 3692,
    "start_time": "2025-04-18T19:24:32.007Z"
   },
   {
    "duration": 1504,
    "start_time": "2025-04-18T19:24:35.702Z"
   },
   {
    "duration": 237,
    "start_time": "2025-04-18T19:24:37.208Z"
   },
   {
    "duration": 4,
    "start_time": "2025-04-18T19:24:37.447Z"
   },
   {
    "duration": 34,
    "start_time": "2025-04-18T19:24:37.453Z"
   },
   {
    "duration": 35,
    "start_time": "2025-04-18T19:24:37.491Z"
   },
   {
    "duration": 100,
    "start_time": "2025-04-18T19:24:37.529Z"
   },
   {
    "duration": 10,
    "start_time": "2025-04-18T19:24:37.631Z"
   },
   {
    "duration": 11,
    "start_time": "2025-04-18T19:24:37.644Z"
   },
   {
    "duration": 11,
    "start_time": "2025-04-18T19:24:37.659Z"
   },
   {
    "duration": 486,
    "start_time": "2025-04-18T19:24:37.672Z"
   },
   {
    "duration": 1210,
    "start_time": "2025-04-18T19:24:38.161Z"
   },
   {
    "duration": 119,
    "start_time": "2025-04-18T19:24:39.373Z"
   },
   {
    "duration": 36963,
    "start_time": "2025-04-18T19:24:46.101Z"
   },
   {
    "duration": 330,
    "start_time": "2025-04-18T19:25:56.327Z"
   },
   {
    "duration": 1180,
    "start_time": "2025-04-18T19:27:29.247Z"
   },
   {
    "duration": 1255,
    "start_time": "2025-04-18T19:27:36.252Z"
   },
   {
    "duration": 1171,
    "start_time": "2025-04-18T19:27:49.637Z"
   },
   {
    "duration": 361,
    "start_time": "2025-04-18T19:28:46.524Z"
   },
   {
    "duration": 318,
    "start_time": "2025-04-18T19:29:23.238Z"
   },
   {
    "duration": 328,
    "start_time": "2025-04-18T19:29:34.321Z"
   },
   {
    "duration": 1153,
    "start_time": "2025-04-18T19:29:42.417Z"
   },
   {
    "duration": 415,
    "start_time": "2025-04-18T19:50:27.814Z"
   },
   {
    "duration": 400,
    "start_time": "2025-04-18T19:51:58.216Z"
   },
   {
    "duration": 381,
    "start_time": "2025-04-18T19:52:23.444Z"
   },
   {
    "duration": 386,
    "start_time": "2025-04-18T19:53:04.842Z"
   },
   {
    "duration": 30,
    "start_time": "2025-04-18T19:53:14.345Z"
   },
   {
    "duration": 405,
    "start_time": "2025-04-18T19:53:21.436Z"
   },
   {
    "duration": 374,
    "start_time": "2025-04-18T19:53:41.603Z"
   },
   {
    "duration": 397,
    "start_time": "2025-04-18T19:54:23.328Z"
   },
   {
    "duration": 258,
    "start_time": "2025-04-18T19:54:54.123Z"
   },
   {
    "duration": 367,
    "start_time": "2025-04-18T19:55:12.708Z"
   },
   {
    "duration": 264,
    "start_time": "2025-04-18T19:57:27.812Z"
   },
   {
    "duration": 367,
    "start_time": "2025-04-18T19:57:45.314Z"
   },
   {
    "duration": 236,
    "start_time": "2025-04-18T19:58:46.601Z"
   },
   {
    "duration": 309,
    "start_time": "2025-04-18T20:00:56.233Z"
   },
   {
    "duration": 252,
    "start_time": "2025-04-18T20:05:46.676Z"
   },
   {
    "duration": 355,
    "start_time": "2025-04-18T20:07:52.078Z"
   },
   {
    "duration": 345,
    "start_time": "2025-04-18T20:08:09.782Z"
   },
   {
    "duration": 358,
    "start_time": "2025-04-18T20:08:46.992Z"
   },
   {
    "duration": 283,
    "start_time": "2025-04-18T20:09:22.552Z"
   },
   {
    "duration": 323,
    "start_time": "2025-04-18T20:12:27.872Z"
   },
   {
    "duration": 287,
    "start_time": "2025-04-18T20:12:40.410Z"
   },
   {
    "duration": 270,
    "start_time": "2025-04-18T20:15:43.317Z"
   },
   {
    "duration": 290,
    "start_time": "2025-04-18T20:15:51.751Z"
   },
   {
    "duration": 325,
    "start_time": "2025-04-18T20:18:38.730Z"
   },
   {
    "duration": 306,
    "start_time": "2025-04-18T20:20:55.023Z"
   },
   {
    "duration": 7372,
    "start_time": "2025-04-18T20:21:38.126Z"
   },
   {
    "duration": 7695,
    "start_time": "2025-04-18T20:24:27.305Z"
   },
   {
    "duration": 3299,
    "start_time": "2025-04-18T20:25:29.991Z"
   },
   {
    "duration": 305,
    "start_time": "2025-04-18T20:27:56.561Z"
   },
   {
    "duration": 239,
    "start_time": "2025-04-18T20:29:34.574Z"
   },
   {
    "duration": 199,
    "start_time": "2025-04-18T20:30:13.121Z"
   },
   {
    "duration": 257,
    "start_time": "2025-04-18T20:31:49.336Z"
   },
   {
    "duration": 723,
    "start_time": "2025-04-18T20:37:01.073Z"
   },
   {
    "duration": 538,
    "start_time": "2025-04-18T20:37:59.223Z"
   },
   {
    "duration": 3170,
    "start_time": "2025-04-18T20:38:08.721Z"
   },
   {
    "duration": 536,
    "start_time": "2025-04-18T20:38:18.764Z"
   },
   {
    "duration": 3537,
    "start_time": "2025-04-19T19:37:04.332Z"
   },
   {
    "duration": 1451,
    "start_time": "2025-04-19T19:37:07.871Z"
   },
   {
    "duration": 163,
    "start_time": "2025-04-19T19:37:09.323Z"
   },
   {
    "duration": 3,
    "start_time": "2025-04-19T19:37:09.488Z"
   },
   {
    "duration": 16,
    "start_time": "2025-04-19T19:37:09.493Z"
   },
   {
    "duration": 20,
    "start_time": "2025-04-19T19:37:09.510Z"
   },
   {
    "duration": 69,
    "start_time": "2025-04-19T19:37:09.532Z"
   },
   {
    "duration": 7,
    "start_time": "2025-04-19T19:37:09.603Z"
   },
   {
    "duration": 10,
    "start_time": "2025-04-19T19:37:09.612Z"
   },
   {
    "duration": 4,
    "start_time": "2025-04-19T19:37:09.625Z"
   },
   {
    "duration": 460,
    "start_time": "2025-04-19T19:37:09.636Z"
   },
   {
    "duration": 1196,
    "start_time": "2025-04-19T19:37:10.098Z"
   },
   {
    "duration": 349,
    "start_time": "2025-04-19T19:37:11.295Z"
   },
   {
    "duration": 264,
    "start_time": "2025-04-19T19:37:11.646Z"
   },
   {
    "duration": 256,
    "start_time": "2025-04-19T19:37:11.911Z"
   },
   {
    "duration": 379,
    "start_time": "2025-04-19T19:37:12.168Z"
   },
   {
    "duration": 273,
    "start_time": "2025-04-19T19:37:12.549Z"
   },
   {
    "duration": 3604,
    "start_time": "2025-04-19T19:37:12.824Z"
   },
   {
    "duration": 277,
    "start_time": "2025-04-19T19:37:16.429Z"
   },
   {
    "duration": 276,
    "start_time": "2025-04-19T19:37:16.707Z"
   },
   {
    "duration": 216,
    "start_time": "2025-04-19T19:37:16.985Z"
   },
   {
    "duration": 798,
    "start_time": "2025-04-19T19:37:17.203Z"
   },
   {
    "duration": 10,
    "start_time": "2025-04-19T20:01:10.150Z"
   },
   {
    "duration": 10,
    "start_time": "2025-04-19T20:01:47.877Z"
   },
   {
    "duration": 10,
    "start_time": "2025-04-19T20:01:55.378Z"
   },
   {
    "duration": 9,
    "start_time": "2025-04-19T20:02:05.167Z"
   },
   {
    "duration": 2462,
    "start_time": "2025-04-19T20:02:38.448Z"
   },
   {
    "duration": 1253,
    "start_time": "2025-04-19T20:02:40.912Z"
   },
   {
    "duration": 136,
    "start_time": "2025-04-19T20:02:42.167Z"
   },
   {
    "duration": 4,
    "start_time": "2025-04-19T20:02:42.304Z"
   },
   {
    "duration": 10,
    "start_time": "2025-04-19T20:02:42.310Z"
   },
   {
    "duration": 16,
    "start_time": "2025-04-19T20:02:42.322Z"
   },
   {
    "duration": 69,
    "start_time": "2025-04-19T20:02:42.340Z"
   },
   {
    "duration": 10,
    "start_time": "2025-04-19T20:02:42.411Z"
   },
   {
    "duration": 14,
    "start_time": "2025-04-19T20:02:42.423Z"
   },
   {
    "duration": 4,
    "start_time": "2025-04-19T20:02:42.440Z"
   },
   {
    "duration": 484,
    "start_time": "2025-04-19T20:02:42.446Z"
   },
   {
    "duration": 1116,
    "start_time": "2025-04-19T20:02:42.932Z"
   },
   {
    "duration": 347,
    "start_time": "2025-04-19T20:02:44.050Z"
   },
   {
    "duration": 297,
    "start_time": "2025-04-19T20:02:44.400Z"
   },
   {
    "duration": 264,
    "start_time": "2025-04-19T20:02:44.699Z"
   },
   {
    "duration": 380,
    "start_time": "2025-04-19T20:02:44.964Z"
   },
   {
    "duration": 277,
    "start_time": "2025-04-19T20:02:45.345Z"
   },
   {
    "duration": 3522,
    "start_time": "2025-04-19T20:02:45.623Z"
   },
   {
    "duration": 263,
    "start_time": "2025-04-19T20:02:49.146Z"
   },
   {
    "duration": 271,
    "start_time": "2025-04-19T20:02:49.411Z"
   },
   {
    "duration": 218,
    "start_time": "2025-04-19T20:02:49.684Z"
   },
   {
    "duration": 787,
    "start_time": "2025-04-19T20:02:49.903Z"
   },
   {
    "duration": 2531,
    "start_time": "2025-04-19T20:36:42.145Z"
   },
   {
    "duration": 1172,
    "start_time": "2025-04-19T20:36:44.679Z"
   },
   {
    "duration": 115,
    "start_time": "2025-04-19T20:36:45.853Z"
   },
   {
    "duration": 4,
    "start_time": "2025-04-19T20:36:45.970Z"
   },
   {
    "duration": 10,
    "start_time": "2025-04-19T20:36:45.976Z"
   },
   {
    "duration": 14,
    "start_time": "2025-04-19T20:36:45.987Z"
   },
   {
    "duration": 80,
    "start_time": "2025-04-19T20:36:46.003Z"
   },
   {
    "duration": 9,
    "start_time": "2025-04-19T20:36:46.085Z"
   },
   {
    "duration": 54,
    "start_time": "2025-04-19T20:36:46.096Z"
   },
   {
    "duration": 20,
    "start_time": "2025-04-19T20:36:46.154Z"
   },
   {
    "duration": 453,
    "start_time": "2025-04-19T20:36:46.176Z"
   },
   {
    "duration": 1136,
    "start_time": "2025-04-19T20:36:46.630Z"
   },
   {
    "duration": 347,
    "start_time": "2025-04-19T20:36:47.767Z"
   },
   {
    "duration": 277,
    "start_time": "2025-04-19T20:36:48.115Z"
   },
   {
    "duration": 279,
    "start_time": "2025-04-19T20:36:48.394Z"
   },
   {
    "duration": 383,
    "start_time": "2025-04-19T20:36:48.675Z"
   },
   {
    "duration": 268,
    "start_time": "2025-04-19T20:36:49.060Z"
   },
   {
    "duration": 3498,
    "start_time": "2025-04-19T20:36:49.330Z"
   },
   {
    "duration": 297,
    "start_time": "2025-04-19T20:36:52.829Z"
   },
   {
    "duration": 262,
    "start_time": "2025-04-19T20:36:53.128Z"
   },
   {
    "duration": 216,
    "start_time": "2025-04-19T20:36:53.392Z"
   },
   {
    "duration": 826,
    "start_time": "2025-04-19T20:36:53.610Z"
   },
   {
    "duration": 1116,
    "start_time": "2025-04-19T20:37:25.754Z"
   },
   {
    "duration": 52,
    "start_time": "2025-04-20T08:19:06.491Z"
   },
   {
    "duration": 3550,
    "start_time": "2025-04-20T08:19:11.932Z"
   },
   {
    "duration": 1478,
    "start_time": "2025-04-20T08:19:15.484Z"
   },
   {
    "duration": 190,
    "start_time": "2025-04-20T08:19:16.964Z"
   },
   {
    "duration": 4,
    "start_time": "2025-04-20T08:19:17.156Z"
   },
   {
    "duration": 16,
    "start_time": "2025-04-20T08:19:17.161Z"
   },
   {
    "duration": 19,
    "start_time": "2025-04-20T08:19:17.178Z"
   },
   {
    "duration": 81,
    "start_time": "2025-04-20T08:19:17.198Z"
   },
   {
    "duration": 8,
    "start_time": "2025-04-20T08:19:17.281Z"
   },
   {
    "duration": 7,
    "start_time": "2025-04-20T08:19:17.290Z"
   },
   {
    "duration": 4,
    "start_time": "2025-04-20T08:19:17.300Z"
   },
   {
    "duration": 509,
    "start_time": "2025-04-20T08:19:17.305Z"
   },
   {
    "duration": 1213,
    "start_time": "2025-04-20T08:19:17.816Z"
   },
   {
    "duration": 344,
    "start_time": "2025-04-20T08:19:19.038Z"
   },
   {
    "duration": 238,
    "start_time": "2025-04-20T08:19:19.383Z"
   },
   {
    "duration": 236,
    "start_time": "2025-04-20T08:19:19.639Z"
   },
   {
    "duration": 382,
    "start_time": "2025-04-20T08:19:19.877Z"
   },
   {
    "duration": 270,
    "start_time": "2025-04-20T08:19:20.261Z"
   },
   {
    "duration": 3630,
    "start_time": "2025-04-20T08:19:20.538Z"
   },
   {
    "duration": 264,
    "start_time": "2025-04-20T08:19:24.170Z"
   },
   {
    "duration": 256,
    "start_time": "2025-04-20T08:19:24.440Z"
   },
   {
    "duration": 282,
    "start_time": "2025-04-20T08:19:24.697Z"
   },
   {
    "duration": 891,
    "start_time": "2025-04-20T08:19:24.981Z"
   },
   {
    "duration": 1176,
    "start_time": "2025-04-20T08:19:25.874Z"
   },
   {
    "duration": 418,
    "start_time": "2025-04-20T08:27:56.222Z"
   },
   {
    "duration": 991,
    "start_time": "2025-04-20T08:28:08.561Z"
   },
   {
    "duration": 2544,
    "start_time": "2025-04-20T08:28:15.283Z"
   },
   {
    "duration": 1252,
    "start_time": "2025-04-20T08:28:17.830Z"
   },
   {
    "duration": 112,
    "start_time": "2025-04-20T08:28:19.084Z"
   },
   {
    "duration": 4,
    "start_time": "2025-04-20T08:28:19.198Z"
   },
   {
    "duration": 26,
    "start_time": "2025-04-20T08:28:19.203Z"
   },
   {
    "duration": 37,
    "start_time": "2025-04-20T08:28:19.231Z"
   },
   {
    "duration": 78,
    "start_time": "2025-04-20T08:28:19.270Z"
   },
   {
    "duration": 8,
    "start_time": "2025-04-20T08:28:19.349Z"
   },
   {
    "duration": 51,
    "start_time": "2025-04-20T08:28:19.359Z"
   },
   {
    "duration": 27,
    "start_time": "2025-04-20T08:28:19.413Z"
   },
   {
    "duration": 485,
    "start_time": "2025-04-20T08:28:19.442Z"
   },
   {
    "duration": 1040,
    "start_time": "2025-04-20T08:28:19.928Z"
   },
   {
    "duration": 361,
    "start_time": "2025-04-20T08:28:20.969Z"
   },
   {
    "duration": 272,
    "start_time": "2025-04-20T08:28:21.331Z"
   },
   {
    "duration": 265,
    "start_time": "2025-04-20T08:28:21.605Z"
   },
   {
    "duration": 378,
    "start_time": "2025-04-20T08:28:21.872Z"
   },
   {
    "duration": 274,
    "start_time": "2025-04-20T08:28:22.252Z"
   },
   {
    "duration": 3465,
    "start_time": "2025-04-20T08:28:22.528Z"
   },
   {
    "duration": 288,
    "start_time": "2025-04-20T08:28:25.995Z"
   },
   {
    "duration": 221,
    "start_time": "2025-04-20T08:28:26.285Z"
   },
   {
    "duration": 273,
    "start_time": "2025-04-20T08:28:26.509Z"
   },
   {
    "duration": 819,
    "start_time": "2025-04-20T08:28:26.783Z"
   },
   {
    "duration": 1036,
    "start_time": "2025-04-20T08:28:27.603Z"
   },
   {
    "duration": 48,
    "start_time": "2025-04-21T08:35:51.550Z"
   },
   {
    "duration": 3426,
    "start_time": "2025-04-21T08:35:55.608Z"
   },
   {
    "duration": 1428,
    "start_time": "2025-04-21T08:35:59.036Z"
   },
   {
    "duration": 400,
    "start_time": "2025-04-21T08:36:00.465Z"
   },
   {
    "duration": 3,
    "start_time": "2025-04-21T08:36:00.867Z"
   },
   {
    "duration": 23,
    "start_time": "2025-04-21T08:36:00.872Z"
   },
   {
    "duration": 27,
    "start_time": "2025-04-21T08:36:00.897Z"
   },
   {
    "duration": 70,
    "start_time": "2025-04-21T08:36:00.925Z"
   },
   {
    "duration": 8,
    "start_time": "2025-04-21T08:36:00.996Z"
   },
   {
    "duration": 39,
    "start_time": "2025-04-21T08:36:01.005Z"
   },
   {
    "duration": 14,
    "start_time": "2025-04-21T08:36:01.047Z"
   },
   {
    "duration": 403,
    "start_time": "2025-04-21T08:36:01.063Z"
   },
   {
    "duration": 1033,
    "start_time": "2025-04-21T08:36:01.468Z"
   },
   {
    "duration": 341,
    "start_time": "2025-04-21T08:36:02.503Z"
   },
   {
    "duration": 278,
    "start_time": "2025-04-21T08:36:02.846Z"
   },
   {
    "duration": 266,
    "start_time": "2025-04-21T08:36:03.125Z"
   },
   {
    "duration": 356,
    "start_time": "2025-04-21T08:36:03.393Z"
   },
   {
    "duration": 288,
    "start_time": "2025-04-21T08:36:03.750Z"
   },
   {
    "duration": 3511,
    "start_time": "2025-04-21T08:36:04.039Z"
   },
   {
    "duration": 274,
    "start_time": "2025-04-21T08:36:07.552Z"
   },
   {
    "duration": 274,
    "start_time": "2025-04-21T08:36:07.828Z"
   },
   {
    "duration": 224,
    "start_time": "2025-04-21T08:36:08.103Z"
   },
   {
    "duration": 736,
    "start_time": "2025-04-21T08:36:08.329Z"
   },
   {
    "duration": 1002,
    "start_time": "2025-04-21T08:36:09.067Z"
   },
   {
    "duration": 182,
    "start_time": "2025-04-21T08:36:10.070Z"
   },
   {
    "duration": 8,
    "start_time": "2025-04-21T08:36:42.597Z"
   },
   {
    "duration": 8,
    "start_time": "2025-04-21T08:36:52.930Z"
   },
   {
    "duration": 7,
    "start_time": "2025-04-21T08:39:04.060Z"
   },
   {
    "duration": 6,
    "start_time": "2025-04-21T08:42:26.397Z"
   },
   {
    "duration": 126,
    "start_time": "2025-04-21T08:42:39.855Z"
   },
   {
    "duration": 14,
    "start_time": "2025-04-21T08:43:03.654Z"
   },
   {
    "duration": 5,
    "start_time": "2025-04-21T08:44:01.774Z"
   },
   {
    "duration": 14,
    "start_time": "2025-04-21T08:44:07.881Z"
   },
   {
    "duration": 14,
    "start_time": "2025-04-21T08:44:21.171Z"
   },
   {
    "duration": 3,
    "start_time": "2025-04-21T09:01:55.589Z"
   },
   {
    "duration": 5,
    "start_time": "2025-04-21T09:04:41.533Z"
   },
   {
    "duration": 7,
    "start_time": "2025-04-21T09:11:56.908Z"
   },
   {
    "duration": 93,
    "start_time": "2025-04-21T09:33:47.665Z"
   },
   {
    "duration": 7,
    "start_time": "2025-04-21T09:36:11.220Z"
   },
   {
    "duration": 101,
    "start_time": "2025-04-21T09:43:02.302Z"
   },
   {
    "duration": 6,
    "start_time": "2025-04-21T09:50:08.962Z"
   },
   {
    "duration": 93,
    "start_time": "2025-04-21T10:26:28.529Z"
   },
   {
    "duration": 20,
    "start_time": "2025-04-21T10:29:10.138Z"
   },
   {
    "duration": 15,
    "start_time": "2025-04-21T10:30:58.084Z"
   },
   {
    "duration": 18,
    "start_time": "2025-04-21T10:33:49.955Z"
   },
   {
    "duration": 21,
    "start_time": "2025-04-21T10:34:47.348Z"
   },
   {
    "duration": 2601,
    "start_time": "2025-04-21T10:34:56.046Z"
   },
   {
    "duration": 1265,
    "start_time": "2025-04-21T10:34:58.650Z"
   },
   {
    "duration": 181,
    "start_time": "2025-04-21T10:34:59.917Z"
   },
   {
    "duration": 4,
    "start_time": "2025-04-21T10:35:00.101Z"
   },
   {
    "duration": 73,
    "start_time": "2025-04-21T10:35:00.106Z"
   },
   {
    "duration": 54,
    "start_time": "2025-04-21T10:35:00.180Z"
   },
   {
    "duration": 107,
    "start_time": "2025-04-21T10:35:00.236Z"
   },
   {
    "duration": 7,
    "start_time": "2025-04-21T10:35:00.345Z"
   },
   {
    "duration": 41,
    "start_time": "2025-04-21T10:35:00.354Z"
   },
   {
    "duration": 38,
    "start_time": "2025-04-21T10:35:00.397Z"
   },
   {
    "duration": 471,
    "start_time": "2025-04-21T10:35:00.437Z"
   },
   {
    "duration": 1071,
    "start_time": "2025-04-21T10:35:00.910Z"
   },
   {
    "duration": 349,
    "start_time": "2025-04-21T10:35:01.983Z"
   },
   {
    "duration": 289,
    "start_time": "2025-04-21T10:35:02.334Z"
   },
   {
    "duration": 268,
    "start_time": "2025-04-21T10:35:02.625Z"
   },
   {
    "duration": 397,
    "start_time": "2025-04-21T10:35:02.895Z"
   },
   {
    "duration": 269,
    "start_time": "2025-04-21T10:35:03.293Z"
   },
   {
    "duration": 3568,
    "start_time": "2025-04-21T10:35:03.564Z"
   },
   {
    "duration": 338,
    "start_time": "2025-04-21T10:35:07.133Z"
   },
   {
    "duration": 264,
    "start_time": "2025-04-21T10:35:07.473Z"
   },
   {
    "duration": 296,
    "start_time": "2025-04-21T10:35:07.739Z"
   },
   {
    "duration": 801,
    "start_time": "2025-04-21T10:35:08.036Z"
   },
   {
    "duration": 1087,
    "start_time": "2025-04-21T10:35:08.839Z"
   },
   {
    "duration": 17,
    "start_time": "2025-04-21T10:35:09.928Z"
   },
   {
    "duration": 27,
    "start_time": "2025-04-21T10:35:09.947Z"
   },
   {
    "duration": 6,
    "start_time": "2025-04-21T10:35:09.976Z"
   },
   {
    "duration": 6,
    "start_time": "2025-04-21T10:35:09.983Z"
   },
   {
    "duration": 147,
    "start_time": "2025-04-21T10:35:09.992Z"
   },
   {
    "duration": 22,
    "start_time": "2025-04-21T10:35:49.356Z"
   },
   {
    "duration": 14,
    "start_time": "2025-04-21T10:41:09.000Z"
   },
   {
    "duration": 2620,
    "start_time": "2025-04-21T10:41:23.298Z"
   },
   {
    "duration": 1175,
    "start_time": "2025-04-21T10:41:25.921Z"
   },
   {
    "duration": 137,
    "start_time": "2025-04-21T10:41:27.098Z"
   },
   {
    "duration": 4,
    "start_time": "2025-04-21T10:41:27.237Z"
   },
   {
    "duration": 19,
    "start_time": "2025-04-21T10:41:27.243Z"
   },
   {
    "duration": 12,
    "start_time": "2025-04-21T10:41:27.264Z"
   },
   {
    "duration": 114,
    "start_time": "2025-04-21T10:41:27.285Z"
   },
   {
    "duration": 7,
    "start_time": "2025-04-21T10:41:27.401Z"
   },
   {
    "duration": 5,
    "start_time": "2025-04-21T10:41:27.410Z"
   },
   {
    "duration": 4,
    "start_time": "2025-04-21T10:41:27.418Z"
   },
   {
    "duration": 427,
    "start_time": "2025-04-21T10:41:27.424Z"
   },
   {
    "duration": 1050,
    "start_time": "2025-04-21T10:41:27.853Z"
   },
   {
    "duration": 340,
    "start_time": "2025-04-21T10:41:28.905Z"
   },
   {
    "duration": 302,
    "start_time": "2025-04-21T10:41:29.247Z"
   },
   {
    "duration": 273,
    "start_time": "2025-04-21T10:41:29.550Z"
   },
   {
    "duration": 372,
    "start_time": "2025-04-21T10:41:29.824Z"
   },
   {
    "duration": 282,
    "start_time": "2025-04-21T10:41:30.197Z"
   },
   {
    "duration": 3650,
    "start_time": "2025-04-21T10:41:30.482Z"
   },
   {
    "duration": 286,
    "start_time": "2025-04-21T10:41:34.133Z"
   },
   {
    "duration": 304,
    "start_time": "2025-04-21T10:41:34.421Z"
   },
   {
    "duration": 263,
    "start_time": "2025-04-21T10:41:34.727Z"
   },
   {
    "duration": 773,
    "start_time": "2025-04-21T10:41:34.992Z"
   },
   {
    "duration": 1016,
    "start_time": "2025-04-21T10:41:35.766Z"
   },
   {
    "duration": 14,
    "start_time": "2025-04-21T10:41:36.784Z"
   },
   {
    "duration": 41,
    "start_time": "2025-04-21T10:41:36.799Z"
   },
   {
    "duration": 6,
    "start_time": "2025-04-21T10:41:36.842Z"
   },
   {
    "duration": 13,
    "start_time": "2025-04-21T10:41:36.850Z"
   },
   {
    "duration": 125,
    "start_time": "2025-04-21T10:41:36.867Z"
   },
   {
    "duration": 10,
    "start_time": "2025-04-21T10:42:11.527Z"
   },
   {
    "duration": 2593,
    "start_time": "2025-04-21T10:42:14.989Z"
   },
   {
    "duration": 1339,
    "start_time": "2025-04-21T10:42:17.585Z"
   },
   {
    "duration": 0,
    "start_time": "2025-04-21T10:42:18.926Z"
   },
   {
    "duration": 0,
    "start_time": "2025-04-21T10:42:18.928Z"
   },
   {
    "duration": 0,
    "start_time": "2025-04-21T10:42:18.929Z"
   },
   {
    "duration": 0,
    "start_time": "2025-04-21T10:42:18.930Z"
   },
   {
    "duration": 0,
    "start_time": "2025-04-21T10:42:18.932Z"
   },
   {
    "duration": 0,
    "start_time": "2025-04-21T10:42:18.933Z"
   },
   {
    "duration": 0,
    "start_time": "2025-04-21T10:42:18.934Z"
   },
   {
    "duration": 0,
    "start_time": "2025-04-21T10:42:18.935Z"
   },
   {
    "duration": 0,
    "start_time": "2025-04-21T10:42:18.936Z"
   },
   {
    "duration": 0,
    "start_time": "2025-04-21T10:42:18.937Z"
   },
   {
    "duration": 0,
    "start_time": "2025-04-21T10:42:18.938Z"
   },
   {
    "duration": 0,
    "start_time": "2025-04-21T10:42:18.962Z"
   },
   {
    "duration": 0,
    "start_time": "2025-04-21T10:42:18.963Z"
   },
   {
    "duration": 0,
    "start_time": "2025-04-21T10:42:18.964Z"
   },
   {
    "duration": 0,
    "start_time": "2025-04-21T10:42:18.965Z"
   },
   {
    "duration": 0,
    "start_time": "2025-04-21T10:42:18.966Z"
   },
   {
    "duration": 0,
    "start_time": "2025-04-21T10:42:18.967Z"
   },
   {
    "duration": 0,
    "start_time": "2025-04-21T10:42:18.968Z"
   },
   {
    "duration": 0,
    "start_time": "2025-04-21T10:42:18.969Z"
   },
   {
    "duration": 0,
    "start_time": "2025-04-21T10:42:18.970Z"
   },
   {
    "duration": 0,
    "start_time": "2025-04-21T10:42:18.971Z"
   },
   {
    "duration": 0,
    "start_time": "2025-04-21T10:42:18.972Z"
   },
   {
    "duration": 0,
    "start_time": "2025-04-21T10:42:18.973Z"
   },
   {
    "duration": 0,
    "start_time": "2025-04-21T10:42:18.974Z"
   },
   {
    "duration": 0,
    "start_time": "2025-04-21T10:42:18.975Z"
   },
   {
    "duration": 0,
    "start_time": "2025-04-21T10:42:18.976Z"
   },
   {
    "duration": 3,
    "start_time": "2025-04-21T10:42:54.670Z"
   },
   {
    "duration": 2854,
    "start_time": "2025-04-21T10:43:00.394Z"
   },
   {
    "duration": 1349,
    "start_time": "2025-04-21T10:43:03.251Z"
   },
   {
    "duration": 160,
    "start_time": "2025-04-21T10:43:04.602Z"
   },
   {
    "duration": 4,
    "start_time": "2025-04-21T10:43:04.764Z"
   },
   {
    "duration": 21,
    "start_time": "2025-04-21T10:43:04.770Z"
   },
   {
    "duration": 13,
    "start_time": "2025-04-21T10:43:04.792Z"
   },
   {
    "duration": 93,
    "start_time": "2025-04-21T10:43:04.806Z"
   },
   {
    "duration": 8,
    "start_time": "2025-04-21T10:43:04.901Z"
   },
   {
    "duration": 8,
    "start_time": "2025-04-21T10:43:04.911Z"
   },
   {
    "duration": 16,
    "start_time": "2025-04-21T10:43:04.922Z"
   },
   {
    "duration": 448,
    "start_time": "2025-04-21T10:43:04.940Z"
   },
   {
    "duration": 1086,
    "start_time": "2025-04-21T10:43:05.391Z"
   },
   {
    "duration": 355,
    "start_time": "2025-04-21T10:43:06.479Z"
   },
   {
    "duration": 287,
    "start_time": "2025-04-21T10:43:06.836Z"
   },
   {
    "duration": 291,
    "start_time": "2025-04-21T10:43:07.125Z"
   },
   {
    "duration": 381,
    "start_time": "2025-04-21T10:43:07.417Z"
   },
   {
    "duration": 303,
    "start_time": "2025-04-21T10:43:07.800Z"
   },
   {
    "duration": 3557,
    "start_time": "2025-04-21T10:43:08.106Z"
   },
   {
    "duration": 277,
    "start_time": "2025-04-21T10:43:11.665Z"
   },
   {
    "duration": 269,
    "start_time": "2025-04-21T10:43:11.943Z"
   },
   {
    "duration": 224,
    "start_time": "2025-04-21T10:43:12.213Z"
   },
   {
    "duration": 784,
    "start_time": "2025-04-21T10:43:12.439Z"
   },
   {
    "duration": 1049,
    "start_time": "2025-04-21T10:43:13.224Z"
   },
   {
    "duration": 14,
    "start_time": "2025-04-21T10:43:14.275Z"
   },
   {
    "duration": 15,
    "start_time": "2025-04-21T10:43:14.291Z"
   },
   {
    "duration": 5,
    "start_time": "2025-04-21T10:43:14.308Z"
   },
   {
    "duration": 6,
    "start_time": "2025-04-21T10:43:14.315Z"
   },
   {
    "duration": 154,
    "start_time": "2025-04-21T10:43:14.324Z"
   },
   {
    "duration": 5,
    "start_time": "2025-04-21T10:47:18.865Z"
   },
   {
    "duration": 11,
    "start_time": "2025-04-21T10:49:36.167Z"
   },
   {
    "duration": 7,
    "start_time": "2025-04-21T10:49:48.591Z"
   },
   {
    "duration": 2553,
    "start_time": "2025-04-21T10:49:56.703Z"
   },
   {
    "duration": 1287,
    "start_time": "2025-04-21T10:49:59.258Z"
   },
   {
    "duration": 147,
    "start_time": "2025-04-21T10:50:00.547Z"
   },
   {
    "duration": 4,
    "start_time": "2025-04-21T10:50:00.696Z"
   },
   {
    "duration": 28,
    "start_time": "2025-04-21T10:50:00.702Z"
   },
   {
    "duration": 24,
    "start_time": "2025-04-21T10:50:00.732Z"
   },
   {
    "duration": 77,
    "start_time": "2025-04-21T10:50:00.758Z"
   },
   {
    "duration": 7,
    "start_time": "2025-04-21T10:50:00.837Z"
   },
   {
    "duration": 16,
    "start_time": "2025-04-21T10:50:00.845Z"
   },
   {
    "duration": 7,
    "start_time": "2025-04-21T10:50:00.862Z"
   },
   {
    "duration": 430,
    "start_time": "2025-04-21T10:50:00.871Z"
   },
   {
    "duration": 1039,
    "start_time": "2025-04-21T10:50:01.303Z"
   },
   {
    "duration": 359,
    "start_time": "2025-04-21T10:50:02.343Z"
   },
   {
    "duration": 243,
    "start_time": "2025-04-21T10:50:02.705Z"
   },
   {
    "duration": 243,
    "start_time": "2025-04-21T10:50:02.963Z"
   },
   {
    "duration": 379,
    "start_time": "2025-04-21T10:50:03.208Z"
   },
   {
    "duration": 268,
    "start_time": "2025-04-21T10:50:03.589Z"
   },
   {
    "duration": 3688,
    "start_time": "2025-04-21T10:50:03.863Z"
   },
   {
    "duration": 296,
    "start_time": "2025-04-21T10:50:07.554Z"
   },
   {
    "duration": 279,
    "start_time": "2025-04-21T10:50:07.853Z"
   },
   {
    "duration": 270,
    "start_time": "2025-04-21T10:50:08.134Z"
   },
   {
    "duration": 786,
    "start_time": "2025-04-21T10:50:08.406Z"
   },
   {
    "duration": 1036,
    "start_time": "2025-04-21T10:50:09.194Z"
   },
   {
    "duration": 15,
    "start_time": "2025-04-21T10:50:10.232Z"
   },
   {
    "duration": 80,
    "start_time": "2025-04-21T10:50:10.248Z"
   },
   {
    "duration": 12,
    "start_time": "2025-04-21T10:50:10.330Z"
   },
   {
    "duration": 6,
    "start_time": "2025-04-21T10:50:10.344Z"
   },
   {
    "duration": 119,
    "start_time": "2025-04-21T10:50:10.352Z"
   },
   {
    "duration": 0,
    "start_time": "2025-04-21T10:50:10.473Z"
   },
   {
    "duration": 3,
    "start_time": "2025-04-21T10:52:35.944Z"
   },
   {
    "duration": 4,
    "start_time": "2025-04-21T13:23:53.174Z"
   },
   {
    "duration": 4,
    "start_time": "2025-04-21T13:24:02.053Z"
   },
   {
    "duration": 43,
    "start_time": "2025-04-22T08:18:42.454Z"
   },
   {
    "duration": 3172,
    "start_time": "2025-04-22T08:18:58.877Z"
   },
   {
    "duration": 1323,
    "start_time": "2025-04-22T08:19:02.052Z"
   },
   {
    "duration": 173,
    "start_time": "2025-04-22T08:19:03.377Z"
   },
   {
    "duration": 4,
    "start_time": "2025-04-22T08:19:03.551Z"
   },
   {
    "duration": 39,
    "start_time": "2025-04-22T08:19:03.556Z"
   },
   {
    "duration": 25,
    "start_time": "2025-04-22T08:19:03.597Z"
   },
   {
    "duration": 80,
    "start_time": "2025-04-22T08:19:03.623Z"
   },
   {
    "duration": 8,
    "start_time": "2025-04-22T08:19:03.705Z"
   },
   {
    "duration": 24,
    "start_time": "2025-04-22T08:19:03.714Z"
   },
   {
    "duration": 17,
    "start_time": "2025-04-22T08:19:03.740Z"
   },
   {
    "duration": 357,
    "start_time": "2025-04-22T08:19:03.759Z"
   },
   {
    "duration": 945,
    "start_time": "2025-04-22T08:19:04.118Z"
   },
   {
    "duration": 292,
    "start_time": "2025-04-22T08:19:05.064Z"
   },
   {
    "duration": 235,
    "start_time": "2025-04-22T08:19:05.358Z"
   },
   {
    "duration": 195,
    "start_time": "2025-04-22T08:19:05.594Z"
   },
   {
    "duration": 348,
    "start_time": "2025-04-22T08:19:05.790Z"
   },
   {
    "duration": 261,
    "start_time": "2025-04-22T08:19:06.140Z"
   },
   {
    "duration": 2925,
    "start_time": "2025-04-22T08:19:06.403Z"
   },
   {
    "duration": 255,
    "start_time": "2025-04-22T08:19:09.330Z"
   },
   {
    "duration": 225,
    "start_time": "2025-04-22T08:19:09.587Z"
   },
   {
    "duration": 257,
    "start_time": "2025-04-22T08:19:09.813Z"
   },
   {
    "duration": 668,
    "start_time": "2025-04-22T08:19:10.071Z"
   },
   {
    "duration": 933,
    "start_time": "2025-04-22T08:19:10.741Z"
   },
   {
    "duration": 15,
    "start_time": "2025-04-22T08:19:11.675Z"
   },
   {
    "duration": 13,
    "start_time": "2025-04-22T08:19:11.691Z"
   },
   {
    "duration": 7,
    "start_time": "2025-04-22T08:19:11.706Z"
   },
   {
    "duration": 29,
    "start_time": "2025-04-22T08:19:11.714Z"
   },
   {
    "duration": 2,
    "start_time": "2025-04-22T08:19:11.746Z"
   },
   {
    "duration": 6,
    "start_time": "2025-04-22T08:19:11.750Z"
   },
   {
    "duration": 0,
    "start_time": "2025-04-22T08:21:18.788Z"
   },
   {
    "duration": 74,
    "start_time": "2025-04-22T08:21:22.938Z"
   },
   {
    "duration": 88,
    "start_time": "2025-04-22T08:22:11.071Z"
   },
   {
    "duration": 6,
    "start_time": "2025-04-22T08:26:16.374Z"
   },
   {
    "duration": 9,
    "start_time": "2025-04-22T08:51:46.597Z"
   },
   {
    "duration": 9,
    "start_time": "2025-04-22T08:54:21.498Z"
   },
   {
    "duration": 11,
    "start_time": "2025-04-22T08:54:38.705Z"
   },
   {
    "duration": 10,
    "start_time": "2025-04-22T08:55:06.825Z"
   },
   {
    "duration": 9,
    "start_time": "2025-04-22T08:55:20.078Z"
   },
   {
    "duration": 10,
    "start_time": "2025-04-22T08:55:55.951Z"
   },
   {
    "duration": 13,
    "start_time": "2025-04-22T09:04:42.861Z"
   },
   {
    "duration": 11,
    "start_time": "2025-04-22T09:09:39.463Z"
   },
   {
    "duration": 12,
    "start_time": "2025-04-22T09:13:56.777Z"
   },
   {
    "duration": 16,
    "start_time": "2025-04-22T09:17:27.805Z"
   },
   {
    "duration": 11,
    "start_time": "2025-04-22T09:18:14.708Z"
   },
   {
    "duration": 12,
    "start_time": "2025-04-22T09:18:23.365Z"
   },
   {
    "duration": 11,
    "start_time": "2025-04-22T09:18:29.285Z"
   },
   {
    "duration": 12,
    "start_time": "2025-04-22T09:18:43.229Z"
   },
   {
    "duration": 11,
    "start_time": "2025-04-22T09:19:03.306Z"
   },
   {
    "duration": 12,
    "start_time": "2025-04-22T09:22:29.419Z"
   },
   {
    "duration": 12,
    "start_time": "2025-04-22T09:25:10.790Z"
   },
   {
    "duration": 12,
    "start_time": "2025-04-22T09:25:58.113Z"
   },
   {
    "duration": 10,
    "start_time": "2025-04-22T09:33:09.002Z"
   },
   {
    "duration": 51,
    "start_time": "2025-04-22T09:39:30.294Z"
   },
   {
    "duration": 13,
    "start_time": "2025-04-22T09:40:30.002Z"
   },
   {
    "duration": 11,
    "start_time": "2025-04-22T09:41:01.213Z"
   },
   {
    "duration": 13,
    "start_time": "2025-04-22T09:41:31.255Z"
   },
   {
    "duration": 11,
    "start_time": "2025-04-22T09:43:36.739Z"
   },
   {
    "duration": 11,
    "start_time": "2025-04-22T09:43:44.686Z"
   },
   {
    "duration": 11,
    "start_time": "2025-04-22T09:43:49.462Z"
   },
   {
    "duration": 9,
    "start_time": "2025-04-22T10:35:20.330Z"
   },
   {
    "duration": 10,
    "start_time": "2025-04-22T10:35:59.114Z"
   },
   {
    "duration": 11,
    "start_time": "2025-04-22T10:36:26.336Z"
   },
   {
    "duration": 12,
    "start_time": "2025-04-22T10:36:48.380Z"
   },
   {
    "duration": 11,
    "start_time": "2025-04-22T10:37:10.042Z"
   },
   {
    "duration": 4,
    "start_time": "2025-04-22T10:37:49.289Z"
   },
   {
    "duration": 8,
    "start_time": "2025-04-22T10:37:54.920Z"
   },
   {
    "duration": 11,
    "start_time": "2025-04-22T10:38:53.606Z"
   },
   {
    "duration": 10,
    "start_time": "2025-04-22T10:39:26.626Z"
   },
   {
    "duration": 9,
    "start_time": "2025-04-22T10:42:35.880Z"
   },
   {
    "duration": 9,
    "start_time": "2025-04-22T10:43:02.084Z"
   },
   {
    "duration": 10,
    "start_time": "2025-04-22T10:44:25.912Z"
   },
   {
    "duration": 3550,
    "start_time": "2025-04-22T16:52:53.754Z"
   },
   {
    "duration": 1561,
    "start_time": "2025-04-22T16:52:57.306Z"
   },
   {
    "duration": 112,
    "start_time": "2025-04-22T16:52:58.868Z"
   },
   {
    "duration": 4,
    "start_time": "2025-04-22T16:52:58.982Z"
   },
   {
    "duration": 8,
    "start_time": "2025-04-22T16:52:58.988Z"
   },
   {
    "duration": 18,
    "start_time": "2025-04-22T16:52:58.998Z"
   },
   {
    "duration": 155,
    "start_time": "2025-04-22T16:52:59.018Z"
   },
   {
    "duration": 8,
    "start_time": "2025-04-22T16:52:59.174Z"
   },
   {
    "duration": 5,
    "start_time": "2025-04-22T16:52:59.183Z"
   },
   {
    "duration": 28,
    "start_time": "2025-04-22T16:52:59.189Z"
   },
   {
    "duration": 410,
    "start_time": "2025-04-22T16:52:59.218Z"
   },
   {
    "duration": 1121,
    "start_time": "2025-04-22T16:52:59.630Z"
   },
   {
    "duration": 368,
    "start_time": "2025-04-22T16:53:00.753Z"
   },
   {
    "duration": 262,
    "start_time": "2025-04-22T16:53:01.125Z"
   },
   {
    "duration": 265,
    "start_time": "2025-04-22T16:53:01.389Z"
   },
   {
    "duration": 419,
    "start_time": "2025-04-22T16:53:01.656Z"
   },
   {
    "duration": 313,
    "start_time": "2025-04-22T16:53:02.078Z"
   },
   {
    "duration": 3573,
    "start_time": "2025-04-22T16:53:02.393Z"
   },
   {
    "duration": 294,
    "start_time": "2025-04-22T16:53:05.968Z"
   },
   {
    "duration": 287,
    "start_time": "2025-04-22T16:53:06.265Z"
   },
   {
    "duration": 222,
    "start_time": "2025-04-22T16:53:06.554Z"
   },
   {
    "duration": 862,
    "start_time": "2025-04-22T16:53:06.777Z"
   },
   {
    "duration": 1109,
    "start_time": "2025-04-22T16:53:07.642Z"
   },
   {
    "duration": 18,
    "start_time": "2025-04-22T16:53:08.753Z"
   },
   {
    "duration": 35,
    "start_time": "2025-04-22T16:53:08.773Z"
   },
   {
    "duration": 19,
    "start_time": "2025-04-22T16:53:08.810Z"
   },
   {
    "duration": 45,
    "start_time": "2025-04-22T16:53:08.832Z"
   },
   {
    "duration": 21,
    "start_time": "2025-04-22T16:53:08.879Z"
   },
   {
    "duration": 174,
    "start_time": "2025-04-22T16:53:08.902Z"
   },
   {
    "duration": 64,
    "start_time": "2025-04-22T16:53:09.077Z"
   },
   {
    "duration": 51,
    "start_time": "2025-04-22T16:53:09.143Z"
   },
   {
    "duration": 56,
    "start_time": "2025-04-22T16:53:09.197Z"
   },
   {
    "duration": 123,
    "start_time": "2025-04-22T16:53:09.255Z"
   },
   {
    "duration": 140,
    "start_time": "2025-04-22T16:53:09.380Z"
   },
   {
    "duration": 22,
    "start_time": "2025-04-22T16:53:09.522Z"
   },
   {
    "duration": 3780,
    "start_time": "2025-04-22T17:43:35.135Z"
   },
   {
    "duration": 2531,
    "start_time": "2025-04-22T17:43:38.918Z"
   },
   {
    "duration": 147,
    "start_time": "2025-04-22T17:43:41.451Z"
   },
   {
    "duration": 4,
    "start_time": "2025-04-22T17:43:41.600Z"
   },
   {
    "duration": 44,
    "start_time": "2025-04-22T17:43:41.607Z"
   },
   {
    "duration": 12,
    "start_time": "2025-04-22T17:43:41.653Z"
   },
   {
    "duration": 78,
    "start_time": "2025-04-22T17:43:41.667Z"
   },
   {
    "duration": 9,
    "start_time": "2025-04-22T17:43:41.747Z"
   },
   {
    "duration": 23,
    "start_time": "2025-04-22T17:43:41.757Z"
   },
   {
    "duration": 23,
    "start_time": "2025-04-22T17:43:41.782Z"
   },
   {
    "duration": 461,
    "start_time": "2025-04-22T17:43:41.806Z"
   },
   {
    "duration": 1118,
    "start_time": "2025-04-22T17:43:42.269Z"
   },
   {
    "duration": 373,
    "start_time": "2025-04-22T17:43:43.388Z"
   },
   {
    "duration": 265,
    "start_time": "2025-04-22T17:43:43.764Z"
   },
   {
    "duration": 268,
    "start_time": "2025-04-22T17:43:44.031Z"
   },
   {
    "duration": 398,
    "start_time": "2025-04-22T17:43:44.300Z"
   },
   {
    "duration": 341,
    "start_time": "2025-04-22T17:43:44.700Z"
   },
   {
    "duration": 3721,
    "start_time": "2025-04-22T17:43:45.043Z"
   },
   {
    "duration": 266,
    "start_time": "2025-04-22T17:43:48.765Z"
   },
   {
    "duration": 280,
    "start_time": "2025-04-22T17:43:49.033Z"
   },
   {
    "duration": 224,
    "start_time": "2025-04-22T17:43:49.315Z"
   },
   {
    "duration": 853,
    "start_time": "2025-04-22T17:43:49.540Z"
   },
   {
    "duration": 1046,
    "start_time": "2025-04-22T17:43:50.395Z"
   },
   {
    "duration": 28,
    "start_time": "2025-04-22T17:43:51.443Z"
   },
   {
    "duration": 28,
    "start_time": "2025-04-22T17:43:51.474Z"
   },
   {
    "duration": 15,
    "start_time": "2025-04-22T17:43:51.503Z"
   },
   {
    "duration": 12,
    "start_time": "2025-04-22T17:43:51.520Z"
   },
   {
    "duration": 21,
    "start_time": "2025-04-22T17:43:51.534Z"
   },
   {
    "duration": 10,
    "start_time": "2025-04-22T17:43:51.557Z"
   },
   {
    "duration": 20,
    "start_time": "2025-04-22T17:43:51.568Z"
   },
   {
    "duration": 34,
    "start_time": "2025-04-22T17:43:51.589Z"
   },
   {
    "duration": 34,
    "start_time": "2025-04-22T17:43:51.625Z"
   },
   {
    "duration": 42,
    "start_time": "2025-04-22T17:43:51.661Z"
   },
   {
    "duration": 87,
    "start_time": "2025-04-22T17:43:51.705Z"
   },
   {
    "duration": 33,
    "start_time": "2025-04-22T17:43:51.793Z"
   },
   {
    "duration": 119,
    "start_time": "2025-04-22T17:47:57.865Z"
   },
   {
    "duration": 2376,
    "start_time": "2025-04-22T17:48:04.950Z"
   },
   {
    "duration": 14,
    "start_time": "2025-04-22T17:48:13.566Z"
   },
   {
    "duration": 47,
    "start_time": "2025-04-23T07:42:26.822Z"
   },
   {
    "duration": 3684,
    "start_time": "2025-04-23T07:42:52.263Z"
   },
   {
    "duration": 1389,
    "start_time": "2025-04-23T07:42:55.949Z"
   },
   {
    "duration": 206,
    "start_time": "2025-04-23T07:42:57.340Z"
   },
   {
    "duration": 3,
    "start_time": "2025-04-23T07:42:57.548Z"
   },
   {
    "duration": 40,
    "start_time": "2025-04-23T07:42:57.552Z"
   },
   {
    "duration": 15,
    "start_time": "2025-04-23T07:42:57.594Z"
   },
   {
    "duration": 64,
    "start_time": "2025-04-23T07:42:57.611Z"
   },
   {
    "duration": 6,
    "start_time": "2025-04-23T07:42:57.677Z"
   },
   {
    "duration": 60,
    "start_time": "2025-04-23T07:42:57.685Z"
   },
   {
    "duration": 28,
    "start_time": "2025-04-23T07:42:57.747Z"
   },
   {
    "duration": 410,
    "start_time": "2025-04-23T07:42:57.776Z"
   },
   {
    "duration": 965,
    "start_time": "2025-04-23T07:42:58.188Z"
   },
   {
    "duration": 329,
    "start_time": "2025-04-23T07:42:59.156Z"
   },
   {
    "duration": 233,
    "start_time": "2025-04-23T07:42:59.487Z"
   },
   {
    "duration": 251,
    "start_time": "2025-04-23T07:42:59.722Z"
   },
   {
    "duration": 391,
    "start_time": "2025-04-23T07:42:59.975Z"
   },
   {
    "duration": 270,
    "start_time": "2025-04-23T07:43:00.368Z"
   },
   {
    "duration": 3365,
    "start_time": "2025-04-23T07:43:00.640Z"
   },
   {
    "duration": 261,
    "start_time": "2025-04-23T07:43:04.007Z"
   },
   {
    "duration": 258,
    "start_time": "2025-04-23T07:43:04.272Z"
   },
   {
    "duration": 281,
    "start_time": "2025-04-23T07:43:04.532Z"
   },
   {
    "duration": 730,
    "start_time": "2025-04-23T07:43:04.815Z"
   },
   {
    "duration": 987,
    "start_time": "2025-04-23T07:43:05.547Z"
   },
   {
    "duration": 13,
    "start_time": "2025-04-23T07:43:06.536Z"
   },
   {
    "duration": 35,
    "start_time": "2025-04-23T07:43:06.551Z"
   },
   {
    "duration": 6,
    "start_time": "2025-04-23T07:43:06.587Z"
   },
   {
    "duration": 32,
    "start_time": "2025-04-23T07:43:06.594Z"
   },
   {
    "duration": 19,
    "start_time": "2025-04-23T07:43:06.629Z"
   },
   {
    "duration": 38,
    "start_time": "2025-04-23T07:43:06.650Z"
   },
   {
    "duration": 37,
    "start_time": "2025-04-23T07:43:06.689Z"
   },
   {
    "duration": 11,
    "start_time": "2025-04-23T07:43:06.728Z"
   },
   {
    "duration": 13,
    "start_time": "2025-04-23T07:43:06.741Z"
   },
   {
    "duration": 34,
    "start_time": "2025-04-23T07:43:06.757Z"
   },
   {
    "duration": 19,
    "start_time": "2025-04-23T07:43:06.794Z"
   },
   {
    "duration": 29,
    "start_time": "2025-04-23T07:43:06.815Z"
   },
   {
    "duration": 387,
    "start_time": "2025-04-23T07:44:46.557Z"
   },
   {
    "duration": 310,
    "start_time": "2025-04-23T07:44:58.823Z"
   },
   {
    "duration": 433,
    "start_time": "2025-04-23T07:45:19.686Z"
   },
   {
    "duration": 523,
    "start_time": "2025-04-23T07:45:34.208Z"
   },
   {
    "duration": 59,
    "start_time": "2025-04-23T10:05:26.592Z"
   },
   {
    "duration": 3503,
    "start_time": "2025-04-23T10:05:32.425Z"
   },
   {
    "duration": 1445,
    "start_time": "2025-04-23T10:05:35.931Z"
   },
   {
    "duration": 245,
    "start_time": "2025-04-23T10:05:37.378Z"
   },
   {
    "duration": 5,
    "start_time": "2025-04-23T10:05:37.625Z"
   },
   {
    "duration": 32,
    "start_time": "2025-04-23T10:05:37.631Z"
   },
   {
    "duration": 24,
    "start_time": "2025-04-23T10:05:37.665Z"
   },
   {
    "duration": 75,
    "start_time": "2025-04-23T10:05:37.692Z"
   },
   {
    "duration": 7,
    "start_time": "2025-04-23T10:05:37.769Z"
   },
   {
    "duration": 4,
    "start_time": "2025-04-23T10:05:37.777Z"
   },
   {
    "duration": 16,
    "start_time": "2025-04-23T10:05:37.783Z"
   },
   {
    "duration": 441,
    "start_time": "2025-04-23T10:05:37.802Z"
   },
   {
    "duration": 1075,
    "start_time": "2025-04-23T10:05:38.244Z"
   },
   {
    "duration": 348,
    "start_time": "2025-04-23T10:05:39.321Z"
   },
   {
    "duration": 258,
    "start_time": "2025-04-23T10:05:39.670Z"
   },
   {
    "duration": 258,
    "start_time": "2025-04-23T10:05:39.930Z"
   },
   {
    "duration": 504,
    "start_time": "2025-04-23T10:05:40.190Z"
   },
   {
    "duration": 337,
    "start_time": "2025-04-23T10:05:40.696Z"
   },
   {
    "duration": 3453,
    "start_time": "2025-04-23T10:05:41.039Z"
   },
   {
    "duration": 310,
    "start_time": "2025-04-23T10:05:44.494Z"
   },
   {
    "duration": 259,
    "start_time": "2025-04-23T10:05:44.805Z"
   },
   {
    "duration": 234,
    "start_time": "2025-04-23T10:05:45.065Z"
   },
   {
    "duration": 774,
    "start_time": "2025-04-23T10:05:45.301Z"
   },
   {
    "duration": 996,
    "start_time": "2025-04-23T10:05:46.077Z"
   },
   {
    "duration": 16,
    "start_time": "2025-04-23T10:05:47.074Z"
   },
   {
    "duration": 14,
    "start_time": "2025-04-23T10:05:47.092Z"
   },
   {
    "duration": 5,
    "start_time": "2025-04-23T10:05:47.107Z"
   },
   {
    "duration": 8,
    "start_time": "2025-04-23T10:05:47.142Z"
   },
   {
    "duration": 3,
    "start_time": "2025-04-23T10:05:47.157Z"
   },
   {
    "duration": 6,
    "start_time": "2025-04-23T10:05:47.161Z"
   },
   {
    "duration": 11,
    "start_time": "2025-04-23T10:05:47.169Z"
   },
   {
    "duration": 10,
    "start_time": "2025-04-23T10:05:47.181Z"
   },
   {
    "duration": 15,
    "start_time": "2025-04-23T10:05:47.193Z"
   },
   {
    "duration": 47,
    "start_time": "2025-04-23T10:05:47.209Z"
   },
   {
    "duration": 14,
    "start_time": "2025-04-23T10:05:47.258Z"
   },
   {
    "duration": 9,
    "start_time": "2025-04-23T10:05:47.273Z"
   },
   {
    "duration": 15,
    "start_time": "2025-04-23T10:06:10.165Z"
   },
   {
    "duration": 10,
    "start_time": "2025-04-23T10:07:01.043Z"
   },
   {
    "duration": 128,
    "start_time": "2025-04-23T10:09:56.751Z"
   },
   {
    "duration": 15,
    "start_time": "2025-04-23T10:10:23.019Z"
   },
   {
    "duration": 16,
    "start_time": "2025-04-23T10:10:40.160Z"
   },
   {
    "duration": 14,
    "start_time": "2025-04-23T10:10:56.012Z"
   },
   {
    "duration": 283,
    "start_time": "2025-04-23T10:12:17.017Z"
   },
   {
    "duration": 381,
    "start_time": "2025-04-23T10:12:26.398Z"
   },
   {
    "duration": 6,
    "start_time": "2025-04-23T10:14:22.364Z"
   },
   {
    "duration": 13,
    "start_time": "2025-04-23T10:16:12.019Z"
   },
   {
    "duration": 5,
    "start_time": "2025-04-23T10:16:30.772Z"
   },
   {
    "duration": 5,
    "start_time": "2025-04-23T10:17:15.969Z"
   },
   {
    "duration": 287,
    "start_time": "2025-04-23T10:21:32.635Z"
   },
   {
    "duration": 2445,
    "start_time": "2025-04-23T10:22:44.434Z"
   },
   {
    "duration": 1413,
    "start_time": "2025-04-23T10:22:46.881Z"
   },
   {
    "duration": 199,
    "start_time": "2025-04-23T10:22:48.297Z"
   },
   {
    "duration": 3,
    "start_time": "2025-04-23T10:22:48.498Z"
   },
   {
    "duration": 26,
    "start_time": "2025-04-23T10:22:48.502Z"
   },
   {
    "duration": 12,
    "start_time": "2025-04-23T10:22:48.530Z"
   },
   {
    "duration": 79,
    "start_time": "2025-04-23T10:22:48.544Z"
   },
   {
    "duration": 7,
    "start_time": "2025-04-23T10:22:48.625Z"
   },
   {
    "duration": 18,
    "start_time": "2025-04-23T10:22:48.634Z"
   },
   {
    "duration": 393,
    "start_time": "2025-04-23T10:22:48.656Z"
   },
   {
    "duration": 985,
    "start_time": "2025-04-23T10:22:49.055Z"
   },
   {
    "duration": 326,
    "start_time": "2025-04-23T10:22:50.042Z"
   },
   {
    "duration": 235,
    "start_time": "2025-04-23T10:22:50.370Z"
   },
   {
    "duration": 273,
    "start_time": "2025-04-23T10:22:50.606Z"
   },
   {
    "duration": 502,
    "start_time": "2025-04-23T10:22:50.881Z"
   },
   {
    "duration": 276,
    "start_time": "2025-04-23T10:22:51.384Z"
   },
   {
    "duration": 3386,
    "start_time": "2025-04-23T10:22:51.661Z"
   },
   {
    "duration": 269,
    "start_time": "2025-04-23T10:22:55.048Z"
   },
   {
    "duration": 6,
    "start_time": "2025-04-23T10:22:55.319Z"
   },
   {
    "duration": 30,
    "start_time": "2025-04-23T10:22:55.326Z"
   },
   {
    "duration": 332,
    "start_time": "2025-04-23T10:22:55.358Z"
   },
   {
    "duration": 310,
    "start_time": "2025-04-23T10:22:55.692Z"
   },
   {
    "duration": 742,
    "start_time": "2025-04-23T10:22:56.004Z"
   },
   {
    "duration": 1055,
    "start_time": "2025-04-23T10:22:56.749Z"
   },
   {
    "duration": 14,
    "start_time": "2025-04-23T10:22:57.806Z"
   },
   {
    "duration": 27,
    "start_time": "2025-04-23T10:22:57.822Z"
   },
   {
    "duration": 11,
    "start_time": "2025-04-23T10:22:57.851Z"
   },
   {
    "duration": 42,
    "start_time": "2025-04-23T10:22:57.866Z"
   },
   {
    "duration": 21,
    "start_time": "2025-04-23T10:22:57.910Z"
   },
   {
    "duration": 5,
    "start_time": "2025-04-23T10:22:57.932Z"
   },
   {
    "duration": 14,
    "start_time": "2025-04-23T10:22:57.939Z"
   },
   {
    "duration": 32,
    "start_time": "2025-04-23T10:22:57.955Z"
   },
   {
    "duration": 15,
    "start_time": "2025-04-23T10:22:57.989Z"
   },
   {
    "duration": 12,
    "start_time": "2025-04-23T10:22:58.005Z"
   },
   {
    "duration": 29,
    "start_time": "2025-04-23T10:22:58.018Z"
   },
   {
    "duration": 8,
    "start_time": "2025-04-23T10:22:58.054Z"
   },
   {
    "duration": 13,
    "start_time": "2025-04-23T10:30:54.064Z"
   },
   {
    "duration": 14,
    "start_time": "2025-04-23T10:30:57.438Z"
   },
   {
    "duration": 6,
    "start_time": "2025-04-23T10:31:52.119Z"
   },
   {
    "duration": 2250,
    "start_time": "2025-04-23T10:33:23.197Z"
   },
   {
    "duration": 15,
    "start_time": "2025-04-23T10:34:59.104Z"
   },
   {
    "duration": 106,
    "start_time": "2025-04-23T10:35:26.137Z"
   },
   {
    "duration": 19,
    "start_time": "2025-04-23T10:35:33.230Z"
   },
   {
    "duration": 16,
    "start_time": "2025-04-23T10:35:48.065Z"
   },
   {
    "duration": 14,
    "start_time": "2025-04-23T10:36:42.017Z"
   },
   {
    "duration": 15,
    "start_time": "2025-04-23T10:36:58.400Z"
   },
   {
    "duration": 14,
    "start_time": "2025-04-23T10:37:09.294Z"
   },
   {
    "duration": 14,
    "start_time": "2025-04-23T10:37:49.828Z"
   },
   {
    "duration": 328,
    "start_time": "2025-04-23T10:37:55.505Z"
   },
   {
    "duration": 14,
    "start_time": "2025-04-23T10:38:10.156Z"
   },
   {
    "duration": 14,
    "start_time": "2025-04-23T10:38:17.175Z"
   },
   {
    "duration": 14,
    "start_time": "2025-04-23T10:38:24.932Z"
   },
   {
    "duration": 2309,
    "start_time": "2025-04-23T10:38:34.649Z"
   },
   {
    "duration": 1196,
    "start_time": "2025-04-23T10:38:36.960Z"
   },
   {
    "duration": 121,
    "start_time": "2025-04-23T10:38:38.157Z"
   },
   {
    "duration": 3,
    "start_time": "2025-04-23T10:38:38.280Z"
   },
   {
    "duration": 14,
    "start_time": "2025-04-23T10:38:38.284Z"
   },
   {
    "duration": 10,
    "start_time": "2025-04-23T10:38:38.299Z"
   },
   {
    "duration": 97,
    "start_time": "2025-04-23T10:38:38.310Z"
   },
   {
    "duration": 7,
    "start_time": "2025-04-23T10:38:38.409Z"
   },
   {
    "duration": 16,
    "start_time": "2025-04-23T10:38:38.418Z"
   },
   {
    "duration": 388,
    "start_time": "2025-04-23T10:38:38.436Z"
   },
   {
    "duration": 1010,
    "start_time": "2025-04-23T10:38:38.825Z"
   },
   {
    "duration": 319,
    "start_time": "2025-04-23T10:38:39.838Z"
   },
   {
    "duration": 236,
    "start_time": "2025-04-23T10:38:40.158Z"
   },
   {
    "duration": 254,
    "start_time": "2025-04-23T10:38:40.397Z"
   },
   {
    "duration": 472,
    "start_time": "2025-04-23T10:38:40.653Z"
   },
   {
    "duration": 282,
    "start_time": "2025-04-23T10:38:41.127Z"
   },
   {
    "duration": 3234,
    "start_time": "2025-04-23T10:38:41.411Z"
   },
   {
    "duration": 248,
    "start_time": "2025-04-23T10:38:44.648Z"
   },
   {
    "duration": 7,
    "start_time": "2025-04-23T10:38:44.898Z"
   },
   {
    "duration": 4,
    "start_time": "2025-04-23T10:38:44.906Z"
   },
   {
    "duration": 296,
    "start_time": "2025-04-23T10:38:44.912Z"
   },
   {
    "duration": 286,
    "start_time": "2025-04-23T10:38:45.210Z"
   },
   {
    "duration": 710,
    "start_time": "2025-04-23T10:38:45.498Z"
   },
   {
    "duration": 941,
    "start_time": "2025-04-23T10:38:46.209Z"
   },
   {
    "duration": 15,
    "start_time": "2025-04-23T10:38:47.152Z"
   },
   {
    "duration": 12,
    "start_time": "2025-04-23T10:38:47.169Z"
   },
   {
    "duration": 5,
    "start_time": "2025-04-23T10:38:47.183Z"
   },
   {
    "duration": 6,
    "start_time": "2025-04-23T10:38:47.191Z"
   },
   {
    "duration": 13,
    "start_time": "2025-04-23T10:38:47.199Z"
   },
   {
    "duration": 4,
    "start_time": "2025-04-23T10:38:47.238Z"
   },
   {
    "duration": 16,
    "start_time": "2025-04-23T10:38:47.244Z"
   },
   {
    "duration": 18,
    "start_time": "2025-04-23T10:38:47.262Z"
   },
   {
    "duration": 12,
    "start_time": "2025-04-23T10:38:47.281Z"
   },
   {
    "duration": 12,
    "start_time": "2025-04-23T10:38:47.295Z"
   },
   {
    "duration": 33,
    "start_time": "2025-04-23T10:38:47.308Z"
   },
   {
    "duration": 10,
    "start_time": "2025-04-23T10:38:47.342Z"
   },
   {
    "duration": 4,
    "start_time": "2025-04-23T10:40:42.184Z"
   },
   {
    "duration": 1447,
    "start_time": "2025-04-23T10:40:49.796Z"
   },
   {
    "duration": 730,
    "start_time": "2025-04-23T10:41:05.319Z"
   },
   {
    "duration": 2341,
    "start_time": "2025-04-23T10:41:16.648Z"
   },
   {
    "duration": 1135,
    "start_time": "2025-04-23T10:41:18.991Z"
   },
   {
    "duration": 127,
    "start_time": "2025-04-23T10:41:20.127Z"
   },
   {
    "duration": 3,
    "start_time": "2025-04-23T10:41:20.256Z"
   },
   {
    "duration": 29,
    "start_time": "2025-04-23T10:41:20.262Z"
   },
   {
    "duration": 9,
    "start_time": "2025-04-23T10:41:20.292Z"
   },
   {
    "duration": 88,
    "start_time": "2025-04-23T10:41:20.303Z"
   },
   {
    "duration": 7,
    "start_time": "2025-04-23T10:41:20.393Z"
   },
   {
    "duration": 26,
    "start_time": "2025-04-23T10:41:20.401Z"
   },
   {
    "duration": 10,
    "start_time": "2025-04-23T10:41:20.429Z"
   },
   {
    "duration": 387,
    "start_time": "2025-04-23T10:41:20.440Z"
   },
   {
    "duration": 946,
    "start_time": "2025-04-23T10:41:20.828Z"
   },
   {
    "duration": 324,
    "start_time": "2025-04-23T10:41:21.776Z"
   },
   {
    "duration": 273,
    "start_time": "2025-04-23T10:41:22.102Z"
   },
   {
    "duration": 217,
    "start_time": "2025-04-23T10:41:22.377Z"
   },
   {
    "duration": 446,
    "start_time": "2025-04-23T10:41:22.596Z"
   },
   {
    "duration": 269,
    "start_time": "2025-04-23T10:41:23.044Z"
   },
   {
    "duration": 3115,
    "start_time": "2025-04-23T10:41:23.315Z"
   },
   {
    "duration": 253,
    "start_time": "2025-04-23T10:41:26.440Z"
   },
   {
    "duration": 5,
    "start_time": "2025-04-23T10:41:26.695Z"
   },
   {
    "duration": 8,
    "start_time": "2025-04-23T10:41:26.701Z"
   },
   {
    "duration": 288,
    "start_time": "2025-04-23T10:41:26.710Z"
   },
   {
    "duration": 289,
    "start_time": "2025-04-23T10:41:27.000Z"
   },
   {
    "duration": 731,
    "start_time": "2025-04-23T10:41:27.291Z"
   },
   {
    "duration": 931,
    "start_time": "2025-04-23T10:41:28.023Z"
   },
   {
    "duration": 15,
    "start_time": "2025-04-23T10:41:28.955Z"
   },
   {
    "duration": 13,
    "start_time": "2025-04-23T10:41:28.972Z"
   },
   {
    "duration": 5,
    "start_time": "2025-04-23T10:41:28.988Z"
   },
   {
    "duration": 33,
    "start_time": "2025-04-23T10:41:28.994Z"
   },
   {
    "duration": 17,
    "start_time": "2025-04-23T10:41:29.029Z"
   },
   {
    "duration": 5,
    "start_time": "2025-04-23T10:41:29.048Z"
   },
   {
    "duration": 13,
    "start_time": "2025-04-23T10:41:29.054Z"
   },
   {
    "duration": 11,
    "start_time": "2025-04-23T10:41:29.069Z"
   },
   {
    "duration": 14,
    "start_time": "2025-04-23T10:41:29.082Z"
   },
   {
    "duration": 11,
    "start_time": "2025-04-23T10:41:29.097Z"
   },
   {
    "duration": 35,
    "start_time": "2025-04-23T10:41:29.110Z"
   },
   {
    "duration": 9,
    "start_time": "2025-04-23T10:41:29.147Z"
   },
   {
    "duration": 15,
    "start_time": "2025-04-23T10:45:29.521Z"
   },
   {
    "duration": 106,
    "start_time": "2025-04-23T11:17:22.063Z"
   },
   {
    "duration": 16,
    "start_time": "2025-04-23T11:17:48.050Z"
   },
   {
    "duration": 14,
    "start_time": "2025-04-23T11:18:44.055Z"
   },
   {
    "duration": 5,
    "start_time": "2025-04-23T11:19:51.454Z"
   },
   {
    "duration": 12,
    "start_time": "2025-04-23T11:20:05.497Z"
   },
   {
    "duration": 6,
    "start_time": "2025-04-23T11:20:59.209Z"
   },
   {
    "duration": 16,
    "start_time": "2025-04-23T11:21:51.555Z"
   },
   {
    "duration": 12,
    "start_time": "2025-04-23T11:22:16.257Z"
   },
   {
    "duration": 6,
    "start_time": "2025-04-23T11:24:50.717Z"
   },
   {
    "duration": 5,
    "start_time": "2025-04-23T11:25:10.533Z"
   },
   {
    "duration": 5,
    "start_time": "2025-04-23T11:25:18.250Z"
   },
   {
    "duration": 14,
    "start_time": "2025-04-23T11:26:06.023Z"
   },
   {
    "duration": 13,
    "start_time": "2025-04-23T11:26:23.999Z"
   },
   {
    "duration": 16,
    "start_time": "2025-04-23T11:26:46.163Z"
   },
   {
    "duration": 11,
    "start_time": "2025-04-23T11:26:57.864Z"
   },
   {
    "duration": 4,
    "start_time": "2025-04-23T11:32:39.438Z"
   },
   {
    "duration": 4,
    "start_time": "2025-04-23T11:33:00.346Z"
   },
   {
    "duration": 4,
    "start_time": "2025-04-23T11:33:06.050Z"
   },
   {
    "duration": 318,
    "start_time": "2025-04-23T14:39:40.390Z"
   },
   {
    "duration": 2359,
    "start_time": "2025-04-23T15:52:09.374Z"
   },
   {
    "duration": 1221,
    "start_time": "2025-04-23T15:52:11.736Z"
   },
   {
    "duration": 128,
    "start_time": "2025-04-23T15:52:12.959Z"
   },
   {
    "duration": 4,
    "start_time": "2025-04-23T15:52:13.089Z"
   },
   {
    "duration": 24,
    "start_time": "2025-04-23T15:52:13.094Z"
   },
   {
    "duration": 9,
    "start_time": "2025-04-23T15:52:13.120Z"
   },
   {
    "duration": 72,
    "start_time": "2025-04-23T15:52:13.131Z"
   },
   {
    "duration": 7,
    "start_time": "2025-04-23T15:52:13.205Z"
   },
   {
    "duration": 14,
    "start_time": "2025-04-23T15:52:13.213Z"
   },
   {
    "duration": 368,
    "start_time": "2025-04-23T15:52:13.229Z"
   },
   {
    "duration": 965,
    "start_time": "2025-04-23T15:52:13.599Z"
   },
   {
    "duration": 311,
    "start_time": "2025-04-23T15:52:14.566Z"
   },
   {
    "duration": 222,
    "start_time": "2025-04-23T15:52:14.878Z"
   },
   {
    "duration": 253,
    "start_time": "2025-04-23T15:52:15.102Z"
   },
   {
    "duration": 446,
    "start_time": "2025-04-23T15:52:15.356Z"
   },
   {
    "duration": 290,
    "start_time": "2025-04-23T15:52:15.804Z"
   },
   {
    "duration": 3105,
    "start_time": "2025-04-23T15:52:16.096Z"
   },
   {
    "duration": 5,
    "start_time": "2025-04-23T15:52:19.203Z"
   },
   {
    "duration": 28,
    "start_time": "2025-04-23T15:52:19.209Z"
   },
   {
    "duration": 268,
    "start_time": "2025-04-23T15:52:19.238Z"
   },
   {
    "duration": 277,
    "start_time": "2025-04-23T15:52:19.508Z"
   },
   {
    "duration": 300,
    "start_time": "2025-04-23T15:52:19.786Z"
   },
   {
    "duration": 710,
    "start_time": "2025-04-23T15:52:20.087Z"
   },
   {
    "duration": 955,
    "start_time": "2025-04-23T15:52:20.799Z"
   },
   {
    "duration": 14,
    "start_time": "2025-04-23T15:52:21.755Z"
   },
   {
    "duration": 25,
    "start_time": "2025-04-23T15:52:21.770Z"
   },
   {
    "duration": 44,
    "start_time": "2025-04-23T15:52:21.797Z"
   },
   {
    "duration": 41,
    "start_time": "2025-04-23T15:52:21.844Z"
   },
   {
    "duration": 53,
    "start_time": "2025-04-23T15:52:21.886Z"
   },
   {
    "duration": 30,
    "start_time": "2025-04-23T15:52:21.941Z"
   },
   {
    "duration": 41,
    "start_time": "2025-04-23T15:52:21.973Z"
   },
   {
    "duration": 33,
    "start_time": "2025-04-23T15:52:22.016Z"
   },
   {
    "duration": 49,
    "start_time": "2025-04-23T15:52:22.050Z"
   },
   {
    "duration": 31,
    "start_time": "2025-04-23T15:52:22.101Z"
   },
   {
    "duration": 58,
    "start_time": "2025-04-23T15:52:22.134Z"
   },
   {
    "duration": 47,
    "start_time": "2025-04-23T15:52:22.193Z"
   },
   {
    "duration": 2476,
    "start_time": "2025-04-23T16:26:02.811Z"
   },
   {
    "duration": 2295,
    "start_time": "2025-04-23T16:26:05.289Z"
   },
   {
    "duration": 265,
    "start_time": "2025-04-23T16:26:07.586Z"
   },
   {
    "duration": 4,
    "start_time": "2025-04-23T16:26:07.852Z"
   },
   {
    "duration": 17,
    "start_time": "2025-04-23T16:26:07.859Z"
   },
   {
    "duration": 12,
    "start_time": "2025-04-23T16:26:07.877Z"
   },
   {
    "duration": 74,
    "start_time": "2025-04-23T16:26:07.891Z"
   },
   {
    "duration": 7,
    "start_time": "2025-04-23T16:26:07.967Z"
   },
   {
    "duration": 61,
    "start_time": "2025-04-23T16:26:07.976Z"
   },
   {
    "duration": 420,
    "start_time": "2025-04-23T16:26:08.038Z"
   },
   {
    "duration": 1009,
    "start_time": "2025-04-23T16:26:08.463Z"
   },
   {
    "duration": 351,
    "start_time": "2025-04-23T16:26:09.474Z"
   },
   {
    "duration": 289,
    "start_time": "2025-04-23T16:26:09.827Z"
   },
   {
    "duration": 272,
    "start_time": "2025-04-23T16:26:10.120Z"
   },
   {
    "duration": 477,
    "start_time": "2025-04-23T16:26:10.394Z"
   },
   {
    "duration": 279,
    "start_time": "2025-04-23T16:26:10.872Z"
   },
   {
    "duration": 3417,
    "start_time": "2025-04-23T16:26:11.153Z"
   },
   {
    "duration": 6,
    "start_time": "2025-04-23T16:26:14.572Z"
   },
   {
    "duration": 5,
    "start_time": "2025-04-23T16:26:14.579Z"
   },
   {
    "duration": 329,
    "start_time": "2025-04-23T16:26:14.586Z"
   },
   {
    "duration": 318,
    "start_time": "2025-04-23T16:26:14.917Z"
   },
   {
    "duration": 350,
    "start_time": "2025-04-23T16:26:15.237Z"
   },
   {
    "duration": 718,
    "start_time": "2025-04-23T16:26:15.588Z"
   },
   {
    "duration": 992,
    "start_time": "2025-04-23T16:26:16.307Z"
   },
   {
    "duration": 25,
    "start_time": "2025-04-23T16:26:17.301Z"
   },
   {
    "duration": 34,
    "start_time": "2025-04-23T16:26:17.328Z"
   },
   {
    "duration": 9,
    "start_time": "2025-04-23T16:26:17.364Z"
   },
   {
    "duration": 7,
    "start_time": "2025-04-23T16:26:17.375Z"
   },
   {
    "duration": 17,
    "start_time": "2025-04-23T16:26:17.384Z"
   },
   {
    "duration": 4,
    "start_time": "2025-04-23T16:26:17.403Z"
   },
   {
    "duration": 19,
    "start_time": "2025-04-23T16:26:17.409Z"
   },
   {
    "duration": 12,
    "start_time": "2025-04-23T16:26:17.462Z"
   },
   {
    "duration": 18,
    "start_time": "2025-04-23T16:26:17.476Z"
   },
   {
    "duration": 12,
    "start_time": "2025-04-23T16:26:17.496Z"
   },
   {
    "duration": 11,
    "start_time": "2025-04-23T16:26:17.510Z"
   },
   {
    "duration": 9,
    "start_time": "2025-04-23T16:26:17.523Z"
   }
  ],
  "kernelspec": {
   "display_name": "Python 3 (ipykernel)",
   "language": "python",
   "name": "python3"
  },
  "language_info": {
   "codemirror_mode": {
    "name": "ipython",
    "version": 3
   },
   "file_extension": ".py",
   "mimetype": "text/x-python",
   "name": "python",
   "nbconvert_exporter": "python",
   "pygments_lexer": "ipython3",
   "version": "3.12.4"
  },
  "toc": {
   "base_numbering": 1,
   "nav_menu": {},
   "number_sections": true,
   "sideBar": true,
   "skip_h1_title": true,
   "title_cell": "Table of Contents",
   "title_sidebar": "Contents",
   "toc_cell": false,
   "toc_position": {
    "height": "calc(100% - 180px)",
    "left": "10px",
    "top": "150px",
    "width": "292.8px"
   },
   "toc_section_display": true,
   "toc_window_display": true
  }
 },
 "nbformat": 4,
 "nbformat_minor": 4
}
