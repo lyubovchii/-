{
 "cells": [
  {
   "cell_type": "markdown",
   "id": "2dc10b88-09ee-4767-acb3-c500e44745d2",
   "metadata": {},
   "source": [
    "# Проект по принятию решений в бизнесе на основе данных"
   ]
  },
  {
   "cell_type": "markdown",
   "id": "6b1aa059-e265-44ec-9049-db658ba8e763",
   "metadata": {},
   "source": [
    "Вы — аналитик крупного интернет-магазина. Вместе с отделом маркетинга вы подготовили список гипотез для увеличения выручки.\n",
    "Приоритизируйте гипотезы, запустите A/B-тест и проанализируйте результаты.\n",
    "План работы включаеит в себя следующие этапы:\n",
    "- Применение фреймворков ICE и RICE для приоритизации гипотез, анализ различий\n",
    "- Построение графика кумулятивной выручки по группам\n",
    "- Построение графика кумулятивного среднего чека по группам\n",
    "- Построение графика относительного изменения кумулятивного среднего чека группы B к группе A\n",
    "- Построение графика кумулятивного среднего количества заказов на посетителя по группам\n",
    "- Построение графика относительного изменения кумулятивного среднего количества заказов на посетителя группы B к группе A\n",
    "- Построение точечного графика количества заказов по пользователям\n",
    "- Подсчет перцентилей количества заказов на пользователя и стоимости заказов\n",
    "- Выбор границы для определения аномальных пользователей\n",
    "- Построение точечного графика стоимостей заказов\n",
    "- Подсчет статистической значимости для всех метрик по \"сырым\" и \"очищенным\" данным\n",
    "- Формулировка выводов и предположений\n",
    "- Принятие решения по результатам проведенного теста и его обоснование"
   ]
  },
  {
   "cell_type": "markdown",
   "id": "ee68ee6a-3479-4868-be93-ccc63847932b",
   "metadata": {},
   "source": [
    "## Загрузка и изучение данных"
   ]
  },
  {
   "cell_type": "code",
   "execution_count": 1,
   "id": "e8cc7ab5-14d5-401a-9535-99c466b55611",
   "metadata": {},
   "outputs": [],
   "source": [
    "#выгрузка всех необходимых библеотек\n",
    "import pandas as pd\n",
    "import datetime as dt\n",
    "import scipy.stats as stats\n",
    "import numpy as np\n",
    "import matplotlib.pyplot as plt"
   ]
  },
  {
   "cell_type": "code",
   "execution_count": 2,
   "id": "4253b89b-d705-4455-b0f6-8c170ad8cfbe",
   "metadata": {},
   "outputs": [
    {
     "name": "stdout",
     "output_type": "stream",
     "text": [
      "<class 'pandas.core.frame.DataFrame'>\n",
      "RangeIndex: 9 entries, 0 to 8\n",
      "Data columns (total 5 columns):\n",
      " #   Column      Non-Null Count  Dtype \n",
      "---  ------      --------------  ----- \n",
      " 0   Hypothesis  9 non-null      object\n",
      " 1   Reach       9 non-null      int64 \n",
      " 2   Impact      9 non-null      int64 \n",
      " 3   Confidence  9 non-null      int64 \n",
      " 4   Efforts     9 non-null      int64 \n",
      "dtypes: int64(4), object(1)\n",
      "memory usage: 488.0+ bytes\n"
     ]
    },
    {
     "data": {
      "text/html": [
       "<div>\n",
       "<style scoped>\n",
       "    .dataframe tbody tr th:only-of-type {\n",
       "        vertical-align: middle;\n",
       "    }\n",
       "\n",
       "    .dataframe tbody tr th {\n",
       "        vertical-align: top;\n",
       "    }\n",
       "\n",
       "    .dataframe thead th {\n",
       "        text-align: right;\n",
       "    }\n",
       "</style>\n",
       "<table border=\"1\" class=\"dataframe\">\n",
       "  <thead>\n",
       "    <tr style=\"text-align: right;\">\n",
       "      <th></th>\n",
       "      <th>Hypothesis</th>\n",
       "      <th>Reach</th>\n",
       "      <th>Impact</th>\n",
       "      <th>Confidence</th>\n",
       "      <th>Efforts</th>\n",
       "    </tr>\n",
       "  </thead>\n",
       "  <tbody>\n",
       "    <tr>\n",
       "      <th>0</th>\n",
       "      <td>Добавить два новых канала привлечения трафика, что позволит привлекать на 30% больше пользователей</td>\n",
       "      <td>3</td>\n",
       "      <td>10</td>\n",
       "      <td>8</td>\n",
       "      <td>6</td>\n",
       "    </tr>\n",
       "    <tr>\n",
       "      <th>1</th>\n",
       "      <td>Запустить собственную службу доставки, что сократит срок доставки заказов</td>\n",
       "      <td>2</td>\n",
       "      <td>5</td>\n",
       "      <td>4</td>\n",
       "      <td>10</td>\n",
       "    </tr>\n",
       "    <tr>\n",
       "      <th>2</th>\n",
       "      <td>Добавить блоки рекомендаций товаров на сайт интернет магазина, чтобы повысить конверсию и средний чек заказа</td>\n",
       "      <td>8</td>\n",
       "      <td>3</td>\n",
       "      <td>7</td>\n",
       "      <td>3</td>\n",
       "    </tr>\n",
       "    <tr>\n",
       "      <th>3</th>\n",
       "      <td>Изменить структура категорий, что увеличит конверсию, т.к. пользователи быстрее найдут нужный товар</td>\n",
       "      <td>8</td>\n",
       "      <td>3</td>\n",
       "      <td>3</td>\n",
       "      <td>8</td>\n",
       "    </tr>\n",
       "    <tr>\n",
       "      <th>4</th>\n",
       "      <td>Изменить цвет фона главной страницы, чтобы увеличить вовлеченность пользователей</td>\n",
       "      <td>3</td>\n",
       "      <td>1</td>\n",
       "      <td>1</td>\n",
       "      <td>1</td>\n",
       "    </tr>\n",
       "    <tr>\n",
       "      <th>5</th>\n",
       "      <td>Добавить страницу отзывов клиентов о магазине, что позволит увеличить количество заказов</td>\n",
       "      <td>3</td>\n",
       "      <td>2</td>\n",
       "      <td>2</td>\n",
       "      <td>3</td>\n",
       "    </tr>\n",
       "    <tr>\n",
       "      <th>6</th>\n",
       "      <td>Показать на главной странице баннеры с актуальными акциями и распродажами, чтобы увеличить конверсию</td>\n",
       "      <td>5</td>\n",
       "      <td>3</td>\n",
       "      <td>8</td>\n",
       "      <td>3</td>\n",
       "    </tr>\n",
       "    <tr>\n",
       "      <th>7</th>\n",
       "      <td>Добавить форму подписки на все основные страницы, чтобы собрать базу клиентов для email-рассылок</td>\n",
       "      <td>10</td>\n",
       "      <td>7</td>\n",
       "      <td>8</td>\n",
       "      <td>5</td>\n",
       "    </tr>\n",
       "    <tr>\n",
       "      <th>8</th>\n",
       "      <td>Запустить акцию, дающую скидку на товар в день рождения</td>\n",
       "      <td>1</td>\n",
       "      <td>9</td>\n",
       "      <td>9</td>\n",
       "      <td>5</td>\n",
       "    </tr>\n",
       "  </tbody>\n",
       "</table>\n",
       "</div>"
      ],
      "text/plain": [
       "                                                                                                     Hypothesis  \\\n",
       "0            Добавить два новых канала привлечения трафика, что позволит привлекать на 30% больше пользователей   \n",
       "1                                     Запустить собственную службу доставки, что сократит срок доставки заказов   \n",
       "2  Добавить блоки рекомендаций товаров на сайт интернет магазина, чтобы повысить конверсию и средний чек заказа   \n",
       "3           Изменить структура категорий, что увеличит конверсию, т.к. пользователи быстрее найдут нужный товар   \n",
       "4                              Изменить цвет фона главной страницы, чтобы увеличить вовлеченность пользователей   \n",
       "5                      Добавить страницу отзывов клиентов о магазине, что позволит увеличить количество заказов   \n",
       "6          Показать на главной странице баннеры с актуальными акциями и распродажами, чтобы увеличить конверсию   \n",
       "7              Добавить форму подписки на все основные страницы, чтобы собрать базу клиентов для email-рассылок   \n",
       "8                                                       Запустить акцию, дающую скидку на товар в день рождения   \n",
       "\n",
       "   Reach  Impact  Confidence  Efforts  \n",
       "0      3      10           8        6  \n",
       "1      2       5           4       10  \n",
       "2      8       3           7        3  \n",
       "3      8       3           3        8  \n",
       "4      3       1           1        1  \n",
       "5      3       2           2        3  \n",
       "6      5       3           8        3  \n",
       "7     10       7           8        5  \n",
       "8      1       9           9        5  "
      ]
     },
     "execution_count": 2,
     "metadata": {},
     "output_type": "execute_result"
    }
   ],
   "source": [
    "#вывод таблицы с гипотезами\n",
    "try:\n",
    "    hypothesis = pd.read_csv('C:/Users/Любовь/Downloads/hypothesis.csv')\n",
    "except:\n",
    "    hypothesis = pd.read_csv('https://code.s3.yandex.net/datasets/hypothesis.csv')\n",
    "    \n",
    "pd.set_option('display.max_colwidth', None) #сняла ограничение с ширины столбцов\n",
    "\n",
    "hypothesis.info()\n",
    "hypothesis #вывод таблицы с гипотезами"
   ]
  },
  {
   "cell_type": "code",
   "execution_count": 3,
   "id": "d74d1a30-21c7-4948-9dc9-73a93a0c6a06",
   "metadata": {},
   "outputs": [
    {
     "name": "stdout",
     "output_type": "stream",
     "text": [
      "<class 'pandas.core.frame.DataFrame'>\n",
      "RangeIndex: 1197 entries, 0 to 1196\n",
      "Data columns (total 5 columns):\n",
      " #   Column         Non-Null Count  Dtype \n",
      "---  ------         --------------  ----- \n",
      " 0   transactionId  1197 non-null   int64 \n",
      " 1   visitorId      1197 non-null   int64 \n",
      " 2   date           1197 non-null   object\n",
      " 3   revenue        1197 non-null   int64 \n",
      " 4   group          1197 non-null   object\n",
      "dtypes: int64(3), object(2)\n",
      "memory usage: 46.9+ KB\n"
     ]
    },
    {
     "data": {
      "text/html": [
       "<div>\n",
       "<style scoped>\n",
       "    .dataframe tbody tr th:only-of-type {\n",
       "        vertical-align: middle;\n",
       "    }\n",
       "\n",
       "    .dataframe tbody tr th {\n",
       "        vertical-align: top;\n",
       "    }\n",
       "\n",
       "    .dataframe thead th {\n",
       "        text-align: right;\n",
       "    }\n",
       "</style>\n",
       "<table border=\"1\" class=\"dataframe\">\n",
       "  <thead>\n",
       "    <tr style=\"text-align: right;\">\n",
       "      <th></th>\n",
       "      <th>transactionId</th>\n",
       "      <th>visitorId</th>\n",
       "      <th>date</th>\n",
       "      <th>revenue</th>\n",
       "      <th>group</th>\n",
       "    </tr>\n",
       "  </thead>\n",
       "  <tbody>\n",
       "    <tr>\n",
       "      <th>0</th>\n",
       "      <td>3667963787</td>\n",
       "      <td>3312258926</td>\n",
       "      <td>2019-08-15</td>\n",
       "      <td>1650</td>\n",
       "      <td>B</td>\n",
       "    </tr>\n",
       "    <tr>\n",
       "      <th>1</th>\n",
       "      <td>2804400009</td>\n",
       "      <td>3642806036</td>\n",
       "      <td>2019-08-15</td>\n",
       "      <td>730</td>\n",
       "      <td>B</td>\n",
       "    </tr>\n",
       "    <tr>\n",
       "      <th>2</th>\n",
       "      <td>2961555356</td>\n",
       "      <td>4069496402</td>\n",
       "      <td>2019-08-15</td>\n",
       "      <td>400</td>\n",
       "      <td>A</td>\n",
       "    </tr>\n",
       "    <tr>\n",
       "      <th>3</th>\n",
       "      <td>3797467345</td>\n",
       "      <td>1196621759</td>\n",
       "      <td>2019-08-15</td>\n",
       "      <td>9759</td>\n",
       "      <td>B</td>\n",
       "    </tr>\n",
       "    <tr>\n",
       "      <th>4</th>\n",
       "      <td>2282983706</td>\n",
       "      <td>2322279887</td>\n",
       "      <td>2019-08-15</td>\n",
       "      <td>2308</td>\n",
       "      <td>B</td>\n",
       "    </tr>\n",
       "  </tbody>\n",
       "</table>\n",
       "</div>"
      ],
      "text/plain": [
       "   transactionId   visitorId        date  revenue group\n",
       "0     3667963787  3312258926  2019-08-15     1650     B\n",
       "1     2804400009  3642806036  2019-08-15      730     B\n",
       "2     2961555356  4069496402  2019-08-15      400     A\n",
       "3     3797467345  1196621759  2019-08-15     9759     B\n",
       "4     2282983706  2322279887  2019-08-15     2308     B"
      ]
     },
     "execution_count": 3,
     "metadata": {},
     "output_type": "execute_result"
    }
   ],
   "source": [
    "try:\n",
    "    orders, visitors = (\n",
    "        pd.read_csv('C:/Users/Любовь/Downloads/orders.csv'),\n",
    "        pd.read_csv('C:/Users/Любовь/Downloads/visitors.csv'))\n",
    "except:\n",
    "    orders, visitors = (\n",
    "        pd.read_csv('https://code.s3.yandex.net/datasets/orders.csv'),\n",
    "        pd.read_csv('https://code.s3.yandex.net/datasets/visitors.csv'))\n",
    "\n",
    "orders.info()\n",
    "orders.head() #вывод таблицы с заказами"
   ]
  },
  {
   "cell_type": "code",
   "execution_count": 4,
   "id": "dbda4786-e134-4c86-8605-7b348f489f63",
   "metadata": {},
   "outputs": [
    {
     "name": "stdout",
     "output_type": "stream",
     "text": [
      "<class 'pandas.core.frame.DataFrame'>\n",
      "RangeIndex: 62 entries, 0 to 61\n",
      "Data columns (total 3 columns):\n",
      " #   Column    Non-Null Count  Dtype \n",
      "---  ------    --------------  ----- \n",
      " 0   date      62 non-null     object\n",
      " 1   group     62 non-null     object\n",
      " 2   visitors  62 non-null     int64 \n",
      "dtypes: int64(1), object(2)\n",
      "memory usage: 1.6+ KB\n"
     ]
    },
    {
     "data": {
      "text/html": [
       "<div>\n",
       "<style scoped>\n",
       "    .dataframe tbody tr th:only-of-type {\n",
       "        vertical-align: middle;\n",
       "    }\n",
       "\n",
       "    .dataframe tbody tr th {\n",
       "        vertical-align: top;\n",
       "    }\n",
       "\n",
       "    .dataframe thead th {\n",
       "        text-align: right;\n",
       "    }\n",
       "</style>\n",
       "<table border=\"1\" class=\"dataframe\">\n",
       "  <thead>\n",
       "    <tr style=\"text-align: right;\">\n",
       "      <th></th>\n",
       "      <th>date</th>\n",
       "      <th>group</th>\n",
       "      <th>visitors</th>\n",
       "    </tr>\n",
       "  </thead>\n",
       "  <tbody>\n",
       "    <tr>\n",
       "      <th>0</th>\n",
       "      <td>2019-08-01</td>\n",
       "      <td>A</td>\n",
       "      <td>719</td>\n",
       "    </tr>\n",
       "    <tr>\n",
       "      <th>1</th>\n",
       "      <td>2019-08-02</td>\n",
       "      <td>A</td>\n",
       "      <td>619</td>\n",
       "    </tr>\n",
       "    <tr>\n",
       "      <th>2</th>\n",
       "      <td>2019-08-03</td>\n",
       "      <td>A</td>\n",
       "      <td>507</td>\n",
       "    </tr>\n",
       "    <tr>\n",
       "      <th>3</th>\n",
       "      <td>2019-08-04</td>\n",
       "      <td>A</td>\n",
       "      <td>717</td>\n",
       "    </tr>\n",
       "    <tr>\n",
       "      <th>4</th>\n",
       "      <td>2019-08-05</td>\n",
       "      <td>A</td>\n",
       "      <td>756</td>\n",
       "    </tr>\n",
       "  </tbody>\n",
       "</table>\n",
       "</div>"
      ],
      "text/plain": [
       "         date group  visitors\n",
       "0  2019-08-01     A       719\n",
       "1  2019-08-02     A       619\n",
       "2  2019-08-03     A       507\n",
       "3  2019-08-04     A       717\n",
       "4  2019-08-05     A       756"
      ]
     },
     "execution_count": 4,
     "metadata": {},
     "output_type": "execute_result"
    }
   ],
   "source": [
    "visitors.info()\n",
    "visitors.head() #вывод таблицы с посетителями"
   ]
  },
  {
   "cell_type": "markdown",
   "id": "5b4c76cf-c568-4fdc-8781-3d6695f2a14b",
   "metadata": {},
   "source": [
    "**Промежуточные выводы:** в данных нет пропущенных значений, однако в таблицах с посетителями и заказами есть проблема с типом данных в столбце data. На следующем этапе стоит исправить это, а также проверить таблицы на наличие дубликатов и привести все названия к нижнему регистру."
   ]
  },
  {
   "cell_type": "markdown",
   "id": "b4274ed7-33a5-4532-bd42-0315cd1f7153",
   "metadata": {},
   "source": [
    "## Предобработка данных"
   ]
  },
  {
   "cell_type": "code",
   "execution_count": 5,
   "id": "893a60cf-f9af-4d2f-a11c-20488885ad04",
   "metadata": {},
   "outputs": [],
   "source": [
    "#преобразование стиля названий\n",
    "hypothesis.columns = hypothesis.columns.str.lower()\n",
    "orders = orders.rename(columns={'transactionId':'transaction_id', 'visitorId':'visitor_id'})"
   ]
  },
  {
   "cell_type": "code",
   "execution_count": 6,
   "id": "bfb1de56-e058-4ee2-9002-ce06ee95edea",
   "metadata": {},
   "outputs": [],
   "source": [
    "#изменение типа данных\n",
    "orders['date'] = orders['date'].map(lambda x: dt.datetime.strptime(x, '%Y-%m-%d'))\n",
    "visitors['date'] = visitors['date'].map(lambda x: dt.datetime.strptime(x, '%Y-%m-%d'))"
   ]
  },
  {
   "cell_type": "code",
   "execution_count": 7,
   "id": "882cd2c8-70c6-4ad2-b955-6195d9e5d475",
   "metadata": {},
   "outputs": [
    {
     "data": {
      "text/plain": [
       "0"
      ]
     },
     "execution_count": 7,
     "metadata": {},
     "output_type": "execute_result"
    }
   ],
   "source": [
    "orders.duplicated().sum()"
   ]
  },
  {
   "cell_type": "code",
   "execution_count": 8,
   "id": "da3b303a-4344-4c5e-a654-402bd68ecd9c",
   "metadata": {},
   "outputs": [
    {
     "data": {
      "text/plain": [
       "0"
      ]
     },
     "execution_count": 8,
     "metadata": {},
     "output_type": "execute_result"
    }
   ],
   "source": [
    "visitors.duplicated().sum()"
   ]
  },
  {
   "cell_type": "code",
   "execution_count": 9,
   "id": "cf48a350",
   "metadata": {},
   "outputs": [
    {
     "name": "stdout",
     "output_type": "stream",
     "text": [
      "Доля пользователей, оказавшихся в двух группах сразу: 0.0563\n"
     ]
    }
   ],
   "source": [
    "#проверяем наличие пользователей, оказавшихся в двух группах сразу\n",
    "A = orders[orders['group'] == 'A']['visitor_id']\n",
    "B = orders[orders['group'] == 'B']['visitor_id']\n",
    "AB = orders.query('visitor_id in @A and visitor_id in @B')\n",
    "print(\n",
    "    'Доля пользователей, оказавшихся в двух группах сразу:', \n",
    "    round(AB['visitor_id'].nunique() / orders['visitor_id'].nunique(), 4)\n",
    ")"
   ]
  },
  {
   "cell_type": "code",
   "execution_count": 10,
   "id": "9a88bb21",
   "metadata": {},
   "outputs": [
    {
     "name": "stdout",
     "output_type": "stream",
     "text": [
      "Осталось пользователей: 973\n"
     ]
    }
   ],
   "source": [
    "orders = orders.query('visitor_id not in @AB[\"visitor_id\"]')\n",
    "print('Осталось пользователей:', orders['visitor_id'].nunique())"
   ]
  },
  {
   "cell_type": "markdown",
   "id": "78e867fb-e9c0-4f64-8d04-61854fb9dea1",
   "metadata": {},
   "source": [
    "**Промежуточные выводы**: изменили тип данных в столбце data, преобразовали стили названий и проверили проверку на дубликаты. Также выявили пользователей, оказавшихся в двух группах сразу - их доля оказалась небольшой - 5.6%, поэтому их исключили из рассмотрения. После предобработки можно приступать к анализу."
   ]
  },
  {
   "cell_type": "markdown",
   "id": "11048150-51f3-4c9c-9b25-132adb1c03d3",
   "metadata": {},
   "source": [
    "## Приоритизация гипотез"
   ]
  },
  {
   "cell_type": "code",
   "execution_count": 11,
   "id": "53faf43b-a033-40d9-9c5a-8b104cdb8a98",
   "metadata": {},
   "outputs": [
    {
     "data": {
      "text/html": [
       "<div>\n",
       "<style scoped>\n",
       "    .dataframe tbody tr th:only-of-type {\n",
       "        vertical-align: middle;\n",
       "    }\n",
       "\n",
       "    .dataframe tbody tr th {\n",
       "        vertical-align: top;\n",
       "    }\n",
       "\n",
       "    .dataframe thead th {\n",
       "        text-align: right;\n",
       "    }\n",
       "</style>\n",
       "<table border=\"1\" class=\"dataframe\">\n",
       "  <thead>\n",
       "    <tr style=\"text-align: right;\">\n",
       "      <th></th>\n",
       "      <th>hypothesis</th>\n",
       "      <th>reach</th>\n",
       "      <th>impact</th>\n",
       "      <th>confidence</th>\n",
       "      <th>efforts</th>\n",
       "      <th>ice</th>\n",
       "    </tr>\n",
       "  </thead>\n",
       "  <tbody>\n",
       "    <tr>\n",
       "      <th>8</th>\n",
       "      <td>Запустить акцию, дающую скидку на товар в день рождения</td>\n",
       "      <td>1</td>\n",
       "      <td>9</td>\n",
       "      <td>9</td>\n",
       "      <td>5</td>\n",
       "      <td>16.20</td>\n",
       "    </tr>\n",
       "    <tr>\n",
       "      <th>0</th>\n",
       "      <td>Добавить два новых канала привлечения трафика, что позволит привлекать на 30% больше пользователей</td>\n",
       "      <td>3</td>\n",
       "      <td>10</td>\n",
       "      <td>8</td>\n",
       "      <td>6</td>\n",
       "      <td>13.33</td>\n",
       "    </tr>\n",
       "    <tr>\n",
       "      <th>7</th>\n",
       "      <td>Добавить форму подписки на все основные страницы, чтобы собрать базу клиентов для email-рассылок</td>\n",
       "      <td>10</td>\n",
       "      <td>7</td>\n",
       "      <td>8</td>\n",
       "      <td>5</td>\n",
       "      <td>11.20</td>\n",
       "    </tr>\n",
       "    <tr>\n",
       "      <th>6</th>\n",
       "      <td>Показать на главной странице баннеры с актуальными акциями и распродажами, чтобы увеличить конверсию</td>\n",
       "      <td>5</td>\n",
       "      <td>3</td>\n",
       "      <td>8</td>\n",
       "      <td>3</td>\n",
       "      <td>8.00</td>\n",
       "    </tr>\n",
       "    <tr>\n",
       "      <th>2</th>\n",
       "      <td>Добавить блоки рекомендаций товаров на сайт интернет магазина, чтобы повысить конверсию и средний чек заказа</td>\n",
       "      <td>8</td>\n",
       "      <td>3</td>\n",
       "      <td>7</td>\n",
       "      <td>3</td>\n",
       "      <td>7.00</td>\n",
       "    </tr>\n",
       "    <tr>\n",
       "      <th>1</th>\n",
       "      <td>Запустить собственную службу доставки, что сократит срок доставки заказов</td>\n",
       "      <td>2</td>\n",
       "      <td>5</td>\n",
       "      <td>4</td>\n",
       "      <td>10</td>\n",
       "      <td>2.00</td>\n",
       "    </tr>\n",
       "    <tr>\n",
       "      <th>5</th>\n",
       "      <td>Добавить страницу отзывов клиентов о магазине, что позволит увеличить количество заказов</td>\n",
       "      <td>3</td>\n",
       "      <td>2</td>\n",
       "      <td>2</td>\n",
       "      <td>3</td>\n",
       "      <td>1.33</td>\n",
       "    </tr>\n",
       "    <tr>\n",
       "      <th>3</th>\n",
       "      <td>Изменить структура категорий, что увеличит конверсию, т.к. пользователи быстрее найдут нужный товар</td>\n",
       "      <td>8</td>\n",
       "      <td>3</td>\n",
       "      <td>3</td>\n",
       "      <td>8</td>\n",
       "      <td>1.12</td>\n",
       "    </tr>\n",
       "    <tr>\n",
       "      <th>4</th>\n",
       "      <td>Изменить цвет фона главной страницы, чтобы увеличить вовлеченность пользователей</td>\n",
       "      <td>3</td>\n",
       "      <td>1</td>\n",
       "      <td>1</td>\n",
       "      <td>1</td>\n",
       "      <td>1.00</td>\n",
       "    </tr>\n",
       "  </tbody>\n",
       "</table>\n",
       "</div>"
      ],
      "text/plain": [
       "                                                                                                     hypothesis  \\\n",
       "8                                                       Запустить акцию, дающую скидку на товар в день рождения   \n",
       "0            Добавить два новых канала привлечения трафика, что позволит привлекать на 30% больше пользователей   \n",
       "7              Добавить форму подписки на все основные страницы, чтобы собрать базу клиентов для email-рассылок   \n",
       "6          Показать на главной странице баннеры с актуальными акциями и распродажами, чтобы увеличить конверсию   \n",
       "2  Добавить блоки рекомендаций товаров на сайт интернет магазина, чтобы повысить конверсию и средний чек заказа   \n",
       "1                                     Запустить собственную службу доставки, что сократит срок доставки заказов   \n",
       "5                      Добавить страницу отзывов клиентов о магазине, что позволит увеличить количество заказов   \n",
       "3           Изменить структура категорий, что увеличит конверсию, т.к. пользователи быстрее найдут нужный товар   \n",
       "4                              Изменить цвет фона главной страницы, чтобы увеличить вовлеченность пользователей   \n",
       "\n",
       "   reach  impact  confidence  efforts    ice  \n",
       "8      1       9           9        5  16.20  \n",
       "0      3      10           8        6  13.33  \n",
       "7     10       7           8        5  11.20  \n",
       "6      5       3           8        3   8.00  \n",
       "2      8       3           7        3   7.00  \n",
       "1      2       5           4       10   2.00  \n",
       "5      3       2           2        3   1.33  \n",
       "3      8       3           3        8   1.12  \n",
       "4      3       1           1        1   1.00  "
      ]
     },
     "execution_count": 11,
     "metadata": {},
     "output_type": "execute_result"
    }
   ],
   "source": [
    "hypothesis['ice'] = (hypothesis['impact']*hypothesis['confidence']/hypothesis['efforts']).round(2)\n",
    "hypothesis.sort_values(by='ice', ascending=False)"
   ]
  },
  {
   "cell_type": "code",
   "execution_count": 12,
   "id": "9b7ca490-80b5-4dfc-810d-17e778ef50fe",
   "metadata": {},
   "outputs": [
    {
     "data": {
      "text/html": [
       "<div>\n",
       "<style scoped>\n",
       "    .dataframe tbody tr th:only-of-type {\n",
       "        vertical-align: middle;\n",
       "    }\n",
       "\n",
       "    .dataframe tbody tr th {\n",
       "        vertical-align: top;\n",
       "    }\n",
       "\n",
       "    .dataframe thead th {\n",
       "        text-align: right;\n",
       "    }\n",
       "</style>\n",
       "<table border=\"1\" class=\"dataframe\">\n",
       "  <thead>\n",
       "    <tr style=\"text-align: right;\">\n",
       "      <th></th>\n",
       "      <th>hypothesis</th>\n",
       "      <th>reach</th>\n",
       "      <th>impact</th>\n",
       "      <th>confidence</th>\n",
       "      <th>efforts</th>\n",
       "      <th>ice</th>\n",
       "      <th>rice</th>\n",
       "    </tr>\n",
       "  </thead>\n",
       "  <tbody>\n",
       "    <tr>\n",
       "      <th>7</th>\n",
       "      <td>Добавить форму подписки на все основные страницы, чтобы собрать базу клиентов для email-рассылок</td>\n",
       "      <td>10</td>\n",
       "      <td>7</td>\n",
       "      <td>8</td>\n",
       "      <td>5</td>\n",
       "      <td>11.20</td>\n",
       "      <td>112.0</td>\n",
       "    </tr>\n",
       "    <tr>\n",
       "      <th>2</th>\n",
       "      <td>Добавить блоки рекомендаций товаров на сайт интернет магазина, чтобы повысить конверсию и средний чек заказа</td>\n",
       "      <td>8</td>\n",
       "      <td>3</td>\n",
       "      <td>7</td>\n",
       "      <td>3</td>\n",
       "      <td>7.00</td>\n",
       "      <td>56.0</td>\n",
       "    </tr>\n",
       "    <tr>\n",
       "      <th>0</th>\n",
       "      <td>Добавить два новых канала привлечения трафика, что позволит привлекать на 30% больше пользователей</td>\n",
       "      <td>3</td>\n",
       "      <td>10</td>\n",
       "      <td>8</td>\n",
       "      <td>6</td>\n",
       "      <td>13.33</td>\n",
       "      <td>40.0</td>\n",
       "    </tr>\n",
       "    <tr>\n",
       "      <th>6</th>\n",
       "      <td>Показать на главной странице баннеры с актуальными акциями и распродажами, чтобы увеличить конверсию</td>\n",
       "      <td>5</td>\n",
       "      <td>3</td>\n",
       "      <td>8</td>\n",
       "      <td>3</td>\n",
       "      <td>8.00</td>\n",
       "      <td>40.0</td>\n",
       "    </tr>\n",
       "    <tr>\n",
       "      <th>8</th>\n",
       "      <td>Запустить акцию, дающую скидку на товар в день рождения</td>\n",
       "      <td>1</td>\n",
       "      <td>9</td>\n",
       "      <td>9</td>\n",
       "      <td>5</td>\n",
       "      <td>16.20</td>\n",
       "      <td>16.2</td>\n",
       "    </tr>\n",
       "    <tr>\n",
       "      <th>3</th>\n",
       "      <td>Изменить структура категорий, что увеличит конверсию, т.к. пользователи быстрее найдут нужный товар</td>\n",
       "      <td>8</td>\n",
       "      <td>3</td>\n",
       "      <td>3</td>\n",
       "      <td>8</td>\n",
       "      <td>1.12</td>\n",
       "      <td>9.0</td>\n",
       "    </tr>\n",
       "    <tr>\n",
       "      <th>1</th>\n",
       "      <td>Запустить собственную службу доставки, что сократит срок доставки заказов</td>\n",
       "      <td>2</td>\n",
       "      <td>5</td>\n",
       "      <td>4</td>\n",
       "      <td>10</td>\n",
       "      <td>2.00</td>\n",
       "      <td>4.0</td>\n",
       "    </tr>\n",
       "    <tr>\n",
       "      <th>5</th>\n",
       "      <td>Добавить страницу отзывов клиентов о магазине, что позволит увеличить количество заказов</td>\n",
       "      <td>3</td>\n",
       "      <td>2</td>\n",
       "      <td>2</td>\n",
       "      <td>3</td>\n",
       "      <td>1.33</td>\n",
       "      <td>4.0</td>\n",
       "    </tr>\n",
       "    <tr>\n",
       "      <th>4</th>\n",
       "      <td>Изменить цвет фона главной страницы, чтобы увеличить вовлеченность пользователей</td>\n",
       "      <td>3</td>\n",
       "      <td>1</td>\n",
       "      <td>1</td>\n",
       "      <td>1</td>\n",
       "      <td>1.00</td>\n",
       "      <td>3.0</td>\n",
       "    </tr>\n",
       "  </tbody>\n",
       "</table>\n",
       "</div>"
      ],
      "text/plain": [
       "                                                                                                     hypothesis  \\\n",
       "7              Добавить форму подписки на все основные страницы, чтобы собрать базу клиентов для email-рассылок   \n",
       "2  Добавить блоки рекомендаций товаров на сайт интернет магазина, чтобы повысить конверсию и средний чек заказа   \n",
       "0            Добавить два новых канала привлечения трафика, что позволит привлекать на 30% больше пользователей   \n",
       "6          Показать на главной странице баннеры с актуальными акциями и распродажами, чтобы увеличить конверсию   \n",
       "8                                                       Запустить акцию, дающую скидку на товар в день рождения   \n",
       "3           Изменить структура категорий, что увеличит конверсию, т.к. пользователи быстрее найдут нужный товар   \n",
       "1                                     Запустить собственную службу доставки, что сократит срок доставки заказов   \n",
       "5                      Добавить страницу отзывов клиентов о магазине, что позволит увеличить количество заказов   \n",
       "4                              Изменить цвет фона главной страницы, чтобы увеличить вовлеченность пользователей   \n",
       "\n",
       "   reach  impact  confidence  efforts    ice   rice  \n",
       "7     10       7           8        5  11.20  112.0  \n",
       "2      8       3           7        3   7.00   56.0  \n",
       "0      3      10           8        6  13.33   40.0  \n",
       "6      5       3           8        3   8.00   40.0  \n",
       "8      1       9           9        5  16.20   16.2  \n",
       "3      8       3           3        8   1.12    9.0  \n",
       "1      2       5           4       10   2.00    4.0  \n",
       "5      3       2           2        3   1.33    4.0  \n",
       "4      3       1           1        1   1.00    3.0  "
      ]
     },
     "execution_count": 12,
     "metadata": {},
     "output_type": "execute_result"
    }
   ],
   "source": [
    "hypothesis['rice'] = hypothesis['reach']*hypothesis['impact']*hypothesis['confidence']/hypothesis['efforts']\n",
    "hypothesis.sort_values(by='rice', ascending=False)"
   ]
  },
  {
   "cell_type": "markdown",
   "id": "033ee56f-ab06-40fa-b5c7-bae1ccc15081",
   "metadata": {},
   "source": [
    "**Промежуточные выводы:** при применении фреймворка RICE вместо ICE приоритет гипотез несколько изменился. Так, например, гипотеза №7 оказалась в лидерах - это связано с ее высоким охватом пользователей, а №8, наоборот, опустилась до 5 места в списке, так как она хоть и имеет сильное влияние, но оказывает его на узкий круг лиц. В итоге, топ-3 гипотез у ICE включают №8, 0 и 7, а у RICE - №7, 2 и 0."
   ]
  },
  {
   "cell_type": "markdown",
   "id": "da1a3c7f-ebdf-45e6-83c4-9b8a03228735",
   "metadata": {},
   "source": [
    "## Анализ А/В-теста"
   ]
  },
  {
   "cell_type": "markdown",
   "id": "dfe0bb64-8931-4888-9a72-4d5332cc9df6",
   "metadata": {},
   "source": [
    "### Построение графика кумулятивной выручки по группам"
   ]
  },
  {
   "cell_type": "code",
   "execution_count": 13,
   "id": "7d3bd407-c5ac-4a21-b5bf-45df82c1d4a1",
   "metadata": {},
   "outputs": [],
   "source": [
    "#создание массива уникальных пар значений дат и групп теста\n",
    "date_groups = orders[['date', 'group']].drop_duplicates()"
   ]
  },
  {
   "cell_type": "code",
   "execution_count": 14,
   "id": "92965b61-d240-4cce-96fa-f925fa132d17",
   "metadata": {},
   "outputs": [],
   "source": [
    "#получение агрегированных кумулятивных данных по дням о заказах и о посетителях\n",
    "orders_aggregated = date_groups.apply(lambda x: orders[np.logical_and(orders['date'] <= x['date'], orders['group'] == x['group'])]\\\n",
    ".agg({'date':'max', 'group':'max', 'transaction_id':'nunique', 'visitor_id':'nunique', 'revenue':'sum'}), axis=1).sort_values(by=['date', 'group'])\n",
    "\n",
    "visitors_aggregated = date_groups.apply(lambda x: visitors[np.logical_and(visitors['date'] <= x['date'], visitors['group'] == x['group'])]\\\n",
    ".agg({'date':'max', 'group':'max', 'visitors':'sum'}), axis=1).sort_values(by=['date', 'group'])"
   ]
  },
  {
   "cell_type": "code",
   "execution_count": 15,
   "id": "ea088e25-be8b-4f78-b8f1-9f7df497a76d",
   "metadata": {},
   "outputs": [
    {
     "data": {
      "text/html": [
       "<div>\n",
       "<style scoped>\n",
       "    .dataframe tbody tr th:only-of-type {\n",
       "        vertical-align: middle;\n",
       "    }\n",
       "\n",
       "    .dataframe tbody tr th {\n",
       "        vertical-align: top;\n",
       "    }\n",
       "\n",
       "    .dataframe thead th {\n",
       "        text-align: right;\n",
       "    }\n",
       "</style>\n",
       "<table border=\"1\" class=\"dataframe\">\n",
       "  <thead>\n",
       "    <tr style=\"text-align: right;\">\n",
       "      <th></th>\n",
       "      <th>date</th>\n",
       "      <th>group</th>\n",
       "      <th>orders</th>\n",
       "      <th>buyers</th>\n",
       "      <th>revenue</th>\n",
       "      <th>visitors</th>\n",
       "    </tr>\n",
       "  </thead>\n",
       "  <tbody>\n",
       "    <tr>\n",
       "      <th>0</th>\n",
       "      <td>2019-08-01</td>\n",
       "      <td>A</td>\n",
       "      <td>23</td>\n",
       "      <td>19</td>\n",
       "      <td>142779</td>\n",
       "      <td>719</td>\n",
       "    </tr>\n",
       "    <tr>\n",
       "      <th>1</th>\n",
       "      <td>2019-08-01</td>\n",
       "      <td>B</td>\n",
       "      <td>17</td>\n",
       "      <td>17</td>\n",
       "      <td>59758</td>\n",
       "      <td>713</td>\n",
       "    </tr>\n",
       "    <tr>\n",
       "      <th>2</th>\n",
       "      <td>2019-08-02</td>\n",
       "      <td>A</td>\n",
       "      <td>42</td>\n",
       "      <td>36</td>\n",
       "      <td>234381</td>\n",
       "      <td>1338</td>\n",
       "    </tr>\n",
       "    <tr>\n",
       "      <th>3</th>\n",
       "      <td>2019-08-02</td>\n",
       "      <td>B</td>\n",
       "      <td>40</td>\n",
       "      <td>39</td>\n",
       "      <td>221801</td>\n",
       "      <td>1294</td>\n",
       "    </tr>\n",
       "    <tr>\n",
       "      <th>4</th>\n",
       "      <td>2019-08-03</td>\n",
       "      <td>A</td>\n",
       "      <td>66</td>\n",
       "      <td>60</td>\n",
       "      <td>346854</td>\n",
       "      <td>1845</td>\n",
       "    </tr>\n",
       "  </tbody>\n",
       "</table>\n",
       "</div>"
      ],
      "text/plain": [
       "        date group  orders  buyers  revenue  visitors\n",
       "0 2019-08-01     A      23      19   142779       719\n",
       "1 2019-08-01     B      17      17    59758       713\n",
       "2 2019-08-02     A      42      36   234381      1338\n",
       "3 2019-08-02     B      40      39   221801      1294\n",
       "4 2019-08-03     A      66      60   346854      1845"
      ]
     },
     "execution_count": 15,
     "metadata": {},
     "output_type": "execute_result"
    }
   ],
   "source": [
    "#объединяем кумулятивные данные в одной таблице\n",
    "cumulative_data = orders_aggregated.merge(visitors_aggregated, left_on=['date', 'group'], right_on=['date', 'group'])\n",
    "cumulative_data.columns = ['date', 'group', 'orders', 'buyers', 'revenue', 'visitors']\n",
    "cumulative_data.head()"
   ]
  },
  {
   "cell_type": "code",
   "execution_count": 16,
   "id": "06f474db-d8bc-4a53-8edc-6e6d1af44090",
   "metadata": {},
   "outputs": [
    {
     "data": {
      "image/png": "[encoded data removed]",
      "text/plain": [
       "<Figure size 864x576 with 1 Axes>"
      ]
     },
     "metadata": {
      "needs_background": "light"
     },
     "output_type": "display_data"
    }
   ],
   "source": [
    "#кумулятивная выручка по дням по группам\n",
    "cumulative_revenue_A = cumulative_data[cumulative_data['group'] == 'A'][['date', 'revenue', 'orders']]\n",
    "cumulative_revenue_B = cumulative_data[cumulative_data['group'] == 'B'][['date', 'revenue', 'orders']]\n",
    "\n",
    "#строим график\n",
    "plt.figure(figsize=(12,8))\n",
    "plt.plot(cumulative_revenue_A['date'], cumulative_revenue_A['revenue'], label = 'A')\n",
    "plt.plot(cumulative_revenue_B['date'], cumulative_revenue_B['revenue'], label = 'B')\n",
    "\n",
    "plt.grid()\n",
    "plt.title('Кумулятивная выручка по группам')\n",
    "plt.xlabel('Дни')\n",
    "plt.ylabel('Выручка в млн')\n",
    "plt.xticks(rotation=45)\n",
    "plt.legend()\n",
    "plt.show();"
   ]
  },
  {
   "cell_type": "markdown",
   "id": "d74adafd-90b8-43e1-94a1-31e67ca8f3d9",
   "metadata": {},
   "source": [
    "**Промежуточные выводы:** из графика видно, что кумулятивные выручки клиентов из группы В и А растут на протяжении всего времени, что, безусловно, хорошо. Выручка не сильно отличалась между группами до 18 августа. В этот день произошел резкий скачок выручки у группы В. Это может быть связано с каким-то крупным заказом или скачком заказов в целом - эти аномалии могли исказить результат."
   ]
  },
  {
   "cell_type": "markdown",
   "id": "02d9bc46-7d91-40da-be06-796f83047b8a",
   "metadata": {},
   "source": [
    "### Построение графика кумулятивного среднего чека по группам"
   ]
  },
  {
   "cell_type": "code",
   "execution_count": 17,
   "id": "c0350c77-e731-460c-9cbf-1cbd971e44a2",
   "metadata": {},
   "outputs": [
    {
     "data": {
      "image/png": "[encoded data removed]",
      "text/plain": [
       "<Figure size 864x576 with 1 Axes>"
      ]
     },
     "metadata": {
      "needs_background": "light"
     },
     "output_type": "display_data"
    }
   ],
   "source": [
    "plt.figure(figsize=(12,8))\n",
    "plt.plot(cumulative_revenue_A['date'], cumulative_revenue_A['revenue']/cumulative_revenue_A['orders'], label='A')\n",
    "plt.plot(cumulative_revenue_B['date'], cumulative_revenue_B['revenue']/cumulative_revenue_B['orders'], label='B')\n",
    "\n",
    "plt.grid()\n",
    "plt.title('Кумулятивный средний чек по группам')\n",
    "plt.xlabel('Дни')\n",
    "plt.ylabel('Чек')\n",
    "plt.xticks(rotation=45)\n",
    "plt.legend();"
   ]
  },
  {
   "cell_type": "markdown",
   "id": "2f2a5d96-6a37-4a98-a577-254b59315902",
   "metadata": {},
   "source": [
    "**Промежуточные выводы:** значения среднего чека нестабильны у обеих групп. Ближе к концу наблюдения у группы А становится более плавный график и значения выравниваются. А вот у гпуппы В и на этом графике виден сильный скачок 18 августа - значит, он связан с каким-то крупным заказом. Этот аномальный заказ сказался на результатах, поэтому для выравнивания значений группе В нужно больше данных."
   ]
  },
  {
   "cell_type": "markdown",
   "id": "27a91414-2159-4227-9626-3e71a9d160e8",
   "metadata": {},
   "source": [
    "### Построение графика относительного изменения кумулятивного среднего чека группы B к группе A"
   ]
  },
  {
   "cell_type": "code",
   "execution_count": 18,
   "id": "bd395bd5-b071-44b8-b465-3a8933b303dd",
   "metadata": {},
   "outputs": [
    {
     "data": {
      "image/png": "[encoded data removed]",
      "text/plain": [
       "<Figure size 864x576 with 1 Axes>"
      ]
     },
     "metadata": {
      "needs_background": "light"
     },
     "output_type": "display_data"
    }
   ],
   "source": [
    "#собираем данные в один датафрейм\n",
    "cumulative_revenue = cumulative_revenue_A.merge(cumulative_revenue_B, left_on='date', right_on='date', how='left', suffixes=['A', 'B'])\n",
    "\n",
    "#строим график\n",
    "plt.figure(figsize=(12,8))\n",
    "plt.plot(\n",
    "    cumulative_revenue['date'], \n",
    "    (cumulative_revenue['revenueB']/cumulative_revenue['ordersB'])/(cumulative_revenue['revenueA']/cumulative_revenue['ordersA']) - 1)\n",
    "\n",
    "plt.grid()\n",
    "plt.title('Относительное изменение кумулятивного среднего чека группы В к группе А')\n",
    "plt.xlabel('Дни')\n",
    "plt.ylabel('Доли')\n",
    "plt.xticks(rotation=45)\n",
    "\n",
    "#добавляем ось \n",
    "plt.axhline(y=0, color='black', linestyle='--');"
   ]
  },
  {
   "cell_type": "markdown",
   "id": "fe92e954-80d8-44bf-a13a-86e5dfaaeea7",
   "metadata": {},
   "source": [
    "**Промежуточные выводы:** на графики видны сильные скачки, что еще раз подтверждает теорию об аномалиях. Почти на протяжении всего времени группа В лидировала в среднем чеке, однако 1 и 13 августа значения \"просели\" на 40 и 10 % соответственно относительно группы А."
   ]
  },
  {
   "cell_type": "markdown",
   "id": "c1673825-8902-4540-a204-18454a477693",
   "metadata": {},
   "source": [
    "### Построение графика кумулятивного среднего количества заказов на посетителя по группам"
   ]
  },
  {
   "cell_type": "code",
   "execution_count": 19,
   "id": "3f6a4936-ea92-4073-a4a4-26fbf80c6a51",
   "metadata": {},
   "outputs": [
    {
     "data": {
      "image/png": "[encoded data removed]",
      "text/plain": [
       "<Figure size 864x576 with 1 Axes>"
      ]
     },
     "metadata": {
      "needs_background": "light"
     },
     "output_type": "display_data"
    }
   ],
   "source": [
    "#считаем среднее число заказов на посетителя и делим по группам\n",
    "cumulative_data['conversion'] = cumulative_data['orders']/cumulative_data['visitors']\n",
    "\n",
    "cumulative_data_A = cumulative_data[cumulative_data['group'] == 'A']\n",
    "cumulative_data_B = cumulative_data[cumulative_data['group'] == 'B']\n",
    "\n",
    "#строим график\n",
    "plt.figure(figsize=(12,8))\n",
    "plt.plot(cumulative_data_A['date'], cumulative_data_A['conversion'], label='A')\n",
    "plt.plot(cumulative_data_B['date'], cumulative_data_B['conversion'], label='B')\n",
    "\n",
    "plt.grid()\n",
    "plt.title('Кумулятивное среднее количество заказов на посетителя по группам')\n",
    "plt.xlabel('Дни')\n",
    "plt.ylabel('Кол-во заказов')\n",
    "plt.xticks(rotation=45)\n",
    "plt.legend();"
   ]
  },
  {
   "cell_type": "markdown",
   "id": "ff5f2cf4-33be-42fd-b454-789e2a284bd6",
   "metadata": {},
   "source": [
    "**Промежуточные выводы:** после резких колебаний в начале, к середине теста оба графика выровнялись около некоторых значений - группа В показывает лучшие результаты в среднем количестве заказов на посетителя."
   ]
  },
  {
   "cell_type": "markdown",
   "id": "2f91d7c0-1025-4a26-b3a0-b44c4c5336b6",
   "metadata": {},
   "source": [
    "### Построение графика относительного изменения кумулятивного среднего количества заказов на посетителя группы B к группе A"
   ]
  },
  {
   "cell_type": "code",
   "execution_count": 20,
   "id": "21dbf091-8c0c-4092-be91-11f33a1ac6fc",
   "metadata": {},
   "outputs": [
    {
     "data": {
      "image/png": "[encoded data removed]",
      "text/plain": [
       "<Figure size 864x576 with 1 Axes>"
      ]
     },
     "metadata": {
      "needs_background": "light"
     },
     "output_type": "display_data"
    }
   ],
   "source": [
    "#собираем данные в один датафрейм\n",
    "cumulative_conversion = cumulative_data_A.merge(\n",
    "    cumulative_data_B, left_on='date', right_on='date', how='left', suffixes=['A', 'B']\n",
    ")\n",
    "\n",
    "#строим график\n",
    "plt.figure(figsize=(12,8))\n",
    "plt.plot(cumulative_conversion['date'], cumulative_conversion['conversionB']/cumulative_conversion['conversionA']-1)\n",
    "\n",
    "plt.grid()\n",
    "plt.title('Относительное изменение кумулятивного среднего количества заказов на посетителя группы B к группе A')\n",
    "plt.xlabel('Дни')\n",
    "plt.ylabel('Доли')\n",
    "plt.xticks(rotation=45)\n",
    "\n",
    "#добавляем ось\n",
    "plt.axhline(y=0, color='black', linestyle='--');"
   ]
  },
  {
   "cell_type": "markdown",
   "id": "8f3c4e3d-3d3e-4c87-b1e0-4c55d55af781",
   "metadata": {},
   "source": [
    "**Промежуточные выводы:** из графика видно, что в первые дни показатели группы В были хуже на 10-20% относительно группы А. Однако после 6 августа среднее количество заказов группы В превосходило группу А, даже достигнув в какой-то момент разницы в 20%. Однако выбор делать рано, пока в данных возможны аномалии."
   ]
  },
  {
   "cell_type": "markdown",
   "id": "9a0cdd3e-8209-459a-b064-28d4f215c5ca",
   "metadata": {},
   "source": [
    "### Построение точечного графика количества заказов по пользователям"
   ]
  },
  {
   "cell_type": "code",
   "execution_count": 21,
   "id": "4077bcf4-d70f-47d8-a0e3-e36c49bdaa26",
   "metadata": {},
   "outputs": [
    {
     "data": {
      "image/png": "[encoded data removed]",
      "text/plain": [
       "<Figure size 576x360 with 1 Axes>"
      ]
     },
     "metadata": {
      "needs_background": "light"
     },
     "output_type": "display_data"
    }
   ],
   "source": [
    "#считаем количество заказов по пользователям\n",
    "orders_by_users = orders.groupby('visitor_id', as_index=False).agg({'transaction_id':'nunique'})\n",
    "orders_by_users.columns = ['visitor_id', 'orders']\n",
    "\n",
    "#строим гистограмму\n",
    "plt.figure(figsize=(8, 5))\n",
    "plt.hist(orders_by_users['orders'])\n",
    "\n",
    "plt.grid()\n",
    "plt.title('Гистограмма количества заказов по пользователям')\n",
    "plt.xlabel('Заказы')\n",
    "plt.ylabel('Пользователи');"
   ]
  },
  {
   "cell_type": "code",
   "execution_count": 22,
   "id": "f46309a9-afc2-4e98-8554-8dcee13c13b3",
   "metadata": {},
   "outputs": [
    {
     "data": {
      "image/png": "[encoded data removed]",
      "text/plain": [
       "<Figure size 576x360 with 1 Axes>"
      ]
     },
     "metadata": {
      "needs_background": "light"
     },
     "output_type": "display_data"
    }
   ],
   "source": [
    "#строим точечную диаграмму\n",
    "x_values = pd.Series(range(0, len(orders_by_users)))\n",
    "plt.figure(figsize=(8, 5))\n",
    "plt.scatter(x_values, orders_by_users['orders'])\n",
    "\n",
    "plt.grid()\n",
    "plt.title('Точечный график количества заказов по пользователям')\n",
    "plt.xlabel('Пользователи')\n",
    "plt.ylabel('Заказы');"
   ]
  },
  {
   "cell_type": "markdown",
   "id": "65c16f9d-8bde-487f-bec0-6598877f671d",
   "metadata": {},
   "source": [
    "**Промежуточные выводы:** по графикам видно, что большинство посетителей делают не больше 1-2 заказов. Однако отсечь аномальные значения по точечному графику трудно - ведь \"на глаз\" не определить 1-5% от всех данных. Для выбора границы аномальных пользователей обратимся к перцентилям. "
   ]
  },
  {
   "cell_type": "markdown",
   "id": "6d97ff62-9753-4a16-b426-931138f29540",
   "metadata": {},
   "source": [
    "### Подсчет 95-й и 99-й перцентилей количества заказов на пользователя и выбор границы для определения аномальных пользователей"
   ]
  },
  {
   "cell_type": "code",
   "execution_count": 23,
   "id": "21fbd612-2ef7-42b6-b475-e8014ca3197b",
   "metadata": {},
   "outputs": [
    {
     "data": {
      "text/plain": [
       "array([1., 2.])"
      ]
     },
     "execution_count": 23,
     "metadata": {},
     "output_type": "execute_result"
    }
   ],
   "source": [
    "np.percentile(orders_by_users['orders'], [95,99])"
   ]
  },
  {
   "cell_type": "markdown",
   "id": "9dff1fe1-5d07-470f-9fd6-bedacb5175ac",
   "metadata": {},
   "source": [
    "**Промежуточные выводы:** итак, мы видим, что меньше 5% пользователей совершают больше 1 заказа. А больше 2 заказов совершал лишь 1% от всех испытуемых. Итого, для определения аномальных пользователей разумно выбрать границу в 2 заказа - 1% исключаются из рассмотрения."
   ]
  },
  {
   "cell_type": "markdown",
   "id": "86f3f4c6-44f0-4bfb-a740-0ce66e7be7bd",
   "metadata": {},
   "source": [
    "### Построение точечного графика стоимостей заказов"
   ]
  },
  {
   "cell_type": "code",
   "execution_count": 24,
   "id": "10e5d9e4-e712-4778-9e74-4a074243db59",
   "metadata": {},
   "outputs": [
    {
     "data": {
      "image/png": "[encoded data removed]",
      "text/plain": [
       "<Figure size 576x360 with 1 Axes>"
      ]
     },
     "metadata": {
      "needs_background": "light"
     },
     "output_type": "display_data"
    }
   ],
   "source": [
    "#строим гистограмму\n",
    "plt.figure(figsize=(8,5))\n",
    "plt.hist(orders['revenue'])\n",
    "\n",
    "plt.grid()\n",
    "plt.title('Гистограмма стоимостей заказов')\n",
    "plt.xlabel('Стоимость в млн')\n",
    "plt.ylabel('Кол-во заказов');"
   ]
  },
  {
   "cell_type": "code",
   "execution_count": 25,
   "id": "7c5f3a91-3302-4509-aca5-4cc1db968a95",
   "metadata": {},
   "outputs": [
    {
     "data": {
      "image/png": "[encoded data removed]",
      "text/plain": [
       "<Figure size 576x360 with 1 Axes>"
      ]
     },
     "metadata": {
      "needs_background": "light"
     },
     "output_type": "display_data"
    }
   ],
   "source": [
    "#строим точечную диаграмму\n",
    "x_values = pd.Series(range(0, len(orders['revenue'])))\n",
    "plt.figure(figsize=(8, 5))\n",
    "plt.scatter(x_values, orders['revenue'])\n",
    "\n",
    "plt.grid()\n",
    "plt.title('Точечный график стоимостей заказов')\n",
    "plt.xlabel('Кол-во заказов')\n",
    "plt.ylabel('Стоимость в млн');"
   ]
  },
  {
   "cell_type": "code",
   "execution_count": 26,
   "id": "25a89e6f-a58e-4379-be9e-e7760f0780ef",
   "metadata": {},
   "outputs": [
    {
     "data": {
      "image/png": "[encoded data removed]",
      "text/plain": [
       "<Figure size 576x360 with 1 Axes>"
      ]
     },
     "metadata": {
      "needs_background": "light"
     },
     "output_type": "display_data"
    }
   ],
   "source": [
    "#строим точечную диаграму без одного аномального значения\n",
    "x_values = pd.Series(range(0, len(orders.query('revenue <= 200000')['revenue'])))\n",
    "plt.figure(figsize=(8, 5))\n",
    "plt.scatter(x_values, orders.query('revenue <= 200000')['revenue'])\n",
    "\n",
    "plt.grid()\n",
    "plt.title('Точечный график стоимостей заказов без одного аномального заказа')\n",
    "plt.xlabel('Кол-во заказов')\n",
    "plt.ylabel('Стоимость');"
   ]
  },
  {
   "cell_type": "markdown",
   "id": "ea9f9db2-f200-4c7b-83bf-034a866f0f6f",
   "metadata": {},
   "source": [
    "**Промежуточные выводы:** итак, по графикам обнаружился тот самый заказ, из-за которого происходил резкий скачок во всех графиках - кто-то совершил покупку больше, чем на 1,2 миллиона рублей. В то время, как остальные пользователи не переступали отметку в 200 тысяч рублей. Исключив этого пользователя из рассмотрения, стало видно, что большая часть покупателей не осущетсвляют заказы дороже 40 тысяч.  "
   ]
  },
  {
   "cell_type": "markdown",
   "id": "9c4a52c7-7fd7-4d79-96ee-ebd0b5eda469",
   "metadata": {},
   "source": [
    "### Подсчет 95-й и 99-й перцентилей стоимости заказов и выбор границы для определения аномальных заказов"
   ]
  },
  {
   "cell_type": "code",
   "execution_count": 27,
   "id": "75078d95-2def-466c-b977-93f3aa5223b6",
   "metadata": {},
   "outputs": [
    {
     "data": {
      "text/plain": [
       "array([26785., 53904.])"
      ]
     },
     "execution_count": 27,
     "metadata": {},
     "output_type": "execute_result"
    }
   ],
   "source": [
    "np.percentile(orders['revenue'], [95,99])"
   ]
  },
  {
   "cell_type": "markdown",
   "id": "cb334551-f1aa-4a77-8c39-629ffb601046",
   "metadata": {},
   "source": [
    "**Промежуточные выводы:** по результатам видно, что меньше 5% заказов оказались дороже 26785. А заказы дороже 53904 рублей попадались лишь в 1% случаев. Итого, для определения аномальных заказов разумно выбрать границу в 40000 рублей - от 1 до 5 % исключаются из рассмотрения."
   ]
  },
  {
   "cell_type": "markdown",
   "id": "1971c488-7171-4ea5-8a2a-7ffce22850c9",
   "metadata": {},
   "source": [
    "### Подсчет статистической значимости различий в среднем количестве заказов на посетителя между группами по «сырым» данным"
   ]
  },
  {
   "cell_type": "markdown",
   "id": "8ac36d9a-3e39-4a7b-92ef-f21e77221442",
   "metadata": {},
   "source": [
    "Сформулируем гипотезы. \n",
    "\n",
    "Нулевая: различий в среднем количестве заказов между группами нет. \n",
    "\n",
    "Альтернативная: различия в среднем между группами есть.\n",
    "\n",
    "Выбранный уровень статистической значимости: alpha=0.05\n",
    "\n",
    "В наших данных встречаются выбросы, а данные распределены ненормально, поэтому для проверки гипотез воспользуемся непараметрическим тестом Уилкоксона-Манна-Уитни."
   ]
  },
  {
   "cell_type": "code",
   "execution_count": 28,
   "id": "6e416e0f-73ef-4e26-86c7-98ebffc73d22",
   "metadata": {},
   "outputs": [],
   "source": [
    "#подготовка данных о посетителях\n",
    "visitors_A_daily = visitors[visitors['group'] == 'A'][['date', 'visitors']]\n",
    "visitors_A_daily.columns = ['date', 'visitors_per_date_A']\n",
    "\n",
    "visitors_A_cummulative = visitors_A_daily.apply(\n",
    "    lambda x: visitors_A_daily[visitors_A_daily['date'] <= x['date']].agg({'date':'max', 'visitors_per_date_A':'sum'}), \n",
    "    axis=1)\n",
    "visitors_A_cummulative.columns = ['date', 'visitors_cummulative_A']\n",
    "\n",
    "visitors_B_daily = visitors[visitors['group'] == 'B'][['date', 'visitors']]\n",
    "visitors_B_daily.columns = ['date', 'visitors_per_date_B']\n",
    "\n",
    "visitors_B_cummulative = visitors_B_daily.apply(\n",
    "    lambda x: visitors_B_daily[visitors_B_daily['date'] <= x['date']].agg({'date':'max', 'visitors_per_date_B':'sum'}), \n",
    "    axis=1)\n",
    "visitors_B_cummulative.columns = ['date', 'visitors_cummulative_B']"
   ]
  },
  {
   "cell_type": "code",
   "execution_count": 29,
   "id": "655ac613-eb4d-41ce-88a4-546f55a0a39e",
   "metadata": {},
   "outputs": [],
   "source": [
    "#подготовка данных о заказах\n",
    "orders_A_daily = (\n",
    "    orders[orders['group'] == 'A'][['date', 'transaction_id', 'visitor_id', 'revenue']]\n",
    "    .groupby('date', as_index=False)\n",
    "    .agg({'transaction_id':'nunique', 'revenue':'sum'}))\n",
    "orders_A_daily.columns = ['date', 'orders_per_date_A', 'revenue_per_date_A']\n",
    "\n",
    "orders_A_cummulative = orders_A_daily.apply(\n",
    "    lambda x: orders_A_daily[orders_A_daily['date'] <= x['date']].agg({'date':'max', 'orders_per_date_A':'sum', 'revenue_per_date_A':'sum'}),\n",
    "    axis=1).sort_values(by=['date'])\n",
    "orders_A_cummulative.columns = ['date', 'orders_cummulative_A', 'revenue_cummulative_A']\n",
    "\n",
    "orders_B_daily = (\n",
    "    orders[orders['group'] == 'A'][['date', 'transaction_id', 'visitor_id', 'revenue']]\n",
    "    .groupby('date', as_index=False)\n",
    "    .agg({'transaction_id':'nunique', 'revenue':'sum'}))\n",
    "orders_B_daily.columns = ['date', 'orders_per_date_B', 'revenue_per_date_B']\n",
    "\n",
    "orders_B_cummulative = orders_B_daily.apply(\n",
    "    lambda x: orders_B_daily[orders_B_daily['date'] <= x['date']].agg({'date':'max', 'orders_per_date_B':'sum', 'revenue_per_date_B':'sum'}),\n",
    "    axis=1).sort_values(by=['date'])\n",
    "orders_B_cummulative.columns = ['date', 'orders_cummulative_B', 'revenue_cummulative_B']"
   ]
  },
  {
   "cell_type": "code",
   "execution_count": 30,
   "id": "4f6ab75d-52de-4d82-bec7-3792ff77279a",
   "metadata": {},
   "outputs": [],
   "source": [
    "#создадим переменные, в которых будут пользователями и число совершённых заказов \n",
    "orders_by_users_A = orders[orders['group'] == 'A'].groupby('visitor_id', as_index=False).agg({'transaction_id':'nunique'})\n",
    "orders_by_users_A.columns = ['visitor_id', 'orders']\n",
    "\n",
    "orders_by_users_B = orders[orders['group'] == 'B'].groupby('visitor_id', as_index=False).agg({'transaction_id':'nunique'})\n",
    "orders_by_users_B.columns = ['visitor_id', 'orders']"
   ]
  },
  {
   "cell_type": "code",
   "execution_count": 31,
   "id": "e5854d74-e180-42d1-8311-99fb58be4408",
   "metadata": {},
   "outputs": [],
   "source": [
    "#создадим переменные по группам с числом заказов определённого пользователя, в том числе нулем\n",
    "sampleA = pd.concat(\n",
    "    [orders_by_users_A['orders'], \n",
    "    pd.Series(0, index=np.arange(\n",
    "        cumulative_data[cumulative_data['group'] == 'A']['visitors'].max()-len(orders_by_users_A['orders'])), name='orders')],\n",
    "    axis=0\n",
    ")\n",
    "\n",
    "sampleB = pd.concat(\n",
    "    [orders_by_users_B['orders'],\n",
    "    pd.Series(0, index=np.arange(\n",
    "        cumulative_data[cumulative_data['group'] == 'B']['visitors'].max()-len(orders_by_users_B['orders'])), name='orders')],\n",
    "    axis=0\n",
    ")"
   ]
  },
  {
   "cell_type": "code",
   "execution_count": 32,
   "id": "64c04a12-6e85-48d1-a305-544f9e54491f",
   "metadata": {},
   "outputs": [
    {
     "name": "stdout",
     "output_type": "stream",
     "text": [
      "p-value: 0.011\n",
      "относительный прирост В к А: 0.160\n"
     ]
    }
   ],
   "source": [
    "#посчитаем статистическую значимость по \"сырым\" данным\n",
    "print('p-value:', \"{0:.3f}\".format(stats.mannwhitneyu(sampleA, sampleB)[1]))\n",
    "print('относительный прирост В к А:', \"{0:.3f}\".format(sampleB.mean() / sampleA.mean() - 1))"
   ]
  },
  {
   "cell_type": "markdown",
   "id": "a4a09f00-7d8f-47cd-8695-001eaad70de8",
   "metadata": {},
   "source": [
    "**Промежуточные выводы:** при уровне значимости alpha=0.05 можно отвергнуть нулевую гипотезу, так как p-value меньше alpha - а значит, в данных есть статистически значимые различия. Однако при alpha=0.01 такой вывод уже сделать нельзя. Относительный прирост группы В составил 16%. На мой взгляд, с таким выигрышем относительно группы А, логично выбрать уровень значимости в 5% и считать, что статистические различия в среднем количестве заказов на посетителя между группами есть. "
   ]
  },
  {
   "cell_type": "markdown",
   "id": "a17abc73-d181-48f4-99e9-ccee9ba7fe95",
   "metadata": {},
   "source": [
    "### Подсчет статистической значимости различий в среднем чеке заказа между группами по «сырым» данным"
   ]
  },
  {
   "cell_type": "markdown",
   "id": "7df35603-4bf8-49c1-b3fa-f9f15691e72f",
   "metadata": {},
   "source": [
    "Сформулируем гипотезы.\n",
    "\n",
    "Нулевая: различий в среднем чеке заказа между группами нет.\n",
    "\n",
    "Альтернативная: различия в среднем чеке между группами есть."
   ]
  },
  {
   "cell_type": "code",
   "execution_count": 33,
   "id": "575a1b07-c705-4b01-8eb0-768da26744e0",
   "metadata": {},
   "outputs": [
    {
     "name": "stdout",
     "output_type": "stream",
     "text": [
      "p-value: 0.829\n",
      "относительный прирост В к А: 0.287\n"
     ]
    }
   ],
   "source": [
    "#посчитаем статистическую значимость по \"сырым\" данным\n",
    "print('p-value:', \"{0:.3f}\".format(stats.mannwhitneyu(orders[orders['group'] == 'A']['revenue'], orders[orders['group'] == 'B']['revenue'])[1]))\n",
    "print('относительный прирост В к А:', \"{0:.3f}\".format(orders[orders['group'] == 'B']['revenue'].mean()/orders[orders['group'] == 'A']['revenue'].mean() - 1))"
   ]
  },
  {
   "cell_type": "markdown",
   "id": "afdaa771-8a00-4b04-b5b0-20a48ebb2074",
   "metadata": {},
   "source": [
    "**Промежуточные выводы:** нельзя отвергнуть нулевую гипотезу, так как p-value значительно больше alpha - значит, в данных нет статистически значимых различий. Относительный прирост группы В составил 28,7%."
   ]
  },
  {
   "cell_type": "markdown",
   "id": "6dbaa057-90b4-42c6-b32b-177d4b44c060",
   "metadata": {},
   "source": [
    "### Подсчет статистической значимости различий в среднем количестве заказов на посетителя между группами по «очищенным» данным"
   ]
  },
  {
   "cell_type": "code",
   "execution_count": 34,
   "id": "67743ff3-f0d0-46bf-9ea7-243a24185907",
   "metadata": {},
   "outputs": [
    {
     "name": "stdout",
     "output_type": "stream",
     "text": [
      "всего аномальных пользователей: 23\n"
     ]
    }
   ],
   "source": [
    "#сделаем срез с аномальными пользователями\n",
    "users_with_many_orders = pd.concat(\n",
    "    [orders_by_users_A[orders_by_users_A['orders'] > 3]['visitor_id'],\n",
    "    orders_by_users_B[orders_by_users_B['orders'] > 3]['visitor_id']],\n",
    "    axis=0)\n",
    "\n",
    "users_with_expensive_orders = orders[orders['revenue'] > 40000]['visitor_id']\n",
    "\n",
    "abnormal_users = (\n",
    "    pd.concat([users_with_many_orders, users_with_expensive_orders], axis=0)\n",
    "    .drop_duplicates()\n",
    "    .sort_values()\n",
    ")\n",
    "\n",
    "print('всего аномальных пользователей:', abnormal_users.shape[0])"
   ]
  },
  {
   "cell_type": "code",
   "execution_count": 35,
   "id": "1fd963a3-6e02-4b88-a4b7-0c66f711bdc2",
   "metadata": {},
   "outputs": [
    {
     "name": "stdout",
     "output_type": "stream",
     "text": [
      "p-value: 0.005\n",
      "относительный прирост В к А: 0.184\n"
     ]
    }
   ],
   "source": [
    "#посчитаем статистическую значимость по \"очищенным\" данным\n",
    "sampleA_filtered = pd.concat(\n",
    "    [orders_by_users_A[np.logical_not(orders_by_users_A['visitor_id'].isin(abnormal_users))]['orders'], \n",
    "    pd.Series(0, index=np.arange(\n",
    "        cumulative_data[cumulative_data['group'] == 'A']['visitors'].max()-len(orders_by_users_A['orders'])), name='orders')],\n",
    "    axis=0\n",
    ")\n",
    "\n",
    "sampleB_filtered = pd.concat(\n",
    "    [orders_by_users_B[np.logical_not(orders_by_users_B['visitor_id'].isin(abnormal_users))]['orders'],\n",
    "    pd.Series(0, index=np.arange(\n",
    "        cumulative_data[cumulative_data['group'] == 'A']['visitors'].max()-len(orders_by_users_A['orders'])), name='orders')],\n",
    "    axis=0\n",
    ")\n",
    "print('p-value:', \"{0:.3f}\".format(stats.mannwhitneyu(sampleA_filtered, sampleB_filtered)[1]))\n",
    "print('относительный прирост В к А:', \"{0:.3f}\".format(sampleB_filtered.mean()/sampleA_filtered.mean() - 1))"
   ]
  },
  {
   "cell_type": "markdown",
   "id": "ca1fba60-f96e-4cab-9a7b-41306c8e0c9b",
   "metadata": {},
   "source": [
    "**Промежуточные данные:** по \"очищенным\" данным при обоих уровнях значимости (0,05 и 0,01) p-value меньше alpha. А значит склоняемся в пользу альтернативной гипотезы, что статистически значимые различия между данными есть. По результатам, очищенным от аномальных значений, относительный прирост группы В составил 18.4%."
   ]
  },
  {
   "cell_type": "markdown",
   "id": "d914480e-2249-4b65-b1e7-dc4d2ec45530",
   "metadata": {},
   "source": [
    "### Подсчет статистической значимости различий в среднем чеке заказа между группами по «очищенным» данным"
   ]
  },
  {
   "cell_type": "code",
   "execution_count": 36,
   "id": "f9e91965-8641-4a24-9192-4adc111cf39a",
   "metadata": {},
   "outputs": [
    {
     "name": "stdout",
     "output_type": "stream",
     "text": [
      "p-value: 0.831\n",
      "относительный прирост В к А: 0.051\n"
     ]
    }
   ],
   "source": [
    "#посчитаем статистическую значимость по \"очищенным\" данным\n",
    "revenue_A_filtered = orders[np.logical_and(orders['group'] == 'A', np.logical_not(orders['visitor_id'].isin(abnormal_users)))]['revenue']\n",
    "revenue_B_filtered = orders[np.logical_and(orders['group'] == 'B', np.logical_not(orders['visitor_id'].isin(abnormal_users)))]['revenue']\n",
    "print('p-value:', \"{0:.3f}\".format(stats.mannwhitneyu(revenue_A_filtered, revenue_B_filtered)[1]))\n",
    "print('относительный прирост В к А:', \"{0:.3f}\".format(revenue_B_filtered.mean() / revenue_A_filtered.mean() - 1))"
   ]
  },
  {
   "cell_type": "markdown",
   "id": "808cdfe1-d131-434f-a6cf-61fa7e9d3dd3",
   "metadata": {},
   "source": [
    "**Промежуточные выводы:** p-value так и остался значительно больше alpha, а значит, нельзя отвергнуть нулевую гипотезу о том, что в данных нет статистически значимых различий. А вот относительный прирост группы В существенно уменьшился в сравнении с сырыми данными - с 28,7% до 5%. Аномально дорогие заказы сильно повлияли на разницу в среднем чеке у групп."
   ]
  },
  {
   "cell_type": "markdown",
   "id": "c96e3f9f-eaef-4891-9a78-6c69bfdf033a",
   "metadata": {},
   "source": [
    "## Общие выводы"
   ]
  },
  {
   "cell_type": "markdown",
   "id": "5599a6aa-6469-4a0b-9e9d-0f5e86f22e74",
   "metadata": {},
   "source": [
    "В процессе исследования задачи, поставленной заказчиком, были выполнены следующие этапы, а также сделаны выводы и составлены рекомендации по ним:\n",
    "1. Применены фреймворки ICE и RICE для приоритизации гипотез.\n",
    "\n",
    "В результате, если охват пользователей учитывать нет необходимости, то в первую очередь стоят следующие гипотезы:\n",
    "   - Запустить акцию, дающую скидку на товар в день рождения;\n",
    "   - Добавить два новых канала привлечения трафика, что позволит привлекать на 30% больше пользователей;\n",
    "   - Добавить форму подписки на все основные страницы, чтобы собрать базу клиентов для email-рассылок.\n",
    "\n",
    "При учете охвата пользователей приоритет изменился:\n",
    "   - Добавить форму подписки на все основные страницы, чтобы собрать базу клиентов для email-рассылок;\n",
    "   - Добавить блоки рекомендаций товаров на сайт интернет-магазина, чтобы повысить конверсию и средний чек заказа;\n",
    "   - Добавить два новых канала привлечения трафика, что позволит привлекать на 30% больше пользователей.\n",
    "   \n",
    "2. Проведен анализ А/B-теста\n",
    "- Графики кумулятиывных данных стабильно показывают превосходство группы В, однако на них видны резкие, аномальные скачки;\n",
    "- Статистически значимые отличия в среднем количестве заказов между группами есть. По результатам, очищенным от аномальных значений, относительный прирост группы В к А составил целых 18.4%;\n",
    "- В данных о среднем чеке заказа нет статистически значимых различий  между группами. А относительный прирост группы В к А по \"очищенным\" данным составил всего 5%.\n",
    "\n",
    "3. По результатам проведенного теста я приняла решение остановить его и зафиксировать победу группы В. Проанализировав результаты можно заметить, что группа В стабильно занимала лидирующую позицию. Несмотря на значительные выбросы в данных, связанные с аномально дорогими заказами, \"сырые\" и \"очищенные\" данные дали нам один результат - хотя в среднем чеке и не наблюдалось особой разницы, было выявлено статистически значимое отличие между группами в количестве заказов на посетителя."
   ]
  }
 ],
 "metadata": {
  "ExecuteTimeLog": [
   {
    "duration": 1373,
    "start_time": "2025-01-27T15:33:33.712Z"
   },
   {
    "duration": 209,
    "start_time": "2025-01-27T15:33:35.087Z"
   },
   {
    "duration": 236,
    "start_time": "2025-01-27T15:33:35.297Z"
   },
   {
    "duration": 18,
    "start_time": "2025-01-27T15:33:35.536Z"
   },
   {
    "duration": 31,
    "start_time": "2025-01-27T15:33:35.556Z"
   },
   {
    "duration": 49,
    "start_time": "2025-01-27T15:33:35.589Z"
   },
   {
    "duration": 64,
    "start_time": "2025-01-27T15:33:35.640Z"
   },
   {
    "duration": 46,
    "start_time": "2025-01-27T15:33:35.706Z"
   },
   {
    "duration": 39,
    "start_time": "2025-01-27T15:33:35.753Z"
   },
   {
    "duration": 14,
    "start_time": "2025-01-27T15:33:35.794Z"
   },
   {
    "duration": 40,
    "start_time": "2025-01-27T15:33:35.810Z"
   },
   {
    "duration": 376,
    "start_time": "2025-01-27T15:33:35.852Z"
   },
   {
    "duration": 14,
    "start_time": "2025-01-27T15:33:36.230Z"
   },
   {
    "duration": 340,
    "start_time": "2025-01-27T15:33:36.247Z"
   },
   {
    "duration": 215,
    "start_time": "2025-01-27T15:33:36.589Z"
   },
   {
    "duration": 371,
    "start_time": "2025-01-27T15:33:36.806Z"
   },
   {
    "duration": 234,
    "start_time": "2025-01-27T15:33:37.179Z"
   },
   {
    "duration": 334,
    "start_time": "2025-01-27T15:33:37.415Z"
   },
   {
    "duration": 142,
    "start_time": "2025-01-27T15:33:37.751Z"
   },
   {
    "duration": 181,
    "start_time": "2025-01-27T15:33:37.895Z"
   },
   {
    "duration": 6,
    "start_time": "2025-01-27T15:33:38.078Z"
   },
   {
    "duration": 148,
    "start_time": "2025-01-27T15:33:38.086Z"
   },
   {
    "duration": 175,
    "start_time": "2025-01-27T15:33:38.236Z"
   },
   {
    "duration": 274,
    "start_time": "2025-01-27T15:33:38.413Z"
   },
   {
    "duration": 5,
    "start_time": "2025-01-27T15:33:38.689Z"
   },
   {
    "duration": 115,
    "start_time": "2025-01-27T15:33:38.697Z"
   },
   {
    "duration": 130,
    "start_time": "2025-01-27T15:33:38.814Z"
   },
   {
    "duration": 44,
    "start_time": "2025-01-27T15:33:38.946Z"
   },
   {
    "duration": 14,
    "start_time": "2025-01-27T15:33:38.992Z"
   },
   {
    "duration": 11,
    "start_time": "2025-01-27T15:33:39.007Z"
   },
   {
    "duration": 54,
    "start_time": "2025-01-27T15:33:39.020Z"
   },
   {
    "duration": 13,
    "start_time": "2025-01-27T15:33:39.076Z"
   },
   {
    "duration": 25,
    "start_time": "2025-01-27T15:33:39.091Z"
   },
   {
    "duration": 61,
    "start_time": "2025-01-27T15:33:39.118Z"
   },
   {
    "duration": 13,
    "start_time": "2025-01-27T15:33:39.181Z"
   },
   {
    "duration": 1210,
    "start_time": "2025-01-27T15:51:44.261Z"
   },
   {
    "duration": 168,
    "start_time": "2025-01-27T15:51:45.473Z"
   },
   {
    "duration": 136,
    "start_time": "2025-01-27T15:51:45.643Z"
   },
   {
    "duration": 16,
    "start_time": "2025-01-27T15:51:45.781Z"
   },
   {
    "duration": 5,
    "start_time": "2025-01-27T15:51:45.800Z"
   },
   {
    "duration": 17,
    "start_time": "2025-01-27T15:51:45.807Z"
   },
   {
    "duration": 14,
    "start_time": "2025-01-27T15:51:45.826Z"
   },
   {
    "duration": 6,
    "start_time": "2025-01-27T15:51:45.860Z"
   },
   {
    "duration": 15,
    "start_time": "2025-01-27T15:51:45.869Z"
   },
   {
    "duration": 14,
    "start_time": "2025-01-27T15:51:45.886Z"
   },
   {
    "duration": 13,
    "start_time": "2025-01-27T15:51:45.902Z"
   },
   {
    "duration": 331,
    "start_time": "2025-01-27T15:51:45.917Z"
   },
   {
    "duration": 21,
    "start_time": "2025-01-27T15:51:46.250Z"
   },
   {
    "duration": 310,
    "start_time": "2025-01-27T15:51:46.275Z"
   },
   {
    "duration": 205,
    "start_time": "2025-01-27T15:51:46.587Z"
   },
   {
    "duration": 294,
    "start_time": "2025-01-27T15:51:46.794Z"
   },
   {
    "duration": 227,
    "start_time": "2025-01-27T15:51:47.090Z"
   },
   {
    "duration": 319,
    "start_time": "2025-01-27T15:51:47.319Z"
   },
   {
    "duration": 137,
    "start_time": "2025-01-27T15:51:47.640Z"
   },
   {
    "duration": 134,
    "start_time": "2025-01-27T15:51:47.779Z"
   },
   {
    "duration": 12,
    "start_time": "2025-01-27T15:51:47.916Z"
   },
   {
    "duration": 193,
    "start_time": "2025-01-27T15:51:47.931Z"
   },
   {
    "duration": 149,
    "start_time": "2025-01-27T15:51:48.126Z"
   },
   {
    "duration": 232,
    "start_time": "2025-01-27T15:51:48.277Z"
   },
   {
    "duration": 6,
    "start_time": "2025-01-27T15:51:48.511Z"
   },
   {
    "duration": 113,
    "start_time": "2025-01-27T15:51:48.519Z"
   },
   {
    "duration": 116,
    "start_time": "2025-01-27T15:51:48.634Z"
   },
   {
    "duration": 39,
    "start_time": "2025-01-27T15:51:48.752Z"
   },
   {
    "duration": 12,
    "start_time": "2025-01-27T15:51:48.793Z"
   },
   {
    "duration": 6,
    "start_time": "2025-01-27T15:51:48.807Z"
   },
   {
    "duration": 59,
    "start_time": "2025-01-27T15:51:48.815Z"
   },
   {
    "duration": 13,
    "start_time": "2025-01-27T15:51:48.876Z"
   },
   {
    "duration": 10,
    "start_time": "2025-01-27T15:51:48.890Z"
   },
   {
    "duration": 66,
    "start_time": "2025-01-27T15:51:48.901Z"
   },
   {
    "duration": 12,
    "start_time": "2025-01-27T15:51:48.969Z"
   },
   {
    "duration": 50,
    "start_time": "2025-01-27T19:33:21.499Z"
   },
   {
    "duration": 1270,
    "start_time": "2025-01-27T19:33:28.589Z"
   },
   {
    "duration": 176,
    "start_time": "2025-01-27T19:33:29.861Z"
   },
   {
    "duration": 288,
    "start_time": "2025-01-27T19:33:30.039Z"
   },
   {
    "duration": 16,
    "start_time": "2025-01-27T19:33:30.329Z"
   },
   {
    "duration": 36,
    "start_time": "2025-01-27T19:33:30.346Z"
   },
   {
    "duration": 50,
    "start_time": "2025-01-27T19:33:30.384Z"
   },
   {
    "duration": 81,
    "start_time": "2025-01-27T19:33:30.435Z"
   },
   {
    "duration": 72,
    "start_time": "2025-01-27T19:33:30.517Z"
   },
   {
    "duration": 36,
    "start_time": "2025-01-27T19:33:30.590Z"
   },
   {
    "duration": 44,
    "start_time": "2025-01-27T19:33:30.628Z"
   },
   {
    "duration": 27,
    "start_time": "2025-01-27T19:33:30.674Z"
   },
   {
    "duration": 23,
    "start_time": "2025-01-27T19:33:30.703Z"
   },
   {
    "duration": 345,
    "start_time": "2025-01-27T19:33:30.728Z"
   },
   {
    "duration": 13,
    "start_time": "2025-01-27T19:33:31.075Z"
   },
   {
    "duration": 336,
    "start_time": "2025-01-27T19:33:31.090Z"
   },
   {
    "duration": 187,
    "start_time": "2025-01-27T19:33:31.428Z"
   },
   {
    "duration": 327,
    "start_time": "2025-01-27T19:33:31.617Z"
   },
   {
    "duration": 204,
    "start_time": "2025-01-27T19:33:31.945Z"
   },
   {
    "duration": 268,
    "start_time": "2025-01-27T19:33:32.151Z"
   },
   {
    "duration": 116,
    "start_time": "2025-01-27T19:33:32.420Z"
   },
   {
    "duration": 124,
    "start_time": "2025-01-27T19:33:32.538Z"
   },
   {
    "duration": 5,
    "start_time": "2025-01-27T19:33:32.664Z"
   },
   {
    "duration": 144,
    "start_time": "2025-01-27T19:33:32.671Z"
   },
   {
    "duration": 135,
    "start_time": "2025-01-27T19:33:32.816Z"
   },
   {
    "duration": 234,
    "start_time": "2025-01-27T19:33:32.952Z"
   },
   {
    "duration": 5,
    "start_time": "2025-01-27T19:33:33.188Z"
   },
   {
    "duration": 102,
    "start_time": "2025-01-27T19:33:33.195Z"
   },
   {
    "duration": 108,
    "start_time": "2025-01-27T19:33:33.300Z"
   },
   {
    "duration": 33,
    "start_time": "2025-01-27T19:33:33.414Z"
   },
   {
    "duration": 49,
    "start_time": "2025-01-27T19:33:33.449Z"
   },
   {
    "duration": 31,
    "start_time": "2025-01-27T19:33:33.499Z"
   },
   {
    "duration": 47,
    "start_time": "2025-01-27T19:33:33.532Z"
   },
   {
    "duration": 12,
    "start_time": "2025-01-27T19:33:33.581Z"
   },
   {
    "duration": 16,
    "start_time": "2025-01-27T19:33:33.594Z"
   },
   {
    "duration": 56,
    "start_time": "2025-01-27T19:33:33.612Z"
   },
   {
    "duration": 13,
    "start_time": "2025-01-27T19:33:33.670Z"
   },
   {
    "duration": 9,
    "start_time": "2025-01-27T19:34:29.649Z"
   },
   {
    "duration": 100,
    "start_time": "2025-01-27T19:35:29.199Z"
   },
   {
    "duration": 10,
    "start_time": "2025-01-27T19:36:44.835Z"
   },
   {
    "duration": 11,
    "start_time": "2025-01-27T19:36:51.387Z"
   },
   {
    "duration": 10,
    "start_time": "2025-01-27T19:36:57.486Z"
   },
   {
    "duration": 19,
    "start_time": "2025-01-27T19:40:04.362Z"
   },
   {
    "duration": 17,
    "start_time": "2025-01-27T19:40:32.593Z"
   },
   {
    "duration": 19,
    "start_time": "2025-01-27T19:41:29.812Z"
   },
   {
    "duration": 76,
    "start_time": "2025-01-27T19:45:07.003Z"
   },
   {
    "duration": 209,
    "start_time": "2025-01-27T20:11:53.479Z"
   },
   {
    "duration": 164,
    "start_time": "2025-01-27T20:12:48.821Z"
   },
   {
    "duration": 150,
    "start_time": "2025-01-27T20:13:04.424Z"
   },
   {
    "duration": 148,
    "start_time": "2025-01-27T20:13:15.378Z"
   },
   {
    "duration": 156,
    "start_time": "2025-01-27T20:13:30.597Z"
   },
   {
    "duration": 193,
    "start_time": "2025-01-27T20:14:53.432Z"
   },
   {
    "duration": 202,
    "start_time": "2025-01-27T20:17:33.365Z"
   },
   {
    "duration": 203,
    "start_time": "2025-01-27T20:22:24.496Z"
   },
   {
    "duration": 330,
    "start_time": "2025-01-27T20:23:26.379Z"
   },
   {
    "duration": 219,
    "start_time": "2025-01-27T20:35:13.156Z"
   },
   {
    "duration": 430,
    "start_time": "2025-01-27T20:38:36.393Z"
   },
   {
    "duration": 337,
    "start_time": "2025-01-27T20:39:07.207Z"
   },
   {
    "duration": 136,
    "start_time": "2025-01-27T20:41:42.510Z"
   },
   {
    "duration": 67,
    "start_time": "2025-01-27T20:42:05.856Z"
   },
   {
    "duration": 127,
    "start_time": "2025-01-27T20:42:10.300Z"
   },
   {
    "duration": 147,
    "start_time": "2025-01-27T20:42:25.271Z"
   },
   {
    "duration": 148,
    "start_time": "2025-01-27T20:43:37.101Z"
   },
   {
    "duration": 146,
    "start_time": "2025-01-27T20:44:00.717Z"
   },
   {
    "duration": 122,
    "start_time": "2025-01-27T20:44:45.956Z"
   },
   {
    "duration": 149,
    "start_time": "2025-01-27T20:44:58.725Z"
   },
   {
    "duration": 3,
    "start_time": "2025-01-27T20:46:08.244Z"
   },
   {
    "duration": 154,
    "start_time": "2025-01-27T20:46:08.249Z"
   },
   {
    "duration": 212,
    "start_time": "2025-01-27T20:46:08.405Z"
   },
   {
    "duration": 14,
    "start_time": "2025-01-27T20:46:08.619Z"
   },
   {
    "duration": 36,
    "start_time": "2025-01-27T20:46:08.635Z"
   },
   {
    "duration": 24,
    "start_time": "2025-01-27T20:46:08.672Z"
   },
   {
    "duration": 37,
    "start_time": "2025-01-27T20:46:08.698Z"
   },
   {
    "duration": 5,
    "start_time": "2025-01-27T20:46:08.737Z"
   },
   {
    "duration": 12,
    "start_time": "2025-01-27T20:46:08.744Z"
   },
   {
    "duration": 17,
    "start_time": "2025-01-27T20:46:08.758Z"
   },
   {
    "duration": 12,
    "start_time": "2025-01-27T20:46:08.777Z"
   },
   {
    "duration": 26,
    "start_time": "2025-01-27T20:46:08.791Z"
   },
   {
    "duration": 13,
    "start_time": "2025-01-27T20:46:08.819Z"
   },
   {
    "duration": 273,
    "start_time": "2025-01-27T20:46:08.834Z"
   },
   {
    "duration": 13,
    "start_time": "2025-01-27T20:46:09.109Z"
   },
   {
    "duration": 208,
    "start_time": "2025-01-27T20:46:09.124Z"
   },
   {
    "duration": 297,
    "start_time": "2025-01-27T20:46:09.334Z"
   },
   {
    "duration": 298,
    "start_time": "2025-01-27T20:46:09.633Z"
   },
   {
    "duration": 227,
    "start_time": "2025-01-27T20:46:09.932Z"
   },
   {
    "duration": 306,
    "start_time": "2025-01-27T20:46:10.161Z"
   },
   {
    "duration": 157,
    "start_time": "2025-01-27T20:46:10.469Z"
   },
   {
    "duration": 162,
    "start_time": "2025-01-27T20:46:10.629Z"
   },
   {
    "duration": 5,
    "start_time": "2025-01-27T20:46:10.794Z"
   },
   {
    "duration": 138,
    "start_time": "2025-01-27T20:46:10.802Z"
   },
   {
    "duration": 134,
    "start_time": "2025-01-27T20:46:10.942Z"
   },
   {
    "duration": 119,
    "start_time": "2025-01-27T20:46:11.079Z"
   },
   {
    "duration": 6,
    "start_time": "2025-01-27T20:46:11.200Z"
   },
   {
    "duration": 102,
    "start_time": "2025-01-27T20:46:11.215Z"
   },
   {
    "duration": 111,
    "start_time": "2025-01-27T20:46:11.322Z"
   },
   {
    "duration": 29,
    "start_time": "2025-01-27T20:46:11.434Z"
   },
   {
    "duration": 12,
    "start_time": "2025-01-27T20:46:11.464Z"
   },
   {
    "duration": 11,
    "start_time": "2025-01-27T20:46:11.478Z"
   },
   {
    "duration": 47,
    "start_time": "2025-01-27T20:46:11.491Z"
   },
   {
    "duration": 13,
    "start_time": "2025-01-27T20:46:11.540Z"
   },
   {
    "duration": 10,
    "start_time": "2025-01-27T20:46:11.555Z"
   },
   {
    "duration": 64,
    "start_time": "2025-01-27T20:46:11.567Z"
   },
   {
    "duration": 12,
    "start_time": "2025-01-27T20:46:11.633Z"
   },
   {
    "duration": 140,
    "start_time": "2025-01-27T20:49:45.158Z"
   },
   {
    "duration": 143,
    "start_time": "2025-01-27T20:51:21.214Z"
   },
   {
    "duration": 235,
    "start_time": "2025-01-27T20:52:34.648Z"
   },
   {
    "duration": 2,
    "start_time": "2025-01-27T21:03:42.398Z"
   },
   {
    "duration": 23,
    "start_time": "2025-01-27T21:06:06.898Z"
   },
   {
    "duration": 376,
    "start_time": "2025-01-27T21:06:12.997Z"
   },
   {
    "duration": 66,
    "start_time": "2025-01-27T21:08:14.322Z"
   },
   {
    "duration": 1027,
    "start_time": "2025-01-27T21:08:43.659Z"
   },
   {
    "duration": 197,
    "start_time": "2025-01-27T21:08:44.688Z"
   },
   {
    "duration": 230,
    "start_time": "2025-01-27T21:08:44.887Z"
   },
   {
    "duration": 15,
    "start_time": "2025-01-27T21:08:45.119Z"
   },
   {
    "duration": 38,
    "start_time": "2025-01-27T21:08:45.136Z"
   },
   {
    "duration": 29,
    "start_time": "2025-01-27T21:08:45.175Z"
   },
   {
    "duration": 23,
    "start_time": "2025-01-27T21:08:45.206Z"
   },
   {
    "duration": 74,
    "start_time": "2025-01-27T21:08:45.231Z"
   },
   {
    "duration": 35,
    "start_time": "2025-01-27T21:08:45.307Z"
   },
   {
    "duration": 174,
    "start_time": "2025-01-27T21:08:45.345Z"
   },
   {
    "duration": 13,
    "start_time": "2025-01-27T21:08:45.521Z"
   },
   {
    "duration": 18,
    "start_time": "2025-01-27T21:08:45.535Z"
   },
   {
    "duration": 9,
    "start_time": "2025-01-27T21:08:45.554Z"
   },
   {
    "duration": 286,
    "start_time": "2025-01-27T21:08:45.566Z"
   },
   {
    "duration": 13,
    "start_time": "2025-01-27T21:08:45.854Z"
   },
   {
    "duration": 294,
    "start_time": "2025-01-27T21:08:45.869Z"
   },
   {
    "duration": 211,
    "start_time": "2025-01-27T21:08:46.164Z"
   },
   {
    "duration": 338,
    "start_time": "2025-01-27T21:08:46.377Z"
   },
   {
    "duration": 220,
    "start_time": "2025-01-27T21:08:46.716Z"
   },
   {
    "duration": 303,
    "start_time": "2025-01-27T21:08:46.938Z"
   },
   {
    "duration": 161,
    "start_time": "2025-01-27T21:08:47.242Z"
   },
   {
    "duration": 161,
    "start_time": "2025-01-27T21:08:47.405Z"
   },
   {
    "duration": 6,
    "start_time": "2025-01-27T21:08:47.568Z"
   },
   {
    "duration": 157,
    "start_time": "2025-01-27T21:08:47.576Z"
   },
   {
    "duration": 151,
    "start_time": "2025-01-27T21:08:47.735Z"
   },
   {
    "duration": 235,
    "start_time": "2025-01-27T21:08:47.888Z"
   },
   {
    "duration": 6,
    "start_time": "2025-01-27T21:08:48.124Z"
   },
   {
    "duration": 110,
    "start_time": "2025-01-27T21:08:48.133Z"
   },
   {
    "duration": 117,
    "start_time": "2025-01-27T21:08:48.245Z"
   },
   {
    "duration": 5,
    "start_time": "2025-01-27T21:08:48.364Z"
   },
   {
    "duration": 12,
    "start_time": "2025-01-27T21:08:48.371Z"
   },
   {
    "duration": 40,
    "start_time": "2025-01-27T21:08:48.385Z"
   },
   {
    "duration": 383,
    "start_time": "2025-01-27T21:08:48.427Z"
   },
   {
    "duration": 13,
    "start_time": "2025-01-27T21:08:48.815Z"
   },
   {
    "duration": 10,
    "start_time": "2025-01-27T21:08:48.830Z"
   },
   {
    "duration": 22,
    "start_time": "2025-01-27T21:08:48.842Z"
   },
   {
    "duration": 0,
    "start_time": "2025-01-27T21:08:48.866Z"
   },
   {
    "duration": 402,
    "start_time": "2025-01-27T21:11:09.078Z"
   },
   {
    "duration": 1099,
    "start_time": "2025-01-27T21:11:37.033Z"
   },
   {
    "duration": 194,
    "start_time": "2025-01-27T21:11:38.135Z"
   },
   {
    "duration": 394,
    "start_time": "2025-01-27T21:11:38.330Z"
   },
   {
    "duration": 15,
    "start_time": "2025-01-27T21:11:38.727Z"
   },
   {
    "duration": 25,
    "start_time": "2025-01-27T21:11:38.744Z"
   },
   {
    "duration": 17,
    "start_time": "2025-01-27T21:11:38.771Z"
   },
   {
    "duration": 10,
    "start_time": "2025-01-27T21:11:38.789Z"
   },
   {
    "duration": 5,
    "start_time": "2025-01-27T21:11:38.800Z"
   },
   {
    "duration": 25,
    "start_time": "2025-01-27T21:11:38.807Z"
   },
   {
    "duration": 119,
    "start_time": "2025-01-27T21:11:38.835Z"
   },
   {
    "duration": 13,
    "start_time": "2025-01-27T21:11:38.956Z"
   },
   {
    "duration": 17,
    "start_time": "2025-01-27T21:11:38.970Z"
   },
   {
    "duration": 6,
    "start_time": "2025-01-27T21:11:38.988Z"
   },
   {
    "duration": 284,
    "start_time": "2025-01-27T21:11:38.996Z"
   },
   {
    "duration": 13,
    "start_time": "2025-01-27T21:11:39.282Z"
   },
   {
    "duration": 285,
    "start_time": "2025-01-27T21:11:39.297Z"
   },
   {
    "duration": 212,
    "start_time": "2025-01-27T21:11:39.584Z"
   },
   {
    "duration": 303,
    "start_time": "2025-01-27T21:11:39.798Z"
   },
   {
    "duration": 220,
    "start_time": "2025-01-27T21:11:40.103Z"
   },
   {
    "duration": 292,
    "start_time": "2025-01-27T21:11:40.325Z"
   },
   {
    "duration": 154,
    "start_time": "2025-01-27T21:11:40.619Z"
   },
   {
    "duration": 164,
    "start_time": "2025-01-27T21:11:40.775Z"
   },
   {
    "duration": 6,
    "start_time": "2025-01-27T21:11:40.941Z"
   },
   {
    "duration": 158,
    "start_time": "2025-01-27T21:11:40.949Z"
   },
   {
    "duration": 148,
    "start_time": "2025-01-27T21:11:41.109Z"
   },
   {
    "duration": 240,
    "start_time": "2025-01-27T21:11:41.259Z"
   },
   {
    "duration": 14,
    "start_time": "2025-01-27T21:11:41.501Z"
   },
   {
    "duration": 106,
    "start_time": "2025-01-27T21:11:41.521Z"
   },
   {
    "duration": 114,
    "start_time": "2025-01-27T21:11:41.628Z"
   },
   {
    "duration": 5,
    "start_time": "2025-01-27T21:11:41.744Z"
   },
   {
    "duration": 13,
    "start_time": "2025-01-27T21:11:41.750Z"
   },
   {
    "duration": 22,
    "start_time": "2025-01-27T21:11:41.765Z"
   },
   {
    "duration": 397,
    "start_time": "2025-01-27T21:11:41.789Z"
   },
   {
    "duration": 27,
    "start_time": "2025-01-27T21:11:42.188Z"
   },
   {
    "duration": 9,
    "start_time": "2025-01-27T21:11:42.217Z"
   },
   {
    "duration": 421,
    "start_time": "2025-01-27T21:11:42.228Z"
   },
   {
    "duration": 11,
    "start_time": "2025-01-27T21:11:42.651Z"
   },
   {
    "duration": 4,
    "start_time": "2025-01-27T21:14:43.031Z"
   },
   {
    "duration": 1043,
    "start_time": "2025-01-27T21:15:07.160Z"
   },
   {
    "duration": 160,
    "start_time": "2025-01-27T21:15:08.204Z"
   },
   {
    "duration": 152,
    "start_time": "2025-01-27T21:15:08.366Z"
   },
   {
    "duration": 14,
    "start_time": "2025-01-27T21:15:08.520Z"
   },
   {
    "duration": 11,
    "start_time": "2025-01-27T21:15:08.536Z"
   },
   {
    "duration": 20,
    "start_time": "2025-01-27T21:15:08.549Z"
   },
   {
    "duration": 21,
    "start_time": "2025-01-27T21:15:08.570Z"
   },
   {
    "duration": 5,
    "start_time": "2025-01-27T21:15:08.593Z"
   },
   {
    "duration": 22,
    "start_time": "2025-01-27T21:15:08.600Z"
   },
   {
    "duration": 109,
    "start_time": "2025-01-27T21:15:08.625Z"
   },
   {
    "duration": 11,
    "start_time": "2025-01-27T21:15:08.736Z"
   },
   {
    "duration": 61,
    "start_time": "2025-01-27T21:15:08.749Z"
   },
   {
    "duration": 13,
    "start_time": "2025-01-27T21:15:08.812Z"
   },
   {
    "duration": 261,
    "start_time": "2025-01-27T21:15:08.827Z"
   },
   {
    "duration": 12,
    "start_time": "2025-01-27T21:15:09.090Z"
   },
   {
    "duration": 269,
    "start_time": "2025-01-27T21:15:09.115Z"
   },
   {
    "duration": 202,
    "start_time": "2025-01-27T21:15:09.385Z"
   },
   {
    "duration": 304,
    "start_time": "2025-01-27T21:15:09.589Z"
   },
   {
    "duration": 231,
    "start_time": "2025-01-27T21:15:09.895Z"
   },
   {
    "duration": 293,
    "start_time": "2025-01-27T21:15:10.128Z"
   },
   {
    "duration": 153,
    "start_time": "2025-01-27T21:15:10.423Z"
   },
   {
    "duration": 153,
    "start_time": "2025-01-27T21:15:10.578Z"
   },
   {
    "duration": 5,
    "start_time": "2025-01-27T21:15:10.733Z"
   },
   {
    "duration": 177,
    "start_time": "2025-01-27T21:15:10.739Z"
   },
   {
    "duration": 143,
    "start_time": "2025-01-27T21:15:10.918Z"
   },
   {
    "duration": 229,
    "start_time": "2025-01-27T21:15:11.063Z"
   },
   {
    "duration": 6,
    "start_time": "2025-01-27T21:15:11.294Z"
   },
   {
    "duration": 85,
    "start_time": "2025-01-27T21:15:11.314Z"
   },
   {
    "duration": 146,
    "start_time": "2025-01-27T21:15:11.400Z"
   },
   {
    "duration": 11,
    "start_time": "2025-01-27T21:15:11.548Z"
   },
   {
    "duration": 28,
    "start_time": "2025-01-27T21:15:11.560Z"
   },
   {
    "duration": 389,
    "start_time": "2025-01-27T21:15:11.590Z"
   },
   {
    "duration": 11,
    "start_time": "2025-01-27T21:15:11.981Z"
   },
   {
    "duration": 23,
    "start_time": "2025-01-27T21:15:11.994Z"
   },
   {
    "duration": 415,
    "start_time": "2025-01-27T21:15:12.019Z"
   },
   {
    "duration": 11,
    "start_time": "2025-01-27T21:15:12.436Z"
   },
   {
    "duration": 51,
    "start_time": "2025-01-28T02:40:29.324Z"
   },
   {
    "duration": 1129,
    "start_time": "2025-01-28T02:40:37.274Z"
   },
   {
    "duration": 172,
    "start_time": "2025-01-28T02:40:38.405Z"
   },
   {
    "duration": 241,
    "start_time": "2025-01-28T02:40:38.579Z"
   },
   {
    "duration": 17,
    "start_time": "2025-01-28T02:40:38.822Z"
   },
   {
    "duration": 4,
    "start_time": "2025-01-28T02:40:38.841Z"
   },
   {
    "duration": 25,
    "start_time": "2025-01-28T02:40:38.847Z"
   },
   {
    "duration": 9,
    "start_time": "2025-01-28T02:40:38.874Z"
   },
   {
    "duration": 6,
    "start_time": "2025-01-28T02:40:38.885Z"
   },
   {
    "duration": 12,
    "start_time": "2025-01-28T02:40:38.908Z"
   },
   {
    "duration": 128,
    "start_time": "2025-01-28T02:40:38.923Z"
   },
   {
    "duration": 14,
    "start_time": "2025-01-28T02:40:39.052Z"
   },
   {
    "duration": 23,
    "start_time": "2025-01-28T02:40:39.068Z"
   },
   {
    "duration": 27,
    "start_time": "2025-01-28T02:40:39.093Z"
   },
   {
    "duration": 7,
    "start_time": "2025-01-28T02:40:39.122Z"
   },
   {
    "duration": 303,
    "start_time": "2025-01-28T02:40:39.131Z"
   },
   {
    "duration": 14,
    "start_time": "2025-01-28T02:40:39.435Z"
   },
   {
    "duration": 313,
    "start_time": "2025-01-28T02:40:39.451Z"
   },
   {
    "duration": 237,
    "start_time": "2025-01-28T02:40:39.765Z"
   },
   {
    "duration": 322,
    "start_time": "2025-01-28T02:40:40.008Z"
   },
   {
    "duration": 247,
    "start_time": "2025-01-28T02:40:40.331Z"
   },
   {
    "duration": 360,
    "start_time": "2025-01-28T02:40:40.579Z"
   },
   {
    "duration": 169,
    "start_time": "2025-01-28T02:40:40.941Z"
   },
   {
    "duration": 177,
    "start_time": "2025-01-28T02:40:41.112Z"
   },
   {
    "duration": 5,
    "start_time": "2025-01-28T02:40:41.291Z"
   },
   {
    "duration": 186,
    "start_time": "2025-01-28T02:40:41.308Z"
   },
   {
    "duration": 159,
    "start_time": "2025-01-28T02:40:41.496Z"
   },
   {
    "duration": 250,
    "start_time": "2025-01-28T02:40:41.657Z"
   },
   {
    "duration": 4,
    "start_time": "2025-01-28T02:40:41.912Z"
   },
   {
    "duration": 114,
    "start_time": "2025-01-28T02:40:41.918Z"
   },
   {
    "duration": 118,
    "start_time": "2025-01-28T02:40:42.034Z"
   },
   {
    "duration": 12,
    "start_time": "2025-01-28T02:40:42.154Z"
   },
   {
    "duration": 115,
    "start_time": "2025-01-28T02:40:42.168Z"
   },
   {
    "duration": 446,
    "start_time": "2025-01-28T02:40:42.285Z"
   },
   {
    "duration": 12,
    "start_time": "2025-01-28T02:40:42.733Z"
   },
   {
    "duration": 11,
    "start_time": "2025-01-28T02:40:42.746Z"
   },
   {
    "duration": 466,
    "start_time": "2025-01-28T02:40:42.758Z"
   },
   {
    "duration": 12,
    "start_time": "2025-01-28T02:40:43.226Z"
   },
   {
    "duration": 1104,
    "start_time": "2025-01-28T02:49:19.020Z"
   },
   {
    "duration": 138,
    "start_time": "2025-01-28T02:49:20.126Z"
   },
   {
    "duration": 282,
    "start_time": "2025-01-28T02:49:20.266Z"
   },
   {
    "duration": 16,
    "start_time": "2025-01-28T02:49:20.551Z"
   },
   {
    "duration": 5,
    "start_time": "2025-01-28T02:49:20.568Z"
   },
   {
    "duration": 19,
    "start_time": "2025-01-28T02:49:20.574Z"
   },
   {
    "duration": 25,
    "start_time": "2025-01-28T02:49:20.595Z"
   },
   {
    "duration": 6,
    "start_time": "2025-01-28T02:49:20.622Z"
   },
   {
    "duration": 10,
    "start_time": "2025-01-28T02:49:20.630Z"
   },
   {
    "duration": 125,
    "start_time": "2025-01-28T02:49:20.643Z"
   },
   {
    "duration": 14,
    "start_time": "2025-01-28T02:49:20.770Z"
   },
   {
    "duration": 31,
    "start_time": "2025-01-28T02:49:20.785Z"
   },
   {
    "duration": 19,
    "start_time": "2025-01-28T02:49:20.818Z"
   },
   {
    "duration": 292,
    "start_time": "2025-01-28T02:49:20.839Z"
   },
   {
    "duration": 14,
    "start_time": "2025-01-28T02:49:21.133Z"
   },
   {
    "duration": 319,
    "start_time": "2025-01-28T02:49:21.149Z"
   },
   {
    "duration": 226,
    "start_time": "2025-01-28T02:49:21.469Z"
   },
   {
    "duration": 318,
    "start_time": "2025-01-28T02:49:21.697Z"
   },
   {
    "duration": 236,
    "start_time": "2025-01-28T02:49:22.017Z"
   },
   {
    "duration": 318,
    "start_time": "2025-01-28T02:49:22.254Z"
   },
   {
    "duration": 164,
    "start_time": "2025-01-28T02:49:22.573Z"
   },
   {
    "duration": 164,
    "start_time": "2025-01-28T02:49:22.739Z"
   },
   {
    "duration": 5,
    "start_time": "2025-01-28T02:49:22.908Z"
   },
   {
    "duration": 164,
    "start_time": "2025-01-28T02:49:22.914Z"
   },
   {
    "duration": 158,
    "start_time": "2025-01-28T02:49:23.079Z"
   },
   {
    "duration": 264,
    "start_time": "2025-01-28T02:49:23.239Z"
   },
   {
    "duration": 7,
    "start_time": "2025-01-28T02:49:23.505Z"
   },
   {
    "duration": 113,
    "start_time": "2025-01-28T02:49:23.515Z"
   },
   {
    "duration": 117,
    "start_time": "2025-01-28T02:49:23.629Z"
   },
   {
    "duration": 11,
    "start_time": "2025-01-28T02:49:23.748Z"
   },
   {
    "duration": 20,
    "start_time": "2025-01-28T02:49:23.760Z"
   },
   {
    "duration": 444,
    "start_time": "2025-01-28T02:49:23.782Z"
   },
   {
    "duration": 10,
    "start_time": "2025-01-28T02:49:24.228Z"
   },
   {
    "duration": 92,
    "start_time": "2025-01-28T02:49:24.240Z"
   },
   {
    "duration": 439,
    "start_time": "2025-01-28T02:49:24.333Z"
   },
   {
    "duration": 12,
    "start_time": "2025-01-28T02:49:24.774Z"
   },
   {
    "duration": 51,
    "start_time": "2025-01-28T06:54:06.146Z"
   },
   {
    "duration": 1154,
    "start_time": "2025-01-28T06:54:15.881Z"
   },
   {
    "duration": 145,
    "start_time": "2025-01-28T06:54:17.037Z"
   },
   {
    "duration": 219,
    "start_time": "2025-01-28T06:54:17.183Z"
   },
   {
    "duration": 14,
    "start_time": "2025-01-28T06:54:17.405Z"
   },
   {
    "duration": 12,
    "start_time": "2025-01-28T06:54:17.420Z"
   },
   {
    "duration": 18,
    "start_time": "2025-01-28T06:54:17.433Z"
   },
   {
    "duration": 28,
    "start_time": "2025-01-28T06:54:17.452Z"
   },
   {
    "duration": 24,
    "start_time": "2025-01-28T06:54:17.482Z"
   },
   {
    "duration": 21,
    "start_time": "2025-01-28T06:54:17.507Z"
   },
   {
    "duration": 109,
    "start_time": "2025-01-28T06:54:17.532Z"
   },
   {
    "duration": 13,
    "start_time": "2025-01-28T06:54:17.643Z"
   },
   {
    "duration": 46,
    "start_time": "2025-01-28T06:54:17.658Z"
   },
   {
    "duration": 15,
    "start_time": "2025-01-28T06:54:17.706Z"
   },
   {
    "duration": 298,
    "start_time": "2025-01-28T06:54:17.722Z"
   },
   {
    "duration": 13,
    "start_time": "2025-01-28T06:54:18.022Z"
   },
   {
    "duration": 424,
    "start_time": "2025-01-28T06:54:18.036Z"
   },
   {
    "duration": 199,
    "start_time": "2025-01-28T06:54:18.462Z"
   },
   {
    "duration": 347,
    "start_time": "2025-01-28T06:54:18.662Z"
   },
   {
    "duration": 210,
    "start_time": "2025-01-28T06:54:19.011Z"
   },
   {
    "duration": 301,
    "start_time": "2025-01-28T06:54:19.224Z"
   },
   {
    "duration": 146,
    "start_time": "2025-01-28T06:54:19.527Z"
   },
   {
    "duration": 148,
    "start_time": "2025-01-28T06:54:19.675Z"
   },
   {
    "duration": 4,
    "start_time": "2025-01-28T06:54:19.825Z"
   },
   {
    "duration": 162,
    "start_time": "2025-01-28T06:54:19.831Z"
   },
   {
    "duration": 136,
    "start_time": "2025-01-28T06:54:19.995Z"
   },
   {
    "duration": 218,
    "start_time": "2025-01-28T06:54:20.133Z"
   },
   {
    "duration": 5,
    "start_time": "2025-01-28T06:54:20.353Z"
   },
   {
    "duration": 103,
    "start_time": "2025-01-28T06:54:20.361Z"
   },
   {
    "duration": 103,
    "start_time": "2025-01-28T06:54:20.466Z"
   },
   {
    "duration": 10,
    "start_time": "2025-01-28T06:54:20.570Z"
   },
   {
    "duration": 22,
    "start_time": "2025-01-28T06:54:20.581Z"
   },
   {
    "duration": 393,
    "start_time": "2025-01-28T06:54:20.605Z"
   },
   {
    "duration": 22,
    "start_time": "2025-01-28T06:54:21.000Z"
   },
   {
    "duration": 18,
    "start_time": "2025-01-28T06:54:21.024Z"
   },
   {
    "duration": 416,
    "start_time": "2025-01-28T06:54:21.044Z"
   },
   {
    "duration": 11,
    "start_time": "2025-01-28T06:54:21.463Z"
   },
   {
    "duration": 280,
    "start_time": "2025-01-28T06:55:11.112Z"
   },
   {
    "duration": 188,
    "start_time": "2025-01-28T06:55:21.745Z"
   },
   {
    "duration": 194,
    "start_time": "2025-01-28T06:56:30.719Z"
   },
   {
    "duration": 294,
    "start_time": "2025-01-28T06:56:50.238Z"
   },
   {
    "duration": 201,
    "start_time": "2025-01-28T06:57:17.921Z"
   },
   {
    "duration": 211,
    "start_time": "2025-01-28T06:58:35.459Z"
   },
   {
    "duration": 218,
    "start_time": "2025-01-28T06:59:03.254Z"
   },
   {
    "duration": 323,
    "start_time": "2025-01-28T07:01:57.920Z"
   },
   {
    "duration": 231,
    "start_time": "2025-01-28T07:02:29.508Z"
   },
   {
    "duration": 338,
    "start_time": "2025-01-28T07:02:41.692Z"
   },
   {
    "duration": 162,
    "start_time": "2025-01-28T07:02:56.873Z"
   },
   {
    "duration": 226,
    "start_time": "2025-01-28T07:03:07.079Z"
   },
   {
    "duration": 151,
    "start_time": "2025-01-28T07:03:14.118Z"
   },
   {
    "duration": 147,
    "start_time": "2025-01-28T07:03:26.868Z"
   },
   {
    "duration": 158,
    "start_time": "2025-01-28T07:03:41.680Z"
   },
   {
    "duration": 144,
    "start_time": "2025-01-28T07:04:01.442Z"
   },
   {
    "duration": 144,
    "start_time": "2025-01-28T07:04:16.559Z"
   },
   {
    "duration": 147,
    "start_time": "2025-01-28T07:04:29.023Z"
   },
   {
    "duration": 9,
    "start_time": "2025-01-28T07:16:01.999Z"
   },
   {
    "duration": 25,
    "start_time": "2025-01-28T07:16:44.199Z"
   },
   {
    "duration": 10,
    "start_time": "2025-01-28T07:16:55.464Z"
   },
   {
    "duration": 8,
    "start_time": "2025-01-28T07:17:13.448Z"
   },
   {
    "duration": 31,
    "start_time": "2025-01-28T07:17:31.599Z"
   },
   {
    "duration": 1017,
    "start_time": "2025-01-28T07:17:45.538Z"
   },
   {
    "duration": 141,
    "start_time": "2025-01-28T07:17:46.557Z"
   },
   {
    "duration": 142,
    "start_time": "2025-01-28T07:17:46.700Z"
   },
   {
    "duration": 14,
    "start_time": "2025-01-28T07:17:46.843Z"
   },
   {
    "duration": 69,
    "start_time": "2025-01-28T07:17:46.858Z"
   },
   {
    "duration": 21,
    "start_time": "2025-01-28T07:17:46.929Z"
   },
   {
    "duration": 18,
    "start_time": "2025-01-28T07:17:46.952Z"
   },
   {
    "duration": 10,
    "start_time": "2025-01-28T07:17:46.972Z"
   },
   {
    "duration": 10,
    "start_time": "2025-01-28T07:17:46.983Z"
   },
   {
    "duration": 105,
    "start_time": "2025-01-28T07:17:46.996Z"
   },
   {
    "duration": 12,
    "start_time": "2025-01-28T07:17:47.103Z"
   },
   {
    "duration": 12,
    "start_time": "2025-01-28T07:17:47.122Z"
   },
   {
    "duration": 6,
    "start_time": "2025-01-28T07:17:47.136Z"
   },
   {
    "duration": 292,
    "start_time": "2025-01-28T07:17:47.143Z"
   },
   {
    "duration": 12,
    "start_time": "2025-01-28T07:17:47.437Z"
   },
   {
    "duration": 323,
    "start_time": "2025-01-28T07:17:47.451Z"
   },
   {
    "duration": 257,
    "start_time": "2025-01-28T07:17:47.775Z"
   },
   {
    "duration": 321,
    "start_time": "2025-01-28T07:17:48.034Z"
   },
   {
    "duration": 241,
    "start_time": "2025-01-28T07:17:48.356Z"
   },
   {
    "duration": 334,
    "start_time": "2025-01-28T07:17:48.599Z"
   },
   {
    "duration": 158,
    "start_time": "2025-01-28T07:17:48.934Z"
   },
   {
    "duration": 160,
    "start_time": "2025-01-28T07:17:49.093Z"
   },
   {
    "duration": 5,
    "start_time": "2025-01-28T07:17:49.254Z"
   },
   {
    "duration": 168,
    "start_time": "2025-01-28T07:17:49.260Z"
   },
   {
    "duration": 146,
    "start_time": "2025-01-28T07:17:49.430Z"
   },
   {
    "duration": 214,
    "start_time": "2025-01-28T07:17:49.578Z"
   },
   {
    "duration": 5,
    "start_time": "2025-01-28T07:17:49.794Z"
   },
   {
    "duration": 129,
    "start_time": "2025-01-28T07:17:49.802Z"
   },
   {
    "duration": 113,
    "start_time": "2025-01-28T07:17:49.933Z"
   },
   {
    "duration": 9,
    "start_time": "2025-01-28T07:17:50.048Z"
   },
   {
    "duration": 8,
    "start_time": "2025-01-28T07:17:50.059Z"
   },
   {
    "duration": 31,
    "start_time": "2025-01-28T07:17:50.068Z"
   },
   {
    "duration": 25,
    "start_time": "2025-01-28T07:17:50.101Z"
   },
   {
    "duration": 8,
    "start_time": "2025-01-28T07:17:50.127Z"
   },
   {
    "duration": 39,
    "start_time": "2025-01-28T07:17:50.136Z"
   },
   {
    "duration": 10,
    "start_time": "2025-01-28T07:17:50.177Z"
   },
   {
    "duration": 1032,
    "start_time": "2025-01-28T22:55:33.525Z"
   },
   {
    "duration": 192,
    "start_time": "2025-01-28T22:55:34.559Z"
   },
   {
    "duration": 298,
    "start_time": "2025-01-28T22:55:34.753Z"
   },
   {
    "duration": 14,
    "start_time": "2025-01-28T22:55:35.053Z"
   },
   {
    "duration": 4,
    "start_time": "2025-01-28T22:55:35.068Z"
   },
   {
    "duration": 25,
    "start_time": "2025-01-28T22:55:35.073Z"
   },
   {
    "duration": 37,
    "start_time": "2025-01-28T22:55:35.099Z"
   },
   {
    "duration": 19,
    "start_time": "2025-01-28T22:55:35.137Z"
   },
   {
    "duration": 11,
    "start_time": "2025-01-28T22:55:35.158Z"
   },
   {
    "duration": 105,
    "start_time": "2025-01-28T22:55:35.171Z"
   },
   {
    "duration": 11,
    "start_time": "2025-01-28T22:55:35.277Z"
   },
   {
    "duration": 32,
    "start_time": "2025-01-28T22:55:35.289Z"
   },
   {
    "duration": 14,
    "start_time": "2025-01-28T22:55:35.323Z"
   },
   {
    "duration": 275,
    "start_time": "2025-01-28T22:55:35.338Z"
   },
   {
    "duration": 12,
    "start_time": "2025-01-28T22:55:35.614Z"
   },
   {
    "duration": 305,
    "start_time": "2025-01-28T22:55:35.627Z"
   },
   {
    "duration": 238,
    "start_time": "2025-01-28T22:55:35.933Z"
   },
   {
    "duration": 290,
    "start_time": "2025-01-28T22:55:36.172Z"
   },
   {
    "duration": 219,
    "start_time": "2025-01-28T22:55:36.463Z"
   },
   {
    "duration": 283,
    "start_time": "2025-01-28T22:55:36.684Z"
   },
   {
    "duration": 149,
    "start_time": "2025-01-28T22:55:36.968Z"
   },
   {
    "duration": 143,
    "start_time": "2025-01-28T22:55:37.119Z"
   },
   {
    "duration": 4,
    "start_time": "2025-01-28T22:55:37.264Z"
   },
   {
    "duration": 160,
    "start_time": "2025-01-28T22:55:37.270Z"
   },
   {
    "duration": 139,
    "start_time": "2025-01-28T22:55:37.432Z"
   },
   {
    "duration": 207,
    "start_time": "2025-01-28T22:55:37.572Z"
   },
   {
    "duration": 5,
    "start_time": "2025-01-28T22:55:37.780Z"
   },
   {
    "duration": 91,
    "start_time": "2025-01-28T22:55:37.787Z"
   },
   {
    "duration": 99,
    "start_time": "2025-01-28T22:55:37.879Z"
   },
   {
    "duration": 8,
    "start_time": "2025-01-28T22:55:37.980Z"
   },
   {
    "duration": 97,
    "start_time": "2025-01-28T22:55:37.990Z"
   },
   {
    "duration": 28,
    "start_time": "2025-01-28T22:55:38.089Z"
   },
   {
    "duration": 10,
    "start_time": "2025-01-28T22:55:38.119Z"
   },
   {
    "duration": 8,
    "start_time": "2025-01-28T22:55:38.130Z"
   },
   {
    "duration": 31,
    "start_time": "2025-01-28T22:55:38.140Z"
   },
   {
    "duration": 10,
    "start_time": "2025-01-28T22:55:38.172Z"
   },
   {
    "duration": 999,
    "start_time": "2025-01-28T22:58:32.589Z"
   },
   {
    "duration": 121,
    "start_time": "2025-01-28T22:58:33.590Z"
   },
   {
    "duration": 185,
    "start_time": "2025-01-28T22:58:33.713Z"
   },
   {
    "duration": 23,
    "start_time": "2025-01-28T22:58:33.900Z"
   },
   {
    "duration": 29,
    "start_time": "2025-01-28T22:58:33.924Z"
   },
   {
    "duration": 21,
    "start_time": "2025-01-28T22:58:33.955Z"
   },
   {
    "duration": 128,
    "start_time": "2025-01-28T22:58:33.977Z"
   },
   {
    "duration": 16,
    "start_time": "2025-01-28T22:58:34.106Z"
   },
   {
    "duration": 28,
    "start_time": "2025-01-28T22:58:34.123Z"
   },
   {
    "duration": 108,
    "start_time": "2025-01-28T22:58:34.154Z"
   },
   {
    "duration": 12,
    "start_time": "2025-01-28T22:58:34.264Z"
   },
   {
    "duration": 18,
    "start_time": "2025-01-28T22:58:34.278Z"
   },
   {
    "duration": 26,
    "start_time": "2025-01-28T22:58:34.298Z"
   },
   {
    "duration": 247,
    "start_time": "2025-01-28T22:58:34.326Z"
   },
   {
    "duration": 12,
    "start_time": "2025-01-28T22:58:34.574Z"
   },
   {
    "duration": 310,
    "start_time": "2025-01-28T22:58:34.588Z"
   },
   {
    "duration": 230,
    "start_time": "2025-01-28T22:58:34.899Z"
   },
   {
    "duration": 324,
    "start_time": "2025-01-28T22:58:35.131Z"
   },
   {
    "duration": 231,
    "start_time": "2025-01-28T22:58:35.457Z"
   },
   {
    "duration": 289,
    "start_time": "2025-01-28T22:58:35.690Z"
   },
   {
    "duration": 164,
    "start_time": "2025-01-28T22:58:35.980Z"
   },
   {
    "duration": 146,
    "start_time": "2025-01-28T22:58:36.146Z"
   },
   {
    "duration": 5,
    "start_time": "2025-01-28T22:58:36.294Z"
   },
   {
    "duration": 149,
    "start_time": "2025-01-28T22:58:36.301Z"
   },
   {
    "duration": 138,
    "start_time": "2025-01-28T22:58:36.451Z"
   },
   {
    "duration": 216,
    "start_time": "2025-01-28T22:58:36.591Z"
   },
   {
    "duration": 5,
    "start_time": "2025-01-28T22:58:36.809Z"
   },
   {
    "duration": 94,
    "start_time": "2025-01-28T22:58:36.818Z"
   },
   {
    "duration": 101,
    "start_time": "2025-01-28T22:58:36.913Z"
   },
   {
    "duration": 10,
    "start_time": "2025-01-28T22:58:37.016Z"
   },
   {
    "duration": 21,
    "start_time": "2025-01-28T22:58:37.027Z"
   },
   {
    "duration": 24,
    "start_time": "2025-01-28T22:58:37.050Z"
   },
   {
    "duration": 11,
    "start_time": "2025-01-28T22:58:37.076Z"
   },
   {
    "duration": 8,
    "start_time": "2025-01-28T22:58:37.088Z"
   },
   {
    "duration": 57,
    "start_time": "2025-01-28T22:58:37.098Z"
   },
   {
    "duration": 105,
    "start_time": "2025-01-28T22:58:37.157Z"
   }
  ],
  "kernelspec": {
   "display_name": "Python 3 (ipykernel)",
   "language": "python",
   "name": "python3"
  },
  "language_info": {
   "codemirror_mode": {
    "name": "ipython",
    "version": 3
   },
   "file_extension": ".py",
   "mimetype": "text/x-python",
   "name": "python",
   "nbconvert_exporter": "python",
   "pygments_lexer": "ipython3",
   "version": "3.12.4"
  },
  "toc": {
   "base_numbering": 1,
   "nav_menu": {},
   "number_sections": true,
   "sideBar": true,
   "skip_h1_title": true,
   "title_cell": "Table of Contents",
   "title_sidebar": "Contents",
   "toc_cell": false,
   "toc_position": {},
   "toc_section_display": true,
   "toc_window_display": false
  }
 },
 "nbformat": 4,
 "nbformat_minor": 5
}
