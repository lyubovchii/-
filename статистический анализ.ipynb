{
 "cells": [
  {
   "cell_type": "markdown",
   "id": "d0f1515c-ad2e-4d88-bf98-ff7ecd01e50b",
   "metadata": {},
   "source": [
    "# СТАТИСТИЧЕСКИЙ АНАЛИЗ ДАННЫХ"
   ]
  },
  {
   "cell_type": "markdown",
   "id": "819e6901-7617-4749-b77f-b9406d996be3",
   "metadata": {},
   "source": [
    "Вы аналитик популярного сервиса аренды самокатов GoFast. Вам передали данные о некоторых пользователях из нескольких городов, а также об их поездках. Проанализируйте данные и проверьте некоторые гипотезы, которые могут помочь бизнесу вырасти.\n",
    "\n",
    "План работы состоит из следующих пунктов:\n",
    "- изучение общей информации о данных\n",
    "- предобработка данных, где меняется тип данных при необходимости, а таккже датафреймы проверяются на наличие пропусков и дубликатов\n",
    "- проведение исследовательского анализа данных, в котром описывается и визуализируется общая информация\n",
    "- объединение данных\n",
    "- проведение статистического анализа\n",
    "- проверка гипотез\n",
    "- заключение"
   ]
  },
  {
   "cell_type": "markdown",
   "id": "377f8e0a-335c-4876-adf5-49a73040f8cf",
   "metadata": {},
   "source": [
    "### 1 Загрузка данных"
   ]
  },
  {
   "cell_type": "code",
   "execution_count": 1,
   "id": "dab35cee-69bc-4e08-b448-b31362827494",
   "metadata": {},
   "outputs": [],
   "source": [
    "import pandas as pd\n",
    "import numpy as np\n",
    "from scipy import stats as st\n",
    "\n",
    "try:\n",
    "    users = pd.read_csv(\"C:/Users/Любовь/Downloads/users_go.csv\")\n",
    "    rides = pd.read_csv(\"C:/Users/Любовь/Downloads/rides_go.csv\")\n",
    "    subscriptions = pd.read_csv(\"C:/Users/Любовь/Downloads/subscriptions_go.csv\")\n",
    "\n",
    "except:\n",
    "    users = pd.read_csv('https://code.s3.yandex.net/datasets/users_go.csv')\n",
    "    rides = pd.read_csv('https://code.s3.yandex.net/datasets/rides_go.csv')\n",
    "    subscriptions = pd.read_csv('https://code.s3.yandex.net/datasets/subscriptions_go.csv')"
   ]
  },
  {
   "cell_type": "code",
   "execution_count": 2,
   "id": "e5627988-0d9b-4b2b-a395-8f5098a87cb7",
   "metadata": {},
   "outputs": [
    {
     "data": {
      "text/html": [
       "<div>\n",
       "<style scoped>\n",
       "    .dataframe tbody tr th:only-of-type {\n",
       "        vertical-align: middle;\n",
       "    }\n",
       "\n",
       "    .dataframe tbody tr th {\n",
       "        vertical-align: top;\n",
       "    }\n",
       "\n",
       "    .dataframe thead th {\n",
       "        text-align: right;\n",
       "    }\n",
       "</style>\n",
       "<table border=\"1\" class=\"dataframe\">\n",
       "  <thead>\n",
       "    <tr style=\"text-align: right;\">\n",
       "      <th></th>\n",
       "      <th>user_id</th>\n",
       "      <th>name</th>\n",
       "      <th>age</th>\n",
       "      <th>city</th>\n",
       "      <th>subscription_type</th>\n",
       "    </tr>\n",
       "  </thead>\n",
       "  <tbody>\n",
       "    <tr>\n",
       "      <th>0</th>\n",
       "      <td>1</td>\n",
       "      <td>Кира</td>\n",
       "      <td>22</td>\n",
       "      <td>Тюмень</td>\n",
       "      <td>ultra</td>\n",
       "    </tr>\n",
       "    <tr>\n",
       "      <th>1</th>\n",
       "      <td>2</td>\n",
       "      <td>Станислав</td>\n",
       "      <td>31</td>\n",
       "      <td>Омск</td>\n",
       "      <td>ultra</td>\n",
       "    </tr>\n",
       "    <tr>\n",
       "      <th>2</th>\n",
       "      <td>3</td>\n",
       "      <td>Алексей</td>\n",
       "      <td>20</td>\n",
       "      <td>Москва</td>\n",
       "      <td>ultra</td>\n",
       "    </tr>\n",
       "    <tr>\n",
       "      <th>3</th>\n",
       "      <td>4</td>\n",
       "      <td>Константин</td>\n",
       "      <td>26</td>\n",
       "      <td>Ростов-на-Дону</td>\n",
       "      <td>ultra</td>\n",
       "    </tr>\n",
       "    <tr>\n",
       "      <th>4</th>\n",
       "      <td>5</td>\n",
       "      <td>Адель</td>\n",
       "      <td>28</td>\n",
       "      <td>Омск</td>\n",
       "      <td>ultra</td>\n",
       "    </tr>\n",
       "  </tbody>\n",
       "</table>\n",
       "</div>"
      ],
      "text/plain": [
       "   user_id        name  age            city subscription_type\n",
       "0        1        Кира   22          Тюмень             ultra\n",
       "1        2   Станислав   31            Омск             ultra\n",
       "2        3     Алексей   20          Москва             ultra\n",
       "3        4  Константин   26  Ростов-на-Дону             ultra\n",
       "4        5       Адель   28            Омск             ultra"
      ]
     },
     "execution_count": 2,
     "metadata": {},
     "output_type": "execute_result"
    }
   ],
   "source": [
    "users.head() #выводим первые 5 строк набора данных"
   ]
  },
  {
   "cell_type": "code",
   "execution_count": 3,
   "id": "6507115d-be4f-45e7-a5d2-635268194863",
   "metadata": {},
   "outputs": [
    {
     "name": "stdout",
     "output_type": "stream",
     "text": [
      "<class 'pandas.core.frame.DataFrame'>\n",
      "RangeIndex: 1565 entries, 0 to 1564\n",
      "Data columns (total 5 columns):\n",
      " #   Column             Non-Null Count  Dtype \n",
      "---  ------             --------------  ----- \n",
      " 0   user_id            1565 non-null   int64 \n",
      " 1   name               1565 non-null   object\n",
      " 2   age                1565 non-null   int64 \n",
      " 3   city               1565 non-null   object\n",
      " 4   subscription_type  1565 non-null   object\n",
      "dtypes: int64(2), object(3)\n",
      "memory usage: 61.3+ KB\n"
     ]
    }
   ],
   "source": [
    "users.info() #выводим общую информацию о датафрейме"
   ]
  },
  {
   "cell_type": "code",
   "execution_count": 4,
   "id": "b6fad0e9-7d6d-4940-817f-60cab7ff2ef4",
   "metadata": {},
   "outputs": [
    {
     "data": {
      "text/html": [
       "<div>\n",
       "<style scoped>\n",
       "    .dataframe tbody tr th:only-of-type {\n",
       "        vertical-align: middle;\n",
       "    }\n",
       "\n",
       "    .dataframe tbody tr th {\n",
       "        vertical-align: top;\n",
       "    }\n",
       "\n",
       "    .dataframe thead th {\n",
       "        text-align: right;\n",
       "    }\n",
       "</style>\n",
       "<table border=\"1\" class=\"dataframe\">\n",
       "  <thead>\n",
       "    <tr style=\"text-align: right;\">\n",
       "      <th></th>\n",
       "      <th>user_id</th>\n",
       "      <th>distance</th>\n",
       "      <th>duration</th>\n",
       "      <th>date</th>\n",
       "    </tr>\n",
       "  </thead>\n",
       "  <tbody>\n",
       "    <tr>\n",
       "      <th>0</th>\n",
       "      <td>1</td>\n",
       "      <td>4409.919140</td>\n",
       "      <td>25.599769</td>\n",
       "      <td>2021-01-01</td>\n",
       "    </tr>\n",
       "    <tr>\n",
       "      <th>1</th>\n",
       "      <td>1</td>\n",
       "      <td>2617.592153</td>\n",
       "      <td>15.816871</td>\n",
       "      <td>2021-01-18</td>\n",
       "    </tr>\n",
       "    <tr>\n",
       "      <th>2</th>\n",
       "      <td>1</td>\n",
       "      <td>754.159807</td>\n",
       "      <td>6.232113</td>\n",
       "      <td>2021-04-20</td>\n",
       "    </tr>\n",
       "    <tr>\n",
       "      <th>3</th>\n",
       "      <td>1</td>\n",
       "      <td>2694.783254</td>\n",
       "      <td>18.511000</td>\n",
       "      <td>2021-08-11</td>\n",
       "    </tr>\n",
       "    <tr>\n",
       "      <th>4</th>\n",
       "      <td>1</td>\n",
       "      <td>4028.687306</td>\n",
       "      <td>26.265803</td>\n",
       "      <td>2021-08-28</td>\n",
       "    </tr>\n",
       "  </tbody>\n",
       "</table>\n",
       "</div>"
      ],
      "text/plain": [
       "   user_id     distance   duration        date\n",
       "0        1  4409.919140  25.599769  2021-01-01\n",
       "1        1  2617.592153  15.816871  2021-01-18\n",
       "2        1   754.159807   6.232113  2021-04-20\n",
       "3        1  2694.783254  18.511000  2021-08-11\n",
       "4        1  4028.687306  26.265803  2021-08-28"
      ]
     },
     "execution_count": 4,
     "metadata": {},
     "output_type": "execute_result"
    }
   ],
   "source": [
    "rides.head()"
   ]
  },
  {
   "cell_type": "code",
   "execution_count": 5,
   "id": "f4e60902-80e7-47b1-834f-ab7753d07403",
   "metadata": {},
   "outputs": [
    {
     "name": "stdout",
     "output_type": "stream",
     "text": [
      "<class 'pandas.core.frame.DataFrame'>\n",
      "RangeIndex: 18068 entries, 0 to 18067\n",
      "Data columns (total 4 columns):\n",
      " #   Column    Non-Null Count  Dtype  \n",
      "---  ------    --------------  -----  \n",
      " 0   user_id   18068 non-null  int64  \n",
      " 1   distance  18068 non-null  float64\n",
      " 2   duration  18068 non-null  float64\n",
      " 3   date      18068 non-null  object \n",
      "dtypes: float64(2), int64(1), object(1)\n",
      "memory usage: 564.8+ KB\n"
     ]
    }
   ],
   "source": [
    "rides.info()"
   ]
  },
  {
   "cell_type": "code",
   "execution_count": 6,
   "id": "7a3d3458-270e-4800-9b7a-f52a4f4420a1",
   "metadata": {},
   "outputs": [
    {
     "data": {
      "text/html": [
       "<div>\n",
       "<style scoped>\n",
       "    .dataframe tbody tr th:only-of-type {\n",
       "        vertical-align: middle;\n",
       "    }\n",
       "\n",
       "    .dataframe tbody tr th {\n",
       "        vertical-align: top;\n",
       "    }\n",
       "\n",
       "    .dataframe thead th {\n",
       "        text-align: right;\n",
       "    }\n",
       "</style>\n",
       "<table border=\"1\" class=\"dataframe\">\n",
       "  <thead>\n",
       "    <tr style=\"text-align: right;\">\n",
       "      <th></th>\n",
       "      <th>subscription_type</th>\n",
       "      <th>minute_price</th>\n",
       "      <th>start_ride_price</th>\n",
       "      <th>subscription_fee</th>\n",
       "    </tr>\n",
       "  </thead>\n",
       "  <tbody>\n",
       "    <tr>\n",
       "      <th>0</th>\n",
       "      <td>free</td>\n",
       "      <td>8</td>\n",
       "      <td>50</td>\n",
       "      <td>0</td>\n",
       "    </tr>\n",
       "    <tr>\n",
       "      <th>1</th>\n",
       "      <td>ultra</td>\n",
       "      <td>6</td>\n",
       "      <td>0</td>\n",
       "      <td>199</td>\n",
       "    </tr>\n",
       "  </tbody>\n",
       "</table>\n",
       "</div>"
      ],
      "text/plain": [
       "  subscription_type  minute_price  start_ride_price  subscription_fee\n",
       "0              free             8                50                 0\n",
       "1             ultra             6                 0               199"
      ]
     },
     "execution_count": 6,
     "metadata": {},
     "output_type": "execute_result"
    }
   ],
   "source": [
    "subscriptions.head()"
   ]
  },
  {
   "cell_type": "code",
   "execution_count": 7,
   "id": "5c0bdb73-844f-43ee-86ce-6889785b8f94",
   "metadata": {},
   "outputs": [
    {
     "name": "stdout",
     "output_type": "stream",
     "text": [
      "<class 'pandas.core.frame.DataFrame'>\n",
      "RangeIndex: 2 entries, 0 to 1\n",
      "Data columns (total 4 columns):\n",
      " #   Column             Non-Null Count  Dtype \n",
      "---  ------             --------------  ----- \n",
      " 0   subscription_type  2 non-null      object\n",
      " 1   minute_price       2 non-null      int64 \n",
      " 2   start_ride_price   2 non-null      int64 \n",
      " 3   subscription_fee   2 non-null      int64 \n",
      "dtypes: int64(3), object(1)\n",
      "memory usage: 192.0+ bytes\n"
     ]
    }
   ],
   "source": [
    "subscriptions.info()"
   ]
  },
  {
   "cell_type": "markdown",
   "id": "003c147e-1da1-46f8-9314-515b5d13fdc7",
   "metadata": {},
   "source": [
    "**Вывод**: по предварительным данным видно, что в датафреймах нет пропусков. В некоторых данных надо изменить тип, а также проверить все на наличие дубликатов. Можно приступать к предобработке."
   ]
  },
  {
   "cell_type": "markdown",
   "id": "56546a09-8e70-43a4-909b-d77da93fc292",
   "metadata": {},
   "source": [
    "### 2 Предобработка данных"
   ]
  },
  {
   "cell_type": "code",
   "execution_count": 8,
   "id": "272cd4c4-e1d0-48d0-a136-19cfb7397755",
   "metadata": {},
   "outputs": [],
   "source": [
    "rides['date'] = pd.to_datetime(rides['date'], format='%Y-%m-%d') #преобразовали тип данных во временной"
   ]
  },
  {
   "cell_type": "code",
   "execution_count": 9,
   "id": "c82a027b-3258-4041-8cba-d3a55b8c659c",
   "metadata": {},
   "outputs": [],
   "source": [
    "rides['month'] = rides['date'].dt.month #добавили столбец с номером месяца"
   ]
  },
  {
   "cell_type": "code",
   "execution_count": 10,
   "id": "3a0ff52a-af5e-45f1-a750-69bccac79e3d",
   "metadata": {},
   "outputs": [
    {
     "data": {
      "text/plain": [
       "31"
      ]
     },
     "execution_count": 10,
     "metadata": {},
     "output_type": "execute_result"
    }
   ],
   "source": [
    "users.duplicated().sum() #найдем количество дубликатов"
   ]
  },
  {
   "cell_type": "code",
   "execution_count": 11,
   "id": "3457ab8d-72ba-4132-8600-2581d481f942",
   "metadata": {},
   "outputs": [
    {
     "data": {
      "text/html": [
       "<div>\n",
       "<style scoped>\n",
       "    .dataframe tbody tr th:only-of-type {\n",
       "        vertical-align: middle;\n",
       "    }\n",
       "\n",
       "    .dataframe tbody tr th {\n",
       "        vertical-align: top;\n",
       "    }\n",
       "\n",
       "    .dataframe thead th {\n",
       "        text-align: right;\n",
       "    }\n",
       "</style>\n",
       "<table border=\"1\" class=\"dataframe\">\n",
       "  <thead>\n",
       "    <tr style=\"text-align: right;\">\n",
       "      <th></th>\n",
       "      <th>user_id</th>\n",
       "      <th>name</th>\n",
       "      <th>age</th>\n",
       "      <th>city</th>\n",
       "      <th>subscription_type</th>\n",
       "    </tr>\n",
       "  </thead>\n",
       "  <tbody>\n",
       "    <tr>\n",
       "      <th>0</th>\n",
       "      <td>1</td>\n",
       "      <td>Кира</td>\n",
       "      <td>22</td>\n",
       "      <td>Тюмень</td>\n",
       "      <td>ultra</td>\n",
       "    </tr>\n",
       "    <tr>\n",
       "      <th>1</th>\n",
       "      <td>2</td>\n",
       "      <td>Станислав</td>\n",
       "      <td>31</td>\n",
       "      <td>Омск</td>\n",
       "      <td>ultra</td>\n",
       "    </tr>\n",
       "    <tr>\n",
       "      <th>2</th>\n",
       "      <td>3</td>\n",
       "      <td>Алексей</td>\n",
       "      <td>20</td>\n",
       "      <td>Москва</td>\n",
       "      <td>ultra</td>\n",
       "    </tr>\n",
       "    <tr>\n",
       "      <th>3</th>\n",
       "      <td>4</td>\n",
       "      <td>Константин</td>\n",
       "      <td>26</td>\n",
       "      <td>Ростов-на-Дону</td>\n",
       "      <td>ultra</td>\n",
       "    </tr>\n",
       "    <tr>\n",
       "      <th>4</th>\n",
       "      <td>5</td>\n",
       "      <td>Адель</td>\n",
       "      <td>28</td>\n",
       "      <td>Омск</td>\n",
       "      <td>ultra</td>\n",
       "    </tr>\n",
       "    <tr>\n",
       "      <th>...</th>\n",
       "      <td>...</td>\n",
       "      <td>...</td>\n",
       "      <td>...</td>\n",
       "      <td>...</td>\n",
       "      <td>...</td>\n",
       "    </tr>\n",
       "    <tr>\n",
       "      <th>1529</th>\n",
       "      <td>1530</td>\n",
       "      <td>Ростислав</td>\n",
       "      <td>29</td>\n",
       "      <td>Сочи</td>\n",
       "      <td>free</td>\n",
       "    </tr>\n",
       "    <tr>\n",
       "      <th>1530</th>\n",
       "      <td>1531</td>\n",
       "      <td>Никита</td>\n",
       "      <td>25</td>\n",
       "      <td>Пятигорск</td>\n",
       "      <td>free</td>\n",
       "    </tr>\n",
       "    <tr>\n",
       "      <th>1531</th>\n",
       "      <td>1532</td>\n",
       "      <td>Алексей</td>\n",
       "      <td>26</td>\n",
       "      <td>Тюмень</td>\n",
       "      <td>free</td>\n",
       "    </tr>\n",
       "    <tr>\n",
       "      <th>1532</th>\n",
       "      <td>1533</td>\n",
       "      <td>Степан</td>\n",
       "      <td>22</td>\n",
       "      <td>Краснодар</td>\n",
       "      <td>free</td>\n",
       "    </tr>\n",
       "    <tr>\n",
       "      <th>1533</th>\n",
       "      <td>1534</td>\n",
       "      <td>Альберт</td>\n",
       "      <td>25</td>\n",
       "      <td>Краснодар</td>\n",
       "      <td>free</td>\n",
       "    </tr>\n",
       "  </tbody>\n",
       "</table>\n",
       "<p>1534 rows × 5 columns</p>\n",
       "</div>"
      ],
      "text/plain": [
       "      user_id        name  age            city subscription_type\n",
       "0           1        Кира   22          Тюмень             ultra\n",
       "1           2   Станислав   31            Омск             ultra\n",
       "2           3     Алексей   20          Москва             ultra\n",
       "3           4  Константин   26  Ростов-на-Дону             ultra\n",
       "4           5       Адель   28            Омск             ultra\n",
       "...       ...         ...  ...             ...               ...\n",
       "1529     1530   Ростислав   29            Сочи              free\n",
       "1530     1531      Никита   25       Пятигорск              free\n",
       "1531     1532     Алексей   26          Тюмень              free\n",
       "1532     1533      Степан   22       Краснодар              free\n",
       "1533     1534     Альберт   25       Краснодар              free\n",
       "\n",
       "[1534 rows x 5 columns]"
      ]
     },
     "execution_count": 11,
     "metadata": {},
     "output_type": "execute_result"
    }
   ],
   "source": [
    "users.drop_duplicates(inplace=True) #удалили дубликаты и перезаписали датафрейм\n",
    "users.reset_index(drop=True) #обновили индесы и удалили старые"
   ]
  },
  {
   "cell_type": "code",
   "execution_count": 12,
   "id": "47b51a8d-6c11-43b3-9352-c19f6f68a725",
   "metadata": {},
   "outputs": [
    {
     "data": {
      "text/plain": [
       "0"
      ]
     },
     "execution_count": 12,
     "metadata": {},
     "output_type": "execute_result"
    }
   ],
   "source": [
    "rides.duplicated().sum()"
   ]
  },
  {
   "cell_type": "code",
   "execution_count": 13,
   "id": "fd4a4f5e-5d37-45a4-932d-19934637e296",
   "metadata": {},
   "outputs": [
    {
     "data": {
      "text/plain": [
       "0"
      ]
     },
     "execution_count": 13,
     "metadata": {},
     "output_type": "execute_result"
    }
   ],
   "source": [
    "subscriptions.duplicated().sum()"
   ]
  },
  {
   "cell_type": "markdown",
   "id": "663a9ee9-2919-4efe-883e-17212d5ca840",
   "metadata": {},
   "source": [
    "**Вывод**: пропущенных значений в наборах данных нет, однако был обнаружен и удален 31 дубликат в датафрейме о пользователях сервиса. Также в столбце с датой поездки был изменен тип на подходящий и добавлен столбец с номером месяца."
   ]
  },
  {
   "cell_type": "markdown",
   "id": "a4939c34-691f-4bf4-a716-bb42fd426a86",
   "metadata": {},
   "source": [
    "### 3 Исследовательский анализ данных"
   ]
  },
  {
   "cell_type": "code",
   "execution_count": 14,
   "id": "4b0ba47f-c019-42c3-b895-9797529eb83e",
   "metadata": {},
   "outputs": [
    {
     "data": {
      "image/png": "[encoded data removed]",
      "text/plain": [
       "<Figure size 432x288 with 1 Axes>"
      ]
     },
     "metadata": {
      "needs_background": "light"
     },
     "output_type": "display_data"
    }
   ],
   "source": [
    "(\n",
    "    users['city'].value_counts().plot(\n",
    "        kind='bar', ylabel='', title='Частота встречаемости городов')\n",
    ");"
   ]
  },
  {
   "cell_type": "markdown",
   "id": "938ebb7a-ab48-4b3e-a27c-fc9326ab88e0",
   "metadata": {},
   "source": [
    "**Вывод**: судя из столбчатой диаграммы, распределение пользователей по городам примерно одинаково, чуть больше пользователей в Пятигорске и меньше в Москве, но разница невелика."
   ]
  },
  {
   "cell_type": "code",
   "execution_count": 15,
   "id": "cbb496b2-fa4e-42fd-99b8-010dcff0d8f6",
   "metadata": {},
   "outputs": [
    {
     "data": {
      "text/plain": [
       "free     835\n",
       "ultra    699\n",
       "Name: subscription_type, dtype: int64"
      ]
     },
     "execution_count": 15,
     "metadata": {},
     "output_type": "execute_result"
    }
   ],
   "source": [
    "users['subscription_type'].value_counts()"
   ]
  },
  {
   "cell_type": "code",
   "execution_count": 16,
   "id": "6870cbbc-1df8-462f-b0b8-84e62fc85e9d",
   "metadata": {},
   "outputs": [
    {
     "data": {
      "text/plain": [
       "'54.43%'"
      ]
     },
     "execution_count": 16,
     "metadata": {},
     "output_type": "execute_result"
    }
   ],
   "source": [
    "shape_free = users.loc[users['subscription_type'] == 'free', 'subscription_type'].count()/users['subscription_type'].count() #находим долю людей без подписки\n",
    "(shape_free*100).round(2).astype(str) + '%' #переводим в проценты"
   ]
  },
  {
   "cell_type": "code",
   "execution_count": 17,
   "id": "f86ddde7-f0e8-48ce-b258-8cb428eb6e81",
   "metadata": {},
   "outputs": [
    {
     "data": {
      "text/plain": [
       "'45.57%'"
      ]
     },
     "execution_count": 17,
     "metadata": {},
     "output_type": "execute_result"
    }
   ],
   "source": [
    "shape_ultra = 1 - shape_free #находим долю пользователей с подпиской\n",
    "(shape_ultra*100).round(2).astype(str) + '%'"
   ]
  },
  {
   "cell_type": "markdown",
   "id": "03a68252-dd62-4413-b5cb-266544f8cb33",
   "metadata": {},
   "source": [
    "**Вывод**: из процентного соотношения видно, что пользователей без подписки чуть больше, чем тех, кто ее оформил."
   ]
  },
  {
   "cell_type": "code",
   "execution_count": 37,
   "id": "721e41d6-3c92-454e-9543-f710f3cb812e",
   "metadata": {},
   "outputs": [
    {
     "data": {
      "text/plain": [
       "<AxesSubplot:title={'center':'Распределение пользователей по возрасту'}, ylabel='Frequency'>"
      ]
     },
     "execution_count": 37,
     "metadata": {},
     "output_type": "execute_result"
    },
    {
     "data": {
      "image/png": "[encoded data removed]",
      "text/plain": [
       "<Figure size 432x288 with 1 Axes>"
      ]
     },
     "metadata": {
      "needs_background": "light"
     },
     "output_type": "display_data"
    }
   ],
   "source": [
    "\n",
    "(\n",
    "    users['age'].plot(\n",
    "        kind='hist', bins=15, title='Распределение пользователей по возрасту', xlabel='Возраст', ylabel='Количество', grid=True\n",
    "    )\n",
    ");\n"
   ]
  },
  {
   "cell_type": "markdown",
   "id": "985f6740-e3d5-4bf3-9b00-8a4fe8634a3a",
   "metadata": {},
   "source": [
    "**Вывод**: из гистограммы можно сделать вывод, что чаще всего сервисом аренды самокатов пользуются люди от 20 до 30 лет."
   ]
  },
  {
   "cell_type": "code",
   "execution_count": 19,
   "id": "5afb9659-e5d5-4da0-839f-debdfd4b4eb7",
   "metadata": {},
   "outputs": [
    {
     "data": {
      "image/png": "[encoded data removed]",
      "text/plain": [
       "<Figure size 432x288 with 1 Axes>"
      ]
     },
     "metadata": {
      "needs_background": "light"
     },
     "output_type": "display_data"
    }
   ],
   "source": [
    "(\n",
    "    rides['distance'].sort_values().plot\n",
    "    (\n",
    "        kind='hist', bins=50, title='Распределение пользователей по длине дистанции', xlabel='Дистанция (в метрах)', ylabel='Кол-во пользователей', grid=True\n",
    "    )\n",
    ");"
   ]
  },
  {
   "cell_type": "code",
   "execution_count": 20,
   "id": "2da06ec8-5316-477a-b28b-6e7a9c92a913",
   "metadata": {},
   "outputs": [
    {
     "data": {
      "text/plain": [
       "<AxesSubplot:>"
      ]
     },
     "execution_count": 20,
     "metadata": {},
     "output_type": "execute_result"
    },
    {
     "data": {
      "image/png": "[encoded data removed]",
      "text/plain": [
       "<Figure size 432x288 with 1 Axes>"
      ]
     },
     "metadata": {
      "needs_background": "light"
     },
     "output_type": "display_data"
    }
   ],
   "source": [
    "rides.boxplot(column='distance')"
   ]
  },
  {
   "cell_type": "code",
   "execution_count": 21,
   "id": "706b4dd6-1230-455c-9cb0-750e59adde1e",
   "metadata": {},
   "outputs": [
    {
     "data": {
      "text/plain": [
       "count    18068.000000\n",
       "mean      3070.659976\n",
       "std       1116.831209\n",
       "min          0.855683\n",
       "25%       2543.226360\n",
       "50%       3133.609994\n",
       "75%       3776.222735\n",
       "max       7211.007745\n",
       "Name: distance, dtype: float64"
      ]
     },
     "execution_count": 21,
     "metadata": {},
     "output_type": "execute_result"
    }
   ],
   "source": [
    "rides['distance'].describe()"
   ]
  },
  {
   "cell_type": "markdown",
   "id": "e3dadfa8-6fd9-4095-9998-30fe1f68771d",
   "metadata": {},
   "source": [
    "**Вывод**: из гистограммы видно, что чаще всего встречаются пользователи, которые преодолевают дистанцию на самокате в среднем 2500-3500 метров. Это подтверждается и диаграммой размаха. Поездки можно считать короткими, если их расстояние составляет меньше 2543 метров, длинными - больше 3776 метров. Также за счет \"усов\" отсекаются аномально короткие (меньше 700 метров) и длинные (больше 5700 метров) расстояния за поездку."
   ]
  },
  {
   "cell_type": "code",
   "execution_count": 22,
   "id": "57529776-16bf-4faf-b264-6449f6c1f245",
   "metadata": {},
   "outputs": [
    {
     "data": {
      "text/plain": [
       "<AxesSubplot:>"
      ]
     },
     "execution_count": 22,
     "metadata": {},
     "output_type": "execute_result"
    },
    {
     "data": {
      "image/png": "[encoded data removed]",
      "text/plain": [
       "<Figure size 432x288 with 1 Axes>"
      ]
     },
     "metadata": {
      "needs_background": "light"
     },
     "output_type": "display_data"
    }
   ],
   "source": [
    "rides.boxplot(column='duration')   "
   ]
  },
  {
   "cell_type": "code",
   "execution_count": 23,
   "id": "25a6344c-1948-42dd-ba6b-d1e27ae3cfc3",
   "metadata": {},
   "outputs": [
    {
     "data": {
      "text/plain": [
       "count    18068.000000\n",
       "mean        17.805011\n",
       "std          6.091051\n",
       "min          0.500000\n",
       "25%         13.597563\n",
       "50%         17.678395\n",
       "75%         21.724800\n",
       "max         40.823963\n",
       "Name: duration, dtype: float64"
      ]
     },
     "execution_count": 23,
     "metadata": {},
     "output_type": "execute_result"
    }
   ],
   "source": [
    "rides['duration'].describe()"
   ]
  },
  {
   "cell_type": "code",
   "execution_count": 24,
   "id": "7fad7290",
   "metadata": {},
   "outputs": [],
   "source": [
    "dropped = rides[rides['duration'] == 0.5].index\n",
    "rides.drop(dropped, inplace=True)"
   ]
  },
  {
   "cell_type": "markdown",
   "id": "42acd298-87ae-4c6a-b6e2-b93092d1655a",
   "metadata": {},
   "source": [
    "**Вывод**: средняя продолжительность поездки составляет 17 минут, короткие поездки длятся меньше 13 минут, а долгие - больше 21 минуты. Также из диаграммы размаха видно, что поездки продолжительностью 0.5 минуты и более 34 минут выбиваются из общего списка.\n",
    "\n",
    "Это навело на мысль проверить подозрительно маленькие поездки в 30 секунд - всего в датафрейме их 95 штук из 18068, то есть меньше 1% данных. Так как нет возможности уточнить информацию этого пика у руководства, принимаю решение удалить эти значения, принимая их за логическую ошибку."
   ]
  },
  {
   "cell_type": "markdown",
   "id": "9f77090d-53d8-4a7f-920d-5cc1b8b8be60",
   "metadata": {},
   "source": [
    "**Выводы**: в результате анализа были описаны и визуализированы некоторые показатели.\n",
    "- частота встречаемости городов, в которых зарегестрированы пользователи, распределена примерно равномерно\n",
    "- пользователей, не оформивших подписку немного больше - 54.43% от общего числа\n",
    "- возраст пользователей в среднем составляет от 20 до 30 лет, однако есть как 10-летние, так и 40-летние \"самокатчики\"\n",
    "- расстояние, которое в среднем преодолевается за поездку, лежит в диапазоне от 2543 до 3776 метров\n",
    "- продолжительность поездки в среднем составляет 15-20 минут.35"
   ]
  },
  {
   "cell_type": "markdown",
   "id": "f49b9089-31fc-453b-a36f-23451c6c74e3",
   "metadata": {},
   "source": [
    "### 4 Объединение данных"
   ]
  },
  {
   "cell_type": "code",
   "execution_count": 25,
   "id": "e0137a53-3a02-4250-ab6c-cc76b5920f05",
   "metadata": {},
   "outputs": [
    {
     "data": {
      "text/html": [
       "<div>\n",
       "<style scoped>\n",
       "    .dataframe tbody tr th:only-of-type {\n",
       "        vertical-align: middle;\n",
       "    }\n",
       "\n",
       "    .dataframe tbody tr th {\n",
       "        vertical-align: top;\n",
       "    }\n",
       "\n",
       "    .dataframe thead th {\n",
       "        text-align: right;\n",
       "    }\n",
       "</style>\n",
       "<table border=\"1\" class=\"dataframe\">\n",
       "  <thead>\n",
       "    <tr style=\"text-align: right;\">\n",
       "      <th></th>\n",
       "      <th>user_id</th>\n",
       "      <th>name</th>\n",
       "      <th>age</th>\n",
       "      <th>city</th>\n",
       "      <th>subscription_type</th>\n",
       "      <th>distance</th>\n",
       "      <th>duration</th>\n",
       "      <th>date</th>\n",
       "      <th>month</th>\n",
       "      <th>minute_price</th>\n",
       "      <th>start_ride_price</th>\n",
       "      <th>subscription_fee</th>\n",
       "    </tr>\n",
       "  </thead>\n",
       "  <tbody>\n",
       "    <tr>\n",
       "      <th>0</th>\n",
       "      <td>1</td>\n",
       "      <td>Кира</td>\n",
       "      <td>22</td>\n",
       "      <td>Тюмень</td>\n",
       "      <td>ultra</td>\n",
       "      <td>4409.919140</td>\n",
       "      <td>25.599769</td>\n",
       "      <td>2021-01-01</td>\n",
       "      <td>1</td>\n",
       "      <td>6</td>\n",
       "      <td>0</td>\n",
       "      <td>199</td>\n",
       "    </tr>\n",
       "    <tr>\n",
       "      <th>1</th>\n",
       "      <td>1</td>\n",
       "      <td>Кира</td>\n",
       "      <td>22</td>\n",
       "      <td>Тюмень</td>\n",
       "      <td>ultra</td>\n",
       "      <td>2617.592153</td>\n",
       "      <td>15.816871</td>\n",
       "      <td>2021-01-18</td>\n",
       "      <td>1</td>\n",
       "      <td>6</td>\n",
       "      <td>0</td>\n",
       "      <td>199</td>\n",
       "    </tr>\n",
       "    <tr>\n",
       "      <th>2</th>\n",
       "      <td>1</td>\n",
       "      <td>Кира</td>\n",
       "      <td>22</td>\n",
       "      <td>Тюмень</td>\n",
       "      <td>ultra</td>\n",
       "      <td>754.159807</td>\n",
       "      <td>6.232113</td>\n",
       "      <td>2021-04-20</td>\n",
       "      <td>4</td>\n",
       "      <td>6</td>\n",
       "      <td>0</td>\n",
       "      <td>199</td>\n",
       "    </tr>\n",
       "    <tr>\n",
       "      <th>3</th>\n",
       "      <td>1</td>\n",
       "      <td>Кира</td>\n",
       "      <td>22</td>\n",
       "      <td>Тюмень</td>\n",
       "      <td>ultra</td>\n",
       "      <td>2694.783254</td>\n",
       "      <td>18.511000</td>\n",
       "      <td>2021-08-11</td>\n",
       "      <td>8</td>\n",
       "      <td>6</td>\n",
       "      <td>0</td>\n",
       "      <td>199</td>\n",
       "    </tr>\n",
       "    <tr>\n",
       "      <th>4</th>\n",
       "      <td>1</td>\n",
       "      <td>Кира</td>\n",
       "      <td>22</td>\n",
       "      <td>Тюмень</td>\n",
       "      <td>ultra</td>\n",
       "      <td>4028.687306</td>\n",
       "      <td>26.265803</td>\n",
       "      <td>2021-08-28</td>\n",
       "      <td>8</td>\n",
       "      <td>6</td>\n",
       "      <td>0</td>\n",
       "      <td>199</td>\n",
       "    </tr>\n",
       "    <tr>\n",
       "      <th>...</th>\n",
       "      <td>...</td>\n",
       "      <td>...</td>\n",
       "      <td>...</td>\n",
       "      <td>...</td>\n",
       "      <td>...</td>\n",
       "      <td>...</td>\n",
       "      <td>...</td>\n",
       "      <td>...</td>\n",
       "      <td>...</td>\n",
       "      <td>...</td>\n",
       "      <td>...</td>\n",
       "      <td>...</td>\n",
       "    </tr>\n",
       "    <tr>\n",
       "      <th>17968</th>\n",
       "      <td>1534</td>\n",
       "      <td>Альберт</td>\n",
       "      <td>25</td>\n",
       "      <td>Краснодар</td>\n",
       "      <td>free</td>\n",
       "      <td>3781.098080</td>\n",
       "      <td>19.822962</td>\n",
       "      <td>2021-11-04</td>\n",
       "      <td>11</td>\n",
       "      <td>8</td>\n",
       "      <td>50</td>\n",
       "      <td>0</td>\n",
       "    </tr>\n",
       "    <tr>\n",
       "      <th>17969</th>\n",
       "      <td>1534</td>\n",
       "      <td>Альберт</td>\n",
       "      <td>25</td>\n",
       "      <td>Краснодар</td>\n",
       "      <td>free</td>\n",
       "      <td>2840.423057</td>\n",
       "      <td>21.409799</td>\n",
       "      <td>2021-11-16</td>\n",
       "      <td>11</td>\n",
       "      <td>8</td>\n",
       "      <td>50</td>\n",
       "      <td>0</td>\n",
       "    </tr>\n",
       "    <tr>\n",
       "      <th>17970</th>\n",
       "      <td>1534</td>\n",
       "      <td>Альберт</td>\n",
       "      <td>25</td>\n",
       "      <td>Краснодар</td>\n",
       "      <td>free</td>\n",
       "      <td>3826.185507</td>\n",
       "      <td>18.435051</td>\n",
       "      <td>2021-11-18</td>\n",
       "      <td>11</td>\n",
       "      <td>8</td>\n",
       "      <td>50</td>\n",
       "      <td>0</td>\n",
       "    </tr>\n",
       "    <tr>\n",
       "      <th>17971</th>\n",
       "      <td>1534</td>\n",
       "      <td>Альберт</td>\n",
       "      <td>25</td>\n",
       "      <td>Краснодар</td>\n",
       "      <td>free</td>\n",
       "      <td>2902.308661</td>\n",
       "      <td>16.674362</td>\n",
       "      <td>2021-11-27</td>\n",
       "      <td>11</td>\n",
       "      <td>8</td>\n",
       "      <td>50</td>\n",
       "      <td>0</td>\n",
       "    </tr>\n",
       "    <tr>\n",
       "      <th>17972</th>\n",
       "      <td>1534</td>\n",
       "      <td>Альберт</td>\n",
       "      <td>25</td>\n",
       "      <td>Краснодар</td>\n",
       "      <td>free</td>\n",
       "      <td>2371.711192</td>\n",
       "      <td>15.893917</td>\n",
       "      <td>2021-12-29</td>\n",
       "      <td>12</td>\n",
       "      <td>8</td>\n",
       "      <td>50</td>\n",
       "      <td>0</td>\n",
       "    </tr>\n",
       "  </tbody>\n",
       "</table>\n",
       "<p>17973 rows × 12 columns</p>\n",
       "</div>"
      ],
      "text/plain": [
       "       user_id     name  age       city subscription_type     distance  \\\n",
       "0            1     Кира   22     Тюмень             ultra  4409.919140   \n",
       "1            1     Кира   22     Тюмень             ultra  2617.592153   \n",
       "2            1     Кира   22     Тюмень             ultra   754.159807   \n",
       "3            1     Кира   22     Тюмень             ultra  2694.783254   \n",
       "4            1     Кира   22     Тюмень             ultra  4028.687306   \n",
       "...        ...      ...  ...        ...               ...          ...   \n",
       "17968     1534  Альберт   25  Краснодар              free  3781.098080   \n",
       "17969     1534  Альберт   25  Краснодар              free  2840.423057   \n",
       "17970     1534  Альберт   25  Краснодар              free  3826.185507   \n",
       "17971     1534  Альберт   25  Краснодар              free  2902.308661   \n",
       "17972     1534  Альберт   25  Краснодар              free  2371.711192   \n",
       "\n",
       "        duration       date  month  minute_price  start_ride_price  \\\n",
       "0      25.599769 2021-01-01      1             6                 0   \n",
       "1      15.816871 2021-01-18      1             6                 0   \n",
       "2       6.232113 2021-04-20      4             6                 0   \n",
       "3      18.511000 2021-08-11      8             6                 0   \n",
       "4      26.265803 2021-08-28      8             6                 0   \n",
       "...          ...        ...    ...           ...               ...   \n",
       "17968  19.822962 2021-11-04     11             8                50   \n",
       "17969  21.409799 2021-11-16     11             8                50   \n",
       "17970  18.435051 2021-11-18     11             8                50   \n",
       "17971  16.674362 2021-11-27     11             8                50   \n",
       "17972  15.893917 2021-12-29     12             8                50   \n",
       "\n",
       "       subscription_fee  \n",
       "0                   199  \n",
       "1                   199  \n",
       "2                   199  \n",
       "3                   199  \n",
       "4                   199  \n",
       "...                 ...  \n",
       "17968                 0  \n",
       "17969                 0  \n",
       "17970                 0  \n",
       "17971                 0  \n",
       "17972                 0  \n",
       "\n",
       "[17973 rows x 12 columns]"
      ]
     },
     "execution_count": 25,
     "metadata": {},
     "output_type": "execute_result"
    }
   ],
   "source": [
    "full = users.merge(rides) #объединили таблицу пользователей и поездок\n",
    "full = full.merge(subscriptions) #объединили предыдущую таблицу с таблицей подписок\n",
    "full"
   ]
  },
  {
   "cell_type": "code",
   "execution_count": 26,
   "id": "f754e36e",
   "metadata": {},
   "outputs": [],
   "source": [
    "full['duration'] = np.ceil(full['duration']) #округлила продолжительность поездок методом \"потолок\""
   ]
  },
  {
   "cell_type": "code",
   "execution_count": 27,
   "id": "d55caccb-5342-457f-8073-b7888a802479",
   "metadata": {},
   "outputs": [],
   "source": [
    "with_sub = full.query('subscription_type == \"ultra\"') #создали датафрейм с пользователями, имещими подписку на сервис\n",
    "without_sub = full.query('subscription_type == \"free\"') #создали датафрейм с пользователями без подписки"
   ]
  },
  {
   "cell_type": "code",
   "execution_count": 28,
   "id": "abe77b2c-85e5-4daa-8928-abc080b21d24",
   "metadata": {},
   "outputs": [
    {
     "data": {
      "image/png": "[encoded data removed]",
      "text/plain": [
       "<Figure size 432x288 with 1 Axes>"
      ]
     },
     "metadata": {
      "needs_background": "light"
     },
     "output_type": "display_data"
    }
   ],
   "source": [
    "import matplotlib.pyplot as plt\n",
    "plt.hist(with_sub['distance'], bins = 50)\n",
    "plt.title('Пройденное расстояние в тарифе ultra и free')\n",
    "plt.xlabel('Расстояние(в метрах)')\n",
    "plt.ylabel('Количество поездок')\n",
    "plt.hist(without_sub['distance'], bins = 50, alpha=0.6)\n",
    "plt.axvline(full['distance'].median(), color='k')\n",
    "plt.show()"
   ]
  },
  {
   "cell_type": "markdown",
   "id": "791faea2",
   "metadata": {},
   "source": [
    "**Вывод**: у пользователей с подпиской и без примерно похожие графики и пики на них, медианное значение находится примерно в точке 3100 метров. Однако, пользователи без подписки чаще ездят на удаленные расстояния."
   ]
  },
  {
   "cell_type": "code",
   "execution_count": 29,
   "id": "b7f587b0",
   "metadata": {},
   "outputs": [
    {
     "data": {
      "image/png": "[encoded data removed]",
      "text/plain": [
       "<Figure size 432x288 with 1 Axes>"
      ]
     },
     "metadata": {
      "needs_background": "light"
     },
     "output_type": "display_data"
    }
   ],
   "source": [
    "plt.hist(with_sub['duration'], bins = 50)\n",
    "plt.title('Время в пути в тарифе ultra')\n",
    "plt.xlabel('Время(в минутах)')\n",
    "plt.ylabel('Количество поездок')\n",
    "plt.hist(without_sub['duration'], bins = 50, alpha=0.5)\n",
    "plt.title('Время в пути в тарифе free')\n",
    "plt.axvline(full['duration'].median(), color = 'k')\n",
    "plt.show()"
   ]
  },
  {
   "cell_type": "markdown",
   "id": "c50a6b5b",
   "metadata": {},
   "source": [
    "**Вывод**: пользователи с подпиской и без тратят примерно одинаковое время на путь - в среднем от 10 до 25 минут. Медианное время составляет примерно 18 минут."
   ]
  },
  {
   "cell_type": "markdown",
   "id": "db6801b7-2de3-4437-b93d-49dd8689fb23",
   "metadata": {},
   "source": [
    "**Выводы**: в ходе работы 3 изначальных набора данных были объединены в 1 датафрейм и разбит по двум категориям - пользователей с платной и бесплатной подпиской. Выяснилось, что обе категории тратят примерно одинаковое время на поездку, но люди без подписки ездят на более далекие дистанции."
   ]
  },
  {
   "cell_type": "markdown",
   "id": "ba0fbc14-b2af-4936-955b-452a4e6ec964",
   "metadata": {},
   "source": [
    "### 5 Подсчет выручки"
   ]
  },
  {
   "cell_type": "code",
   "execution_count": 30,
   "id": "6de8822d-5367-427d-a7ce-767b80e04354",
   "metadata": {},
   "outputs": [
    {
     "data": {
      "text/html": [
       "<div>\n",
       "<style scoped>\n",
       "    .dataframe tbody tr th:only-of-type {\n",
       "        vertical-align: middle;\n",
       "    }\n",
       "\n",
       "    .dataframe tbody tr th {\n",
       "        vertical-align: top;\n",
       "    }\n",
       "\n",
       "    .dataframe thead th {\n",
       "        text-align: right;\n",
       "    }\n",
       "</style>\n",
       "<table border=\"1\" class=\"dataframe\">\n",
       "  <thead>\n",
       "    <tr style=\"text-align: right;\">\n",
       "      <th></th>\n",
       "      <th></th>\n",
       "      <th>distance</th>\n",
       "      <th>duration</th>\n",
       "      <th>name</th>\n",
       "      <th>subscription_type</th>\n",
       "    </tr>\n",
       "    <tr>\n",
       "      <th>month</th>\n",
       "      <th>user_id</th>\n",
       "      <th></th>\n",
       "      <th></th>\n",
       "      <th></th>\n",
       "      <th></th>\n",
       "    </tr>\n",
       "  </thead>\n",
       "  <tbody>\n",
       "    <tr>\n",
       "      <th rowspan=\"5\" valign=\"top\">1</th>\n",
       "      <th>1</th>\n",
       "      <td>7027.511294</td>\n",
       "      <td>42.0</td>\n",
       "      <td>2</td>\n",
       "      <td>ultra</td>\n",
       "    </tr>\n",
       "    <tr>\n",
       "      <th>3</th>\n",
       "      <td>3061.777147</td>\n",
       "      <td>13.0</td>\n",
       "      <td>1</td>\n",
       "      <td>ultra</td>\n",
       "    </tr>\n",
       "    <tr>\n",
       "      <th>5</th>\n",
       "      <td>3914.646990</td>\n",
       "      <td>13.0</td>\n",
       "      <td>1</td>\n",
       "      <td>ultra</td>\n",
       "    </tr>\n",
       "    <tr>\n",
       "      <th>7</th>\n",
       "      <td>6478.080979</td>\n",
       "      <td>28.0</td>\n",
       "      <td>2</td>\n",
       "      <td>ultra</td>\n",
       "    </tr>\n",
       "    <tr>\n",
       "      <th>12</th>\n",
       "      <td>3577.151148</td>\n",
       "      <td>33.0</td>\n",
       "      <td>1</td>\n",
       "      <td>ultra</td>\n",
       "    </tr>\n",
       "  </tbody>\n",
       "</table>\n",
       "</div>"
      ],
      "text/plain": [
       "                  distance  duration  name subscription_type\n",
       "month user_id                                               \n",
       "1     1        7027.511294      42.0     2             ultra\n",
       "      3        3061.777147      13.0     1             ultra\n",
       "      5        3914.646990      13.0     1             ultra\n",
       "      7        6478.080979      28.0     2             ultra\n",
       "      12       3577.151148      33.0     1             ultra"
      ]
     },
     "execution_count": 30,
     "metadata": {},
     "output_type": "execute_result"
    }
   ],
   "source": [
    "agg_data = full.pivot_table(index=['month', 'user_id'], values=['distance','name','duration', 'subscription_type'], aggfunc={'distance' : 'sum', 'duration' : 'sum', 'name' : 'count', 'subscription_type' : 'max'}) #создала сводную таблицу с нужными показателями \n",
    "agg_data.head() #вывела первые 5 строк датафрейма"
   ]
  },
  {
   "cell_type": "code",
   "execution_count": 31,
   "id": "197fb5a2-6919-4d55-810f-3bdd73bcc46c",
   "metadata": {},
   "outputs": [],
   "source": [
    "agg_data = agg_data.rename(columns = {'name' : 'count'}) #переименовала столбец"
   ]
  },
  {
   "cell_type": "code",
   "execution_count": 32,
   "id": "1e35b166-366d-450c-9b7c-1e5e5e5e6902",
   "metadata": {},
   "outputs": [],
   "source": [
    "#создаем собственную функцию для вычисления помесячной выручки\n",
    "def revenue(row):\n",
    "    if row['subscription_type'] == 'ultra':\n",
    "        return (199 + 6 * row['duration'])\n",
    "    if row['subscription_type'] == 'free':\n",
    "        return (50 + 8 * row['duration'])\n",
    "    return 'тариф не определён'"
   ]
  },
  {
   "cell_type": "code",
   "execution_count": 39,
   "id": "02b5f3fd-8481-4924-b6e6-bbe51812bb16",
   "metadata": {},
   "outputs": [
    {
     "data": {
      "text/html": [
       "<div>\n",
       "<style scoped>\n",
       "    .dataframe tbody tr th:only-of-type {\n",
       "        vertical-align: middle;\n",
       "    }\n",
       "\n",
       "    .dataframe tbody tr th {\n",
       "        vertical-align: top;\n",
       "    }\n",
       "\n",
       "    .dataframe thead th {\n",
       "        text-align: right;\n",
       "    }\n",
       "</style>\n",
       "<table border=\"1\" class=\"dataframe\">\n",
       "  <thead>\n",
       "    <tr style=\"text-align: right;\">\n",
       "      <th></th>\n",
       "      <th></th>\n",
       "      <th>distance</th>\n",
       "      <th>duration</th>\n",
       "      <th>count</th>\n",
       "      <th>subscription_type</th>\n",
       "      <th>monthly_revenue</th>\n",
       "    </tr>\n",
       "    <tr>\n",
       "      <th>month</th>\n",
       "      <th>user_id</th>\n",
       "      <th></th>\n",
       "      <th></th>\n",
       "      <th></th>\n",
       "      <th></th>\n",
       "      <th></th>\n",
       "    </tr>\n",
       "  </thead>\n",
       "  <tbody>\n",
       "    <tr>\n",
       "      <th>1</th>\n",
       "      <th>1471</th>\n",
       "      <td>23098.193122</td>\n",
       "      <td>143.0</td>\n",
       "      <td>6</td>\n",
       "      <td>free</td>\n",
       "      <td>1194.0</td>\n",
       "    </tr>\n",
       "    <tr>\n",
       "      <th>12</th>\n",
       "      <th>715</th>\n",
       "      <td>22712.450389</td>\n",
       "      <td>131.0</td>\n",
       "      <td>6</td>\n",
       "      <td>free</td>\n",
       "      <td>1098.0</td>\n",
       "    </tr>\n",
       "    <tr>\n",
       "      <th>5</th>\n",
       "      <th>1083</th>\n",
       "      <td>23429.487786</td>\n",
       "      <td>129.0</td>\n",
       "      <td>7</td>\n",
       "      <td>free</td>\n",
       "      <td>1082.0</td>\n",
       "    </tr>\n",
       "    <tr>\n",
       "      <th>4</th>\n",
       "      <th>1424</th>\n",
       "      <td>21527.849820</td>\n",
       "      <td>124.0</td>\n",
       "      <td>7</td>\n",
       "      <td>free</td>\n",
       "      <td>1042.0</td>\n",
       "    </tr>\n",
       "    <tr>\n",
       "      <th>1</th>\n",
       "      <th>1383</th>\n",
       "      <td>20653.334199</td>\n",
       "      <td>123.0</td>\n",
       "      <td>6</td>\n",
       "      <td>free</td>\n",
       "      <td>1034.0</td>\n",
       "    </tr>\n",
       "    <tr>\n",
       "      <th>3</th>\n",
       "      <th>1196</th>\n",
       "      <td>17991.776785</td>\n",
       "      <td>121.0</td>\n",
       "      <td>6</td>\n",
       "      <td>free</td>\n",
       "      <td>1018.0</td>\n",
       "    </tr>\n",
       "    <tr>\n",
       "      <th>12</th>\n",
       "      <th>1149</th>\n",
       "      <td>18449.375290</td>\n",
       "      <td>116.0</td>\n",
       "      <td>5</td>\n",
       "      <td>free</td>\n",
       "      <td>978.0</td>\n",
       "    </tr>\n",
       "    <tr>\n",
       "      <th rowspan=\"2\" valign=\"top\">3</th>\n",
       "      <th>617</th>\n",
       "      <td>20009.704886</td>\n",
       "      <td>126.0</td>\n",
       "      <td>6</td>\n",
       "      <td>ultra</td>\n",
       "      <td>955.0</td>\n",
       "    </tr>\n",
       "    <tr>\n",
       "      <th>991</th>\n",
       "      <td>18244.387063</td>\n",
       "      <td>113.0</td>\n",
       "      <td>5</td>\n",
       "      <td>free</td>\n",
       "      <td>954.0</td>\n",
       "    </tr>\n",
       "    <tr>\n",
       "      <th>7</th>\n",
       "      <th>944</th>\n",
       "      <td>17647.951688</td>\n",
       "      <td>112.0</td>\n",
       "      <td>5</td>\n",
       "      <td>free</td>\n",
       "      <td>946.0</td>\n",
       "    </tr>\n",
       "    <tr>\n",
       "      <th>2</th>\n",
       "      <th>941</th>\n",
       "      <td>16300.003905</td>\n",
       "      <td>111.0</td>\n",
       "      <td>5</td>\n",
       "      <td>free</td>\n",
       "      <td>938.0</td>\n",
       "    </tr>\n",
       "    <tr>\n",
       "      <th>5</th>\n",
       "      <th>938</th>\n",
       "      <td>19061.395847</td>\n",
       "      <td>111.0</td>\n",
       "      <td>6</td>\n",
       "      <td>free</td>\n",
       "      <td>938.0</td>\n",
       "    </tr>\n",
       "    <tr>\n",
       "      <th>12</th>\n",
       "      <th>894</th>\n",
       "      <td>15960.599939</td>\n",
       "      <td>109.0</td>\n",
       "      <td>5</td>\n",
       "      <td>free</td>\n",
       "      <td>922.0</td>\n",
       "    </tr>\n",
       "    <tr>\n",
       "      <th>1</th>\n",
       "      <th>730</th>\n",
       "      <td>22666.615624</td>\n",
       "      <td>108.0</td>\n",
       "      <td>5</td>\n",
       "      <td>free</td>\n",
       "      <td>914.0</td>\n",
       "    </tr>\n",
       "    <tr>\n",
       "      <th>5</th>\n",
       "      <th>1419</th>\n",
       "      <td>16629.100261</td>\n",
       "      <td>108.0</td>\n",
       "      <td>5</td>\n",
       "      <td>free</td>\n",
       "      <td>914.0</td>\n",
       "    </tr>\n",
       "    <tr>\n",
       "      <th>7</th>\n",
       "      <th>1307</th>\n",
       "      <td>17127.531763</td>\n",
       "      <td>107.0</td>\n",
       "      <td>5</td>\n",
       "      <td>free</td>\n",
       "      <td>906.0</td>\n",
       "    </tr>\n",
       "    <tr>\n",
       "      <th>6</th>\n",
       "      <th>957</th>\n",
       "      <td>16389.479250</td>\n",
       "      <td>106.0</td>\n",
       "      <td>5</td>\n",
       "      <td>free</td>\n",
       "      <td>898.0</td>\n",
       "    </tr>\n",
       "    <tr>\n",
       "      <th>9</th>\n",
       "      <th>1246</th>\n",
       "      <td>17670.402934</td>\n",
       "      <td>106.0</td>\n",
       "      <td>6</td>\n",
       "      <td>free</td>\n",
       "      <td>898.0</td>\n",
       "    </tr>\n",
       "    <tr>\n",
       "      <th>5</th>\n",
       "      <th>171</th>\n",
       "      <td>16135.757358</td>\n",
       "      <td>116.0</td>\n",
       "      <td>5</td>\n",
       "      <td>ultra</td>\n",
       "      <td>895.0</td>\n",
       "    </tr>\n",
       "    <tr>\n",
       "      <th>11</th>\n",
       "      <th>933</th>\n",
       "      <td>16327.334631</td>\n",
       "      <td>103.0</td>\n",
       "      <td>4</td>\n",
       "      <td>free</td>\n",
       "      <td>874.0</td>\n",
       "    </tr>\n",
       "  </tbody>\n",
       "</table>\n",
       "</div>"
      ],
      "text/plain": [
       "                   distance  duration  count subscription_type  \\\n",
       "month user_id                                                    \n",
       "1     1471     23098.193122     143.0      6              free   \n",
       "12    715      22712.450389     131.0      6              free   \n",
       "5     1083     23429.487786     129.0      7              free   \n",
       "4     1424     21527.849820     124.0      7              free   \n",
       "1     1383     20653.334199     123.0      6              free   \n",
       "3     1196     17991.776785     121.0      6              free   \n",
       "12    1149     18449.375290     116.0      5              free   \n",
       "3     617      20009.704886     126.0      6             ultra   \n",
       "      991      18244.387063     113.0      5              free   \n",
       "7     944      17647.951688     112.0      5              free   \n",
       "2     941      16300.003905     111.0      5              free   \n",
       "5     938      19061.395847     111.0      6              free   \n",
       "12    894      15960.599939     109.0      5              free   \n",
       "1     730      22666.615624     108.0      5              free   \n",
       "5     1419     16629.100261     108.0      5              free   \n",
       "7     1307     17127.531763     107.0      5              free   \n",
       "6     957      16389.479250     106.0      5              free   \n",
       "9     1246     17670.402934     106.0      6              free   \n",
       "5     171      16135.757358     116.0      5             ultra   \n",
       "11    933      16327.334631     103.0      4              free   \n",
       "\n",
       "               monthly_revenue  \n",
       "month user_id                   \n",
       "1     1471              1194.0  \n",
       "12    715               1098.0  \n",
       "5     1083              1082.0  \n",
       "4     1424              1042.0  \n",
       "1     1383              1034.0  \n",
       "3     1196              1018.0  \n",
       "12    1149               978.0  \n",
       "3     617                955.0  \n",
       "      991                954.0  \n",
       "7     944                946.0  \n",
       "2     941                938.0  \n",
       "5     938                938.0  \n",
       "12    894                922.0  \n",
       "1     730                914.0  \n",
       "5     1419               914.0  \n",
       "7     1307               906.0  \n",
       "6     957                898.0  \n",
       "9     1246               898.0  \n",
       "5     171                895.0  \n",
       "11    933                874.0  "
      ]
     },
     "execution_count": 39,
     "metadata": {},
     "output_type": "execute_result"
    }
   ],
   "source": [
    "agg_data['monthly_revenue'] = agg_data.apply(revenue, axis=1) #добавили столбец\n",
    "agg_data.sort_values(by='monthly_revenue', ascending=False).head(20) #вывели таблицу, отсортировав по наибольшей выручке"
   ]
  },
  {
   "cell_type": "markdown",
   "id": "51b4e685-7cfb-4e01-b1e6-0eb051dbabf5",
   "metadata": {},
   "source": [
    "**Вывод**: был создан отдельный датафрейм с агрегирующими данными, туда же добавлен столбец с помесячной выручкой. Она была рассчитана для пользователей с подпиской на сервис и без нее по соответствующим формулам."
   ]
  },
  {
   "cell_type": "markdown",
   "id": "fd471630-1c70-4a32-ae3f-20a6ba245d3a",
   "metadata": {},
   "source": [
    "### 6 Проверка гипотез"
   ]
  },
  {
   "cell_type": "markdown",
   "id": "e3cadc2b-07d2-4fb7-bcaa-819e8d6d35a4",
   "metadata": {},
   "source": [
    "##### 1 гипотеза \n",
    "**Необходимо проверить**: тратят ли пользователи с подпиской больше времени на поездки? Если да, то пользователи с подпиской могут быть «выгоднее» для компании.\n",
    "\n",
    "H0: Время поездки у подписчиков равно времени поездки у пользователей без подписки\n",
    "\n",
    "H1: Пользователи с подпиской тратят больше времени на поездки, чем пользователи без нее"
   ]
  },
  {
   "cell_type": "code",
   "execution_count": 34,
   "id": "79d5c9c5-28d9-403c-a9d7-55e400086aa5",
   "metadata": {},
   "outputs": [
    {
     "name": "stdout",
     "output_type": "stream",
     "text": [
      "p-значение: 8.577910347796266e-28\n",
      "Отвергаем нулевую гипотезу\n"
     ]
    }
   ],
   "source": [
    "ultra = with_sub['duration']\n",
    "free = without_sub['duration']\n",
    "\n",
    "alpha = 0.05\n",
    "\n",
    "results = st.ttest_ind(ultra, free, alternative = 'greater')\n",
    "\n",
    "print('p-значение:', results.pvalue)\n",
    "\n",
    "if results.pvalue < alpha:\n",
    "    print('Отвергаем нулевую гипотезу')\n",
    "else:\n",
    "    print('Не получилось отвергнуть нулевую гипотезу')"
   ]
  },
  {
   "cell_type": "markdown",
   "id": "ead235e2-f83e-4991-9788-de731d01f2b1",
   "metadata": {},
   "source": [
    "**Вывод**: проверили гипотезу о времени на поездки у пользователей, получилось отвергнуть, что они равны. Можно предполагать, что пользователи с подпиской тратят на поездки больше времени."
   ]
  },
  {
   "cell_type": "markdown",
   "id": "5c92f50a-9a11-4ca8-b24c-4a8e6a44ad8a",
   "metadata": {},
   "source": [
    "##### 2 гипотеза \n",
    "**Необходимо проверить**: Можно ли сказать, что среднее расстояние, которое проезжают пользователи с подпиской за одну поездку, не превышает 3130 метров? \n",
    "\n",
    "H0: Среднее расстояние поездки у пользователя с подпиской составляет 3130 метров\n",
    "\n",
    "H1: Среднее расстояние поездки у пользователя с подпиской больше 3130 метров"
   ]
  },
  {
   "cell_type": "code",
   "execution_count": 35,
   "id": "c199dc46-7ef6-4b61-89c4-93586ac4fbb5",
   "metadata": {},
   "outputs": [
    {
     "name": "stdout",
     "output_type": "stream",
     "text": [
      "p-значение: 0.9195368847849785\n",
      "Не получилось отвергнуть нулевую гипотезу\n"
     ]
    }
   ],
   "source": [
    "ultra_distance = with_sub['distance']\n",
    "mean_distance = 3130\n",
    "\n",
    "alpha = 0.05\n",
    "\n",
    "results = st.ttest_1samp(ultra_distance, mean_distance, alternative = 'greater')\n",
    "\n",
    "print('p-значение:', results.pvalue)\n",
    "\n",
    "if results.pvalue < alpha:\n",
    "    print('Отвергаем нулевую гипотезу')\n",
    "else:\n",
    "    print('Не получилось отвергнуть нулевую гипотезу')"
   ]
  },
  {
   "cell_type": "markdown",
   "id": "b9b27682-f1fc-46c8-8411-010a37dea2a7",
   "metadata": {},
   "source": [
    "**Вывод**: не получилось отвергнуть гипотезу о том, что расстояние поездки у пользователей с подпиской равно 3130 метров. Так как гипотеза односторонняя, можно считать, что среднее расстояние не больше этого значения."
   ]
  },
  {
   "cell_type": "markdown",
   "id": "b1296e22-276e-4cb2-a54a-3dab7864dbe6",
   "metadata": {},
   "source": [
    "##### 3 гипотеза \n",
    "**Необходимо проверить**: будет ли помесячная выручка от пользователей с подпиской по месяцам выше, чем выручка от пользователей без подписки?\n",
    "\n",
    "H0: Помесячные выручки от пользователей с подпиской и без нее равны\n",
    "\n",
    "H1: Помесячная выручка от пользователей с подпиской выше, чем без нее"
   ]
  },
  {
   "cell_type": "code",
   "execution_count": 36,
   "id": "3b18d121-c46d-40f1-8262-908f915d307c",
   "metadata": {},
   "outputs": [
    {
     "name": "stdout",
     "output_type": "stream",
     "text": [
      "p-значение: 6.029098397097659e-176\n",
      "Отвергаем нулевую гипотезу\n"
     ]
    }
   ],
   "source": [
    "ultra_revenue = agg_data.query('subscription_type == \"ultra\"')['monthly_revenue']\n",
    "free_revenue = agg_data.query('subscription_type == \"free\"')['monthly_revenue']\n",
    "\n",
    "alpha = 0.05\n",
    "\n",
    "results = st.ttest_ind(ultra_revenue, free_revenue, alternative = 'greater')\n",
    "\n",
    "print('p-значение:', results.pvalue)\n",
    "\n",
    "if results.pvalue < alpha:\n",
    "    print('Отвергаем нулевую гипотезу')\n",
    "else:\n",
    "    print('Не получилось отвергнуть нулевую гипотезу')"
   ]
  },
  {
   "cell_type": "markdown",
   "id": "ce9d7651-3fec-4dc5-bebd-4036a1e74123",
   "metadata": {},
   "source": [
    "**Вывод**: отвергаем нулевую гипотезу, а значит можно предполгать, что помесячная выручка от пользователей с подпиской выше, чем без нее."
   ]
  },
  {
   "cell_type": "markdown",
   "id": "e999cf2d-a831-451a-a8c4-f5a27aa57553",
   "metadata": {},
   "source": [
    "##### 4 гипотеза \n",
    "Чтобы проверить гипотезу о том, стало ли меньше обращений в поддержку после обновления, понадобится применить метод st.ttest_rel(). Он преднозначен для проверки зависимых выборок.\n",
    "\n",
    "Н0: обращений после обновления столько же, сколько было и до него\n",
    "\n",
    "Н1: обращений после обновления стало меньше, чем до него"
   ]
  },
  {
   "cell_type": "markdown",
   "id": "417b7a05-f8b6-4347-8603-1dccb3f7e488",
   "metadata": {},
   "source": [
    "**Выводы**: в результате проверки первой гипотезы выяснили, что пользователи с подпиской тратят на поездки больше времени.\n",
    "После проверки второй гипотезы сделали вывод, что среднее расстояние, которое проезжают пользователи, не больше 3130 метров.\n",
    "Проверка третей гипотезы дала нам понять, что подписчики сервиса приносят ему больше помесячной выручки."
   ]
  },
  {
   "cell_type": "markdown",
   "id": "5733074e-fa48-4fcc-a081-09dc48507987",
   "metadata": {},
   "source": [
    "### 7 Общие выводы"
   ]
  },
  {
   "cell_type": "markdown",
   "id": "bffc7b0f-8b97-4a0a-89bc-3359b586403a",
   "metadata": {},
   "source": [
    "В процессе статистического анализа данных были выполнены следующие этапы, а также сделаны выводы по ним:\n",
    "1. Изучили общую информацию о данных\n",
    " - в данных 3 датафрейма с 1565, 18068 и 2 строками соотвественно. Ни в одном из них нет пропущенных значений\n",
    " - в некоторых данных надо изменить тип, а также проверить все на наличие дубликатов\n",
    "2. Осуществили предобработку данных\n",
    " - обнаружили и удалили 31 дубликат в датафрейме о пользователях сервиса\n",
    " - в столбце с датой поездки изменили тип на подходящий и добавили столбец с номером месяца\n",
    "3. Провели исследовательский анализ данных\n",
    " - частота встречаемости городов, в которых зарегестрированы пользователи, распределена примерно равномерно\n",
    " - пользователей, не оформивших подписку немного больше - 54.43% от общего числа\n",
    " - возраст пользователей в среднем составляет от 20 до 30 лет, однако есть как 10-летние, так и 40-летние \"самокатчики\"\n",
    " - расстояние, которое в среднем преодолевается за поездку, лежит в диапазоне от 2543 до 3776 метров\n",
    " - продолжительность поездки в среднем составляет 15-20 минут\n",
    "4. Объединили данные\n",
    " - в ходе работы 3 изначальных набора данных были объединены в 1 датафрейм и разбит по двум категориям - пользователей с платной и бесплатной подпиской\n",
    " - обе категории тратят примерно одинаковое время на поездку, но люди без подписки ездят на более далекие дистанции\n",
    "5. Посчитали выручку\n",
    " - был создан отдельный датафрейм с агрегирующими данными, туда же добавлен столбец с помесячной выручкой\n",
    " - выручка была рассчитана для пользователей с подпиской на сервис и без нее по соответствующим формулам   \n",
    "6. Проверили гипотезы\n",
    " - в результате проверки первой гипотезы выяснили, что пользователи с подпиской тратят на поездки больше времени\n",
    " - после проверки второй гипотезы сделали вывод, что среднее расстояние, которое проезжают пользователи, не больше 3130 метров\n",
    " - проверка третей гипотезы дала нам понять, что подписчики сервиса приносят ему больше помесячной выручки\n",
    " - четвертую гипотезу можно проверить методом для зависимых выборок st.ttest_rel().гипотез"
   ]
  }
 ],
 "metadata": {
  "ExecuteTimeLog": [
   {
    "duration": 1159,
    "start_time": "2024-10-08T16:04:37.618Z"
   },
   {
    "duration": 15,
    "start_time": "2024-10-08T16:04:38.780Z"
   },
   {
    "duration": 12,
    "start_time": "2024-10-08T16:04:38.797Z"
   },
   {
    "duration": 12,
    "start_time": "2024-10-08T16:04:38.811Z"
   },
   {
    "duration": 12,
    "start_time": "2024-10-08T16:04:38.825Z"
   },
   {
    "duration": 7,
    "start_time": "2024-10-08T16:04:38.839Z"
   },
   {
    "duration": 15,
    "start_time": "2024-10-08T16:04:38.848Z"
   },
   {
    "duration": 10,
    "start_time": "2024-10-08T16:04:38.864Z"
   },
   {
    "duration": 7,
    "start_time": "2024-10-08T16:04:38.906Z"
   },
   {
    "duration": 7,
    "start_time": "2024-10-08T16:04:38.917Z"
   },
   {
    "duration": 25,
    "start_time": "2024-10-08T16:04:38.926Z"
   },
   {
    "duration": 22,
    "start_time": "2024-10-08T16:04:38.953Z"
   },
   {
    "duration": 5,
    "start_time": "2024-10-08T16:04:38.977Z"
   },
   {
    "duration": 587,
    "start_time": "2024-10-08T16:04:38.984Z"
   },
   {
    "duration": 6,
    "start_time": "2024-10-08T16:04:39.573Z"
   },
   {
    "duration": 6,
    "start_time": "2024-10-08T16:04:39.581Z"
   },
   {
    "duration": 4,
    "start_time": "2024-10-08T16:04:39.606Z"
   },
   {
    "duration": 152,
    "start_time": "2024-10-08T16:04:39.612Z"
   },
   {
    "duration": 209,
    "start_time": "2024-10-08T16:04:39.765Z"
   },
   {
    "duration": 134,
    "start_time": "2024-10-08T16:04:39.975Z"
   },
   {
    "duration": 8,
    "start_time": "2024-10-08T16:04:40.111Z"
   },
   {
    "duration": 135,
    "start_time": "2024-10-08T16:04:40.121Z"
   },
   {
    "duration": 10,
    "start_time": "2024-10-08T16:04:40.257Z"
   },
   {
    "duration": 49,
    "start_time": "2024-10-08T16:04:40.268Z"
   },
   {
    "duration": 11,
    "start_time": "2024-10-08T16:04:40.319Z"
   },
   {
    "duration": 203,
    "start_time": "2024-10-08T16:04:40.331Z"
   },
   {
    "duration": 214,
    "start_time": "2024-10-08T16:04:40.536Z"
   },
   {
    "duration": 314,
    "start_time": "2024-10-08T16:04:40.753Z"
   },
   {
    "duration": 203,
    "start_time": "2024-10-08T16:04:41.068Z"
   },
   {
    "duration": 956,
    "start_time": "2024-10-08T16:04:41.273Z"
   },
   {
    "duration": 4,
    "start_time": "2024-10-08T16:04:42.231Z"
   },
   {
    "duration": 4,
    "start_time": "2024-10-08T16:04:42.237Z"
   },
   {
    "duration": 4,
    "start_time": "2024-10-08T16:04:42.243Z"
   },
   {
    "duration": 28,
    "start_time": "2024-10-08T16:04:42.249Z"
   },
   {
    "duration": 140,
    "start_time": "2024-10-08T16:04:50.005Z"
   },
   {
    "duration": 13,
    "start_time": "2024-10-08T16:04:50.775Z"
   },
   {
    "duration": 55,
    "start_time": "2024-10-08T16:23:14.908Z"
   },
   {
    "duration": 1088,
    "start_time": "2024-10-08T16:23:22.824Z"
   },
   {
    "duration": 16,
    "start_time": "2024-10-08T16:23:23.914Z"
   },
   {
    "duration": 14,
    "start_time": "2024-10-08T16:23:23.932Z"
   },
   {
    "duration": 17,
    "start_time": "2024-10-08T16:23:23.948Z"
   },
   {
    "duration": 13,
    "start_time": "2024-10-08T16:23:23.968Z"
   },
   {
    "duration": 19,
    "start_time": "2024-10-08T16:23:23.983Z"
   },
   {
    "duration": 16,
    "start_time": "2024-10-08T16:23:24.004Z"
   },
   {
    "duration": 26,
    "start_time": "2024-10-08T16:23:24.022Z"
   },
   {
    "duration": 8,
    "start_time": "2024-10-08T16:23:24.050Z"
   },
   {
    "duration": 7,
    "start_time": "2024-10-08T16:23:24.060Z"
   },
   {
    "duration": 16,
    "start_time": "2024-10-08T16:23:24.068Z"
   },
   {
    "duration": 8,
    "start_time": "2024-10-08T16:23:24.086Z"
   },
   {
    "duration": 4,
    "start_time": "2024-10-08T16:23:24.096Z"
   },
   {
    "duration": 652,
    "start_time": "2024-10-08T16:23:24.103Z"
   },
   {
    "duration": 6,
    "start_time": "2024-10-08T16:23:24.757Z"
   },
   {
    "duration": 7,
    "start_time": "2024-10-08T16:23:24.765Z"
   },
   {
    "duration": 13,
    "start_time": "2024-10-08T16:23:24.773Z"
   },
   {
    "duration": 181,
    "start_time": "2024-10-08T16:23:24.788Z"
   },
   {
    "duration": 249,
    "start_time": "2024-10-08T16:23:24.971Z"
   },
   {
    "duration": 136,
    "start_time": "2024-10-08T16:23:25.221Z"
   },
   {
    "duration": 9,
    "start_time": "2024-10-08T16:23:25.359Z"
   },
   {
    "duration": 165,
    "start_time": "2024-10-08T16:23:25.370Z"
   },
   {
    "duration": 21,
    "start_time": "2024-10-08T16:23:25.536Z"
   },
   {
    "duration": 34,
    "start_time": "2024-10-08T16:23:25.558Z"
   },
   {
    "duration": 13,
    "start_time": "2024-10-08T16:23:25.594Z"
   },
   {
    "duration": 212,
    "start_time": "2024-10-08T16:23:25.608Z"
   },
   {
    "duration": 216,
    "start_time": "2024-10-08T16:23:25.822Z"
   },
   {
    "duration": 303,
    "start_time": "2024-10-08T16:23:26.040Z"
   },
   {
    "duration": 231,
    "start_time": "2024-10-08T16:23:26.345Z"
   },
   {
    "duration": 1030,
    "start_time": "2024-10-08T16:23:26.577Z"
   },
   {
    "duration": 6,
    "start_time": "2024-10-08T16:23:27.609Z"
   },
   {
    "duration": 14,
    "start_time": "2024-10-08T16:23:27.618Z"
   },
   {
    "duration": 6,
    "start_time": "2024-10-08T16:23:27.634Z"
   },
   {
    "duration": 169,
    "start_time": "2024-10-08T16:23:27.642Z"
   },
   {
    "duration": 6,
    "start_time": "2024-10-08T16:23:27.813Z"
   },
   {
    "duration": 7,
    "start_time": "2024-10-08T16:23:27.821Z"
   },
   {
    "duration": 28,
    "start_time": "2024-10-08T16:23:27.829Z"
   },
   {
    "duration": 75,
    "start_time": "2024-10-08T16:26:09.505Z"
   },
   {
    "duration": 250,
    "start_time": "2024-10-08T16:30:05.603Z"
   },
   {
    "duration": 169,
    "start_time": "2024-10-08T16:30:13.222Z"
   },
   {
    "duration": 66,
    "start_time": "2024-10-08T16:30:34.791Z"
   },
   {
    "duration": 154,
    "start_time": "2024-10-08T16:30:46.087Z"
   },
   {
    "duration": 168,
    "start_time": "2024-10-08T16:31:02.454Z"
   },
   {
    "duration": 160,
    "start_time": "2024-10-08T16:31:11.173Z"
   },
   {
    "duration": 253,
    "start_time": "2024-10-08T16:34:27.435Z"
   },
   {
    "duration": 17,
    "start_time": "2024-10-08T16:37:43.552Z"
   },
   {
    "duration": 8,
    "start_time": "2024-10-08T16:37:54.324Z"
   },
   {
    "duration": 5,
    "start_time": "2024-10-08T16:38:12.387Z"
   },
   {
    "duration": 91,
    "start_time": "2024-10-08T16:46:33.109Z"
   },
   {
    "duration": 8,
    "start_time": "2024-10-08T16:51:09.175Z"
   },
   {
    "duration": 6,
    "start_time": "2024-10-08T16:51:30.180Z"
   },
   {
    "duration": 9,
    "start_time": "2024-10-08T16:52:39.025Z"
   },
   {
    "duration": 18,
    "start_time": "2024-10-08T16:56:05.399Z"
   },
   {
    "duration": 7,
    "start_time": "2024-10-08T16:56:51.635Z"
   },
   {
    "duration": 9,
    "start_time": "2024-10-08T16:57:00.112Z"
   },
   {
    "duration": 9,
    "start_time": "2024-10-08T16:57:20.975Z"
   },
   {
    "duration": 6,
    "start_time": "2024-10-08T16:57:28.434Z"
   },
   {
    "duration": 1109,
    "start_time": "2024-10-08T16:57:34.528Z"
   },
   {
    "duration": 17,
    "start_time": "2024-10-08T16:57:35.639Z"
   },
   {
    "duration": 19,
    "start_time": "2024-10-08T16:57:35.658Z"
   },
   {
    "duration": 19,
    "start_time": "2024-10-08T16:57:35.679Z"
   },
   {
    "duration": 33,
    "start_time": "2024-10-08T16:57:35.700Z"
   },
   {
    "duration": 15,
    "start_time": "2024-10-08T16:57:35.735Z"
   },
   {
    "duration": 17,
    "start_time": "2024-10-08T16:57:35.752Z"
   },
   {
    "duration": 28,
    "start_time": "2024-10-08T16:57:35.771Z"
   },
   {
    "duration": 24,
    "start_time": "2024-10-08T16:57:35.803Z"
   },
   {
    "duration": 25,
    "start_time": "2024-10-08T16:57:35.830Z"
   },
   {
    "duration": 108,
    "start_time": "2024-10-08T16:57:35.856Z"
   },
   {
    "duration": 20,
    "start_time": "2024-10-08T16:57:35.966Z"
   },
   {
    "duration": 29,
    "start_time": "2024-10-08T16:57:35.988Z"
   },
   {
    "duration": 456,
    "start_time": "2024-10-08T16:57:36.019Z"
   },
   {
    "duration": 6,
    "start_time": "2024-10-08T16:57:36.476Z"
   },
   {
    "duration": 23,
    "start_time": "2024-10-08T16:57:36.484Z"
   },
   {
    "duration": 14,
    "start_time": "2024-10-08T16:57:36.509Z"
   },
   {
    "duration": 237,
    "start_time": "2024-10-08T16:57:36.525Z"
   },
   {
    "duration": 219,
    "start_time": "2024-10-08T16:57:36.765Z"
   },
   {
    "duration": 147,
    "start_time": "2024-10-08T16:57:36.986Z"
   },
   {
    "duration": 21,
    "start_time": "2024-10-08T16:57:37.135Z"
   },
   {
    "duration": 200,
    "start_time": "2024-10-08T16:57:37.158Z"
   },
   {
    "duration": 9,
    "start_time": "2024-10-08T16:57:37.360Z"
   },
   {
    "duration": 63,
    "start_time": "2024-10-08T16:57:37.371Z"
   },
   {
    "duration": 39,
    "start_time": "2024-10-08T16:57:37.436Z"
   },
   {
    "duration": 12,
    "start_time": "2024-10-08T16:57:37.477Z"
   },
   {
    "duration": 233,
    "start_time": "2024-10-08T16:57:37.491Z"
   },
   {
    "duration": 216,
    "start_time": "2024-10-08T16:57:37.729Z"
   },
   {
    "duration": 226,
    "start_time": "2024-10-08T16:57:37.947Z"
   },
   {
    "duration": 283,
    "start_time": "2024-10-08T16:57:38.174Z"
   },
   {
    "duration": 947,
    "start_time": "2024-10-08T16:57:38.459Z"
   },
   {
    "duration": 4,
    "start_time": "2024-10-08T16:57:39.408Z"
   },
   {
    "duration": 7,
    "start_time": "2024-10-08T16:57:39.413Z"
   },
   {
    "duration": 8,
    "start_time": "2024-10-08T16:57:39.421Z"
   },
   {
    "duration": 153,
    "start_time": "2024-10-08T16:57:39.430Z"
   },
   {
    "duration": 5,
    "start_time": "2024-10-08T16:57:39.585Z"
   },
   {
    "duration": 9,
    "start_time": "2024-10-08T16:57:39.592Z"
   },
   {
    "duration": 10,
    "start_time": "2024-10-08T16:57:39.603Z"
   },
   {
    "duration": 190,
    "start_time": "2024-10-08T17:00:00.962Z"
   },
   {
    "duration": 210,
    "start_time": "2024-10-08T17:00:15.912Z"
   },
   {
    "duration": 3,
    "start_time": "2024-10-08T17:01:59.325Z"
   },
   {
    "duration": 5,
    "start_time": "2024-10-08T17:04:36.996Z"
   },
   {
    "duration": 66,
    "start_time": "2024-10-08T17:05:54.545Z"
   },
   {
    "duration": 1188,
    "start_time": "2024-10-08T17:08:36.224Z"
   },
   {
    "duration": 15,
    "start_time": "2024-10-08T17:08:37.413Z"
   },
   {
    "duration": 15,
    "start_time": "2024-10-08T17:08:37.430Z"
   },
   {
    "duration": 8,
    "start_time": "2024-10-08T17:08:37.447Z"
   },
   {
    "duration": 24,
    "start_time": "2024-10-08T17:08:37.457Z"
   },
   {
    "duration": 7,
    "start_time": "2024-10-08T17:08:37.483Z"
   },
   {
    "duration": 14,
    "start_time": "2024-10-08T17:08:37.491Z"
   },
   {
    "duration": 22,
    "start_time": "2024-10-08T17:08:37.507Z"
   },
   {
    "duration": 15,
    "start_time": "2024-10-08T17:08:37.531Z"
   },
   {
    "duration": 6,
    "start_time": "2024-10-08T17:08:37.549Z"
   },
   {
    "duration": 17,
    "start_time": "2024-10-08T17:08:37.557Z"
   },
   {
    "duration": 15,
    "start_time": "2024-10-08T17:08:37.576Z"
   },
   {
    "duration": 8,
    "start_time": "2024-10-08T17:08:37.593Z"
   },
   {
    "duration": 434,
    "start_time": "2024-10-08T17:08:37.603Z"
   },
   {
    "duration": 5,
    "start_time": "2024-10-08T17:08:38.039Z"
   },
   {
    "duration": 44,
    "start_time": "2024-10-08T17:08:38.054Z"
   },
   {
    "duration": 24,
    "start_time": "2024-10-08T17:08:38.099Z"
   },
   {
    "duration": 151,
    "start_time": "2024-10-08T17:08:38.125Z"
   },
   {
    "duration": 216,
    "start_time": "2024-10-08T17:08:38.278Z"
   },
   {
    "duration": 136,
    "start_time": "2024-10-08T17:08:38.497Z"
   },
   {
    "duration": 24,
    "start_time": "2024-10-08T17:08:38.635Z"
   },
   {
    "duration": 172,
    "start_time": "2024-10-08T17:08:38.661Z"
   },
   {
    "duration": 21,
    "start_time": "2024-10-08T17:08:38.835Z"
   },
   {
    "duration": 29,
    "start_time": "2024-10-08T17:08:38.858Z"
   },
   {
    "duration": 65,
    "start_time": "2024-10-08T17:08:38.889Z"
   },
   {
    "duration": 3,
    "start_time": "2024-10-08T17:08:38.957Z"
   },
   {
    "duration": 14,
    "start_time": "2024-10-08T17:08:38.962Z"
   },
   {
    "duration": 215,
    "start_time": "2024-10-08T17:08:38.979Z"
   },
   {
    "duration": 210,
    "start_time": "2024-10-08T17:08:39.196Z"
   },
   {
    "duration": 217,
    "start_time": "2024-10-08T17:08:39.408Z"
   },
   {
    "duration": 211,
    "start_time": "2024-10-08T17:08:39.627Z"
   },
   {
    "duration": 895,
    "start_time": "2024-10-08T17:08:39.840Z"
   },
   {
    "duration": 4,
    "start_time": "2024-10-08T17:08:40.736Z"
   },
   {
    "duration": 16,
    "start_time": "2024-10-08T17:08:40.741Z"
   },
   {
    "duration": 224,
    "start_time": "2024-10-08T17:08:40.759Z"
   },
   {
    "duration": 5,
    "start_time": "2024-10-08T17:08:40.985Z"
   },
   {
    "duration": 9,
    "start_time": "2024-10-08T17:08:40.992Z"
   },
   {
    "duration": 26,
    "start_time": "2024-10-08T17:08:41.003Z"
   },
   {
    "duration": 313,
    "start_time": "2024-10-08T17:15:25.879Z"
   },
   {
    "duration": 321,
    "start_time": "2024-10-08T17:15:43.522Z"
   },
   {
    "duration": 329,
    "start_time": "2024-10-08T17:15:58.985Z"
   },
   {
    "duration": 286,
    "start_time": "2024-10-08T17:16:14.703Z"
   },
   {
    "duration": 284,
    "start_time": "2024-10-08T17:16:23.765Z"
   },
   {
    "duration": 295,
    "start_time": "2024-10-08T17:16:31.408Z"
   },
   {
    "duration": 219,
    "start_time": "2024-10-08T17:16:46.569Z"
   },
   {
    "duration": 206,
    "start_time": "2024-10-08T17:17:00.547Z"
   },
   {
    "duration": 201,
    "start_time": "2024-10-08T17:22:16.015Z"
   },
   {
    "duration": 636,
    "start_time": "2024-10-08T19:03:16.145Z"
   },
   {
    "duration": 1305,
    "start_time": "2024-10-08T19:03:23.493Z"
   },
   {
    "duration": 20,
    "start_time": "2024-10-08T19:03:24.800Z"
   },
   {
    "duration": 14,
    "start_time": "2024-10-08T19:03:24.822Z"
   },
   {
    "duration": 10,
    "start_time": "2024-10-08T19:03:24.839Z"
   },
   {
    "duration": 19,
    "start_time": "2024-10-08T19:03:24.851Z"
   },
   {
    "duration": 34,
    "start_time": "2024-10-08T19:03:24.872Z"
   },
   {
    "duration": 11,
    "start_time": "2024-10-08T19:03:24.909Z"
   },
   {
    "duration": 8,
    "start_time": "2024-10-08T19:03:24.921Z"
   },
   {
    "duration": 6,
    "start_time": "2024-10-08T19:03:24.930Z"
   },
   {
    "duration": 6,
    "start_time": "2024-10-08T19:03:24.940Z"
   },
   {
    "duration": 18,
    "start_time": "2024-10-08T19:03:24.948Z"
   },
   {
    "duration": 43,
    "start_time": "2024-10-08T19:03:24.968Z"
   },
   {
    "duration": 10,
    "start_time": "2024-10-08T19:03:25.013Z"
   },
   {
    "duration": 392,
    "start_time": "2024-10-08T19:03:25.025Z"
   },
   {
    "duration": 5,
    "start_time": "2024-10-08T19:03:25.419Z"
   },
   {
    "duration": 7,
    "start_time": "2024-10-08T19:03:25.426Z"
   },
   {
    "duration": 7,
    "start_time": "2024-10-08T19:03:25.434Z"
   },
   {
    "duration": 153,
    "start_time": "2024-10-08T19:03:25.443Z"
   },
   {
    "duration": 204,
    "start_time": "2024-10-08T19:03:25.598Z"
   },
   {
    "duration": 127,
    "start_time": "2024-10-08T19:03:25.804Z"
   },
   {
    "duration": 8,
    "start_time": "2024-10-08T19:03:25.933Z"
   },
   {
    "duration": 213,
    "start_time": "2024-10-08T19:03:25.943Z"
   },
   {
    "duration": 8,
    "start_time": "2024-10-08T19:03:26.157Z"
   },
   {
    "duration": 10,
    "start_time": "2024-10-08T19:03:26.167Z"
   },
   {
    "duration": 47,
    "start_time": "2024-10-08T19:03:26.178Z"
   },
   {
    "duration": 3,
    "start_time": "2024-10-08T19:03:26.227Z"
   },
   {
    "duration": 16,
    "start_time": "2024-10-08T19:03:26.232Z"
   },
   {
    "duration": 192,
    "start_time": "2024-10-08T19:03:26.251Z"
   },
   {
    "duration": 227,
    "start_time": "2024-10-08T19:03:26.445Z"
   },
   {
    "duration": 0,
    "start_time": "2024-10-08T19:03:26.673Z"
   },
   {
    "duration": 0,
    "start_time": "2024-10-08T19:03:26.675Z"
   },
   {
    "duration": 0,
    "start_time": "2024-10-08T19:03:26.676Z"
   },
   {
    "duration": 0,
    "start_time": "2024-10-08T19:03:26.677Z"
   },
   {
    "duration": 0,
    "start_time": "2024-10-08T19:03:26.679Z"
   },
   {
    "duration": 0,
    "start_time": "2024-10-08T19:03:26.680Z"
   },
   {
    "duration": 0,
    "start_time": "2024-10-08T19:03:26.681Z"
   },
   {
    "duration": 0,
    "start_time": "2024-10-08T19:03:26.683Z"
   },
   {
    "duration": 0,
    "start_time": "2024-10-08T19:03:26.684Z"
   },
   {
    "duration": 0,
    "start_time": "2024-10-08T19:03:26.685Z"
   },
   {
    "duration": 129,
    "start_time": "2024-10-08T19:03:58.993Z"
   },
   {
    "duration": 116,
    "start_time": "2024-10-08T19:04:19.904Z"
   },
   {
    "duration": 9,
    "start_time": "2024-10-08T19:07:43.225Z"
   },
   {
    "duration": 255,
    "start_time": "2024-10-08T19:07:56.209Z"
   },
   {
    "duration": 289,
    "start_time": "2024-10-08T19:08:24.565Z"
   },
   {
    "duration": 407,
    "start_time": "2024-10-08T19:08:50.801Z"
   },
   {
    "duration": 287,
    "start_time": "2024-10-08T19:10:20.010Z"
   },
   {
    "duration": 293,
    "start_time": "2024-10-08T19:17:25.894Z"
   },
   {
    "duration": 291,
    "start_time": "2024-10-08T19:20:22.664Z"
   },
   {
    "duration": 378,
    "start_time": "2024-10-08T19:20:38.402Z"
   },
   {
    "duration": 257,
    "start_time": "2024-10-08T19:20:48.357Z"
   },
   {
    "duration": 267,
    "start_time": "2024-10-08T19:21:12.500Z"
   },
   {
    "duration": 404,
    "start_time": "2024-10-08T19:33:09.665Z"
   },
   {
    "duration": 405,
    "start_time": "2024-10-08T19:35:02.591Z"
   },
   {
    "duration": 518,
    "start_time": "2024-10-08T19:35:20.038Z"
   },
   {
    "duration": 378,
    "start_time": "2024-10-08T19:35:54.384Z"
   },
   {
    "duration": 381,
    "start_time": "2024-10-08T19:40:35.805Z"
   },
   {
    "duration": 422,
    "start_time": "2024-10-08T19:41:16.869Z"
   },
   {
    "duration": 209,
    "start_time": "2024-10-08T19:41:24.131Z"
   },
   {
    "duration": 380,
    "start_time": "2024-10-08T19:41:30.681Z"
   },
   {
    "duration": 491,
    "start_time": "2024-10-08T19:41:44.129Z"
   },
   {
    "duration": 1077,
    "start_time": "2024-10-08T19:48:15.725Z"
   },
   {
    "duration": 17,
    "start_time": "2024-10-08T19:48:16.804Z"
   },
   {
    "duration": 13,
    "start_time": "2024-10-08T19:48:16.822Z"
   },
   {
    "duration": 10,
    "start_time": "2024-10-08T19:48:16.837Z"
   },
   {
    "duration": 15,
    "start_time": "2024-10-08T19:48:16.848Z"
   },
   {
    "duration": 7,
    "start_time": "2024-10-08T19:48:16.864Z"
   },
   {
    "duration": 33,
    "start_time": "2024-10-08T19:48:16.872Z"
   },
   {
    "duration": 13,
    "start_time": "2024-10-08T19:48:16.907Z"
   },
   {
    "duration": 5,
    "start_time": "2024-10-08T19:48:16.921Z"
   },
   {
    "duration": 10,
    "start_time": "2024-10-08T19:48:16.929Z"
   },
   {
    "duration": 14,
    "start_time": "2024-10-08T19:48:16.941Z"
   },
   {
    "duration": 8,
    "start_time": "2024-10-08T19:48:16.957Z"
   },
   {
    "duration": 8,
    "start_time": "2024-10-08T19:48:16.967Z"
   },
   {
    "duration": 417,
    "start_time": "2024-10-08T19:48:16.977Z"
   },
   {
    "duration": 10,
    "start_time": "2024-10-08T19:48:17.396Z"
   },
   {
    "duration": 43,
    "start_time": "2024-10-08T19:48:17.408Z"
   },
   {
    "duration": 6,
    "start_time": "2024-10-08T19:48:17.453Z"
   },
   {
    "duration": 159,
    "start_time": "2024-10-08T19:48:17.460Z"
   },
   {
    "duration": 213,
    "start_time": "2024-10-08T19:48:17.621Z"
   },
   {
    "duration": 132,
    "start_time": "2024-10-08T19:48:17.836Z"
   },
   {
    "duration": 9,
    "start_time": "2024-10-08T19:48:17.970Z"
   },
   {
    "duration": 143,
    "start_time": "2024-10-08T19:48:17.981Z"
   },
   {
    "duration": 9,
    "start_time": "2024-10-08T19:48:18.125Z"
   },
   {
    "duration": 49,
    "start_time": "2024-10-08T19:48:18.135Z"
   },
   {
    "duration": 34,
    "start_time": "2024-10-08T19:48:18.186Z"
   },
   {
    "duration": 3,
    "start_time": "2024-10-08T19:48:18.221Z"
   },
   {
    "duration": 14,
    "start_time": "2024-10-08T19:48:18.226Z"
   },
   {
    "duration": 391,
    "start_time": "2024-10-08T19:48:18.243Z"
   },
   {
    "duration": 419,
    "start_time": "2024-10-08T19:48:18.635Z"
   },
   {
    "duration": 993,
    "start_time": "2024-10-08T19:48:19.056Z"
   },
   {
    "duration": 4,
    "start_time": "2024-10-08T19:48:20.051Z"
   },
   {
    "duration": 69,
    "start_time": "2024-10-08T19:48:20.056Z"
   },
   {
    "duration": 241,
    "start_time": "2024-10-08T19:48:20.127Z"
   },
   {
    "duration": 6,
    "start_time": "2024-10-08T19:48:20.370Z"
   },
   {
    "duration": 5,
    "start_time": "2024-10-08T19:48:20.378Z"
   },
   {
    "duration": 28,
    "start_time": "2024-10-08T19:48:20.385Z"
   },
   {
    "duration": 1235,
    "start_time": "2024-10-09T14:21:32.713Z"
   },
   {
    "duration": 16,
    "start_time": "2024-10-09T14:21:33.950Z"
   },
   {
    "duration": 56,
    "start_time": "2024-10-09T14:21:33.968Z"
   },
   {
    "duration": 9,
    "start_time": "2024-10-09T14:21:34.026Z"
   },
   {
    "duration": 29,
    "start_time": "2024-10-09T14:21:34.037Z"
   },
   {
    "duration": 23,
    "start_time": "2024-10-09T14:21:34.067Z"
   },
   {
    "duration": 22,
    "start_time": "2024-10-09T14:21:34.092Z"
   },
   {
    "duration": 14,
    "start_time": "2024-10-09T14:21:34.116Z"
   },
   {
    "duration": 11,
    "start_time": "2024-10-09T14:21:34.131Z"
   },
   {
    "duration": 18,
    "start_time": "2024-10-09T14:21:34.143Z"
   },
   {
    "duration": 20,
    "start_time": "2024-10-09T14:21:34.163Z"
   },
   {
    "duration": 7,
    "start_time": "2024-10-09T14:21:34.185Z"
   },
   {
    "duration": 24,
    "start_time": "2024-10-09T14:21:34.194Z"
   },
   {
    "duration": 634,
    "start_time": "2024-10-09T14:21:34.221Z"
   },
   {
    "duration": 6,
    "start_time": "2024-10-09T14:21:34.857Z"
   },
   {
    "duration": 18,
    "start_time": "2024-10-09T14:21:34.865Z"
   },
   {
    "duration": 6,
    "start_time": "2024-10-09T14:21:34.885Z"
   },
   {
    "duration": 302,
    "start_time": "2024-10-09T14:21:34.892Z"
   },
   {
    "duration": 1113,
    "start_time": "2024-10-09T14:22:22.409Z"
   },
   {
    "duration": 18,
    "start_time": "2024-10-09T14:22:23.524Z"
   },
   {
    "duration": 13,
    "start_time": "2024-10-09T14:22:23.543Z"
   },
   {
    "duration": 21,
    "start_time": "2024-10-09T14:22:23.557Z"
   },
   {
    "duration": 29,
    "start_time": "2024-10-09T14:22:23.580Z"
   },
   {
    "duration": 20,
    "start_time": "2024-10-09T14:22:23.612Z"
   },
   {
    "duration": 21,
    "start_time": "2024-10-09T14:22:23.634Z"
   },
   {
    "duration": 12,
    "start_time": "2024-10-09T14:22:23.657Z"
   },
   {
    "duration": 26,
    "start_time": "2024-10-09T14:22:23.671Z"
   },
   {
    "duration": 33,
    "start_time": "2024-10-09T14:22:23.698Z"
   },
   {
    "duration": 33,
    "start_time": "2024-10-09T14:22:23.732Z"
   },
   {
    "duration": 17,
    "start_time": "2024-10-09T14:22:23.767Z"
   },
   {
    "duration": 18,
    "start_time": "2024-10-09T14:22:23.785Z"
   },
   {
    "duration": 471,
    "start_time": "2024-10-09T14:22:23.807Z"
   },
   {
    "duration": 5,
    "start_time": "2024-10-09T14:22:24.280Z"
   },
   {
    "duration": 12,
    "start_time": "2024-10-09T14:22:24.287Z"
   },
   {
    "duration": 61,
    "start_time": "2024-10-09T14:22:24.301Z"
   },
   {
    "duration": 336,
    "start_time": "2024-10-09T14:22:24.363Z"
   },
   {
    "duration": 562,
    "start_time": "2024-10-09T14:22:24.701Z"
   },
   {
    "duration": 233,
    "start_time": "2024-10-09T14:22:25.264Z"
   },
   {
    "duration": 61,
    "start_time": "2024-10-09T14:22:25.499Z"
   },
   {
    "duration": 230,
    "start_time": "2024-10-09T14:22:25.561Z"
   },
   {
    "duration": 10,
    "start_time": "2024-10-09T14:22:25.793Z"
   },
   {
    "duration": 51,
    "start_time": "2024-10-09T14:22:25.805Z"
   },
   {
    "duration": 36,
    "start_time": "2024-10-09T14:22:25.857Z"
   },
   {
    "duration": 4,
    "start_time": "2024-10-09T14:22:25.895Z"
   },
   {
    "duration": 18,
    "start_time": "2024-10-09T14:22:25.900Z"
   },
   {
    "duration": 396,
    "start_time": "2024-10-09T14:22:25.920Z"
   },
   {
    "duration": 397,
    "start_time": "2024-10-09T14:22:26.317Z"
   },
   {
    "duration": 946,
    "start_time": "2024-10-09T14:22:26.716Z"
   },
   {
    "duration": 4,
    "start_time": "2024-10-09T14:22:27.663Z"
   },
   {
    "duration": 4,
    "start_time": "2024-10-09T14:22:27.669Z"
   },
   {
    "duration": 256,
    "start_time": "2024-10-09T14:22:27.675Z"
   },
   {
    "duration": 6,
    "start_time": "2024-10-09T14:22:27.932Z"
   },
   {
    "duration": 90,
    "start_time": "2024-10-09T14:22:27.955Z"
   },
   {
    "duration": 12,
    "start_time": "2024-10-09T14:22:28.046Z"
   },
   {
    "duration": 162,
    "start_time": "2024-10-09T14:22:38.762Z"
   },
   {
    "duration": 14,
    "start_time": "2024-10-09T14:26:32.796Z"
   },
   {
    "duration": 137,
    "start_time": "2024-10-09T14:26:42.772Z"
   }
  ],
  "kernelspec": {
   "display_name": "Python 3 (ipykernel)",
   "language": "python",
   "name": "python3"
  },
  "language_info": {
   "codemirror_mode": {
    "name": "ipython",
    "version": 3
   },
   "file_extension": ".py",
   "mimetype": "text/x-python",
   "name": "python",
   "nbconvert_exporter": "python",
   "pygments_lexer": "ipython3",
   "version": "3.12.4"
  },
  "toc": {
   "base_numbering": 1,
   "nav_menu": {},
   "number_sections": true,
   "sideBar": true,
   "skip_h1_title": true,
   "title_cell": "Table of Contents",
   "title_sidebar": "Contents",
   "toc_cell": false,
   "toc_position": {
    "height": "calc(100% - 180px)",
    "left": "10px",
    "top": "150px",
    "width": "165px"
   },
   "toc_section_display": true,
   "toc_window_display": true
  }
 },
 "nbformat": 4,
 "nbformat_minor": 5
}
